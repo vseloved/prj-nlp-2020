{
 "cells": [
  {
   "cell_type": "code",
   "execution_count": null,
   "metadata": {},
   "outputs": [],
   "source": [
    "import json\n",
    "from dateutil.parser import parse as date_parse"
   ]
  },
  {
   "cell_type": "code",
   "execution_count": null,
   "metadata": {},
   "outputs": [],
   "source": [
    "with open('./validation_data.json') as f:\n",
    "    validation_data = json.load(f)\n",
    "with open('./result_data.json') as f:\n",
    "    results_data = json.load(f)"
   ]
  },
  {
   "cell_type": "code",
   "execution_count": 180,
   "metadata": {},
   "outputs": [],
   "source": [
    "def validate_result(expected, actual):\n",
    "    invalid_order = 0\n",
    "    false_positives = len(\n",
    "        [x['events'] for x in actual if x['date'] not in (y['date'] for y in expected)])\n",
    "    false_negatives = len(\n",
    "        [x['events'] for x in expected if x['date'] not in (y['date'] for y in actual)])\n",
    "    true_pos = 0\n",
    "\n",
    "    act_len = len(actual)\n",
    "\n",
    "    for i in range(act_len):\n",
    "        res = actual[i]\n",
    "        act_events = res['events']\n",
    "        act_date = res['date']\n",
    "\n",
    "        # validate correctness of date order\n",
    "        if i < act_len - 1:\n",
    "            curr_date = date_parse(act_date)\n",
    "            next_date = date_parse(actual[i + 1]['date'])\n",
    "            if curr_date > next_date:\n",
    "                invalid_order += 1\n",
    "\n",
    "        # check for false-positives, false-negatives & true-positives\n",
    "        exp_data = next((x for x in expected if x['date'] == act_date), None)\n",
    "        if exp_data:\n",
    "            exp_events = exp_data['events']\n",
    "            fp = len([x for x in act_events if x not in exp_events])\n",
    "            fn = len([x for x in exp_events if x not in act_events])\n",
    "            tp = len([x for x in exp_events if x in act_events])\n",
    "            false_positives += fp\n",
    "            false_negatives += fn\n",
    "            true_pos += tp\n",
    "\n",
    "        for act_ev in act_events:\n",
    "            t = [x['date'] for x in expected if act_ev in x['events']\n",
    "                 and act_date != x['date']]\n",
    "            false_negatives += len(t)\n",
    "\n",
    "    recall = round(true_pos/(true_pos + false_negatives), 2)\n",
    "    precision = round(true_pos/(true_pos + false_positives), 2)\n",
    "    correct_order = round((act_len - invalid_order)/act_len, 2)\n",
    "\n",
    "    return ({'recall': recall, 'precision': precision, 'correct_order': correct_order})"
   ]
  },
  {
   "cell_type": "code",
   "execution_count": 181,
   "metadata": {},
   "outputs": [
    {
     "name": "stdout",
     "output_type": "stream",
     "text": [
      "{'recall': 0.55, 'precision': 0.5, 'correct_order': 0.71}\n"
     ]
    }
   ],
   "source": [
    "res = validate_result(validation_data, results_data)\n",
    "print(res)"
   ]
  },
  {
   "cell_type": "code",
   "execution_count": null,
   "metadata": {},
   "outputs": [],
   "source": []
  }
 ],
 "metadata": {
  "kernelspec": {
   "display_name": "Python 3",
   "language": "python",
   "name": "python3"
  },
  "language_info": {
   "codemirror_mode": {
    "name": "ipython",
    "version": 3
   },
   "file_extension": ".py",
   "mimetype": "text/x-python",
   "name": "python",
   "nbconvert_exporter": "python",
   "pygments_lexer": "ipython3",
   "version": "3.7.1"
  }
 },
 "nbformat": 4,
 "nbformat_minor": 4
}
