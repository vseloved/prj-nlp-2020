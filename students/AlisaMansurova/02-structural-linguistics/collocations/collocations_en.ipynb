{
 "cells": [
  {
   "cell_type": "code",
   "execution_count": 5,
   "metadata": {},
   "outputs": [],
   "source": [
    "import en_core_web_md"
   ]
  },
  {
   "cell_type": "code",
   "execution_count": 6,
   "metadata": {},
   "outputs": [],
   "source": [
    "nlp = en_core_web_md.load()"
   ]
  },
  {
   "cell_type": "code",
   "execution_count": 11,
   "metadata": {},
   "outputs": [],
   "source": [
    "with open('../../../../tasks/02-structural-linguistics/data/blog2008.txt') as f:\n",
    "    corpus = f.readlines()"
   ]
  },
  {
   "cell_type": "code",
   "execution_count": 7,
   "metadata": {},
   "outputs": [],
   "source": [
    "syns_row = ['say', 'tell', 'speak', 'claim', 'communicate', 'state', 'talk', 'pronounce', 'enunciate', 'utter', 'verbalize']"
   ]
  },
  {
   "cell_type": "code",
   "execution_count": 8,
   "metadata": {},
   "outputs": [],
   "source": [
    "def find_all_adv_ly_rec(children):\n",
    "    for ch in children:\n",
    "        if ch.pos_ == 'ADV' and ch.text.endswith('ly'):\n",
    "            return ([ch.text.lower()] + find_all_adv_ly_rec(ch.children))\n",
    "    return []\n",
    "\n",
    "def find_ly_adv(doc):\n",
    "    for token in doc:\n",
    "        if token.pos_ == 'VERB' and token.lemma_ in syns_row:\n",
    "            res = find_all_adv_ly_rec(token.children)\n",
    "            if res:\n",
    "                return (token.lemma_, res)\n",
    "\n",
    "def order_advs(advs):\n",
    "    with_freq = {x: advs.count(x) for x in advs}\n",
    "    return sorted(with_freq.items(), key=lambda x: x[1], reverse=True)[:10]\n",
    "\n",
    "def print_result(res):\n",
    "    for verb in res.keys():\n",
    "        print(f'{verb}: {str(order_advs(res[verb]))[1:-1]}')"
   ]
  },
  {
   "cell_type": "code",
   "execution_count": 9,
   "metadata": {},
   "outputs": [],
   "source": [
    "def do_find(corpus):\n",
    "    res = {}\n",
    "    for sample in corpus:\n",
    "        doc = nlp(sample)\n",
    "        advs = find_ly_adv(doc)\n",
    "        if advs:\n",
    "            lemma, adv = advs\n",
    "            if res.get(lemma):\n",
    "                res[lemma] += adv\n",
    "            else:\n",
    "                res[lemma] = adv\n",
    "    print_result(res)\n",
    "\n",
    "\n",
    "def find_all_adv_debug(corpus, s, e):\n",
    "    do_find(corpus[s:e])\n",
    "\n",
    "\n",
    "def find_all_adv(corpus):\n",
    "    do_find(corpus)\n",
    "            "
   ]
  },
  {
   "cell_type": "code",
   "execution_count": 12,
   "metadata": {},
   "outputs": [
    {
     "name": "stdout",
     "output_type": "stream",
     "text": [
      "speak: ('overtly', 1), ('directly', 1)\n"
     ]
    }
   ],
   "source": [
    "find_all_adv_debug(corpus, 733, 735)"
   ]
  },
  {
   "cell_type": "code",
   "execution_count": null,
   "metadata": {},
   "outputs": [],
   "source": []
  },
  {
   "cell_type": "code",
   "execution_count": null,
   "metadata": {},
   "outputs": [],
   "source": []
  }
 ],
 "metadata": {
  "kernelspec": {
   "display_name": "Python 3",
   "language": "python",
   "name": "python3"
  },
  "language_info": {
   "codemirror_mode": {
    "name": "ipython",
    "version": 3
   },
   "file_extension": ".py",
   "mimetype": "text/x-python",
   "name": "python",
   "nbconvert_exporter": "python",
   "pygments_lexer": "ipython3",
   "version": "3.7.1"
  }
 },
 "nbformat": 4,
 "nbformat_minor": 4
}
