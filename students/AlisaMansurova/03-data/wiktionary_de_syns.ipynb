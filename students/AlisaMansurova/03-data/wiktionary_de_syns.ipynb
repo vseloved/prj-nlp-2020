{
 "cells": [
  {
   "cell_type": "code",
   "execution_count": null,
   "metadata": {},
   "outputs": [],
   "source": [
    "import xml.sax\n",
    "import re"
   ]
  },
  {
   "cell_type": "code",
   "execution_count": null,
   "metadata": {},
   "outputs": [],
   "source": [
    "data_file = '../../../../../dewiktionary-20200301-pages-meta-current.xml'"
   ]
  },
  {
   "cell_type": "code",
   "execution_count": null,
   "metadata": {
    "scrolled": false
   },
   "outputs": [],
   "source": [
    "def parse_syns(text):\n",
    "    syns = re.findall('(?<=\\\\[\\\\[)[\\\\w]+(?=\\\\]\\\\])', text)\n",
    "    return syns\n",
    "\n",
    "\n",
    "def append_result(res):\n",
    "    with open(res_file, 'a') as f:\n",
    "        f.write(res)\n",
    "        \n",
    "class SynsHandler(xml.sax.ContentHandler):\n",
    "    def __init__(self):\n",
    "        self.CurrentData = ''\n",
    "        self.word = ''\n",
    "        self.text = ''\n",
    "        self.res = ''\n",
    "        self.syn_section = False\n",
    "\n",
    "    def startElement(self, tag, attributes):\n",
    "        self.CurrentData = tag\n",
    "\n",
    "    def endElement(self, tag):\n",
    "        if self.CurrentData == 'text' and self.text:\n",
    "            syns = parse_syns(self.text)\n",
    "            if syns:\n",
    "                res = f'{self.word}: {syns}\\n'\n",
    "                if len(self.res) < 1000:\n",
    "                    self.res += res\n",
    "                else:\n",
    "                    print(self.word)\n",
    "                    append_result(self.res)\n",
    "                    self.res = ''\n",
    "\n",
    "        self.CurrentData = ''\n",
    "        self.text = ''\n",
    "\n",
    "    def characters(self, content):\n",
    "        if self.CurrentData == 'title':\n",
    "            self.word = content\n",
    "        elif self.CurrentData == 'text':\n",
    "            if content.startswith('{{Synonyme}}'):\n",
    "                self.syn_section = True\n",
    "            if content.startswith('{{') and 'Synonyme' not in content:\n",
    "                self.syn_section = False\n",
    "            if self.syn_section and 'Synonyme' not in content \\\n",
    "                    and content.strip():\n",
    "                self.text += content"
   ]
  },
  {
   "cell_type": "code",
   "execution_count": null,
   "metadata": {
    "scrolled": false
   },
   "outputs": [],
   "source": [
    "if (__name__ == '__main__'):\n",
    "    parser = xml.sax.make_parser()\n",
    "    parser.setFeature(xml.sax.handler.feature_namespaces, 0)\n",
    "    Handler = SynsHandler()\n",
    "    parser.setContentHandler(Handler)\n",
    "\n",
    "    parser.parse(data_file)"
   ]
  },
  {
   "cell_type": "code",
   "execution_count": null,
   "metadata": {},
   "outputs": [],
   "source": []
  }
 ],
 "metadata": {
  "kernelspec": {
   "display_name": "Python 3",
   "language": "python",
   "name": "python3"
  },
  "language_info": {
   "codemirror_mode": {
    "name": "ipython",
    "version": 3
   },
   "file_extension": ".py",
   "mimetype": "text/x-python",
   "name": "python",
   "nbconvert_exporter": "python",
   "pygments_lexer": "ipython3",
   "version": "3.7.1"
  }
 },
 "nbformat": 4,
 "nbformat_minor": 4
}
