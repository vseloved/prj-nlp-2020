{
 "cells": [
  {
   "cell_type": "code",
   "execution_count": 44,
   "metadata": {},
   "outputs": [],
   "source": [
    "from langdetect import detect\n",
    "import json\n",
    "from sklearn import tree\n",
    "from sklearn.model_selection import train_test_split, ShuffleSplit, cross_validate"
   ]
  },
  {
   "cell_type": "code",
   "execution_count": null,
   "metadata": {},
   "outputs": [],
   "source": [
    "with open('./rozetka.json') as f:\n",
    "    reviews = json.load(f)"
   ]
  },
  {
   "cell_type": "code",
   "execution_count": null,
   "metadata": {},
   "outputs": [],
   "source": [
    "all_reviews = [r for r in reviews if r and r['text'].strip()]"
   ]
  },
  {
   "cell_type": "code",
   "execution_count": 38,
   "metadata": {
    "scrolled": false
   },
   "outputs": [],
   "source": [
    "ukr_reviews = []\n",
    "for review in all_reviews:\n",
    "    text = review['text']\n",
    "    try:\n",
    "        lang = detect(text)\n",
    "        if lang == 'uk':\n",
    "            ukr_reviews.append(review)\n",
    "    except Exception as e:\n",
    "        pass"
   ]
  },
  {
   "cell_type": "code",
   "execution_count": 39,
   "metadata": {},
   "outputs": [],
   "source": [
    "with open('./rozetka_uk.json', 'w', encoding='utf-8') as f:\n",
    "    f.write(json.dumps(ukr_reviews, ensure_ascii=False))"
   ]
  },
  {
   "cell_type": "code",
   "execution_count": 42,
   "metadata": {},
   "outputs": [],
   "source": [
    "clf = tree.DecisionTreeClassifier()"
   ]
  },
  {
   "cell_type": "code",
   "execution_count": 45,
   "metadata": {},
   "outputs": [],
   "source": [
    "# data_train, data_test, target_train, target_test = train_test_split(ukr_reviews, test_size=0.2, random_state=42)"
   ]
  },
  {
   "cell_type": "code",
   "execution_count": 51,
   "metadata": {},
   "outputs": [],
   "source": [
    "# 3- pos, 2 - neut, 1 - neg, 0 - none\n",
    "def define_sent(data):\n",
    "    sent = []\n",
    "    for d in data:\n",
    "        rating = d['rating']\n",
    "        if not rating:\n",
    "            sent.append(0)\n",
    "        elif rating >= 4:\n",
    "            sent.append(3)\n",
    "        elif rating == 3:\n",
    "            sent.append(2)\n",
    "        else:\n",
    "            sent.append(1)\n",
    "    return sent"
   ]
  },
  {
   "cell_type": "code",
   "execution_count": 52,
   "metadata": {
    "scrolled": false
   },
   "outputs": [],
   "source": [
    "all_sent = define_sent(ukr_reviews)"
   ]
  },
  {
   "cell_type": "code",
   "execution_count": null,
   "metadata": {},
   "outputs": [],
   "source": []
  }
 ],
 "metadata": {
  "kernelspec": {
   "display_name": "Python 3",
   "language": "python",
   "name": "python3"
  },
  "language_info": {
   "codemirror_mode": {
    "name": "ipython",
    "version": 3
   },
   "file_extension": ".py",
   "mimetype": "text/x-python",
   "name": "python",
   "nbconvert_exporter": "python",
   "pygments_lexer": "ipython3",
   "version": "3.7.1"
  }
 },
 "nbformat": 4,
 "nbformat_minor": 4
}
