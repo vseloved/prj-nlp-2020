{
 "cells": [
  {
   "cell_type": "code",
   "execution_count": 545,
   "metadata": {},
   "outputs": [
    {
     "data": {
      "text/html": [
       "<style>.container { width:90% !important; }</style>"
      ],
      "text/plain": [
       "<IPython.core.display.HTML object>"
      ]
     },
     "metadata": {},
     "output_type": "display_data"
    }
   ],
   "source": [
    "import pandas as pd\n",
    "from IPython.core.display import display, HTML\n",
    "display(HTML(\"<style>.container { width:90% !important; }</style>\"))\n",
    "from difflib import SequenceMatcher "
   ]
  },
  {
   "cell_type": "code",
   "execution_count": 259,
   "metadata": {},
   "outputs": [
    {
     "data": {
      "text/plain": [
       "'S Keeping the Secret of Genetic Testing\\n\\nS What is genetic risk ?\\n\\nS Genetic risk refers more to your chance of inheriting a disorder or disease .\\nA 3 4|||ArtOrDet||||||REQUIRED|||-NONE-|||0\\n\\nS People get certain disease because of genetic changes .\\nA 3 4|||Nn|||diseases|||REQUIRED|||-NONE-|||0\\n\\nS How much a genetic change tells us about your chance of developing a disorder is not always clear .\\n\\nS If your genetic results indicate that you have gene changes associated with an increased risk of heart disease , it does not mean that you definitely will develop heart disease .\\nA -1 -1|||noop|||-NONE-|||REQUIRED|||-NONE-|||0\\nA 25 27|||WOadv|||will definitely|||REQUIRED|||-NONE-|||1\\n\\nS The opposite is also true .\\n\\nS If your genetic results show that you do not have changes associated with an increased risk of heart disease , it is still possible that you develop heart disease .\\nA -1 -1|||noop|||-NONE-|||REQUIRED|||-NONE-|||0\\nA 26 26|||Vt|||will|||REQUIRED|||-NONE-|||1\\n\\nS However for some ra'"
      ]
     },
     "execution_count": 259,
     "metadata": {},
     "output_type": "execute_result"
    }
   ],
   "source": [
    "filepath = \"/Users/liudmylaslava/Downloads/test.txt\"\n",
    "with open(filepath) as fp:\n",
    "    content = fp.read()\n",
    "content[:1000]"
   ]
  },
  {
   "cell_type": "code",
   "execution_count": 471,
   "metadata": {},
   "outputs": [],
   "source": [
    "text = content.split('\\n\\n')\n",
    "data = []\n",
    "for t in text:\n",
    "    if '|||' in t:\n",
    "        chunk = t.split('\\n')\n",
    "        for c in chunk[1:]:\n",
    "            tr = c+'|||'+chunk[0]\n",
    "            res = tr.split('|||')\n",
    "            data.append(res)\n",
    "df = pd.DataFrame(data = data, columns=['position',  'error_type', 'edit', 'req', 'no', 'ann_id', 'sent'])"
   ]
  },
  {
   "cell_type": "code",
   "execution_count": 472,
   "metadata": {},
   "outputs": [
    {
     "data": {
      "text/html": [
       "<div>\n",
       "<style scoped>\n",
       "    .dataframe tbody tr th:only-of-type {\n",
       "        vertical-align: middle;\n",
       "    }\n",
       "\n",
       "    .dataframe tbody tr th {\n",
       "        vertical-align: top;\n",
       "    }\n",
       "\n",
       "    .dataframe thead th {\n",
       "        text-align: right;\n",
       "    }\n",
       "</style>\n",
       "<table border=\"1\" class=\"dataframe\">\n",
       "  <thead>\n",
       "    <tr style=\"text-align: right;\">\n",
       "      <th></th>\n",
       "      <th>position</th>\n",
       "      <th>error_type</th>\n",
       "      <th>edit</th>\n",
       "      <th>req</th>\n",
       "      <th>no</th>\n",
       "      <th>ann_id</th>\n",
       "      <th>sent</th>\n",
       "    </tr>\n",
       "  </thead>\n",
       "  <tbody>\n",
       "    <tr>\n",
       "      <th>0</th>\n",
       "      <td>A 3 4</td>\n",
       "      <td>ArtOrDet</td>\n",
       "      <td></td>\n",
       "      <td>REQUIRED</td>\n",
       "      <td>-NONE-</td>\n",
       "      <td>0</td>\n",
       "      <td>S Genetic risk refers more to your chance of i...</td>\n",
       "    </tr>\n",
       "    <tr>\n",
       "      <th>1</th>\n",
       "      <td>A 3 4</td>\n",
       "      <td>Nn</td>\n",
       "      <td>diseases</td>\n",
       "      <td>REQUIRED</td>\n",
       "      <td>-NONE-</td>\n",
       "      <td>0</td>\n",
       "      <td>S People get certain disease because of geneti...</td>\n",
       "    </tr>\n",
       "    <tr>\n",
       "      <th>2</th>\n",
       "      <td>A -1 -1</td>\n",
       "      <td>noop</td>\n",
       "      <td>-NONE-</td>\n",
       "      <td>REQUIRED</td>\n",
       "      <td>-NONE-</td>\n",
       "      <td>0</td>\n",
       "      <td>S If your genetic results indicate that you ha...</td>\n",
       "    </tr>\n",
       "    <tr>\n",
       "      <th>3</th>\n",
       "      <td>A 25 27</td>\n",
       "      <td>WOadv</td>\n",
       "      <td>will definitely</td>\n",
       "      <td>REQUIRED</td>\n",
       "      <td>-NONE-</td>\n",
       "      <td>1</td>\n",
       "      <td>S If your genetic results indicate that you ha...</td>\n",
       "    </tr>\n",
       "    <tr>\n",
       "      <th>4</th>\n",
       "      <td>A -1 -1</td>\n",
       "      <td>noop</td>\n",
       "      <td>-NONE-</td>\n",
       "      <td>REQUIRED</td>\n",
       "      <td>-NONE-</td>\n",
       "      <td>0</td>\n",
       "      <td>S If your genetic results show that you do not...</td>\n",
       "    </tr>\n",
       "  </tbody>\n",
       "</table>\n",
       "</div>"
      ],
      "text/plain": [
       "  position error_type             edit       req      no ann_id  \\\n",
       "0    A 3 4   ArtOrDet                   REQUIRED  -NONE-      0   \n",
       "1    A 3 4         Nn         diseases  REQUIRED  -NONE-      0   \n",
       "2  A -1 -1       noop           -NONE-  REQUIRED  -NONE-      0   \n",
       "3  A 25 27      WOadv  will definitely  REQUIRED  -NONE-      1   \n",
       "4  A -1 -1       noop           -NONE-  REQUIRED  -NONE-      0   \n",
       "\n",
       "                                                sent  \n",
       "0  S Genetic risk refers more to your chance of i...  \n",
       "1  S People get certain disease because of geneti...  \n",
       "2  S If your genetic results indicate that you ha...  \n",
       "3  S If your genetic results indicate that you ha...  \n",
       "4  S If your genetic results show that you do not...  "
      ]
     },
     "execution_count": 472,
     "metadata": {},
     "output_type": "execute_result"
    }
   ],
   "source": [
    "df.head()"
   ]
  },
  {
   "cell_type": "code",
   "execution_count": 473,
   "metadata": {},
   "outputs": [
    {
     "name": "stdout",
     "output_type": "stream",
     "text": [
      "Total number of qustions for 1th and 2th ann: 1128\n",
      "Cases where they agreed: 213.6834596695644\n"
     ]
    }
   ],
   "source": [
    "# Delete a strange row from df\n",
    "df = df.loc[~df['error_type'].str.startswith('S Social media')]\n",
    "# Start with 0th and 1th annotators\n",
    "df_chunk = df[df['ann_id'].isin(['1','0'])]\n",
    "# how many annotations we have for each sentence \n",
    "max_ann = df_chunk.groupby(['sent', 'ann_id']).size().reset_index(name='counts').groupby(['sent'])['counts'].max().reset_index(name='max_ann')\n",
    "df_chunk = pd.merge(df_chunk, max_ann, on='sent', how='left')\n",
    "# Calculate total number of questions with 0th and 1th annotators\n",
    "total = df_chunk.groupby(['sent'], as_index=False)['ann_id'].nunique().value_counts()[2]\n",
    "print(f'Total number of qustions for 1th and 2th ann: {total}')\n",
    "# cases where annotators agreed\n",
    "full = df_chunk[df_chunk[['position', 'edit', 'sent']].duplicated(keep='first')]\n",
    "result = sum(1/full['max_ann'])\n",
    "print(f'Cases where they agreed: {result}')"
   ]
  },
  {
   "cell_type": "code",
   "execution_count": 367,
   "metadata": {},
   "outputs": [
    {
     "data": {
      "text/html": [
       "<div>\n",
       "<style scoped>\n",
       "    .dataframe tbody tr th:only-of-type {\n",
       "        vertical-align: middle;\n",
       "    }\n",
       "\n",
       "    .dataframe tbody tr th {\n",
       "        vertical-align: top;\n",
       "    }\n",
       "\n",
       "    .dataframe thead th {\n",
       "        text-align: right;\n",
       "    }\n",
       "</style>\n",
       "<table border=\"1\" class=\"dataframe\">\n",
       "  <thead>\n",
       "    <tr style=\"text-align: right;\">\n",
       "      <th></th>\n",
       "      <th>sent</th>\n",
       "      <th>position</th>\n",
       "      <th>max_ann</th>\n",
       "      <th>edit</th>\n",
       "      <th>first</th>\n",
       "      <th>second</th>\n",
       "    </tr>\n",
       "  </thead>\n",
       "  <tbody>\n",
       "    <tr>\n",
       "      <th>0</th>\n",
       "      <td>S A research shows that people will unconsciou...</td>\n",
       "      <td>A 8 11</td>\n",
       "      <td>5</td>\n",
       "      <td>,their</td>\n",
       "      <td></td>\n",
       "      <td>their</td>\n",
       "    </tr>\n",
       "    <tr>\n",
       "      <th>1</th>\n",
       "      <td>S A study of New York University in 2010 shown...</td>\n",
       "      <td>A 8 9</td>\n",
       "      <td>4</td>\n",
       "      <td>shows,showed</td>\n",
       "      <td>shows</td>\n",
       "      <td>showed</td>\n",
       "    </tr>\n",
       "    <tr>\n",
       "      <th>2</th>\n",
       "      <td>S Above all , life is more important than secr...</td>\n",
       "      <td>A 8 9</td>\n",
       "      <td>1</td>\n",
       "      <td>secrets,secrecy</td>\n",
       "      <td>secrets</td>\n",
       "      <td>secrecy</td>\n",
       "    </tr>\n",
       "    <tr>\n",
       "      <th>3</th>\n",
       "      <td>S Advantages : Social media sites have greatly...</td>\n",
       "      <td>A 7 8</td>\n",
       "      <td>2</td>\n",
       "      <td>eased,facilitated</td>\n",
       "      <td>eased</td>\n",
       "      <td>facilitated</td>\n",
       "    </tr>\n",
       "    <tr>\n",
       "      <th>4</th>\n",
       "      <td>S After realizing the he or she is tshe carrie...</td>\n",
       "      <td>A 1 2</td>\n",
       "      <td>3</td>\n",
       "      <td>discovering,he or she realizes</td>\n",
       "      <td>discovering</td>\n",
       "      <td>he or she realizes</td>\n",
       "    </tr>\n",
       "  </tbody>\n",
       "</table>\n",
       "</div>"
      ],
      "text/plain": [
       "                                                sent position  max_ann  \\\n",
       "0  S A research shows that people will unconsciou...   A 8 11        5   \n",
       "1  S A study of New York University in 2010 shown...    A 8 9        4   \n",
       "2  S Above all , life is more important than secr...    A 8 9        1   \n",
       "3  S Advantages : Social media sites have greatly...    A 7 8        2   \n",
       "4  S After realizing the he or she is tshe carrie...    A 1 2        3   \n",
       "\n",
       "                             edit        first              second  \n",
       "0                          ,their                            their  \n",
       "1                    shows,showed        shows              showed  \n",
       "2                 secrets,secrecy      secrets             secrecy  \n",
       "3               eased,facilitated        eased         facilitated  \n",
       "4  discovering,he or she realizes  discovering  he or she realizes  "
      ]
     },
     "execution_count": 367,
     "metadata": {},
     "output_type": "execute_result"
    }
   ],
   "source": [
    "# Deal with cases where position the same but edition is not\n",
    "rest = df_chunk[~df_chunk[['position', 'edit', 'sent']].duplicated(keep=False)]\n",
    "part = rest[rest[['position', 'sent']].duplicated(keep=False)]\n",
    "p = part.groupby(['sent','position', 'max_ann'])['edit'].apply(lambda x: ','.join(x)).reset_index()\n",
    "# split edit column into two columns \n",
    "p[['first', 'second']] = p['edit'].str.split(',', n=1, expand=True)\n",
    "p.head()"
   ]
  },
  {
   "cell_type": "code",
   "execution_count": 315,
   "metadata": {},
   "outputs": [],
   "source": [
    "def longestSubstring(str1,str2):\n",
    "    \n",
    "    seqMatch = SequenceMatcher(None,str1,str2) \n",
    "  \n",
    "    # find match of longest sub-string \n",
    "    match = seqMatch.find_longest_match(0, len(str1), 0, len(str2))\n",
    "    # substring normalazing by dividing by longer string\n",
    "    if len(str1)>=len(str2):\n",
    "        res = match.size/len(str1)\n",
    "    else:\n",
    "        res = match.size/len(str2)\n",
    "  \n",
    "    return res"
   ]
  },
  {
   "cell_type": "code",
   "execution_count": 368,
   "metadata": {},
   "outputs": [
    {
     "data": {
      "text/html": [
       "<div>\n",
       "<style scoped>\n",
       "    .dataframe tbody tr th:only-of-type {\n",
       "        vertical-align: middle;\n",
       "    }\n",
       "\n",
       "    .dataframe tbody tr th {\n",
       "        vertical-align: top;\n",
       "    }\n",
       "\n",
       "    .dataframe thead th {\n",
       "        text-align: right;\n",
       "    }\n",
       "</style>\n",
       "<table border=\"1\" class=\"dataframe\">\n",
       "  <thead>\n",
       "    <tr style=\"text-align: right;\">\n",
       "      <th></th>\n",
       "      <th>sent</th>\n",
       "      <th>position</th>\n",
       "      <th>max_ann</th>\n",
       "      <th>edit</th>\n",
       "      <th>first</th>\n",
       "      <th>second</th>\n",
       "      <th>sim</th>\n",
       "    </tr>\n",
       "  </thead>\n",
       "  <tbody>\n",
       "    <tr>\n",
       "      <th>0</th>\n",
       "      <td>S A research shows that people will unconsciou...</td>\n",
       "      <td>A 8 11</td>\n",
       "      <td>5</td>\n",
       "      <td>,their</td>\n",
       "      <td></td>\n",
       "      <td>their</td>\n",
       "      <td>0.000000</td>\n",
       "    </tr>\n",
       "    <tr>\n",
       "      <th>1</th>\n",
       "      <td>S A study of New York University in 2010 shown...</td>\n",
       "      <td>A 8 9</td>\n",
       "      <td>4</td>\n",
       "      <td>shows,showed</td>\n",
       "      <td>shows</td>\n",
       "      <td>showed</td>\n",
       "      <td>0.666667</td>\n",
       "    </tr>\n",
       "    <tr>\n",
       "      <th>2</th>\n",
       "      <td>S Above all , life is more important than secr...</td>\n",
       "      <td>A 8 9</td>\n",
       "      <td>1</td>\n",
       "      <td>secrets,secrecy</td>\n",
       "      <td>secrets</td>\n",
       "      <td>secrecy</td>\n",
       "      <td>0.714286</td>\n",
       "    </tr>\n",
       "    <tr>\n",
       "      <th>3</th>\n",
       "      <td>S Advantages : Social media sites have greatly...</td>\n",
       "      <td>A 7 8</td>\n",
       "      <td>2</td>\n",
       "      <td>eased,facilitated</td>\n",
       "      <td>eased</td>\n",
       "      <td>facilitated</td>\n",
       "      <td>0.181818</td>\n",
       "    </tr>\n",
       "    <tr>\n",
       "      <th>4</th>\n",
       "      <td>S After realizing the he or she is tshe carrie...</td>\n",
       "      <td>A 1 2</td>\n",
       "      <td>3</td>\n",
       "      <td>discovering,he or she realizes</td>\n",
       "      <td>discovering</td>\n",
       "      <td>he or she realizes</td>\n",
       "      <td>0.055556</td>\n",
       "    </tr>\n",
       "  </tbody>\n",
       "</table>\n",
       "</div>"
      ],
      "text/plain": [
       "                                                sent position  max_ann  \\\n",
       "0  S A research shows that people will unconsciou...   A 8 11        5   \n",
       "1  S A study of New York University in 2010 shown...    A 8 9        4   \n",
       "2  S Above all , life is more important than secr...    A 8 9        1   \n",
       "3  S Advantages : Social media sites have greatly...    A 7 8        2   \n",
       "4  S After realizing the he or she is tshe carrie...    A 1 2        3   \n",
       "\n",
       "                             edit        first              second       sim  \n",
       "0                          ,their                            their  0.000000  \n",
       "1                    shows,showed        shows              showed  0.666667  \n",
       "2                 secrets,secrecy      secrets             secrecy  0.714286  \n",
       "3               eased,facilitated        eased         facilitated  0.181818  \n",
       "4  discovering,he or she realizes  discovering  he or she realizes  0.055556  "
      ]
     },
     "execution_count": 368,
     "metadata": {},
     "output_type": "execute_result"
    }
   ],
   "source": [
    "p['sim'] = p.loc[:, [\"first\",'second']].apply(lambda x: longestSubstring(*x), axis=1)\n",
    "p.head()"
   ]
  },
  {
   "cell_type": "code",
   "execution_count": 372,
   "metadata": {},
   "outputs": [
    {
     "name": "stdout",
     "output_type": "stream",
     "text": [
      "Annotator agreement between 0th and 1th = 0.20664969207929745\n"
     ]
    }
   ],
   "source": [
    "part_res = sum(p['sim']/p['max_ann'])\n",
    "final = (result+part_res)/total\n",
    "print(f\"Annotator agreement between 0th and 1th = {final}\")"
   ]
  },
  {
   "cell_type": "code",
   "execution_count": 547,
   "metadata": {},
   "outputs": [],
   "source": [
    "def inner_agreement(str1, str2, df):\n",
    "    df = df.loc[~df['error_type'].str.startswith('S Social media')]\n",
    "    df_chunk = df[df['ann_id'].isin([str1, str2])]\n",
    "    if len(df_chunk)==0:\n",
    "        final = 'no'\n",
    "    else:\n",
    "        max_ann = df_chunk.groupby(['sent', 'ann_id']).size().reset_index(name='counts').groupby(['sent'])['counts'].max().reset_index(name='max_ann')\n",
    "        df_chunk = pd.merge(df_chunk, max_ann, on='sent', how='left')\n",
    "        if df_chunk.groupby(['sent'], as_index=False)['ann_id'].nunique().max()==1:\n",
    "            final = 'no'\n",
    "        else:\n",
    "            total = df_chunk.groupby(['sent'], as_index=False)['ann_id'].nunique().value_counts()[2]\n",
    "            full = df_chunk[df_chunk[['position', 'edit', 'sent']].duplicated(keep='first')]\n",
    "            result = sum(1/full['max_ann'])\n",
    "            rest = df_chunk[~df_chunk[['position', 'edit', 'sent']].duplicated(keep=False)]\n",
    "            part = rest[rest[['position', 'sent']].duplicated(keep=False)]\n",
    "            if len(part)!=0:\n",
    "                p = part.groupby(['sent','position', 'max_ann'])['edit'].apply(lambda x: ','.join(x)).reset_index()\n",
    "                p[['first', 'second']] = p['edit'].str.split(',', n=1, expand=True)\n",
    "                p['sim'] = p.loc[:, [\"first\",'second']].apply(lambda x: longestSubstring(*x), axis=1)\n",
    "                part_res = sum(p['sim']/p['max_ann'])\n",
    "            else:\n",
    "                part_res = 0\n",
    "            final = (result+part_res)/total\n",
    "    return final"
   ]
  },
  {
   "cell_type": "code",
   "execution_count": 523,
   "metadata": {},
   "outputs": [
    {
     "name": "stdout",
     "output_type": "stream",
     "text": [
      "For pair: ['0', '1'] argeement = 0.20664969207929745\n",
      "For pair: ['0', '2'] argeement = 0.2976265796241484\n",
      "For pair: ['0', '3'] argeement = 0.37698635083667476\n",
      "For pair: ['0', '4'] argeement = 0.5554843304843307\n",
      "For pair: ['1', '2'] argeement = 0.36711648458266993\n",
      "For pair: ['1', '3'] argeement = 0.4476024335695322\n",
      "For pair: ['1', '4'] argeement = 0.4597222222222223\n",
      "For pair: ['2', '3'] argeement = 0.4142490199693589\n",
      "For pair: ['2', '4'] argeement = 0.39014041514041514\n",
      "For pair: ['3', '4'] argeement = 0.42685185185185204\n",
      "Total inter annotator agreement = 0.3942429380360502\n"
     ]
    }
   ],
   "source": [
    "# В цілому досить низька згода анотувальників\n",
    "# Багато виправлень не збігається, бо у кожного анотувальника було своє уявлення як позначати виправлення \n",
    "\n",
    "# do the same for all pairs \n",
    "annot = [str(i) for i in list(range(0, 5))]\n",
    "pairs = [[annot[a1], annot[a2]] for a1 in range(len(annot)) for a2 in range(a1+1,len(annot))]\n",
    "res = 0\n",
    "for pair in pairs:\n",
    "    print(f'For pair: {pair} argeement = {inner_agreement(pair[0], pair[1], df)}')\n",
    "    res += inner_agreement(pair[0], pair[1], df)\n",
    "print(f'Total inter annotator agreement = {res/10}')"
   ]
  },
  {
   "cell_type": "code",
   "execution_count": null,
   "metadata": {},
   "outputs": [],
   "source": [
    "############################################"
   ]
  },
  {
   "cell_type": "code",
   "execution_count": 549,
   "metadata": {},
   "outputs": [
    {
     "name": "stdout",
     "output_type": "stream",
     "text": [
      "Total inter annotator agreement for error type: ArtOrDet = 0.5996393012215809\n",
      "Total inter annotator agreement for error type: Nn = 0.8888407551401251\n",
      "Total inter annotator agreement for error type: WOadv = 0.9166666666666666\n",
      "Total inter annotator agreement for error type: Vt = 0.8469644354003959\n",
      "Total inter annotator agreement for error type: Trans = 0.7121396705146704\n",
      "Total inter annotator agreement for error type: Mec = 0.8142847857434511\n",
      "Total inter annotator agreement for error type: Prep = 0.7503576080016177\n",
      "Total inter annotator agreement for error type: Rloc- = 0.7869312169312169\n",
      "Total inter annotator agreement for error type: Wci = 0.6852135154503123\n",
      "Total inter annotator agreement for error type: Wform = 0.7907510288065843\n",
      "Total inter annotator agreement for error type: Vform = 0.8281413847590319\n",
      "Total inter annotator agreement for error type: Vm = 0.5977272727272728\n",
      "Total inter annotator agreement for error type: Others = 0.832096786957898\n",
      "Total inter annotator agreement for error type: Ssub = 0.8186291486291486\n",
      "Total inter annotator agreement for error type: V0 = 0.9337121212121212\n",
      "Total inter annotator agreement for error type: WOinc = 0.8440096402305705\n",
      "Total inter annotator agreement for error type: Npos = 0.775\n",
      "Total inter annotator agreement for error type: Spar = 1.0\n",
      "Total inter annotator agreement for error type: Pref = 0.7534544159544159\n",
      "Total inter annotator agreement for error type: SVA = 0.8556748238783835\n",
      "Total inter annotator agreement for error type: Srun = 0.7291666666666666\n",
      "Total inter annotator agreement for error type: Pform = 0.8854545454545455\n",
      "Total inter annotator agreement for error type: Um = 0.6666666666666667\n",
      "Total inter annotator agreement for error type: Sfrag = 1.0\n",
      "Total inter annotator agreement for error type: Smod = 1.0\n",
      "Total inter annotator agreement for error type: Wtone = 0.6666666666666666\n",
      "Total inter annotator agreement for error type: Wa = 1.0\n"
     ]
    }
   ],
   "source": [
    "error_types = df['error_type'].unique().tolist()\n",
    "for error in error_types:\n",
    "        df_er = df[df['error_type']==error]\n",
    "        result = []\n",
    "        for pair in pairs:\n",
    "            res = inner_agreement(pair[0], pair[1], df_er)\n",
    "            result.append(res)\n",
    "            agr = [r for r in result if not r=='no']\n",
    "        if agr:\n",
    "            print(f'Total inter annotator agreement for error type: {error} = {sum(agr)/len(agr)}')\n",
    "                "
   ]
  },
  {
   "cell_type": "code",
   "execution_count": null,
   "metadata": {},
   "outputs": [],
   "source": []
  }
 ],
 "metadata": {
  "kernelspec": {
   "display_name": "Python 3",
   "language": "python",
   "name": "python3"
  },
  "language_info": {
   "codemirror_mode": {
    "name": "ipython",
    "version": 3
   },
   "file_extension": ".py",
   "mimetype": "text/x-python",
   "name": "python",
   "nbconvert_exporter": "python",
   "pygments_lexer": "ipython3",
   "version": "3.7.6"
  }
 },
 "nbformat": 4,
 "nbformat_minor": 2
}
