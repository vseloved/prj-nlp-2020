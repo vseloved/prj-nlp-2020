{
 "cells": [
  {
   "cell_type": "code",
   "execution_count": 1,
   "metadata": {},
   "outputs": [],
   "source": [
    "import re\n",
    "import json"
   ]
  },
  {
   "cell_type": "code",
   "execution_count": 2,
   "metadata": {},
   "outputs": [],
   "source": [
    "def synonyms(text):\n",
    "    for c, line in enumerate(text.splitlines()):\n",
    "        if line=='==== {{S|synonymes}} ====':\n",
    "            text_=text.splitlines()[c+1:]\n",
    "            synonyms = []\n",
    "            for line in text_:\n",
    "                synonyms.append(line)\n",
    "                if line.startswith('='):\n",
    "                    break\n",
    "            syn = []\n",
    "            for syno in synonyms:\n",
    "                ree = re.findall('\\[[^\\[\\]]*\\]', syno)\n",
    "                for r in ree:\n",
    "                    r = r.replace('[','').replace(']','')\n",
    "                    if '|' in r:\n",
    "                        r=r.split('|')[1]\n",
    "                    syn.append(r)\n",
    "            return syn"
   ]
  },
  {
   "cell_type": "code",
   "execution_count": 3,
   "metadata": {
    "scrolled": false
   },
   "outputs": [],
   "source": [
    "import xml.sax\n",
    "\n",
    "class WikiHandler( xml.sax.ContentHandler ):\n",
    "    \n",
    "    def __init__(self):\n",
    "        self.page = False\n",
    "\n",
    "        self.text = None\n",
    "        self.title = None\n",
    "        \n",
    "        self.synonyms = {}\n",
    "        self.all_content = None\n",
    "        \n",
    "    \n",
    "    def startElement(self, tag, attributes):\n",
    "        if tag == \"page\":\n",
    "            self.page = True\n",
    "            \n",
    "        if self.page and tag in (\"title\", \"text\"):\n",
    "            self.all_content = []\n",
    "        else:\n",
    "            self.all_content = None\n",
    "\n",
    "    def endElement(self, tag):\n",
    "        if tag == \"page\":\n",
    "            self.page = False\n",
    "            self.all_content = None\n",
    "\n",
    "        if self.all_content is not None:\n",
    "            content = ''.join(self.all_content)\n",
    "            if tag == 'title':\n",
    "                self.title = content\n",
    "            elif tag == 'text':\n",
    "                self.text = content\n",
    "            self.all_content = None\n",
    "\n",
    "                \n",
    "        if self.title and self.text:\n",
    "            if self.text.startswith('== {{langue|fr}} =='):\n",
    "                self.synonyms[self.title] = synonyms(self.text)\n",
    "                if self.synonyms[self.title]:\n",
    "                    print(json.dumps({self.title: self.synonyms[self.title]}), file=self.file)\n",
    "        \n",
    "            self.title = None\n",
    "            self.text = None\n",
    "\n",
    "        \n",
    "    def characters(self, content):\n",
    "        if self.all_content is not None:\n",
    "            self.all_content.append(content)   "
   ]
  },
  {
   "cell_type": "code",
   "execution_count": 4,
   "metadata": {},
   "outputs": [],
   "source": [
    "parser = xml.sax.make_parser()\n",
    "parser.setFeature(xml.sax.handler.feature_namespaces, 0)\n",
    "Handler = WikiHandler()\n",
    "with open('synonyms.txt', 'w') as f:\n",
    "    Handler.file = f\n",
    "    parser.setContentHandler( Handler )\n",
    "\n",
    "\n",
    "    parser.parse(\"/Users/liudmylaslava/Downloads/frwiktionary-20200301-pages-meta-current.xml\")"
   ]
  },
  {
   "cell_type": "code",
   "execution_count": 5,
   "metadata": {},
   "outputs": [
    {
     "name": "stdout",
     "output_type": "stream",
     "text": [
      "   36463 synonyms.txt\r\n"
     ]
    }
   ],
   "source": [
    "!wc -l synonyms.txt"
   ]
  },
  {
   "cell_type": "code",
   "execution_count": null,
   "metadata": {},
   "outputs": [],
   "source": []
  }
 ],
 "metadata": {
  "kernelspec": {
   "display_name": "Python 3",
   "language": "python",
   "name": "python3"
  },
  "language_info": {
   "codemirror_mode": {
    "name": "ipython",
    "version": 3
   },
   "file_extension": ".py",
   "mimetype": "text/x-python",
   "name": "python",
   "nbconvert_exporter": "python",
   "pygments_lexer": "ipython3",
   "version": "3.7.7"
  }
 },
 "nbformat": 4,
 "nbformat_minor": 2
}
