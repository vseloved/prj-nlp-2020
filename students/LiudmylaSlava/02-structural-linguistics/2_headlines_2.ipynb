{
 "cells": [
  {
   "cell_type": "code",
   "execution_count": 2,
   "metadata": {},
   "outputs": [],
   "source": [
    "import spacy\n",
    "import pandas as pd\n",
    "import nltk\n",
    "from nltk.corpus import wordnet as wn\n",
    "from nltk.corpus import sentiwordnet as swn\n",
    "from nltk.stem import PorterStemmer\n",
    "from nltk.stem import WordNetLemmatizer\n",
    "from nltk import sent_tokenize, word_tokenize, pos_tag\n",
    "import en_core_web_md\n",
    "nlp = en_core_web_md.load()"
   ]
  },
  {
   "cell_type": "code",
   "execution_count": 3,
   "metadata": {},
   "outputs": [],
   "source": [
    "def penn_to_wn(tag):\n",
    "    \"\"\"\n",
    "    Convert between the PennTreebank tags to simple Wordnet tags\n",
    "    \"\"\"\n",
    "    if tag.startswith('J'):\n",
    "        return wn.ADJ\n",
    "    elif tag.startswith('N'):\n",
    "        return wn.NOUN\n",
    "    elif tag.startswith('R'):\n",
    "        return wn.ADV\n",
    "    elif tag.startswith('V'):\n",
    "        return wn.VERB\n",
    "    return None\n",
    "\n",
    "lemmatizer = WordNetLemmatizer()\n",
    "\n",
    "def get_sentiment(word,tag):\n",
    "    \"\"\" returns list of pos neg and objective score. But returns empty list if not present in senti wordnet. \"\"\"\n",
    "\n",
    "    wn_tag = penn_to_wn(tag)\n",
    "    if wn_tag not in (wn.NOUN, wn.ADJ, wn.ADV):\n",
    "        return []\n",
    "\n",
    "    lemma = lemmatizer.lemmatize(word, pos=wn_tag)\n",
    "    if not lemma:\n",
    "        return []\n",
    "\n",
    "    synsets = wn.synsets(word, pos=wn_tag)\n",
    "    if not synsets:\n",
    "        return []\n",
    "\n",
    "    # Take the first 5 senses and calculate arithmetical mean for both positive and negative values\n",
    "    synset = synsets[:5]\n",
    "    pos, neg = 0, 0\n",
    "    for syn in synset:\n",
    "        swn_synset = swn.senti_synset(syn.name())\n",
    "        pos += swn_synset.pos_score()\n",
    "        neg += swn_synset.neg_score()\n",
    "    pos_score = pos/len(synset)\n",
    "    neg_score = neg/len(synset)\n",
    "\n",
    "    return [pos_score, neg_score]"
   ]
  },
  {
   "cell_type": "code",
   "execution_count": 4,
   "metadata": {},
   "outputs": [],
   "source": [
    "def virus(text):\n",
    "    \"\"\" returns list of flags for viral title\"\"\"\n",
    "    entity, emotion, comparative = 0, 0, 0\n",
    "    tokens = nlp(text)\n",
    "    for ent in tokens.ents:\n",
    "        if ent.label_ in (['PERSON','ORG']):\n",
    "            entity = 1\n",
    "    words_data = text.split()\n",
    "    pos_val = nltk.pos_tag(words_data)\n",
    "    senti_val = [get_sentiment(x,y) for (x,y) in pos_val]\n",
    "    for s in senti_val:\n",
    "        for i in s:\n",
    "            if i>=0.5:\n",
    "                emotion = 1\n",
    "    for (x,y) in pos_val:\n",
    "        if y in (['JJR', 'JJS', 'RBR', 'RBS']): \n",
    "            comparative = 1\n",
    "    return [entity, emotion, comparative]"
   ]
  },
  {
   "cell_type": "code",
   "execution_count": 5,
   "metadata": {},
   "outputs": [],
   "source": [
    "filepath = \"../../../tasks/02-structural-linguistics/data/examiner-headlines.txt\"\n",
    "data = []\n",
    "with open(filepath) as fp:\n",
    "    for line in fp:\n",
    "        data.append(virus(line))"
   ]
  },
  {
   "cell_type": "code",
   "execution_count": 6,
   "metadata": {},
   "outputs": [
    {
     "name": "stdout",
     "output_type": "stream",
     "text": [
      "Кількість статей які мають 1 ознаку дорівнює 53.04 %\n",
      "Кількість статей які мають 2 ознаку дорівнює 9.8 %\n",
      "Кількість статей які мають 3 ознаку дорівнює 4.26 %\n"
     ]
    }
   ],
   "source": [
    "for k in range(3):\n",
    "    print(f'Кількість статей які мають {k+1} ознаку дорівнює {sum(i[k] for i in data)/len(data)*100} %')"
   ]
  },
  {
   "cell_type": "code",
   "execution_count": null,
   "metadata": {},
   "outputs": [],
   "source": []
  }
 ],
 "metadata": {
  "kernelspec": {
   "display_name": "Python 3",
   "language": "python",
   "name": "python3"
  },
  "language_info": {
   "codemirror_mode": {
    "name": "ipython",
    "version": 3
   },
   "file_extension": ".py",
   "mimetype": "text/x-python",
   "name": "python",
   "nbconvert_exporter": "python",
   "pygments_lexer": "ipython3",
   "version": "3.7.6"
  }
 },
 "nbformat": 4,
 "nbformat_minor": 2
}
