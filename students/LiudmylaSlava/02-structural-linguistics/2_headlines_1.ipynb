{
 "cells": [
  {
   "cell_type": "code",
   "execution_count": 2,
   "metadata": {},
   "outputs": [],
   "source": [
    "import spacy\n",
    "import json\n",
    "import re"
   ]
  },
  {
   "cell_type": "code",
   "execution_count": 3,
   "metadata": {},
   "outputs": [],
   "source": [
    "nlp = spacy.load(\"en_core_web_md\")"
   ]
  },
  {
   "cell_type": "code",
   "execution_count": 13,
   "metadata": {},
   "outputs": [
    {
     "data": {
      "text/plain": [
       "'Apple Is Looking at Buying U.K. Startup for $1 Billion'"
      ]
     },
     "execution_count": 13,
     "metadata": {},
     "output_type": "execute_result"
    }
   ],
   "source": [
    "def headline(text):\n",
    "    tokens = nlp(text)\n",
    "    result = ''\n",
    "    new_doc = []\n",
    "    doc = []\n",
    "    for token in tokens:\n",
    "        if token.pos_!='PUNCT':\n",
    "            new_doc.append(token)\n",
    "    for i, t in enumerate(new_doc):\n",
    "        if i==0 or i==len(new_doc)-1:\n",
    "            doc.append(t)\n",
    "    for i, token in enumerate(tokens):\n",
    "        if (token.text=='-' and token.whitespace_==''):\n",
    "            doc.append(tokens[i-1])\n",
    "            doc.append(tokens[i+1])\n",
    "    for token in tokens:\n",
    "        if re.search(\"(?:[A-Z][a-z]+)+\", str(token)):\n",
    "            result += token.text+token.whitespace_\n",
    "        elif str(token).isupper():\n",
    "            result += token.text+token.whitespace_\n",
    "        elif token in (doc):\n",
    "            result += token.text.capitalize()+token.whitespace_\n",
    "        elif len(token)>=4:\n",
    "            result += token.text.capitalize()+token.whitespace_\n",
    "        elif token.pos_ in (['NOUN', 'PRON', 'VERB', 'ADJ', 'ADV', 'AUX']):\n",
    "            if str(token).isupper():\n",
    "                result += token.text+token.whitespace_\n",
    "            else:\n",
    "                result += token.text.capitalize()+token.whitespace_\n",
    "        elif token.pos_=='PART':  \n",
    "            if \"'\" in str(token):\n",
    "                result += token.text+token.whitespace_\n",
    "            elif token.dep_=='neg':\n",
    "                result += token.text.capitalize()+token.whitespace_\n",
    "            else:\n",
    "                result += token.text.lower()+token.whitespace_\n",
    "        elif token.pos_=='DET':\n",
    "            if token.dep_=='appos':\n",
    "                result += token.text.capitalize()+token.whitespace_\n",
    "            else:\n",
    "                result += token.text.lower()+token.whitespace_\n",
    "        elif token.pos_=='SCONJ':\n",
    "            if token.dep_=='prep':\n",
    "                result += token.text+token.whitespace_\n",
    "            else:\n",
    "                result += token.text.capitalize()+token.whitespace_\n",
    "        else:\n",
    "            result += token.text+token.whitespace_\n",
    "    return result\n",
    "\n",
    "headline('Apple is looking at buying U.K. startup for $1 billion')"
   ]
  },
  {
   "cell_type": "code",
   "execution_count": 5,
   "metadata": {},
   "outputs": [],
   "source": [
    "with open('../../../tasks/02-structural-linguistics/data/headlines-test-set.json') as f:\n",
    "    data = json.load(f)"
   ]
  },
  {
   "cell_type": "code",
   "execution_count": 14,
   "metadata": {},
   "outputs": [
    {
     "data": {
      "text/plain": [
       "91"
      ]
     },
     "execution_count": 14,
     "metadata": {},
     "output_type": "execute_result"
    }
   ],
   "source": [
    "# якість роботи програми\n",
    "len([t for t in data if headline(t[0])==t[1]])"
   ]
  },
  {
   "cell_type": "code",
   "execution_count": 16,
   "metadata": {},
   "outputs": [
    {
     "name": "stdout",
     "output_type": "stream",
     "text": [
      "748\n"
     ]
    }
   ],
   "source": [
    "count=0\n",
    "with open('../../../tasks/02-structural-linguistics/data/examiner-headlines.txt') as f:\n",
    "    for line in f:\n",
    "        headline_ = headline(line)\n",
    "        if headline_ == line:\n",
    "            count+=1\n",
    "print(count)"
   ]
  },
  {
   "cell_type": "code",
   "execution_count": null,
   "metadata": {},
   "outputs": [],
   "source": []
  }
 ],
 "metadata": {
  "kernelspec": {
   "display_name": "Python 3",
   "language": "python",
   "name": "python3"
  },
  "language_info": {
   "codemirror_mode": {
    "name": "ipython",
    "version": 3
   },
   "file_extension": ".py",
   "mimetype": "text/x-python",
   "name": "python",
   "nbconvert_exporter": "python",
   "pygments_lexer": "ipython3",
   "version": "3.7.7"
  }
 },
 "nbformat": 4,
 "nbformat_minor": 2
}
