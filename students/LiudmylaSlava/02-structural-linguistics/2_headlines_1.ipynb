{
 "cells": [
  {
   "cell_type": "code",
   "execution_count": 1,
   "metadata": {},
   "outputs": [],
   "source": [
    "import spacy\n",
    "import json\n",
    "import re"
   ]
  },
  {
   "cell_type": "code",
   "execution_count": 3,
   "metadata": {},
   "outputs": [],
   "source": [
    "nlp = spacy.load(\"en_core_web_md\")"
   ]
  },
  {
   "cell_type": "code",
   "execution_count": 32,
   "metadata": {},
   "outputs": [
    {
     "data": {
      "text/plain": [
       "'Apple Is Looking at Buying U.k. Startup for $1 Billion'"
      ]
     },
     "execution_count": 32,
     "metadata": {},
     "output_type": "execute_result"
    }
   ],
   "source": [
    "def headline(text):\n",
    "    tokens = nlp(text)\n",
    "    result = ''\n",
    "    new_doc = []\n",
    "    doc = []\n",
    "    for token in tokens:\n",
    "        if token.pos_!='PUNCT':\n",
    "            new_doc.append(token)\n",
    "    for i, t in enumerate(new_doc):\n",
    "        if i==0 or i==len(new_doc)-1:\n",
    "            doc.append(t)\n",
    "    for i, token in enumerate(tokens):\n",
    "        if (token.text=='-' and token.whitespace_==''):\n",
    "            doc.append(tokens[i-1])\n",
    "            doc.append(tokens[i+1])\n",
    "    for token in tokens:\n",
    "        if re.search(\"(?:[A-Z][a-z]+)+\", str(token)):\n",
    "            result += token.text+token.whitespace_\n",
    "        elif token in (doc):\n",
    "            if str(token).isupper():\n",
    "                result += token.text+token.whitespace_\n",
    "            else:\n",
    "                result += token.text.capitalize()+token.whitespace_\n",
    "        elif len(token)>=4:\n",
    "            result += token.text.capitalize()+token.whitespace_\n",
    "        elif token.pos_ in (['NOUN', 'PRON', 'VERB', 'ADJ', 'ADV', 'AUX']):\n",
    "            if str(token).isupper():\n",
    "                result += token.text+token.whitespace_\n",
    "            else:\n",
    "                result += token.text.capitalize()+token.whitespace_\n",
    "        elif token.pos_=='PART':  \n",
    "            if \"'\" in str(token):\n",
    "                result += token.text+token.whitespace_\n",
    "            elif token.dep_=='neg':\n",
    "                result += token.text.capitalize()+token.whitespace_\n",
    "            else:\n",
    "                result += token.text.lower()+token.whitespace_\n",
    "        elif token.pos_=='DET':\n",
    "            if token.dep_=='appos':\n",
    "                result += token.text.capitalize()+token.whitespace_\n",
    "            else:\n",
    "                result += token.text.lower()+token.whitespace_\n",
    "        elif token.pos_=='SCONJ':\n",
    "            if token.dep_=='prep':\n",
    "                result += token.text+token.whitespace_\n",
    "            else:\n",
    "                result += token.text.capitalize()+token.whitespace_\n",
    "        else:\n",
    "            result += token.text+token.whitespace_\n",
    "    return result\n",
    "\n",
    "headline('Apple is looking at buying U.K. startup for $1 billion')"
   ]
  },
  {
   "cell_type": "code",
   "execution_count": 33,
   "metadata": {},
   "outputs": [],
   "source": [
    "with open('../../../tasks/02-structural-linguistics/data/headlines-test-set.json') as f:\n",
    "    data = json.load(f)"
   ]
  },
  {
   "cell_type": "code",
   "execution_count": 34,
   "metadata": {},
   "outputs": [
    {
     "data": {
      "text/plain": [
       "89"
      ]
     },
     "execution_count": 34,
     "metadata": {},
     "output_type": "execute_result"
    }
   ],
   "source": [
    "# якість роботи програми\n",
    "len([t for t in data if headline(t[0])==t[1]])"
   ]
  },
  {
   "cell_type": "code",
   "execution_count": 35,
   "metadata": {},
   "outputs": [
    {
     "name": "stdout",
     "output_type": "stream",
     "text": [
      "How To Design A College Curriculum to Help You in Life \n",
      " How To Design a College Curriculum to Help You in Life \n",
      " How to Design a College Curriculum to Help You in Life\n",
      "Teresa Giudice broke: 'RHONJ' star can't even put gas in her car \n",
      " Teresa Giudice Broke: 'Rhonj' Star Can't Even Put Gas in her Car \n",
      " Teresa Giudice Broke: 'RHONJ' Star Can't Even Put Gas in Her Car\n",
      "Brazilian & bikini waxing how to choose an sf bay area hair removal salon or spa \n",
      " Brazilian & Bikini Waxing How to Choose an sf bay Area Hair Removal Salon or Spa \n",
      " Brazilian & Bikini Waxing How to Choose an SF Bay Area Hair Removal Salon or Spa\n",
      "Funny Video: World's scariest IHOP commercial, from 1969 (with video) \n",
      " Funny Video: World's Scariest Ihop Commercial, From 1969 (With Video) \n",
      " Funny Video: World's Scariest IHOP Commercial, From 1969 (With Video)\n",
      "Facebook post helps police nab suspect who ripped off two Burbank salons \n",
      " Facebook Post Helps Police Nab Suspect Who Ripped off two Burbank Salons \n",
      " Facebook Post Helps Police Nab Suspect Who Ripped off Two Burbank Salons\n",
      "Hank Williams and all his rowdy friends cry foul as they leave ESPN's MNF \n",
      " Hank Williams and all his Rowdy Friends Cry Foul As They Leave Espn's MNF \n",
      " Hank Williams and all His Rowdy Friends Cry Foul As They Leave ESPN's MNF\n",
      "AX Armani Exchange launches its first-ever AX PopDown Shop in NYC! \n",
      " AX Armani Exchange Launches its First-Ever AX PopDown Shop in NYC! \n",
      " AX Armani Exchange Launches Its First-Ever AX PopDown Shop in NYC!\n",
      "Photos of cats at MCACC East as of Thursday, April 21, 2011 \n",
      " Photos of Cats at Mcacc East as of Thursday, April 21, 2011 \n",
      " Photos of Cats at MCACC East as of Thursday, April 21, 2011\n",
      "'Jackass 3D' trailer explodes right in your face so don't try this at home (video) \n",
      " 'Jackass 3D' Trailer Explodes Right in Your Face So Don't Try This at Home (Video) \n",
      " 'Jackass 3D' Trailer Explodes Right in Your Face so Don't Try This at Home (Video)\n",
      "'The Bachelorette' ep 1112 recap review \n",
      " 'The Bachelorette' ep 1112 Recap Review \n",
      " 'The Bachelorette' Ep 1112 Recap Review\n",
      "Black Ferguson men protect white business owner's store with AR-15s: Loyalty \n",
      " Black Ferguson Men Protect White Business Owner's Store With Ar-15s: Loyalty \n",
      " Black Ferguson Men Protect White Business Owner's Store With AR-15s: Loyalty\n"
     ]
    }
   ],
   "source": [
    "#dbg\n",
    "for t in data:\n",
    "    if headline(t[0])!=t[1]:\n",
    "        print(f'{t[0]} \\n {headline(t[0])} \\n {t[1]}')"
   ]
  },
  {
   "cell_type": "code",
   "execution_count": null,
   "metadata": {},
   "outputs": [],
   "source": []
  }
 ],
 "metadata": {
  "kernelspec": {
   "display_name": "Python 3",
   "language": "python",
   "name": "python3"
  },
  "language_info": {
   "codemirror_mode": {
    "name": "ipython",
    "version": 3
   },
   "file_extension": ".py",
   "mimetype": "text/x-python",
   "name": "python",
   "nbconvert_exporter": "python",
   "pygments_lexer": "ipython3",
   "version": "3.7.6"
  }
 },
 "nbformat": 4,
 "nbformat_minor": 2
}
