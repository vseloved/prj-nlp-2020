{
 "cells": [
  {
   "cell_type": "markdown",
   "metadata": {},
   "source": [
    "``` PREFIX dbo: <http://dbpedia.org/ontology/>\n",
    "PREFIX res:  <http://dbpedia.org/resource/>\n",
    "PREFIX foaf: <http://xmlns.com/foaf/0.1/>\n",
    "SELECT DISTINCT ?uri, ?name, ?birth, ?position, ?number\n",
    "WHERE { \n",
    "        {?uri dbo:team res:Boston_Celtics} UNION {?uri dbo:draftTeam res:Boston_Celtics}\n",
    "        ?uri foaf:name ?name .\n",
    "        ?uri dbo:birthDate ?birth .\n",
    "        FILTER (regex (?birth, '\\\\d')) .\n",
    "        ?uri dbo:position ?position .\n",
    "        ?uri dbo:number ?number\n",
    "} \n",
    "```"
   ]
  },
  {
   "cell_type": "code",
   "execution_count": 400,
   "metadata": {},
   "outputs": [],
   "source": [
    "import pandas as pd\n",
    "import spacy\n",
    "import re\n",
    "from datetime import datetime\n",
    "import calendar\n",
    "from collections import defaultdict\n",
    "import wikipediaapi\n",
    "import nltk\n",
    "from nltk.metrics import edit_distance \n",
    "from word2number import w2n\n",
    "pd.options.mode.chained_assignment = None\n",
    "import numpy as np\n",
    "# nlp = spacy.load(\"en_core_web_md\")\n",
    "# nlp.add_pipe(nlp.create_pipe('sentencizer'))"
   ]
  },
  {
   "cell_type": "code",
   "execution_count": 32,
   "metadata": {},
   "outputs": [
    {
     "data": {
      "text/html": [
       "<div>\n",
       "<style scoped>\n",
       "    .dataframe tbody tr th:only-of-type {\n",
       "        vertical-align: middle;\n",
       "    }\n",
       "\n",
       "    .dataframe tbody tr th {\n",
       "        vertical-align: top;\n",
       "    }\n",
       "\n",
       "    .dataframe thead th {\n",
       "        text-align: right;\n",
       "    }\n",
       "</style>\n",
       "<table border=\"1\" class=\"dataframe\">\n",
       "  <thead>\n",
       "    <tr style=\"text-align: right;\">\n",
       "      <th></th>\n",
       "      <th>uri</th>\n",
       "      <th>name</th>\n",
       "      <th>birth</th>\n",
       "      <th>position</th>\n",
       "      <th>number</th>\n",
       "    </tr>\n",
       "  </thead>\n",
       "  <tbody>\n",
       "    <tr>\n",
       "      <th>0</th>\n",
       "      <td>http://dbpedia.org/resource/James_Young_(baske...</td>\n",
       "      <td>James Young</td>\n",
       "      <td>1995-8-16</td>\n",
       "      <td>http://dbpedia.org/resource/Shooting_guard</td>\n",
       "      <td>13</td>\n",
       "    </tr>\n",
       "    <tr>\n",
       "      <th>1</th>\n",
       "      <td>http://dbpedia.org/resource/James_Young_(baske...</td>\n",
       "      <td>James Young</td>\n",
       "      <td>1995-8-16</td>\n",
       "      <td>http://dbpedia.org/resource/Small_forward</td>\n",
       "      <td>13</td>\n",
       "    </tr>\n",
       "    <tr>\n",
       "      <th>2</th>\n",
       "      <td>http://dbpedia.org/resource/Isaiah_Thomas_(bas...</td>\n",
       "      <td>Isaiah Thomas</td>\n",
       "      <td>1989-2-7</td>\n",
       "      <td>http://dbpedia.org/resource/Point_guard</td>\n",
       "      <td>4</td>\n",
       "    </tr>\n",
       "    <tr>\n",
       "      <th>3</th>\n",
       "      <td>http://dbpedia.org/resource/Jae_Crowder</td>\n",
       "      <td>Jae Crowder</td>\n",
       "      <td>1990-7-6</td>\n",
       "      <td>http://dbpedia.org/resource/Small_forward</td>\n",
       "      <td>99</td>\n",
       "    </tr>\n",
       "    <tr>\n",
       "      <th>4</th>\n",
       "      <td>http://dbpedia.org/resource/Jonas_Jerebko</td>\n",
       "      <td>Jonas Jerebko</td>\n",
       "      <td>1987-3-2</td>\n",
       "      <td>http://dbpedia.org/resource/Forward_(basketball)</td>\n",
       "      <td>8</td>\n",
       "    </tr>\n",
       "  </tbody>\n",
       "</table>\n",
       "</div>"
      ],
      "text/plain": [
       "                                                 uri           name  \\\n",
       "0  http://dbpedia.org/resource/James_Young_(baske...    James Young   \n",
       "1  http://dbpedia.org/resource/James_Young_(baske...    James Young   \n",
       "2  http://dbpedia.org/resource/Isaiah_Thomas_(bas...  Isaiah Thomas   \n",
       "3            http://dbpedia.org/resource/Jae_Crowder    Jae Crowder   \n",
       "4          http://dbpedia.org/resource/Jonas_Jerebko  Jonas Jerebko   \n",
       "\n",
       "       birth                                          position number  \n",
       "0  1995-8-16        http://dbpedia.org/resource/Shooting_guard     13  \n",
       "1  1995-8-16         http://dbpedia.org/resource/Small_forward     13  \n",
       "2   1989-2-7           http://dbpedia.org/resource/Point_guard      4  \n",
       "3   1990-7-6         http://dbpedia.org/resource/Small_forward     99  \n",
       "4   1987-3-2  http://dbpedia.org/resource/Forward_(basketball)      8  "
      ]
     },
     "execution_count": 32,
     "metadata": {},
     "output_type": "execute_result"
    }
   ],
   "source": [
    "df = pd.read_csv('/Users/liudmylaslava/Downloads/sparql.csv')\n",
    "df.head()"
   ]
  },
  {
   "cell_type": "code",
   "execution_count": 196,
   "metadata": {},
   "outputs": [
    {
     "data": {
      "text/html": [
       "<div>\n",
       "<style scoped>\n",
       "    .dataframe tbody tr th:only-of-type {\n",
       "        vertical-align: middle;\n",
       "    }\n",
       "\n",
       "    .dataframe tbody tr th {\n",
       "        vertical-align: top;\n",
       "    }\n",
       "\n",
       "    .dataframe thead th {\n",
       "        text-align: right;\n",
       "    }\n",
       "</style>\n",
       "<table border=\"1\" class=\"dataframe\">\n",
       "  <thead>\n",
       "    <tr style=\"text-align: right;\">\n",
       "      <th></th>\n",
       "      <th>uri</th>\n",
       "      <th>name</th>\n",
       "      <th>birth</th>\n",
       "      <th>position</th>\n",
       "      <th>number</th>\n",
       "    </tr>\n",
       "  </thead>\n",
       "  <tbody>\n",
       "    <tr>\n",
       "      <th>0</th>\n",
       "      <td>James_Young_(basketball)</td>\n",
       "      <td>James Young</td>\n",
       "      <td>1995-8-16</td>\n",
       "      <td>Shooting guard</td>\n",
       "      <td>13</td>\n",
       "    </tr>\n",
       "    <tr>\n",
       "      <th>1</th>\n",
       "      <td>James_Young_(basketball)</td>\n",
       "      <td>James Young</td>\n",
       "      <td>1995-8-16</td>\n",
       "      <td>Small forward</td>\n",
       "      <td>13</td>\n",
       "    </tr>\n",
       "    <tr>\n",
       "      <th>2</th>\n",
       "      <td>Isaiah_Thomas_(basketball)</td>\n",
       "      <td>Isaiah Thomas</td>\n",
       "      <td>1989-2-7</td>\n",
       "      <td>Point guard</td>\n",
       "      <td>4</td>\n",
       "    </tr>\n",
       "    <tr>\n",
       "      <th>3</th>\n",
       "      <td>Jae_Crowder</td>\n",
       "      <td>Jae Crowder</td>\n",
       "      <td>1990-7-6</td>\n",
       "      <td>Small forward</td>\n",
       "      <td>99</td>\n",
       "    </tr>\n",
       "    <tr>\n",
       "      <th>4</th>\n",
       "      <td>Jonas_Jerebko</td>\n",
       "      <td>Jonas Jerebko</td>\n",
       "      <td>1987-3-2</td>\n",
       "      <td>Forward (basketball)</td>\n",
       "      <td>8</td>\n",
       "    </tr>\n",
       "  </tbody>\n",
       "</table>\n",
       "</div>"
      ],
      "text/plain": [
       "                          uri           name      birth              position  \\\n",
       "0    James_Young_(basketball)    James Young  1995-8-16        Shooting guard   \n",
       "1    James_Young_(basketball)    James Young  1995-8-16         Small forward   \n",
       "2  Isaiah_Thomas_(basketball)  Isaiah Thomas   1989-2-7           Point guard   \n",
       "3                 Jae_Crowder    Jae Crowder   1990-7-6         Small forward   \n",
       "4               Jonas_Jerebko  Jonas Jerebko   1987-3-2  Forward (basketball)   \n",
       "\n",
       "  number  \n",
       "0     13  \n",
       "1     13  \n",
       "2      4  \n",
       "3     99  \n",
       "4      8  "
      ]
     },
     "execution_count": 196,
     "metadata": {},
     "output_type": "execute_result"
    }
   ],
   "source": [
    "df['uri'] = df['uri'].apply(lambda x:x.split('/')[-1])\n",
    "df['position'] = df['position'].apply(lambda x:x.split('/')[-1].replace('_',' '))\n",
    "df.head()"
   ]
  },
  {
   "cell_type": "code",
   "execution_count": 346,
   "metadata": {},
   "outputs": [],
   "source": [
    "w = wikipediaapi.Wikipedia('en')\n",
    "ents = list(set(df['uri'].tolist()))\n",
    "\n",
    "text = defaultdict(list)\n",
    "for ent in ents:\n",
    "    page = w.page(ent)\n",
    "    text[ent] = page.text"
   ]
  },
  {
   "cell_type": "code",
   "execution_count": 347,
   "metadata": {},
   "outputs": [],
   "source": [
    "with open('text.txt', 'w') as f:\n",
    "    f.writelines(text)"
   ]
  },
  {
   "cell_type": "code",
   "execution_count": 372,
   "metadata": {},
   "outputs": [],
   "source": [
    "positions = [ 'point guard' , 'shooting guard', 'small forward', 'power forward', 'center']\n",
    "data = []\n",
    "for k, t in text.items():\n",
    "    name, birth, position, number = 0,0,0,0\n",
    "    doc = nlp(t)\n",
    "    sentences = [sent.string.strip() for sent in doc.sents]\n",
    "    first = ''.join(sentences[:3])\n",
    "    birth = first[first.find(\"(\")+1:first.find(\")\")]\n",
    "    name = first[0:first.find('(')]\n",
    "    po = []\n",
    "    for pos in positions:\n",
    "        if pos in t:\n",
    "            po.append(pos)\n",
    "            position = ','.join(po)\n",
    "    num = []\n",
    "    for i, token in enumerate(doc):\n",
    "        if token.text == 'No':\n",
    "            if doc[i+1].text == '.':\n",
    "                num.append(doc[i+2].text)\n",
    "        elif token.text == 'number':\n",
    "            if doc[i+1].pos_=='NUM':\n",
    "                n = w2n.word_to_num(doc[i+1].text)\n",
    "                num.append(str(n))\n",
    "        number = ','.join(num)\n",
    "                 \n",
    "    data.append([k, name, birth, position, number])"
   ]
  },
  {
   "cell_type": "code",
   "execution_count": 376,
   "metadata": {},
   "outputs": [
    {
     "data": {
      "text/html": [
       "<div>\n",
       "<style scoped>\n",
       "    .dataframe tbody tr th:only-of-type {\n",
       "        vertical-align: middle;\n",
       "    }\n",
       "\n",
       "    .dataframe tbody tr th {\n",
       "        vertical-align: top;\n",
       "    }\n",
       "\n",
       "    .dataframe thead th {\n",
       "        text-align: right;\n",
       "    }\n",
       "</style>\n",
       "<table border=\"1\" class=\"dataframe\">\n",
       "  <thead>\n",
       "    <tr style=\"text-align: right;\">\n",
       "      <th></th>\n",
       "      <th>uri</th>\n",
       "      <th>name</th>\n",
       "      <th>birth</th>\n",
       "      <th>position</th>\n",
       "      <th>number</th>\n",
       "    </tr>\n",
       "  </thead>\n",
       "  <tbody>\n",
       "    <tr>\n",
       "      <th>0</th>\n",
       "      <td>Bulbs_Ehlers</td>\n",
       "      <td>Edwin S. \"Bulbs\" Ehlers</td>\n",
       "      <td>March 10, 1923 – June 17, 2013</td>\n",
       "      <td>0</td>\n",
       "      <td></td>\n",
       "    </tr>\n",
       "    <tr>\n",
       "      <th>1</th>\n",
       "      <td>Orien_Greene</td>\n",
       "      <td>Orien Randolph Greene II</td>\n",
       "      <td>born February 4, 1982</td>\n",
       "      <td>point guard</td>\n",
       "      <td></td>\n",
       "    </tr>\n",
       "    <tr>\n",
       "      <th>2</th>\n",
       "      <td>John_Richter</td>\n",
       "      <td>John Fritz Richter</td>\n",
       "      <td>March 12, 1937 – March, 1983</td>\n",
       "      <td>0</td>\n",
       "      <td></td>\n",
       "    </tr>\n",
       "    <tr>\n",
       "      <th>3</th>\n",
       "      <td>Jon_Barry</td>\n",
       "      <td>Jon Alan Barry</td>\n",
       "      <td>born July 25, 1969</td>\n",
       "      <td>0</td>\n",
       "      <td></td>\n",
       "    </tr>\n",
       "    <tr>\n",
       "      <th>4</th>\n",
       "      <td>Jim_Barnett_(basketball)</td>\n",
       "      <td>James Franklin Barnett</td>\n",
       "      <td>born July 7, 1944</td>\n",
       "      <td>0</td>\n",
       "      <td></td>\n",
       "    </tr>\n",
       "  </tbody>\n",
       "</table>\n",
       "</div>"
      ],
      "text/plain": [
       "                        uri                       name  \\\n",
       "0              Bulbs_Ehlers   Edwin S. \"Bulbs\" Ehlers    \n",
       "1              Orien_Greene  Orien Randolph Greene II    \n",
       "2              John_Richter        John Fritz Richter    \n",
       "3                 Jon_Barry            Jon Alan Barry    \n",
       "4  Jim_Barnett_(basketball)    James Franklin Barnett    \n",
       "\n",
       "                            birth     position number  \n",
       "0  March 10, 1923 – June 17, 2013            0         \n",
       "1           born February 4, 1982  point guard         \n",
       "2    March 12, 1937 – March, 1983            0         \n",
       "3              born July 25, 1969            0         \n",
       "4               born July 7, 1944            0         "
      ]
     },
     "execution_count": 376,
     "metadata": {},
     "output_type": "execute_result"
    }
   ],
   "source": [
    "raw = pd.DataFrame(data = data, columns = ['uri','name', 'birth', 'position', 'number'])\n",
    "raw.head()"
   ]
  },
  {
   "cell_type": "code",
   "execution_count": 377,
   "metadata": {},
   "outputs": [
    {
     "data": {
      "text/html": [
       "<div>\n",
       "<style scoped>\n",
       "    .dataframe tbody tr th:only-of-type {\n",
       "        vertical-align: middle;\n",
       "    }\n",
       "\n",
       "    .dataframe tbody tr th {\n",
       "        vertical-align: top;\n",
       "    }\n",
       "\n",
       "    .dataframe thead th {\n",
       "        text-align: right;\n",
       "    }\n",
       "</style>\n",
       "<table border=\"1\" class=\"dataframe\">\n",
       "  <thead>\n",
       "    <tr style=\"text-align: right;\">\n",
       "      <th></th>\n",
       "      <th>uri</th>\n",
       "      <th>name</th>\n",
       "      <th>birth</th>\n",
       "      <th>position</th>\n",
       "      <th>number</th>\n",
       "    </tr>\n",
       "  </thead>\n",
       "  <tbody>\n",
       "    <tr>\n",
       "      <th>0</th>\n",
       "      <td>Bulbs_Ehlers</td>\n",
       "      <td>Edwin S. \"Bulbs\" Ehlers</td>\n",
       "      <td>1923-3-10</td>\n",
       "      <td>0</td>\n",
       "      <td></td>\n",
       "    </tr>\n",
       "    <tr>\n",
       "      <th>1</th>\n",
       "      <td>Orien_Greene</td>\n",
       "      <td>Orien Randolph Greene II</td>\n",
       "      <td>1982-2-4</td>\n",
       "      <td>point guard</td>\n",
       "      <td></td>\n",
       "    </tr>\n",
       "    <tr>\n",
       "      <th>2</th>\n",
       "      <td>John_Richter</td>\n",
       "      <td>John Fritz Richter</td>\n",
       "      <td>1937-3-12</td>\n",
       "      <td>0</td>\n",
       "      <td></td>\n",
       "    </tr>\n",
       "    <tr>\n",
       "      <th>3</th>\n",
       "      <td>Jon_Barry</td>\n",
       "      <td>Jon Alan Barry</td>\n",
       "      <td>1969-7-25</td>\n",
       "      <td>0</td>\n",
       "      <td></td>\n",
       "    </tr>\n",
       "    <tr>\n",
       "      <th>4</th>\n",
       "      <td>Jim_Barnett_(basketball)</td>\n",
       "      <td>James Franklin Barnett</td>\n",
       "      <td>1944-7-7</td>\n",
       "      <td>0</td>\n",
       "      <td></td>\n",
       "    </tr>\n",
       "  </tbody>\n",
       "</table>\n",
       "</div>"
      ],
      "text/plain": [
       "                        uri                       name      birth  \\\n",
       "0              Bulbs_Ehlers   Edwin S. \"Bulbs\" Ehlers   1923-3-10   \n",
       "1              Orien_Greene  Orien Randolph Greene II    1982-2-4   \n",
       "2              John_Richter        John Fritz Richter   1937-3-12   \n",
       "3                 Jon_Barry            Jon Alan Barry   1969-7-25   \n",
       "4  Jim_Barnett_(basketball)    James Franklin Barnett    1944-7-7   \n",
       "\n",
       "      position number  \n",
       "0            0         \n",
       "1  point guard         \n",
       "2            0         \n",
       "3            0         \n",
       "4            0         "
      ]
     },
     "execution_count": 377,
     "metadata": {},
     "output_type": "execute_result"
    }
   ],
   "source": [
    "m ={}\n",
    "for i in range(1,13):\n",
    "    m[i] = calendar.month_name[i]\n",
    "list(m.keys())[list(m.values()).index('December')]\n",
    "raw['name'] = raw['name'].apply(lambda x: x.replace(',',''))\n",
    "raw['birth'] = raw['birth'].apply(lambda x: x.split('–')[0].replace(',',''))\n",
    "raw['birth'] = raw['birth'].apply(lambda x: x.split('-')[0].replace(',',''))\n",
    "raw['birth'] = raw['birth'].apply(lambda x: ', '.join([t.text for t in nlp(x) if t.ent_type_=='DATE']))\n",
    "raw['year']= raw['birth'].str[-4:]\n",
    "raw['month'] = raw['birth'].apply(lambda x: ''.join([t.text for t in nlp(x) if t.pos_=='PROPN']))\n",
    "raw['bir'] = raw['birth'].str[:-6]\n",
    "raw['day'] = raw['bir'].apply(lambda x: ''.join([t.text for t in nlp(x) if t.pos_=='NUM']))\n",
    "raw['month'] = raw[raw['month']!='']['month'].apply(lambda x: list(m.keys())[list(m.values()).index(x)])\n",
    "raw['month'] = raw['month'].astype(str).str[:1]\n",
    "raw['birth'] = raw['year']+'-'+raw['month']+'-'+raw['day']\n",
    "raw.drop(['year','month','bir','day'], axis=1, inplace=True)\n",
    "raw.head()"
   ]
  },
  {
   "cell_type": "markdown",
   "metadata": {},
   "source": [
    "# 1. Перевіримо схожість імен"
   ]
  },
  {
   "cell_type": "code",
   "execution_count": 378,
   "metadata": {},
   "outputs": [
    {
     "data": {
      "text/html": [
       "<div>\n",
       "<style scoped>\n",
       "    .dataframe tbody tr th:only-of-type {\n",
       "        vertical-align: middle;\n",
       "    }\n",
       "\n",
       "    .dataframe tbody tr th {\n",
       "        vertical-align: top;\n",
       "    }\n",
       "\n",
       "    .dataframe thead th {\n",
       "        text-align: right;\n",
       "    }\n",
       "</style>\n",
       "<table border=\"1\" class=\"dataframe\">\n",
       "  <thead>\n",
       "    <tr style=\"text-align: right;\">\n",
       "      <th></th>\n",
       "      <th>name_x</th>\n",
       "      <th>name_y</th>\n",
       "    </tr>\n",
       "  </thead>\n",
       "  <tbody>\n",
       "    <tr>\n",
       "      <th>0</th>\n",
       "      <td>Edwin S. \"Bulbs\" Ehlers</td>\n",
       "      <td>Bulbs Ehlers</td>\n",
       "    </tr>\n",
       "    <tr>\n",
       "      <th>1</th>\n",
       "      <td>Edwin S. \"Bulbs\" Ehlers</td>\n",
       "      <td>Edwin \"Bulbs\" Ehlers</td>\n",
       "    </tr>\n",
       "    <tr>\n",
       "      <th>4</th>\n",
       "      <td>Orien Randolph Greene II</td>\n",
       "      <td>Orien Greene</td>\n",
       "    </tr>\n",
       "    <tr>\n",
       "      <th>5</th>\n",
       "      <td>John Fritz Richter</td>\n",
       "      <td>John Richter</td>\n",
       "    </tr>\n",
       "    <tr>\n",
       "      <th>6</th>\n",
       "      <td>Jon Alan Barry</td>\n",
       "      <td>Jon Barry</td>\n",
       "    </tr>\n",
       "  </tbody>\n",
       "</table>\n",
       "</div>"
      ],
      "text/plain": [
       "                      name_x                name_y\n",
       "0   Edwin S. \"Bulbs\" Ehlers           Bulbs Ehlers\n",
       "1   Edwin S. \"Bulbs\" Ehlers   Edwin \"Bulbs\" Ehlers\n",
       "4  Orien Randolph Greene II           Orien Greene\n",
       "5        John Fritz Richter           John Richter\n",
       "6            Jon Alan Barry              Jon Barry"
      ]
     },
     "execution_count": 378,
     "metadata": {},
     "output_type": "execute_result"
    }
   ],
   "source": [
    "res = pd.merge(raw, df, on='uri')\n",
    "res = res[['name_x','name_y']].drop_duplicates()\n",
    "res.head()"
   ]
  },
  {
   "cell_type": "code",
   "execution_count": 379,
   "metadata": {},
   "outputs": [
    {
     "data": {
      "text/plain": [
       "True    108\n",
       "Name: match, dtype: int64"
      ]
     },
     "execution_count": 379,
     "metadata": {},
     "output_type": "execute_result"
    }
   ],
   "source": [
    "def f(x):\n",
    "    res = any(z == y for z in x[0].split() for y in x[1].split())\n",
    "    return res\n",
    "res['match'] = res.apply(f, axis=1)\n",
    "res['match'].value_counts() # хоча б одне слово у імені завжди співпадає, скоріше за все це -- прізвище"
   ]
  },
  {
   "cell_type": "code",
   "execution_count": 380,
   "metadata": {},
   "outputs": [
    {
     "data": {
      "text/plain": [
       "0.6358794407330797"
      ]
     },
     "execution_count": 380,
     "metadata": {},
     "output_type": "execute_result"
    }
   ],
   "source": [
    "# Нормалізована відстань Левінштайна\n",
    "res['norm_dist'] = res.apply(lambda x: (1-edit_distance(x[\"name_x\"], x[\"name_y\"])/max(len(x[\"name_x\"]),len(x[\"name_y\"]))), axis=1)\n",
    "res['norm_dist'].mean()"
   ]
  },
  {
   "cell_type": "markdown",
   "metadata": {},
   "source": [
    "# 2. Як співпадає дата народження"
   ]
  },
  {
   "cell_type": "code",
   "execution_count": 381,
   "metadata": {},
   "outputs": [
    {
     "data": {
      "text/plain": [
       "True     96\n",
       "False    10\n",
       "Name: match, dtype: int64"
      ]
     },
     "execution_count": 381,
     "metadata": {},
     "output_type": "execute_result"
    }
   ],
   "source": [
    "res = pd.merge(raw, df, on='uri')\n",
    "birth = res[['birth_x','birth_y']].drop_duplicates()\n",
    "birth['match'] = birth['birth_x']==birth['birth_y']\n",
    "birth['match'].value_counts()"
   ]
  },
  {
   "cell_type": "code",
   "execution_count": 382,
   "metadata": {},
   "outputs": [
    {
     "data": {
      "text/plain": [
       "0.9056603773584906"
      ]
     },
     "execution_count": 382,
     "metadata": {},
     "output_type": "execute_result"
    }
   ],
   "source": [
    "precision = len(birth[birth['match']==True])/len(birth)\n",
    "precision"
   ]
  },
  {
   "cell_type": "markdown",
   "metadata": {},
   "source": [
    "# 3. Як співпадає позиція гравця"
   ]
  },
  {
   "cell_type": "code",
   "execution_count": 397,
   "metadata": {},
   "outputs": [],
   "source": [
    "pos_pred = raw[['uri','position']]\n",
    "pos_pred.loc[:, 'position'] = pos_pred.position.str.split(',')\n",
    "pos_pred['position'] = pos_pred.loc[pos_pred['position'].notnull()]['position'].apply(lambda x: [y.replace(' ','') for y in x])\n",
    "pos_true = df.groupby('uri')['position'].apply(list).to_frame()\n",
    "pos_true['position'] = pos_true['position'].apply(lambda x: [y.replace('(basketball)','') for y in x])\n",
    "pos_true['position'] = pos_true['position'].apply(lambda x: [y.lower() for y in x])\n",
    "pos_true['position'] = pos_true['position'].apply(lambda x: [y.replace(' ','') for y in x])"
   ]
  },
  {
   "cell_type": "code",
   "execution_count": 393,
   "metadata": {},
   "outputs": [
    {
     "data": {
      "text/plain": [
       "0.3018867924528302"
      ]
     },
     "execution_count": 393,
     "metadata": {},
     "output_type": "execute_result"
    }
   ],
   "source": [
    "def f(x):\n",
    "    res = sum(z == y for z in x[0] for y in x[1])\n",
    "    return res\n",
    "pos = pd.merge(pos_true, pos_pred, on='uri')\n",
    "pos['match'] = pos[pos['position_y'].notnull()][['position_x', 'position_y']].apply(f,axis=1)\n",
    "pos['match'] = pos['match'].fillna(0)\n",
    "pos['length'] = pos['position_x'].apply(lambda x: len(x))\n",
    "pos['res'] = pos['match']/pos['length']\n",
    "pos['res'].mean() # 30% позицій вдалося витягти з тексту"
   ]
  },
  {
   "cell_type": "markdown",
   "metadata": {},
   "source": [
    "# 4. Як співпадає номер гравця"
   ]
  },
  {
   "cell_type": "code",
   "execution_count": 410,
   "metadata": {},
   "outputs": [
    {
     "data": {
      "text/plain": [
       "0    104\n",
       "1      2\n",
       "Name: match, dtype: int64"
      ]
     },
     "execution_count": 410,
     "metadata": {},
     "output_type": "execute_result"
    }
   ],
   "source": [
    "num_pred = raw[['uri', 'number']]\n",
    "num_pred.loc[:, 'number'] = num_pred.number.str.split(',')\n",
    "num_true = df.groupby('uri')['number'].apply(lambda x: list(np.unique(x))).to_frame()\n",
    "num = pd.merge(num_pred, num_true, on='uri')\n",
    "num['match'] = num[['number_x','number_y']].apply(f, axis=1)\n",
    "num['match'].value_counts()"
   ]
  },
  {
   "cell_type": "markdown",
   "metadata": {},
   "source": [
    " Номер гравця вдалося дістати тільки у 2/106 випадках тому що :\n",
    " - номер змінюється в залежності від команди де він грає\n",
    " - слова 'Number' чи 'No.' використовуються для пояснення успіхів баскетболіста а не його номеру у команді\n",
    " - у тексті вікі цієї інформації зазвичай нема, вона є тільки у табличних даних\n"
   ]
  },
  {
   "cell_type": "code",
   "execution_count": null,
   "metadata": {},
   "outputs": [],
   "source": []
  }
 ],
 "metadata": {
  "kernelspec": {
   "display_name": "Python 3",
   "language": "python",
   "name": "python3"
  },
  "language_info": {
   "codemirror_mode": {
    "name": "ipython",
    "version": 3
   },
   "file_extension": ".py",
   "mimetype": "text/x-python",
   "name": "python",
   "nbconvert_exporter": "python",
   "pygments_lexer": "ipython3",
   "version": "3.7.7"
  }
 },
 "nbformat": 4,
 "nbformat_minor": 2
}
