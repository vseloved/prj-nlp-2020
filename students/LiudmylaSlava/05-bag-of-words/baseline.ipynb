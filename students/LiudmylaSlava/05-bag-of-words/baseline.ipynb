{
 "cells": [
  {
   "cell_type": "code",
   "execution_count": 72,
   "metadata": {},
   "outputs": [],
   "source": [
    "import langdetect\n",
    "import sys\n",
    "import json\n",
    "from collections import defaultdict\n",
    "from sklearn.model_selection import train_test_split\n",
    "import pandas as pd\n",
    "from sklearn.feature_extraction.text import CountVectorizer\n",
    "from sklearn.metrics import classification_report"
   ]
  },
  {
   "cell_type": "code",
   "execution_count": 5,
   "metadata": {},
   "outputs": [],
   "source": [
    "!cat jsons/*.json | jq -c '.data | .comments[] | .commentdatajson | {mark,text,dignity,shortcomings}' | jq -s > everything.json"
   ]
  },
  {
   "cell_type": "code",
   "execution_count": 9,
   "metadata": {},
   "outputs": [],
   "source": [
    "with open('everything.json') as f:\n",
    "    content = json.load(f)"
   ]
  },
  {
   "cell_type": "code",
   "execution_count": 13,
   "metadata": {},
   "outputs": [],
   "source": [
    "uk = []\n",
    "for c in content:\n",
    "    try:\n",
    "        if langdetect.detect(c['text']) == 'uk':\n",
    "            uk.append(c)\n",
    "    except:\n",
    "        pass"
   ]
  },
  {
   "cell_type": "code",
   "execution_count": 14,
   "metadata": {},
   "outputs": [],
   "source": [
    "with open('uk.json', 'w') as f:\n",
    "    json.dump(uk, f)"
   ]
  },
  {
   "cell_type": "code",
   "execution_count": 16,
   "metadata": {},
   "outputs": [
    {
     "data": {
      "text/plain": [
       "(5056, 24301)"
      ]
     },
     "execution_count": 16,
     "metadata": {},
     "output_type": "execute_result"
    }
   ],
   "source": [
    "len(uk),len(content)"
   ]
  },
  {
   "cell_type": "code",
   "execution_count": 74,
   "metadata": {},
   "outputs": [
    {
     "data": {
      "text/html": [
       "<div>\n",
       "<style scoped>\n",
       "    .dataframe tbody tr th:only-of-type {\n",
       "        vertical-align: middle;\n",
       "    }\n",
       "\n",
       "    .dataframe tbody tr th {\n",
       "        vertical-align: top;\n",
       "    }\n",
       "\n",
       "    .dataframe thead th {\n",
       "        text-align: right;\n",
       "    }\n",
       "</style>\n",
       "<table border=\"1\" class=\"dataframe\">\n",
       "  <thead>\n",
       "    <tr style=\"text-align: right;\">\n",
       "      <th></th>\n",
       "      <th>mark</th>\n",
       "      <th>text</th>\n",
       "      <th>dignity</th>\n",
       "      <th>shortcomings</th>\n",
       "    </tr>\n",
       "  </thead>\n",
       "  <tbody>\n",
       "    <tr>\n",
       "      <th>0</th>\n",
       "      <td>0.0</td>\n",
       "      <td>Хто вже користується, скажіть,будьласка, чи є ...</td>\n",
       "      <td></td>\n",
       "      <td></td>\n",
       "    </tr>\n",
       "    <tr>\n",
       "      <th>1</th>\n",
       "      <td>5.0</td>\n",
       "      <td>Апарат брав не тут. Смарт супер. Екран насичен...</td>\n",
       "      <td>Батарея, екран, вигляд.</td>\n",
       "      <td>Датчик приближення, нахил селфі камери.</td>\n",
       "    </tr>\n",
       "    <tr>\n",
       "      <th>3</th>\n",
       "      <td>5.0</td>\n",
       "      <td>За цю вартість відмінний смартфон. Недоліків н...</td>\n",
       "      <td>Ціна, екран, сенсор</td>\n",
       "      <td>На даний момент ще не виявлено</td>\n",
       "    </tr>\n",
       "    <tr>\n",
       "      <th>4</th>\n",
       "      <td>0.0</td>\n",
       "      <td>Скажіть будь ласка рамка телефону по кругу мет...</td>\n",
       "      <td></td>\n",
       "      <td></td>\n",
       "    </tr>\n",
       "    <tr>\n",
       "      <th>7</th>\n",
       "      <td>0.0</td>\n",
       "      <td>Тьфу-Тьфу-Тьфу............. .</td>\n",
       "      <td></td>\n",
       "      <td></td>\n",
       "    </tr>\n",
       "  </tbody>\n",
       "</table>\n",
       "</div>"
      ],
      "text/plain": [
       "   mark                                               text  \\\n",
       "0   0.0  Хто вже користується, скажіть,будьласка, чи є ...   \n",
       "1   5.0  Апарат брав не тут. Смарт супер. Екран насичен...   \n",
       "3   5.0  За цю вартість відмінний смартфон. Недоліків н...   \n",
       "4   0.0  Скажіть будь ласка рамка телефону по кругу мет...   \n",
       "7   0.0                      Тьфу-Тьфу-Тьфу............. .   \n",
       "\n",
       "                   dignity                             shortcomings  \n",
       "0                                                                    \n",
       "1  Батарея, екран, вигляд.  Датчик приближення, нахил селфі камери.  \n",
       "3      Ціна, екран, сенсор           На даний момент ще не виявлено  \n",
       "4                                                                    \n",
       "7                                                                    "
      ]
     },
     "execution_count": 74,
     "metadata": {},
     "output_type": "execute_result"
    }
   ],
   "source": [
    "df = pd.DataFrame(data=uk)\n",
    "df = df[~df['text'].str.endswith('?') & ~df['mark'].isnull()]\n",
    "df['text'] = df['text']+df['dignity']+df['shortcomings']\n",
    "df.head()"
   ]
  },
  {
   "cell_type": "code",
   "execution_count": 75,
   "metadata": {},
   "outputs": [
    {
     "data": {
      "text/plain": [
       "5.0    1292\n",
       "0.0    1286\n",
       "4.0     415\n",
       "1.0     146\n",
       "3.0     143\n",
       "2.0      80\n",
       "Name: mark, dtype: int64"
      ]
     },
     "execution_count": 75,
     "metadata": {},
     "output_type": "execute_result"
    }
   ],
   "source": [
    "df['mark'].value_counts()"
   ]
  },
  {
   "cell_type": "code",
   "execution_count": 76,
   "metadata": {},
   "outputs": [],
   "source": [
    "df['target'] = df['mark'].apply({5.0: 'pos', 4.0: 'meh', 3.0: 'meh', 2.0: 'neg', 1.0: 'neg', 0.0: 'meh'}.get)"
   ]
  },
  {
   "cell_type": "code",
   "execution_count": 77,
   "metadata": {},
   "outputs": [],
   "source": [
    "X_train, X_test, y_train, y_test = train_test_split(df['text'], df['target'], test_size=0.3, random_state=42)"
   ]
  },
  {
   "cell_type": "code",
   "execution_count": 78,
   "metadata": {},
   "outputs": [
    {
     "name": "stdout",
     "output_type": "stream",
     "text": [
      "Total number of features:  18593\n"
     ]
    }
   ],
   "source": [
    "vectorizer = CountVectorizer()\n",
    "vectorizer.fit(X_train.append(X_test))\n",
    "train_features_vectorized = vectorizer.transform(X_train)\n",
    "print(\"Total number of features: \", len(vectorizer.get_feature_names()))"
   ]
  },
  {
   "cell_type": "code",
   "execution_count": 79,
   "metadata": {},
   "outputs": [
    {
     "name": "stderr",
     "output_type": "stream",
     "text": [
      "[Parallel(n_jobs=1)]: Using backend SequentialBackend with 1 concurrent workers.\n"
     ]
    },
    {
     "name": "stdout",
     "output_type": "stream",
     "text": [
      "max_iter reached after 4 seconds\n"
     ]
    },
    {
     "name": "stderr",
     "output_type": "stream",
     "text": [
      "/usr/local/lib/python3.7/site-packages/sklearn/linear_model/_sag.py:330: ConvergenceWarning: The max_iter was reached which means the coef_ did not converge\n",
      "  \"the coef_ did not converge\", ConvergenceWarning)\n",
      "[Parallel(n_jobs=1)]: Done   1 out of   1 | elapsed:    3.2s finished\n"
     ]
    },
    {
     "data": {
      "text/plain": [
       "LogisticRegression(C=1.0, class_weight=None, dual=False, fit_intercept=True,\n",
       "                   intercept_scaling=1, l1_ratio=None, max_iter=1000,\n",
       "                   multi_class='multinomial', n_jobs=None, penalty='l2',\n",
       "                   random_state=42, solver='sag', tol=0.0001, verbose=1,\n",
       "                   warm_start=False)"
      ]
     },
     "execution_count": 79,
     "metadata": {},
     "output_type": "execute_result"
    }
   ],
   "source": [
    "from sklearn.linear_model import LogisticRegression\n",
    "lrc = LogisticRegression(random_state=42, solver=\"sag\", multi_class=\"multinomial\",\n",
    "                         max_iter=1000, verbose=1)\n",
    "lrc.fit(train_features_vectorized, y_train)"
   ]
  },
  {
   "cell_type": "code",
   "execution_count": 80,
   "metadata": {},
   "outputs": [
    {
     "data": {
      "text/plain": [
       "<1009x18593 sparse matrix of type '<class 'numpy.int64'>'\n",
       "\twith 30513 stored elements in Compressed Sparse Row format>"
      ]
     },
     "execution_count": 80,
     "metadata": {},
     "output_type": "execute_result"
    }
   ],
   "source": [
    "test_features_vectorized = vectorizer.transform(X_test)\n",
    "test_features_vectorized"
   ]
  },
  {
   "cell_type": "code",
   "execution_count": 73,
   "metadata": {
    "scrolled": true
   },
   "outputs": [
    {
     "name": "stdout",
     "output_type": "stream",
     "text": [
      "              precision    recall  f1-score   support\n",
      "\n",
      "         meh       0.28      0.21      0.24       157\n",
      "         neg       0.68      0.69      0.68       470\n",
      "         pos       0.60      0.65      0.62       382\n",
      "\n",
      "    accuracy                           0.60      1009\n",
      "   macro avg       0.52      0.52      0.52      1009\n",
      "weighted avg       0.59      0.60      0.59      1009\n",
      "\n"
     ]
    }
   ],
   "source": [
    "predicted = lrc.predict(test_features_vectorized)\n",
    "print(classification_report(y_test, predicted))"
   ]
  },
  {
   "cell_type": "code",
   "execution_count": null,
   "metadata": {},
   "outputs": [],
   "source": []
  }
 ],
 "metadata": {
  "kernelspec": {
   "display_name": "Python 3",
   "language": "python",
   "name": "python3"
  },
  "language_info": {
   "codemirror_mode": {
    "name": "ipython",
    "version": 3
   },
   "file_extension": ".py",
   "mimetype": "text/x-python",
   "name": "python",
   "nbconvert_exporter": "python",
   "pygments_lexer": "ipython3",
   "version": "3.7.7"
  }
 },
 "nbformat": 4,
 "nbformat_minor": 2
}
