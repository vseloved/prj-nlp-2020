{
 "cells": [
  {
   "cell_type": "code",
   "execution_count": 183,
   "metadata": {},
   "outputs": [],
   "source": [
    "import requests\n",
    "import json"
   ]
  },
  {
   "cell_type": "code",
   "execution_count": 177,
   "metadata": {},
   "outputs": [],
   "source": [
    "url = 'https://xl-catalog-api.rozetka.com.ua/v2/goods/get?front-type=xl&category_id=80003&page=1&sort=rank&lang=ru'\n",
    "page = requests.get(url)\n",
    "total_pages = page.json()['data']['total_pages']\n",
    "ids = []\n",
    "for i in range(1, total_pages+1):\n",
    "    url = f'https://xl-catalog-api.rozetka.com.ua/v2/goods/get?front-type=xl&category_id=80003&page={i}&sort=rank&lang=ru'\n",
    "    page = requests.get(url)\n",
    "    ids += page.json()['data']['ids']"
   ]
  },
  {
   "cell_type": "code",
   "execution_count": 181,
   "metadata": {},
   "outputs": [],
   "source": [
    "!mkdir jsons"
   ]
  },
  {
   "cell_type": "code",
   "execution_count": 182,
   "metadata": {},
   "outputs": [],
   "source": [
    "for good in ids:\n",
    "    url = f'https://product-api.rozetka.com.ua/v3/comments/get?front-type=xl&goods={good}&page=1&sort=date&limit=10&lang=ua'\n",
    "    page = requests.get(url)\n",
    "    pages = page.json()['data']['pages']['count']\n",
    "    for i in range(1, pages+1):\n",
    "        url = f'https://product-api.rozetka.com.ua/v3/comments/get?front-type=xl&goods={good}&page={i}&sort=date&limit=10&lang=ua'\n",
    "        page = requests.get(url)\n",
    "        data = page.json()\n",
    "        with open(f'jsons/{good}_{i}.json', 'w') as f:\n",
    "            json.dump(data, f)"
   ]
  }
 ],
 "metadata": {
  "kernelspec": {
   "display_name": "Python 3",
   "language": "python",
   "name": "python3"
  },
  "language_info": {
   "codemirror_mode": {
    "name": "ipython",
    "version": 3
   },
   "file_extension": ".py",
   "mimetype": "text/x-python",
   "name": "python",
   "nbconvert_exporter": "python",
   "pygments_lexer": "ipython3",
   "version": "3.7.7"
  }
 },
 "nbformat": 4,
 "nbformat_minor": 2
}
