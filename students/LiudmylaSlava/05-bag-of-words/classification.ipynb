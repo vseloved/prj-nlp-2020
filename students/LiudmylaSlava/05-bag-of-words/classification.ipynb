{
 "cells": [
  {
   "cell_type": "code",
   "execution_count": 2,
   "metadata": {},
   "outputs": [
    {
     "name": "stderr",
     "output_type": "stream",
     "text": [
      "2020-04-22 13:57:06 INFO: Loading these models for language: uk (Ukrainian):\n",
      "=======================\n",
      "| Processor | Package |\n",
      "-----------------------\n",
      "| tokenize  | iu      |\n",
      "| mwt       | iu      |\n",
      "| pos       | iu      |\n",
      "| lemma     | iu      |\n",
      "| depparse  | iu      |\n",
      "=======================\n",
      "\n",
      "2020-04-22 13:57:06 INFO: Use device: gpu\n",
      "2020-04-22 13:57:06 INFO: Loading: tokenize\n",
      "2020-04-22 13:57:06 INFO: Loading: mwt\n",
      "2020-04-22 13:57:06 INFO: Loading: pos\n",
      "2020-04-22 13:57:07 INFO: Loading: lemma\n",
      "2020-04-22 13:57:07 INFO: Loading: depparse\n",
      "2020-04-22 13:57:08 INFO: Done loading processors!\n"
     ]
    }
   ],
   "source": [
    "import langdetect\n",
    "import sys\n",
    "import json\n",
    "from collections import defaultdict\n",
    "from sklearn.model_selection import train_test_split\n",
    "import pandas as pd\n",
    "from sklearn.feature_extraction.text import CountVectorizer\n",
    "from sklearn.metrics import classification_report\n",
    "pd.set_option('display.max_colwidth', None)\n",
    "import stanza\n",
    "# stanza.download('uk')\n",
    "nlp = stanza.Pipeline(lang='uk')\n",
    "from nltk.tokenize import word_tokenize"
   ]
  },
  {
   "cell_type": "code",
   "execution_count": 3,
   "metadata": {},
   "outputs": [],
   "source": [
    "# !cat jsons/*.json | jq -c '.data | .comments[] | .commentdatajson | {mark,text,dignity,shortcomings}' | jq -s > electronics.json"
   ]
  },
  {
   "cell_type": "code",
   "execution_count": 4,
   "metadata": {},
   "outputs": [],
   "source": [
    "with open('electronics.json') as f:\n",
    "    content = json.load(f)"
   ]
  },
  {
   "cell_type": "code",
   "execution_count": 5,
   "metadata": {},
   "outputs": [
    {
     "data": {
      "text/html": [
       "<div>\n",
       "<style scoped>\n",
       "    .dataframe tbody tr th:only-of-type {\n",
       "        vertical-align: middle;\n",
       "    }\n",
       "\n",
       "    .dataframe tbody tr th {\n",
       "        vertical-align: top;\n",
       "    }\n",
       "\n",
       "    .dataframe thead th {\n",
       "        text-align: right;\n",
       "    }\n",
       "</style>\n",
       "<table border=\"1\" class=\"dataframe\">\n",
       "  <thead>\n",
       "    <tr style=\"text-align: right;\">\n",
       "      <th></th>\n",
       "      <th>mark</th>\n",
       "      <th>text</th>\n",
       "      <th>dignity</th>\n",
       "      <th>shortcomings</th>\n",
       "    </tr>\n",
       "  </thead>\n",
       "  <tbody>\n",
       "    <tr>\n",
       "      <th>0</th>\n",
       "      <td>5</td>\n",
       "      <td>Апарат брав не тут. Смарт супер. Екран насичений, великий. Телефон зручно лежить в руці, принаймні в мене. Зелений корпус дивиться круто! Швидкий. Батарея тримає день. В силіконовому чохлі не слизький. Камера норм. Селфі камера - так і є нахил в право. Трішки нервує, але не критично. В комлекті були навушники та заводська плівка. З мінусів це датчик приблеження. В телефоній розмові норм, але вайбер, месенджер просто жах. По роботі багато користуюсь цим софтом. Відключаєш вухом все!!! + немає індикатора повідомлень.</td>\n",
       "      <td>Батарея, екран, вигляд.</td>\n",
       "      <td>Датчик приближення, нахил селфі камери.</td>\n",
       "    </tr>\n",
       "    <tr>\n",
       "      <th>1</th>\n",
       "      <td>5</td>\n",
       "      <td>За цю вартість відмінний смартфон. Недоліків на даний час не виявлено. Цікаве рішення з фронтальною камерою. Аккумулятора вистачає. Купувався апарат на подарунок, але налаштовувався мною. Тому пишу лише перші враження.</td>\n",
       "      <td>Ціна, екран, сенсор</td>\n",
       "      <td>На даний момент ще не виявлено</td>\n",
       "    </tr>\n",
       "    <tr>\n",
       "      <th>2</th>\n",
       "      <td>5</td>\n",
       "      <td>Класний телефон з цікавим дизайном. Батарея тримає 2 дні. Гарний екран.</td>\n",
       "      <td></td>\n",
       "      <td>Важко знайти чохол.</td>\n",
       "    </tr>\n",
       "    <tr>\n",
       "      <th>4</th>\n",
       "      <td>5</td>\n",
       "      <td>Телефон отримала буквально на наступний день. Літаю з ним пару днів і поки що ( надіюся і надалі) нічого поганого сказати не можу.</td>\n",
       "      <td></td>\n",
       "      <td></td>\n",
       "    </tr>\n",
       "    <tr>\n",
       "      <th>5</th>\n",
       "      <td>5</td>\n",
       "      <td>Класний, шикарний, просто бомба телефон за свої Гроші. Після включення зразу прилетіла обнова.</td>\n",
       "      <td>Екран, камера, батарея,сканер відбитку пальця, телефон суцільна перевага.</td>\n",
       "      <td>Не виявлено</td>\n",
       "    </tr>\n",
       "  </tbody>\n",
       "</table>\n",
       "</div>"
      ],
      "text/plain": [
       "   mark  \\\n",
       "0     5   \n",
       "1     5   \n",
       "2     5   \n",
       "4     5   \n",
       "5     5   \n",
       "\n",
       "                                                                                                                                                                                                                                                                                                                                                                                                                                                                                                                                       text  \\\n",
       "0  Апарат брав не тут. Смарт супер. Екран насичений, великий. Телефон зручно лежить в руці, принаймні в мене. Зелений корпус дивиться круто! Швидкий. Батарея тримає день. В силіконовому чохлі не слизький. Камера норм. Селфі камера - так і є нахил в право. Трішки нервує, але не критично. В комлекті були навушники та заводська плівка. З мінусів це датчик приблеження. В телефоній розмові норм, але вайбер, месенджер просто жах. По роботі багато користуюсь цим софтом. Відключаєш вухом все!!! + немає індикатора повідомлень.   \n",
       "1                                                                                                                                                                                                                                                                                                                За цю вартість відмінний смартфон. Недоліків на даний час не виявлено. Цікаве рішення з фронтальною камерою. Аккумулятора вистачає. Купувався апарат на подарунок, але налаштовувався мною. Тому пишу лише перші враження.   \n",
       "2                                                                                                                                                                                                                                                                                                                                                                                                                                                                   Класний телефон з цікавим дизайном. Батарея тримає 2 дні. Гарний екран.   \n",
       "4                                                                                                                                                                                                                                                                                                                                                                                                        Телефон отримала буквально на наступний день. Літаю з ним пару днів і поки що ( надіюся і надалі) нічого поганого сказати не можу.   \n",
       "5                                                                                                                                                                                                                                                                                                                                                                                                                                            Класний, шикарний, просто бомба телефон за свої Гроші. Після включення зразу прилетіла обнова.   \n",
       "\n",
       "                                                                     dignity  \\\n",
       "0                                                    Батарея, екран, вигляд.   \n",
       "1                                                        Ціна, екран, сенсор   \n",
       "2                                                                              \n",
       "4                                                                              \n",
       "5  Екран, камера, батарея,сканер відбитку пальця, телефон суцільна перевага.   \n",
       "\n",
       "                              shortcomings  \n",
       "0  Датчик приближення, нахил селфі камери.  \n",
       "1           На даний момент ще не виявлено  \n",
       "2                      Важко знайти чохол.  \n",
       "4                                           \n",
       "5                              Не виявлено  "
      ]
     },
     "execution_count": 5,
     "metadata": {},
     "output_type": "execute_result"
    }
   ],
   "source": [
    "df = pd.DataFrame(data=content)\n",
    "df = df[~df['mark'].isnull()]\n",
    "df = df[~((df['dignity']=='')&(df['shortcomings']=='')&(df['text'].str.contains('?', regex=False)))]\n",
    "df.head()"
   ]
  },
  {
   "cell_type": "code",
   "execution_count": 6,
   "metadata": {},
   "outputs": [],
   "source": [
    "import re\n",
    "\n",
    "def clean(text):\n",
    "    text = text.replace('\\n', '')\n",
    "    clean = re.compile('<.*?>')\n",
    "    return re.sub(clean, '', text.lower())"
   ]
  },
  {
   "cell_type": "code",
   "execution_count": 7,
   "metadata": {},
   "outputs": [
    {
     "data": {
      "text/plain": [
       "5    6104\n",
       "4    1580\n",
       "1     637\n",
       "3     588\n",
       "2     403\n",
       "Name: mark, dtype: int64"
      ]
     },
     "execution_count": 7,
     "metadata": {},
     "output_type": "execute_result"
    }
   ],
   "source": [
    "df['text'] = df['text'].apply(clean)\n",
    "df = df[df['text']!='']\n",
    "df['mark'].value_counts()"
   ]
  },
  {
   "cell_type": "code",
   "execution_count": 8,
   "metadata": {},
   "outputs": [
    {
     "data": {
      "text/html": [
       "<div>\n",
       "<style scoped>\n",
       "    .dataframe tbody tr th:only-of-type {\n",
       "        vertical-align: middle;\n",
       "    }\n",
       "\n",
       "    .dataframe tbody tr th {\n",
       "        vertical-align: top;\n",
       "    }\n",
       "\n",
       "    .dataframe thead th {\n",
       "        text-align: right;\n",
       "    }\n",
       "</style>\n",
       "<table border=\"1\" class=\"dataframe\">\n",
       "  <thead>\n",
       "    <tr style=\"text-align: right;\">\n",
       "      <th></th>\n",
       "      <th>mark</th>\n",
       "      <th>text</th>\n",
       "      <th>dignity</th>\n",
       "      <th>shortcomings</th>\n",
       "    </tr>\n",
       "  </thead>\n",
       "  <tbody>\n",
       "    <tr>\n",
       "      <th>0</th>\n",
       "      <td>5</td>\n",
       "      <td>апарат брав не тут. смарт супер. екран насичений, великий. телефон зручно лежить в руці, принаймні в мене. зелений корпус дивиться круто! швидкий. батарея тримає день. в силіконовому чохлі не слизький. камера норм. селфі камера - так і є нахил в право. трішки нервує, але не критично. в комлекті були навушники та заводська плівка. з мінусів це датчик приблеження. в телефоній розмові норм, але вайбер, месенджер просто жах. по роботі багато користуюсь цим софтом. відключаєш вухом все!!! + немає індикатора повідомлень.</td>\n",
       "      <td>Батарея, екран, вигляд.</td>\n",
       "      <td>Датчик приближення, нахил селфі камери.</td>\n",
       "    </tr>\n",
       "    <tr>\n",
       "      <th>1</th>\n",
       "      <td>5</td>\n",
       "      <td>за цю вартість відмінний смартфон. недоліків на даний час не виявлено. цікаве рішення з фронтальною камерою. аккумулятора вистачає. купувався апарат на подарунок, але налаштовувався мною. тому пишу лише перші враження.</td>\n",
       "      <td>Ціна, екран, сенсор</td>\n",
       "      <td>На даний момент ще не виявлено</td>\n",
       "    </tr>\n",
       "    <tr>\n",
       "      <th>2</th>\n",
       "      <td>5</td>\n",
       "      <td>класний телефон з цікавим дизайном. батарея тримає 2 дні. гарний екран.</td>\n",
       "      <td></td>\n",
       "      <td>Важко знайти чохол.</td>\n",
       "    </tr>\n",
       "    <tr>\n",
       "      <th>4</th>\n",
       "      <td>5</td>\n",
       "      <td>телефон отримала буквально на наступний день. літаю з ним пару днів і поки що ( надіюся і надалі) нічого поганого сказати не можу.</td>\n",
       "      <td></td>\n",
       "      <td></td>\n",
       "    </tr>\n",
       "    <tr>\n",
       "      <th>5</th>\n",
       "      <td>5</td>\n",
       "      <td>класний, шикарний, просто бомба телефон за свої гроші. після включення зразу прилетіла обнова.</td>\n",
       "      <td>Екран, камера, батарея,сканер відбитку пальця, телефон суцільна перевага.</td>\n",
       "      <td>Не виявлено</td>\n",
       "    </tr>\n",
       "  </tbody>\n",
       "</table>\n",
       "</div>"
      ],
      "text/plain": [
       "   mark  \\\n",
       "0     5   \n",
       "1     5   \n",
       "2     5   \n",
       "4     5   \n",
       "5     5   \n",
       "\n",
       "                                                                                                                                                                                                                                                                                                                                                                                                                                                                                                                                       text  \\\n",
       "0  апарат брав не тут. смарт супер. екран насичений, великий. телефон зручно лежить в руці, принаймні в мене. зелений корпус дивиться круто! швидкий. батарея тримає день. в силіконовому чохлі не слизький. камера норм. селфі камера - так і є нахил в право. трішки нервує, але не критично. в комлекті були навушники та заводська плівка. з мінусів це датчик приблеження. в телефоній розмові норм, але вайбер, месенджер просто жах. по роботі багато користуюсь цим софтом. відключаєш вухом все!!! + немає індикатора повідомлень.   \n",
       "1                                                                                                                                                                                                                                                                                                                за цю вартість відмінний смартфон. недоліків на даний час не виявлено. цікаве рішення з фронтальною камерою. аккумулятора вистачає. купувався апарат на подарунок, але налаштовувався мною. тому пишу лише перші враження.   \n",
       "2                                                                                                                                                                                                                                                                                                                                                                                                                                                                   класний телефон з цікавим дизайном. батарея тримає 2 дні. гарний екран.   \n",
       "4                                                                                                                                                                                                                                                                                                                                                                                                        телефон отримала буквально на наступний день. літаю з ним пару днів і поки що ( надіюся і надалі) нічого поганого сказати не можу.   \n",
       "5                                                                                                                                                                                                                                                                                                                                                                                                                                            класний, шикарний, просто бомба телефон за свої гроші. після включення зразу прилетіла обнова.   \n",
       "\n",
       "                                                                     dignity  \\\n",
       "0                                                    Батарея, екран, вигляд.   \n",
       "1                                                        Ціна, екран, сенсор   \n",
       "2                                                                              \n",
       "4                                                                              \n",
       "5  Екран, камера, батарея,сканер відбитку пальця, телефон суцільна перевага.   \n",
       "\n",
       "                              shortcomings  \n",
       "0  Датчик приближення, нахил селфі камери.  \n",
       "1           На даний момент ще не виявлено  \n",
       "2                      Важко знайти чохол.  \n",
       "4                                           \n",
       "5                              Не виявлено  "
      ]
     },
     "execution_count": 8,
     "metadata": {},
     "output_type": "execute_result"
    }
   ],
   "source": [
    "df.head()"
   ]
  },
  {
   "cell_type": "code",
   "execution_count": 9,
   "metadata": {},
   "outputs": [
    {
     "data": {
      "text/plain": [
       "pos    0.825172\n",
       "neg    0.174828\n",
       "Name: target, dtype: float64"
      ]
     },
     "execution_count": 9,
     "metadata": {},
     "output_type": "execute_result"
    }
   ],
   "source": [
    "df['target'] = df['mark'].apply({5.0: 'pos', 4.0: 'pos', 3.0: 'neg', 2.0: 'neg', 1.0: 'neg'}.get)\n",
    "df['target'].value_counts(normalize=True)"
   ]
  },
  {
   "cell_type": "markdown",
   "metadata": {},
   "source": [
    "# Baseline : MultinomialNB"
   ]
  },
  {
   "cell_type": "code",
   "execution_count": 10,
   "metadata": {},
   "outputs": [],
   "source": [
    "X_train, X_test, y_train, y_test = train_test_split(df['text'], df['target'], test_size=0.3, random_state=42)"
   ]
  },
  {
   "cell_type": "code",
   "execution_count": 11,
   "metadata": {},
   "outputs": [
    {
     "name": "stdout",
     "output_type": "stream",
     "text": [
      "Total number of features:  28115\n"
     ]
    }
   ],
   "source": [
    "vectorizer = CountVectorizer()\n",
    "vec = vectorizer.fit(X_train.append(X_test))\n",
    "print(\"Total number of features: \", len(vec.get_feature_names()))"
   ]
  },
  {
   "cell_type": "code",
   "execution_count": 12,
   "metadata": {},
   "outputs": [],
   "source": [
    "train_features_vectorized = vec.transform(X_train)\n",
    "test_features_vectorized = vec.transform(X_test)"
   ]
  },
  {
   "cell_type": "code",
   "execution_count": 13,
   "metadata": {},
   "outputs": [
    {
     "data": {
      "text/plain": [
       "MultinomialNB(alpha=1.0, class_prior=None, fit_prior=True)"
      ]
     },
     "execution_count": 13,
     "metadata": {},
     "output_type": "execute_result"
    }
   ],
   "source": [
    "from sklearn.naive_bayes import MultinomialNB\n",
    "clf = MultinomialNB()\n",
    "clf.fit(train_features_vectorized, y_train)"
   ]
  },
  {
   "cell_type": "code",
   "execution_count": 14,
   "metadata": {},
   "outputs": [
    {
     "name": "stdout",
     "output_type": "stream",
     "text": [
      "              precision    recall  f1-score   support\n",
      "\n",
      "         neg       0.68      0.37      0.48       515\n",
      "         pos       0.87      0.96      0.91      2279\n",
      "\n",
      "    accuracy                           0.85      2794\n",
      "   macro avg       0.78      0.67      0.70      2794\n",
      "weighted avg       0.84      0.85      0.83      2794\n",
      "\n"
     ]
    }
   ],
   "source": [
    "predicted = clf.predict(test_features_vectorized)\n",
    "print(classification_report(y_test, predicted))"
   ]
  },
  {
   "cell_type": "markdown",
   "metadata": {},
   "source": [
    "# LogisticRegression + lemma + bigrams"
   ]
  },
  {
   "cell_type": "code",
   "execution_count": 15,
   "metadata": {},
   "outputs": [],
   "source": [
    "def lemm(x):\n",
    "    doc = nlp(x)\n",
    "    lemmas = []\n",
    "    for sent in doc.sentences:\n",
    "        for token in sent.words:\n",
    "            lemmas.append(token.lemma)\n",
    "    res = ' '.join(l for l in lemmas if l)\n",
    "    return res"
   ]
  },
  {
   "cell_type": "code",
   "execution_count": 16,
   "metadata": {},
   "outputs": [
    {
     "name": "stdout",
     "output_type": "stream",
     "text": [
      "CPU times: user 12min, sys: 970 ms, total: 12min 1s\n",
      "Wall time: 12min 1s\n"
     ]
    }
   ],
   "source": [
    "%%time\n",
    "df['lemma_text'] = df['text'].apply(lemm)\n",
    "# df.to_csv('lemma.csv')"
   ]
  },
  {
   "cell_type": "code",
   "execution_count": 17,
   "metadata": {},
   "outputs": [
    {
     "data": {
      "text/html": [
       "<div>\n",
       "<style scoped>\n",
       "    .dataframe tbody tr th:only-of-type {\n",
       "        vertical-align: middle;\n",
       "    }\n",
       "\n",
       "    .dataframe tbody tr th {\n",
       "        vertical-align: top;\n",
       "    }\n",
       "\n",
       "    .dataframe thead th {\n",
       "        text-align: right;\n",
       "    }\n",
       "</style>\n",
       "<table border=\"1\" class=\"dataframe\">\n",
       "  <thead>\n",
       "    <tr style=\"text-align: right;\">\n",
       "      <th></th>\n",
       "      <th>mark</th>\n",
       "      <th>text</th>\n",
       "      <th>dignity</th>\n",
       "      <th>shortcomings</th>\n",
       "      <th>target</th>\n",
       "      <th>lemma_text</th>\n",
       "    </tr>\n",
       "  </thead>\n",
       "  <tbody>\n",
       "    <tr>\n",
       "      <th>0</th>\n",
       "      <td>5</td>\n",
       "      <td>апарат брав не тут. смарт супер. екран насичений, великий. телефон зручно лежить в руці, принаймні в мене. зелений корпус дивиться круто! швидкий. батарея тримає день. в силіконовому чохлі не слизький. камера норм. селфі камера - так і є нахил в право. трішки нервує, але не критично. в комлекті були навушники та заводська плівка. з мінусів це датчик приблеження. в телефоній розмові норм, але вайбер, месенджер просто жах. по роботі багато користуюсь цим софтом. відключаєш вухом все!!! + немає індикатора повідомлень.</td>\n",
       "      <td>Батарея, екран, вигляд.</td>\n",
       "      <td>Датчик приближення, нахил селфі камери.</td>\n",
       "      <td>pos</td>\n",
       "      <td>апарат брати не тут . смарт супер . екран насичений , великий . телефон зручно лежати в рука , принаймні в я . зелений корпус дивитися круто ! швидкий . батарея тримати день . в силіконовий чохля не слизький . камера норма . селфі камера - так і бути нахил в право . трішки нервувати , але не критично . в комлект бути навушник та заводський плівка . з мінус це датчик приблеження . в телефонія розмова норма , але вайбер , месенджер просто жах . по робота багато користуватися цей софт . відключати вухо все !!! + немати індикатор повідомлення .</td>\n",
       "    </tr>\n",
       "    <tr>\n",
       "      <th>1</th>\n",
       "      <td>5</td>\n",
       "      <td>за цю вартість відмінний смартфон. недоліків на даний час не виявлено. цікаве рішення з фронтальною камерою. аккумулятора вистачає. купувався апарат на подарунок, але налаштовувався мною. тому пишу лише перші враження.</td>\n",
       "      <td>Ціна, екран, сенсор</td>\n",
       "      <td>На даний момент ще не виявлено</td>\n",
       "      <td>pos</td>\n",
       "      <td>за цей вартість відмінний смартфон . недолік на даний час не виявити . цікавий рішення з фронтальний камера . аккумулятора вистачати . купуватися апарат на подарунок , але налаштовуватися я . тому писати лише перший враження .</td>\n",
       "    </tr>\n",
       "    <tr>\n",
       "      <th>2</th>\n",
       "      <td>5</td>\n",
       "      <td>класний телефон з цікавим дизайном. батарея тримає 2 дні. гарний екран.</td>\n",
       "      <td></td>\n",
       "      <td>Важко знайти чохол.</td>\n",
       "      <td>pos</td>\n",
       "      <td>класний телефон з цікавий дизайн . батарея тримати 2 день . гарний екран .</td>\n",
       "    </tr>\n",
       "    <tr>\n",
       "      <th>4</th>\n",
       "      <td>5</td>\n",
       "      <td>телефон отримала буквально на наступний день. літаю з ним пару днів і поки що ( надіюся і надалі) нічого поганого сказати не можу.</td>\n",
       "      <td></td>\n",
       "      <td></td>\n",
       "      <td>pos</td>\n",
       "      <td>телефон отримати буквально на наступний день . літати з він пара день і поки що ( надіятися і надалі ) ніщо поган сказати не могти .</td>\n",
       "    </tr>\n",
       "    <tr>\n",
       "      <th>5</th>\n",
       "      <td>5</td>\n",
       "      <td>класний, шикарний, просто бомба телефон за свої гроші. після включення зразу прилетіла обнова.</td>\n",
       "      <td>Екран, камера, батарея,сканер відбитку пальця, телефон суцільна перевага.</td>\n",
       "      <td>Не виявлено</td>\n",
       "      <td>pos</td>\n",
       "      <td>класний , шикарний , просто бомба телефон за свій гроші . після включення зразу прилетіти обнова .</td>\n",
       "    </tr>\n",
       "  </tbody>\n",
       "</table>\n",
       "</div>"
      ],
      "text/plain": [
       "   mark  \\\n",
       "0     5   \n",
       "1     5   \n",
       "2     5   \n",
       "4     5   \n",
       "5     5   \n",
       "\n",
       "                                                                                                                                                                                                                                                                                                                                                                                                                                                                                                                                       text  \\\n",
       "0  апарат брав не тут. смарт супер. екран насичений, великий. телефон зручно лежить в руці, принаймні в мене. зелений корпус дивиться круто! швидкий. батарея тримає день. в силіконовому чохлі не слизький. камера норм. селфі камера - так і є нахил в право. трішки нервує, але не критично. в комлекті були навушники та заводська плівка. з мінусів це датчик приблеження. в телефоній розмові норм, але вайбер, месенджер просто жах. по роботі багато користуюсь цим софтом. відключаєш вухом все!!! + немає індикатора повідомлень.   \n",
       "1                                                                                                                                                                                                                                                                                                                за цю вартість відмінний смартфон. недоліків на даний час не виявлено. цікаве рішення з фронтальною камерою. аккумулятора вистачає. купувався апарат на подарунок, але налаштовувався мною. тому пишу лише перші враження.   \n",
       "2                                                                                                                                                                                                                                                                                                                                                                                                                                                                   класний телефон з цікавим дизайном. батарея тримає 2 дні. гарний екран.   \n",
       "4                                                                                                                                                                                                                                                                                                                                                                                                        телефон отримала буквально на наступний день. літаю з ним пару днів і поки що ( надіюся і надалі) нічого поганого сказати не можу.   \n",
       "5                                                                                                                                                                                                                                                                                                                                                                                                                                            класний, шикарний, просто бомба телефон за свої гроші. після включення зразу прилетіла обнова.   \n",
       "\n",
       "                                                                     dignity  \\\n",
       "0                                                    Батарея, екран, вигляд.   \n",
       "1                                                        Ціна, екран, сенсор   \n",
       "2                                                                              \n",
       "4                                                                              \n",
       "5  Екран, камера, батарея,сканер відбитку пальця, телефон суцільна перевага.   \n",
       "\n",
       "                              shortcomings target  \\\n",
       "0  Датчик приближення, нахил селфі камери.    pos   \n",
       "1           На даний момент ще не виявлено    pos   \n",
       "2                      Важко знайти чохол.    pos   \n",
       "4                                             pos   \n",
       "5                              Не виявлено    pos   \n",
       "\n",
       "                                                                                                                                                                                                                                                                                                                                                                                                                                                                                                                                                           lemma_text  \n",
       "0  апарат брати не тут . смарт супер . екран насичений , великий . телефон зручно лежати в рука , принаймні в я . зелений корпус дивитися круто ! швидкий . батарея тримати день . в силіконовий чохля не слизький . камера норма . селфі камера - так і бути нахил в право . трішки нервувати , але не критично . в комлект бути навушник та заводський плівка . з мінус це датчик приблеження . в телефонія розмова норма , але вайбер , месенджер просто жах . по робота багато користуватися цей софт . відключати вухо все !!! + немати індикатор повідомлення .  \n",
       "1                                                                                                                                                                                                                                                                                                                                  за цей вартість відмінний смартфон . недолік на даний час не виявити . цікавий рішення з фронтальний камера . аккумулятора вистачати . купуватися апарат на подарунок , але налаштовуватися я . тому писати лише перший враження .  \n",
       "2                                                                                                                                                                                                                                                                                                                                                                                                                                                                                          класний телефон з цікавий дизайн . батарея тримати 2 день . гарний екран .  \n",
       "4                                                                                                                                                                                                                                                                                                                                                                                                                                телефон отримати буквально на наступний день . літати з він пара день і поки що ( надіятися і надалі ) ніщо поган сказати не могти .  \n",
       "5                                                                                                                                                                                                                                                                                                                                                                                                                                                                  класний , шикарний , просто бомба телефон за свій гроші . після включення зразу прилетіти обнова .  "
      ]
     },
     "execution_count": 17,
     "metadata": {},
     "output_type": "execute_result"
    }
   ],
   "source": [
    "# df = pd.read_csv('lemma.csv')\n",
    "df.head()"
   ]
  },
  {
   "cell_type": "code",
   "execution_count": 19,
   "metadata": {},
   "outputs": [],
   "source": [
    "X_train, X_test, y_train, y_test = train_test_split(df['lemma_text'], df['target'], test_size=0.3, random_state=42)"
   ]
  },
  {
   "cell_type": "code",
   "execution_count": 20,
   "metadata": {},
   "outputs": [
    {
     "name": "stdout",
     "output_type": "stream",
     "text": [
      "Total number of features:  144277\n"
     ]
    }
   ],
   "source": [
    "vectorizer = CountVectorizer(ngram_range = (1,2))\n",
    "vec = vectorizer.fit(X_train.append(X_test))\n",
    "print(\"Total number of features: \", len(vec.get_feature_names()))"
   ]
  },
  {
   "cell_type": "code",
   "execution_count": 21,
   "metadata": {},
   "outputs": [],
   "source": [
    "train_features_vectorized = vec.transform(X_train)\n",
    "test_features_vectorized = vec.transform(X_test)"
   ]
  },
  {
   "cell_type": "code",
   "execution_count": 22,
   "metadata": {},
   "outputs": [
    {
     "name": "stderr",
     "output_type": "stream",
     "text": [
      "[Parallel(n_jobs=1)]: Using backend SequentialBackend with 1 concurrent workers.\n"
     ]
    },
    {
     "name": "stdout",
     "output_type": "stream",
     "text": [
      "max_iter reached after 7 seconds\n"
     ]
    },
    {
     "name": "stderr",
     "output_type": "stream",
     "text": [
      "/home/liudmyla/.local/lib/python3.8/site-packages/sklearn/linear_model/_sag.py:329: ConvergenceWarning: The max_iter was reached which means the coef_ did not converge\n",
      "  warnings.warn(\"The max_iter was reached which means \"\n",
      "[Parallel(n_jobs=1)]: Done   1 out of   1 | elapsed:    7.5s finished\n"
     ]
    },
    {
     "data": {
      "text/plain": [
       "LogisticRegression(C=1.0, class_weight=None, dual=False, fit_intercept=True,\n",
       "                   intercept_scaling=1, l1_ratio=None, max_iter=1000,\n",
       "                   multi_class='multinomial', n_jobs=None, penalty='l2',\n",
       "                   random_state=42, solver='sag', tol=0.0001, verbose=1,\n",
       "                   warm_start=False)"
      ]
     },
     "execution_count": 22,
     "metadata": {},
     "output_type": "execute_result"
    }
   ],
   "source": [
    "from sklearn.linear_model import LogisticRegression\n",
    "lrc = LogisticRegression(random_state=42, solver=\"sag\", multi_class=\"multinomial\",\n",
    "                         max_iter=1000, verbose=1)\n",
    "lrc.fit(train_features_vectorized, y_train)"
   ]
  },
  {
   "cell_type": "code",
   "execution_count": 23,
   "metadata": {},
   "outputs": [
    {
     "name": "stdout",
     "output_type": "stream",
     "text": [
      "              precision    recall  f1-score   support\n",
      "\n",
      "         neg       0.76      0.50      0.60       515\n",
      "         pos       0.90      0.96      0.93      2279\n",
      "\n",
      "    accuracy                           0.88      2794\n",
      "   macro avg       0.83      0.73      0.77      2794\n",
      "weighted avg       0.87      0.88      0.87      2794\n",
      "\n"
     ]
    }
   ],
   "source": [
    "# prediction on bigram words\n",
    "predicted = lrc.predict(test_features_vectorized)\n",
    "print(classification_report(y_test, predicted))"
   ]
  },
  {
   "cell_type": "code",
   "execution_count": 24,
   "metadata": {},
   "outputs": [
    {
     "name": "stderr",
     "output_type": "stream",
     "text": [
      "[Parallel(n_jobs=1)]: Using backend SequentialBackend with 1 concurrent workers.\n"
     ]
    },
    {
     "name": "stdout",
     "output_type": "stream",
     "text": [
      "max_iter reached after 6 seconds\n"
     ]
    },
    {
     "name": "stderr",
     "output_type": "stream",
     "text": [
      "/home/liudmyla/.local/lib/python3.8/site-packages/sklearn/linear_model/_sag.py:329: ConvergenceWarning: The max_iter was reached which means the coef_ did not converge\n",
      "  warnings.warn(\"The max_iter was reached which means \"\n",
      "[Parallel(n_jobs=1)]: Done   1 out of   1 | elapsed:    6.3s finished\n",
      "[Parallel(n_jobs=1)]: Using backend SequentialBackend with 1 concurrent workers.\n"
     ]
    },
    {
     "name": "stdout",
     "output_type": "stream",
     "text": [
      "max_iter reached after 7 seconds\n"
     ]
    },
    {
     "name": "stderr",
     "output_type": "stream",
     "text": [
      "/home/liudmyla/.local/lib/python3.8/site-packages/sklearn/linear_model/_sag.py:329: ConvergenceWarning: The max_iter was reached which means the coef_ did not converge\n",
      "  warnings.warn(\"The max_iter was reached which means \"\n",
      "[Parallel(n_jobs=1)]: Done   1 out of   1 | elapsed:    6.2s finished\n",
      "[Parallel(n_jobs=1)]: Using backend SequentialBackend with 1 concurrent workers.\n"
     ]
    },
    {
     "name": "stdout",
     "output_type": "stream",
     "text": [
      "max_iter reached after 6 seconds\n"
     ]
    },
    {
     "name": "stderr",
     "output_type": "stream",
     "text": [
      "/home/liudmyla/.local/lib/python3.8/site-packages/sklearn/linear_model/_sag.py:329: ConvergenceWarning: The max_iter was reached which means the coef_ did not converge\n",
      "  warnings.warn(\"The max_iter was reached which means \"\n",
      "[Parallel(n_jobs=1)]: Done   1 out of   1 | elapsed:    6.3s finished\n",
      "[Parallel(n_jobs=1)]: Using backend SequentialBackend with 1 concurrent workers.\n"
     ]
    },
    {
     "name": "stdout",
     "output_type": "stream",
     "text": [
      "max_iter reached after 6 seconds\n"
     ]
    },
    {
     "name": "stderr",
     "output_type": "stream",
     "text": [
      "/home/liudmyla/.local/lib/python3.8/site-packages/sklearn/linear_model/_sag.py:329: ConvergenceWarning: The max_iter was reached which means the coef_ did not converge\n",
      "  warnings.warn(\"The max_iter was reached which means \"\n",
      "[Parallel(n_jobs=1)]: Done   1 out of   1 | elapsed:    6.3s finished\n",
      "[Parallel(n_jobs=1)]: Using backend SequentialBackend with 1 concurrent workers.\n"
     ]
    },
    {
     "name": "stdout",
     "output_type": "stream",
     "text": [
      "max_iter reached after 6 seconds\n",
      "[0.72791149 0.7765491  0.76364494 0.73471981 0.73471981]\n"
     ]
    },
    {
     "name": "stderr",
     "output_type": "stream",
     "text": [
      "/home/liudmyla/.local/lib/python3.8/site-packages/sklearn/linear_model/_sag.py:329: ConvergenceWarning: The max_iter was reached which means the coef_ did not converge\n",
      "  warnings.warn(\"The max_iter was reached which means \"\n",
      "[Parallel(n_jobs=1)]: Done   1 out of   1 | elapsed:    6.2s finished\n"
     ]
    }
   ],
   "source": [
    "from sklearn.model_selection import cross_val_score\n",
    "lrc = LogisticRegression(random_state=42, solver=\"sag\", multi_class=\"multinomial\",\n",
    "                         max_iter=1000, verbose=1)\n",
    "scores = cross_val_score(lrc, train_features_vectorized, y_train, cv=5, scoring='f1_macro')\n",
    "print(scores)"
   ]
  },
  {
   "cell_type": "code",
   "execution_count": 25,
   "metadata": {},
   "outputs": [
    {
     "name": "stdout",
     "output_type": "stream",
     "text": [
      "Cross validation score = 0.7475090311750577\n"
     ]
    }
   ],
   "source": [
    "print(f'Cross validation score = {scores.mean()}')"
   ]
  },
  {
   "cell_type": "markdown",
   "metadata": {},
   "source": [
    "# Deal with imbalanced dataset"
   ]
  },
  {
   "cell_type": "code",
   "execution_count": 26,
   "metadata": {},
   "outputs": [
    {
     "data": {
      "text/plain": [
       "pos    7684\n",
       "neg    1628\n",
       "Name: target, dtype: int64"
      ]
     },
     "execution_count": 26,
     "metadata": {},
     "output_type": "execute_result"
    }
   ],
   "source": [
    "df['target'].value_counts()"
   ]
  },
  {
   "cell_type": "code",
   "execution_count": 27,
   "metadata": {},
   "outputs": [
    {
     "data": {
      "text/html": [
       "<div>\n",
       "<style scoped>\n",
       "    .dataframe tbody tr th:only-of-type {\n",
       "        vertical-align: middle;\n",
       "    }\n",
       "\n",
       "    .dataframe tbody tr th {\n",
       "        vertical-align: top;\n",
       "    }\n",
       "\n",
       "    .dataframe thead th {\n",
       "        text-align: right;\n",
       "    }\n",
       "</style>\n",
       "<table border=\"1\" class=\"dataframe\">\n",
       "  <thead>\n",
       "    <tr style=\"text-align: right;\">\n",
       "      <th></th>\n",
       "      <th>mark</th>\n",
       "      <th>text</th>\n",
       "      <th>dignity</th>\n",
       "      <th>shortcomings</th>\n",
       "      <th>target</th>\n",
       "      <th>lemma_text</th>\n",
       "    </tr>\n",
       "  </thead>\n",
       "  <tbody>\n",
       "    <tr>\n",
       "      <th>534</th>\n",
       "      <td>2</td>\n",
       "      <td>пульт на вигляд коштує 10 грн. потрібно купувати lg an-mr19ba.ніжки ну дуже здешевлені. пластикові.звук дуже слабенький в плані басу. басу майже нема.споживає 140 !!! ват.здешевлений зовнішньо - весь із чорного пластику, без вставок з іншого матеріалу.55\" занадто великий телек для перегляду т2. кубики видно.на lg 49\" кубиків не видно.</td>\n",
       "      <td>Це LG</td>\n",
       "      <td>Слабенький</td>\n",
       "      <td>neg</td>\n",
       "      <td>пульта на вигляд коштувати 10 грн . потрібно купувати lg an-mr 19ba . ніжка ну дуже здешевлений . пластиковий . звук дуже слабенький в план бас . бас майже немати . споживати 140 !!! вата . здешевлений зовнішній - весь із чорний пластика , без вставка з інший матеріал . 55 \" занадто великий телека для перегляд т2 . кубик видно . на lg 49 \" кубик не видно .</td>\n",
       "    </tr>\n",
       "    <tr>\n",
       "      <th>7643</th>\n",
       "      <td>1</td>\n",
       "      <td>користуюсь пів дня) 1.непрацює плей маркет. ніякими маніпуляціями не зміг заставити працювати.2. постійно вилітає браузер.3.оновлення системи не бачить підключення до вайфай і відповідно нічого не знаходить. 4. дуже сильно гріється при перегляді відео а також у браузері. відео не дуже потрібно, а от браузер... при цьому батареї хватає на 3години. якщо не зможу заставити працювати гугл сервіси, буду повертати. не вартий тої ціни, що за нього просять...</td>\n",
       "      <td>Швидкодія. Хороший дисплей, підсвітка та і на вигляд гарний. Браузер, вайфай, блютуз, 3.5мм</td>\n",
       "      <td>Непрацюють гугл сервіси. Гріється і дуже швидко сідає батарея. Сира прошивка. Вилітає браузер.</td>\n",
       "      <td>neg</td>\n",
       "      <td>користуватися пів день ) 1 . непрацювати плей маркет . ніякий маніпуляція не змогти заставити працювати . 2 . постійно вилітати браузер . 3 . оновлення система не бачити підключення до вайфай і відповідно ніщо не знаходити . 4 . дуже сильно грітися при перегляд відео а також у браузер . відео не дуже потрібно , а от браузер ... при це батарея хватати на 3години . якщо не змогти заставити працювати Гугл сервіс , бути повертати . не вартий той ціна , що за він просити ...</td>\n",
       "    </tr>\n",
       "    <tr>\n",
       "      <th>8945</th>\n",
       "      <td>2</td>\n",
       "      <td>придбав цей телефон на заміну втопленій nokia7+ (далі n7+). основною причиною, чому обрав данний телефон, є наявність nfc з google pay. через пару днів використання зрозумів чому він настільки дешевий. в метро не можливо подзвонити/прийняти виклик, навіть знахдячись в підземному переході, коли на n7+ я звонив по телеграму з метро в районі м васильківська - голосіївська.датчик наближення раз на 5-7 викликів відпрацьовує некорректно.датчик освітлення живе своїм життям: відпрацьовує корректно лише тоді коли направиш телефон на джерело світла, сама зміна яскравості єкрану відбувається різко, ніякого плавного переходу. тож в тебе або напівтускле зображення або воно дуже яскраве. кнопка google assistant постійно натискається, так як розташована навпроти кнопки ввімкнення, і ти постійно випадково натискаєш її (сам асистент вимкнений).тачскрін підтуплює(до n7+ був meizu екран в якому краще працює ніж цей) коли здавав n7+ в сервісний центр там сказали що на всіх nokia дешевий тачскрін.корпус дуже слизький, без чохла не обійтись. також без чохла та через відсутність виступів на задній панелі навпомацки важко зрозуміти в якому положенні знаходиться телефон: екраном догори чи динамік знизу.логотипи android one та сенсорні кнопки відрізняються від n7+ не дивлячись на те що бренд та ос одні і ті самі, чому так - незрозуміло.завдяки тому що тут встановлений енергоефективний процесор та hd екран вдалося досягти дуже гарної автономності під кінець дня в мене залишається 65-70% заряду при 60-65% у n7+.наявність індикатора сповіщень в порівнянні з n7+(де він відсутній) це однозначно +.лоток на дві сімкарти + катрка пам'яті також можна віднести до переваг, хоч і користуюсь однією sim картою.вибирати цей телефон в якості основного я би на радив, як запасний, згодиться але не більше.</td>\n",
       "      <td>Ціна, NFC, Google Pay, чистний Android, індикатор сповіщень, лоток 2 SIM + microSD</td>\n",
       "      <td>Дешевий тачскрін, слабкий телефонний модуль, датчик наближення, датчик освітлення, слизький корпус</td>\n",
       "      <td>neg</td>\n",
       "      <td>придбати цей телефон на заміна втоплений nokia7 + ( далі n 7 + ) . основний причина , чому обрати данний телефон , бути наявність nfc з google pay . через пара день використання зрозуміти чому він настільки дешевий . в метро не можливо подзвонити / прийняти виклик , навіть знахдитися в підземний перехід , коли на n7 + я звонити по телеграма з метро в район м васильківський - голосіївський . датчик наближення раз на 5 - 7 виклик відпрацьовувати некорректно . датчик освітлення жити свій життя : відпрацьовувати корректно лише тоді коли направити телефон на джерело світло , сам зміна яскравість Єкран відбуватися різко , ніякий плавний перехід . тож в ти або напівтускити зображення або воно дуже яскравий . кнопк google assistant постійно натискатися , так як розташований навпроти кнопка ввімкнення , і ти постійно випадково натискати вона ( сам асистент вимкнений ) . тачскрін підтуплювати ( до n 7 + бути meizu екран в який краще працювати ніж цей ) коли здавати n 7 + в сервісний центр там сказати що на весь nokia дешевий тачскрін . корпус дуже слизький , без чохло не обійтися . також без чохло та через відсутність виступ на задній панель навпомацка важко зрозуміти в який положення знаходитися телефон : екран догори чи динамік знизу . логотип android one та сенсорний кнопка відрізнятися від n 7 + не дивитися на те що бренд та ос. один і той сам , чому так - незрозуміло . завдяки те що тут встановлений енергоефективний процесор та hd екран вдатися досягти дуже гарний автономність під кінець день в я залишатися 65 - 70 % заряд при 60 - 65 % у n 7+ . наявність індикатор сповіщення в порівняння з n 7 + ( де він відсутній ) це однозначно + . лоток на два сімкарт + катрка пам’ять також можна віднести до перев , хоч і користуватися один sim карта . вибирати цей телефон в якість основне я би на радити , як запасний , згодитися але не більше .</td>\n",
       "    </tr>\n",
       "    <tr>\n",
       "      <th>4462</th>\n",
       "      <td>2</td>\n",
       "      <td>купила навушники, щоб спробувати, чи підійдуть мені безпровідні. думала, що якщо немає штекера, довше проживуть, бо зі звичайними вічна проблема. тримають заряд до 3 годин, тому краще мати зарядку з собою. кнопки регулювання більш-менш, єдина незручність, регулювання звуку - потрібно натиснути і тримати кнопку: перетримаєш - неправильно відрегулюєш, недотримаєш - переключається трек.  навушники без вакуумних насадок, тому незручно сидять у вухах. але все це було б нічого, зважаючи на ціну, якби вони працювали. через 3 місяці один навушник відмовив, ремонту не підлягають.</td>\n",
       "      <td>на свою ціну нормальний звук та тривалість заряду</td>\n",
       "      <td>зламалися через 3 місяці, незручно сидять у вухах</td>\n",
       "      <td>neg</td>\n",
       "      <td>купити навушник , щоб спробувати , чи підійти я безпровідний . думати , що якщо немати штекер , довше прожити , бо зі звичайний вічний проблема . тримати заряд до 3 година , тому краще мати зарядка з себе . кнопка регулювання більш - менш , єдиний незручність , регулювання звук - потрібно натиснути і тримати кнопка : перетримати - неправильно відрегулювати , недотримати - переключатися трек . навушник без вакуумний насадок , тому незручно сидіти у вухо . але весь це бути б ніщо , зважати на ціна , якби вони працювати . через 3 місяць один навушник відмовити , ремонт не підлягати .</td>\n",
       "    </tr>\n",
       "    <tr>\n",
       "      <th>8633</th>\n",
       "      <td>2</td>\n",
       "      <td>жалію, що витратив кошти на придбання. сьогодні перестав заряджатися, завтра несу в ремонт. користуюся 2 тижні.</td>\n",
       "      <td>Не знайшов.</td>\n",
       "      <td>Батарея тримає до 2 днів</td>\n",
       "      <td>neg</td>\n",
       "      <td>жаліти , що витратити кошти на придбання . сьогодні перестати заряджатися , завтра нести в ремонт . користуватися 2 тиждень .</td>\n",
       "    </tr>\n",
       "  </tbody>\n",
       "</table>\n",
       "</div>"
      ],
      "text/plain": [
       "      mark  \\\n",
       "534      2   \n",
       "7643     1   \n",
       "8945     2   \n",
       "4462     2   \n",
       "8633     2   \n",
       "\n",
       "                                                                                                                                                                                                                                                                                                                                                                                                                                                                                                                                                                                                                                                                                                                                                                                                                                                                                                                                                                                                                                                                                                                                                                                                                                                                                                                                                                                                                                                                                                                                                                                                                                                                                                                                                                                                                                                                  text  \\\n",
       "534                                                                                                                                                                                                                                                                                                                                                                                                                                                                                                                                                                                                                                                                                                                                                                                                                                                                                                                                                                                                                                                                                                                                                                                                                                                                                                                                                                                                                                                                                                                   пульт на вигляд коштує 10 грн. потрібно купувати lg an-mr19ba.ніжки ну дуже здешевлені. пластикові.звук дуже слабенький в плані басу. басу майже нема.споживає 140 !!! ват.здешевлений зовнішньо - весь із чорного пластику, без вставок з іншого матеріалу.55\" занадто великий телек для перегляду т2. кубики видно.на lg 49\" кубиків не видно.   \n",
       "7643                                                                                                                                                                                                                                                                                                                                                                                                                                                                                                                                                                                                                                                                                                                                                                                                                                                                                                                                                                                                                                                                                                                                                                                                                                                                                                                                                                                           користуюсь пів дня) 1.непрацює плей маркет. ніякими маніпуляціями не зміг заставити працювати.2. постійно вилітає браузер.3.оновлення системи не бачить підключення до вайфай і відповідно нічого не знаходить. 4. дуже сильно гріється при перегляді відео а також у браузері. відео не дуже потрібно, а от браузер... при цьому батареї хватає на 3години. якщо не зможу заставити працювати гугл сервіси, буду повертати. не вартий тої ціни, що за нього просять...   \n",
       "8945  придбав цей телефон на заміну втопленій nokia7+ (далі n7+). основною причиною, чому обрав данний телефон, є наявність nfc з google pay. через пару днів використання зрозумів чому він настільки дешевий. в метро не можливо подзвонити/прийняти виклик, навіть знахдячись в підземному переході, коли на n7+ я звонив по телеграму з метро в районі м васильківська - голосіївська.датчик наближення раз на 5-7 викликів відпрацьовує некорректно.датчик освітлення живе своїм життям: відпрацьовує корректно лише тоді коли направиш телефон на джерело світла, сама зміна яскравості єкрану відбувається різко, ніякого плавного переходу. тож в тебе або напівтускле зображення або воно дуже яскраве. кнопка google assistant постійно натискається, так як розташована навпроти кнопки ввімкнення, і ти постійно випадково натискаєш її (сам асистент вимкнений).тачскрін підтуплює(до n7+ був meizu екран в якому краще працює ніж цей) коли здавав n7+ в сервісний центр там сказали що на всіх nokia дешевий тачскрін.корпус дуже слизький, без чохла не обійтись. також без чохла та через відсутність виступів на задній панелі навпомацки важко зрозуміти в якому положенні знаходиться телефон: екраном догори чи динамік знизу.логотипи android one та сенсорні кнопки відрізняються від n7+ не дивлячись на те що бренд та ос одні і ті самі, чому так - незрозуміло.завдяки тому що тут встановлений енергоефективний процесор та hd екран вдалося досягти дуже гарної автономності під кінець дня в мене залишається 65-70% заряду при 60-65% у n7+.наявність індикатора сповіщень в порівнянні з n7+(де він відсутній) це однозначно +.лоток на дві сімкарти + катрка пам'яті також можна віднести до переваг, хоч і користуюсь однією sim картою.вибирати цей телефон в якості основного я би на радив, як запасний, згодиться але не більше.   \n",
       "4462                                                                                                                                                                                                                                                                                                                                                                                                                                                                                                                                                                                                                                                                                                                                                                                                                                                                                                                                                                                                                                                                                                                                                                                                                                                                 купила навушники, щоб спробувати, чи підійдуть мені безпровідні. думала, що якщо немає штекера, довше проживуть, бо зі звичайними вічна проблема. тримають заряд до 3 годин, тому краще мати зарядку з собою. кнопки регулювання більш-менш, єдина незручність, регулювання звуку - потрібно натиснути і тримати кнопку: перетримаєш - неправильно відрегулюєш, недотримаєш - переключається трек.  навушники без вакуумних насадок, тому незручно сидять у вухах. але все це було б нічого, зважаючи на ціну, якби вони працювали. через 3 місяці один навушник відмовив, ремонту не підлягають.   \n",
       "8633                                                                                                                                                                                                                                                                                                                                                                                                                                                                                                                                                                                                                                                                                                                                                                                                                                                                                                                                                                                                                                                                                                                                                                                                                                                                                                                                                                                                                                                                                                                                                                                                                                                                                                                                                   жалію, що витратив кошти на придбання. сьогодні перестав заряджатися, завтра несу в ремонт. користуюся 2 тижні.   \n",
       "\n",
       "                                                                                          dignity  \\\n",
       "534                                                                                         Це LG   \n",
       "7643  Швидкодія. Хороший дисплей, підсвітка та і на вигляд гарний. Браузер, вайфай, блютуз, 3.5мм   \n",
       "8945           Ціна, NFC, Google Pay, чистний Android, індикатор сповіщень, лоток 2 SIM + microSD   \n",
       "4462                                            на свою ціну нормальний звук та тривалість заряду   \n",
       "8633                                                                                  Не знайшов.   \n",
       "\n",
       "                                                                                            shortcomings  \\\n",
       "534                                                                                           Слабенький   \n",
       "7643      Непрацюють гугл сервіси. Гріється і дуже швидко сідає батарея. Сира прошивка. Вилітає браузер.   \n",
       "8945  Дешевий тачскрін, слабкий телефонний модуль, датчик наближення, датчик освітлення, слизький корпус   \n",
       "4462                                                   зламалися через 3 місяці, незручно сидять у вухах   \n",
       "8633                                                                            Батарея тримає до 2 днів   \n",
       "\n",
       "     target  \\\n",
       "534     neg   \n",
       "7643    neg   \n",
       "8945    neg   \n",
       "4462    neg   \n",
       "8633    neg   \n",
       "\n",
       "                                                                                                                                                                                                                                                                                                                                                                                                                                                                                                                                                                                                                                                                                                                                                                                                                                                                                                                                                                                                                                                                                                                                                                                                                                                                                                                                                                                                                                                                                                                                                                                                                                                                                                                                                                                                                                                                                                                               lemma_text  \n",
       "534                                                                                                                                                                                                                                                                                                                                                                                                                                                                                                                                                                                                                                                                                                                                                                                                                                                                                                                                                                                                                                                                                                                                                                                                                                                                                                                                                                                                                                                                                                                                                                пульта на вигляд коштувати 10 грн . потрібно купувати lg an-mr 19ba . ніжка ну дуже здешевлений . пластиковий . звук дуже слабенький в план бас . бас майже немати . споживати 140 !!! вата . здешевлений зовнішній - весь із чорний пластика , без вставка з інший матеріал . 55 \" занадто великий телека для перегляд т2 . кубик видно . на lg 49 \" кубик не видно .  \n",
       "7643                                                                                                                                                                                                                                                                                                                                                                                                                                                                                                                                                                                                                                                                                                                                                                                                                                                                                                                                                                                                                                                                                                                                                                                                                                                                                                                                                                                                                                           користуватися пів день ) 1 . непрацювати плей маркет . ніякий маніпуляція не змогти заставити працювати . 2 . постійно вилітати браузер . 3 . оновлення система не бачити підключення до вайфай і відповідно ніщо не знаходити . 4 . дуже сильно грітися при перегляд відео а також у браузер . відео не дуже потрібно , а от браузер ... при це батарея хватати на 3години . якщо не змогти заставити працювати Гугл сервіс , бути повертати . не вартий той ціна , що за він просити ...  \n",
       "8945  придбати цей телефон на заміна втоплений nokia7 + ( далі n 7 + ) . основний причина , чому обрати данний телефон , бути наявність nfc з google pay . через пара день використання зрозуміти чому він настільки дешевий . в метро не можливо подзвонити / прийняти виклик , навіть знахдитися в підземний перехід , коли на n7 + я звонити по телеграма з метро в район м васильківський - голосіївський . датчик наближення раз на 5 - 7 виклик відпрацьовувати некорректно . датчик освітлення жити свій життя : відпрацьовувати корректно лише тоді коли направити телефон на джерело світло , сам зміна яскравість Єкран відбуватися різко , ніякий плавний перехід . тож в ти або напівтускити зображення або воно дуже яскравий . кнопк google assistant постійно натискатися , так як розташований навпроти кнопка ввімкнення , і ти постійно випадково натискати вона ( сам асистент вимкнений ) . тачскрін підтуплювати ( до n 7 + бути meizu екран в який краще працювати ніж цей ) коли здавати n 7 + в сервісний центр там сказати що на весь nokia дешевий тачскрін . корпус дуже слизький , без чохло не обійтися . також без чохло та через відсутність виступ на задній панель навпомацка важко зрозуміти в який положення знаходитися телефон : екран догори чи динамік знизу . логотип android one та сенсорний кнопка відрізнятися від n 7 + не дивитися на те що бренд та ос. один і той сам , чому так - незрозуміло . завдяки те що тут встановлений енергоефективний процесор та hd екран вдатися досягти дуже гарний автономність під кінець день в я залишатися 65 - 70 % заряд при 60 - 65 % у n 7+ . наявність індикатор сповіщення в порівняння з n 7 + ( де він відсутній ) це однозначно + . лоток на два сімкарт + катрка пам’ять також можна віднести до перев , хоч і користуватися один sim карта . вибирати цей телефон в якість основне я би на радити , як запасний , згодитися але не більше .  \n",
       "4462                                                                                                                                                                                                                                                                                                                                                                                                                                                                                                                                                                                                                                                                                                                                                                                                                                                                                                                                                                                                                                                                                                                                                                                                                                                                                                                          купити навушник , щоб спробувати , чи підійти я безпровідний . думати , що якщо немати штекер , довше прожити , бо зі звичайний вічний проблема . тримати заряд до 3 година , тому краще мати зарядка з себе . кнопка регулювання більш - менш , єдиний незручність , регулювання звук - потрібно натиснути і тримати кнопка : перетримати - неправильно відрегулювати , недотримати - переключатися трек . навушник без вакуумний насадок , тому незручно сидіти у вухо . але весь це бути б ніщо , зважати на ціна , якби вони працювати . через 3 місяць один навушник відмовити , ремонт не підлягати .  \n",
       "8633                                                                                                                                                                                                                                                                                                                                                                                                                                                                                                                                                                                                                                                                                                                                                                                                                                                                                                                                                                                                                                                                                                                                                                                                                                                                                                                                                                                                                                                                                                                                                                                                                                                                                                                                                                                                        жаліти , що витратити кошти на придбання . сьогодні перестати заряджатися , завтра нести в ремонт . користуватися 2 тиждень .  "
      ]
     },
     "execution_count": 27,
     "metadata": {},
     "output_type": "execute_result"
    }
   ],
   "source": [
    "# Shuffle the Dataset.\n",
    "shuffled_df = df.sample(frac=1,random_state=4)\n",
    "\n",
    "# Put all the fraud class in a separate dataset.\n",
    "neg_df = shuffled_df.loc[shuffled_df['target'] == 'neg']\n",
    "\n",
    "#Randomly select 492 observations from the non-fraud (majority class)\n",
    "# meh_df = shuffled_df.loc[shuffled_df['target'] == 'meh'].sample(n=1040,random_state=42)\n",
    "pos_df = shuffled_df.loc[shuffled_df['target'] == 'pos'].sample(n=1628,random_state=42)\n",
    "\n",
    "# Concatenate both dataframes again\n",
    "normalized_df = pd.concat([neg_df, pos_df])\n",
    "normalized_df.head()"
   ]
  },
  {
   "cell_type": "code",
   "execution_count": 28,
   "metadata": {},
   "outputs": [],
   "source": [
    "X_train, X_test, y_train, y_test = train_test_split(normalized_df['lemma_text'], normalized_df['target'], test_size=0.3, random_state=42)"
   ]
  },
  {
   "cell_type": "code",
   "execution_count": 29,
   "metadata": {},
   "outputs": [
    {
     "name": "stdout",
     "output_type": "stream",
     "text": [
      "Total number of features:  68323\n"
     ]
    }
   ],
   "source": [
    "vectorizer = CountVectorizer(ngram_range = (1,2))\n",
    "vec = vectorizer.fit(X_train.append(X_test))\n",
    "print(\"Total number of features: \", len(vec.get_feature_names()))"
   ]
  },
  {
   "cell_type": "code",
   "execution_count": 30,
   "metadata": {},
   "outputs": [],
   "source": [
    "train_features_vectorized = vec.transform(X_train)\n",
    "test_features_vectorized = vec.transform(X_test)"
   ]
  },
  {
   "cell_type": "code",
   "execution_count": 31,
   "metadata": {},
   "outputs": [
    {
     "data": {
      "text/plain": [
       "MultinomialNB(alpha=1.0, class_prior=None, fit_prior=True)"
      ]
     },
     "execution_count": 31,
     "metadata": {},
     "output_type": "execute_result"
    }
   ],
   "source": [
    "clf = MultinomialNB()\n",
    "clf.fit(train_features_vectorized, y_train)"
   ]
  },
  {
   "cell_type": "code",
   "execution_count": 32,
   "metadata": {},
   "outputs": [
    {
     "name": "stdout",
     "output_type": "stream",
     "text": [
      "              precision    recall  f1-score   support\n",
      "\n",
      "         neg       0.82      0.81      0.82       511\n",
      "         pos       0.79      0.81      0.80       466\n",
      "\n",
      "    accuracy                           0.81       977\n",
      "   macro avg       0.81      0.81      0.81       977\n",
      "weighted avg       0.81      0.81      0.81       977\n",
      "\n"
     ]
    }
   ],
   "source": [
    "#on bigrams word\n",
    "predicted = clf.predict(test_features_vectorized)\n",
    "print(classification_report(y_test, predicted))"
   ]
  },
  {
   "cell_type": "code",
   "execution_count": 33,
   "metadata": {},
   "outputs": [
    {
     "name": "stderr",
     "output_type": "stream",
     "text": [
      "[Parallel(n_jobs=1)]: Using backend SequentialBackend with 1 concurrent workers.\n"
     ]
    },
    {
     "name": "stdout",
     "output_type": "stream",
     "text": [
      "convergence after 731 epochs took 2 seconds\n"
     ]
    },
    {
     "name": "stderr",
     "output_type": "stream",
     "text": [
      "[Parallel(n_jobs=1)]: Done   1 out of   1 | elapsed:    1.7s finished\n",
      "[Parallel(n_jobs=1)]: Using backend SequentialBackend with 1 concurrent workers.\n"
     ]
    },
    {
     "name": "stdout",
     "output_type": "stream",
     "text": [
      "convergence after 768 epochs took 1 seconds\n"
     ]
    },
    {
     "name": "stderr",
     "output_type": "stream",
     "text": [
      "[Parallel(n_jobs=1)]: Done   1 out of   1 | elapsed:    1.8s finished\n",
      "[Parallel(n_jobs=1)]: Using backend SequentialBackend with 1 concurrent workers.\n"
     ]
    },
    {
     "name": "stdout",
     "output_type": "stream",
     "text": [
      "convergence after 665 epochs took 2 seconds\n"
     ]
    },
    {
     "name": "stderr",
     "output_type": "stream",
     "text": [
      "[Parallel(n_jobs=1)]: Done   1 out of   1 | elapsed:    1.6s finished\n",
      "[Parallel(n_jobs=1)]: Using backend SequentialBackend with 1 concurrent workers.\n"
     ]
    },
    {
     "name": "stdout",
     "output_type": "stream",
     "text": [
      "convergence after 777 epochs took 2 seconds\n"
     ]
    },
    {
     "name": "stderr",
     "output_type": "stream",
     "text": [
      "[Parallel(n_jobs=1)]: Done   1 out of   1 | elapsed:    1.8s finished\n",
      "[Parallel(n_jobs=1)]: Using backend SequentialBackend with 1 concurrent workers.\n"
     ]
    },
    {
     "name": "stdout",
     "output_type": "stream",
     "text": [
      "convergence after 671 epochs took 1 seconds\n"
     ]
    },
    {
     "name": "stderr",
     "output_type": "stream",
     "text": [
      "[Parallel(n_jobs=1)]: Done   1 out of   1 | elapsed:    1.6s finished\n"
     ]
    },
    {
     "data": {
      "text/plain": [
       "0.8084725013406301"
      ]
     },
     "execution_count": 33,
     "metadata": {},
     "output_type": "execute_result"
    }
   ],
   "source": [
    "lrc = LogisticRegression(random_state=42, solver=\"sag\", multi_class=\"multinomial\", max_iter=1000,\n",
    "                         verbose=1)\n",
    "scores = cross_val_score(lrc, train_features_vectorized, y_train, cv=5, scoring='f1_macro')\n",
    "scores.mean()"
   ]
  },
  {
   "cell_type": "markdown",
   "metadata": {},
   "source": [
    "# Висновки\n",
    "\n",
    "1. Найважче було виділити з датасету нейтральні коментарі. Пробувала різні комбінації, але на нейтральному класі точність була дуже погана, тож вирішила його виключити взагалі. \n",
    "2. Пробувала різні біграми - на рівні слів і на рівні символів. Хотілося б розуміти де що краще використовувати, а не підбирати все навмання\n",
    "3. Фільтрація стоп слів не дала результатів\n",
    "4. Покращення рішення бачу за рахунок \n",
    "    - опрацювання заперечень\n",
    "    - використання кращої техніки для роботи з незбалансованими класами, ніж undersampling\n",
    "    - генерація фічей\n",
    "5. Ну і сильно підкачує часті невідповідність оцінки змісту повідомлення - C'est la vie\n",
    "6. Моя категорія - \"Смартфони, ТВ і електроніка\". За рахунок цього вдалося зібрати багато коментарів українською ~ 10 тисяч, але товари там дуже різноманітні і це повпливало на якість класифікатора в свою чергу "
   ]
  },
  {
   "cell_type": "code",
   "execution_count": null,
   "metadata": {},
   "outputs": [],
   "source": []
  }
 ],
 "metadata": {
  "kernelspec": {
   "display_name": "Python 3",
   "language": "python",
   "name": "python3"
  },
  "language_info": {
   "codemirror_mode": {
    "name": "ipython",
    "version": 3
   },
   "file_extension": ".py",
   "mimetype": "text/x-python",
   "name": "python",
   "nbconvert_exporter": "python",
   "pygments_lexer": "ipython3",
   "version": "3.8.2"
  }
 },
 "nbformat": 4,
 "nbformat_minor": 2
}
