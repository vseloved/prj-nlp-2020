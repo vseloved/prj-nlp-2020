{
 "cells": [
  {
   "cell_type": "code",
   "execution_count": 2,
   "metadata": {},
   "outputs": [],
   "source": [
    "import pandas as pd"
   ]
  },
  {
   "cell_type": "code",
   "execution_count": 7,
   "metadata": {},
   "outputs": [],
   "source": [
    "df = pd.read_json('cleaned_comments.json')"
   ]
  },
  {
   "cell_type": "code",
   "execution_count": 18,
   "metadata": {},
   "outputs": [
    {
     "data": {
      "text/html": [
       "<div>\n",
       "<style scoped>\n",
       "    .dataframe tbody tr th:only-of-type {\n",
       "        vertical-align: middle;\n",
       "    }\n",
       "\n",
       "    .dataframe tbody tr th {\n",
       "        vertical-align: top;\n",
       "    }\n",
       "\n",
       "    .dataframe thead th {\n",
       "        text-align: right;\n",
       "    }\n",
       "</style>\n",
       "<table border=\"1\" class=\"dataframe\">\n",
       "  <thead>\n",
       "    <tr style=\"text-align: right;\">\n",
       "      <th></th>\n",
       "      <th>rating</th>\n",
       "      <th>text</th>\n",
       "      <th>s</th>\n",
       "    </tr>\n",
       "  </thead>\n",
       "  <tbody>\n",
       "    <tr>\n",
       "      <th>0</th>\n",
       "      <td>5</td>\n",
       "      <td>Онуку дуже сподобалось. Харчування для онука ц...</td>\n",
       "      <td>Positive</td>\n",
       "    </tr>\n",
       "    <tr>\n",
       "      <th>1</th>\n",
       "      <td>5</td>\n",
       "      <td>Клвсна. Малюку сподобалось. Замовляємо постійн...</td>\n",
       "      <td>Positive</td>\n",
       "    </tr>\n",
       "    <tr>\n",
       "      <th>2</th>\n",
       "      <td>5</td>\n",
       "      <td>Добре підходить для густих каш і сумішей! + М,...</td>\n",
       "      <td>Positive</td>\n",
       "    </tr>\n",
       "    <tr>\n",
       "      <th>3</th>\n",
       "      <td>5</td>\n",
       "      <td>Чудова соска. Якість як завжди у Авент на найв...</td>\n",
       "      <td>Positive</td>\n",
       "    </tr>\n",
       "    <tr>\n",
       "      <th>4</th>\n",
       "      <td>3</td>\n",
       "      <td>з серії бебі преміум ця напевне зайшла найменш...</td>\n",
       "      <td>Negative</td>\n",
       "    </tr>\n",
       "    <tr>\n",
       "      <th>...</th>\n",
       "      <td>...</td>\n",
       "      <td>...</td>\n",
       "      <td>...</td>\n",
       "    </tr>\n",
       "    <tr>\n",
       "      <th>1507</th>\n",
       "      <td>5</td>\n",
       "      <td>Ніблер став для мене дуже приємним відкриттям....</td>\n",
       "      <td>Positive</td>\n",
       "    </tr>\n",
       "    <tr>\n",
       "      <th>1508</th>\n",
       "      <td>5</td>\n",
       "      <td>Дуже смачне пюре, дитині сподобалось, натураль...</td>\n",
       "      <td>Positive</td>\n",
       "    </tr>\n",
       "    <tr>\n",
       "      <th>1509</th>\n",
       "      <td>5</td>\n",
       "      <td>Серед виробників, які ми перепробували, а їх н...</td>\n",
       "      <td>Positive</td>\n",
       "    </tr>\n",
       "    <tr>\n",
       "      <th>1510</th>\n",
       "      <td>3</td>\n",
       "      <td>нормальна каша, мала їсть</td>\n",
       "      <td>Negative</td>\n",
       "    </tr>\n",
       "    <tr>\n",
       "      <th>1511</th>\n",
       "      <td>2</td>\n",
       "      <td>Гроші викинуті на вітер! Дитина при смоктанні ...</td>\n",
       "      <td>Negative</td>\n",
       "    </tr>\n",
       "  </tbody>\n",
       "</table>\n",
       "<p>1512 rows × 3 columns</p>\n",
       "</div>"
      ],
      "text/plain": [
       "      rating                                               text         s\n",
       "0          5  Онуку дуже сподобалось. Харчування для онука ц...  Positive\n",
       "1          5  Клвсна. Малюку сподобалось. Замовляємо постійн...  Positive\n",
       "2          5  Добре підходить для густих каш і сумішей! + М,...  Positive\n",
       "3          5  Чудова соска. Якість як завжди у Авент на найв...  Positive\n",
       "4          3  з серії бебі преміум ця напевне зайшла найменш...  Negative\n",
       "...      ...                                                ...       ...\n",
       "1507       5  Ніблер став для мене дуже приємним відкриттям....  Positive\n",
       "1508       5  Дуже смачне пюре, дитині сподобалось, натураль...  Positive\n",
       "1509       5  Серед виробників, які ми перепробували, а їх н...  Positive\n",
       "1510       3                          нормальна каша, мала їсть  Negative\n",
       "1511       2  Гроші викинуті на вітер! Дитина при смоктанні ...  Negative\n",
       "\n",
       "[1512 rows x 3 columns]"
      ]
     },
     "execution_count": 18,
     "metadata": {},
     "output_type": "execute_result"
    }
   ],
   "source": [
    "df"
   ]
  },
  {
   "cell_type": "markdown",
   "metadata": {},
   "source": [
    "При выборе, какие данные парсить решил попробовать простую идею. В отделе \"Для найменших\" сидят молодые мамочки у которых есть свободное время (они домохозяйки) плюс повышенная мотвация оставлять коментарии т.к. качество продукта касается их лично. По-итогу только эту идею я и успел проверить т.к. парсинг Розетки оказался более времязатратным, чем я ожидал. Идея не сработала, оказалось, что коментариев они оставляют существенно меньше, чем люди в отделе, например, с персональной электроникой.\n",
    "Парсил скриптом `script.py` "
   ]
  },
  {
   "cell_type": "markdown",
   "metadata": {},
   "source": [
    "В итоге вышло 7500 коментариев всего и только 1500 из них были на украинском.\n",
    "Это количество абсолютно недостаточное для построения какой-либо вменяемой системы классификации."
   ]
  },
  {
   "cell_type": "code",
   "execution_count": 11,
   "metadata": {},
   "outputs": [
    {
     "data": {
      "text/html": [
       "<div>\n",
       "<style scoped>\n",
       "    .dataframe tbody tr th:only-of-type {\n",
       "        vertical-align: middle;\n",
       "    }\n",
       "\n",
       "    .dataframe tbody tr th {\n",
       "        vertical-align: top;\n",
       "    }\n",
       "\n",
       "    .dataframe thead th {\n",
       "        text-align: right;\n",
       "    }\n",
       "</style>\n",
       "<table border=\"1\" class=\"dataframe\">\n",
       "  <thead>\n",
       "    <tr style=\"text-align: right;\">\n",
       "      <th></th>\n",
       "      <th>rating</th>\n",
       "      <th>text</th>\n",
       "    </tr>\n",
       "    <tr>\n",
       "      <th>s</th>\n",
       "      <th></th>\n",
       "      <th></th>\n",
       "    </tr>\n",
       "  </thead>\n",
       "  <tbody>\n",
       "    <tr>\n",
       "      <th>Negative</th>\n",
       "      <td>379</td>\n",
       "      <td>379</td>\n",
       "    </tr>\n",
       "    <tr>\n",
       "      <th>Positive</th>\n",
       "      <td>1133</td>\n",
       "      <td>1133</td>\n",
       "    </tr>\n",
       "  </tbody>\n",
       "</table>\n",
       "</div>"
      ],
      "text/plain": [
       "          rating  text\n",
       "s                     \n",
       "Negative     379   379\n",
       "Positive    1133  1133"
      ]
     },
     "execution_count": 11,
     "metadata": {},
     "output_type": "execute_result"
    }
   ],
   "source": [
    "df['s'] = df['rating'].apply(lambda x: 'Positive' if x > 4 else 'Negative')\n",
    "df.groupby(['s']).count()"
   ]
  },
  {
   "cell_type": "code",
   "execution_count": 14,
   "metadata": {},
   "outputs": [],
   "source": [
    "test_df = df.sample(frac=0.3)\n",
    "train_df = df.drop(test_df.index)"
   ]
  },
  {
   "cell_type": "code",
   "execution_count": 15,
   "metadata": {},
   "outputs": [],
   "source": [
    "from sklearn.feature_extraction.text import CountVectorizer, TfidfTransformer\n",
    "from sklearn.naive_bayes import MultinomialNB\n",
    "from sklearn.linear_model import SGDClassifier, LogisticRegression, Perceptron\n",
    "from sklearn.pipeline import Pipeline\n",
    "from sklearn.metrics import classification_report\n",
    "import pymorphy2\n",
    "import time"
   ]
  },
  {
   "cell_type": "code",
   "execution_count": 25,
   "metadata": {},
   "outputs": [
    {
     "name": "stdout",
     "output_type": "stream",
     "text": [
      "              precision    recall  f1-score   support\n",
      "\n",
      "    Negative       0.63      0.38      0.47       110\n",
      "    Positive       0.82      0.93      0.87       344\n",
      "\n",
      "    accuracy                           0.80       454\n",
      "   macro avg       0.73      0.65      0.67       454\n",
      "weighted avg       0.78      0.80      0.78       454\n",
      "\n"
     ]
    }
   ],
   "source": [
    "clf = Pipeline([('vect', CountVectorizer()), ('clf', MultinomialNB(fit_prior=False))])\n",
    "clf = clf.fit(train_df.text, train_df.s)\n",
    "test_df['Predicted'] = clf.predict(test_df.text)\n",
    "\n",
    "print(classification_report(test_df.s, test_df.Predicted))"
   ]
  },
  {
   "cell_type": "code",
   "execution_count": 21,
   "metadata": {},
   "outputs": [],
   "source": [
    "class BigramCountVectorizer(CountVectorizer):\n",
    "    def build_analyzer(self):\n",
    "        analyzer = super(BigramCountVectorizer, self).build_analyzer()\n",
    "        def bigram_analyzer(doc):\n",
    "            tokens = analyzer(doc)\n",
    "            return [' '.join(tokens[i:i+2]) for i in range(len(tokens)-1)]\n",
    "        return bigram_analyzer"
   ]
  },
  {
   "cell_type": "code",
   "execution_count": 26,
   "metadata": {
    "scrolled": true
   },
   "outputs": [
    {
     "name": "stdout",
     "output_type": "stream",
     "text": [
      "              precision    recall  f1-score   support\n",
      "\n",
      "    Negative       0.52      0.61      0.56       110\n",
      "    Positive       0.87      0.82      0.84       344\n",
      "\n",
      "    accuracy                           0.77       454\n",
      "   macro avg       0.69      0.71      0.70       454\n",
      "weighted avg       0.78      0.77      0.77       454\n",
      "\n"
     ]
    }
   ],
   "source": [
    "clf2 = Pipeline([('vect', BigramCountVectorizer()), ('clf', MultinomialNB(fit_prior=False))])\n",
    "clf2 = clf2.fit(train_df.text, train_df.s)\n",
    "test_df['Predicted'] = clf2.predict(test_df.text)\n",
    "\n",
    "print(classification_report(test_df.s, test_df.Predicted))"
   ]
  },
  {
   "cell_type": "markdown",
   "metadata": {},
   "source": [
    "Я сделал только одну итерацию над обычным BoW, добавил биграмы, никакого сущестенного прироста в качестве не \n",
    "обнаружил. \n",
    "Но могу предсказать какие выводы можно было бы сделать по итогам этих экспериментов:\n",
    "1. Линейные класификаторы будут показывать похожие результаты.\n",
    "2. Нужно стараться собирать бОльшие датасет с как можно более разнообразными примерами.\n",
    "3. Можно искуственно множить количество сэмплов для редких классов. Это должно улучшать f1 score и recall\n",
    "4. Существенно помогла бы отчистка коментариев от кейсов где человек просто задаёт вопрос. "
   ]
  }
 ],
 "metadata": {
  "kernelspec": {
   "display_name": "Python 3.7.3 64-bit",
   "language": "python",
   "name": "python37364bit38067c8f20464c0595342e0599bfab1d"
  },
  "language_info": {
   "codemirror_mode": {
    "name": "ipython",
    "version": 3
   },
   "file_extension": ".py",
   "mimetype": "text/x-python",
   "name": "python",
   "nbconvert_exporter": "python",
   "pygments_lexer": "ipython3",
   "version": "3.7.3"
  }
 },
 "nbformat": 4,
 "nbformat_minor": 4
}
