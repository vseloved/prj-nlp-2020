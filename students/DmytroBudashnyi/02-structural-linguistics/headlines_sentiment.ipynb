{
 "cells": [
  {
   "cell_type": "code",
   "execution_count": 31,
   "metadata": {},
   "outputs": [],
   "source": [
    "from collections import defaultdict\n",
    "\n",
    "import spacy\n",
    "from textblob import TextBlob"
   ]
  },
  {
   "cell_type": "code",
   "execution_count": 7,
   "metadata": {},
   "outputs": [],
   "source": [
    "with open('../../../tasks/02-structural-linguistics/data/examiner-headlines.txt') as f:\n",
    "    headlines_debug = [l.strip() for l in f.readlines()]"
   ]
  },
  {
   "cell_type": "code",
   "execution_count": 8,
   "metadata": {},
   "outputs": [],
   "source": [
    "headlines_debug[:3]"
   ]
  },
  {
   "cell_type": "code",
   "execution_count": 11,
   "metadata": {},
   "outputs": [],
   "source": [
    "nlp = spacy.load(\"en_core_web_md\")"
   ]
  },
  {
   "cell_type": "code",
   "execution_count": 33,
   "metadata": {},
   "outputs": [
    {
     "data": {
      "text/plain": [
       "defaultdict(int,\n",
       "            {'neutral_sentiment': 4713,\n",
       "             'named_entities': 4080,\n",
       "             'positive_sentiment': 225,\n",
       "             'has_comparative_or_superlative': 234,\n",
       "             'negative_sentiment': 62})"
      ]
     },
     "execution_count": 33,
     "metadata": {},
     "output_type": "execute_result"
    }
   ],
   "source": [
    "results = defaultdict(int)\n",
    "for i, line in enumerate(headlines_debug):\n",
    "    blob = TextBlob(line)\n",
    "    sentiment = sum([s.sentiment.polarity for s in blob.sentences]) / len(blob.sentences)\n",
    "    if sentiment > 0.5:\n",
    "        results['positive_sentiment'] += 1\n",
    "    elif sentiment < -0.5:\n",
    "        results['negative_sentiment'] += 1\n",
    "    else:\n",
    "        results['neutral_sentiment'] += 1\n",
    "\n",
    "    sentence = nlp(line)\n",
    "    entities = []\n",
    "    has_comparative_or_superlative = False\n",
    "    for token in sentence:\n",
    "        if (\n",
    "            (token.pos_ == 'ADV' and token.tag_ in ('RBR', 'RBS')) or\n",
    "            (token.pos_ == 'ADJ' and token.tag_ in ('JJR', 'JJS'))\n",
    "        ):\n",
    "            has_comparative_or_superlative = True\n",
    "        elif token.pos_ == 'PROPN':\n",
    "            entities.append(token.text)\n",
    "\n",
    "    if has_comparative_or_superlative:\n",
    "        results['has_comparative_or_superlative'] += 1\n",
    "\n",
    "    if entities:\n",
    "        results['named_entities'] += 1\n",
    "\n",
    "results"
   ]
  },
  {
   "cell_type": "code",
   "execution_count": null,
   "metadata": {},
   "outputs": [],
   "source": []
  }
 ],
 "metadata": {
  "kernelspec": {
   "display_name": "Python 3",
   "language": "python",
   "name": "python3"
  },
  "language_info": {
   "codemirror_mode": {
    "name": "ipython",
    "version": 3
   },
   "file_extension": ".py",
   "mimetype": "text/x-python",
   "name": "python",
   "nbconvert_exporter": "python",
   "pygments_lexer": "ipython3",
   "version": "3.7.5"
  }
 },
 "nbformat": 4,
 "nbformat_minor": 4
}
