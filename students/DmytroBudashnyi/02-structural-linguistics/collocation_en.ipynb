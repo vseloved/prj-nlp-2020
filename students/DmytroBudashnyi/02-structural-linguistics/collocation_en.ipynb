{
 "cells": [
  {
   "cell_type": "code",
   "execution_count": 1,
   "metadata": {},
   "outputs": [],
   "source": [
    "from collections import defaultdict\n",
    "import spacy"
   ]
  },
  {
   "cell_type": "code",
   "execution_count": 2,
   "metadata": {},
   "outputs": [
    {
     "name": "stdout",
     "output_type": "stream",
     "text": [
      "blog2008.txt  examiner-headlines.txt  headlines-test-set.json  tyhrolovy.txt\n"
     ]
    }
   ],
   "source": [
    "!ls prj-nlp-2020/tasks/02-structural-linguistics/data"
   ]
  },
  {
   "cell_type": "code",
   "execution_count": 3,
   "metadata": {},
   "outputs": [
    {
     "data": {
      "text/plain": [
       "303994"
      ]
     },
     "execution_count": 3,
     "metadata": {},
     "output_type": "execute_result"
    }
   ],
   "source": [
    "with open('prj-nlp-2020/tasks/02-structural-linguistics/data/blog2008.txt') as f:\n",
    "    blog_lines = [l.strip() for l in f.readlines()]\n",
    "len(blog_lines)"
   ]
  },
  {
   "cell_type": "code",
   "execution_count": 4,
   "metadata": {},
   "outputs": [],
   "source": [
    "nlp = spacy.load(\"en_core_web_md\")"
   ]
  },
  {
   "cell_type": "code",
   "execution_count": 5,
   "metadata": {},
   "outputs": [],
   "source": [
    "verbs = [\n",
    "    \"say\", \"tell\", \"speak\", \"claim\", \"communicate\", \"announce\", \"declare\",\n",
    "    \"inform\", \"notify\", \"chat\", \"shout\", \"voice\", \"whisper\", \"utter\", \"interact\"\n",
    "]"
   ]
  },
  {
   "cell_type": "code",
   "execution_count": 6,
   "metadata": {},
   "outputs": [],
   "source": [
    "collocation_stats = {}\n",
    "for verb in verbs:\n",
    "    collocation_stats[verb] = defaultdict(int)\n",
    "\n",
    "def get_token_children_ly(token):\n",
    "    return [c for c in token.children if c.text.endswith('ly')]\n",
    "\n",
    "docs = nlp.pipe(blog_lines)\n",
    "for sentence in docs:\n",
    "    for token in sentence:\n",
    "        if token.pos_ == 'VERB' and token.lower_ in verbs:\n",
    "            children = get_token_children_ly(token)\n",
    "            if children:\n",
    "                for child in children:\n",
    "                    collocation_stats[token.lower_][child.lower_] += 1"
   ]
  },
  {
   "cell_type": "code",
   "execution_count": 7,
   "metadata": {},
   "outputs": [
    {
     "name": "stdout",
     "output_type": "stream",
     "text": [
      "say: (really, 17) (actually, 16) (only, 15) (simply, 11) (explicitly, 10) (publicly, 10) (honestly, 9) (probably, 7) (merely, 7) (recently, 6)\n",
      "tell: (really, 5) (simply, 5) (probably, 3) (honestly, 3) (likely, 3) (only, 3) (exactly, 2) (possibly, 2) (usually, 2) (actually, 2)\n",
      "speak: (directly, 12) (publicly, 9) (only, 5) (loudly, 4) (freely, 4) (briefly, 3) (plainly, 3) (probably, 2) (certainly, 2) (candidly, 2)\n",
      "claim: (falsely, 5) (credibly, 3) (surely, 2) (brazenly, 1) (apparently, 1) (fiercely, 1) (annually, 1) (immediately, 1) (openly, 1) (remotely, 1)\n",
      "communicate: (directly, 3) (effectively, 2) (freely, 1) (really, 1) (regularly, 1) (quickly, 1) (profoundly, 1) (finally, 1)\n",
      "announce: (early, 5) (publicly, 3) (openly, 2) (shortly, 2) (quickly, 2) (essentially, 2) (reportedly, 2) (quietly, 1) (electronically, 1) (interestingly, 1)\n",
      "declare: (publicly, 5) (probably, 1) (absolutely, 1) (clearly, 1) (explicitly, 1) (immediately, 1) (suddenly, 1) (summarily, 1) (duly, 1) (entirely, 1)\n",
      "inform: (merely, 1) (factly, 1) (simultaneously, 1) (truly, 1) (personally, 1)\n",
      "notify: \n",
      "chat: (directly, 1)\n",
      "shout: (loudly, 2) (really, 1) (only, 1) (manically, 1)\n",
      "voice: \n",
      "whisper: (usually, 1) (playfully, 1)\n",
      "utter: (actually, 1)\n",
      "interact: (closely, 1) (intensively, 1) (negatively, 1) (socially, 1)\n"
     ]
    }
   ],
   "source": [
    "def format_stats(stats):\n",
    "    result = []\n",
    "    for k, v in stats:\n",
    "        result.append('({}, {})'.format(k, v))\n",
    "    return ' '.join(result)\n",
    "\n",
    "for verb, stats in collocation_stats.items():\n",
    "    top_stats = [(k, v) for k, v in sorted(stats.items(), reverse=True, key=lambda item: item[1])][:10]\n",
    "    print('{0}: {1}'.format(verb, format_stats(top_stats)))"
   ]
  },
  {
   "cell_type": "code",
   "execution_count": null,
   "metadata": {},
   "outputs": [],
   "source": []
  }
 ],
 "metadata": {
  "kernelspec": {
   "display_name": "Python 3",
   "language": "python",
   "name": "python3"
  },
  "language_info": {
   "codemirror_mode": {
    "name": "ipython",
    "version": 3
   },
   "file_extension": ".py",
   "mimetype": "text/x-python",
   "name": "python",
   "nbconvert_exporter": "python",
   "pygments_lexer": "ipython3",
   "version": "3.7.5"
  }
 },
 "nbformat": 4,
 "nbformat_minor": 4
}
