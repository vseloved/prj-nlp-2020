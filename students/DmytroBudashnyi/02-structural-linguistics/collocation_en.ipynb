{
 "cells": [
  {
   "cell_type": "code",
   "execution_count": 1,
   "metadata": {},
   "outputs": [],
   "source": [
    "from collections import defaultdict\n",
    "import spacy"
   ]
  },
  {
   "cell_type": "code",
   "execution_count": 2,
   "metadata": {},
   "outputs": [
    {
     "name": "stdout",
     "output_type": "stream",
     "text": [
      "blog2008.txt  examiner-headlines.txt  headlines-test-set.json  tyhrolovy.txt\n"
     ]
    }
   ],
   "source": [
    "!ls prj-nlp-2020/tasks/02-structural-linguistics/data"
   ]
  },
  {
   "cell_type": "code",
   "execution_count": 3,
   "metadata": {},
   "outputs": [
    {
     "data": {
      "text/plain": [
       "78188"
      ]
     },
     "execution_count": 3,
     "metadata": {},
     "output_type": "execute_result"
    }
   ],
   "source": [
    "with open('prj-nlp-2020/tasks/02-structural-linguistics/data/blog2008.txt') as f:\n",
    "    blog_lines = [l.strip() for l in f.readlines() if 'ly' in l]\n",
    "len(blog_lines)"
   ]
  },
  {
   "cell_type": "code",
   "execution_count": 4,
   "metadata": {},
   "outputs": [],
   "source": [
    "nlp = spacy.load(\"en_core_web_md\")"
   ]
  },
  {
   "cell_type": "code",
   "execution_count": 5,
   "metadata": {},
   "outputs": [],
   "source": [
    "verbs = [\n",
    "    \"say\", \"tell\", \"speak\", \"claim\", \"communicate\", \"announce\", \"declare\",\n",
    "    \"inform\", \"notify\", \"chat\", \"shout\", \"voice\", \"whisper\", \"utter\", \"interact\"\n",
    "]"
   ]
  },
  {
   "cell_type": "code",
   "execution_count": 6,
   "metadata": {},
   "outputs": [],
   "source": [
    "collocation_stats = {}\n",
    "for verb in verbs:\n",
    "    collocation_stats[verb] = defaultdict(int)\n",
    "\n",
    "def get_token_children_ly(token):\n",
    "    return [c for c in token.children if c.text.endswith('ly')]\n",
    "\n",
    "docs = nlp.pipe(blog_lines)\n",
    "for sentence in docs:\n",
    "    for token in sentence:\n",
    "        if token.pos_ == 'VERB' and token.lemma_ in verbs:\n",
    "            children = get_token_children_ly(token)\n",
    "            if children:\n",
    "                for child in children:\n",
    "                    collocation_stats[token.lemma_][child.lower_] += 1"
   ]
  },
  {
   "cell_type": "code",
   "execution_count": 7,
   "metadata": {},
   "outputs": [
    {
     "name": "stdout",
     "output_type": "stream",
     "text": [
      "say: (actually, 76) (recently, 73) (repeatedly, 55) (simply, 46) (explicitly, 39) (publicly, 36) (basically, 34) (really, 31) (only, 25) (previously, 22)\n",
      "tell: (recently, 25) (reportedly, 14) (privately, 12) (only, 10) (basically, 9) (finally, 9) (repeatedly, 8) (actually, 8) (really, 8) (specifically, 8)\n",
      "speak: (directly, 33) (publicly, 15) (only, 12) (fiercely, 12) (briefly, 9) (recently, 8) (generally, 8) (openly, 8) (politically, 7) (loudly, 7)\n",
      "claim: (falsely, 80) (o'reilly, 13) (previously, 9) (repeatedly, 8) (recently, 4) (initially, 3) (actually, 3) (absurdly, 3) (credibly, 3) (publicly, 3)\n",
      "communicate: (effectively, 3) (directly, 3) (freely, 1) (really, 1) (verbally, 1) (apparently, 1) (loudly, 1) (hopefully, 1) (daily, 1) (actually, 1)\n",
      "announce: (recently, 15) (officially, 11) (publicly, 8) (early, 5) (proudly, 4) (shortly, 4) (openly, 3) (previously, 3) (quickly, 3) (newly, 3)\n",
      "declare: (publicly, 13) (falsely, 4) (suddenly, 4) (o'reilly, 4) (recently, 4) (officially, 3) (openly, 3) (proudly, 3) (triumphantly, 3) (ominously, 2)\n",
      "inform: (fully, 4) (personally, 3) (accurately, 2) (actually, 2) (snidely, 1) (merely, 1) (quietly, 1) (factly, 1) (truthfully, 1) (curtly, 1)\n",
      "notify: (properly, 1)\n",
      "chat: (directly, 1) (coincidentally, 1)\n",
      "shout: (loudly, 2) (reportedly, 2) (quickly, 2) (jubilantly, 1) (really, 1) (only, 1) (spontaneously, 1) (manically, 1)\n",
      "voice: (openly, 2) (surprisingly, 1) (recently, 1) (frequently, 1) (infamously, 1) (consistently, 1) (reportedly, 1) (rarely, 1) (explicitly, 1) (repeatedly, 1)\n",
      "whisper: (usually, 1) (playfully, 1) (reportedly, 1)\n",
      "utter: (actually, 2) (really, 1) (casually, 1) (pejoratively, 1) (only, 1)\n",
      "interact: (rarely, 1) (closely, 1) (intensively, 1) (negatively, 1) (socially, 1) (really, 1)\n"
     ]
    }
   ],
   "source": [
    "def format_stats(stats):\n",
    "    result = []\n",
    "    for k, v in stats:\n",
    "        result.append('({}, {})'.format(k, v))\n",
    "    return ' '.join(result)\n",
    "\n",
    "for verb, stats in collocation_stats.items():\n",
    "    top_stats = [(k, v) for k, v in sorted(stats.items(), reverse=True, key=lambda item: item[1])][:10]\n",
    "    print('{0}: {1}'.format(verb, format_stats(top_stats)))"
   ]
  },
  {
   "cell_type": "code",
   "execution_count": null,
   "metadata": {},
   "outputs": [],
   "source": []
  }
 ],
 "metadata": {
  "kernelspec": {
   "display_name": "Python 3",
   "language": "python",
   "name": "python3"
  },
  "language_info": {
   "codemirror_mode": {
    "name": "ipython",
    "version": 3
   },
   "file_extension": ".py",
   "mimetype": "text/x-python",
   "name": "python",
   "nbconvert_exporter": "python",
   "pygments_lexer": "ipython3",
   "version": "3.7.4"
  }
 },
 "nbformat": 4,
 "nbformat_minor": 4
}
