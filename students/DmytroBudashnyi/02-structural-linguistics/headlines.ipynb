{
 "cells": [
  {
   "cell_type": "code",
   "execution_count": 1,
   "metadata": {},
   "outputs": [],
   "source": [
    "import json\n",
    "import spacy\n",
    "\n",
    "from functional_pipeline import pipeline"
   ]
  },
  {
   "cell_type": "code",
   "execution_count": 2,
   "metadata": {},
   "outputs": [],
   "source": [
    "with open('../../tasks/02-structural-linguistics/data/headlines-test-set.json') as f:\n",
    "    headlines_validation = json.load(f)\n",
    "\n",
    "with open('../../tasks/02-structural-linguistics/data/examiner-headlines.txt') as f:\n",
    "    headlines_debug = [l.strip() for l in f.readlines()]"
   ]
  },
  {
   "cell_type": "code",
   "execution_count": 3,
   "metadata": {},
   "outputs": [
    {
     "data": {
      "text/plain": [
       "['Halep enters Rogers Cup final in straight sets win over Errani',\n",
       " \"The phantoms of St. Mary's\",\n",
       " \"Talladega turmoil could spell trouble for NASCAR's Chase field\"]"
      ]
     },
     "execution_count": 3,
     "metadata": {},
     "output_type": "execute_result"
    }
   ],
   "source": [
    "headlines_debug[:3]"
   ]
  },
  {
   "cell_type": "code",
   "execution_count": 4,
   "metadata": {},
   "outputs": [
    {
     "data": {
      "text/plain": [
       "[['How To Design A College Curriculum to Help You in Life',\n",
       "  'How to Design a College Curriculum to Help You in Life'],\n",
       " ['This is why you should hate Battlefield 3',\n",
       "  'This Is Why You Should Hate Battlefield 3'],\n",
       " [\"How to photograph tonight's Lyrid Meteor Shower\",\n",
       "  \"How to Photograph Tonight's Lyrid Meteor Shower\"]]"
      ]
     },
     "execution_count": 4,
     "metadata": {},
     "output_type": "execute_result"
    }
   ],
   "source": [
    "headlines_validation[:3]"
   ]
  },
  {
   "cell_type": "code",
   "execution_count": 7,
   "metadata": {},
   "outputs": [],
   "source": [
    "nlp = spacy.load(\"en_core_web_md\")"
   ]
  },
  {
   "cell_type": "code",
   "execution_count": 92,
   "metadata": {},
   "outputs": [],
   "source": [
    "def capitalize(word):\n",
    "    return '-'.join([t.capitalize() for t in word.split('-')])\n",
    "\n",
    "def is_upper(word):\n",
    "    alphatext = ''.join(filter(str.isalpha, word))\n",
    "    return alphatext and any([c.isupper() for c in alphatext])\n",
    "\n",
    "def apply_lowercase(txt):\n",
    "    result = []\n",
    "    sentence = nlp(txt)\n",
    "    for i, token in enumerate(sentence):\n",
    "        if i == 0 or sentence[i-1].whitespace_ == '' or is_upper(token.text):\n",
    "            result.append(token.text_with_ws)\n",
    "        else:\n",
    "            result.append(token.text_with_ws.lower())\n",
    "    return ''.join(result)\n",
    "    \n",
    "def apply_4char_rule(txt):\n",
    "    result = []\n",
    "    sentence = nlp(txt)\n",
    "    for token in sentence:\n",
    "        if len(token.text) >= 4 and not is_upper(token.text):\n",
    "            result.append(capitalize(token.text_with_ws))\n",
    "        else:\n",
    "            result.append(token.text_with_ws)\n",
    "    return ''.join(result)\n",
    "\n",
    "def apply_first_last_rule(txt):\n",
    "    sentence = nlp(txt)\n",
    "    result = [token.text_with_ws for token in sentence]\n",
    "    if not is_upper(result[0]):\n",
    "        result[0] = capitalize(result[0])\n",
    "    if not is_upper(result[-1]):\n",
    "        result[-1] = capitalize(result[-1])\n",
    "    return ''.join(result)\n",
    "\n",
    "def apply_pos_rule(txt):\n",
    "    #  іменники, займенники, дієслова, прикметники, прислівники та підрядні сполучники\n",
    "    pos_list = ['NOUN', 'PRON', 'PROPN', 'VERB', 'ADJ', 'ADV', 'SCONJ']\n",
    "    result = []\n",
    "    sentence = nlp(txt)\n",
    "    for i, token in enumerate(sentence):\n",
    "        if i != 0 and sentence[i-1].whitespace_ == '':\n",
    "            result.append(token.text_with_ws)\n",
    "        elif token.pos_ in pos_list and not is_upper(token.text):\n",
    "            result.append(capitalize(token.text_with_ws))\n",
    "        else:\n",
    "            result.append(token.text_with_ws)\n",
    "    return ''.join(result)\n",
    "\n",
    "def apply_dash_rule(txt):\n",
    "    result = []\n",
    "    sentence = nlp(txt)\n",
    "    for i, token in enumerate(sentence):\n",
    "        if i < 2:\n",
    "            result.append(token.text_with_ws)\n",
    "        elif (\n",
    "            is_upper(sentence[i-2].text) and sentence[i-1].text == '-'\n",
    "            and sentence[i-1].whitespace_ == ''\n",
    "            and sentence[i-2].whitespace_ == ''\n",
    "        ):\n",
    "            result.append(capitalize(token.text_with_ws))\n",
    "        else:\n",
    "            result.append(token.text_with_ws)\n",
    "    return ''.join(result)\n",
    "\n",
    "def apply_headline_formatting(txt):\n",
    "    return pipeline(\n",
    "        txt,\n",
    "        [\n",
    "            apply_lowercase,\n",
    "            apply_4char_rule,\n",
    "            apply_first_last_rule,\n",
    "            apply_pos_rule,\n",
    "            apply_dash_rule,\n",
    "        ]\n",
    "    )\n",
    "\n",
    "def validate(data):\n",
    "    count_valid = 0\n",
    "    for experiment in data:\n",
    "        formatted_text = apply_headline_formatting(experiment[0])\n",
    "        if formatted_text == experiment[1]:\n",
    "            count_valid += 1\n",
    "\n",
    "    print('Validation results: {0}/{1} ({2:.2f}%)'.format(count_valid, len(data), 100 * count_valid/len(data)))"
   ]
  },
  {
   "cell_type": "code",
   "execution_count": 93,
   "metadata": {},
   "outputs": [
    {
     "name": "stdout",
     "output_type": "stream",
     "text": [
      "Validation results: 84/100 (84.00%)\n"
     ]
    }
   ],
   "source": [
    "validate(headlines_validation)"
   ]
  },
  {
   "cell_type": "code",
   "execution_count": 94,
   "metadata": {},
   "outputs": [
    {
     "ename": "NameError",
     "evalue": "name 'count_valid' is not defined",
     "output_type": "error",
     "traceback": [
      "\u001b[0;31m---------------------------------------------------------------------------\u001b[0m",
      "\u001b[0;31mNameError\u001b[0m                                 Traceback (most recent call last)",
      "\u001b[0;32m<ipython-input-94-d87df3cc2242>\u001b[0m in \u001b[0;36m<module>\u001b[0;34m\u001b[0m\n\u001b[1;32m      5\u001b[0m         \u001b[0mcount\u001b[0m \u001b[0;34m+=\u001b[0m \u001b[0;36m1\u001b[0m\u001b[0;34m\u001b[0m\u001b[0;34m\u001b[0m\u001b[0m\n\u001b[1;32m      6\u001b[0m \u001b[0;34m\u001b[0m\u001b[0m\n\u001b[0;32m----> 7\u001b[0;31m \u001b[0mprint\u001b[0m\u001b[0;34m(\u001b[0m\u001b[0;34m'Results: {0}/{1} ({2:.2f}%)'\u001b[0m\u001b[0;34m.\u001b[0m\u001b[0mformat\u001b[0m\u001b[0;34m(\u001b[0m\u001b[0mcount\u001b[0m\u001b[0;34m,\u001b[0m \u001b[0mlen\u001b[0m\u001b[0;34m(\u001b[0m\u001b[0mheadlines_debug\u001b[0m\u001b[0;34m)\u001b[0m\u001b[0;34m,\u001b[0m \u001b[0;36m100\u001b[0m \u001b[0;34m*\u001b[0m \u001b[0mcount_valid\u001b[0m\u001b[0;34m/\u001b[0m\u001b[0mlen\u001b[0m\u001b[0;34m(\u001b[0m\u001b[0mheadlines_debug\u001b[0m\u001b[0;34m)\u001b[0m\u001b[0;34m)\u001b[0m\u001b[0;34m)\u001b[0m\u001b[0;34m\u001b[0m\u001b[0;34m\u001b[0m\u001b[0m\n\u001b[0m",
      "\u001b[0;31mNameError\u001b[0m: name 'count_valid' is not defined"
     ]
    }
   ],
   "source": [
    "count = 0\n",
    "for line in headlines_debug:\n",
    "    formatted_text = apply_headline_formatting(line)\n",
    "    if formatted_text == line:\n",
    "        count += 1\n"
   ]
  },
  {
   "cell_type": "code",
   "execution_count": 95,
   "metadata": {},
   "outputs": [
    {
     "name": "stdout",
     "output_type": "stream",
     "text": [
      "Results: 746/5000 (14.92%)\n"
     ]
    }
   ],
   "source": [
    "print('Results: {0}/{1} ({2:.2f}%)'.format(count, len(headlines_debug), 100 * count/len(headlines_debug)))"
   ]
  },
  {
   "cell_type": "code",
   "execution_count": null,
   "metadata": {},
   "outputs": [],
   "source": []
  }
 ],
 "metadata": {
  "kernelspec": {
   "display_name": "Python 3",
   "language": "python",
   "name": "python3"
  },
  "language_info": {
   "codemirror_mode": {
    "name": "ipython",
    "version": 3
   },
   "file_extension": ".py",
   "mimetype": "text/x-python",
   "name": "python",
   "nbconvert_exporter": "python",
   "pygments_lexer": "ipython3",
   "version": "3.7.5"
  }
 },
 "nbformat": 4,
 "nbformat_minor": 4
}
