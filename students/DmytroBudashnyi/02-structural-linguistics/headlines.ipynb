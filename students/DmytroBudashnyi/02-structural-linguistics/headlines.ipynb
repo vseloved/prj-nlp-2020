{
 "cells": [
  {
   "cell_type": "code",
   "execution_count": 1,
   "metadata": {},
   "outputs": [],
   "source": [
    "import json\n",
    "import spacy\n",
    "\n",
    "from functional_pipeline import pipeline, tap"
   ]
  },
  {
   "cell_type": "code",
   "execution_count": 2,
   "metadata": {},
   "outputs": [],
   "source": [
    "with open('../../../tasks/02-structural-linguistics/data/headlines-test-set.json') as f:\n",
    "    headlines_validation = json.load(f)\n",
    "\n",
    "with open('../../../tasks/02-structural-linguistics/data/examiner-headlines.txt') as f:\n",
    "    headlines_debug = [l.strip() for l in f.readlines()]"
   ]
  },
  {
   "cell_type": "code",
   "execution_count": 3,
   "metadata": {},
   "outputs": [
    {
     "data": {
      "text/plain": [
       "['Halep enters Rogers Cup final in straight sets win over Errani',\n",
       " \"The phantoms of St. Mary's\",\n",
       " \"Talladega turmoil could spell trouble for NASCAR's Chase field\"]"
      ]
     },
     "execution_count": 3,
     "metadata": {},
     "output_type": "execute_result"
    }
   ],
   "source": [
    "headlines_debug[:3]"
   ]
  },
  {
   "cell_type": "code",
   "execution_count": 4,
   "metadata": {},
   "outputs": [
    {
     "data": {
      "text/plain": [
       "[['How To Design A College Curriculum to Help You in Life',\n",
       "  'How to Design a College Curriculum to Help You in Life'],\n",
       " ['This is why you should hate Battlefield 3',\n",
       "  'This Is Why You Should Hate Battlefield 3'],\n",
       " [\"How to photograph tonight's Lyrid Meteor Shower\",\n",
       "  \"How to Photograph Tonight's Lyrid Meteor Shower\"]]"
      ]
     },
     "execution_count": 4,
     "metadata": {},
     "output_type": "execute_result"
    }
   ],
   "source": [
    "headlines_validation[:3]"
   ]
  },
  {
   "cell_type": "code",
   "execution_count": 5,
   "metadata": {},
   "outputs": [],
   "source": [
    "nlp = spacy.load(\"en_core_web_md\")"
   ]
  },
  {
   "cell_type": "code",
   "execution_count": 9,
   "metadata": {},
   "outputs": [],
   "source": [
    "def is_upper(word):\n",
    "    alphatext = ''.join(filter(str.isalpha, word))\n",
    "    return alphatext and any([c.isupper() for c in alphatext])\n",
    "\n",
    "def is_upper_not_first(word):\n",
    "    return len(word) > 1 and is_upper(word[1:])\n",
    "\n",
    "def apply_lowercase(index, sentence, word):\n",
    "    if (\n",
    "        index == 0 or sentence[index-1].whitespace_ == ''\n",
    "        or is_upper_not_first(word)\n",
    "    ):\n",
    "        return word\n",
    "\n",
    "    return word.lower()\n",
    "\n",
    "\n",
    "def apply_4char_rule(index, sentence, word):\n",
    "    if is_upper(word):\n",
    "        return word\n",
    "\n",
    "    if len(word) >= 4:\n",
    "        return word.capitalize()\n",
    "\n",
    "    return word\n",
    "\n",
    "\n",
    "def apply_first_last_rule(index, first_word_index, last_word_index, word):\n",
    "    if is_upper(word):\n",
    "        return word\n",
    "\n",
    "    if index in (first_word_index, last_word_index):\n",
    "        return word.capitalize()\n",
    "\n",
    "    return word\n",
    "\n",
    "\n",
    "def apply_pos_rule(index, sentence, word):\n",
    "    if is_upper(word):\n",
    "        return word\n",
    "\n",
    "    token = sentence[index]\n",
    "    #  іменники, займенники, дієслова, прикметники, прислівники та підрядні сполучники\n",
    "    pos_list = ['NOUN', 'PRON', 'PROPN', 'VERB', 'ADJ', 'ADV', 'SCONJ']\n",
    "\n",
    "    # Special case for verbs shortenings\n",
    "    if (\n",
    "        index > 1\n",
    "        and token.pos_ == 'VERB'\n",
    "        and sentence[index-1].text == \"'\"\n",
    "        and (index == 1 or sentence[index-2].whitespace_ != '')\n",
    "    ):\n",
    "        return word.capitalize()\n",
    "\n",
    "    if index != 0 and sentence[index-1].whitespace_ == '':\n",
    "        return word\n",
    "\n",
    "    if token.pos_ in pos_list:\n",
    "        return word.capitalize()\n",
    "\n",
    "    if token.pos_ == 'ADP' and token.dep_ == 'mark':\n",
    "        return word.capitalize()\n",
    "\n",
    "    return word\n",
    "\n",
    "\n",
    "def apply_dash_rule(index, sentence, word):\n",
    "    if is_upper(word):\n",
    "        return word\n",
    "\n",
    "    if index < 2:\n",
    "        return word\n",
    "\n",
    "    if (\n",
    "        is_upper(sentence[index-2].text) and sentence[index-1].text == '-'\n",
    "        and sentence[index-1].whitespace_ == ''\n",
    "        and sentence[index-2].whitespace_ == ''\n",
    "    ):\n",
    "        return word.capitalize()\n",
    "\n",
    "    if (\n",
    "        index < len(sentence) - 2 and\n",
    "        is_upper(sentence[index+2].text) and sentence[index+1].text == '-'\n",
    "        and sentence[index+1].whitespace_ == ''\n",
    "        and sentence[index].whitespace_ == ''\n",
    "    ):\n",
    "        return word.capitalize()\n",
    "\n",
    "    return word\n",
    "\n",
    "\n",
    "def apply_headline_formatting(txt):\n",
    "    result = []\n",
    "    sentence = nlp(txt)\n",
    "    # Find first and last words\n",
    "    alphanum_list = [t.text[0].isalnum() for t in sentence]\n",
    "    first_word_index = alphanum_list.index(True)\n",
    "    alphanum_list.reverse()\n",
    "    last_word_index = len(alphanum_list) - alphanum_list.index(True) - 1\n",
    "\n",
    "    has_dashes = False\n",
    "    for i, token in enumerate(sentence):\n",
    "        word = pipeline(\n",
    "            token.text,\n",
    "            [\n",
    "                (apply_lowercase, i, sentence),\n",
    "                #tap(print),\n",
    "                (apply_4char_rule, i, sentence),\n",
    "                #tap(print),\n",
    "                (apply_first_last_rule, i, first_word_index, last_word_index),\n",
    "                #tap(print),\n",
    "                (apply_pos_rule, i, sentence),\n",
    "                #tap(print),\n",
    "                #(apply_dash_rule, i, sentence),\n",
    "                #tap(print),\n",
    "            ]\n",
    "        )\n",
    "        if word == '-':\n",
    "            has_dashes = True\n",
    "        result.append(word + token.whitespace_)\n",
    "\n",
    "    if has_dashes:\n",
    "        sentence = nlp(''.join(result))\n",
    "        result = []\n",
    "        for i, token in enumerate(sentence):\n",
    "            word = apply_dash_rule(i, sentence, token.text)\n",
    "            result.append(word + token.whitespace_)\n",
    "\n",
    "    return ''.join(result)\n",
    "\n",
    "def validate(data):\n",
    "    count_valid = 0\n",
    "    for experiment in data:\n",
    "        formatted_text = apply_headline_formatting(experiment[0])\n",
    "        if formatted_text == experiment[1]:\n",
    "            count_valid += 1\n",
    "        else:\n",
    "            print('=' * 30)\n",
    "            print(experiment[0])\n",
    "            print(formatted_text)\n",
    "            print(experiment[1])\n",
    "\n",
    "    print('Validation results: {0}/{1} ({2:.2f}%)'.format(count_valid, len(data), 100 * count_valid/len(data)))"
   ]
  },
  {
   "cell_type": "code",
   "execution_count": 10,
   "metadata": {},
   "outputs": [
    {
     "name": "stdout",
     "output_type": "stream",
     "text": [
      "==============================\n",
      "How To Design A College Curriculum to Help You in Life\n",
      "How to Design A College Curriculum to Help You in Life\n",
      "How to Design a College Curriculum to Help You in Life\n",
      "==============================\n",
      "Brazilian & bikini waxing how to choose an sf bay area hair removal salon or spa\n",
      "Brazilian & Bikini Waxing How to Choose an Sf Bay Area Hair Removal Salon or Spa\n",
      "Brazilian & Bikini Waxing How to Choose an SF Bay Area Hair Removal Salon or Spa\n",
      "==============================\n",
      "iPhone 5 release date ahead as Nokia Windows 8 smartphones interest grows\n",
      "iPhone 5 Release Date Ahead as Nokia Windows 8 Smartphones Interest Grows\n",
      "iPhone 5 Release Date Ahead As Nokia Windows 8 Smartphones Interest Grows\n",
      "==============================\n",
      "How it all plays out on Church Street\n",
      "How It all Plays out on Church Street\n",
      "How It All Plays out on Church Street\n",
      "==============================\n",
      "Facebook post helps police nab suspect who ripped off two Burbank salons\n",
      "Facebook Post Helps Police Nab Suspect Who Ripped off two Burbank Salons\n",
      "Facebook Post Helps Police Nab Suspect Who Ripped off Two Burbank Salons\n",
      "==============================\n",
      "Hank Williams and all his rowdy friends cry foul as they leave ESPN's MNF\n",
      "Hank Williams and All His Rowdy Friends Cry Foul As They Leave ESPN's MNF\n",
      "Hank Williams and all His Rowdy Friends Cry Foul As They Leave ESPN's MNF\n",
      "==============================\n",
      "'Jackass 3D' trailer explodes right in your face so don't try this at home (video)\n",
      "'Jackass 3D' Trailer Explodes Right in Your Face So Don't Try This at Home (Video)\n",
      "'Jackass 3D' Trailer Explodes Right in Your Face so Don't Try This at Home (Video)\n",
      "==============================\n",
      "'Psych' season premiere date revealed as 'Psych: The Musical' airing looms\n",
      "'Psych' Season Premiere Date Revealed as 'Psych: the Musical' Airing Looms\n",
      "'Psych' Season Premiere Date Revealed as 'Psych: The Musical' Airing Looms\n",
      "Validation results: 92/100 (92.00%)\n"
     ]
    }
   ],
   "source": [
    "validate(headlines_validation)"
   ]
  },
  {
   "cell_type": "code",
   "execution_count": 11,
   "metadata": {},
   "outputs": [],
   "source": [
    "count = 0\n",
    "for line in headlines_debug:\n",
    "    formatted_text = apply_headline_formatting(line)\n",
    "    if formatted_text == line:\n",
    "        count += 1"
   ]
  },
  {
   "cell_type": "code",
   "execution_count": 12,
   "metadata": {},
   "outputs": [
    {
     "name": "stdout",
     "output_type": "stream",
     "text": [
      "Results: 637/5000 (12.74%)\n"
     ]
    }
   ],
   "source": [
    "print('Results: {0}/{1} ({2:.2f}%)'.format(count, len(headlines_debug), 100 * count/len(headlines_debug)))"
   ]
  },
  {
   "cell_type": "code",
   "execution_count": null,
   "metadata": {},
   "outputs": [],
   "source": []
  }
 ],
 "metadata": {
  "kernelspec": {
   "display_name": "Python 3",
   "language": "python",
   "name": "python3"
  },
  "language_info": {
   "codemirror_mode": {
    "name": "ipython",
    "version": 3
   },
   "file_extension": ".py",
   "mimetype": "text/x-python",
   "name": "python",
   "nbconvert_exporter": "python",
   "pygments_lexer": "ipython3",
   "version": "3.7.5"
  }
 },
 "nbformat": 4,
 "nbformat_minor": 4
}
