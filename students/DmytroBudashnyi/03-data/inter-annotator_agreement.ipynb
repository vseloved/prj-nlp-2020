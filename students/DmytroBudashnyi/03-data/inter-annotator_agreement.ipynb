{
 "cells": [
  {
   "cell_type": "code",
   "execution_count": 11,
   "metadata": {},
   "outputs": [],
   "source": [
    "from collections import defaultdict\n",
    "import pandas as pd"
   ]
  },
  {
   "cell_type": "code",
   "execution_count": 3,
   "metadata": {},
   "outputs": [],
   "source": [
    "data_filename = './data/official-2014.combined-withalt.m2'"
   ]
  },
  {
   "cell_type": "code",
   "execution_count": 4,
   "metadata": {},
   "outputs": [],
   "source": [
    "class AnnotationsParser:\n",
    "\n",
    "    def __init__(self, filename):\n",
    "        self.filename = filename\n",
    "\n",
    "    def get_annotations(self):\n",
    "        with open(self.filename) as f:\n",
    "            lines = [l.strip() for l in f.readlines() if l.strip() != '']\n",
    "\n",
    "        annotations_dict = defaultdict(list)\n",
    "\n",
    "        current_sentence = None\n",
    "        for line in lines:\n",
    "            if line.startswith('S '):\n",
    "                current_sentence = line\n",
    "            elif line.startswith('A '):\n",
    "                annotations_dict[current_sentence].append(self._parse_annotation(line))\n",
    "\n",
    "        filtered_annotations_dict = {\n",
    "            sentence: annotations for sentence, annotations in annotations_dict.items() if len(annotations) > 1\n",
    "        }\n",
    "\n",
    "        return filtered_annotations_dict\n",
    "\n",
    "    def _parse_annotation(self, line):\n",
    "        # 'A 25 27|||WOadv|||will definitely|||REQUIRED|||-NONE-|||1']\n",
    "        fields = line[2:].split('|||')\n",
    "        start, end = (int(f) for f in fields[0].split(' '))\n",
    "        return {\n",
    "            'start': start,\n",
    "            'end': end,\n",
    "            'error_tag': fields[1],\n",
    "            'correction': fields[2] if fields[2] != '-NONE-' else None,\n",
    "            'annotator_id': int(fields[5])\n",
    "        }\n",
    "        "
   ]
  },
  {
   "cell_type": "code",
   "execution_count": 5,
   "metadata": {},
   "outputs": [
    {
     "data": {
      "text/plain": [
       "'S And both are not what we want since most of us just want to live as normal people .'"
      ]
     },
     "execution_count": 5,
     "metadata": {},
     "output_type": "execute_result"
    }
   ],
   "source": [
    "parser = AnnotationsParser(data_filename)\n",
    "annotations_dict = parser.get_annotations()\n",
    "list(annotations_dict.keys())[5]"
   ]
  },
  {
   "cell_type": "code",
   "execution_count": 7,
   "metadata": {},
   "outputs": [
    {
     "data": {
      "text/plain": [
       "[{'start': -1,\n",
       "  'end': -1,\n",
       "  'error_tag': 'noop',\n",
       "  'correction': None,\n",
       "  'annotator_id': 0},\n",
       " {'start': 7,\n",
       "  'end': 7,\n",
       "  'error_tag': 'Mec',\n",
       "  'correction': ',',\n",
       "  'annotator_id': 1}]"
      ]
     },
     "execution_count": 7,
     "metadata": {},
     "output_type": "execute_result"
    }
   ],
   "source": [
    "annotations_dict['S And both are not what we want since most of us just want to live as normal people .']"
   ]
  },
  {
   "cell_type": "code",
   "execution_count": 14,
   "metadata": {},
   "outputs": [],
   "source": [
    "def get_annotator_ids(annotations_dict):\n",
    "    annotator_ids = set([])\n",
    "    for sentence, annotations in annotations_dict.items():\n",
    "        for annotation in annotations:\n",
    "            annotator_ids.add(annotation['annotator_id'])\n",
    "\n",
    "    return list(annotator_ids)\n",
    "\n",
    "annotator_ids = get_annotator_ids(annotations_dict)"
   ]
  },
  {
   "cell_type": "code",
   "execution_count": null,
   "metadata": {},
   "outputs": [],
   "source": []
  }
 ],
 "metadata": {
  "kernelspec": {
   "display_name": "Python 3",
   "language": "python",
   "name": "python3"
  },
  "language_info": {
   "codemirror_mode": {
    "name": "ipython",
    "version": 3
   },
   "file_extension": ".py",
   "mimetype": "text/x-python",
   "name": "python",
   "nbconvert_exporter": "python",
   "pygments_lexer": "ipython3",
   "version": "3.7.5"
  }
 },
 "nbformat": 4,
 "nbformat_minor": 4
}
