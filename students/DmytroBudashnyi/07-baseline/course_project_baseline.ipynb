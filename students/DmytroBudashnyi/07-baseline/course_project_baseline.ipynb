{
 "cells": [
  {
   "cell_type": "code",
   "execution_count": 1,
   "metadata": {},
   "outputs": [],
   "source": [
    "import jsonlines\n",
    "import pandas as pd\n",
    "import re\n",
    "import tokenize_uk\n",
    "from pandas_profiling import ProfileReport\n",
    "\n",
    "from sklearn.feature_extraction.text import CountVectorizer\n",
    "from sklearn.metrics import classification_report\n",
    "from sklearn.model_selection import train_test_split, cross_val_score\n",
    "from sklearn.naive_bayes import MultinomialNB"
   ]
  },
  {
   "cell_type": "code",
   "execution_count": 2,
   "metadata": {},
   "outputs": [],
   "source": [
    "labels = {\n",
    "    2: 'Без теми',\n",
    "    1: 'Коронавірус в Україні',\n",
    "    3: 'Бойові дії на Донбасі',\n",
    "    4: 'Справа Шеремета',\n",
    "    9: 'Справа Гандзюк',\n",
    "    10: 'MH17',\n",
    "    11: 'Імпічмент Траму і тиск на Зе'\n",
    "}"
   ]
  },
  {
   "cell_type": "code",
   "execution_count": 3,
   "metadata": {},
   "outputs": [
    {
     "data": {
      "text/plain": [
       "1516"
      ]
     },
     "execution_count": 3,
     "metadata": {},
     "output_type": "execute_result"
    }
   ],
   "source": [
    "data = []\n",
    "\n",
    "with jsonlines.open('./annotated_data.json') as reader:\n",
    "    for obj in reader:\n",
    "        if obj['annotations']:\n",
    "            num_label = int(obj['annotations'][0]['label'])\n",
    "            label = labels[num_label]\n",
    "            row = {\n",
    "                'id': obj['id'],\n",
    "                'text': re.sub('^https://tyzhden\\.ua/News/\\d+ \\.\\s+', '', obj['text']),\n",
    "                'num_label': num_label,\n",
    "                'label': label\n",
    "            }\n",
    "            data.append(row)\n",
    "\n",
    "len(data)"
   ]
  },
  {
   "cell_type": "code",
   "execution_count": 4,
   "metadata": {},
   "outputs": [
    {
     "data": {
      "text/html": [
       "<div>\n",
       "<style scoped>\n",
       "    .dataframe tbody tr th:only-of-type {\n",
       "        vertical-align: middle;\n",
       "    }\n",
       "\n",
       "    .dataframe tbody tr th {\n",
       "        vertical-align: top;\n",
       "    }\n",
       "\n",
       "    .dataframe thead th {\n",
       "        text-align: right;\n",
       "    }\n",
       "</style>\n",
       "<table border=\"1\" class=\"dataframe\">\n",
       "  <thead>\n",
       "    <tr style=\"text-align: right;\">\n",
       "      <th></th>\n",
       "      <th>id</th>\n",
       "      <th>text</th>\n",
       "      <th>num_label</th>\n",
       "      <th>label</th>\n",
       "    </tr>\n",
       "  </thead>\n",
       "  <tbody>\n",
       "    <tr>\n",
       "      <th>0</th>\n",
       "      <td>3047</td>\n",
       "      <td>Україна наполягає на зустрічі в нормандському ...</td>\n",
       "      <td>2</td>\n",
       "      <td>Без теми</td>\n",
       "    </tr>\n",
       "    <tr>\n",
       "      <th>1</th>\n",
       "      <td>3048</td>\n",
       "      <td>Зеленський заявив, що Україна і Фінляндія буду...</td>\n",
       "      <td>2</td>\n",
       "      <td>Без теми</td>\n",
       "    </tr>\n",
       "    <tr>\n",
       "      <th>2</th>\n",
       "      <td>3049</td>\n",
       "      <td>Регламентний комітет запропонував усунути Гера...</td>\n",
       "      <td>2</td>\n",
       "      <td>Без теми</td>\n",
       "    </tr>\n",
       "    <tr>\n",
       "      <th>3</th>\n",
       "      <td>3050</td>\n",
       "      <td>Рада прийняла за основу закон щодо боротьби з ...</td>\n",
       "      <td>2</td>\n",
       "      <td>Без теми</td>\n",
       "    </tr>\n",
       "    <tr>\n",
       "      <th>4</th>\n",
       "      <td>3051</td>\n",
       "      <td>Звільнений моряк Гриценко пояснив, чому не стр...</td>\n",
       "      <td>2</td>\n",
       "      <td>Без теми</td>\n",
       "    </tr>\n",
       "    <tr>\n",
       "      <th>...</th>\n",
       "      <td>...</td>\n",
       "      <td>...</td>\n",
       "      <td>...</td>\n",
       "      <td>...</td>\n",
       "    </tr>\n",
       "    <tr>\n",
       "      <th>1511</th>\n",
       "      <td>8161</td>\n",
       "      <td>У МЗС назвали кількість українців, що планують...</td>\n",
       "      <td>2</td>\n",
       "      <td>Без теми</td>\n",
       "    </tr>\n",
       "    <tr>\n",
       "      <th>1512</th>\n",
       "      <td>8162</td>\n",
       "      <td>В Україну повернули близько 30 тисяч громадян ...</td>\n",
       "      <td>2</td>\n",
       "      <td>Без теми</td>\n",
       "    </tr>\n",
       "    <tr>\n",
       "      <th>1513</th>\n",
       "      <td>8163</td>\n",
       "      <td>Міносвіти прокоментувало виселення студентів і...</td>\n",
       "      <td>1</td>\n",
       "      <td>Коронавірус в Україні</td>\n",
       "    </tr>\n",
       "    <tr>\n",
       "      <th>1514</th>\n",
       "      <td>8164</td>\n",
       "      <td>Криклій сказав, чи обмежуватимуть під час кара...</td>\n",
       "      <td>1</td>\n",
       "      <td>Коронавірус в Україні</td>\n",
       "    </tr>\n",
       "    <tr>\n",
       "      <th>1515</th>\n",
       "      <td>8160</td>\n",
       "      <td>Окупанти вісім разів порушили режим «тиші» на ...</td>\n",
       "      <td>3</td>\n",
       "      <td>Бойові дії на Донбасі</td>\n",
       "    </tr>\n",
       "  </tbody>\n",
       "</table>\n",
       "<p>1516 rows × 4 columns</p>\n",
       "</div>"
      ],
      "text/plain": [
       "        id                                               text  num_label  \\\n",
       "0     3047  Україна наполягає на зустрічі в нормандському ...          2   \n",
       "1     3048  Зеленський заявив, що Україна і Фінляндія буду...          2   \n",
       "2     3049  Регламентний комітет запропонував усунути Гера...          2   \n",
       "3     3050  Рада прийняла за основу закон щодо боротьби з ...          2   \n",
       "4     3051  Звільнений моряк Гриценко пояснив, чому не стр...          2   \n",
       "...    ...                                                ...        ...   \n",
       "1511  8161  У МЗС назвали кількість українців, що планують...          2   \n",
       "1512  8162  В Україну повернули близько 30 тисяч громадян ...          2   \n",
       "1513  8163  Міносвіти прокоментувало виселення студентів і...          1   \n",
       "1514  8164  Криклій сказав, чи обмежуватимуть під час кара...          1   \n",
       "1515  8160  Окупанти вісім разів порушили режим «тиші» на ...          3   \n",
       "\n",
       "                      label  \n",
       "0                  Без теми  \n",
       "1                  Без теми  \n",
       "2                  Без теми  \n",
       "3                  Без теми  \n",
       "4                  Без теми  \n",
       "...                     ...  \n",
       "1511               Без теми  \n",
       "1512               Без теми  \n",
       "1513  Коронавірус в Україні  \n",
       "1514  Коронавірус в Україні  \n",
       "1515  Бойові дії на Донбасі  \n",
       "\n",
       "[1516 rows x 4 columns]"
      ]
     },
     "execution_count": 4,
     "metadata": {},
     "output_type": "execute_result"
    }
   ],
   "source": [
    "df = pd.DataFrame(data)\n",
    "df"
   ]
  },
  {
   "cell_type": "code",
   "execution_count": 5,
   "metadata": {},
   "outputs": [
    {
     "name": "stderr",
     "output_type": "stream",
     "text": [
      "/opt/anaconda3/lib/python3.7/site-packages/pandas_profiling/base.py:319: FutureWarning: The join_axes-keyword is deprecated. Use .reindex or .reindex_like on the result to achieve the same functionality.\n",
      "  variable_stats = pd.concat(ldesc, join_axes=pd.Index([names]), axis=1)\n"
     ]
    }
   ],
   "source": [
    "profile = ProfileReport(df)\n",
    "profile.to_file('profile_report.html')"
   ]
  },
  {
   "cell_type": "code",
   "execution_count": 6,
   "metadata": {},
   "outputs": [],
   "source": [
    "X = [row['text'] for row in data]\n",
    "y = [row['label'] for row in data]"
   ]
  },
  {
   "cell_type": "code",
   "execution_count": 7,
   "metadata": {},
   "outputs": [
    {
     "data": {
      "text/plain": [
       "(1212, 304, 1212, 304)"
      ]
     },
     "execution_count": 7,
     "metadata": {},
     "output_type": "execute_result"
    }
   ],
   "source": [
    "X_train, X_test, y_train, y_test = train_test_split(\n",
    "    X, y, train_size=0.8, test_size=0.2, random_state=0, shuffle=True, stratify=y\n",
    ")\n",
    "\n",
    "len(X_train), len(X_test), len(y_train), len(y_test)"
   ]
  },
  {
   "cell_type": "code",
   "execution_count": 8,
   "metadata": {},
   "outputs": [
    {
     "data": {
      "text/plain": [
       "(7, 7, 7)"
      ]
     },
     "execution_count": 8,
     "metadata": {},
     "output_type": "execute_result"
    }
   ],
   "source": [
    "len(set(y)), len(set(y_train)), len(set(y_test))"
   ]
  },
  {
   "cell_type": "markdown",
   "metadata": {},
   "source": [
    "# Baseline"
   ]
  },
  {
   "cell_type": "code",
   "execution_count": 9,
   "metadata": {},
   "outputs": [
    {
     "name": "stdout",
     "output_type": "stream",
     "text": [
      "(1212, 23312)\n"
     ]
    },
    {
     "data": {
      "text/plain": [
       "['давні',\n",
       " 'давши',\n",
       " 'дагмар',\n",
       " 'дайовича',\n",
       " 'дала',\n",
       " 'далгапрудній',\n",
       " 'далека',\n",
       " 'далеким',\n",
       " 'далекими',\n",
       " 'далеко']"
      ]
     },
     "execution_count": 9,
     "metadata": {},
     "output_type": "execute_result"
    }
   ],
   "source": [
    "count_vect = CountVectorizer()\n",
    "\n",
    "train_counts = count_vect.fit_transform(X_train)\n",
    "print(train_counts.shape)\n",
    "count_vect.get_feature_names()[5000:5010]"
   ]
  },
  {
   "cell_type": "code",
   "execution_count": 10,
   "metadata": {},
   "outputs": [
    {
     "name": "stdout",
     "output_type": "stream",
     "text": [
      "[cross_val] F1: 0.7678965891549027\n"
     ]
    },
    {
     "name": "stderr",
     "output_type": "stream",
     "text": [
      "/opt/anaconda3/lib/python3.7/site-packages/sklearn/model_selection/_split.py:667: UserWarning: The least populated class in y has only 2 members, which is less than n_splits=5.\n",
      "  % (min_groups, self.n_splits)), UserWarning)\n"
     ]
    }
   ],
   "source": [
    "clf = MultinomialNB()\n",
    "scores = cross_val_score(clf, train_counts, y_train, cv=5, scoring='f1_macro')\n",
    "print('[cross_val] F1:', sum(scores)/5)"
   ]
  },
  {
   "cell_type": "code",
   "execution_count": 11,
   "metadata": {},
   "outputs": [],
   "source": [
    "clf = MultinomialNB().fit(train_counts, y_train)"
   ]
  },
  {
   "cell_type": "code",
   "execution_count": 12,
   "metadata": {},
   "outputs": [],
   "source": [
    "test_counts = count_vect.transform(X_test)\n",
    "y_pred = clf.predict(test_counts)"
   ]
  },
  {
   "cell_type": "code",
   "execution_count": 13,
   "metadata": {},
   "outputs": [
    {
     "name": "stdout",
     "output_type": "stream",
     "text": [
      "                              precision    recall  f1-score   support\n",
      "\n",
      "                        MH17       1.00      0.75      0.86         4\n",
      "Імпічмент Траму і тиск на Зе       0.90      1.00      0.95        26\n",
      "                    Без теми       0.96      0.91      0.94       202\n",
      "       Бойові дії на Донбасі       0.96      0.98      0.97        50\n",
      "       Коронавірус в Україні       0.55      0.84      0.67        19\n",
      "              Справа Гандзюк       1.00      0.50      0.67         2\n",
      "             Справа Шеремета       0.00      0.00      0.00         1\n",
      "\n",
      "                    accuracy                           0.92       304\n",
      "                   macro avg       0.77      0.71      0.72       304\n",
      "                weighted avg       0.93      0.92      0.92       304\n",
      "\n"
     ]
    },
    {
     "name": "stderr",
     "output_type": "stream",
     "text": [
      "/opt/anaconda3/lib/python3.7/site-packages/sklearn/metrics/_classification.py:1272: UndefinedMetricWarning: Precision and F-score are ill-defined and being set to 0.0 in labels with no predicted samples. Use `zero_division` parameter to control this behavior.\n",
      "  _warn_prf(average, modifier, msg_start, len(result))\n"
     ]
    }
   ],
   "source": [
    "print(classification_report(y_test, y_pred))"
   ]
  },
  {
   "cell_type": "code",
   "execution_count": null,
   "metadata": {},
   "outputs": [],
   "source": []
  }
 ],
 "metadata": {
  "kernelspec": {
   "display_name": "Python 3",
   "language": "python",
   "name": "python3"
  },
  "language_info": {
   "codemirror_mode": {
    "name": "ipython",
    "version": 3
   },
   "file_extension": ".py",
   "mimetype": "text/x-python",
   "name": "python",
   "nbconvert_exporter": "python",
   "pygments_lexer": "ipython3",
   "version": "3.7.5"
  }
 },
 "nbformat": 4,
 "nbformat_minor": 4
}
