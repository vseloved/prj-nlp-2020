{
 "cells": [
  {
   "cell_type": "code",
   "execution_count": 1,
   "metadata": {},
   "outputs": [],
   "source": [
    "import requests\n",
    "from bs4 import BeautifulSoup\n",
    "import json\n",
    "import numpy as np\n",
    "from tqdm.notebook import tqdm\n",
    "import time\n",
    "import pandas as pd"
   ]
  },
  {
   "cell_type": "markdown",
   "metadata": {},
   "source": [
    "Я обрав кухонну техніку, бо саме якраз обирав собі блендер) Я користувався не парсингом їх сторінок, а знайшов запити до їх апі, які робить сама сторінка, щоб завантажити коментарі."
   ]
  },
  {
   "cell_type": "code",
   "execution_count": 2,
   "metadata": {},
   "outputs": [
    {
     "data": {
      "text/plain": [
       "[('coffee_machines', '80164'),\n",
       " ('blenders', '80155'),\n",
       " ('multivarki', '112986'),\n",
       " ('microwaves', '80162'),\n",
       " ('grills', '81235'),\n",
       " ('electric_kettles', '80160'),\n",
       " ('kitchen_machines', '80163'),\n",
       " ('meat_choppers', '80176'),\n",
       " ('breadmakers', '80154'),\n",
       " ('electric_ovens', '80142'),\n",
       " ('sandwich_makers', '80180'),\n",
       " ('mixers', '80156'),\n",
       " ('4625959', '4625959'),\n",
       " ('nastolnye-plity', '81667'),\n",
       " ('squeezers', '80153'),\n",
       " ('toasters', '80145'),\n",
       " ('kitchen_scales', '80148'),\n",
       " ('fruit_vegetable_dryers', '80697'),\n",
       " ('coffee_grinders', '80143'),\n",
       " ('yogurt_icecream_machines', '80179'),\n",
       " ('airgrills', '81089'),\n",
       " ('4625487', '4625487'),\n",
       " ('penovzbivateli', '2118637'),\n",
       " ('prochaya-melkaya-tehnika', '123281'),\n",
       " ('kulery-dlya-vody', '98002'),\n",
       " ('steam_cookers', '80157'),\n",
       " ('deep_fryers', '80150'),\n",
       " ('slicers', '80144'),\n",
       " ('blinnitsy', '102312'),\n",
       " ('yaytsevarki', '1948582'),\n",
       " ('208243', '208243'),\n",
       " ('219954', '219954')]"
      ]
     },
     "execution_count": 2,
     "metadata": {},
     "output_type": "execute_result"
    }
   ],
   "source": [
    "kitchen_url = 'https://bt.rozetka.com.ua/tehnika-dlya-kuhni/c435974/'\n",
    "page = requests.get(kitchen_url)\n",
    "soup = BeautifulSoup(page.text)\n",
    "links = soup.findAll(\"a\", {\"class\": \"portal-navigation__link\"})\n",
    "category_tuples = [(link['href'].split('/')[-3], link['href'].split('/')[-2][1:]) for link in links]\n",
    "category_tuples"
   ]
  },
  {
   "cell_type": "markdown",
   "metadata": {},
   "source": [
    "На кожній сторінці категорії міститься по 60 товарів, у кожному товарі коментарі завантажуються по 10. Є сенс дивитись лише на перші кілька сторінок, адже там містяться найбільш популярні товари, що мають хоча б якісь відгуки. Я дивився лише на перші 6 сторінок для кожного типу товарів (але навіть 6 це забагато)."
   ]
  },
  {
   "cell_type": "code",
   "execution_count": 9,
   "metadata": {},
   "outputs": [],
   "source": [
    "all_comments = []"
   ]
  },
  {
   "cell_type": "code",
   "execution_count": null,
   "metadata": {},
   "outputs": [],
   "source": [
    "for category, category_id in category_tuples:\n",
    "    print(f'started_category {category}')\n",
    "\n",
    "    category_url = f'https://xl-catalog-api.rozetka.com.ua/v2/goods/get?category_id={category_id}'\n",
    "    r = requests.get(category_url)\n",
    "    ids_metadata = json.loads(r.text)['data']\n",
    "    pages_in_category = ids_metadata['total_pages']\n",
    "    print(f'There are {pages_in_category} pages in this category')\n",
    "    time.sleep(1)\n",
    "    \n",
    "    limit_pages = 6 if pages_in_category > 6 else pages_in_category\n",
    "\n",
    "    for category_page_num in tqdm(range(1, limit_pages)):\n",
    "        items_page_url = f'https://xl-catalog-api.rozetka.com.ua/v2/goods/get?front-type=xl&category_id={category_id}&page={category_page_num}&sort=rank&lang=ru'\n",
    "        items_request = requests.get(items_page_url)\n",
    "        items = json.loads(items_request.text)['data']['ids']\n",
    "        print(f'[PAGE {category_page_num}/{pages_in_category}] got items list for page {category_page_num}')\n",
    "        time.sleep(1)\n",
    "        for item_id in tqdm(items):\n",
    "            comment_url = f'https://product-api.rozetka.com.ua/v3/comments/get?front-type=xl&goods={item_id}&page={1}&sort=date&limit=10&lang=ru'\n",
    "            comment_request = requests.get(comment_url)\n",
    "            comment_json = json.loads(comment_request.text)['data']\n",
    "            all_comments.extend(comment_json['comments'])\n",
    "\n",
    "            num_comment_pages = int(np.ceil(comment_json['record']['users_rating']['count_comments'] / 10))\n",
    "            time.sleep(1)\n",
    "            for comment_page_num in range(1, num_comment_pages):\n",
    "                comment_url = f'https://product-api.rozetka.com.ua/v3/comments/get?front-type=xl&goods={item_id}&page={comment_page_num}&sort=date&limit=10&lang=ru'\n",
    "                comment_request = requests.get(comment_url)\n",
    "                comment_json = json.loads(comment_request.text)['data']\n",
    "                all_comments.extend(comment_json['comments'])\n",
    "                time.sleep(1)\n",
    "        print(f' After page {category_page_num} we have {len(all_comments)} comments')\n"
   ]
  },
  {
   "cell_type": "code",
   "execution_count": 17,
   "metadata": {},
   "outputs": [
    {
     "data": {
      "text/plain": [
       "['comments_after_all']"
      ]
     },
     "execution_count": 17,
     "metadata": {},
     "output_type": "execute_result"
    }
   ],
   "source": [
    "import joblib\n",
    "joblib.dump(all_comments, 'comments_after_all')"
   ]
  },
  {
   "cell_type": "markdown",
   "metadata": {},
   "source": [
    "Коментарі приходять у вигляді словника, де окрім тексту є якась метаінформація про оцінку товара, кількість апвоутів або усі відповіді на цей відгук. Надалі я брав лише ті відгуки, де виставлена оцінка не 0."
   ]
  },
  {
   "cell_type": "code",
   "execution_count": 21,
   "metadata": {},
   "outputs": [
    {
     "data": {
      "text/plain": [
       "{'id': 34415099,\n",
       " 'usertitle': 'Владислав Тупчій',\n",
       " 'mark': 5,\n",
       " 'percent_dignity': '67',\n",
       " 'text': 'Дуже достойна кофе ☕ машина... В нас уже 3 роки і працює НОРМАЛЬНО, правда купляли не в розетці, але, РЕКОМЕНДУЮ!!!!',\n",
       " 'dignity': '',\n",
       " 'shortcomings': '',\n",
       " 'from_buyer': False,\n",
       " 'created': {'pop_date': '9 ноября 2018',\n",
       "  'year': '2018',\n",
       "  'month': 11,\n",
       "  'day': '09'},\n",
       " 'questions': {'combobox': [], 'marks': [], 'integer': []},\n",
       " 'attachments': [],\n",
       " 'lightboxattachmentsjson': '[]',\n",
       " 'commentdatajson': {'id': 34415099,\n",
       "  'goods_id': '7444083',\n",
       "  'user_title': 'Владислав Тупчій',\n",
       "  'created': '9 ноября 2018',\n",
       "  'from_buyer': False,\n",
       "  'mark': 5,\n",
       "  'text': 'Дуже достойна кофе ☕ машина... В нас уже 3 роки і працює НОРМАЛЬНО, правда купляли не в розетці, але, РЕКОМЕНДУЮ!!!!',\n",
       "  'dignity': '',\n",
       "  'shortcomings': '',\n",
       "  'positive': '2',\n",
       "  'negative': '1',\n",
       "  'replies': [],\n",
       "  'marks': [],\n",
       "  'questions': [],\n",
       "  'created_iso': '2018-11-09T22:09:22+02:00'},\n",
       " 'is_vendor_comment': False,\n",
       " 'vendor_logo': '',\n",
       " 'seller_id': 5,\n",
       " 'replies': [],\n",
       " 'mark_percent': '100%',\n",
       " 'votes': {'positive': 2, 'negative': 1, 'total': 3},\n",
       " 'relations': [{'title': 'Цвет', 'value': 'Черный'},\n",
       "  {'title': 'Продавец', 'value': 'Rozetka'}]}"
      ]
     },
     "execution_count": 21,
     "metadata": {},
     "output_type": "execute_result"
    }
   ],
   "source": [
    "all_comments[5565]"
   ]
  },
  {
   "cell_type": "code",
   "execution_count": 47,
   "metadata": {},
   "outputs": [],
   "source": [
    "import spacy\n",
    "from spacy_langdetect import LanguageDetector\n",
    "\n",
    "nlp = spacy.load('en_core_web_md')\n",
    "\n",
    "nlp.add_pipe(LanguageDetector(), name=\"language_detector\", last=True)\n",
    "\n",
    "nlp.add_pipe(nlp.create_pipe('sentencizer'))"
   ]
  },
  {
   "cell_type": "code",
   "execution_count": 35,
   "metadata": {},
   "outputs": [],
   "source": [
    "df = pd.DataFrame(all_comments)\n",
    "\n",
    "df.head()"
   ]
  },
  {
   "cell_type": "markdown",
   "metadata": {},
   "source": [
    "Розмічаю мову відгуків"
   ]
  },
  {
   "cell_type": "code",
   "execution_count": 57,
   "metadata": {},
   "outputs": [],
   "source": [
    "texts = df['text'].values\n",
    "\n",
    "langs = []\n",
    "for doc in tqdm(nlp.pipe(texts, disable=[\"ner\"])):\n",
    "    # Do something with the doc here\n",
    "    langs.append(doc._.language)\n",
    "\n",
    "lang_labels = [lang['language'] for lang in langs]\n",
    "\n",
    "df['language'] = lang_labels"
   ]
  },
  {
   "cell_type": "code",
   "execution_count": 225,
   "metadata": {},
   "outputs": [
    {
     "data": {
      "text/html": [
       "<div>\n",
       "<style scoped>\n",
       "    .dataframe tbody tr th:only-of-type {\n",
       "        vertical-align: middle;\n",
       "    }\n",
       "\n",
       "    .dataframe tbody tr th {\n",
       "        vertical-align: top;\n",
       "    }\n",
       "\n",
       "    .dataframe thead th {\n",
       "        text-align: right;\n",
       "    }\n",
       "</style>\n",
       "<table border=\"1\" class=\"dataframe\">\n",
       "  <thead>\n",
       "    <tr style=\"text-align: right;\">\n",
       "      <th></th>\n",
       "      <th>text</th>\n",
       "      <th>language</th>\n",
       "    </tr>\n",
       "  </thead>\n",
       "  <tbody>\n",
       "    <tr>\n",
       "      <th>0</th>\n",
       "      <td>Долго пользовалась Saeco Royal,но она была оче...</td>\n",
       "      <td>ru</td>\n",
       "    </tr>\n",
       "    <tr>\n",
       "      <th>1</th>\n",
       "      <td>Лучшая кофемашина за свою цену.&lt;br /&gt;\\nВо перв...</td>\n",
       "      <td>ru</td>\n",
       "    </tr>\n",
       "    <tr>\n",
       "      <th>2</th>\n",
       "      <td>Я раньше и не думала что так полюблю кофе, но ...</td>\n",
       "      <td>ru</td>\n",
       "    </tr>\n",
       "    <tr>\n",
       "      <th>3</th>\n",
       "      <td></td>\n",
       "      <td>UNKNOWN</td>\n",
       "    </tr>\n",
       "    <tr>\n",
       "      <th>4</th>\n",
       "      <td></td>\n",
       "      <td>UNKNOWN</td>\n",
       "    </tr>\n",
       "    <tr>\n",
       "      <th>5</th>\n",
       "      <td>Поясніть хтось нарешті, звідки той \"класичний ...</td>\n",
       "      <td>uk</td>\n",
       "    </tr>\n",
       "    <tr>\n",
       "      <th>6</th>\n",
       "      <td>Кофемашина отличная, к ней претензий нет, но е...</td>\n",
       "      <td>ru</td>\n",
       "    </tr>\n",
       "    <tr>\n",
       "      <th>7</th>\n",
       "      <td>Хороша машина за свої гроші!</td>\n",
       "      <td>uk</td>\n",
       "    </tr>\n",
       "    <tr>\n",
       "      <th>8</th>\n",
       "      <td>Имеет ли данная кофемашина настройку крепости ...</td>\n",
       "      <td>ru</td>\n",
       "    </tr>\n",
       "    <tr>\n",
       "      <th>9</th>\n",
       "      <td>Добрый день! Фильтр для воды идёт в комплекте?...</td>\n",
       "      <td>ru</td>\n",
       "    </tr>\n",
       "  </tbody>\n",
       "</table>\n",
       "</div>"
      ],
      "text/plain": [
       "                                                text language\n",
       "0  Долго пользовалась Saeco Royal,но она была оче...       ru\n",
       "1  Лучшая кофемашина за свою цену.<br />\\nВо перв...       ru\n",
       "2  Я раньше и не думала что так полюблю кофе, но ...       ru\n",
       "3                                                     UNKNOWN\n",
       "4                                                     UNKNOWN\n",
       "5  Поясніть хтось нарешті, звідки той \"класичний ...       uk\n",
       "6  Кофемашина отличная, к ней претензий нет, но е...       ru\n",
       "7                       Хороша машина за свої гроші!       uk\n",
       "8  Имеет ли данная кофемашина настройку крепости ...       ru\n",
       "9  Добрый день! Фильтр для воды идёт в комплекте?...       ru"
      ]
     },
     "execution_count": 225,
     "metadata": {},
     "output_type": "execute_result"
    }
   ],
   "source": [
    "df[['text', 'language']].head(10)"
   ]
  },
  {
   "cell_type": "markdown",
   "metadata": {},
   "source": [
    "Нажаль, з 77К відгуків маємо лише 14К (з будь якою оцінкою, навіть 0)"
   ]
  },
  {
   "cell_type": "code",
   "execution_count": 60,
   "metadata": {},
   "outputs": [
    {
     "data": {
      "text/plain": [
       "ru         56450\n",
       "uk         14268\n",
       "UNKNOWN     5015\n",
       "bg           843\n",
       "mk           559\n",
       "en             9\n",
       "ro             7\n",
       "et             7\n",
       "so             5\n",
       "tl             4\n",
       "sk             3\n",
       "de             3\n",
       "tr             2\n",
       "hr             2\n",
       "af             2\n",
       "no             2\n",
       "cy             1\n",
       "it             1\n",
       "fr             1\n",
       "Name: language, dtype: int64"
      ]
     },
     "execution_count": 60,
     "metadata": {},
     "output_type": "execute_result"
    }
   ],
   "source": [
    "df['language'].value_counts()"
   ]
  },
  {
   "cell_type": "code",
   "execution_count": null,
   "metadata": {},
   "outputs": [],
   "source": [
    "uk_df = df[df['language']=='uk'].copy()\n",
    "\n",
    "uk_df.to_csv('uk_df.csv')"
   ]
  },
  {
   "cell_type": "code",
   "execution_count": 101,
   "metadata": {},
   "outputs": [],
   "source": [
    "uk_df = uk_df.drop_duplicates(subset='id', keep='first')"
   ]
  },
  {
   "cell_type": "markdown",
   "metadata": {},
   "source": [
    "Бачимо, що без оцінки дійсно часто лежать питання, тому відкинемо їх. Також, об'єднаю оцінки 1-3 в один \"незадовільний клас\", адже їх доволі мало."
   ]
  },
  {
   "cell_type": "code",
   "execution_count": 227,
   "metadata": {},
   "outputs": [
    {
     "data": {
      "text/plain": [
       "5.0    5132\n",
       "0.0    3350\n",
       "4.0    1254\n",
       "1.0     407\n",
       "3.0     367\n",
       "2.0     256\n",
       "Name: mark, dtype: int64"
      ]
     },
     "execution_count": 227,
     "metadata": {},
     "output_type": "execute_result"
    }
   ],
   "source": [
    "uk_df['mark'].value_counts()"
   ]
  },
  {
   "cell_type": "code",
   "execution_count": 226,
   "metadata": {},
   "outputs": [
    {
     "data": {
      "text/plain": [
       "5      поясніть хтось нарешті, звідки той \"класичний ...\n",
       "41     питання до представника компанії: який тиск по...\n",
       "49     відсвяткувавши новосілля, давно мріяли про кав...\n",
       "65     підкажіть, будь ласка, мінімальні зазори до ме...\n",
       "85     ця кавомашина ідеальна! та, про яку ми мріяли....\n",
       "100    в характеристиках вказано, що приготування кап...\n",
       "122                                 чи є підігрів чашок?\n",
       "147    підкажіть будь ласка різницю між eq. 6 s100 і ...\n",
       "167    підскажіть пожалоста при приготуванні лате або...\n",
       "191    доброго дня. питання щодо піддону під чашками....\n",
       "243    яку степінь помелу вибрати? і в кого яка стоїт...\n",
       "253    які жорнова стоять? дві кави одночасно можна г...\n",
       "255    доброго вам дня, підкажіть будьласка чим відрі...\n",
       "271    нещодавно придбав philips series 3200 ep3243/5...\n",
       "272    нещодавно придбав для офісу. кава готується пр...\n",
       "Name: text, dtype: object"
      ]
     },
     "execution_count": 226,
     "metadata": {},
     "output_type": "execute_result"
    }
   ],
   "source": [
    "uk_df[uk_df['mark']==0.0]['text'].head(15)"
   ]
  },
  {
   "cell_type": "markdown",
   "metadata": {},
   "source": [
    "Дивимось на приклади з різнии оцінками"
   ]
  },
  {
   "cell_type": "code",
   "execution_count": 236,
   "metadata": {},
   "outputs": [
    {
     "name": "stdout",
     "output_type": "stream",
     "text": [
      "MARK 1\n",
      "кавомашина виявилась несправна, при першому включенні видало помилка 11. дуже сподівався, що це окліматизація, але помилка так і не зникла. в інтернеті знайшов коди помилок і пишуть, що це несправність датчика паронагрівача. затра повезу повертати. шкода потраченого часу.\n",
      " \n",
      "поробила всього 3 місяці і здохла.\n",
      " \n",
      "купили машину в сентябре, гарантийного талона в посылке не было. не потребовали сразу. а зря. в феврале сломалась мельница. в сервисном центре требуют гарантийный талон. написала письмо в поддержку, чтобы прислали талон, предоставила все доки( чек, номер заказа, фото серийного номера ) .знаете что мне ответили?  \"зараз нам надходить дуже велика кількість запитів, тому, на жаль, термін очікування відповіді може виявитись більшим, ніж нам би того хотілось.\". то есть, люди плохо сделали свою работу, и говорят мне \"подождите, нам некогда\"???\n",
      " \n",
      "придбали кавоварку 22.11.2019р.<br />\n",
      "не збиває пінку з молока,не робить лате.\n",
      " \n",
      "начитавшись позитивних відгуків вирішили придбати даний апарат. на даний момент одні  негативні емоції. машина включається, на екрані з'являється напис \"самодіагностика\" після 2 секунд екран машини гасне і даний \"чудо апарат\" неподає ніяких ознак життя.<br />\n",
      "далі починається найцікавіше: сервісний цент розетки відмовляється робити повернення товару, спираючись на те, що можливо, я якимось дивом використовувала апарат, і ніякі мої пояснення що \"чудо машина\" не включается і відповідно не могла бути використана на них не діють.<br />\n",
      "гаряча лінія delongi вічливим голосом каже що вони можуть надати лише телефони сервісних центрів. при тому їх інформація про сервісні центри застаріла. по інформації гарячої лінії delongi у львові є 3 сервісних центра - так після потраченого дня вдалося вияснити що один з центрів вже давно не працює з delongi,  а телефони  2-х інших не відповідають протягом тижня.\n",
      " \n",
      "----------------------------------\n",
      "MARK 2\n",
      "при мінімальній кількості налаштувань все працює навіть бездоганно. але для офісу на 10 співробітників вже слаба - покористувалися місяць/півтора, а вона вже вимагає промивку від накипу! (і це при тому, що використовується тільки бутилирована вода).<br />\n",
      "крім всього, забагато води використовує для промивки - вона засинає кожні 30 хвилин і перед цим промивається. так само під час просинання вона теж промивається. в результаті, в поддоні постійно багато води.<br />\n",
      "висновок - тільки для дому! для офісу не рекомендую!\n",
      " \n",
      "привезли на роботу цю кавову машину, лате не виходить таке як треба , довго думає при нажиманні! додому б не придбала собі(\n",
      " \n",
      "може, все, що я описала, це не особливості даної моделі, а просто технічний брак. не знаю. але наразі я шкодую про цю покупку.<br />\n",
      "капучинатор (заради якого купувалася ця кавоварка) зламався на 4 день використання, при тому, що я особисто промивала його після кожного використання (точно не забитий). повеземо в сервіс, напишу згодом, як швидко його поремонтують чи замінять.<br />\n",
      "в комплекті йшла інстуркція. як я згодом зрозуміла, до іншої моделі (з панарелло). в інструкції скрізь написано, що \"кавомашини саєко створені для використання лише у невеликих офісах і організаціях\", і що \"підключати їх мусить технічний фахівець\". на сайті магазину такого не вказано.<br />\n",
      "вже після установки моделі я помітила подряпини (чи тріщинки) на верхній частині корпусу. через цю дрібницю вирішила не морочитися з заміною.<br />\n",
      "лоток (нижній піддон) для води потрібно виливати щоденно. воду доливати кожні 2 дні (нас 4 людей у родині, випиваємо по чашці кави, максимум по 2). пакет на 250 г зерен закінчився вже на 4 день. це нормально, в усіх так?<br />\n",
      "в цілому ж, якби не ламався капучинатор, у мене претензій не було б - дітям дуже сподобалася молочна пінка, міцна і висока.\n",
      " \n",
      "вчора отримав на пошті замовлення.<br />\n",
      "кавоварка працює, але...<br />\n",
      "- відсутній гарантійний талон в коробці, тобто мені треба витрачати додатково час та зусилля, щоб його отримати від продавця;<br />\n",
      "- акція \"кава в подарунок\" у чеку пробита окремою позицією з вартістю 100 грн. не перший раз купую у цьому магазині акційні товари і завжди до цього вартість подарунку була 1 грн., що дійсно сприймається, як подарунок. знаючи наперед про такі умови \"акції\", замовив би товар у іншому магазині, де кавоварка коштує дешевше.\n",
      " \n",
      "через 2 тижні перестала працювати штука, яка відповідає за молоко (має парити і робити піну).<br />\n",
      "вода недостатньо гаряча і взагалі є сумніви, що вона кип'ятиться. кава не виходить гарячою.<br />\n",
      "це моя перша кавоварка, тому немає з чим порівняти, але я думаю, що можна знайти кращі варіанти. все таки дуже погано, коли щось перестає праювати саме по-собі через 1-2 тижні користування\n",
      " \n",
      "----------------------------------\n",
      "MARK 3\n",
      "купували для офісу. через тиждень експлуатації машина перестала вспінювати молоко в автоматичному режимі. коли підключили насадку для ручного вспінювання, під тиском її зриває. тепер кожного разу щоб зробити латте потрібно притримувати насадку рукою. вцілому кавомашина сподобалась, але нам нажаль дістався бракований екземпляр.\n",
      " \n",
      "брали кавомашину для офісу для 4-5 осіб.<br />\n",
      "дуже полюбляємо капучіно, лате та всі варіанти кави з молоком.<br />\n",
      "на жаль ця машина не може якісно збивати молоко і робиту пінку, вже пробували всі види молока.<br />\n",
      "у неї виходит ьтільки підігріти молоко.<br />\n",
      "саму каву робит ьна нормальному рівні.<br />\n",
      "хочу порівню зі своєю домашньою кавомашиною delonghi ecam 350.55, яка все робить автоматично, раніше була delonghi ріжкова, також робила шикарну піну та каву.<br />\n",
      "моя рекомендація всім беріть delonghi, і не пожалкуєте, навіть краще більше заплатити і отримати гарну якість!\n",
      " \n",
      "користуюсь півроку!  машинка перестала працювати. натискаєш кнопку зробити каву і вистрелює варочний блок так що відкриває бокову кришку кавомашини, перед тим як повинен початись розмел кави.\n",
      " \n",
      "тиждень користуюсь даною кофемашиною вже не робить копучинатор не засмоктує молоко. інструкції прийшли 4 книги не одна на українській мові не має. розбирались по картинках. це перша наша кофемашина всі спочатку були дуже раді (я і 3 сина) але такий конфуз з капучінатором всіх засмутив не знаю що далі робити бо живемо в селі далеко від великих міст\n",
      " \n",
      "все працює крім капучинатора , не знаю в чому проблема  . в користуванні 1 день\n",
      " \n",
      "----------------------------------\n",
      "MARK 4\n",
      "кавоварка стильна, зручна та компактна. працює достатньо тихо. невеликий молочник з можливістю обрання рівня пінки. зручне меню. вибір напоїв теж більше ніж достатній для домашнього користування.<br />\n",
      "невеликий мінус - коли промивається молочник, вода, що зливається при промивці в лоток, затікає під молочник, тому постійно приходиться мити ззовні молочник та протирати насухо піддон. <br />\n",
      "на піддоні кришка з нержавійки швидко царапається.<br />\n",
      "<br />\n",
      "при продажі кавової машики було зпявлено подарунок у вигляді 2кг кави \"kimbo\". по приїзду кур\"єр розетки нічого не надав та сказав, що нічого не знає про подарунок. залишився неприємний осад від сервісу розетки!\n",
      " \n",
      "все прикольно, я задоволена. купили по акції - вдвічі приємніше) з того, що не сподобалось - один великий піддон для води під всією площею кавомашини - дуже незручно і не продумано і, чтомусь, жмих виходить дужу вологий, хоча має бути сухий. <br />\n",
      "щодо смаку кави - однозначно супер.<br />\n",
      "в мене на роботі машини делонгі, купуємо каву - пакет під 400 грн. на роботі кава мені в ніякому вигляді не подобається, думала, справа в каві. потім вирішила протестувати і взяла трішки додому цю саму каву. і що б ви думали - я вчора мало язика не ковтнула. кава шикарна на смак. роблю висновок, що справа не в каві, а в машині. тому, по смаковим вимогам - це саме те, що я шукала.\n",
      " \n",
      "користуюсь декілька тижднів. легка у використанні. кава смачна. капучінізатор не дуже\n",
      " \n",
      "3 травня проплатив і 6 травня отримав новою поштою. в подарунок кава дольче (дивився, на розетці коштує 500 грн). в гарантійному талоні дата продажу чомусь 17 квітня. інструкцію російською мовою завантажив з інтернету. машинка працює. лате та капучіно чудові. еспресо заміцне і тому відрегулював більшу кількість води. температура кави за умовчанням на медіумі (середня). можливо зменшу, бо загаряча (правда це на любителя). при помолі кави звук приємний. але турбує звук і вібрація при роботі помпи. від вібрації філіжанка на лотку рухається. поки що все.\n",
      " \n",
      "орієнтовно один раз на 2 тижні, при щоденному користуванні, потрібно проводити маніпуляції з видалення накипу.\n",
      " \n",
      "----------------------------------\n",
      "MARK 5\n",
      "хороша машина за свої гроші!\n",
      " \n",
      "пив капучіно один раз в місяць,каву також рідко пив. но купив жінці дану машину.тепер раз в день капучіно. тому ,що дуже легко приготувати і смачний напиток  в тебе у кружці.\n",
      " \n",
      "який ресурс кількості порцій в цій моделі?\n",
      " \n",
      "машина відмінна. велика кількість готових програм для приготування кави як мені здається на будь який смак. <br />\n",
      "дуже зручний капучінатор, робить пінку на 5+ (діти в захваті), дуже легко мити.<br />\n",
      "брав цю машинку як уцінку, нічого поганого окрім трохи потертої коробки не побачив.\n",
      " \n",
      "я як шанувальник молочних напоїв дуже задоволена цією кавовою машиною, суперово вспінює молоко, працює тихо, а головне швидко + можна готувати напої додатково і з меленої кави, дуже проста у керуванні, рекомендую\n",
      " \n",
      "----------------------------------\n"
     ]
    }
   ],
   "source": [
    "for mark in range(1,6):\n",
    "    print(f'MARK {mark}')\n",
    "    for i in range(5):    \n",
    "        print(uk_df[uk_df['mark']==mark]['text'].reset_index().loc[i]['text'])\n",
    "        print(' ')\n",
    "    print('----------------------------------')"
   ]
  },
  {
   "cell_type": "code",
   "execution_count": 88,
   "metadata": {},
   "outputs": [
    {
     "data": {
      "text/plain": [
       "['uk_df.joblib']"
      ]
     },
     "execution_count": 88,
     "metadata": {},
     "output_type": "execute_result"
    }
   ],
   "source": [
    "joblib.dump(uk_df, 'uk_df.joblib')"
   ]
  },
  {
   "cell_type": "code",
   "execution_count": 103,
   "metadata": {},
   "outputs": [],
   "source": [
    "uk_df['mark_class'] = uk_df['mark'].map(\n",
    "    {\n",
    "        5.0: 'positive',\n",
    "        4.0: 'neutral',\n",
    "        3.0: 'negative',\n",
    "        2.0: 'negative',\n",
    "        1.0: 'negative'\n",
    "    }\n",
    ")"
   ]
  },
  {
   "cell_type": "code",
   "execution_count": 104,
   "metadata": {},
   "outputs": [
    {
     "data": {
      "text/plain": [
       "positive    5132\n",
       "neutral     1254\n",
       "negative    1030\n",
       "Name: mark_class, dtype: int64"
      ]
     },
     "execution_count": 104,
     "metadata": {},
     "output_type": "execute_result"
    }
   ],
   "source": [
    "uk_df['mark_class'].value_counts()"
   ]
  },
  {
   "cell_type": "code",
   "execution_count": 114,
   "metadata": {},
   "outputs": [],
   "source": [
    "uk_df['text'] = uk_df['text'].str.lower()"
   ]
  },
  {
   "cell_type": "markdown",
   "metadata": {},
   "source": [
    "###  Моделювання"
   ]
  },
  {
   "cell_type": "code",
   "execution_count": 171,
   "metadata": {},
   "outputs": [],
   "source": [
    "from sklearn.model_selection import train_test_split\n",
    "from sklearn.feature_extraction.text import CountVectorizer, TfidfTransformer\n",
    "from sklearn.linear_model import LogisticRegression, SGDClassifier\n",
    "from sklearn.metrics import classification_report\n",
    "from sklearn.pipeline import Pipeline"
   ]
  },
  {
   "cell_type": "code",
   "execution_count": 124,
   "metadata": {},
   "outputs": [],
   "source": [
    "X_train, X_test, y_train, y_test = train_test_split(\n",
    "    uk_df[uk_df['mark_class'].notnull()]['text'], \n",
    "    uk_df[uk_df['mark_class'].notnull()]['mark_class'],\n",
    "    test_size=0.2,\n",
    "    random_state=42\n",
    ")"
   ]
  },
  {
   "cell_type": "markdown",
   "metadata": {},
   "source": [
    "Спочатку подивимось на метрики, якщо передбачувати лише позитивну оцінку"
   ]
  },
  {
   "cell_type": "code",
   "execution_count": 139,
   "metadata": {},
   "outputs": [],
   "source": [
    "y_pred_very_baseline = ['positive']*len(y_test)"
   ]
  },
  {
   "cell_type": "code",
   "execution_count": 140,
   "metadata": {},
   "outputs": [
    {
     "name": "stdout",
     "output_type": "stream",
     "text": [
      "              precision    recall  f1-score   support\n",
      "\n",
      "    negative       0.00      0.00      0.00       208\n",
      "     neutral       0.00      0.00      0.00       245\n",
      "    positive       0.69      1.00      0.82      1031\n",
      "\n",
      "    accuracy                           0.69      1484\n",
      "   macro avg       0.23      0.33      0.27      1484\n",
      "weighted avg       0.48      0.69      0.57      1484\n",
      "\n"
     ]
    },
    {
     "name": "stderr",
     "output_type": "stream",
     "text": [
      "/home/yevhen/anaconda3/lib/python3.7/site-packages/sklearn/metrics/classification.py:1437: UndefinedMetricWarning: Precision and F-score are ill-defined and being set to 0.0 in labels with no predicted samples.\n",
      "  'precision', 'predicted', average, warn_for)\n"
     ]
    }
   ],
   "source": [
    "print(classification_report(y_test, y_pred_very_baseline))"
   ]
  },
  {
   "cell_type": "markdown",
   "metadata": {},
   "source": [
    "## 1. Будуємо базове рішення на звичайному векторайзері"
   ]
  },
  {
   "cell_type": "code",
   "execution_count": 256,
   "metadata": {},
   "outputs": [],
   "source": [
    "count_lr_clf = Pipeline([\n",
    "    ('vect', CountVectorizer()),\n",
    "    ('clf', LogisticRegression(\n",
    "        random_state=42, \n",
    "        solver = 'sag',\n",
    "        multi_class='multinomial',\n",
    "        max_iter=6000,\n",
    "    )),\n",
    "])"
   ]
  },
  {
   "cell_type": "code",
   "execution_count": 262,
   "metadata": {},
   "outputs": [],
   "source": [
    "from sklearn.model_selection import StratifiedKFold, GridSearchCV, RandomizedSearchCV, cross_val_score\n",
    "from sklearn.metrics import make_scorer, accuracy_score"
   ]
  },
  {
   "cell_type": "code",
   "execution_count": 290,
   "metadata": {},
   "outputs": [],
   "source": [
    "def print_report_for_cv(X, y, clf, cv):\n",
    "    originalclass = []\n",
    "    predictedclass = []\n",
    "    def classification_report_with_accuracy_score(y_true, y_pred):\n",
    "        originalclass.extend(y_true)\n",
    "        predictedclass.extend(y_pred)\n",
    "        return accuracy_score(y_true, y_pred)\n",
    "\n",
    "    nested_score = cross_val_score(\n",
    "        count_lr_clf, \n",
    "        X=X, \n",
    "        y=y, \n",
    "        cv=cv, \n",
    "        scoring=make_scorer(classification_report_with_accuracy_score)\n",
    "    )\n",
    "    print(classification_report(originalclass, predictedclass)) "
   ]
  },
  {
   "cell_type": "code",
   "execution_count": 291,
   "metadata": {},
   "outputs": [
    {
     "name": "stdout",
     "output_type": "stream",
     "text": [
      "              precision    recall  f1-score   support\n",
      "\n",
      "    negative       0.67      0.46      0.55       822\n",
      "     neutral       0.38      0.23      0.29      1009\n",
      "    positive       0.79      0.91      0.85      4101\n",
      "\n",
      "    accuracy                           0.74      5932\n",
      "   macro avg       0.61      0.54      0.56      5932\n",
      "weighted avg       0.70      0.74      0.71      5932\n",
      "\n"
     ]
    }
   ],
   "source": [
    "cv = StratifiedKFold(n_splits=3, shuffle=True, random_state=42)\n",
    "\n",
    "print_report_for_cv(X_train, y_train, count_lr_clf, cv)"
   ]
  },
  {
   "cell_type": "markdown",
   "metadata": {},
   "source": [
    "## 2. Зроблю те саме, але на лемах"
   ]
  },
  {
   "cell_type": "code",
   "execution_count": 149,
   "metadata": {},
   "outputs": [],
   "source": [
    "import stanza\n",
    "\n",
    "stanza_nlp = stanza.Pipeline('uk')"
   ]
  },
  {
   "cell_type": "code",
   "execution_count": 158,
   "metadata": {},
   "outputs": [],
   "source": [
    "def get_lemmatized_review(review):\n",
    "    doc = stanza_nlp(review)\n",
    "    lemmas = [word.lemma for word in doc.iter_words()]\n",
    "    return ' '.join(lemmas)"
   ]
  },
  {
   "cell_type": "code",
   "execution_count": 160,
   "metadata": {},
   "outputs": [],
   "source": [
    "X_train_lemmas = [get_lemmatized_review(r) for r in X_train]\n",
    "X_test_lemmas = [get_lemmatized_review(r) for r in X_test]"
   ]
  },
  {
   "cell_type": "code",
   "execution_count": 162,
   "metadata": {},
   "outputs": [
    {
     "data": {
      "text/plain": [
       "['X_test_lemmas']"
      ]
     },
     "execution_count": 162,
     "metadata": {},
     "output_type": "execute_result"
    }
   ],
   "source": [
    "# joblib.dump(X_train_lemmas, 'X_train_lemmas')\n",
    "# joblib.dump(X_test_lemmas, 'X_test_lemmas')"
   ]
  },
  {
   "cell_type": "code",
   "execution_count": 292,
   "metadata": {},
   "outputs": [
    {
     "name": "stdout",
     "output_type": "stream",
     "text": [
      "              precision    recall  f1-score   support\n",
      "\n",
      "    negative       0.63      0.49      0.55       822\n",
      "     neutral       0.35      0.21      0.26      1009\n",
      "    positive       0.79      0.91      0.85      4101\n",
      "\n",
      "    accuracy                           0.73      5932\n",
      "   macro avg       0.59      0.54      0.55      5932\n",
      "weighted avg       0.69      0.73      0.71      5932\n",
      "\n"
     ]
    }
   ],
   "source": [
    "print_report_for_cv(X_train_lemmas, y_train, count_lr_clf, cv)"
   ]
  },
  {
   "cell_type": "code",
   "execution_count": 280,
   "metadata": {},
   "outputs": [],
   "source": [
    "from sklearn.ensemble import RandomForestClassifier\n",
    "from sklearn.tree import DecisionTreeClassifier"
   ]
  },
  {
   "cell_type": "markdown",
   "metadata": {},
   "source": [
    "## 3. TF-IDF + Lemmas"
   ]
  },
  {
   "cell_type": "code",
   "execution_count": 285,
   "metadata": {},
   "outputs": [],
   "source": [
    "tfidf_clf = Pipeline([\n",
    "    ('vect', CountVectorizer()),\n",
    "    ('tfidf', TfidfTransformer()),\n",
    "    ('clf', LogisticRegression(\n",
    "        random_state=42, \n",
    "        solver = 'sag',\n",
    "        multi_class='multinomial',\n",
    "        max_iter=6000,\n",
    "    )),\n",
    "])"
   ]
  },
  {
   "cell_type": "code",
   "execution_count": 293,
   "metadata": {},
   "outputs": [
    {
     "name": "stdout",
     "output_type": "stream",
     "text": [
      "              precision    recall  f1-score   support\n",
      "\n",
      "    negative       0.67      0.46      0.55       822\n",
      "     neutral       0.38      0.23      0.29      1009\n",
      "    positive       0.79      0.91      0.85      4101\n",
      "\n",
      "    accuracy                           0.74      5932\n",
      "   macro avg       0.61      0.54      0.56      5932\n",
      "weighted avg       0.70      0.74      0.71      5932\n",
      "\n"
     ]
    }
   ],
   "source": [
    "print_report_for_cv(X_train, y_train, tfidf_clf, cv)"
   ]
  },
  {
   "cell_type": "code",
   "execution_count": 294,
   "metadata": {},
   "outputs": [
    {
     "name": "stdout",
     "output_type": "stream",
     "text": [
      "              precision    recall  f1-score   support\n",
      "\n",
      "    negative       0.63      0.49      0.55       822\n",
      "     neutral       0.35      0.21      0.26      1009\n",
      "    positive       0.79      0.91      0.85      4101\n",
      "\n",
      "    accuracy                           0.73      5932\n",
      "   macro avg       0.59      0.54      0.55      5932\n",
      "weighted avg       0.69      0.73      0.71      5932\n",
      "\n"
     ]
    }
   ],
   "source": [
    "print_report_for_cv(X_train_lemmas, y_train, tfidf_clf, cv)"
   ]
  },
  {
   "cell_type": "markdown",
   "metadata": {},
   "source": [
    "## 4. Біграми на лемах"
   ]
  },
  {
   "cell_type": "markdown",
   "metadata": {},
   "source": [
    "Подивимось, які біграми з лем вдається витягти по класах"
   ]
  },
  {
   "cell_type": "code",
   "execution_count": 300,
   "metadata": {},
   "outputs": [
    {
     "name": "stdout",
     "output_type": "stream",
     "text": [
      " NGRAM = 2\n",
      "LABEL IS negative\n",
      "[('не рекомендувати', 55), ('не бути', 49), ('сервісний центр', 46), ('гарантійний талон', 45), ('те що', 44), ('не працювати', 38), ('це не', 33), ('так як', 32), ('за такий', 28), ('сказати що', 26), ('не могти', 26), ('що не', 25), ('не дуже', 24), ('br br', 24), ('ніщо не', 22), ('не знати', 22), ('перестати працювати', 21), ('що це', 20), ('не відповідати', 20), ('тому що', 20), ('по гарантія', 19), ('але не', 19), ('він не', 19), ('під час', 19), ('талон не', 19), ('при перший', 19), ('на розетець', 18), ('не мати', 18), ('через місяць', 17), ('вона не', 17), ('перший використання', 17), ('не заповнений', 17), ('свій гроші', 16), ('думати що', 16), ('br не', 16), ('новий пошта', 16), ('такий гроші', 15), ('взагалі не', 15), ('не радити', 14), ('але це', 14), ('на день', 14), ('так не', 14), ('запах пластика', 13), ('що бути', 13), ('після перший', 13), ('не задоволений', 13), ('це бути', 13), ('не можна', 13), ('на новий', 13), ('на подарунок', 13), ('навіть не', 13), ('на цей', 12), ('цей мультиварка', 12), ('ніхто не', 12), ('чайник не', 12), ('як на', 12), ('що вона', 12), ('що робити', 12), ('після місяць', 11), ('товар не', 11), ('не можливо', 11), ('мати бути', 11), ('дуже не', 11), ('пів рік', 11), ('на сайт', 11), ('що він', 11), ('два місяць', 10), ('на вітер', 10), ('дуже розчарований', 10), ('до кінець', 10), ('добрий день', 10), ('не брати', 10), ('на ремонт', 10), ('для дерун', 10), ('купити цей', 10), ('перший раз', 10), ('не сподобатися', 10), ('цей модель', 10), ('ще не', 10), ('писати що', 10)]\n",
      " \n",
      "LABEL IS neutral\n",
      "[('гарантійний талон', 49), ('те що', 44), ('за такий', 43), ('свій гроші', 41), ('за свій', 40), ('не бути', 33), ('так як', 32), ('свій функція', 30), ('поки що', 28), ('такий ціна', 28), ('не дуже', 28), ('свій ціна', 28), ('як на', 25), ('цей модель', 24), ('це не', 22), ('під час', 21), ('працювати добре', 20), ('не мати', 20), ('що не', 20), ('ніщо не', 20), ('все працювати', 19), ('не могти', 19), ('на подарунок', 19), ('на кухня', 18), ('на свій', 17), ('що це', 17), ('ціна якість', 17), ('функція виконувати', 17), ('бути ласка', 17), ('все добре', 16), ('покупка задоволений', 16), ('br br', 16), ('книга рецепт', 16), ('зі свій', 16), ('задоволений покупка', 15), ('але не', 15), ('добрий день', 15), ('але це', 15), ('ще не', 15), ('що бути', 14), ('сказати що', 14), ('запах пластика', 14), ('не знати', 14), ('могти бути', 14), ('дякувати розетець', 13), ('на мій', 13), ('br але', 13), ('дуже задоволений', 13), ('не користуватися', 13), ('запах пластмас', 13), ('такий гроші', 13), ('нарікання немати', 13), ('не заповнений', 12), ('насадка для', 12), ('але бути', 12), ('як для', 12), ('питання до', 12), ('хороший чайник', 12), ('щоб не', 12), ('думати що', 12), ('тому що', 12), ('чи можна', 12), ('ціле задоволений', 12), ('на розетець', 12), ('користуватися вже', 12), ('не поганий', 12), ('користуватися місяць', 11), ('на робота', 11), ('проблема не', 11), ('але як', 11), ('той хто', 11), ('розетець за', 11), ('швидкий доставка', 11), ('бути один', 11), ('вона не', 11), ('майже рік', 10), ('незаповнений гарантійний', 10), ('мультиварка скороварка', 10), ('поки не', 10), ('br загалом', 10)]\n",
      " \n",
      "LABEL IS positive\n",
      "[('дуже задоволений', 290), ('на кухня', 172), ('те що', 140), ('за такий', 123), ('br br', 99), ('не бути', 97), ('користуватися вже', 93), ('цей модель', 91), ('дуже швидко', 87), ('покупка задоволений', 86), ('за свій', 86), ('задоволений покупка', 82), ('не мати', 79), ('ніщо не', 78), ('ціна якість', 78), ('свій функція', 78), ('все працювати', 77), ('легко митися', 72), ('на подарунок', 70), ('дуже сподобатися', 69), ('зі свій', 69), ('що не', 69), ('мікрохвильовий піч', 68), ('такий ціна', 66), ('на весь', 66), ('дуже смачний', 66), ('дуже хороший', 66), ('ще не', 65), ('швидкий доставка', 65), ('дуже зручний', 65), ('дуже зручно', 64), ('дякувати розетець', 64), ('поки що', 64), ('свій гроші', 63), ('нарікання немати', 62), ('свій ціна', 62), ('так як', 61), ('все супер', 60), ('просто супер', 60), ('кожний день', 60), ('дякувати за', 60), ('що бути', 60), ('як на', 58), ('на відмінно', 56), ('вже рік', 55), ('розетець за', 54), ('працювати добре', 53), ('гарний дизайн', 53), ('простий використання', 53), ('помічник на', 52), ('зручний використання', 52), ('без проблема', 52), ('для приготування', 51), ('перший раз', 50), ('дуже добре', 50), ('запах пластика', 50), ('пів рік', 49), ('це не', 49), ('більше рік', 49), ('на цей', 48), ('дуже подобатися', 47), ('весь 100', 47), ('справлятися на', 47), ('все чудово', 46), ('не потрібно', 45), ('на робота', 44), ('гарантійний талон', 43), ('весь рекомендувати', 42), ('не могти', 42), ('будь який', 42), ('що вона', 41), ('на висота', 41), ('книга рецепт', 41), ('зупинитися на', 40), ('даний модель', 40), ('все що', 40), ('зручний користування', 40), ('вже більше', 40), ('дуже гарний', 40), ('на пара', 39)]\n",
      " \n",
      " NGRAM = 3\n",
      "LABEL IS negative\n",
      "[('не рекомендувати', 55), ('не бути', 49), ('сервісний центр', 46), ('гарантійний талон', 45), ('те що', 44), ('не працювати', 38), ('це не', 33), ('так як', 32), ('за такий', 28), ('сказати що', 26), ('не могти', 26), ('що не', 25), ('не дуже', 24), ('br br', 24), ('ніщо не', 22), ('не знати', 22), ('перестати працювати', 21), ('що це', 20), ('не відповідати', 20), ('тому що', 20), ('по гарантія', 19), ('але не', 19), ('він не', 19), ('під час', 19), ('талон не', 19), ('при перший', 19), ('на розетець', 18), ('не мати', 18), ('через місяць', 17), ('вона не', 17), ('перший використання', 17), ('не заповнений', 17), ('свій гроші', 16), ('думати що', 16), ('br не', 16), ('новий пошта', 16), ('такий гроші', 15), ('взагалі не', 15), ('не радити', 14), ('але це', 14), ('на день', 14), ('так не', 14), ('запах пластика', 13), ('що бути', 13), ('після перший', 13), ('не задоволений', 13), ('це бути', 13), ('не можна', 13), ('на новий', 13), ('на подарунок', 13), ('навіть не', 13), ('на цей', 12), ('цей мультиварка', 12), ('ніхто не', 12), ('чайник не', 12), ('як на', 12), ('що вона', 12), ('що робити', 12), ('після місяць', 11), ('товар не', 11), ('не можливо', 11), ('мати бути', 11), ('дуже не', 11), ('пів рік', 11), ('на сайт', 11), ('що він', 11), ('два місяць', 10), ('на вітер', 10), ('дуже розчарований', 10), ('до кінець', 10), ('добрий день', 10), ('не брати', 10), ('на ремонт', 10), ('для дерун', 10), ('купити цей', 10), ('перший раз', 10), ('не сподобатися', 10), ('цей модель', 10), ('ще не', 10), ('писати що', 10)]\n",
      " \n",
      "LABEL IS neutral\n",
      "[('гарантійний талон', 49), ('те що', 44), ('за такий', 43), ('свій гроші', 41), ('за свій', 40), ('не бути', 33), ('так як', 32), ('свій функція', 30), ('поки що', 28), ('такий ціна', 28), ('не дуже', 28), ('свій ціна', 28), ('як на', 25), ('цей модель', 24), ('це не', 22), ('під час', 21), ('працювати добре', 20), ('не мати', 20), ('що не', 20), ('ніщо не', 20), ('все працювати', 19), ('не могти', 19), ('на подарунок', 19), ('на кухня', 18), ('на свій', 17), ('що це', 17), ('ціна якість', 17), ('функція виконувати', 17), ('бути ласка', 17), ('все добре', 16), ('покупка задоволений', 16), ('br br', 16), ('книга рецепт', 16), ('зі свій', 16), ('задоволений покупка', 15), ('але не', 15), ('добрий день', 15), ('але це', 15), ('ще не', 15), ('що бути', 14), ('сказати що', 14), ('запах пластика', 14), ('не знати', 14), ('могти бути', 14), ('дякувати розетець', 13), ('на мій', 13), ('br але', 13), ('дуже задоволений', 13), ('не користуватися', 13), ('запах пластмас', 13), ('такий гроші', 13), ('нарікання немати', 13), ('не заповнений', 12), ('насадка для', 12), ('але бути', 12), ('як для', 12), ('питання до', 12), ('хороший чайник', 12), ('щоб не', 12), ('думати що', 12), ('тому що', 12), ('чи можна', 12), ('ціле задоволений', 12), ('на розетець', 12), ('користуватися вже', 12), ('не поганий', 12), ('користуватися місяць', 11), ('на робота', 11), ('проблема не', 11), ('але як', 11), ('той хто', 11), ('розетець за', 11), ('швидкий доставка', 11), ('бути один', 11), ('вона не', 11), ('майже рік', 10), ('незаповнений гарантійний', 10), ('мультиварка скороварка', 10), ('поки не', 10), ('br загалом', 10)]\n",
      " \n",
      "LABEL IS positive\n",
      "[('дуже задоволений', 290), ('на кухня', 172), ('те що', 140), ('за такий', 123), ('br br', 99), ('не бути', 97), ('користуватися вже', 93), ('цей модель', 91), ('дуже швидко', 87), ('покупка задоволений', 86), ('за свій', 86), ('задоволений покупка', 82), ('не мати', 79), ('ніщо не', 78), ('ціна якість', 78), ('свій функція', 78), ('все працювати', 77), ('легко митися', 72), ('на подарунок', 70), ('дуже сподобатися', 69), ('зі свій', 69), ('що не', 69), ('мікрохвильовий піч', 68), ('такий ціна', 66), ('на весь', 66), ('дуже смачний', 66), ('дуже хороший', 66), ('ще не', 65), ('швидкий доставка', 65), ('дуже зручний', 65), ('дуже зручно', 64), ('дякувати розетець', 64), ('поки що', 64), ('свій гроші', 63), ('нарікання немати', 62), ('свій ціна', 62), ('так як', 61), ('все супер', 60), ('просто супер', 60), ('кожний день', 60), ('дякувати за', 60), ('що бути', 60), ('як на', 58), ('на відмінно', 56), ('вже рік', 55), ('розетець за', 54), ('працювати добре', 53), ('гарний дизайн', 53), ('простий використання', 53), ('помічник на', 52), ('зручний використання', 52), ('без проблема', 52), ('для приготування', 51), ('перший раз', 50), ('дуже добре', 50), ('запах пластика', 50), ('пів рік', 49), ('це не', 49), ('більше рік', 49), ('на цей', 48), ('дуже подобатися', 47), ('весь 100', 47), ('справлятися на', 47), ('все чудово', 46), ('не потрібно', 45), ('на робота', 44), ('гарантійний талон', 43), ('весь рекомендувати', 42), ('не могти', 42), ('будь який', 42), ('що вона', 41), ('на висота', 41), ('книга рецепт', 41), ('зупинитися на', 40), ('даний модель', 40), ('все що', 40), ('зручний користування', 40), ('вже більше', 40), ('дуже гарний', 40), ('на пара', 39)]\n",
      " \n"
     ]
    }
   ],
   "source": [
    "#got function here https://medium.com/@cristhianboujon/how-to-list-the-most-common-words-from-text-corpus-using-scikit-learn-dad4d0cab41d\n",
    "def get_top_n_words(corpus, n=None, ngrams=2):\n",
    "    \"\"\"\n",
    "    List the top n words in a vocabulary according to occurrence in a text corpus.\n",
    "    \n",
    "    get_top_n_words([\"I love Python\", \"Python is a language programming\", \"Hello world\", \"I love the world\"]) -> \n",
    "    [('python', 2),\n",
    "     ('world', 2),\n",
    "     ('love', 2),\n",
    "     ('hello', 1),\n",
    "     ('is', 1),\n",
    "     ('programming', 1),\n",
    "     ('the', 1),\n",
    "     ('language', 1)]\n",
    "    \"\"\"\n",
    "    vec = CountVectorizer(\n",
    "        ngram_range=(ngrams,ngrams),\n",
    "    ).fit(corpus)\n",
    "    bag_of_words = vec.transform(corpus)\n",
    "    sum_words = bag_of_words.sum(axis=0) \n",
    "    words_freq = [(word, sum_words[0, idx]) for word, idx in     vec.vocabulary_.items()]\n",
    "    words_freq =sorted(words_freq, key = lambda x: x[1], reverse=True)\n",
    "    return words_freq[:n]\n",
    "\n",
    "\n",
    "lemma_df = pd.DataFrame({\n",
    "    'rev': X_train_lemmas, \n",
    "    'label': y_train\n",
    "})\n",
    "\n",
    "for ngram in (2,3):\n",
    "    print(f' NGRAM = {ngram}')\n",
    "    for label in ('negative','neutral', 'positive'):\n",
    "        print(f'LABEL IS {label}')\n",
    "        label_revs = lemma_df[lemma_df['label']==label]['rev'].values\n",
    "        print(get_top_n_words(label_revs, 80, ngrams=2))\n",
    "        print(' ')"
   ]
  },
  {
   "cell_type": "markdown",
   "metadata": {},
   "source": [
    "Бачимо, що для для відгуків різних класів іноді характерні усілякі сталі вирази, що погано або гарно характеризують товар: \n",
    "* біграми ('не рекомендувати' або 'дуже задоволений')\n",
    "* триграми ('викинутий на вітер' або 'помічник на кухні'). \n",
    "Водночас, 'за такі гроші' є в усіх трьох класах, тобто за свої гроші може бути, як погане, так і хороше)\n",
    "\n",
    "Начебто біграми та триграми на словах мають гарно впливати на класифікацію сентименту"
   ]
  },
  {
   "cell_type": "code",
   "execution_count": 301,
   "metadata": {},
   "outputs": [],
   "source": [
    "count_lr_wbi_clf = Pipeline([\n",
    "    ('vect', CountVectorizer(\n",
    "        ngram_range=(2,3),\n",
    "    )),\n",
    "    ('clf', LogisticRegression(\n",
    "        random_state=42, \n",
    "        solver = 'sag',\n",
    "        multi_class='multinomial',\n",
    "        max_iter=6000,\n",
    "    )),\n",
    "])"
   ]
  },
  {
   "cell_type": "code",
   "execution_count": 295,
   "metadata": {},
   "outputs": [
    {
     "name": "stdout",
     "output_type": "stream",
     "text": [
      "              precision    recall  f1-score   support\n",
      "\n",
      "    negative       0.63      0.49      0.55       822\n",
      "     neutral       0.35      0.21      0.26      1009\n",
      "    positive       0.79      0.91      0.85      4101\n",
      "\n",
      "    accuracy                           0.73      5932\n",
      "   macro avg       0.59      0.54      0.55      5932\n",
      "weighted avg       0.69      0.73      0.71      5932\n",
      "\n"
     ]
    }
   ],
   "source": [
    "print_report_for_cv(X_train_lemmas, y_train, count_lr_wbi_clf, cv)"
   ]
  },
  {
   "cell_type": "code",
   "execution_count": 303,
   "metadata": {},
   "outputs": [],
   "source": [
    "import numpy as np\n",
    "\n",
    "def top_features(vectorizer, clf, n):\n",
    "    \"\"\"Prints features with the highest coefficient values, per class\"\"\"\n",
    "    feature_names = vectorizer.get_feature_names()\n",
    "    for i, class_label in enumerate(clf.classes_):\n",
    "        top = np.argsort(clf.coef_[i])\n",
    "        reversed_top = top[::-1]\n",
    "        print(\"%s: %s\\n\" % (class_label,\n",
    "              \" \".join(feature_names[j] for j in reversed_top[:n])))\n"
   ]
  },
  {
   "cell_type": "code",
   "execution_count": 315,
   "metadata": {},
   "outputs": [
    {
     "data": {
      "text/plain": [
       "LogisticRegression(C=1.0, class_weight=None, dual=False, fit_intercept=True,\n",
       "                   intercept_scaling=1, l1_ratio=None, max_iter=6000,\n",
       "                   multi_class='multinomial', n_jobs=None, penalty='l2',\n",
       "                   random_state=42, solver='sag', tol=0.0001, verbose=0,\n",
       "                   warm_start=False)"
      ]
     },
     "execution_count": 315,
     "metadata": {},
     "output_type": "execute_result"
    }
   ],
   "source": [
    "vectorizer = CountVectorizer(ngram_range=(2,3)).fit(X_train_lemmas)\n",
    "lr =LogisticRegression(\n",
    "        random_state=42, \n",
    "        solver = 'sag',\n",
    "        multi_class='multinomial',\n",
    "        max_iter=6000,\n",
    "    )\n",
    "lr.fit(vectorizer.transform(X_train_lemmas), y_train)"
   ]
  },
  {
   "cell_type": "code",
   "execution_count": 316,
   "metadata": {},
   "outputs": [
    {
     "name": "stdout",
     "output_type": "stream",
     "text": [
      "negative: не рекомендувати не відповідати не працювати через місяць працювати задоволений сервісний центр що робити через день інший магазин ну такоє іржа наступати не беріти таки працювати перестати працювати взагалі задоволений поки немати два місяць через тиждень після місяць перестати включатися відсутній інструкція неприємний запах для дерун після перший br не свій грошї за свій грошї гроші можна не брати чудово працювати задоволений прийти без такий якість не розігрівати цен нормально такуй цен нормально при перший для дім згодитися дім згодитися що причина по гарантія такий гроші нормальний на новий не закриватися вигляд мати гарний місяць використання за хороший сервіс розетець за хороший перший використання микрохвильовий піч вигляд мати\n",
      "\n",
      "neutral: ціле задоволений очень понравитися претензія немати якість ціна рекомендувати дякувати по акція бути користуватися нормальний якість не поганий робити рік все простенько загальний позитивний вчитися користуватися трішки шумити можно покупити хто виробник печети на достатньо добре свій ціна нормальний мікрохвильовка відповідний якість свій функція чайник працювати добре бути таймер гарний помічниця гарантійний талон зауважня немати загалом гарний свій гроші дуже якісний мультиварка незаповнений гарантійний талон незаповнений гарантійний що працювати за свій ціна тостря ціна якість тостря ціна легкий зручний користування задоволений міксер користуватися день відповідати ціна якість поки що працювати якісний мультиварка цен неплохо свій цен неплохо дуже гарний помічниця поки що поки все цен норма такуй цен норма кавомолка зручний\n",
      "\n",
      "positive: дуже задоволений очень довольний все супер просто супер дуже хороший чудовий блендер чудовий чайник дуже смачний весь задоволений на кухня зручний використання працювати відмінно хороший вага радити весь очень доволен дуже швидко весь рекомендувати дуже класний простий використання дуже зручний без проблема мікрохвильовий піч легко митися нарікання немати гарний річ гарний вага чудовий річ якісний товар дуже добре вже рік все чудово смачний кава хороший міксер хороший якість все подобатися працювати вже хороший мультиварка гарний дизайн працювати тихо дуже сподобатися гарний товар чудовий тостря недолік не легко мити хороший річ працювати без жен довольний мікрохвильовка за свій однозначно рекомендувати дуже добрий\n",
      "\n"
     ]
    }
   ],
   "source": [
    "top_features(vectorizer, lr, 50)"
   ]
  },
  {
   "cell_type": "markdown",
   "metadata": {},
   "source": [
    "Бачимо,що моделі вдається вивчити, які бі-, триграми характерні для позитивних та негативних відгуків. Водночас, результати порівняні або навіть трохи гірше від базового рішення"
   ]
  }
 ],
 "metadata": {
  "kernelspec": {
   "display_name": "Python 3",
   "language": "python",
   "name": "python3"
  },
  "language_info": {
   "codemirror_mode": {
    "name": "ipython",
    "version": 3
   },
   "file_extension": ".py",
   "mimetype": "text/x-python",
   "name": "python",
   "nbconvert_exporter": "python",
   "pygments_lexer": "ipython3",
   "version": "3.7.3"
  }
 },
 "nbformat": 4,
 "nbformat_minor": 4
}
