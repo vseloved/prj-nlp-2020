{
 "cells": [
  {
   "cell_type": "markdown",
   "metadata": {},
   "source": [
    "1. Snowball stemmer"
   ]
  },
  {
   "cell_type": "markdown",
   "metadata": {},
   "source": [
    "It outputs:\n",
    "\n",
    "1. truth, truth, truth, countertruth, untruth, trutholog\n",
    "2. flaw, flaw, flaw, flawless, flawless, flawless\n",
    "3. лес, лесн, лесник, леснич, лесничеств, пролес\n",
    "4. окн, окошк, подоконник, окон, окнищ"
   ]
  },
  {
   "cell_type": "markdown",
   "metadata": {},
   "source": [
    "Спостереження:\n",
    "* В англійській різні частини мови можуть мати однакову стему\n",
    "* Чогось схожі за будовою слова thruthful та flawless оброблюються по-різному\n",
    "* В російській часто просто відрізається закінчення"
   ]
  },
  {
   "cell_type": "markdown",
   "metadata": {},
   "source": [
    "# 2\n",
    "1. We can {but} hope that everything will be fine.: adverb, hope\n",
    "2. It's sad {but} true.: cconj, sad\n",
    "3. Jack brings nothing {but} trouble.: Sconj, nothing\n",
    "4. Let's do it this {way}!: noun, do\n",
    "5. This is {way} too much!: adverb, is\n",
    "6. The prices are going {down}.: adverb, going\n",
    "7. Someone pushed him and he fell {down} the stairs.: particle, fell\n",
    "8. I’ve been feeling rather {down} lately.: adjective, feeling\n",
    "9. It's not easy to {down} a cup of coffee in one gulp.: verb, to\n",
    "10. Bring a {down} jacket and a pair of gloves, and you'll be fine.: adv, jacket"
   ]
  },
  {
   "cell_type": "code",
   "execution_count": 1,
   "metadata": {},
   "outputs": [],
   "source": [
    "import spacy\n",
    "nlp = spacy.load('en_core_web_md')"
   ]
  },
  {
   "cell_type": "code",
   "execution_count": 18,
   "metadata": {},
   "outputs": [
    {
     "name": "stdout",
     "output_type": "stream",
     "text": [
      "We PRON can\n",
      "can VERB can\n",
      "but CCONJ can\n",
      "hope VERB can\n",
      "that SCONJ be\n",
      "everything PRON be\n",
      "will VERB be\n",
      "be AUX hope\n",
      "fine ADJ be\n",
      ". PUNCT can\n"
     ]
    }
   ],
   "source": [
    "doc = nlp(\"We can but hope that everything will be fine.\")\n",
    "\n",
    "for w in doc:\n",
    "    print(w.text, w.pos_, w.head)"
   ]
  },
  {
   "cell_type": "markdown",
   "metadata": {},
   "source": [
    "# 3\n",
    "\n",
    "1. Рада міністрів Європейського союзу затвердила угоду про спрощений порядок видачі {віз} для України. : іменник, видачі\n",
    "2. Батько Себастьяна {віз} на санях їх театральний гурт до Львова.: дієслово, ROOT\n",
    "3. А ще дивний елемент інтер’єру – {віз} із продукцією одного з херсонських виробників.: іменник, елемент \n",
    "4. У цю мить {повз} Євгена пролетів останній вагон товарняка: прийменник, пролетів\n",
    "5. Кліпнув очима і побачив малого песика, який саме пробігав {повз} у бік села.: прийменник, пробігав\n",
    "6. Степанко перестав кричати, тільки ламкий стогін {повз} йому із грудей: дієслово, перестав(?)\n",
    "7. Ось присіла на {край} ліжка.: іменник, присіла\n",
    "8. Поставив ту кузню не {край} дороги, як було заведено, а на Красній горі, біля Прадуба.: прийменник, поставив\n",
    "9. Розповідаючи про передній {край} лінґвістики, фон Лібіх, як завжди, мислив широко і глобально.: іменник, розповідаючи\n",
    "10. Не {край} мені серце.: дієслово, ROOT"
   ]
  },
  {
   "cell_type": "markdown",
   "metadata": {},
   "source": [
    "# 5"
   ]
  },
  {
   "cell_type": "markdown",
   "metadata": {},
   "source": [
    "КУЛЯ:\n",
    "1. Сфера\n",
    "* синоніми: шар\n",
    "* антонімиЖ тороїд (в топологічному сенсі:)\n",
    "* мероніми: радіус, діаметр \n",
    "* гіпоніми: точка (сфера в одновимірному просторі)\n",
    "* гіпероніми: тіло, \n",
    "\n",
    "2. Вогнепальна куля\n",
    "* синоніми: дріб, картеч\n",
    "* мероніми: оболонка\n",
    "* голоніми: патрон\n",
    "* гіпероніми: сняряд\n",
    "\n",
    "3. Надувна кулька\n",
    "* синоніми: шарик (русизм)\n",
    "* гіпероніми: прикраса"
   ]
  },
  {
   "cell_type": "code",
   "execution_count": null,
   "metadata": {},
   "outputs": [],
   "source": []
  }
 ],
 "metadata": {
  "kernelspec": {
   "display_name": "Python 3",
   "language": "python",
   "name": "python3"
  },
  "language_info": {
   "codemirror_mode": {
    "name": "ipython",
    "version": 3
   },
   "file_extension": ".py",
   "mimetype": "text/x-python",
   "name": "python",
   "nbconvert_exporter": "python",
   "pygments_lexer": "ipython3",
   "version": "3.7.3"
  }
 },
 "nbformat": 4,
 "nbformat_minor": 4
}
