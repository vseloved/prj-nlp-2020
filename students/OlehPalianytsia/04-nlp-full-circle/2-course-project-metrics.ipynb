{
 "cells": [
  {
   "cell_type": "code",
   "execution_count": 1,
   "metadata": {},
   "outputs": [
    {
     "data": {
      "text/html": [
       "<div>\n",
       "<style scoped>\n",
       "    .dataframe tbody tr th:only-of-type {\n",
       "        vertical-align: middle;\n",
       "    }\n",
       "\n",
       "    .dataframe tbody tr th {\n",
       "        vertical-align: top;\n",
       "    }\n",
       "\n",
       "    .dataframe thead th {\n",
       "        text-align: right;\n",
       "    }\n",
       "</style>\n",
       "<table border=\"1\" class=\"dataframe\">\n",
       "  <thead>\n",
       "    <tr style=\"text-align: right;\">\n",
       "      <th></th>\n",
       "      <th>sentence</th>\n",
       "      <th>label</th>\n",
       "    </tr>\n",
       "  </thead>\n",
       "  <tbody>\n",
       "    <tr>\n",
       "      <th>0</th>\n",
       "      <td>The smell of fungus, humidity and cigarettes f...</td>\n",
       "      <td>show</td>\n",
       "    </tr>\n",
       "    <tr>\n",
       "      <th>1</th>\n",
       "      <td>The door slams shut and the glass windows trem...</td>\n",
       "      <td>show</td>\n",
       "    </tr>\n",
       "    <tr>\n",
       "      <th>2</th>\n",
       "      <td>Five hour-long shoots and missed classes at sc...</td>\n",
       "      <td>show</td>\n",
       "    </tr>\n",
       "    <tr>\n",
       "      <th>3</th>\n",
       "      <td>The expectation of stillness went beyond the c...</td>\n",
       "      <td>show</td>\n",
       "    </tr>\n",
       "    <tr>\n",
       "      <th>4</th>\n",
       "      <td>In Makove, boredom was my greatest enemy.</td>\n",
       "      <td>show</td>\n",
       "    </tr>\n",
       "    <tr>\n",
       "      <th>5</th>\n",
       "      <td>It is not exaggerated to say that people who a...</td>\n",
       "      <td>tell</td>\n",
       "    </tr>\n",
       "    <tr>\n",
       "      <th>6</th>\n",
       "      <td>Because those are the moments when people just...</td>\n",
       "      <td>tell</td>\n",
       "    </tr>\n",
       "    <tr>\n",
       "      <th>7</th>\n",
       "      <td>I abandoned all my social life, devoted more a...</td>\n",
       "      <td>tell</td>\n",
       "    </tr>\n",
       "    <tr>\n",
       "      <th>8</th>\n",
       "      <td>I couldnt realise, what am I doing wrong.</td>\n",
       "      <td>tell</td>\n",
       "    </tr>\n",
       "    <tr>\n",
       "      <th>9</th>\n",
       "      <td>It took six years of tongue twisters and compl...</td>\n",
       "      <td>tell</td>\n",
       "    </tr>\n",
       "  </tbody>\n",
       "</table>\n",
       "</div>"
      ],
      "text/plain": [
       "                                            sentence label\n",
       "0  The smell of fungus, humidity and cigarettes f...  show\n",
       "1  The door slams shut and the glass windows trem...  show\n",
       "2  Five hour-long shoots and missed classes at sc...  show\n",
       "3  The expectation of stillness went beyond the c...  show\n",
       "4          In Makove, boredom was my greatest enemy.  show\n",
       "5  It is not exaggerated to say that people who a...  tell\n",
       "6  Because those are the moments when people just...  tell\n",
       "7  I abandoned all my social life, devoted more a...  tell\n",
       "8          I couldnt realise, what am I doing wrong.  tell\n",
       "9  It took six years of tongue twisters and compl...  tell"
      ]
     },
     "execution_count": 1,
     "metadata": {},
     "output_type": "execute_result"
    }
   ],
   "source": [
    "import pandas as pd\n",
    "\n",
    "ds = pd.read_csv('dataset.csv')\n",
    "ds"
   ]
  },
  {
   "cell_type": "code",
   "execution_count": 2,
   "metadata": {},
   "outputs": [],
   "source": [
    "sents = ds['sentence']\n",
    "labels = ds['label']"
   ]
  },
  {
   "cell_type": "code",
   "execution_count": 9,
   "metadata": {},
   "outputs": [],
   "source": [
    "import spacy\n",
    "nlp = spacy.load(\"en_core_web_md\")"
   ]
  },
  {
   "cell_type": "code",
   "execution_count": 29,
   "metadata": {},
   "outputs": [
    {
     "data": {
      "text/plain": [
       "'show'"
      ]
     },
     "execution_count": 29,
     "metadata": {},
     "output_type": "execute_result"
    }
   ],
   "source": [
    "linking_verbs = [\"be\", \"appear\", \"become\",\n",
    "                 \"seem\", \"stay\", \"sound\", \"smell\",\n",
    "                 \"taste\", \"turn\", \"remain\", \"grow\", \"look\", \"feel\"]\n",
    "\n",
    "def classify_sentence(sent):\n",
    "    doc = nlp(sent)\n",
    "    for word in doc:\n",
    "        if word.dep_ == 'ROOT' and word.lemma_ in linking_verbs:\n",
    "            return 'tell'\n",
    "        if word.dep_ == 'nsubj' and not word.pos_ == 'PRON':\n",
    "            return 'show'\n",
    "    return 'tell'\n",
    "\n",
    "classify_sentence('Fear hits me hard today.')"
   ]
  },
  {
   "cell_type": "code",
   "execution_count": 30,
   "metadata": {},
   "outputs": [
    {
     "data": {
      "text/plain": [
       "0    tell\n",
       "1    show\n",
       "2    show\n",
       "3    show\n",
       "4    show\n",
       "5    tell\n",
       "6    show\n",
       "7    tell\n",
       "8    tell\n",
       "9    tell\n",
       "Name: sentence, dtype: object"
      ]
     },
     "execution_count": 30,
     "metadata": {},
     "output_type": "execute_result"
    }
   ],
   "source": [
    "y = labels\n",
    "y_pred = sents.apply(classify_sentence)\n",
    "\n",
    "y_pred"
   ]
  },
  {
   "cell_type": "code",
   "execution_count": 38,
   "metadata": {},
   "outputs": [
    {
     "name": "stdout",
     "output_type": "stream",
     "text": [
      "              precision    recall  f1-score   support\n",
      "\n",
      "        show       0.80      0.80      0.80         5\n",
      "        tell       0.80      0.80      0.80         5\n",
      "\n",
      "    accuracy                           0.80        10\n",
      "   macro avg       0.80      0.80      0.80        10\n",
      "weighted avg       0.80      0.80      0.80        10\n",
      "\n"
     ]
    }
   ],
   "source": [
    "# в якості основних метрик буду використовувати precision, recall метрики, та в якості їх комбінації f1 метрику.\n",
    "import sklearn.metrics as metrics\n",
    "\n",
    "print(metrics.classification_report(y, y_pred))"
   ]
  }
 ],
 "metadata": {
  "kernelspec": {
   "display_name": "Python 3",
   "language": "python",
   "name": "python3"
  },
  "language_info": {
   "codemirror_mode": {
    "name": "ipython",
    "version": 3
   },
   "file_extension": ".py",
   "mimetype": "text/x-python",
   "name": "python",
   "nbconvert_exporter": "python",
   "pygments_lexer": "ipython3",
   "version": "3.7.6"
  }
 },
 "nbformat": 4,
 "nbformat_minor": 4
}
