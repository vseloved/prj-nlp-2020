{
 "cells": [
  {
   "cell_type": "code",
   "execution_count": 1,
   "metadata": {},
   "outputs": [
    {
     "name": "stdout",
     "output_type": "stream",
     "text": [
      "--2020-03-27 14:58:07--  https://raw.githubusercontent.com/andabi/deep-text-corrector/master/data/conll14st-test-data/alt/official-2014.combined-withalt.m2\n",
      "Resolving raw.githubusercontent.com (raw.githubusercontent.com)... 151.101.0.133, 151.101.64.133, 151.101.128.133, ...\n",
      "Connecting to raw.githubusercontent.com (raw.githubusercontent.com)|151.101.0.133|:443... connected.\n",
      "HTTP request sent, awaiting response... 200 OK\n",
      "Length: 515159 (503K) [text/plain]\n",
      "Saving to: ‘official-2014.combined-withalt.m2’\n",
      "\n",
      "official-2014.combi 100%[===================>] 503.08K  2.21MB/s    in 0.2s    \n",
      "\n",
      "2020-03-27 14:58:08 (2.21 MB/s) - ‘official-2014.combined-withalt.m2’ saved [515159/515159]\n",
      "\n"
     ]
    }
   ],
   "source": [
    "!wget https://raw.githubusercontent.com/andabi/deep-text-corrector/master/data/conll14st-test-data/alt/official-2014.combined-withalt.m2"
   ]
  },
  {
   "cell_type": "code",
   "execution_count": 2,
   "metadata": {},
   "outputs": [
    {
     "name": "stdout",
     "output_type": "stream",
     "text": [
      "Requirement already satisfied: multiset in /opt/anaconda3/lib/python3.7/site-packages (2.1.1)\n",
      "Note: you may need to restart the kernel to use updated packages.\n"
     ]
    }
   ],
   "source": [
    "pip install multiset"
   ]
  },
  {
   "cell_type": "code",
   "execution_count": 3,
   "metadata": {},
   "outputs": [],
   "source": [
    "with open('official-2014.combined-withalt.m2', 'r') as f:\n",
    "    corpus_lines = f.readlines()"
   ]
  },
  {
   "cell_type": "code",
   "execution_count": 4,
   "metadata": {},
   "outputs": [
    {
     "data": {
      "text/plain": [
       "[('delete', 1), ('insert', 'you', 1), ('delete', 3), ('insert', 'dogs', 3)]"
      ]
     },
     "execution_count": 4,
     "metadata": {},
     "output_type": "execute_result"
    }
   ],
   "source": [
    "from difflib import SequenceMatcher\n",
    "\n",
    "# get edit script in terms of 'insert' and 'delete' operations only\n",
    "def edit_script(x, y):\n",
    "    ops = []\n",
    "    matcher = SequenceMatcher(None, x, y, autojunk=False)\n",
    "    offset = 0\n",
    "    for opcode in matcher.get_opcodes():\n",
    "#         print(opcode)\n",
    "        tag, x_s, x_e, y_s, y_e = opcode\n",
    "        if tag == 'delete':\n",
    "            for i in range(x_s, x_e):\n",
    "                ops.append(('delete', i))\n",
    "        elif tag == 'insert':\n",
    "            for i in range(y_s, y_e):\n",
    "                ops.append(('insert', y[i], x_s))\n",
    "        elif tag == 'replace':\n",
    "            for i in range(x_s, x_e):\n",
    "                ops.append(('delete', i))\n",
    "            for i in range(y_s, y_e):\n",
    "                ops.append(('insert', y[i], x_s))\n",
    "    return ops\n",
    "\n",
    "s1 = ['Do', 'ya', 'like', 'dawgs', '?']\n",
    "s2 = ['Do', 'you', 'like', 'dogs', '?']\n",
    "\n",
    "edit_script(s1, s2)"
   ]
  },
  {
   "cell_type": "code",
   "execution_count": 5,
   "metadata": {},
   "outputs": [],
   "source": [
    "class Annotation:\n",
    "    category = None\n",
    "    start = None\n",
    "    end = None\n",
    "    replacement = None\n",
    "    tokenized_replacement = None\n",
    "    annotator = None\n",
    "    \n",
    "    def __init__(self, start, end, category, replacement, annotator):\n",
    "        assert category\n",
    "        assert isinstance(start,int)\n",
    "        assert isinstance(end,int)\n",
    "        assert replacement is not None\n",
    "        assert annotator\n",
    "        self.category = category\n",
    "        self.start = start\n",
    "        self.end = end\n",
    "        self.replacement = replacement\n",
    "        self.tokenized_replacement = replacement.split()\n",
    "        self.annotator = annotator\n",
    "    \n",
    "    def __str__(self):\n",
    "        return \"{}:[{} {}]|{}|{}\".format(self.annotator, self.start, self.end, self.category, self.replacement)\n",
    "    def __repr__(self):\n",
    "        return self.__str__()\n",
    "\n",
    "class AnnotatedSentence:\n",
    "    tokens = None\n",
    "    annotations = None\n",
    "    \n",
    "    def __init__(self, tokens, annotations):\n",
    "        assert tokens        \n",
    "        self.tokens = tokens\n",
    "        self.annotations = annotations\n",
    "        \n",
    "    def _apply_annotations(self, annotations):\n",
    "        offset = 0\n",
    "        new_tokens = self.tokens.copy()\n",
    "        for ann in sorted(annotations, key=lambda ann: ann.start):\n",
    "            if ann.category == 'noop':\n",
    "                break\n",
    "            new_tokens[offset + ann.start: offset + ann.end] = ann.tokenized_replacement\n",
    "            offset += len(ann.tokenized_replacement) - (ann.end - ann.start)\n",
    "        return new_tokens\n",
    "    \n",
    "    def edit_ops(self, annotations):\n",
    "        new_tokens = self._apply_annotations(annotations)\n",
    "        return edit_script(self.tokens, new_tokens)\n",
    "    \n",
    "    def annotations_by_annotator(self):\n",
    "        d = {}\n",
    "        for ann in self.annotations:\n",
    "            annotator_anns = d.setdefault(ann.annotator, [])\n",
    "            annotator_anns.append(ann)\n",
    "        return d\n",
    "    \n",
    "    def annotations_by_annotator_and_category(self):\n",
    "        d = {}\n",
    "        for ann in self.annotations:\n",
    "            by_anntr = d.setdefault(ann.annotator, {})\n",
    "            by_cat = by_anntr.setdefault(ann.category, [])\n",
    "            by_cat.append(ann)\n",
    "        return d\n",
    "        \n",
    "    def __str__(self):\n",
    "        return \"{}\\n{}\".format(' '.join(self.tokens), '\\n'.join((map(str, self.annotations))))\n",
    "    def __repr__(self):\n",
    "        return self.__str__()\n",
    "    \n",
    "def parse_annotation(line):\n",
    "    parts = line.split('|||')\n",
    "    start, end = parts[0].split()[1:]\n",
    "    category, replacement, _, _, annotator = parts[1:]\n",
    "    return Annotation(int(start), int(end), category, replacement, annotator)\n",
    "\n",
    "def parse_tokens(line):\n",
    "    return line.split()[1:]\n",
    "\n",
    "def parse_sentence_lines(lines):\n",
    "    tokens = parse_tokens(lines[0])\n",
    "    annotations = [parse_annotation(line) for line in lines[1:]]\n",
    "    sent = AnnotatedSentence(tokens, annotations)\n",
    "    if len(sent.annotations_by_annotator()) > 1:\n",
    "        return sent\n",
    "\n",
    "def parse_corpus_lines(lines):\n",
    "    sentences_lines = []\n",
    "    cur_sentence_lines = []\n",
    "    for line in lines:\n",
    "        line = line.strip()\n",
    "        if line:\n",
    "            if line.startswith('S'):\n",
    "                if cur_sentence_lines:\n",
    "                    sentences_lines.append(cur_sentence_lines)\n",
    "                    cur_sentence_lines = []\n",
    "            cur_sentence_lines.append(line)\n",
    "    if cur_sentence_lines:\n",
    "        sentences_lines.append(cur_sentence_lines)\n",
    "    \n",
    "    parsed_sents = []\n",
    "    for lines in sentences_lines:\n",
    "        parsed = parse_sentence_lines(lines)\n",
    "        if parsed:\n",
    "            parsed_sents.append(parsed)\n",
    "    \n",
    "    return parsed_sents\n",
    "\n",
    "def parse_corpus(corpus):\n",
    "    return parse_corpus_lines(corpus.splitlines())"
   ]
  },
  {
   "cell_type": "code",
   "execution_count": 6,
   "metadata": {},
   "outputs": [],
   "source": [
    "import itertools\n",
    "from multiset import Multiset\n",
    "\n",
    "# agreement between annotators A and B is a number of 'insert'/'delete' operations\n",
    "# that are common among A's and B's annotations divided by the total number\n",
    "# of 'insert'/'delete' operatons that A's and B's annotations produce\n",
    "def annotators_agreements(corpus):\n",
    "    agreements = {}\n",
    "    for sent in corpus:\n",
    "        anns_by_anntr = sent.annotations_by_annotator()        \n",
    "        anntr_combs = itertools.combinations(anns_by_anntr.keys(), 2)\n",
    "        \n",
    "        for x_anntr, y_anntr in anntr_combs:\n",
    "            x_anns = anns_by_anntr[x_anntr]\n",
    "            y_anns = anns_by_anntr[y_anntr]\n",
    "            x_edits = Multiset(sent.edit_ops(x_anns))\n",
    "            y_edits = Multiset(sent.edit_ops(y_anns))\n",
    "            edits_num = len(x_edits) + len(y_edits)\n",
    "            if edits_num == 0:\n",
    "                agr = 1\n",
    "            else:\n",
    "                common_ops = x_edits.intersection(y_edits)\n",
    "                agr = len(common_ops) * 2 / edits_num\n",
    "            agreements.setdefault(frozenset({x_anntr, y_anntr}), []).append(agr)\n",
    "    return agreements"
   ]
  },
  {
   "cell_type": "code",
   "execution_count": 7,
   "metadata": {},
   "outputs": [
    {
     "data": {
      "text/plain": [
       "{frozenset({'0', '1'}): [0.5]}"
      ]
     },
     "execution_count": 7,
     "metadata": {},
     "output_type": "execute_result"
    }
   ],
   "source": [
    "lines = '''S Above all , life is more important than secret .\n",
    "A 8 9|||Nn|||secrets|||REQUIRED|||-NONE-|||0\n",
    "A 8 9|||Wform|||secrecy|||REQUIRED|||-NONE-|||1'''\n",
    "\n",
    "# both annotators decided to delete 'secret' token -> two 'delete' operations are the same.\n",
    "# however they decided to replace it by 'secrets' and 'secrecy' tokens respectively -> two 'insert' operations aren't the same.\n",
    "# therefore, agreement = two same 'delete's / (two 'delete's + two 'insert's) = 0.5\n",
    "annotators_agreements(parse_corpus(lines))"
   ]
  },
  {
   "cell_type": "code",
   "execution_count": 8,
   "metadata": {},
   "outputs": [
    {
     "data": {
      "text/plain": [
       "{frozenset({'0', '1'}): [1.0]}"
      ]
     },
     "execution_count": 8,
     "metadata": {},
     "output_type": "execute_result"
    }
   ],
   "source": [
    "lines = '''S When we are diagonosed out with certain genetic disease , are we suppose to disclose this result to our relatives ?\n",
    "A 3 4|||Mec|||diagnosed|||REQUIRED|||-NONE-|||0\n",
    "A 4 5|||Prep||||||REQUIRED|||-NONE-|||0\n",
    "A 3 5|||Rloc-|||diagnosed|||REQUIRED|||-NONE-|||1'''\n",
    "\n",
    "# all tokens matched - full agreement\n",
    "annotators_agreements(parse_corpus(lines))"
   ]
  },
  {
   "cell_type": "code",
   "execution_count": 9,
   "metadata": {},
   "outputs": [
    {
     "data": {
      "text/plain": [
       "{frozenset({'0', '1'}): [0.6666666666666666]}"
      ]
     },
     "execution_count": 9,
     "metadata": {},
     "output_type": "execute_result"
    }
   ],
   "source": [
    "lines = '''S He entered into at school .\n",
    "A 2 4|||Foo||||||REQUIRED|||-NONE-|||0\n",
    "A 3 4|||Bar||||||REQUIRED|||-NONE-|||1'''\n",
    "\n",
    "# two 'delete's of 'at' token are common between two annotators, but 'delete' of 'into' isn't.\n",
    "# therefore, aggrement = (two 'delete's of 'at') / (two 'delete's of 'at' + one 'delete' of 'into') = 0.66\n",
    "annotators_agreements(parse_corpus(lines))"
   ]
  },
  {
   "cell_type": "code",
   "execution_count": 10,
   "metadata": {},
   "outputs": [
    {
     "data": {
      "text/plain": [
       "{frozenset({'0', '1'}): [0.4]}"
      ]
     },
     "execution_count": 10,
     "metadata": {},
     "output_type": "execute_result"
    }
   ],
   "source": [
    "lines = '''S He entered into at school .\n",
    "A 1 4|||Foo|||enters|||REQUIRED|||-NONE-|||0\n",
    "A 2 3|||Bar||||||REQUIRED|||-NONE-|||1'''\n",
    "\n",
    "# 2 out of 5 ops are the same\n",
    "annotators_agreements(parse_corpus(lines))"
   ]
  },
  {
   "cell_type": "code",
   "execution_count": 11,
   "metadata": {},
   "outputs": [
    {
     "data": {
      "text/plain": [
       "{frozenset({'0', '1'}): [0.4],\n",
       " frozenset({'0', '2'}): [0.5],\n",
       " frozenset({'0', '3'}): [0.7142857142857143],\n",
       " frozenset({'0', '4'}): [0.8333333333333334],\n",
       " frozenset({'1', '2'}): [0.8235294117647058],\n",
       " frozenset({'1', '3'}): [0.3157894736842105],\n",
       " frozenset({'1', '4'}): [0.35294117647058826],\n",
       " frozenset({'2', '3'}): [0.375],\n",
       " frozenset({'2', '4'}): [0.42857142857142855],\n",
       " frozenset({'3', '4'}): [0.75]}"
      ]
     },
     "execution_count": 11,
     "metadata": {},
     "output_type": "execute_result"
    }
   ],
   "source": [
    "lines = '''S If certain disease genetic test is very accurate and it is unavoidable and necessary to get treatment and known by others , it is OK to disclose the result .\n",
    "A 1 1|||ArtOrDet|||a|||REQUIRED|||-NONE-|||0\n",
    "A 2 3|||Rloc-||||||REQUIRED|||-NONE-|||0\n",
    "A 18 19|||Wci|||tell|||REQUIRED|||-NONE-|||0\n",
    "A 19 20|||Prep||||||REQUIRED|||-NONE-|||0\n",
    "A 1 1|||ArtOrDet|||a|||REQUIRED|||-NONE-|||1\n",
    "A 2 5|||WOinc|||genetic test for a disease|||REQUIRED|||-NONE-|||1\n",
    "A 18 18|||Spar|||to make it|||REQUIRED|||-NONE-|||1\n",
    "A 19 20|||Prep|||to|||REQUIRED|||-NONE-|||1\n",
    "A 1 1|||ArtOrDet|||a|||REQUIRED|||-NONE-|||2\n",
    "A 2 3|||Rloc-||||||REQUIRED|||-NONE-|||2\n",
    "A 18 18|||Spar|||to make it|||REQUIRED|||-NONE-|||2\n",
    "A 19 20|||Prep|||to|||REQUIRED|||-NONE-|||2\n",
    "A 1 1|||ArtOrDet|||a|||REQUIRED|||-NONE-|||3\n",
    "A 2 3|||Rloc-||||||REQUIRED|||-NONE-|||3\n",
    "A 18 19|||Wci|||tell|||REQUIRED|||-NONE-|||3\n",
    "A 19 20|||Prep||||||REQUIRED|||-NONE-|||3\n",
    "A 27 30|||WOinc|||results|||REQUIRED|||-NONE-|||3\n",
    "A 1 1|||ArtOrDet|||a|||REQUIRED|||-NONE-|||4\n",
    "A 2 3|||Rloc-||||||REQUIRED|||-NONE-|||4\n",
    "A 18 19|||Wci|||tell|||REQUIRED|||-NONE-|||4\n",
    "A 19 20|||Prep||||||REQUIRED|||-NONE-|||4\n",
    "A 28 29|||Nn|||results|||REQUIRED|||-NONE-|||4'''\n",
    "\n",
    "annotators_agreements(parse_corpus(lines))"
   ]
  },
  {
   "cell_type": "code",
   "execution_count": 12,
   "metadata": {},
   "outputs": [],
   "source": [
    "from statistics import mean\n",
    "\n",
    "parsed_corpus = parse_corpus_lines(corpus_lines)\n",
    "anntr_agr = {}\n",
    "all_agrs = []\n",
    "for pair, agreements in annotators_agreements(parsed_corpus).items():\n",
    "    anntr_agr[pair] = mean(agreements)\n",
    "    all_agrs.extend(agreements)"
   ]
  },
  {
   "cell_type": "code",
   "execution_count": 13,
   "metadata": {},
   "outputs": [
    {
     "data": {
      "text/plain": [
       "{frozenset({'0', '1'}): 0.30903002378094613,\n",
       " frozenset({'0', '2'}): 0.40142757985057864,\n",
       " frozenset({'1', '2'}): 0.47211829964379404,\n",
       " frozenset({'0', '3'}): 0.4705591944591578,\n",
       " frozenset({'0', '4'}): 0.6320067388178843,\n",
       " frozenset({'1', '3'}): 0.581600891527528,\n",
       " frozenset({'1', '4'}): 0.5627751333633687,\n",
       " frozenset({'2', '3'}): 0.5319040640999786,\n",
       " frozenset({'2', '4'}): 0.46823104431800083,\n",
       " frozenset({'3', '4'}): 0.45396825396825397}"
      ]
     },
     "execution_count": 13,
     "metadata": {},
     "output_type": "execute_result"
    }
   ],
   "source": [
    "anntr_agr"
   ]
  },
  {
   "cell_type": "code",
   "execution_count": 14,
   "metadata": {},
   "outputs": [
    {
     "data": {
      "text/plain": [
       "0.3747484216311601"
      ]
     },
     "execution_count": 14,
     "metadata": {},
     "output_type": "execute_result"
    }
   ],
   "source": [
    "mean(all_agrs)"
   ]
  },
  {
   "cell_type": "code",
   "execution_count": 15,
   "metadata": {},
   "outputs": [],
   "source": [
    "def annotator_agreements_by_cat(corpus):\n",
    "    agreements = {}\n",
    "    for sent in corpus:\n",
    "        by_anntr_and_cats = sent.annotations_by_annotator_and_category()\n",
    "        anntr_combs = itertools.combinations(by_anntr_and_cats.keys(), 2)\n",
    "        \n",
    "        for x_anntr, y_anntr in anntr_combs:\n",
    "            x_by_cats = by_anntr_and_cats[x_anntr]\n",
    "            y_by_cats = by_anntr_and_cats[y_anntr]\n",
    "            cats_to_process = set(list(x_by_cats.keys()) + list(y_by_cats.keys()))\n",
    "            for cat in cats_to_process:\n",
    "                x_anns = x_by_cats.get(cat)\n",
    "                y_anns = y_by_cats.get(cat)\n",
    "                                \n",
    "                agr = 0\n",
    "                if (x_anns is not None) and (y_anns is not None):\n",
    "                    x_edits = Multiset(sent.edit_ops(x_anns))\n",
    "                    y_edits = Multiset(sent.edit_ops(y_anns))\n",
    "                    edits_num = len(x_edits) + len(y_edits)\n",
    "                    if edits_num == 0:\n",
    "                        agr = 1\n",
    "                    else:\n",
    "                        common_edits = x_edits.intersection(y_edits)\n",
    "                        agr = len(common_edits) * 2 / edits_num                        \n",
    "                agreements.setdefault((cat, frozenset({x_anntr, y_anntr})), []).append(agr)\n",
    "    return agreements"
   ]
  },
  {
   "cell_type": "code",
   "execution_count": 16,
   "metadata": {},
   "outputs": [
    {
     "data": {
      "text/plain": [
       "{('WOinc', frozenset({'1', '3'})): [0.0]}"
      ]
     },
     "execution_count": 16,
     "metadata": {},
     "output_type": "execute_result"
    }
   ],
   "source": [
    "lines = '''S If certain disease genetic test is very accurate and it is unavoidable and necessary to get treatment and known by others , it is OK to disclose the result .\n",
    "A 2 5|||WOinc|||genetic test for a disease|||REQUIRED|||-NONE-|||1\n",
    "A 27 30|||WOinc|||results|||REQUIRED|||-NONE-|||3'''\n",
    "\n",
    "annotator_agreements_by_cat(parse_corpus(lines))"
   ]
  },
  {
   "cell_type": "code",
   "execution_count": 17,
   "metadata": {},
   "outputs": [
    {
     "data": {
      "text/plain": [
       "{('Foo', frozenset({'1', '3'})): [0.6666666666666666]}"
      ]
     },
     "execution_count": 17,
     "metadata": {},
     "output_type": "execute_result"
    }
   ],
   "source": [
    "lines = '''S He entered into at school.\n",
    "A 2 4|||Foo||||||REQUIRED|||-NONE-|||1\n",
    "A 3 4|||Foo||||||REQUIRED|||-NONE-|||3'''\n",
    "\n",
    "annotator_agreements_by_cat(parse_corpus(lines))"
   ]
  },
  {
   "cell_type": "code",
   "execution_count": 18,
   "metadata": {},
   "outputs": [
    {
     "data": {
      "text/plain": [
       "{('Foo', frozenset({'1', '3'})): [0], ('Bar', frozenset({'1', '3'})): [0]}"
      ]
     },
     "execution_count": 18,
     "metadata": {},
     "output_type": "execute_result"
    }
   ],
   "source": [
    "lines = '''S He entered into at school.\n",
    "A 2 4|||Foo||||||REQUIRED|||-NONE-|||1\n",
    "A 3 4|||Bar||||||REQUIRED|||-NONE-|||3'''\n",
    "\n",
    "annotator_agreements_by_cat(parse_corpus(lines))"
   ]
  },
  {
   "cell_type": "code",
   "execution_count": 19,
   "metadata": {},
   "outputs": [
    {
     "data": {
      "text/plain": [
       "{'noop': 0,\n",
       " 'WOadv': 0.16037735849056603,\n",
       " 'Vt': 0.32094749694749697,\n",
       " 'Mec': 0.2685179520907307,\n",
       " 'ArtOrDet': 0.31416750391109366,\n",
       " 'Prep': 0.3293407731490288,\n",
       " 'Nn': 0.3009072249589491,\n",
       " 'Rloc-': 0.1503034319950808,\n",
       " 'Wform': 0.33197278911564626,\n",
       " 'Wci': 0.2249104216774839,\n",
       " 'Vform': 0.27911458333333333,\n",
       " 'Vm': 0.1808875931324911,\n",
       " 'Others': 0.16039787184825352,\n",
       " 'Trans': 0.20051239209133945,\n",
       " 'Ssub': 0.21583695496738975,\n",
       " 'V0': 0.24915824915824916,\n",
       " 'WOinc': 0.1364071038251366,\n",
       " 'Npos': 0.23950617283950618,\n",
       " 'Spar': 0.1111111111111111,\n",
       " 'Pref': 0.17404040404040405,\n",
       " 'SVA': 0.3983589743589744,\n",
       " 'Srun': 0.20082815734989648,\n",
       " 'Pform': 0.23484848484848486,\n",
       " 'Um': 0.15165559078602556,\n",
       " 'Sfrag': 0.1,\n",
       " 'Smod': 0.125,\n",
       " 'Wtone': 0.08333333333333333,\n",
       " 'Wa': 0.2}"
      ]
     },
     "execution_count": 19,
     "metadata": {},
     "output_type": "execute_result"
    }
   ],
   "source": [
    "agr_by_cat = {}\n",
    "for (cat, pair), agrs in annotator_agreements_by_cat(parsed_corpus).items():\n",
    "    agr_by_cat.setdefault(cat, []).extend(agrs)\n",
    "    \n",
    "for cat, agrs in agr_by_cat.copy().items():\n",
    "    agr_by_cat[cat] = mean(agrs)\n",
    "    \n",
    "agr_by_cat"
   ]
  }
 ],
 "metadata": {
  "kernelspec": {
   "display_name": "Python 3",
   "language": "python",
   "name": "python3"
  },
  "language_info": {
   "codemirror_mode": {
    "name": "ipython",
    "version": 3
   },
   "file_extension": ".py",
   "mimetype": "text/x-python",
   "name": "python",
   "nbconvert_exporter": "python",
   "pygments_lexer": "ipython3",
   "version": "3.7.6"
  }
 },
 "nbformat": 4,
 "nbformat_minor": 4
}
