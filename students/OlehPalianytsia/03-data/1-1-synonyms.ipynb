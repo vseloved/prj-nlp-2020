{
 "cells": [
  {
   "cell_type": "code",
   "execution_count": 34,
   "metadata": {},
   "outputs": [],
   "source": [
    "from xml.sax import saxutils, handler, make_parser\n",
    "import re\n",
    "\n",
    "def extract_synonyms_section(text):\n",
    "    synonyms_section = None\n",
    "    found = False\n",
    "    \n",
    "    for line in text.splitlines():\n",
    "        line = line.strip()\n",
    "        if line == '{{synonimy}}':\n",
    "            synonyms_section = []\n",
    "            found = True\n",
    "        elif found:\n",
    "            if line.startswith('{{'):\n",
    "                break\n",
    "            else:\n",
    "                synonyms_section.append(line)\n",
    "            \n",
    "    return synonyms_section\n",
    "\n",
    "polish_letter_regexp = re.compile('[a-zA-ZąćęłńóśźżĄĆĘŁŃÓŚŹŻ]')\n",
    "\n",
    "def extract_synonyms(text):\n",
    "    section_lines = extract_synonyms_section(text)\n",
    "    if section_lines:\n",
    "        synonyms = []\n",
    "        for line in section_lines:\n",
    "            raw_synonyms = re.findall('\\[\\[([^]]+)', line)\n",
    "            line_synonyms = []\n",
    "            for s in raw_synonyms:\n",
    "                if (# text with pipes is most probably not what we want\n",
    "                    # since it defines custom text to display a link to a word \n",
    "                    # also if synonym contains a digit - drop it\n",
    "                    not re.search('[\\\\d|]', s) and\n",
    "                    # should contain at least one adequate letter\n",
    "                    re.search(polish_letter_regexp, s) and\n",
    "                    # should start with a letter\n",
    "                    re.search('^\\\\w', s)):\n",
    "                    line_synonyms.append(s)\n",
    "            if line_synonyms:\n",
    "                synonyms.append(line_synonyms)\n",
    "        return synonyms\n",
    "    return None\n",
    "\n",
    "class PlWiktionaryHandler(handler.ContentHandler):\n",
    "    collected_synonyms = {}\n",
    "    cur_tag = None\n",
    "    cur_title = ''\n",
    "    cur_text = ''\n",
    "    total_pages = 0\n",
    "    \n",
    "    def _reset(self):\n",
    "        self.cur_tag = None\n",
    "        self.cur_title = ''\n",
    "        self.cur_text = ''\n",
    "    \n",
    "    def __init__(self):\n",
    "        handler.ContentHandler.__init__(self)\n",
    "        \n",
    "    def startElement(self, name, attrs):\n",
    "        self.cur_tag = name\n",
    "        \n",
    "    def endElement(self, name):\n",
    "        if name == 'page':\n",
    "            self.total_pages += 1\n",
    "            self.cur_title = self.cur_title.strip()\n",
    "            if (self.cur_title and\n",
    "                # should be one word\n",
    "                len(self.cur_title.split()) == 1 and\n",
    "                # should contain at least one adequate letter\n",
    "                re.search(polish_letter_regexp, self.cur_title) and \n",
    "                # drop capitalized words\n",
    "                self.cur_title[0].islower() and\n",
    "                # should start with a letter\n",
    "                re.search('^\\\\w', self.cur_title) and\n",
    "                self.cur_text):\n",
    "                synonyms = extract_synonyms(self.cur_text)\n",
    "                if synonyms:\n",
    "                    self.collected_synonyms[self.cur_title] = synonyms\n",
    "            self._reset()\n",
    "        \n",
    "    def characters(self, content):\n",
    "        if self.cur_tag == 'title':\n",
    "            self.cur_title += content\n",
    "        if self.cur_tag == 'text':\n",
    "            self.cur_text += content\n",
    "\n",
    "parser = make_parser()\n",
    "content_handler = PlWiktionaryHandler()\n",
    "parser.setContentHandler(content_handler)"
   ]
  },
  {
   "cell_type": "code",
   "execution_count": 35,
   "metadata": {},
   "outputs": [],
   "source": [
    "full_xml_file_path = '/Users/oleh.palianytsia/Downloads/plwiktionary-20200301-pages-articles.xml'\n",
    "parser.parse(full_xml_file_path)"
   ]
  },
  {
   "cell_type": "code",
   "execution_count": 36,
   "metadata": {},
   "outputs": [],
   "source": [
    "with open('1-1-synonyms-result.txt', 'w') as f:\n",
    "    for word, synsets in sorted(content_handler.collected_synonyms.items(), key=lambda item: item[1]):\n",
    "        f.write(word + ':\\n')\n",
    "        for ss in synsets:\n",
    "            f.write('  ' + ', '.join(ss) + '\\n')"
   ]
  },
  {
   "cell_type": "code",
   "execution_count": 37,
   "metadata": {},
   "outputs": [
    {
     "name": "stdout",
     "output_type": "stream",
     "text": [
      "pies:\r\n",
      "  skowyr, kejter, luńt, sobaka, czworonożny przyjaciel, stróż domu\r\n",
      "  policjant, glina, gliniarz\r\n",
      "  hind, skieł\r\n",
      "skowyczeć:\r\n",
      "  skowytać, skomleć, kwilić\r\n"
     ]
    }
   ],
   "source": [
    "!grep -A 5 '^pies:' 1-1-synonyms-result.txt"
   ]
  }
 ],
 "metadata": {
  "kernelspec": {
   "display_name": "Python 3",
   "language": "python",
   "name": "python3"
  },
  "language_info": {
   "codemirror_mode": {
    "name": "ipython",
    "version": 3
   },
   "file_extension": ".py",
   "mimetype": "text/x-python",
   "name": "python",
   "nbconvert_exporter": "python",
   "pygments_lexer": "ipython3",
   "version": "3.7.6"
  }
 },
 "nbformat": 4,
 "nbformat_minor": 4
}
