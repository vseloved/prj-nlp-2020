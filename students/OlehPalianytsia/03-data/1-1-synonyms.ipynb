{
 "cells": [
  {
   "cell_type": "code",
   "execution_count": 141,
   "metadata": {},
   "outputs": [],
   "source": [
    "from xml.sax import saxutils, handler, make_parser\n",
    "import re\n",
    "\n",
    "def extract_synonyms_section(text):\n",
    "    synonyms_section = None\n",
    "    found = False\n",
    "    \n",
    "    for line in text.splitlines():\n",
    "        line = line.strip()\n",
    "        if line == '{{synonimy}}':\n",
    "            synonyms_section = []\n",
    "            found = True\n",
    "        elif found:\n",
    "            if line.startswith('{{'):\n",
    "                break\n",
    "            else:\n",
    "                synonyms_section.append(line)\n",
    "            \n",
    "    return synonyms_section\n",
    "            \n",
    "\n",
    "def extract_synonyms(text):\n",
    "    section_lines = extract_synonyms_section(text)\n",
    "    if section_lines:\n",
    "        synonyms = []\n",
    "        for line in section_lines:\n",
    "            line_synonyms = re.findall('\\[\\[([^]]+)', line)\n",
    "            # text with pipes is most probably not what we want\n",
    "            # since it defines custom text to display a link to a word \n",
    "            line_synonyms = [s for s in line_synonyms if '|' not in s]\n",
    "            if line_synonyms:\n",
    "                synonyms.append(line_synonyms)\n",
    "        return synonyms\n",
    "    return None\n",
    "\n",
    "class PlWiktionaryHandler(handler.ContentHandler):\n",
    "    collected_synonyms = {}\n",
    "    cur_tag = None\n",
    "    cur_title = ''\n",
    "    cur_text = ''\n",
    "    total_pages = 0\n",
    "    \n",
    "    def _reset(self):\n",
    "        self.cur_tag = None\n",
    "        self.cur_title = ''\n",
    "        self.cur_text = ''\n",
    "    \n",
    "    def __init__(self):\n",
    "        handler.ContentHandler.__init__(self)\n",
    "        \n",
    "    def startElement(self, name, attrs):\n",
    "        self.cur_tag = name\n",
    "        \n",
    "    def endElement(self, name):\n",
    "        if name == 'page':\n",
    "            self.total_pages += 1\n",
    "            self.cur_title = self.cur_title.strip()\n",
    "            if self.cur_title and re.match('^[\\w-]+$', self.cur_title) and self.cur_text:\n",
    "                synonyms = extract_synonyms(self.cur_text)\n",
    "                if synonyms:\n",
    "                    self.collected_synonyms[self.cur_title] = synonyms\n",
    "            self._reset()\n",
    "        \n",
    "    def characters(self, content):\n",
    "        if self.cur_tag == 'title':\n",
    "            self.cur_title += content\n",
    "        if self.cur_tag == 'text':\n",
    "            self.cur_text += content\n",
    "\n",
    "parser = make_parser()\n",
    "content_handler = PlWiktionaryHandler()\n",
    "parser.setContentHandler(content_handler)"
   ]
  },
  {
   "cell_type": "code",
   "execution_count": 142,
   "metadata": {},
   "outputs": [],
   "source": [
    "full_xml_file_path = '/Users/oleh.palianytsia/Downloads/plwiktionary-20200301-pages-articles.xml'\n",
    "parser.parse(full_xml_file_path)"
   ]
  },
  {
   "cell_type": "code",
   "execution_count": 144,
   "metadata": {},
   "outputs": [],
   "source": [
    "with open('1-1-synonyms-result.txt', 'w') as f:\n",
    "    for word, synsets in sorted(content_handler.collected_synonyms.items(), key=lambda item: item[1]):\n",
    "        f.write(word + ':\\n')\n",
    "        for ss in synsets:\n",
    "            f.write('  ' + ', '.join(ss) + '\\n')"
   ]
  },
  {
   "cell_type": "code",
   "execution_count": 149,
   "metadata": {},
   "outputs": [
    {
     "name": "stdout",
     "output_type": "stream",
     "text": [
      "pies:\r\n",
      "  skowyr, kejter, luńt, sobaka, czworonożny przyjaciel, stróż domu\r\n",
      "  policjant, glina, gliniarz\r\n",
      "  hind, skieł\r\n",
      "skowyczeć:\r\n",
      "  skowytać, skomleć, kwilić\r\n"
     ]
    }
   ],
   "source": [
    "!grep -A 5 '^pies:' 1-synonyms-result.txt"
   ]
  }
 ],
 "metadata": {
  "kernelspec": {
   "display_name": "Python 3",
   "language": "python",
   "name": "python3"
  },
  "language_info": {
   "codemirror_mode": {
    "name": "ipython",
    "version": 3
   },
   "file_extension": ".py",
   "mimetype": "text/x-python",
   "name": "python",
   "nbconvert_exporter": "python",
   "pygments_lexer": "ipython3",
   "version": "3.7.6"
  }
 },
 "nbformat": 4,
 "nbformat_minor": 4
}
