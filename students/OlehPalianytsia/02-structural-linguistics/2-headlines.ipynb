{
 "cells": [
  {
   "cell_type": "code",
   "execution_count": 1,
   "metadata": {
    "colab": {},
    "colab_type": "code",
    "id": "xwYhbX1nrWuC"
   },
   "outputs": [],
   "source": [
    "import spacy\n",
    "nlp = spacy.load(\"en_core_web_sm\")"
   ]
  },
  {
   "cell_type": "code",
   "execution_count": 10,
   "metadata": {
    "colab": {},
    "colab_type": "code",
    "id": "kfegFRKQrX1u"
   },
   "outputs": [],
   "source": [
    "def is_tok_hyph(tok):\n",
    "    return tok.tag_ == 'HYPH'\n",
    "\n",
    "def is_part_of_hyphenated(tok):\n",
    "    if tok.i == 0:\n",
    "        return is_tok_hyph(tok.nbor())\n",
    "    if tok.i == len(tok.doc) - 1:\n",
    "        return is_tok_hyph(tok.nbor(-1))  \n",
    "    return is_tok_hyph(tok.nbor()) or is_tok_hyph(tok.nbor(-1))\n",
    "  \n",
    "def smart_capitalize(s):\n",
    "    return s[0].upper() + s[1:]\n",
    "\n",
    "def format_headlines(text):\n",
    "    doc = nlp(text)\n",
    "    first_word_idx = next((tok.i for tok in doc if not tok.is_punct), None)\n",
    "    last_word_idx = next((tok.i for tok in reversed(doc) if not tok.is_punct), None)  \n",
    "    result = ''\n",
    "\n",
    "    for tok in doc:\n",
    "        res_text = tok.text\n",
    "\n",
    "        if any(\n",
    "            [tok.i == first_word_idx, \n",
    "             tok.i == last_word_idx,\n",
    "             is_part_of_hyphenated(tok),\n",
    "             tok.pos_ in ['NOUN', 'PROPN', 'PRON', 'NUM', 'VERB', 'AUX', 'ADJ', 'ADV'],\n",
    "             tok.tag_ == 'PRP$',\n",
    "             tok.dep_ == 'mark',\n",
    "             len(tok.text) >= 4]):\n",
    "            res_text = smart_capitalize(res_text)\n",
    "\n",
    "        result = result + res_text + tok.whitespace_\n",
    "\n",
    "    return result"
   ]
  },
  {
   "cell_type": "code",
   "execution_count": 13,
   "metadata": {
    "colab": {
     "base_uri": "https://localhost:8080/",
     "height": 34
    },
    "colab_type": "code",
    "id": "BFU7sLY6q267",
    "outputId": "cdfef4ec-40da-4255-9f30-0f0823f0ee9a"
   },
   "outputs": [
    {
     "data": {
      "text/plain": [
       "'All Course Members Like Cats As I Do'"
      ]
     },
     "execution_count": 13,
     "metadata": {},
     "output_type": "execute_result"
    }
   ],
   "source": [
    "format_headlines(\"all course members like cats as i do\")"
   ]
  },
  {
   "cell_type": "code",
   "execution_count": 12,
   "metadata": {
    "colab": {
     "base_uri": "https://localhost:8080/",
     "height": 119
    },
    "colab_type": "code",
    "id": "JAku-2HWrJyc",
    "outputId": "b5555689-cd2a-460d-bcc8-9fef0a1fa957"
   },
   "outputs": [
    {
     "name": "stdout",
     "output_type": "stream",
     "text": [
      "Fear (VERB) - ROOT - Fear\n",
      "the (DET) - det - Walk\n",
      "Cliff (PROPN) - compound - Walk\n",
      "Run (PROPN) - nmod - Walk\n",
      "/ (SYM) - punct - Walk\n",
      "Walk (NOUN) - dobj - Fear\n"
     ]
    }
   ],
   "source": [
    "# debugging stuff\n",
    "dbg = nlp(\"Fear the Cliff Run/Walk\")\n",
    "\n",
    "for tok in dbg:\n",
    "    print(\"{} ({}) - {} - {}\".format(tok.text, tok.pos_, tok.dep_, tok.head.text))"
   ]
  },
  {
   "cell_type": "code",
   "execution_count": 5,
   "metadata": {
    "colab": {
     "base_uri": "https://localhost:8080/",
     "height": 102
    },
    "colab_type": "code",
    "id": "2AX-1Qenroeu",
    "outputId": "5cb1545d-6821-4bf4-a3df-a3200efe7754"
   },
   "outputs": [
    {
     "data": {
      "text/plain": [
       "['Halep enters Rogers Cup final in straight sets win over Errani\\n',\n",
       " \"The phantoms of St. Mary's\\n\",\n",
       " \"Talladega turmoil could spell trouble for NASCAR's Chase field\\n\",\n",
       " 'Burn those calories! Try the Very Steep Trail.\\n',\n",
       " \"It's the end of the world... and I feel fine\\n\"]"
      ]
     },
     "execution_count": 5,
     "metadata": {},
     "output_type": "execute_result"
    }
   ],
   "source": [
    "with open(\"../../../tasks/02-structural-linguistics/data/examiner-headlines.txt\") as f:\n",
    "    headlines_corpora = f.readlines()\n",
    "\n",
    "headlines_corpora[:5]"
   ]
  },
  {
   "cell_type": "code",
   "execution_count": 6,
   "metadata": {
    "colab": {
     "base_uri": "https://localhost:8080/",
     "height": 527
    },
    "colab_type": "code",
    "id": "yWy7Gipmpm3x",
    "outputId": "5887a63e-1b4b-47d1-dafd-0e688a49bc8e"
   },
   "outputs": [
    {
     "name": "stdout",
     "output_type": "stream",
     "text": [
      "Police: Vampire attacks disabled St. Petersburg man\n",
      "Police: Vampire Attacks Disabled St. Petersburg Man\n",
      "\n",
      "New rule set takes center stage as Rose City and Rat City's home teams battle\n",
      "New Rule Set Takes Center Stage As Rose City and Rat City's Home Teams Battle\n",
      "\n",
      "Hidamari Sketch X SP licensed by Sentai Filmworks\n",
      "Hidamari Sketch X SP Licensed by Sentai Filmworks\n",
      "\n",
      "Oklahoma 2015 lawmaker revisting hoodie problem from 2010?\n",
      "Oklahoma 2015 Lawmaker Revisting Hoodie Problem From 2010?\n",
      "\n",
      "NEW YORK BOOK FAIR COMPETITION: All Are Welcome!\n",
      "NEW YORK BOOK FAIR COMPETITION: All Are Welcome!\n",
      "\n",
      "Randy Williams, Erick Threets, and a potential spring bullpen battle\n",
      "Randy Williams, Erick Threets, and a Potential Spring Bullpen Battle\n",
      "\n",
      "BREAKING: BP CEO sold shares of his company's stock weeks before Gulf disaster\n",
      "BREAKING: BP CEO Sold Shares of His Company's Stock Weeks Before Gulf Disaster\n",
      "\n",
      "Fishing for cancer in Baltimore\n",
      "Fishing for Cancer in Baltimore\n",
      "\n",
      "Lexus HS going the way of the dodo?\n",
      "Lexus HS Going the Way of the Dodo?\n",
      "\n",
      "Our Emmy day highlights\n",
      "Our Emmy Day Highlights\n",
      "\n"
     ]
    }
   ],
   "source": [
    "import random\n",
    "\n",
    "def show_formatted_sample(n):\n",
    "    sample = random.sample(headlines_corpora, n)\n",
    "\n",
    "    for headline in sample:\n",
    "        formatted = format_headlines(headline)\n",
    "        print(headline + formatted)\n",
    "\n",
    "show_formatted_sample(10)"
   ]
  },
  {
   "cell_type": "code",
   "execution_count": 7,
   "metadata": {
    "colab": {},
    "colab_type": "code",
    "id": "DWbumkX5reEF"
   },
   "outputs": [],
   "source": [
    "import json\n",
    "\n",
    "with open('../../../tasks/02-structural-linguistics/data/headlines-test-set.json') as f:\n",
    "    test_set = json.load(f)"
   ]
  },
  {
   "cell_type": "code",
   "execution_count": 8,
   "metadata": {
    "colab": {
     "base_uri": "https://localhost:8080/",
     "height": 34
    },
    "colab_type": "code",
    "id": "9bPhWtG6qiJS",
    "outputId": "1295b289-4b69-41f4-b6a7-c8f30ffaf553"
   },
   "outputs": [
    {
     "data": {
      "text/plain": [
       "0.91"
      ]
     },
     "execution_count": 8,
     "metadata": {},
     "output_type": "execute_result"
    }
   ],
   "source": [
    "def quality():\n",
    "    ok = 0\n",
    "    for to_format, expected in test_set:\n",
    "        if format_headlines(to_format) == expected:\n",
    "            ok += 1\n",
    "\n",
    "    return ok / len(test_set)\n",
    "\n",
    "quality()"
   ]
  }
 ],
 "metadata": {
  "colab": {
   "collapsed_sections": [],
   "name": "Untitled",
   "provenance": [],
   "toc_visible": true
  },
  "kernelspec": {
   "display_name": "Python 3",
   "language": "python",
   "name": "python3"
  },
  "language_info": {
   "codemirror_mode": {
    "name": "ipython",
    "version": 3
   },
   "file_extension": ".py",
   "mimetype": "text/x-python",
   "name": "python",
   "nbconvert_exporter": "python",
   "pygments_lexer": "ipython3",
   "version": "3.7.6"
  }
 },
 "nbformat": 4,
 "nbformat_minor": 1
}
