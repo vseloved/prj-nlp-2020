{
 "cells": [
  {
   "cell_type": "code",
   "execution_count": 1,
   "metadata": {},
   "outputs": [],
   "source": [
    "from nltk.corpus import sentiwordnet as swn\n",
    "import spacy\n",
    "nlp = spacy.load(\"en_core_web_md\")"
   ]
  },
  {
   "cell_type": "code",
   "execution_count": 2,
   "metadata": {},
   "outputs": [],
   "source": [
    "import statistics\n",
    "\n",
    "viral_named_ents = {\n",
    "    'PERSON',\n",
    "    'NORP',\n",
    "    'ORG',\n",
    "    'GPE',\n",
    "    'PRODUCT',\n",
    "    'EVENT',\n",
    "    'WORK_OF_ART',\n",
    "    'LAW',\n",
    "    'MONEY'}\n",
    "\n",
    "def has_viral_named_ents(doc):\n",
    "    for tok in doc:\n",
    "        if tok.ent_type_ in viral_named_ents:\n",
    "            return True\n",
    "    return False\n",
    "\n",
    "def has_comp_sup(doc):\n",
    "    for tok in doc:\n",
    "        if tok.tag_ in ['JJR', 'JJS', 'RBR', 'RBS']:\n",
    "            return True\n",
    "        if tok.lemma_ in ['more', 'most'] and tok.dep_ == 'advmod':\n",
    "            return True\n",
    "    return False\n",
    "\n",
    "pos_tags_mapping = {'NOUN': 'n', 'VERB': 'v', 'ADJ': 'a', 'ADV': 'r'}\n",
    "def has_emotional_words(doc):\n",
    "    for tok in doc:\n",
    "        swn_tag = pos_tags_mapping.get(tok.pos_)\n",
    "        if swn_tag is not None:\n",
    "            synsets = list(swn.senti_synsets(tok.lemma_, swn_tag))\n",
    "            pos_scores = [ss.pos_score() for ss in synsets[:5]]\n",
    "            neg_scores = [ss.neg_score() for ss in synsets[:5]]\n",
    "            if pos_scores:\n",
    "                if statistics.mean(pos_scores) >= 0.5 or statistics.mean(neg_scores) >= 0.5:\n",
    "                    return True\n",
    "    return False"
   ]
  },
  {
   "cell_type": "code",
   "execution_count": 3,
   "metadata": {},
   "outputs": [
    {
     "data": {
      "text/plain": [
       "True"
      ]
     },
     "execution_count": 3,
     "metadata": {},
     "output_type": "execute_result"
    }
   ],
   "source": [
    "has_viral_named_ents(nlp('Apple buys a new startup!'))"
   ]
  },
  {
   "cell_type": "code",
   "execution_count": 4,
   "metadata": {},
   "outputs": [
    {
     "data": {
      "text/plain": [
       "True"
      ]
     },
     "execution_count": 4,
     "metadata": {},
     "output_type": "execute_result"
    }
   ],
   "source": [
    "has_comp_sup(nlp('Ten most adorable cats in the world!'))"
   ]
  },
  {
   "cell_type": "code",
   "execution_count": 5,
   "metadata": {},
   "outputs": [
    {
     "data": {
      "text/plain": [
       "True"
      ]
     },
     "execution_count": 5,
     "metadata": {},
     "output_type": "execute_result"
    }
   ],
   "source": [
    "has_emotional_words(nlp('Five hated rockstars'))"
   ]
  },
  {
   "cell_type": "code",
   "execution_count": 6,
   "metadata": {},
   "outputs": [
    {
     "data": {
      "text/plain": [
       "False"
      ]
     },
     "execution_count": 6,
     "metadata": {},
     "output_type": "execute_result"
    }
   ],
   "source": [
    "has_emotional_words(nlp('Here are some ordinary cats for you.'))"
   ]
  },
  {
   "cell_type": "code",
   "execution_count": 7,
   "metadata": {},
   "outputs": [
    {
     "data": {
      "text/plain": [
       "['Halep enters Rogers Cup final in straight sets win over Errani\\n',\n",
       " \"The phantoms of St. Mary's\\n\",\n",
       " \"Talladega turmoil could spell trouble for NASCAR's Chase field\\n\",\n",
       " 'Burn those calories! Try the Very Steep Trail.\\n',\n",
       " \"It's the end of the world... and I feel fine\\n\"]"
      ]
     },
     "execution_count": 7,
     "metadata": {},
     "output_type": "execute_result"
    }
   ],
   "source": [
    "with open(\"../../../tasks/02-structural-linguistics/data/examiner-headlines.txt\") as f:\n",
    "    examiner = f.readlines()\n",
    "\n",
    "examiner[:5]"
   ]
  },
  {
   "cell_type": "code",
   "execution_count": 8,
   "metadata": {},
   "outputs": [],
   "source": [
    "def calc_percentage():\n",
    "    viral_nes = 0\n",
    "    comp_sup = 0\n",
    "    emotional = 0\n",
    "    for line in examiner:\n",
    "        doc = nlp(line)\n",
    "        if has_viral_named_ents(doc):\n",
    "            viral_nes += 1\n",
    "        if has_comp_sup(doc):\n",
    "            comp_sup += 1\n",
    "        if has_emotional_words(doc):\n",
    "            emotional += 1\n",
    "    total = len(examiner)\n",
    "    return (viral_nes / total, comp_sup / total, emotional / total)"
   ]
  },
  {
   "cell_type": "code",
   "execution_count": 9,
   "metadata": {},
   "outputs": [],
   "source": [
    "named_ents, comp_sup, emotional = calc_percentage()"
   ]
  },
  {
   "cell_type": "code",
   "execution_count": 10,
   "metadata": {},
   "outputs": [
    {
     "name": "stdout",
     "output_type": "stream",
     "text": [
      "Named entities: 0.6914\n",
      "Comparative or superlative adjectives/adverbs: 0.047\n",
      "Emotional words: 0.1058\n"
     ]
    }
   ],
   "source": [
    "print(\"Named entities: \" + str(named_ents))\n",
    "print(\"Comparative or superlative adjectives/adverbs: \" + str(comp_sup))\n",
    "print(\"Emotional words: \" + str(emotional))"
   ]
  }
 ],
 "metadata": {
  "kernelspec": {
   "display_name": "Python 3",
   "language": "python",
   "name": "python3"
  },
  "language_info": {
   "codemirror_mode": {
    "name": "ipython",
    "version": 3
   },
   "file_extension": ".py",
   "mimetype": "text/x-python",
   "name": "python",
   "nbconvert_exporter": "python",
   "pygments_lexer": "ipython3",
   "version": "3.7.6"
  }
 },
 "nbformat": 4,
 "nbformat_minor": 4
}
