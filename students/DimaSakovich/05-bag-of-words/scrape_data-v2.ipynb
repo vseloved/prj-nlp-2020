{
 "cells": [
  {
   "cell_type": "code",
   "execution_count": 93,
   "metadata": {},
   "outputs": [],
   "source": [
    "import json\n",
    "import time\n",
    "import requests\n",
    "import warnings\n",
    "import stanfordnlp\n",
    "\n",
    "import pandas as pd\n",
    "import numpy as np\n",
    "\n",
    "from tqdm import tqdm\n",
    "from tqdm.contrib.concurrent import process_map\n",
    "from langdetect import detect, lang_detect_exception\n",
    "from bs4 import BeautifulSoup\n",
    "from multiprocessing import cpu_count"
   ]
  },
  {
   "cell_type": "code",
   "execution_count": 2,
   "metadata": {},
   "outputs": [],
   "source": [
    "warnings.filterwarnings(\"ignore\")"
   ]
  },
  {
   "cell_type": "code",
   "execution_count": 3,
   "metadata": {},
   "outputs": [
    {
     "name": "stdout",
     "output_type": "stream",
     "text": [
      "Use device: gpu\n",
      "---\n",
      "Loading: tokenize\n",
      "With settings: \n",
      "{'model_path': '/home/dima/stanfordnlp_resources/uk_iu_models/uk_iu_tokenizer.pt', 'lang': 'uk', 'shorthand': 'uk_iu', 'mode': 'predict'}\n",
      "---\n",
      "Loading: pos\n",
      "With settings: \n",
      "{'model_path': '/home/dima/stanfordnlp_resources/uk_iu_models/uk_iu_tagger.pt', 'pretrain_path': '/home/dima/stanfordnlp_resources/uk_iu_models/uk_iu.pretrain.pt', 'lang': 'uk', 'shorthand': 'uk_iu', 'mode': 'predict'}\n",
      "---\n",
      "Loading: lemma\n",
      "With settings: \n",
      "{'model_path': '/home/dima/stanfordnlp_resources/uk_iu_models/uk_iu_lemmatizer.pt', 'lang': 'uk', 'shorthand': 'uk_iu', 'mode': 'predict'}\n",
      "Building an attentional Seq2Seq model...\n",
      "Using a Bi-LSTM encoder\n",
      "Using soft attention for LSTM.\n",
      "Finetune all embeddings.\n",
      "[Running seq2seq lemmatizer with edit classifier]\n",
      "---\n",
      "Loading: depparse\n",
      "With settings: \n",
      "{'model_path': '/home/dima/stanfordnlp_resources/uk_iu_models/uk_iu_parser.pt', 'pretrain_path': '/home/dima/stanfordnlp_resources/uk_iu_models/uk_iu.pretrain.pt', 'lang': 'uk', 'shorthand': 'uk_iu', 'mode': 'predict'}\n",
      "Done loading processors!\n",
      "---\n"
     ]
    }
   ],
   "source": [
    "nlp_uk = stanfordnlp.Pipeline(lang='uk')"
   ]
  },
  {
   "cell_type": "code",
   "execution_count": 4,
   "metadata": {},
   "outputs": [],
   "source": [
    "product_url_format = 'https://xl-catalog-api.rozetka.com.ua/v2/goods/get?front-type=xl&category_id={cat_id}&page={page_num}&sort=rank'"
   ]
  },
  {
   "cell_type": "code",
   "execution_count": 5,
   "metadata": {},
   "outputs": [],
   "source": [
    "comment_url_format = 'https://product-api.rozetka.com.ua/v3/comments/get?front-type=xl&goods={product_id}&page={page_num}&sort=date&limit=10'"
   ]
  },
  {
   "cell_type": "markdown",
   "metadata": {},
   "source": [
    "## Parse category"
   ]
  },
  {
   "cell_type": "code",
   "execution_count": 6,
   "metadata": {},
   "outputs": [],
   "source": [
    "tv_cat = 80037\n",
    "notebook_cat = 80004\n",
    "smart_cat = 80003\n",
    "cpu_cat = 80083\n",
    "gpu_cat = 80087\n",
    "ssd_cat = 80109\n",
    "ram_cat = 80081"
   ]
  },
  {
   "cell_type": "code",
   "execution_count": 7,
   "metadata": {},
   "outputs": [],
   "source": [
    "def lang_detect(x):\n",
    "    try:\n",
    "        return detect(x)\n",
    "    except lang_detect_exception.LangDetectException:\n",
    "        return None\n",
    "\n",
    "\n",
    "def get_data(cat_id, limit=10):\n",
    "\n",
    "    product_url = product_url_format.format(cat_id=cat_id, page_num=1)\n",
    "    resp = requests.get(product_url)\n",
    "    body = json.loads(resp.text)\n",
    "    pages_num_p = body['data']['total_pages']\n",
    "\n",
    "    lst = []\n",
    "    counter = 0\n",
    "    for i in range(1, pages_num_p + 1):\n",
    "        product_url = product_url_format.format(cat_id=cat_id, page_num=i)\n",
    "        time.sleep(0.5)\n",
    "        resp = requests.get(product_url)\n",
    "        body = json.loads(resp.text)\n",
    "        ids = body['data']['ids']\n",
    "\n",
    "        for id_ in ids:\n",
    "            comment_url = comment_url_format.format(product_id=id_, page_num=1)\n",
    "            time.sleep(0.5)\n",
    "            resp = requests.get(comment_url)\n",
    "            body = json.loads(resp.text)\n",
    "            pages_num_c = body['data']['pages']['count']\n",
    "\n",
    "            for j in range(1, pages_num_c + 1):\n",
    "                comment_url = comment_url_format.format(product_id=id_, page_num=j)\n",
    "                time.sleep(0.5)\n",
    "                resp = requests.get(comment_url)\n",
    "                body = json.loads(resp.text)\n",
    "                data = body['data']['comments']\n",
    "\n",
    "                for item in data:\n",
    "                    res = {'user': item['usertitle'], 'mark': item['mark'], 'text': item['text'], \n",
    "                           'pros': item['dignity'], 'cons': item['shortcomings']}\n",
    "                    lang = lang_detect(res['text'].strip())\n",
    "                    if lang == 'uk' and res not in lst:\n",
    "                        lst.append(res)\n",
    "                        counter += 1\n",
    "                    \n",
    "                    if counter >= limit:\n",
    "                        return pd.DataFrame(lst)\n",
    "                    elif counter % 100 == 0:\n",
    "                        print(counter)\n",
    "    return pd.DataFrame(lst)"
   ]
  },
  {
   "cell_type": "markdown",
   "metadata": {},
   "source": [
    "### Parse"
   ]
  },
  {
   "cell_type": "code",
   "execution_count": 8,
   "metadata": {},
   "outputs": [
    {
     "name": "stdout",
     "output_type": "stream",
     "text": [
      "CPU times: user 22.7 ms, sys: 825 µs, total: 23.5 ms\n",
      "Wall time: 22.8 ms\n"
     ]
    }
   ],
   "source": [
    "%%time\n",
    "try:\n",
    "    df_tv = pd.read_csv('data/reviews_tv.csv')\n",
    "except FileNotFoundError:\n",
    "    df_tv = get_data(tv_cat, limit=10000)\n",
    "    df_tv.to_csv('data/reviews_tv.csv', index=False)"
   ]
  },
  {
   "cell_type": "code",
   "execution_count": 9,
   "metadata": {},
   "outputs": [
    {
     "name": "stdout",
     "output_type": "stream",
     "text": [
      "CPU times: user 8.47 ms, sys: 12 µs, total: 8.48 ms\n",
      "Wall time: 7.69 ms\n"
     ]
    }
   ],
   "source": [
    "%%time\n",
    "try:\n",
    "    df_laptop = pd.read_csv('data/reviews_laptop.csv')\n",
    "except FileNotFoundError:\n",
    "    df_laptop = get_data(notebook_cat, limit=10000)\n",
    "    df_laptop.to_csv('data/reviews_laptop.csv', index=False)"
   ]
  },
  {
   "cell_type": "code",
   "execution_count": 10,
   "metadata": {},
   "outputs": [
    {
     "name": "stdout",
     "output_type": "stream",
     "text": [
      "CPU times: user 14.6 ms, sys: 6.31 ms, total: 20.9 ms\n",
      "Wall time: 19.9 ms\n"
     ]
    }
   ],
   "source": [
    "%%time\n",
    "try:\n",
    "    df_smart = pd.read_csv('data/reviews_smart.csv')\n",
    "except FileNotFoundError:\n",
    "    df_smart = get_data(smart_cat, limit=10000)\n",
    "    df_smart.to_csv('data/reviews_smart.csv', index=False)"
   ]
  },
  {
   "cell_type": "code",
   "execution_count": 11,
   "metadata": {},
   "outputs": [
    {
     "name": "stdout",
     "output_type": "stream",
     "text": [
      "CPU times: user 9.72 ms, sys: 3.32 ms, total: 13 ms\n",
      "Wall time: 12.2 ms\n"
     ]
    }
   ],
   "source": [
    "%%time\n",
    "try:\n",
    "    df_cpu = pd.read_csv('data/reviews_cpu.csv')\n",
    "except FileNotFoundError:\n",
    "    df_cpu = get_data(cpu_cat, limit=10000)\n",
    "    df_cpu.to_csv('data/reviews_cpu.csv', index=False)"
   ]
  },
  {
   "cell_type": "code",
   "execution_count": 12,
   "metadata": {},
   "outputs": [
    {
     "name": "stdout",
     "output_type": "stream",
     "text": [
      "CPU times: user 13.4 ms, sys: 3.19 ms, total: 16.6 ms\n",
      "Wall time: 15.7 ms\n"
     ]
    }
   ],
   "source": [
    "%%time\n",
    "try:\n",
    "    df_gpu = pd.read_csv('data/reviews_gpu.csv')\n",
    "except FileNotFoundError:\n",
    "    df_gpu = get_data(gpu_cat, limit=10000)\n",
    "    df_gpu.to_csv('data/reviews_gpu.csv', index=False)"
   ]
  },
  {
   "cell_type": "code",
   "execution_count": 13,
   "metadata": {},
   "outputs": [
    {
     "name": "stdout",
     "output_type": "stream",
     "text": [
      "CPU times: user 15.1 ms, sys: 0 ns, total: 15.1 ms\n",
      "Wall time: 14.3 ms\n"
     ]
    }
   ],
   "source": [
    "%%time\n",
    "try:\n",
    "    df_ssd = pd.read_csv('data/reviews_ssd.csv')\n",
    "except FileNotFoundError:\n",
    "    df_ssd = get_data(ssd_cat, limit=10000)\n",
    "    df_ssd.to_csv('data/reviews_ssd.csv', index=False)"
   ]
  },
  {
   "cell_type": "code",
   "execution_count": 14,
   "metadata": {},
   "outputs": [
    {
     "name": "stdout",
     "output_type": "stream",
     "text": [
      "CPU times: user 12.3 ms, sys: 107 µs, total: 12.4 ms\n",
      "Wall time: 11.3 ms\n"
     ]
    }
   ],
   "source": [
    "%%time\n",
    "try:\n",
    "    df_ram = pd.read_csv('data/reviews_ram.csv')\n",
    "except FileNotFoundError:\n",
    "    df_ram = get_data(ram_cat, limit=10000)\n",
    "    df_ram.to_csv('data/reviews_ram.csv', index=False)"
   ]
  },
  {
   "cell_type": "markdown",
   "metadata": {},
   "source": [
    "### Preprocess"
   ]
  },
  {
   "cell_type": "code",
   "execution_count": 15,
   "metadata": {},
   "outputs": [],
   "source": [
    "import ast\n",
    "\n",
    "def mark_allign(x):\n",
    "    if isinstance(x, str):\n",
    "        try:\n",
    "            return ast.literal_eval(x)\n",
    "        except:\n",
    "            return 0\n",
    "    else:\n",
    "        return x"
   ]
  },
  {
   "cell_type": "code",
   "execution_count": 16,
   "metadata": {},
   "outputs": [],
   "source": [
    "df = pd.concat([df_tv, df_laptop, df_smart, df_cpu, df_gpu, df_ssd, df_ram])\n",
    "\n",
    "df = df.loc[(df.mark.notna())]\n",
    "df['mark'] = df.mark.map(mark_allign)\n",
    "df = df.loc[df.mark != 0]\n",
    "df.fillna(\" \", inplace=True)\n",
    "df['target'] = np.where(df.mark < 3, 'neg', np.where(df.mark == 3, 'neu', 'pos'))\n",
    "# df['text'] = df.apply(lambda row: \" \".join([row.text, row.pros, row.cons]).strip(), 1)\n",
    "df['text'] = df.text.map(lambda x: BeautifulSoup(x).get_text())\n",
    "df['pros'] = df.pros.map(lambda x: BeautifulSoup(x).get_text())\n",
    "df['cons'] = df.cons.map(lambda x: BeautifulSoup(x).get_text())\n",
    "df.drop(['user', 'mark'], 1, inplace=True)\n",
    "df.reset_index(inplace=True, drop=True)"
   ]
  },
  {
   "cell_type": "code",
   "execution_count": 17,
   "metadata": {},
   "outputs": [
    {
     "name": "stdout",
     "output_type": "stream",
     "text": [
      "(9474, 4)\n"
     ]
    },
    {
     "data": {
      "text/html": [
       "<div>\n",
       "<style scoped>\n",
       "    .dataframe tbody tr th:only-of-type {\n",
       "        vertical-align: middle;\n",
       "    }\n",
       "\n",
       "    .dataframe tbody tr th {\n",
       "        vertical-align: top;\n",
       "    }\n",
       "\n",
       "    .dataframe thead th {\n",
       "        text-align: right;\n",
       "    }\n",
       "</style>\n",
       "<table border=\"1\" class=\"dataframe\">\n",
       "  <thead>\n",
       "    <tr style=\"text-align: right;\">\n",
       "      <th></th>\n",
       "      <th>text</th>\n",
       "      <th>pros</th>\n",
       "      <th>cons</th>\n",
       "      <th>target</th>\n",
       "    </tr>\n",
       "  </thead>\n",
       "  <tbody>\n",
       "    <tr>\n",
       "      <th>0</th>\n",
       "      <td>В цьому телевізорі все чудово і різнокольорово...</td>\n",
       "      <td></td>\n",
       "      <td></td>\n",
       "      <td>pos</td>\n",
       "    </tr>\n",
       "    <tr>\n",
       "      <th>1</th>\n",
       "      <td>Відмінний телевізор. Купив саме те, що хотів. ...</td>\n",
       "      <td>Відмінний телевізор. Купив саме те, що хотів. ...</td>\n",
       "      <td></td>\n",
       "      <td>pos</td>\n",
       "    </tr>\n",
       "    <tr>\n",
       "      <th>2</th>\n",
       "      <td>Замовив і був задоволений. Простий телевізор, ...</td>\n",
       "      <td>Яскраві кольори</td>\n",
       "      <td>Маленькі ніжки. Раджу купувати одразу кріплення.</td>\n",
       "      <td>pos</td>\n",
       "    </tr>\n",
       "    <tr>\n",
       "      <th>3</th>\n",
       "      <td>Чудовий телевізор, все працює.</td>\n",
       "      <td>Чудова ціна.</td>\n",
       "      <td>Без WiFi</td>\n",
       "      <td>pos</td>\n",
       "    </tr>\n",
       "    <tr>\n",
       "      <th>4</th>\n",
       "      <td>Чудовий телевізор</td>\n",
       "      <td></td>\n",
       "      <td></td>\n",
       "      <td>pos</td>\n",
       "    </tr>\n",
       "  </tbody>\n",
       "</table>\n",
       "</div>"
      ],
      "text/plain": [
       "                                                text  \\\n",
       "0  В цьому телевізорі все чудово і різнокольорово...   \n",
       "1  Відмінний телевізор. Купив саме те, що хотів. ...   \n",
       "2  Замовив і був задоволений. Простий телевізор, ...   \n",
       "3                     Чудовий телевізор, все працює.   \n",
       "4                                  Чудовий телевізор   \n",
       "\n",
       "                                                pros  \\\n",
       "0                                                      \n",
       "1  Відмінний телевізор. Купив саме те, що хотів. ...   \n",
       "2                                    Яскраві кольори   \n",
       "3                                       Чудова ціна.   \n",
       "4                                                      \n",
       "\n",
       "                                               cons target  \n",
       "0                                                      pos  \n",
       "1                                                      pos  \n",
       "2  Маленькі ніжки. Раджу купувати одразу кріплення.    pos  \n",
       "3                                          Без WiFi    pos  \n",
       "4                                                      pos  "
      ]
     },
     "execution_count": 17,
     "metadata": {},
     "output_type": "execute_result"
    }
   ],
   "source": [
    "print(df.shape)\n",
    "df.head()"
   ]
  },
  {
   "cell_type": "code",
   "execution_count": 18,
   "metadata": {},
   "outputs": [],
   "source": [
    "target_map = {\"neg\": 0, \"neu\": 1, \"pos\": 2}\n",
    "df.target = df.target.map(target_map)"
   ]
  },
  {
   "cell_type": "code",
   "execution_count": 19,
   "metadata": {},
   "outputs": [
    {
     "data": {
      "text/plain": [
       "2    8239\n",
       "0     786\n",
       "1     449\n",
       "Name: target, dtype: int64"
      ]
     },
     "execution_count": 19,
     "metadata": {},
     "output_type": "execute_result"
    }
   ],
   "source": [
    "df.target.value_counts()"
   ]
  },
  {
   "cell_type": "code",
   "execution_count": 20,
   "metadata": {},
   "outputs": [],
   "source": [
    "def tokenize(x):\n",
    "    if len(x.strip()) == 0:\n",
    "        return \"\"\n",
    "    filter_pos = ('PUNCT', 'ADP', 'SYM', 'CCONJ', 'SCONJ', 'PROPN')\n",
    "    filter_words = [\"і\", \"та\", \"або\", \"й\", \"то\", \"б\", \"але\"]\n",
    "    sentences = nlp_uk(x).sentences\n",
    "    res = []\n",
    "    for sent in sentences:\n",
    "        if '?' in list(sent.words)[-1].text:\n",
    "            continue\n",
    "        res.append([token.lemma for token in sent.words if token.upos not in filter_pos])\n",
    "    try:\n",
    "        return \" \".join(list(filter(lambda x: x not in filter_words, sum(res, [])))).lower()\n",
    "    except:\n",
    "        return \" \""
   ]
  },
  {
   "cell_type": "code",
   "execution_count": 21,
   "metadata": {},
   "outputs": [],
   "source": [
    "# df = df[:100]"
   ]
  },
  {
   "cell_type": "code",
   "execution_count": 22,
   "metadata": {},
   "outputs": [
    {
     "name": "stderr",
     "output_type": "stream",
     "text": [
      "100%|██████████| 9474/9474 [30:13<00:00,  5.22it/s]  \n"
     ]
    }
   ],
   "source": [
    "try:\n",
    "    df = pd.read_csv('data/clean_data.csv')\n",
    "    df = df.loc[~df.text.isna()]\n",
    "except FileNotFoundError:\n",
    "    text_l = []\n",
    "    pros_l = []\n",
    "    cons_l = []\n",
    "\n",
    "    for text, pros, cons, _ in tqdm(df.values):\n",
    "        text_l.append(tokenize(text))\n",
    "        pros_l.append(tokenize(pros))\n",
    "        cons_l.append(tokenize(cons))\n",
    "    \n",
    "    df['clean_text'] = text_l\n",
    "    df['clean_pros'] = pros_l\n",
    "    df['clean_cons'] = cons_l\n",
    "    df['clean_text_all'] = df['clean_pros'] + \" \" + df['clean_cons'] + \" \" + df['clean_text']\n",
    "\n",
    "    df.to_csv('data/clean_data.csv', index=False)"
   ]
  },
  {
   "cell_type": "code",
   "execution_count": 25,
   "metadata": {},
   "outputs": [
    {
     "data": {
      "text/html": [
       "<div>\n",
       "<style scoped>\n",
       "    .dataframe tbody tr th:only-of-type {\n",
       "        vertical-align: middle;\n",
       "    }\n",
       "\n",
       "    .dataframe tbody tr th {\n",
       "        vertical-align: top;\n",
       "    }\n",
       "\n",
       "    .dataframe thead th {\n",
       "        text-align: right;\n",
       "    }\n",
       "</style>\n",
       "<table border=\"1\" class=\"dataframe\">\n",
       "  <thead>\n",
       "    <tr style=\"text-align: right;\">\n",
       "      <th></th>\n",
       "      <th>text</th>\n",
       "      <th>pros</th>\n",
       "      <th>cons</th>\n",
       "      <th>target</th>\n",
       "      <th>clean_text</th>\n",
       "      <th>clean_pros</th>\n",
       "      <th>clean_cons</th>\n",
       "      <th>clean_text_all</th>\n",
       "    </tr>\n",
       "  </thead>\n",
       "  <tbody>\n",
       "    <tr>\n",
       "      <th>0</th>\n",
       "      <td>В цьому телевізорі все чудово і різнокольорово...</td>\n",
       "      <td></td>\n",
       "      <td></td>\n",
       "      <td>2</td>\n",
       "      <td>цей телевізор все чудово різнокольорово чорний...</td>\n",
       "      <td></td>\n",
       "      <td></td>\n",
       "      <td>цей телевізор все чудово різнокольорово чорн...</td>\n",
       "    </tr>\n",
       "    <tr>\n",
       "      <th>1</th>\n",
       "      <td>Відмінний телевізор. Купив саме те, що хотів. ...</td>\n",
       "      <td>Відмінний телевізор. Купив саме те, що хотів. ...</td>\n",
       "      <td></td>\n",
       "      <td>2</td>\n",
       "      <td>відмінний телевізор купити саме те хотіти розе...</td>\n",
       "      <td>відмінний телевізор купити саме те хотіти розе...</td>\n",
       "      <td></td>\n",
       "      <td>відмінний телевізор купити саме те хотіти розе...</td>\n",
       "    </tr>\n",
       "    <tr>\n",
       "      <th>2</th>\n",
       "      <td>Замовив і був задоволений. Простий телевізор, ...</td>\n",
       "      <td>Яскраві кольори</td>\n",
       "      <td>Маленькі ніжки. Раджу купувати одразу кріплення.</td>\n",
       "      <td>2</td>\n",
       "      <td>замовити бути задоволений простий телевізор на...</td>\n",
       "      <td>яскравий колір</td>\n",
       "      <td>маленький ніжка радити купувати одразу кріплення</td>\n",
       "      <td>яскравий колір маленький ніжка радити купувати...</td>\n",
       "    </tr>\n",
       "    <tr>\n",
       "      <th>3</th>\n",
       "      <td>Чудовий телевізор, все працює.</td>\n",
       "      <td>Чудова ціна.</td>\n",
       "      <td>Без WiFi</td>\n",
       "      <td>2</td>\n",
       "      <td>чудовий телевізор все працювати</td>\n",
       "      <td>чудовий ціна</td>\n",
       "      <td></td>\n",
       "      <td>чудовий ціна  чудовий телевізор все працювати</td>\n",
       "    </tr>\n",
       "    <tr>\n",
       "      <th>4</th>\n",
       "      <td>Чудовий телевізор</td>\n",
       "      <td></td>\n",
       "      <td></td>\n",
       "      <td>2</td>\n",
       "      <td>чудовий телевізор</td>\n",
       "      <td></td>\n",
       "      <td></td>\n",
       "      <td>чудовий телевізор</td>\n",
       "    </tr>\n",
       "  </tbody>\n",
       "</table>\n",
       "</div>"
      ],
      "text/plain": [
       "                                                text  \\\n",
       "0  В цьому телевізорі все чудово і різнокольорово...   \n",
       "1  Відмінний телевізор. Купив саме те, що хотів. ...   \n",
       "2  Замовив і був задоволений. Простий телевізор, ...   \n",
       "3                     Чудовий телевізор, все працює.   \n",
       "4                                  Чудовий телевізор   \n",
       "\n",
       "                                                pros  \\\n",
       "0                                                      \n",
       "1  Відмінний телевізор. Купив саме те, що хотів. ...   \n",
       "2                                    Яскраві кольори   \n",
       "3                                       Чудова ціна.   \n",
       "4                                                      \n",
       "\n",
       "                                               cons  target  \\\n",
       "0                                                         2   \n",
       "1                                                         2   \n",
       "2  Маленькі ніжки. Раджу купувати одразу кріплення.       2   \n",
       "3                                          Без WiFi       2   \n",
       "4                                                         2   \n",
       "\n",
       "                                          clean_text  \\\n",
       "0  цей телевізор все чудово різнокольорово чорний...   \n",
       "1  відмінний телевізор купити саме те хотіти розе...   \n",
       "2  замовити бути задоволений простий телевізор на...   \n",
       "3                    чудовий телевізор все працювати   \n",
       "4                                  чудовий телевізор   \n",
       "\n",
       "                                          clean_pros  \\\n",
       "0                                                      \n",
       "1  відмінний телевізор купити саме те хотіти розе...   \n",
       "2                                     яскравий колір   \n",
       "3                                       чудовий ціна   \n",
       "4                                                      \n",
       "\n",
       "                                         clean_cons  \\\n",
       "0                                                     \n",
       "1                                                     \n",
       "2  маленький ніжка радити купувати одразу кріплення   \n",
       "3                                                     \n",
       "4                                                     \n",
       "\n",
       "                                      clean_text_all  \n",
       "0    цей телевізор все чудово різнокольорово чорн...  \n",
       "1  відмінний телевізор купити саме те хотіти розе...  \n",
       "2  яскравий колір маленький ніжка радити купувати...  \n",
       "3      чудовий ціна  чудовий телевізор все працювати  \n",
       "4                                  чудовий телевізор  "
      ]
     },
     "execution_count": 25,
     "metadata": {},
     "output_type": "execute_result"
    }
   ],
   "source": [
    "df.head()"
   ]
  },
  {
   "cell_type": "code",
   "execution_count": 26,
   "metadata": {},
   "outputs": [],
   "source": [
    "import matplotlib.pyplot as plt\n",
    "from wordcloud import WordCloud\n",
    "%matplotlib inline"
   ]
  },
  {
   "cell_type": "code",
   "execution_count": 27,
   "metadata": {},
   "outputs": [],
   "source": [
    "neg_text = \" \".join(df.loc[df.target == 0].clean_text_all.values)\n",
    "neu_text = \" \".join(df.loc[df.target == 1].clean_text_all.values)\n",
    "pos_text = \" \".join(df.loc[df.target == 2].clean_text_all.values)"
   ]
  },
  {
   "cell_type": "code",
   "execution_count": 28,
   "metadata": {},
   "outputs": [],
   "source": [
    "wc_pos = WordCloud(background_color='white', width=600, height=300, max_font_size=50, \n",
    "                   max_words=40).generate(pos_text)\n",
    "wc_neu = WordCloud(background_color='white', width=600, height=300, max_font_size=50, \n",
    "                   max_words=40).generate(neu_text)\n",
    "wc_neg = WordCloud(background_color='white', width=600, height=300, max_font_size=50, \n",
    "                   max_words=40).generate(neg_text)"
   ]
  },
  {
   "cell_type": "code",
   "execution_count": 29,
   "metadata": {},
   "outputs": [
    {
     "data": {
      "image/png": "[encoded data removed]",
      "text/plain": [
       "<Figure size 864x1440 with 3 Axes>"
      ]
     },
     "metadata": {
      "needs_background": "light"
     },
     "output_type": "display_data"
    }
   ],
   "source": [
    "plt.figure(figsize=(12,20))\n",
    "\n",
    "plt.subplot(3, 1, 1)\n",
    "plt.imshow(wc_pos)\n",
    "plt.title(\"Positive sentiment\", fontsize=30)\n",
    "plt.axis(\"off\")\n",
    "\n",
    "plt.subplot(3, 1, 2)\n",
    "plt.imshow(wc_neu)\n",
    "plt.title(\"Neutral sentiment\", fontsize=30)\n",
    "plt.axis(\"off\")\n",
    "\n",
    "plt.subplot(3, 1, 3)\n",
    "plt.imshow(wc_neu)\n",
    "plt.title(\"Negative sentiment\", fontsize=30)\n",
    "plt.axis(\"off\")\n",
    "\n",
    "plt.show()"
   ]
  },
  {
   "cell_type": "markdown",
   "metadata": {},
   "source": [
    "### Train model"
   ]
  },
  {
   "cell_type": "markdown",
   "metadata": {},
   "source": [
    "#### NB baseline"
   ]
  },
  {
   "cell_type": "code",
   "execution_count": 30,
   "metadata": {},
   "outputs": [],
   "source": [
    "RANDOM_STATE = 0"
   ]
  },
  {
   "cell_type": "code",
   "execution_count": 31,
   "metadata": {},
   "outputs": [],
   "source": [
    "from sklearn.naive_bayes import GaussianNB\n",
    "from sklearn.feature_extraction.text import CountVectorizer, TfidfVectorizer\n",
    "from sklearn.model_selection import train_test_split\n",
    "from sklearn.metrics import *"
   ]
  },
  {
   "cell_type": "code",
   "execution_count": 32,
   "metadata": {},
   "outputs": [],
   "source": [
    "import re\n",
    "\n",
    "def regex_token(x):\n",
    "    return \" \".join(re.findall(r\"\\w+\", x)).lower()"
   ]
  },
  {
   "cell_type": "code",
   "execution_count": 33,
   "metadata": {},
   "outputs": [],
   "source": [
    "(data, clean_data, target) = ((df[\"pros\"] + \" \" + df['cons'] + \" \" + df['text']).map(regex_token),\n",
    "                              df['clean_text_all'],\n",
    "                              df['target'])"
   ]
  },
  {
   "cell_type": "markdown",
   "metadata": {},
   "source": [
    "##### NB, CountVect, removed only punct"
   ]
  },
  {
   "cell_type": "code",
   "execution_count": 40,
   "metadata": {},
   "outputs": [],
   "source": [
    "X_train, X_test, y_train, y_test = train_test_split(data, target, \n",
    "                                                    test_size=0.2, \n",
    "                                                    random_state=RANDOM_STATE,\n",
    "                                                    stratify=target)"
   ]
  },
  {
   "cell_type": "code",
   "execution_count": 41,
   "metadata": {},
   "outputs": [],
   "source": [
    "c_vect = CountVectorizer()\n",
    "\n",
    "X_train_vec = c_vect.fit_transform(X_train)\n",
    "X_test_vec = c_vect.transform(X_test)"
   ]
  },
  {
   "cell_type": "code",
   "execution_count": 42,
   "metadata": {},
   "outputs": [
    {
     "name": "stdout",
     "output_type": "stream",
     "text": [
      "CPU times: user 2.32 s, sys: 580 ms, total: 2.9 s\n",
      "Wall time: 2.9 s\n"
     ]
    },
    {
     "data": {
      "text/plain": [
       "GaussianNB(priors=None, var_smoothing=1e-09)"
      ]
     },
     "execution_count": 42,
     "metadata": {},
     "output_type": "execute_result"
    }
   ],
   "source": [
    "%%time\n",
    "\n",
    "nb_model = GaussianNB()\n",
    "\n",
    "nb_model.fit(X_train_vec.toarray(), y_train);"
   ]
  },
  {
   "cell_type": "code",
   "execution_count": 43,
   "metadata": {},
   "outputs": [
    {
     "name": "stdout",
     "output_type": "stream",
     "text": [
      "              precision    recall  f1-score   support\n",
      "\n",
      "           0       0.20      0.18      0.19       157\n",
      "           1       0.02      0.06      0.03        90\n",
      "           2       0.87      0.80      0.84      1648\n",
      "\n",
      "    accuracy                           0.72      1895\n",
      "   macro avg       0.37      0.35      0.35      1895\n",
      "weighted avg       0.78      0.72      0.74      1895\n",
      "\n"
     ]
    }
   ],
   "source": [
    "y_pred = nb_model.predict(X_test_vec.toarray())\n",
    "\n",
    "print(classification_report(y_test, y_pred))"
   ]
  },
  {
   "cell_type": "markdown",
   "metadata": {},
   "source": [
    "##### The same with cleaned text"
   ]
  },
  {
   "cell_type": "code",
   "execution_count": 44,
   "metadata": {},
   "outputs": [],
   "source": [
    "X_train, X_test, y_train, y_test = train_test_split(clean_data, target, \n",
    "                                                    test_size=0.2, \n",
    "                                                    random_state=RANDOM_STATE,\n",
    "                                                    stratify=target)"
   ]
  },
  {
   "cell_type": "code",
   "execution_count": 45,
   "metadata": {},
   "outputs": [],
   "source": [
    "c_vect = CountVectorizer()\n",
    "\n",
    "X_train_vec = c_vect.fit_transform(X_train)\n",
    "X_test_vec = c_vect.transform(X_test)"
   ]
  },
  {
   "cell_type": "code",
   "execution_count": 46,
   "metadata": {},
   "outputs": [
    {
     "name": "stdout",
     "output_type": "stream",
     "text": [
      "CPU times: user 1.32 s, sys: 404 ms, total: 1.73 s\n",
      "Wall time: 1.72 s\n"
     ]
    },
    {
     "data": {
      "text/plain": [
       "GaussianNB(priors=None, var_smoothing=1e-09)"
      ]
     },
     "execution_count": 46,
     "metadata": {},
     "output_type": "execute_result"
    }
   ],
   "source": [
    "%%time\n",
    "\n",
    "nb_model = GaussianNB()\n",
    "\n",
    "nb_model.fit(X_train_vec.toarray(), y_train);"
   ]
  },
  {
   "cell_type": "code",
   "execution_count": 47,
   "metadata": {},
   "outputs": [
    {
     "name": "stdout",
     "output_type": "stream",
     "text": [
      "              precision    recall  f1-score   support\n",
      "\n",
      "           0       0.22      0.21      0.21       157\n",
      "           1       0.04      0.24      0.07        90\n",
      "           2       0.87      0.65      0.75      1648\n",
      "\n",
      "    accuracy                           0.60      1895\n",
      "   macro avg       0.38      0.37      0.34      1895\n",
      "weighted avg       0.78      0.60      0.67      1895\n",
      "\n"
     ]
    }
   ],
   "source": [
    "y_pred = nb_model.predict(X_test_vec.toarray())\n",
    "\n",
    "print(classification_report(y_test, y_pred))"
   ]
  },
  {
   "cell_type": "markdown",
   "metadata": {},
   "source": [
    "Higher recall on neutrall class, everything else is slightly worse"
   ]
  },
  {
   "cell_type": "markdown",
   "metadata": {},
   "source": [
    "##### trying tf-idf instead CountVect, standard params, no punct"
   ]
  },
  {
   "cell_type": "code",
   "execution_count": 48,
   "metadata": {},
   "outputs": [],
   "source": [
    "X_train, X_test, y_train, y_test = train_test_split(data, target, \n",
    "                                                    test_size=0.2, \n",
    "                                                    random_state=RANDOM_STATE,\n",
    "                                                    stratify=target)"
   ]
  },
  {
   "cell_type": "code",
   "execution_count": 49,
   "metadata": {},
   "outputs": [],
   "source": [
    "tfidf_vect = TfidfVectorizer()\n",
    "\n",
    "X_train_vec = tfidf_vect.fit_transform(X_train)\n",
    "X_test_vec = tfidf_vect.transform(X_test)"
   ]
  },
  {
   "cell_type": "code",
   "execution_count": 50,
   "metadata": {},
   "outputs": [
    {
     "name": "stdout",
     "output_type": "stream",
     "text": [
      "CPU times: user 1.38 s, sys: 668 ms, total: 2.05 s\n",
      "Wall time: 2.05 s\n"
     ]
    },
    {
     "data": {
      "text/plain": [
       "GaussianNB(priors=None, var_smoothing=1e-09)"
      ]
     },
     "execution_count": 50,
     "metadata": {},
     "output_type": "execute_result"
    }
   ],
   "source": [
    "%%time\n",
    "\n",
    "nb_model = GaussianNB()\n",
    "\n",
    "nb_model.fit(X_train_vec.toarray(), y_train);"
   ]
  },
  {
   "cell_type": "code",
   "execution_count": 51,
   "metadata": {},
   "outputs": [
    {
     "name": "stdout",
     "output_type": "stream",
     "text": [
      "              precision    recall  f1-score   support\n",
      "\n",
      "           0       0.20      0.18      0.19       157\n",
      "           1       0.02      0.06      0.03        90\n",
      "           2       0.87      0.80      0.84      1648\n",
      "\n",
      "    accuracy                           0.71      1895\n",
      "   macro avg       0.36      0.35      0.35      1895\n",
      "weighted avg       0.78      0.71      0.74      1895\n",
      "\n"
     ]
    }
   ],
   "source": [
    "y_pred = nb_model.predict(X_test_vec.toarray())\n",
    "\n",
    "print(classification_report(y_test, y_pred))"
   ]
  },
  {
   "cell_type": "markdown",
   "metadata": {},
   "source": [
    "##### The same with cleaned text"
   ]
  },
  {
   "cell_type": "code",
   "execution_count": 52,
   "metadata": {},
   "outputs": [],
   "source": [
    "X_train, X_test, y_train, y_test = train_test_split(clean_data, target, \n",
    "                                                    test_size=0.2, \n",
    "                                                    random_state=RANDOM_STATE,\n",
    "                                                    stratify=target)"
   ]
  },
  {
   "cell_type": "code",
   "execution_count": 53,
   "metadata": {},
   "outputs": [],
   "source": [
    "tfidf_vect = TfidfVectorizer()\n",
    "\n",
    "X_train_vec = tfidf_vect.fit_transform(X_train)\n",
    "X_test_vec = tfidf_vect.transform(X_test)"
   ]
  },
  {
   "cell_type": "code",
   "execution_count": 54,
   "metadata": {},
   "outputs": [
    {
     "name": "stdout",
     "output_type": "stream",
     "text": [
      "CPU times: user 820 ms, sys: 432 ms, total: 1.25 s\n",
      "Wall time: 1.25 s\n"
     ]
    },
    {
     "data": {
      "text/plain": [
       "GaussianNB(priors=None, var_smoothing=1e-09)"
      ]
     },
     "execution_count": 54,
     "metadata": {},
     "output_type": "execute_result"
    }
   ],
   "source": [
    "%%time\n",
    "\n",
    "nb_model = GaussianNB()\n",
    "\n",
    "nb_model.fit(X_train_vec.toarray(), y_train);"
   ]
  },
  {
   "cell_type": "code",
   "execution_count": 55,
   "metadata": {},
   "outputs": [
    {
     "name": "stdout",
     "output_type": "stream",
     "text": [
      "              precision    recall  f1-score   support\n",
      "\n",
      "           0       0.21      0.21      0.21       157\n",
      "           1       0.04      0.24      0.07        90\n",
      "           2       0.87      0.65      0.74      1648\n",
      "\n",
      "    accuracy                           0.59      1895\n",
      "   macro avg       0.37      0.37      0.34      1895\n",
      "weighted avg       0.78      0.59      0.67      1895\n",
      "\n"
     ]
    }
   ],
   "source": [
    "y_pred = nb_model.predict(X_test_vec.toarray())\n",
    "\n",
    "print(classification_report(y_test, y_pred))"
   ]
  },
  {
   "cell_type": "markdown",
   "metadata": {},
   "source": [
    "### Trying another alrotithms and approaches"
   ]
  },
  {
   "cell_type": "code",
   "execution_count": 56,
   "metadata": {},
   "outputs": [],
   "source": [
    "X_train, X_test, y_train, y_test = train_test_split(clean_data, target, \n",
    "                                                    test_size=0.2, \n",
    "                                                    random_state=RANDOM_STATE,\n",
    "                                                    stratify=target)"
   ]
  },
  {
   "cell_type": "code",
   "execution_count": 57,
   "metadata": {},
   "outputs": [],
   "source": [
    "class_weights = (1 / y_train.value_counts(normalize=True)).to_dict()"
   ]
  },
  {
   "cell_type": "markdown",
   "metadata": {},
   "source": [
    "##### svc with tf-idf on clean text and weighted classes"
   ]
  },
  {
   "cell_type": "code",
   "execution_count": 58,
   "metadata": {},
   "outputs": [],
   "source": [
    "from sklearn.svm import SVC, LinearSVC\n",
    "from sklearn.linear_model import LogisticRegression"
   ]
  },
  {
   "cell_type": "code",
   "execution_count": 59,
   "metadata": {},
   "outputs": [],
   "source": [
    "def train_eval(clf):\n",
    "    clf.fit(X_train_vec, y_train)\n",
    "    y_pred = clf.predict(X_test_vec)\n",
    "    print(\"f1 macro:\", f1_score(y_test, y_pred, average='macro'))\n",
    "    print(clf)"
   ]
  },
  {
   "cell_type": "code",
   "execution_count": 60,
   "metadata": {},
   "outputs": [],
   "source": [
    "tf_idf = TfidfVectorizer(min_df=5, max_df=0.75)\n",
    "\n",
    "X_train_vec = tf_idf.fit_transform(X_train)\n",
    "X_test_vec = tf_idf.transform(X_test)"
   ]
  },
  {
   "cell_type": "code",
   "execution_count": 64,
   "metadata": {},
   "outputs": [
    {
     "name": "stdout",
     "output_type": "stream",
     "text": [
      "f1 macro: 0.49898536151253153\n",
      "LogisticRegression(C=0.01,\n",
      "                   class_weight={0: 12.049284578696343, 1: 21.11142061281337,\n",
      "                                 2: 1.1499013806706115},\n",
      "                   dual=False, fit_intercept=True, intercept_scaling=1,\n",
      "                   l1_ratio=None, max_iter=100, multi_class='auto', n_jobs=None,\n",
      "                   penalty='l2', random_state=None, solver='lbfgs', tol=0.0001,\n",
      "                   verbose=0, warm_start=False)\n",
      "f1 macro: 0.5257248503887036\n",
      "LogisticRegression(C=0.1,\n",
      "                   class_weight={0: 12.049284578696343, 1: 21.11142061281337,\n",
      "                                 2: 1.1499013806706115},\n",
      "                   dual=False, fit_intercept=True, intercept_scaling=1,\n",
      "                   l1_ratio=None, max_iter=100, multi_class='auto', n_jobs=None,\n",
      "                   penalty='l2', random_state=None, solver='lbfgs', tol=0.0001,\n",
      "                   verbose=0, warm_start=False)\n",
      "f1 macro: 0.5204626971126981\n",
      "LogisticRegression(C=0.2,\n",
      "                   class_weight={0: 12.049284578696343, 1: 21.11142061281337,\n",
      "                                 2: 1.1499013806706115},\n",
      "                   dual=False, fit_intercept=True, intercept_scaling=1,\n",
      "                   l1_ratio=None, max_iter=100, multi_class='auto', n_jobs=None,\n",
      "                   penalty='l2', random_state=None, solver='lbfgs', tol=0.0001,\n",
      "                   verbose=0, warm_start=False)\n",
      "f1 macro: 0.5268768842008783\n",
      "LogisticRegression(C=0.5,\n",
      "                   class_weight={0: 12.049284578696343, 1: 21.11142061281337,\n",
      "                                 2: 1.1499013806706115},\n",
      "                   dual=False, fit_intercept=True, intercept_scaling=1,\n",
      "                   l1_ratio=None, max_iter=100, multi_class='auto', n_jobs=None,\n",
      "                   penalty='l2', random_state=None, solver='lbfgs', tol=0.0001,\n",
      "                   verbose=0, warm_start=False)\n",
      "f1 macro: 0.5354506576666694\n",
      "LogisticRegression(C=1,\n",
      "                   class_weight={0: 12.049284578696343, 1: 21.11142061281337,\n",
      "                                 2: 1.1499013806706115},\n",
      "                   dual=False, fit_intercept=True, intercept_scaling=1,\n",
      "                   l1_ratio=None, max_iter=100, multi_class='auto', n_jobs=None,\n",
      "                   penalty='l2', random_state=None, solver='lbfgs', tol=0.0001,\n",
      "                   verbose=0, warm_start=False)\n",
      "f1 macro: 0.5432079874934809\n",
      "LogisticRegression(C=2,\n",
      "                   class_weight={0: 12.049284578696343, 1: 21.11142061281337,\n",
      "                                 2: 1.1499013806706115},\n",
      "                   dual=False, fit_intercept=True, intercept_scaling=1,\n",
      "                   l1_ratio=None, max_iter=100, multi_class='auto', n_jobs=None,\n",
      "                   penalty='l2', random_state=None, solver='lbfgs', tol=0.0001,\n",
      "                   verbose=0, warm_start=False)\n",
      "f1 macro: 0.5384729048636062\n",
      "LogisticRegression(C=5,\n",
      "                   class_weight={0: 12.049284578696343, 1: 21.11142061281337,\n",
      "                                 2: 1.1499013806706115},\n",
      "                   dual=False, fit_intercept=True, intercept_scaling=1,\n",
      "                   l1_ratio=None, max_iter=100, multi_class='auto', n_jobs=None,\n",
      "                   penalty='l2', random_state=None, solver='lbfgs', tol=0.0001,\n",
      "                   verbose=0, warm_start=False)\n",
      "f1 macro: 0.5322721764382136\n",
      "LogisticRegression(C=10,\n",
      "                   class_weight={0: 12.049284578696343, 1: 21.11142061281337,\n",
      "                                 2: 1.1499013806706115},\n",
      "                   dual=False, fit_intercept=True, intercept_scaling=1,\n",
      "                   l1_ratio=None, max_iter=100, multi_class='auto', n_jobs=None,\n",
      "                   penalty='l2', random_state=None, solver='lbfgs', tol=0.0001,\n",
      "                   verbose=0, warm_start=False)\n",
      "f1 macro: 0.5335477201374822\n",
      "LogisticRegression(C=100,\n",
      "                   class_weight={0: 12.049284578696343, 1: 21.11142061281337,\n",
      "                                 2: 1.1499013806706115},\n",
      "                   dual=False, fit_intercept=True, intercept_scaling=1,\n",
      "                   l1_ratio=None, max_iter=100, multi_class='auto', n_jobs=None,\n",
      "                   penalty='l2', random_state=None, solver='lbfgs', tol=0.0001,\n",
      "                   verbose=0, warm_start=False)\n"
     ]
    }
   ],
   "source": [
    "reg_interval = [0.01, 0.1, 0.2, 0.5, 1, 2, 5, 10, 100]\n",
    "\n",
    "for i in reg_interval:\n",
    "    train_eval(LogisticRegression(C=i, class_weight=class_weights))"
   ]
  },
  {
   "cell_type": "code",
   "execution_count": 65,
   "metadata": {},
   "outputs": [],
   "source": [
    "model_svc = LinearSVC(C=5, class_weight=class_weights)\n",
    "\n",
    "model_svc.fit(X_train_vec, y_train);"
   ]
  },
  {
   "cell_type": "code",
   "execution_count": 66,
   "metadata": {},
   "outputs": [
    {
     "name": "stdout",
     "output_type": "stream",
     "text": [
      "              precision    recall  f1-score   support\n",
      "\n",
      "           0       0.56      0.48      0.52       157\n",
      "           1       0.15      0.12      0.13        90\n",
      "           2       0.93      0.95      0.94      1648\n",
      "\n",
      "    accuracy                           0.87      1895\n",
      "   macro avg       0.55      0.52      0.53      1895\n",
      "weighted avg       0.86      0.87      0.87      1895\n",
      "\n"
     ]
    }
   ],
   "source": [
    "y_pred = model_svc.predict(X_test_vec)\n",
    "\n",
    "print(classification_report(y_test, y_pred))"
   ]
  },
  {
   "cell_type": "code",
   "execution_count": 73,
   "metadata": {},
   "outputs": [],
   "source": [
    "model_lr = LogisticRegression(C=5, class_weight=class_weights)\n",
    "\n",
    "model_lr.fit(X_train_vec, y_train);"
   ]
  },
  {
   "cell_type": "code",
   "execution_count": 74,
   "metadata": {},
   "outputs": [
    {
     "name": "stdout",
     "output_type": "stream",
     "text": [
      "              precision    recall  f1-score   support\n",
      "\n",
      "           0       0.51      0.55      0.53       157\n",
      "           1       0.14      0.19      0.16        90\n",
      "           2       0.94      0.91      0.92      1648\n",
      "\n",
      "    accuracy                           0.85      1895\n",
      "   macro avg       0.53      0.55      0.54      1895\n",
      "weighted avg       0.86      0.85      0.86      1895\n",
      "\n"
     ]
    }
   ],
   "source": [
    "y_pred = model_lr.predict(X_test_vec)\n",
    "\n",
    "print(classification_report(y_test, y_pred))"
   ]
  },
  {
   "cell_type": "markdown",
   "metadata": {},
   "source": [
    "#### trying pipeline"
   ]
  },
  {
   "cell_type": "code",
   "execution_count": 75,
   "metadata": {},
   "outputs": [],
   "source": [
    "from sklearn.model_selection import RandomizedSearchCV\n",
    "from sklearn.pipeline import FeatureUnion, Pipeline\n",
    "from scipy.stats import uniform\n",
    "from sklearn.metrics import make_scorer\n",
    "from sklearn.decomposition import TruncatedSVD"
   ]
  },
  {
   "cell_type": "code",
   "execution_count": 76,
   "metadata": {},
   "outputs": [],
   "source": [
    "tf_idf = FeatureUnion([\n",
    "    ('TfIdf_Unigram', TfidfVectorizer(min_df=5, max_df=0.75, ngram_range=(1, 1), strip_accents='unicode')),\n",
    "    ('TfIdf_Bigram',  TfidfVectorizer(min_df=2, max_df=0.75, ngram_range=(2, 2), strip_accents='unicode'))\n",
    "])"
   ]
  },
  {
   "cell_type": "code",
   "execution_count": 77,
   "metadata": {},
   "outputs": [],
   "source": [
    "def f1_macro(y_true, y_pred):\n",
    "    return f1_score(y_true, y_pred, average='macro')"
   ]
  },
  {
   "cell_type": "code",
   "execution_count": 92,
   "metadata": {
    "scrolled": false
   },
   "outputs": [
    {
     "name": "stdout",
     "output_type": "stream",
     "text": [
      "Fitting 5 folds for each of 9 candidates, totalling 45 fits\n"
     ]
    },
    {
     "name": "stderr",
     "output_type": "stream",
     "text": [
      "[Parallel(n_jobs=-1)]: Using backend LokyBackend with 12 concurrent workers.\n",
      "[Parallel(n_jobs=-1)]: Done  32 out of  45 | elapsed:  3.3min remaining:  1.3min\n",
      "[Parallel(n_jobs=-1)]: Done  42 out of  45 | elapsed:  4.2min remaining:   18.2s\n",
      "[Parallel(n_jobs=-1)]: Done  45 out of  45 | elapsed:  4.4min finished\n"
     ]
    },
    {
     "name": "stdout",
     "output_type": "stream",
     "text": [
      "{'main_union__pipe2__SVD__n_components': 400, 'LogReg__penalty': 'l2', 'LogReg__C': 1} 0.5999991737721886\n"
     ]
    }
   ],
   "source": [
    "# N_COMP = 400\n",
    "\n",
    "pipeline = Pipeline([\n",
    "    (\"main_union\", FeatureUnion([\n",
    "        (\"pipe1\", Pipeline([\n",
    "            ('tf_idf', tf_idf),\n",
    "        ])),\n",
    "        (\"pipe2\", Pipeline([\n",
    "            ('tf_idf', tf_idf),\n",
    "            (\"SVD\", TruncatedSVD())\n",
    "        ])),\n",
    "    ])),\n",
    "#     ('LinearSVC', LinearSVC(class_weight=class_weights))\n",
    "    (\"LogReg\", LogisticRegression(max_iter=1000, class_weight=class_weights))\n",
    "])\n",
    "\n",
    "distributions = {\n",
    "#     \"LinearSVC__C\": [0.5, 1, 5],\n",
    "    \"LogReg__C\": [1, 5, 10],\n",
    "    \"LogReg__penalty\": [\"l2\"],\n",
    "    \"main_union__pipe2__SVD__n_components\": [300, 400, 500]\n",
    "}\n",
    "clf = RandomizedSearchCV(pipeline,\n",
    "                         distributions,\n",
    "                         random_state=0,\n",
    "                         scoring=make_scorer(f1_macro),\n",
    "                         n_iter=10,\n",
    "                         cv=5,\n",
    "                         verbose=5,\n",
    "                         n_jobs=-1)\n",
    "search = clf.fit(X_train, y_train)\n",
    "print(search.best_params_, search.best_score_)"
   ]
  },
  {
   "cell_type": "code",
   "execution_count": 79,
   "metadata": {},
   "outputs": [
    {
     "name": "stdout",
     "output_type": "stream",
     "text": [
      "              precision    recall  f1-score   support\n",
      "\n",
      "           0       0.63      0.62      0.63       157\n",
      "           1       0.12      0.09      0.10        90\n",
      "           2       0.94      0.95      0.94      1648\n",
      "\n",
      "    accuracy                           0.88      1895\n",
      "   macro avg       0.56      0.55      0.56      1895\n",
      "weighted avg       0.87      0.88      0.88      1895\n",
      "\n"
     ]
    }
   ],
   "source": [
    "y_pred = search.predict(X_test)\n",
    "\n",
    "print(classification_report(y_test, y_pred))"
   ]
  },
  {
   "cell_type": "markdown",
   "metadata": {},
   "source": [
    "#### out-of-fold LGB training"
   ]
  },
  {
   "cell_type": "code",
   "execution_count": 80,
   "metadata": {},
   "outputs": [],
   "source": [
    "from sklearn.model_selection import StratifiedKFold\n",
    "from lightgbm import plot_importance, LGBMClassifier"
   ]
  },
  {
   "cell_type": "code",
   "execution_count": 88,
   "metadata": {},
   "outputs": [],
   "source": [
    "use_sample_weight = True\n",
    "N_FOLDS = 4\n",
    "num_threads = cpu_count()\n",
    "N_COMP = 400"
   ]
  },
  {
   "cell_type": "markdown",
   "metadata": {},
   "source": [
    "https://lightgbm.readthedocs.io/en/latest/Parameters.html"
   ]
  },
  {
   "cell_type": "code",
   "execution_count": 82,
   "metadata": {},
   "outputs": [],
   "source": [
    "params = {\n",
    "    'num_class': 3,\n",
    "    'num_rounds': 2000,\n",
    "    'max_depth': -1, #  8\n",
    "    'learning_rate': 0.01,  #  0.007\n",
    "    'num_leaves': 31, # was 127\n",
    "    'verbose': 100,\n",
    "    'early_stopping_rounds': 300,\n",
    "    'min_data_in_leaf': 20,\n",
    "    'lambda_l2': 0.7,\n",
    "    'feature_fraction': 0.2, #  0.8\n",
    "    'metric': 'custom',\n",
    "    'random_state': RANDOM_STATE\n",
    "}\n",
    "\n",
    "classifier = LGBMClassifier(**params)"
   ]
  },
  {
   "cell_type": "code",
   "execution_count": 83,
   "metadata": {},
   "outputs": [],
   "source": [
    "def lgb_fscore(y_true, y_pred):\n",
    "    y_pred = y_pred.reshape(len(np.unique(y_true)), -1)\n",
    "    y_pred = y_pred.argmax(axis=0)\n",
    "    res = f1_score(y_true, y_pred, average='macro')\n",
    "    return 'macro_f1', res, True"
   ]
  },
  {
   "cell_type": "code",
   "execution_count": 84,
   "metadata": {},
   "outputs": [],
   "source": [
    "strategy = StratifiedKFold(n_splits=N_FOLDS, random_state=RANDOM_STATE, shuffle=True)"
   ]
  },
  {
   "cell_type": "code",
   "execution_count": 85,
   "metadata": {},
   "outputs": [],
   "source": [
    "train = df.loc[X_train.index]\n",
    "\n",
    "sample_weight = y_train.map(class_weights).values\n",
    "\n",
    "test = df.loc[X_test.index]"
   ]
  },
  {
   "cell_type": "code",
   "execution_count": 86,
   "metadata": {},
   "outputs": [],
   "source": [
    "pred_oof = np.zeros(len(train), dtype=np.float32)\n",
    "pred_test = np.zeros((len(test), params['num_class'], N_FOLDS), dtype=np.float32)\n",
    "fold_metrics = np.zeros(N_FOLDS)"
   ]
  },
  {
   "cell_type": "code",
   "execution_count": 89,
   "metadata": {},
   "outputs": [
    {
     "name": "stdout",
     "output_type": "stream",
     "text": [
      "Fold: 1\n",
      "\tTrain len: 5684\n",
      "\tVal len: 1895\n",
      "\tFITTING MODEL...\n",
      "Training until validation scores don't improve for 300 rounds\n",
      "[100]\tvalid_0's macro_f1: 0.477893\n",
      "[200]\tvalid_0's macro_f1: 0.489137\n",
      "[300]\tvalid_0's macro_f1: 0.495429\n",
      "[400]\tvalid_0's macro_f1: 0.5013\n",
      "[500]\tvalid_0's macro_f1: 0.512922\n",
      "[600]\tvalid_0's macro_f1: 0.520621\n",
      "[700]\tvalid_0's macro_f1: 0.515691\n",
      "[800]\tvalid_0's macro_f1: 0.518222\n",
      "[900]\tvalid_0's macro_f1: 0.521893\n",
      "Early stopping, best iteration is:\n",
      "[609]\tvalid_0's macro_f1: 0.522548\n",
      "\tPREDICT OOF...\n",
      "\tPREDICTING TEST...\n",
      "\tFold score: 0.5225479861130848\n",
      "Fold: 2\n",
      "\tTrain len: 5684\n",
      "\tVal len: 1895\n",
      "\tFITTING MODEL...\n",
      "Training until validation scores don't improve for 300 rounds\n",
      "[100]\tvalid_0's macro_f1: 0.496141\n",
      "[200]\tvalid_0's macro_f1: 0.504101\n",
      "[300]\tvalid_0's macro_f1: 0.500722\n",
      "Early stopping, best iteration is:\n",
      "[77]\tvalid_0's macro_f1: 0.507756\n",
      "\tPREDICT OOF...\n",
      "\tPREDICTING TEST...\n",
      "\tFold score: 0.5077563236575765\n",
      "Fold: 3\n",
      "\tTrain len: 5684\n",
      "\tVal len: 1895\n",
      "\tFITTING MODEL...\n",
      "Training until validation scores don't improve for 300 rounds\n",
      "[100]\tvalid_0's macro_f1: 0.496549\n",
      "[200]\tvalid_0's macro_f1: 0.519936\n",
      "[300]\tvalid_0's macro_f1: 0.51846\n",
      "[400]\tvalid_0's macro_f1: 0.5283\n",
      "[500]\tvalid_0's macro_f1: 0.529683\n",
      "[600]\tvalid_0's macro_f1: 0.523791\n",
      "[700]\tvalid_0's macro_f1: 0.528259\n",
      "Early stopping, best iteration is:\n",
      "[489]\tvalid_0's macro_f1: 0.544076\n",
      "\tPREDICT OOF...\n",
      "\tPREDICTING TEST...\n",
      "\tFold score: 0.5440757362481764\n",
      "Fold: 4\n",
      "\tTrain len: 5685\n",
      "\tVal len: 1894\n",
      "\tFITTING MODEL...\n",
      "Training until validation scores don't improve for 300 rounds\n",
      "[100]\tvalid_0's macro_f1: 0.495421\n",
      "[200]\tvalid_0's macro_f1: 0.515903\n",
      "[300]\tvalid_0's macro_f1: 0.517795\n",
      "[400]\tvalid_0's macro_f1: 0.520364\n",
      "[500]\tvalid_0's macro_f1: 0.514552\n",
      "[600]\tvalid_0's macro_f1: 0.51243\n",
      "[700]\tvalid_0's macro_f1: 0.502679\n",
      "Early stopping, best iteration is:\n",
      "[411]\tvalid_0's macro_f1: 0.524097\n",
      "\tPREDICT OOF...\n",
      "\tPREDICTING TEST...\n",
      "\tFold score: 0.5240966180157368\n"
     ]
    }
   ],
   "source": [
    "for i, (tr_ind, val_ind) in enumerate(strategy.split(X=np.ones(len(train)), y=train['target'])):\n",
    "    print(f'Fold: {i + 1}\\n\\tTrain len: {len(tr_ind)}\\n\\tVal len: {len(val_ind)}')\n",
    "    pipe = Pipeline([\n",
    "            ('TFIDF', tf_idf),\n",
    "            (\"SVD\", TruncatedSVD(n_components=N_COMP))\n",
    "        ])\n",
    "    pipe.fit(train.iloc[tr_ind]['text'])\n",
    "    \n",
    "    X = pipe.transform(train.iloc[tr_ind]['text'].copy())\n",
    "    y = train.iloc[tr_ind]['target'].copy()\n",
    "    X_val = pipe.transform(train.iloc[val_ind]['text'].copy())\n",
    "    y_val = train.iloc[val_ind]['target'].copy()\n",
    "    X_test_ = pipe.transform(test['text'])\n",
    "    \n",
    "    # fit model\n",
    "    print('\\tFITTING MODEL...')\n",
    "    classifier.fit(\n",
    "        X=X,\n",
    "        y=y,\n",
    "        eval_set=[(X_val, y_val)],\n",
    "        early_stopping_rounds=params['early_stopping_rounds'],\n",
    "        verbose=params['verbose'],\n",
    "        eval_metric=lgb_fscore,\n",
    "        sample_weight=sample_weight[tr_ind] if use_sample_weight else None,\n",
    "    )\n",
    "    # predict OOF val\n",
    "    print('\\tPREDICT OOF...')\n",
    "    pred_oof[val_ind] = classifier.predict(X_val, num_threads=num_threads)\n",
    "    # predict test\n",
    "    print('\\tPREDICTING TEST...')\n",
    "    pred_test[..., i] = classifier.predict_proba(\n",
    "        X_test_, num_threads=num_threads)\n",
    "    fold_metrics[i] = f1_macro(y_val, pred_oof[val_ind])\n",
    "    print(f'\\tFold score: {fold_metrics[i]}')"
   ]
  },
  {
   "cell_type": "code",
   "execution_count": 90,
   "metadata": {},
   "outputs": [
    {
     "name": "stdout",
     "output_type": "stream",
     "text": [
      "Total score:  0.5241474220840963\n"
     ]
    }
   ],
   "source": [
    "print(f'Total score: ', f1_macro(train['target'], pred_oof))"
   ]
  },
  {
   "cell_type": "code",
   "execution_count": 91,
   "metadata": {},
   "outputs": [
    {
     "name": "stdout",
     "output_type": "stream",
     "text": [
      "              precision    recall  f1-score   support\n",
      "\n",
      "           0       0.41      0.58      0.48       157\n",
      "           1       0.19      0.07      0.10        90\n",
      "           2       0.93      0.93      0.93      1648\n",
      "\n",
      "    accuracy                           0.86      1895\n",
      "   macro avg       0.51      0.52      0.50      1895\n",
      "weighted avg       0.85      0.86      0.85      1895\n",
      "\n"
     ]
    }
   ],
   "source": [
    "y_pred_raw = pred_test.mean(axis=-1)\n",
    "y_pred = y_pred_raw.argmax(axis=1).astype(np.int32)\n",
    "\n",
    "print(classification_report(y_test, y_pred))"
   ]
  },
  {
   "cell_type": "markdown",
   "metadata": {},
   "source": [
    "Actually, in practice oof works better and avoids overfitting. But, I didn't use X_test, just to make it possible easy compare results with previous models.\n",
    "\n",
    "What can also be done:\n",
    "* add words tonal features from tone-dict-uk.tsv. and concat as sparse matrix\n",
    "* replace words with tones by tokens like `<positive>` or `<negative>`\n",
    "* classical features like `word_num`, `text_len`, `has_pros`, `has_cons`, `mean_words_tone` etc. But I'm not sure if it possilbe due to task limitations, as it should be only BoW\n",
    "* get BoW features w/o pros and cons concatenation\n",
    "\n",
    "Currently, pipeline with un and bi-grams extended by SVD features shows the best result, not suffering recall for neu class."
   ]
  },
  {
   "cell_type": "markdown",
   "metadata": {},
   "source": [
    "### Model explain with eli5"
   ]
  },
  {
   "cell_type": "code",
   "execution_count": 3,
   "metadata": {},
   "outputs": [],
   "source": [
    "# import eli5"
   ]
  },
  {
   "cell_type": "code",
   "execution_count": 4,
   "metadata": {},
   "outputs": [],
   "source": [
    "# eli5.show_weights(model_lr, vec=tf_idf)"
   ]
  },
  {
   "cell_type": "code",
   "execution_count": null,
   "metadata": {},
   "outputs": [],
   "source": []
  },
  {
   "cell_type": "code",
   "execution_count": null,
   "metadata": {},
   "outputs": [],
   "source": []
  },
  {
   "cell_type": "code",
   "execution_count": null,
   "metadata": {},
   "outputs": [],
   "source": []
  },
  {
   "cell_type": "code",
   "execution_count": null,
   "metadata": {},
   "outputs": [],
   "source": []
  },
  {
   "cell_type": "code",
   "execution_count": null,
   "metadata": {},
   "outputs": [],
   "source": []
  }
 ],
 "metadata": {
  "kernelspec": {
   "display_name": "Python [conda env:p36] *",
   "language": "python",
   "name": "conda-env-p36-py"
  },
  "language_info": {
   "codemirror_mode": {
    "name": "ipython",
    "version": 3
   },
   "file_extension": ".py",
   "mimetype": "text/x-python",
   "name": "python",
   "nbconvert_exporter": "python",
   "pygments_lexer": "ipython3",
   "version": "3.6.10"
  }
 },
 "nbformat": 4,
 "nbformat_minor": 2
}
