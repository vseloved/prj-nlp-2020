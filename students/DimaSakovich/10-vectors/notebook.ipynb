{
 "cells": [
  {
   "cell_type": "code",
   "execution_count": 1,
   "metadata": {},
   "outputs": [],
   "source": [
    "import os\n",
    "\n",
    "from IPython.display import display, Markdown, Image\n",
    "import matplotlib.pyplot as plt\n",
    "import matplotlib.colors as mcolors"
   ]
  },
  {
   "cell_type": "code",
   "execution_count": 2,
   "metadata": {},
   "outputs": [],
   "source": [
    "%matplotlib inline\n",
    "\n",
    "REPO_PATH = os.path.dirname(os.path.dirname(os.path.dirname(os.getcwd())))\n",
    "TASK_PATH = os.path.join(REPO_PATH, \"tasks\", \"10-vectors.md\")\n",
    "DATA_PATH = os.path.join(os.getcwd(), \"1551.gov.ua\", \"raw\")"
   ]
  },
  {
   "cell_type": "code",
   "execution_count": 3,
   "metadata": {},
   "outputs": [],
   "source": [
    "def show_markdown(path):\n",
    "    with open(path, 'r') as fh:\n",
    "        content = fh.read()\n",
    "    display(Markdown(content))"
   ]
  },
  {
   "cell_type": "code",
   "execution_count": 4,
   "metadata": {},
   "outputs": [
    {
     "data": {
      "text/markdown": [
       "# Векторні представлення\n",
       "\n",
       "## Завдання 1\n",
       "\n",
       "Побудуйте покращений класифікатор, який буде предбачати категорію запиту до служби 1551 з використанням тільки векторів слів (не використовувати інші ознаки, такі як самі слова, нграми і т.д) для всіх категорій.\n",
       "\n",
       "У якості бейзлайну використайте класифікатор kNN, який ви побудували на практичному.\n",
       "\n",
       "Зробіть як мінімум 2 ітерації покращення, які можуть полягати у:\n",
       "\n",
       "- підборі найкращого варіанту векторів з наведених тут: https://lang.org.ua/en/models/#anchor4 або інших (fasttext, Tf-IDF, LDA, ...) Ви навіть можете дотренувати вектори на власній тренувальній множині. Можете також спробувати агрегацію декількох векторів.\n",
       "- будь-яких видах передпроцесингу і попередньої обробки (фільтрація мови, стопслів, службових частин мови, лематизація, нормалізація, ...)\n",
       "- побудови векторів документу з використанням таких підходів як pargaraph vectors (doc2vec), ElMo, Universal Sentece Encoder...\n",
       "- використання довільних алгоритмів класифікації та ансамблів цих алгоритмів\n",
       "- групуванні категорій (на основі кластеризації або якихось евристик) та побудови багаторівневих класифікаторів\n",
       "\n",
       "Ваша мета: досягнути такого результату по якості, щоб було не соромно дивитись в очі Кличкові. ;)\n",
       "\n",
       "## Завдання 2\n",
       "\n",
       "Візуалізуйте ваші класи з використанням t-SNE. Якщо ви будете використовувати агрегацію категорій, то можете візуалізувати тільки категорії вищого рівня і, для прикладу, одну з них. Якщо ви не будете групувати категорії, то використовуйте для візуалізації найбільш частотні (30-50). Спробуйте досягти достатньо розділеної картинки, експериментуючи з параметрами візуалізації (звісно, якщо ваші вхідні дані дозволять вам це).\n",
       "\n",
       "\n",
       "## Оцінювання\n",
       "\n",
       "Оцінка:\n",
       "- 90 балів за класифікатор (рішення, які будуть мати якість більше 0.8 за macro_average або більше 0.9 за micro_average отримають додаткові 10 балів)\n",
       "- 10 балів за візуалізацію\n",
       "\n",
       "Крайній термін: 16.05.2020\n"
      ],
      "text/plain": [
       "<IPython.core.display.Markdown object>"
      ]
     },
     "metadata": {},
     "output_type": "display_data"
    }
   ],
   "source": [
    "show_markdown(TASK_PATH)"
   ]
  },
  {
   "cell_type": "markdown",
   "metadata": {},
   "source": [
    "## Read data"
   ]
  },
  {
   "cell_type": "code",
   "execution_count": 5,
   "metadata": {},
   "outputs": [],
   "source": [
    "import re\n",
    "import gzip\n",
    "import json\n",
    "\n",
    "import pandas as pd\n",
    "import numpy as np\n",
    "\n",
    "from tqdm import tqdm\n",
    "from tqdm.contrib.concurrent import process_map\n",
    "from pathlib import Path\n",
    "from collections import Counter"
   ]
  },
  {
   "cell_type": "code",
   "execution_count": 6,
   "metadata": {},
   "outputs": [],
   "source": [
    "import pycld2 as cld2\n",
    "from langdetect import detect, lang_detect_exception\n",
    "\n",
    "def lang_detect(x):\n",
    "    try:\n",
    "        return detect(x.lower())\n",
    "    except lang_detect_exception.LangDetectException:\n",
    "        return ''\n",
    "\n",
    "def lang_detect_v2(x):\n",
    "    try:\n",
    "        x = ''.join(_ for _ in \" \".join(x.split()[:100]).lower() if _.isprintable())\n",
    "        isReliable, textBytesFound, details = cld2.detect(x)\n",
    "        res = sorted(details, key=lambda x: x[2], reverse=True)[0][1]\n",
    "        if res == 'un':\n",
    "            res = detect(x.lower())\n",
    "        return res\n",
    "    except:\n",
    "        return \"\""
   ]
  },
  {
   "cell_type": "code",
   "execution_count": 7,
   "metadata": {},
   "outputs": [
    {
     "name": "stderr",
     "output_type": "stream",
     "text": [
      "127329it [00:37, 3377.13it/s]\n"
     ]
    }
   ],
   "source": [
    "res = []\n",
    "for file_path in tqdm(Path(DATA_PATH).rglob('*.gz')):\n",
    "    with gzip.open(file_path, 'rt', encoding='utf8') as zipfile:\n",
    "        obj = json.load(zipfile)[0]\n",
    "    res.append(obj)\n",
    "df = pd.DataFrame(res)"
   ]
  },
  {
   "cell_type": "code",
   "execution_count": 8,
   "metadata": {},
   "outputs": [],
   "source": [
    "df['manager_name'] = df['CallZManager'].map(lambda x: \"\" if not re.search(r\"\\[([\\s\\w\\.]+)\\]\", x) \n",
    "                                                         else re.findall(r\"\\[([\\s\\w\\.]+)\\]\", x)[0].strip())\n",
    "df['entity_name'] = df['CallZManager'].map(lambda x: re.sub(r\"\\[([\\s\\w\\.]+)\\]\", \"\", x))\n",
    "df['cat_count'] = df['CallZType'].map(df['CallZType'].value_counts().to_dict())\n",
    "df['word_count'] = df['CallZText'].str.split().map(len)"
   ]
  },
  {
   "cell_type": "code",
   "execution_count": 9,
   "metadata": {},
   "outputs": [
    {
     "data": {
      "application/vnd.jupyter.widget-view+json": {
       "model_id": "2738d0d2b5994c6797d97915b234df3c",
       "version_major": 2,
       "version_minor": 0
      },
      "text/plain": [
       "HBox(children=(FloatProgress(value=0.0, max=127329.0), HTML(value='')))"
      ]
     },
     "metadata": {},
     "output_type": "display_data"
    },
    {
     "name": "stdout",
     "output_type": "stream",
     "text": [
      "\n",
      "CPU times: user 30.9 s, sys: 3.68 s, total: 34.6 s\n",
      "Wall time: 2min 16s\n"
     ]
    }
   ],
   "source": [
    "%%time\n",
    "\n",
    "lst = process_map(lang_detect, df['CallZText'].values, chunksize=1, max_workers=8)\n",
    "df['lang'] = lst"
   ]
  },
  {
   "cell_type": "code",
   "execution_count": 10,
   "metadata": {},
   "outputs": [
    {
     "data": {
      "text/plain": [
       "count    127329.000000\n",
       "mean         63.134384\n",
       "std          59.138254\n",
       "min           0.000000\n",
       "25%          22.000000\n",
       "50%          45.000000\n",
       "75%          84.000000\n",
       "max         418.000000\n",
       "Name: word_count, dtype: float64"
      ]
     },
     "execution_count": 10,
     "metadata": {},
     "output_type": "execute_result"
    }
   ],
   "source": [
    "df['word_count'].describe()"
   ]
  },
  {
   "cell_type": "code",
   "execution_count": 11,
   "metadata": {},
   "outputs": [
    {
     "name": "stdout",
     "output_type": "stream",
     "text": [
      "Records with > 100 label samples: 89.95 %\n"
     ]
    }
   ],
   "source": [
    "print(f\"Records with > 100 label samples: {df.loc[df.cat_count > 100].shape[0] / df.shape[0] * 100:.2f} %\")"
   ]
  },
  {
   "cell_type": "code",
   "execution_count": 12,
   "metadata": {},
   "outputs": [
    {
     "data": {
      "text/plain": [
       "uk    69309\n",
       "ru    56977\n",
       "        540\n",
       "bg      325\n",
       "mk      164\n",
       "pl        4\n",
       "en        2\n",
       "ca        2\n",
       "et        2\n",
       "sk        1\n",
       "sl        1\n",
       "fr        1\n",
       "sw        1\n",
       "Name: lang, dtype: int64"
      ]
     },
     "execution_count": 12,
     "metadata": {},
     "output_type": "execute_result"
    }
   ],
   "source": [
    "df['lang'].value_counts()"
   ]
  },
  {
   "cell_type": "code",
   "execution_count": 13,
   "metadata": {},
   "outputs": [],
   "source": [
    "# Counter(\" \".join(df['entity_name'].values).lower().split()).most_common(10)"
   ]
  },
  {
   "cell_type": "code",
   "execution_count": 14,
   "metadata": {},
   "outputs": [
    {
     "name": "stdout",
     "output_type": "stream",
     "text": [
      "(61961, 25) (51686, 25)\n"
     ]
    }
   ],
   "source": [
    "data_uk = df.loc[(df.cat_count > 100) & (df.lang.isin(['uk']))]#[['CallZText', 'CallZType']]\n",
    "data_ru = df.loc[(df.cat_count > 100) & (df.lang.isin(['ru']))]#[['CallZText', 'CallZType']]\n",
    "data_uk = data_uk.rename(columns=dict(zip(['CallZText', 'CallZType'], ['text', 'label'])))\n",
    "data_ru = data_ru.rename(columns=dict(zip(['CallZText', 'CallZType'], ['text', 'label'])))\n",
    "print(data_uk.shape, data_ru.shape)"
   ]
  },
  {
   "cell_type": "code",
   "execution_count": 15,
   "metadata": {},
   "outputs": [
    {
     "data": {
      "text/html": [
       "<div>\n",
       "<style scoped>\n",
       "    .dataframe tbody tr th:only-of-type {\n",
       "        vertical-align: middle;\n",
       "    }\n",
       "\n",
       "    .dataframe tbody tr th {\n",
       "        vertical-align: top;\n",
       "    }\n",
       "\n",
       "    .dataframe thead th {\n",
       "        text-align: right;\n",
       "    }\n",
       "</style>\n",
       "<table border=\"1\" class=\"dataframe\">\n",
       "  <thead>\n",
       "    <tr style=\"text-align: right;\">\n",
       "      <th></th>\n",
       "      <th>StatusTitle</th>\n",
       "      <th>CallZCdate</th>\n",
       "      <th>CallZReply</th>\n",
       "      <th>text</th>\n",
       "      <th>CallZManager</th>\n",
       "      <th>label</th>\n",
       "      <th>CallDate</th>\n",
       "      <th>CallCode</th>\n",
       "      <th>FbId</th>\n",
       "      <th>Enabled</th>\n",
       "      <th>...</th>\n",
       "      <th>PY</th>\n",
       "      <th>showStatus</th>\n",
       "      <th>files</th>\n",
       "      <th>feedfiles</th>\n",
       "      <th>reply</th>\n",
       "      <th>manager_name</th>\n",
       "      <th>entity_name</th>\n",
       "      <th>cat_count</th>\n",
       "      <th>word_count</th>\n",
       "      <th>lang</th>\n",
       "    </tr>\n",
       "  </thead>\n",
       "  <tbody>\n",
       "    <tr>\n",
       "      <th>0</th>\n",
       "      <td>Виконано</td>\n",
       "      <td>2015-07-03 00:00:00</td>\n",
       "      <td></td>\n",
       "      <td>Добрий день! Відповідно до контрольної картки ...</td>\n",
       "      <td>КП ”УЗН” [Сінцов Геннадій Львович ]</td>\n",
       "      <td>Утримання парків та лісопарків у місті Києві</td>\n",
       "      <td>2015-06-18 13:20:58</td>\n",
       "      <td>І-2513</td>\n",
       "      <td>149382</td>\n",
       "      <td>1</td>\n",
       "      <td>...</td>\n",
       "      <td>30.636674</td>\n",
       "      <td></td>\n",
       "      <td>[{'id': '81573', 'InOut': '0', 'file': '/feedb...</td>\n",
       "      <td>[{'id': '49925', 'file': '/feedback/fdocs/3201...</td>\n",
       "      <td>{'1436176081': {'id': '103381', 'callid': '320...</td>\n",
       "      <td>Сінцов Геннадій Львович</td>\n",
       "      <td>КП ”УЗН”</td>\n",
       "      <td>399</td>\n",
       "      <td>82</td>\n",
       "      <td>uk</td>\n",
       "    </tr>\n",
       "    <tr>\n",
       "      <th>2</th>\n",
       "      <td>Виконано</td>\n",
       "      <td>2013-10-21 00:00:00</td>\n",
       "      <td></td>\n",
       "      <td>В будинку 29 на вулиці Якуба Коласа відсутнє о...</td>\n",
       "      <td>КП РЕО-5 [Бондар Юрій Іванович]</td>\n",
       "      <td>Відсутність опалення</td>\n",
       "      <td>2013-10-17 18:20:15</td>\n",
       "      <td>І-4646</td>\n",
       "      <td>28337</td>\n",
       "      <td>1</td>\n",
       "      <td>...</td>\n",
       "      <td>30.383763</td>\n",
       "      <td></td>\n",
       "      <td></td>\n",
       "      <td></td>\n",
       "      <td>[]</td>\n",
       "      <td>Бондар Юрій Іванович</td>\n",
       "      <td>КП РЕО-5</td>\n",
       "      <td>6020</td>\n",
       "      <td>55</td>\n",
       "      <td>uk</td>\n",
       "    </tr>\n",
       "    <tr>\n",
       "      <th>3</th>\n",
       "      <td>На доопрацюванні виконавцем</td>\n",
       "      <td>2014-01-28 00:00:00</td>\n",
       "      <td></td>\n",
       "      <td>Доброго дня, вимушена звертатися за допомогою ...</td>\n",
       "      <td>ПАТ ”Київенерго” - ТРМ [Фоменко Олександр Вале...</td>\n",
       "      <td>Недостатній тиск ГВП</td>\n",
       "      <td>2014-01-13 14:30:50</td>\n",
       "      <td>І-83</td>\n",
       "      <td>40156</td>\n",
       "      <td>1</td>\n",
       "      <td>...</td>\n",
       "      <td>30.414153</td>\n",
       "      <td></td>\n",
       "      <td></td>\n",
       "      <td>[{'id': '12021', 'file': '/feedback/fdocs/2690...</td>\n",
       "      <td>{'1390476591': {'id': '23506', 'callid': '2690...</td>\n",
       "      <td>Фоменко Олександр Валерійович</td>\n",
       "      <td>ПАТ ”Київенерго” - ТРМ</td>\n",
       "      <td>303</td>\n",
       "      <td>97</td>\n",
       "      <td>uk</td>\n",
       "    </tr>\n",
       "    <tr>\n",
       "      <th>6</th>\n",
       "      <td>В роботі</td>\n",
       "      <td>2015-05-27 00:00:00</td>\n",
       "      <td></td>\n",
       "      <td>Відсутне ГВП (в об’яві - на невизначений термін)</td>\n",
       "      <td>ПАТ ”Київенерго” - ЖТЕ [Фоменко Олександр Вале...</td>\n",
       "      <td>Відсутність ГВП</td>\n",
       "      <td>2015-05-12 17:43:50</td>\n",
       "      <td>І-1871</td>\n",
       "      <td>136934</td>\n",
       "      <td>1</td>\n",
       "      <td>...</td>\n",
       "      <td>30.432559</td>\n",
       "      <td></td>\n",
       "      <td></td>\n",
       "      <td></td>\n",
       "      <td>[]</td>\n",
       "      <td>Фоменко Олександр Валерійович</td>\n",
       "      <td>ПАТ ”Київенерго” - ЖТЕ</td>\n",
       "      <td>13273</td>\n",
       "      <td>8</td>\n",
       "      <td>uk</td>\n",
       "    </tr>\n",
       "    <tr>\n",
       "      <th>8</th>\n",
       "      <td>Чекає на перевіку контр.відділом</td>\n",
       "      <td>2014-10-06 00:00:00</td>\n",
       "      <td></td>\n",
       "      <td>Доброго дня! Вже неможливо терпіти відсутність...</td>\n",
       "      <td>ПАТ ”Київенерго” - ТРМ [Фоменко Олександр Вале...</td>\n",
       "      <td>Відсутність ГВП</td>\n",
       "      <td>2014-09-21 12:10:28</td>\n",
       "      <td>І-2631</td>\n",
       "      <td>74345</td>\n",
       "      <td>1</td>\n",
       "      <td>...</td>\n",
       "      <td>30.63972</td>\n",
       "      <td></td>\n",
       "      <td></td>\n",
       "      <td>[{'id': '21895', 'file': '/feedback/fdocs/2875...</td>\n",
       "      <td>[]</td>\n",
       "      <td>Фоменко Олександр Валерійович</td>\n",
       "      <td>ПАТ ”Київенерго” - ТРМ</td>\n",
       "      <td>13273</td>\n",
       "      <td>66</td>\n",
       "      <td>uk</td>\n",
       "    </tr>\n",
       "  </tbody>\n",
       "</table>\n",
       "<p>5 rows × 25 columns</p>\n",
       "</div>"
      ],
      "text/plain": [
       "                        StatusTitle           CallZCdate CallZReply  \\\n",
       "0                          Виконано  2015-07-03 00:00:00              \n",
       "2                          Виконано  2013-10-21 00:00:00              \n",
       "3       На доопрацюванні виконавцем  2014-01-28 00:00:00              \n",
       "6                          В роботі  2015-05-27 00:00:00              \n",
       "8  Чекає на перевіку контр.відділом  2014-10-06 00:00:00              \n",
       "\n",
       "                                                text  \\\n",
       "0  Добрий день! Відповідно до контрольної картки ...   \n",
       "2  В будинку 29 на вулиці Якуба Коласа відсутнє о...   \n",
       "3  Доброго дня, вимушена звертатися за допомогою ...   \n",
       "6   Відсутне ГВП (в об’яві - на невизначений термін)   \n",
       "8  Доброго дня! Вже неможливо терпіти відсутність...   \n",
       "\n",
       "                                        CallZManager  \\\n",
       "0                КП ”УЗН” [Сінцов Геннадій Львович ]   \n",
       "2                    КП РЕО-5 [Бондар Юрій Іванович]   \n",
       "3  ПАТ ”Київенерго” - ТРМ [Фоменко Олександр Вале...   \n",
       "6  ПАТ ”Київенерго” - ЖТЕ [Фоменко Олександр Вале...   \n",
       "8  ПАТ ”Київенерго” - ТРМ [Фоменко Олександр Вале...   \n",
       "\n",
       "                                          label             CallDate CallCode  \\\n",
       "0  Утримання парків та лісопарків у місті Києві  2015-06-18 13:20:58   І-2513   \n",
       "2                          Відсутність опалення  2013-10-17 18:20:15   І-4646   \n",
       "3                          Недостатній тиск ГВП  2014-01-13 14:30:50     І-83   \n",
       "6                               Відсутність ГВП  2015-05-12 17:43:50   І-1871   \n",
       "8                               Відсутність ГВП  2014-09-21 12:10:28   І-2631   \n",
       "\n",
       "     FbId Enabled  ...         PY showStatus  \\\n",
       "0  149382       1  ...  30.636674              \n",
       "2   28337       1  ...  30.383763              \n",
       "3   40156       1  ...  30.414153              \n",
       "6  136934       1  ...  30.432559              \n",
       "8   74345       1  ...   30.63972              \n",
       "\n",
       "                                               files  \\\n",
       "0  [{'id': '81573', 'InOut': '0', 'file': '/feedb...   \n",
       "2                                                      \n",
       "3                                                      \n",
       "6                                                      \n",
       "8                                                      \n",
       "\n",
       "                                           feedfiles  \\\n",
       "0  [{'id': '49925', 'file': '/feedback/fdocs/3201...   \n",
       "2                                                      \n",
       "3  [{'id': '12021', 'file': '/feedback/fdocs/2690...   \n",
       "6                                                      \n",
       "8  [{'id': '21895', 'file': '/feedback/fdocs/2875...   \n",
       "\n",
       "                                               reply  \\\n",
       "0  {'1436176081': {'id': '103381', 'callid': '320...   \n",
       "2                                                 []   \n",
       "3  {'1390476591': {'id': '23506', 'callid': '2690...   \n",
       "6                                                 []   \n",
       "8                                                 []   \n",
       "\n",
       "                    manager_name              entity_name cat_count  \\\n",
       "0        Сінцов Геннадій Львович                КП ”УЗН”        399   \n",
       "2           Бондар Юрій Іванович                КП РЕО-5       6020   \n",
       "3  Фоменко Олександр Валерійович  ПАТ ”Київенерго” - ТРМ        303   \n",
       "6  Фоменко Олександр Валерійович  ПАТ ”Київенерго” - ЖТЕ      13273   \n",
       "8  Фоменко Олександр Валерійович  ПАТ ”Київенерго” - ТРМ      13273   \n",
       "\n",
       "  word_count lang  \n",
       "0         82   uk  \n",
       "2         55   uk  \n",
       "3         97   uk  \n",
       "6          8   uk  \n",
       "8         66   uk  \n",
       "\n",
       "[5 rows x 25 columns]"
      ]
     },
     "execution_count": 15,
     "metadata": {},
     "output_type": "execute_result"
    }
   ],
   "source": [
    "data_uk.head()"
   ]
  },
  {
   "cell_type": "code",
   "execution_count": 16,
   "metadata": {},
   "outputs": [
    {
     "name": "stdout",
     "output_type": "stream",
     "text": [
      "565 Відсутнє електропостачання\n",
      "553 Ремонт та заміна електроприладів\n",
      "514 Перебої електропостачання\n",
      "65 Підключення МАФ до комунікацій (електро -, водопостачання, тощо)\n",
      "62 Встановлення та експлуатація електролічильників\n",
      "50 Питання нарахування плати за електропостачання (розрахунки за електропостачання)\n",
      "36 Перерахунок, нарахування плати та боргу  за електропостачання\n",
      "22 Питання, що стосуються лічильників на електроенергію\n",
      "19 Відключення електропостачання за борги\n",
      "14 Питання стосовно нарахування боргу за електропостачання\n",
      "13 Укладання договорів на постачання електроенергії\n",
      "8 Перерахунок плати за відсутність електропостачання\n",
      "4 Відключення за борги електропостачання\n",
      "1 Про впровадження абонентських книжок АК ”Київенерго”,на оплату за електроенергію\n",
      "\n",
      "****************\n",
      "\n",
      "616 Паркування авто у місцях загального користування\n",
      "359 Паркування авто на прибудинковій території\n",
      "218 Розміщення паркувальних майданчиків\n",
      "190 Зберігання транспортних засобів, порушення правил паркування\n",
      "105 Паркування на зеленій зоні у місцях загального користування\n",
      "100 Паркування авто на зеленій зоні прибудинкової території\n",
      "25 Тарифи на послуги з паркування\n",
      "\n",
      "****************\n",
      "\n",
      "6020 Відсутність опалення\n",
      "2049 Відсутність опалення по стояку\n",
      "1341 Незадовільна температура опалення\n",
      "709 Встановлення лічильників на опалення.\n",
      "256 Питання, що стосуються завершення опалювального сезону\n",
      "212 Перерахунок плати за відсутність опалення\n",
      "160 Опалення на сходових клітинах\n",
      "154 Питання, що виникають до початку опалювального сезону\n",
      "84 Перерахунок плати за недостатню температуру опалення\n",
      "71 Питання стосовно нарахування боргу за опалення\n",
      "58 Відсутність опалення в навчальних закладах\n",
      "57 Незадовільна робота рушникосушарок від опалення\n",
      "23 Економічне обгрунтування тарифів на ЖКП: опалення, ГВП, ХВП, газ\n",
      "3 Відсутність опалення в адміністративних будівлях\n",
      "2 Відсутність опалення в медичних установах\n",
      "1 Відключення опалення за борги\n",
      "\n",
      "****************\n",
      "\n",
      "13273 Відсутність ГВП\n",
      "2304 Незадовільна температура ГВП\n",
      "303 Недостатній тиск ГВП\n",
      "288 Незадовільна робота рушникосушарок від ГВП\n",
      "226 Перерахунок плати за відсутність ГВП\n",
      "163 Перерахунок плати за незадовільну температуру ГВП\n",
      "114 Відсутність ГВП по стояку\n",
      "72 Неякісне ГВП\n",
      "58 Відключення за борги ГВП\n",
      "23 Економічне обгрунтування тарифів на ЖКП: опалення, ГВП, ХВП, газ\n",
      "21 Питання нарахування плати за споживання ГВП (розрахунки за споживання ГВП\n",
      "17 Перерахунок за непрацюючу рушникосушарку від ГВП\n",
      "3 Питання стосовно нарахування боргу за споживання ГВП\n",
      "\n",
      "****************\n",
      "\n",
      "1562 Відсутнє ХВП\n",
      "349 Відсутній тиск ХВП з 10-го поверху включно (”Київенерго”)\n",
      "233 Відсутній тиск ХВП до 9-го поверху включно (”Київводоканал” )\n",
      "194 Неякісне ХВП\n",
      "86 Відсутність ХВП по стояку\n",
      "48 Постійні перебої з подачею ХВП\n",
      "23 Економічне обгрунтування тарифів на ЖКП: опалення, ГВП, ХВП, газ\n",
      "17 Питання нарахування плати за споживання ХВП (розрахунки за споживання ХВП\n",
      "17 Перерахунок, нарахування плати та боргу  за споживання ХВП\n",
      "7 Перерахунок плати за відсутність ХВП\n",
      "1 Питання стосовно нарахування боргу за споживання ХВП\n"
     ]
    }
   ],
   "source": [
    "res = df.CallZType.value_counts()\n",
    "\n",
    "for k, v in res.items():\n",
    "    if \"електро\" in k.lower():\n",
    "        print(v, k)\n",
    "\n",
    "print('\\n****************\\n')\n",
    "\n",
    "for k, v in res.items():\n",
    "    if \"паркув\" in k.lower():\n",
    "        print(v, k)\n",
    "        \n",
    "print('\\n****************\\n')\n",
    "\n",
    "for k, v in res.items():\n",
    "    if \"опал\" in k.lower():\n",
    "        print(v, k)\n",
    "\n",
    "print('\\n****************\\n')\n",
    "\n",
    "for k, v in res.items():\n",
    "    if \"гвп\" in k.lower():\n",
    "        print(v, k)\n",
    "\n",
    "print('\\n****************\\n')\n",
    "\n",
    "for k, v in res.items():\n",
    "    if \"хвп\" in k.lower():\n",
    "        print(v, k)"
   ]
  },
  {
   "cell_type": "markdown",
   "metadata": {},
   "source": [
    "## Preprocessing"
   ]
  },
  {
   "cell_type": "code",
   "execution_count": 17,
   "metadata": {},
   "outputs": [],
   "source": [
    "import stanfordnlp\n",
    "import warnings\n",
    "\n",
    "warnings.filterwarnings(\"ignore\")"
   ]
  },
  {
   "cell_type": "code",
   "execution_count": 18,
   "metadata": {},
   "outputs": [],
   "source": [
    "MAX_WORDS_NUM = 100"
   ]
  },
  {
   "cell_type": "code",
   "execution_count": 19,
   "metadata": {},
   "outputs": [
    {
     "name": "stdout",
     "output_type": "stream",
     "text": [
      "Use device: gpu\n",
      "---\n",
      "Loading: tokenize\n",
      "With settings: \n",
      "{'model_path': '/home/dima/stanfordnlp_resources/uk_iu_models/uk_iu_tokenizer.pt', 'lang': 'uk', 'shorthand': 'uk_iu', 'mode': 'predict'}\n",
      "---\n",
      "Loading: pos\n",
      "With settings: \n",
      "{'model_path': '/home/dima/stanfordnlp_resources/uk_iu_models/uk_iu_tagger.pt', 'pretrain_path': '/home/dima/stanfordnlp_resources/uk_iu_models/uk_iu.pretrain.pt', 'lang': 'uk', 'shorthand': 'uk_iu', 'mode': 'predict'}\n",
      "---\n",
      "Loading: lemma\n",
      "With settings: \n",
      "{'model_path': '/home/dima/stanfordnlp_resources/uk_iu_models/uk_iu_lemmatizer.pt', 'lang': 'uk', 'shorthand': 'uk_iu', 'mode': 'predict'}\n",
      "Building an attentional Seq2Seq model...\n",
      "Using a Bi-LSTM encoder\n",
      "Using soft attention for LSTM.\n",
      "Finetune all embeddings.\n",
      "[Running seq2seq lemmatizer with edit classifier]\n",
      "Done loading processors!\n",
      "---\n",
      "Use device: gpu\n",
      "---\n",
      "Loading: tokenize\n",
      "With settings: \n",
      "{'model_path': '/home/dima/stanfordnlp_resources/ru_syntagrus_models/ru_syntagrus_tokenizer.pt', 'lang': 'ru', 'shorthand': 'ru_syntagrus', 'mode': 'predict'}\n",
      "---\n",
      "Loading: pos\n",
      "With settings: \n",
      "{'model_path': '/home/dima/stanfordnlp_resources/ru_syntagrus_models/ru_syntagrus_tagger.pt', 'pretrain_path': '/home/dima/stanfordnlp_resources/ru_syntagrus_models/ru_syntagrus.pretrain.pt', 'lang': 'ru', 'shorthand': 'ru_syntagrus', 'mode': 'predict'}\n",
      "---\n",
      "Loading: lemma\n",
      "With settings: \n",
      "{'model_path': '/home/dima/stanfordnlp_resources/ru_syntagrus_models/ru_syntagrus_lemmatizer.pt', 'lang': 'ru', 'shorthand': 'ru_syntagrus', 'mode': 'predict'}\n",
      "Building an attentional Seq2Seq model...\n",
      "Using a Bi-LSTM encoder\n",
      "Using soft attention for LSTM.\n",
      "Finetune all embeddings.\n",
      "[Running seq2seq lemmatizer with edit classifier]\n",
      "Done loading processors!\n",
      "---\n"
     ]
    }
   ],
   "source": [
    "# nlp_uk = stanfordnlp.Pipeline(lang='uk')\n",
    "# nlp_ru = stanfordnlp.Pipeline(lang='ru')\n",
    "nlp_uk = stanfordnlp.Pipeline(lang='uk', processors='tokenize,pos,lemma', use_gpu=True)\n",
    "nlp_ru = stanfordnlp.Pipeline(lang='ru', processors='tokenize,pos,lemma', use_gpu=True)"
   ]
  },
  {
   "cell_type": "code",
   "execution_count": 20,
   "metadata": {},
   "outputs": [],
   "source": [
    "def clean_text(x, words_num=100):\n",
    "    # fix remove bad encoding\n",
    "    x = x.encode('utf-8', \"ignore\").decode(\"utf-8\")\n",
    "    # fix apostrophe\n",
    "    x = x.replace(\"”\", \"’\")\n",
    "    # remove urls\n",
    "    x = re.sub(r\"((http|https)\\:\\/\\/)?[a-zA-Z0-9\\.\\/\\?\\:@\\-_=#]+\\.([a-zA-Z]){2,6}([a-zA-Z0-9\\.\\&\\/\\?\\:@\\-_=#])*\", \n",
    "               \" \", x)\n",
    "    # fix repeating punctuation\n",
    "    punctuation = ['!', '\"', '#', '$', '%', '&', \"'\", '(', ')', '*', '+', ',', '-', '.', '/', ':', \n",
    "                   ';', '<', '=', '>', '?', '@', '[', ']', '^', '_', '`', '{', '|', '}', '~']\n",
    "    for punct in punctuation:\n",
    "        x = re.sub(r\"\"\"\\{}+\"\"\".format(punct), punct, x)\n",
    "    # remove redundant spaces and limit the number of words to words_num\n",
    "    x = ''.join(_ for _ in \" \".join(filter(None, x.split()[:words_num])).lower() if _.isprintable())\n",
    "    \n",
    "    return x\n",
    "\n",
    "\n",
    "def text2tokens(text, lang='uk', lemma=False, ignore_pos=None, ignore_len=0, ignore_num=False):\n",
    "    nlp_map = {'uk': nlp_uk, 'ru': nlp_ru}\n",
    "    nlp = nlp_map.get(lang)\n",
    "    tokens = []\n",
    "    \n",
    "    # remove numbers such as #123, №25а, abc-78 etc.\n",
    "    if ignore_num:\n",
    "        text = re.sub(r\"\\S*\\d+\\S*\", \" \", text)\n",
    "    \n",
    "    for sentence in nlp(text).sentences:\n",
    "        for token in sentence.words:\n",
    "            if ignore_pos:\n",
    "                if token.upos in ignore_pos:\n",
    "                    continue\n",
    "            if ignore_len:\n",
    "                if len(token.text) <= ignore_len:\n",
    "                    continue\n",
    "            if lemma:\n",
    "                tokens.append(token.lemma)\n",
    "            else:\n",
    "#                 tokens.append((token.text, token.upos))\n",
    "                tokens.append(token.text)\n",
    "                \n",
    "    return tokens"
   ]
  },
  {
   "cell_type": "code",
   "execution_count": 21,
   "metadata": {},
   "outputs": [],
   "source": [
    "sample = data_uk.sample(3)"
   ]
  },
  {
   "cell_type": "code",
   "execution_count": 22,
   "metadata": {},
   "outputs": [
    {
     "name": "stdout",
     "output_type": "stream",
     "text": [
      "Доброго дня!\r\n",
      "\r\n",
      "Маємо проблемну ситуацію з асфальтним покриттям перед в’їздом до школи №94. Кілька років тому в асфальті утворилась величезна яма 2мх3м, яка повністю перекриває шлях до школи №94, що є особливо небезпечним, адже діти постійно ризикують зламати ноги, оскільки в дощову погоду вони намагаються перебігти через лужу, обійти яку фактично не можливо, а висота води в лужі досягає колін. Крім того, є небезпека провалу асфальту в будь-яку мить. У зв’язку з небезпечністю та загрозою здоров’ю дітей, просимо негайно провести ремонт асфальтного покриття.\r\n",
      "\r\n",
      "На фото ”17-08-2015” - стан проходу на третій день після дощу.\r\n",
      "На фото ”15-09-2015” - стан на тепер.\n",
      "*********\n",
      "З 3 жовтня видсутнє гаряче водовостачання. До колцентру надана заявка № М-15486. 2 тижні не приймаються ни які міри щодо усунення проблеми. (термін усунення будь-якої аварії 3 доби) - прошу прийняти відповідні заходи та покарати винних за затримку.\n",
      "*********\n",
      "Мешканці пенсійного віку з вищих поверхів будинку 5 по вул. Пимоненка біля підїзду регулярно викидають об’їдки та хлібні вироби, внаслідок чого постійно забруднють прибудинкову территорію, та, зокрема, прикормили голубів, які засмічують территорію навколо будинку та вікна мешканців першого поверху, не дають спати своїм шумом/\r\n",
      "\r\n",
      "На численні попередження ЖЕКу, двірника, інших мешканців порушники чистоти та спокою не реагують, викидають їжу рано вранці.\r\n",
      "\r\n",
      "Мешканці нижчих поверхів просять розібратись з проблемою, зокрема з тим за що ними та іншими мешканцями будинку платяться кошти на утримання прибудинкової території, і як можна відпочивати, коли голуби з самого ранку бьються у вікна.\n",
      "*********\n"
     ]
    }
   ],
   "source": [
    "for item in sample.text.values:\n",
    "    print(item)\n",
    "    print(\"*********\")"
   ]
  },
  {
   "cell_type": "code",
   "execution_count": 23,
   "metadata": {},
   "outputs": [
    {
     "name": "stdout",
     "output_type": "stream",
     "text": [
      "доброго дня! маємо проблемну ситуацію з асфальтним покриттям перед в’їздом до школи №94. кілька років тому в асфальті утворилась величезна яма 2мх3м, яка повністю перекриває шлях до школи №94, що є особливо небезпечним, адже діти постійно ризикують зламати ноги, оскільки в дощову погоду вони намагаються перебігти через лужу, обійти яку фактично не можливо, а висота води в лужі досягає колін. крім того, є небезпека провалу асфальту в будь-яку мить. у зв’язку з небезпечністю та загрозою здоров’ю дітей, просимо негайно провести ремонт асфальтного покриття. на фото ’17-08-2015’ - стан проходу на третій день після дощу. на фото ’15-09-2015’ - стан на\n",
      "*********\n",
      "з 3 жовтня видсутнє гаряче водовостачання. до колцентру надана заявка № м-15486. 2 тижні не приймаються ни які міри щодо усунення проблеми. (термін усунення будь-якої аварії 3 доби) - прошу прийняти відповідні заходи та покарати винних за затримку.\n",
      "*********\n",
      "мешканці пенсійного віку з вищих поверхів будинку 5 по вул. пимоненка біля підїзду регулярно викидають об’їдки та хлібні вироби, внаслідок чого постійно забруднють прибудинкову территорію, та, зокрема, прикормили голубів, які засмічують территорію навколо будинку та вікна мешканців першого поверху, не дають спати своїм шумом/ на численні попередження жеку, двірника, інших мешканців порушники чистоти та спокою не реагують, викидають їжу рано вранці. мешканці нижчих поверхів просять розібратись з проблемою, зокрема з тим за що ними та іншими мешканцями будинку платяться кошти на утримання прибудинкової території, і як можна відпочивати, коли голуби з самого ранку бьються у вікна.\n",
      "*********\n"
     ]
    }
   ],
   "source": [
    "for item in sample.text.values:\n",
    "    print(clean_text(item))\n",
    "    print(\"*********\")"
   ]
  },
  {
   "cell_type": "code",
   "execution_count": 24,
   "metadata": {},
   "outputs": [
    {
     "data": {
      "text/plain": [
       "['мешканці',\n",
       " 'пенсійного',\n",
       " 'віку',\n",
       " 'з',\n",
       " 'вищих',\n",
       " 'поверхів',\n",
       " 'будинку',\n",
       " 'по',\n",
       " 'вул',\n",
       " '.',\n",
       " 'пимоненка',\n",
       " 'біля',\n",
       " 'підїзду',\n",
       " 'регулярно',\n",
       " 'викидають',\n",
       " 'об’їдки',\n",
       " 'та',\n",
       " 'хлібні',\n",
       " 'вироби',\n",
       " ',',\n",
       " 'внаслідок',\n",
       " 'чого',\n",
       " 'постійно',\n",
       " 'забруднють',\n",
       " 'прибудинкову',\n",
       " 'территорію',\n",
       " ',',\n",
       " 'та',\n",
       " ',',\n",
       " 'зокрема',\n",
       " ',',\n",
       " 'прикормили',\n",
       " 'голубів',\n",
       " ',',\n",
       " 'які',\n",
       " 'засмічують',\n",
       " 'территорію',\n",
       " 'навколо',\n",
       " 'будинку',\n",
       " 'та',\n",
       " 'вікна',\n",
       " 'мешканців',\n",
       " 'першого',\n",
       " 'поверху',\n",
       " ',',\n",
       " 'не',\n",
       " 'дають',\n",
       " 'спати',\n",
       " 'своїм',\n",
       " 'шумом',\n",
       " '/',\n",
       " 'на',\n",
       " 'численні',\n",
       " 'попередження',\n",
       " 'жеку',\n",
       " ',',\n",
       " 'двірника',\n",
       " ',',\n",
       " 'інших',\n",
       " 'мешканців',\n",
       " 'порушники',\n",
       " 'чистоти',\n",
       " 'та',\n",
       " 'спокою',\n",
       " 'не',\n",
       " 'реагують',\n",
       " ',',\n",
       " 'викидають',\n",
       " 'їжу',\n",
       " 'рано',\n",
       " 'вранці',\n",
       " '.',\n",
       " 'мешканці',\n",
       " 'нижчих',\n",
       " 'поверхів',\n",
       " 'просять',\n",
       " 'розібратись',\n",
       " 'з',\n",
       " 'проблемою',\n",
       " ',',\n",
       " 'зокрема',\n",
       " 'з',\n",
       " 'тим',\n",
       " 'за',\n",
       " 'що',\n",
       " 'ними',\n",
       " 'та',\n",
       " 'іншими',\n",
       " 'мешканцями',\n",
       " 'будинку',\n",
       " 'платяться',\n",
       " 'кошти',\n",
       " 'на',\n",
       " 'утримання',\n",
       " 'прибудинкової',\n",
       " 'території',\n",
       " ',',\n",
       " 'і',\n",
       " 'як',\n",
       " 'можна',\n",
       " 'відпочивати',\n",
       " ',',\n",
       " 'коли',\n",
       " 'голуби',\n",
       " 'з',\n",
       " 'самого',\n",
       " 'ранку',\n",
       " 'бьються',\n",
       " 'у',\n",
       " 'вікна',\n",
       " '.']"
      ]
     },
     "execution_count": 24,
     "metadata": {},
     "output_type": "execute_result"
    }
   ],
   "source": [
    "text2tokens(clean_text(item), ignore_num=True)\n",
    "# text2tokens(item)"
   ]
  },
  {
   "cell_type": "code",
   "execution_count": 25,
   "metadata": {},
   "outputs": [],
   "source": [
    "data_uk['text_clean'] = data_uk['text'].map(clean_text)\n",
    "data_ru['text_clean'] = data_ru['text'].map(clean_text)"
   ]
  },
  {
   "cell_type": "markdown",
   "metadata": {},
   "source": [
    "## Embeddings"
   ]
  },
  {
   "cell_type": "markdown",
   "metadata": {},
   "source": [
    "### Universal Sentence Encoder"
   ]
  },
  {
   "cell_type": "code",
   "execution_count": 26,
   "metadata": {},
   "outputs": [],
   "source": [
    "import tensorflow_text\n",
    "import tensorflow as tf\n",
    "import tensorflow_hub as hub\n",
    "\n",
    "from scipy import spatial"
   ]
  },
  {
   "cell_type": "code",
   "execution_count": 27,
   "metadata": {},
   "outputs": [
    {
     "data": {
      "text/plain": [
       "'2.0.1'"
      ]
     },
     "execution_count": 27,
     "metadata": {},
     "output_type": "execute_result"
    }
   ],
   "source": [
    "tf.__version__"
   ]
  },
  {
   "cell_type": "code",
   "execution_count": 28,
   "metadata": {},
   "outputs": [
    {
     "data": {
      "text/plain": [
       "True"
      ]
     },
     "execution_count": 28,
     "metadata": {},
     "output_type": "execute_result"
    }
   ],
   "source": [
    "tf.test.is_gpu_available(\n",
    "    cuda_only=False, min_cuda_compute_capability=None\n",
    ")"
   ]
  },
  {
   "cell_type": "code",
   "execution_count": 29,
   "metadata": {},
   "outputs": [],
   "source": [
    "module_url = \"https://tfhub.dev/google/universal-sentence-encoder-multilingual/3\"\n",
    "use_model = hub.load(module_url)"
   ]
  },
  {
   "cell_type": "code",
   "execution_count": 30,
   "metadata": {},
   "outputs": [],
   "source": [
    "def cos_sim(vec1, vec2):\n",
    "    return 1 - spatial.distance.cosine(vec1, vec2)"
   ]
  },
  {
   "cell_type": "code",
   "execution_count": 31,
   "metadata": {},
   "outputs": [],
   "source": [
    "def use_embed(text, numpy=True):\n",
    "    res = np.zeros((1, 512))\n",
    "    if isinstance(text, str):\n",
    "        text = [text]\n",
    "    try:\n",
    "        res = use_model(text)\n",
    "        if numpy:\n",
    "            res = res.numpy()\n",
    "    except Exception as e:\n",
    "        print(e, text)\n",
    "    return res"
   ]
  },
  {
   "cell_type": "markdown",
   "metadata": {},
   "source": [
    "#### sample distance test"
   ]
  },
  {
   "cell_type": "markdown",
   "metadata": {},
   "source": [
    "##### same topics"
   ]
  },
  {
   "cell_type": "code",
   "execution_count": 32,
   "metadata": {},
   "outputs": [
    {
     "name": "stdout",
     "output_type": "stream",
     "text": [
      "Відсутність ГВП\n",
      "*************\n",
      "на данный момент отсутствует горячая вода в связи с поломкой насоса (он обеспечивает горячей водой 6 или 7 домов). точно такая же проблема была месяц назад. его долго починяли и хватило ремонта лишь на месяц. сейчас говорят о том, что устранят проблему не раньше, чем через месяц, так как установить новый голландский нормальный насос нельзя (’запрещают’), а отремонтируют старый на дарнице не скоро.\n",
      "*************\n",
      "прошу разобраться и в конце концов заставить исправить и наказать ответственных за отсутствие горячей воды и отопления. на улице уже зима, в квартире 16 градусов тепла и то благодаря обогревателю. неделю назад гвс включили, но температура воды скорее была ближе к ’не очень холодной’ чем горячей или тёплой. 23 октября вообще пропала. я не понимаю, почему должен платить за отсутствующие услуги или услуги, предоставляемые не качественно, не вовремя и не соответствующие нормам!\n"
     ]
    }
   ],
   "source": [
    "lang = 'ru'\n",
    "\n",
    "if lang == 'ru':\n",
    "    tmp = data_ru.loc[data_ru.cat_count == data_ru.cat_count.max()].sample(2)\n",
    "else:\n",
    "    tmp = data_uk.loc[data_uk.cat_count == data_uk.cat_count.max()].sample(2)\n",
    "    \n",
    "cat = tmp['label'].unique()[0]\n",
    "sample1 = clean_text(tmp['text'].values[0])\n",
    "sample2 = clean_text(tmp['text'].values[1])\n",
    "\n",
    "print(cat, sample1, sample2, sep=\"\\n*************\\n\")"
   ]
  },
  {
   "cell_type": "code",
   "execution_count": 33,
   "metadata": {},
   "outputs": [
    {
     "name": "stdout",
     "output_type": "stream",
     "text": [
      "Embedding shape: (1, 512)\n",
      "Raw text similarity: 0.4845627546310425\n",
      "Clean text similarity: 0.47655731439590454\n"
     ]
    }
   ],
   "source": [
    "print('Embedding shape:', use_embed(sample1).shape)\n",
    "print('Raw text similarity:', cos_sim(use_embed(sample1), use_embed(sample2)))\n",
    "print('Clean text similarity:', cos_sim(use_embed(\" \".join(text2tokens(sample1))), \n",
    "                                        use_embed(\" \".join(text2tokens(sample2)))))"
   ]
  },
  {
   "cell_type": "markdown",
   "metadata": {},
   "source": [
    "##### different topics"
   ]
  },
  {
   "cell_type": "code",
   "execution_count": 34,
   "metadata": {},
   "outputs": [
    {
     "name": "stdout",
     "output_type": "stream",
     "text": [
      "Відсутність ГВП\n",
      "*************\n",
      "з 28.04.14 по теперішній час в нашому будинку відсутнє гаряче водопостачання, а повинно бути ще з 13.05.14. ніяких пояснень від комунальних служб солом’янського р-ну та контакт-центру киевэнерго не отримано.\n",
      "*************\n",
      "Укладання та ремонт асфальтного покриття\n",
      "*************\n",
      "ефір асфальтне покриття від вулиці туполєва, між будинками 20 і 22 вглиб дворів дворів до школи №95 та гаржного кооперативу ’тополь’ розбите, там безліч глибоких ям. коли буде відремонтоване асфальтне покриття?\n"
     ]
    }
   ],
   "source": [
    "lang = 'uk'\n",
    "\n",
    "if lang == 'ru':\n",
    "    top_2_labels = data_ru.label.value_counts().keys()[:2]\n",
    "    sample1 = data_ru.loc[data_ru.label == top_2_labels[0]].sample()['text_clean'].values[0]\n",
    "    sample2 = data_ru.loc[data_ru.label == top_2_labels[1]].sample()['text_clean'].values[0]\n",
    "    \n",
    "else:\n",
    "    top_2_labels = data_uk.label.value_counts().keys()[:2]\n",
    "    sample1 = data_uk.loc[data_uk.label == top_2_labels[0]].sample()['text_clean'].values[0]\n",
    "    sample2 = data_uk.loc[data_uk.label == top_2_labels[1]].sample()['text_clean'].values[0]\n",
    "\n",
    "print(top_2_labels[0], sample1, top_2_labels[1], sample2, sep=\"\\n*************\\n\")"
   ]
  },
  {
   "cell_type": "code",
   "execution_count": 35,
   "metadata": {},
   "outputs": [
    {
     "name": "stdout",
     "output_type": "stream",
     "text": [
      "Embedding shape: (1, 512)\n",
      "Raw text similarity: 0.19383704662322998\n",
      "Clean text similarity: 0.22000090777873993\n"
     ]
    }
   ],
   "source": [
    "print('Embedding shape:', use_embed(sample1).shape)\n",
    "print('Raw text similarity:', cos_sim(use_embed(sample1), use_embed(sample2)))\n",
    "print('Clean text similarity:', cos_sim(use_embed(\" \".join(text2tokens(sample1))), \n",
    "                                        use_embed(\" \".join(text2tokens(sample2)))))"
   ]
  },
  {
   "cell_type": "markdown",
   "metadata": {},
   "source": [
    "I'm pleasantly surprised that Russian USE model somehow performs on Ukrainian.\n",
    "BTW, tokenized text doesn't shows better results comparing to raw clean text. And it makes sense, as we work with document vectors and removing such POSes as NUM or PUNCT breakes document structure"
   ]
  },
  {
   "cell_type": "markdown",
   "metadata": {},
   "source": [
    "### Word2vec / Glove / LexVec"
   ]
  },
  {
   "cell_type": "markdown",
   "metadata": {},
   "source": [
    "Ubercorpus embeddings"
   ]
  },
  {
   "cell_type": "code",
   "execution_count": 36,
   "metadata": {},
   "outputs": [],
   "source": [
    "from gensim.scripts.glove2word2vec import glove2word2vec\n",
    "from gensim.models.keyedvectors import KeyedVectors"
   ]
  },
  {
   "cell_type": "code",
   "execution_count": 37,
   "metadata": {},
   "outputs": [],
   "source": [
    "# glove2word2vec(glove_input_file=\"ubercorpus.lowercased.tokenized.glove.300d\", \n",
    "#                word2vec_output_file=\"ubercorpus.lowercased.tokenized.glove.300d.txt\")"
   ]
  },
  {
   "cell_type": "code",
   "execution_count": 42,
   "metadata": {},
   "outputs": [
    {
     "name": "stdout",
     "output_type": "stream",
     "text": [
      "CPU times: user 1min 45s, sys: 875 ms, total: 1min 45s\n",
      "Wall time: 1min 45s\n"
     ]
    }
   ],
   "source": [
    "%%time\n",
    "\n",
    "glove_model = KeyedVectors.load_word2vec_format(\"ubercorpus.lowercased.tokenized.glove.300d.txt\", binary=False)"
   ]
  },
  {
   "cell_type": "code",
   "execution_count": 43,
   "metadata": {},
   "outputs": [
    {
     "name": "stdout",
     "output_type": "stream",
     "text": [
      "CPU times: user 1min 45s, sys: 821 ms, total: 1min 46s\n",
      "Wall time: 1min 46s\n"
     ]
    }
   ],
   "source": [
    "%%time\n",
    "\n",
    "w2v_model = KeyedVectors.load_word2vec_format(\"ubercorpus.lowercased.tokenized.word2vec.300d\", binary=False)"
   ]
  },
  {
   "cell_type": "code",
   "execution_count": 44,
   "metadata": {},
   "outputs": [
    {
     "name": "stdout",
     "output_type": "stream",
     "text": [
      "CPU times: user 1min 44s, sys: 966 ms, total: 1min 45s\n",
      "Wall time: 1min 45s\n"
     ]
    }
   ],
   "source": [
    "%%time\n",
    "\n",
    "lexvec_model = KeyedVectors.load_word2vec_format(\"ubercorpus.lowercased.tokenized.300d\", binary=False)"
   ]
  },
  {
   "cell_type": "code",
   "execution_count": 45,
   "metadata": {},
   "outputs": [
    {
     "data": {
      "text/plain": [
       "[('геннадій', 0.5712622404098511),\n",
       " ('нардеп', 0.5634081959724426),\n",
       " ('москаля', 0.5238221883773804),\n",
       " ('луценко', 0.5117676258087158),\n",
       " ('депутат', 0.49746325612068176)]"
      ]
     },
     "execution_count": 45,
     "metadata": {},
     "output_type": "execute_result"
    }
   ],
   "source": [
    "glove_model.wv.most_similar('москаль', topn=5)"
   ]
  },
  {
   "cell_type": "code",
   "execution_count": 46,
   "metadata": {},
   "outputs": [
    {
     "data": {
      "text/plain": [
       "[('корбан', 0.703376054763794),\n",
       " ('кернес', 0.6943342685699463),\n",
       " ('задирко', 0.6910302639007568),\n",
       " ('мінаєв', 0.6881823539733887),\n",
       " ('іванущенко', 0.676155686378479)]"
      ]
     },
     "execution_count": 46,
     "metadata": {},
     "output_type": "execute_result"
    }
   ],
   "source": [
    "w2v_model.wv.most_similar('москаль', topn=5)"
   ]
  },
  {
   "cell_type": "code",
   "execution_count": 47,
   "metadata": {},
   "outputs": [
    {
     "data": {
      "text/plain": [
       "[('кернес', 0.6542044878005981),\n",
       " ('жебрівський', 0.6423298120498657),\n",
       " ('тука', 0.6347901225090027),\n",
       " ('зубко', 0.6334406733512878),\n",
       " ('корбан', 0.6276117563247681)]"
      ]
     },
     "execution_count": 47,
     "metadata": {},
     "output_type": "execute_result"
    }
   ],
   "source": [
    "lexvec_model.wv.most_similar('москаль', topn=5)"
   ]
  },
  {
   "cell_type": "markdown",
   "metadata": {},
   "source": [
    "as lowercased model trained on news, wiki and literature, by ``москаль`` it understands ``Генадій Москаль``, but not that dirty ``москаль`` from Mordor. It happens because politician appeared much more frequently in train corpus that the second one. But in my case I can't use cased model, because there are lots of reviews among train data with capsed text and if I will not lowercase them, they will add lots of noise to my data."
   ]
  },
  {
   "cell_type": "code",
   "execution_count": 48,
   "metadata": {},
   "outputs": [],
   "source": [
    "def gensim_embed(tokens, mode='avg', model=glove_model, pad_limit=MAX_WORDS_NUM):\n",
    "    \"\"\" average all vectors that are in vocab, ignore OOV \"\"\"\n",
    "    res = []\n",
    "    for token in tokens:\n",
    "        if token in w2v_model.vocab:\n",
    "            res.append(model.wv.__getitem__([token]))\n",
    "    if len(res) > 0:\n",
    "        res = np.vstack(res)\n",
    "        \n",
    "        if mode == 'avg':\n",
    "            return np.mean(res, axis=0).reshape(1, -1)\n",
    "        elif mode == 'concat':\n",
    "            return np.pad(res, ((0, MAX_WORDS_NUM), (0, 0)), mode='constant', constant_values=0)[:MAX_WORDS_NUM, :]\n",
    "        else:\n",
    "            raise ValueError(f'Invalid embeddings result mod: {mode}')\n",
    "    else:\n",
    "        if mode == 'avg':\n",
    "            return np.zeros((1, 300))\n",
    "        else:\n",
    "            return np.zeros((100, 300))"
   ]
  },
  {
   "cell_type": "markdown",
   "metadata": {},
   "source": [
    "#### sample distance test"
   ]
  },
  {
   "cell_type": "markdown",
   "metadata": {},
   "source": [
    "##### Same topics"
   ]
  },
  {
   "cell_type": "code",
   "execution_count": 49,
   "metadata": {},
   "outputs": [
    {
     "name": "stdout",
     "output_type": "stream",
     "text": [
      "Відсутність ГВП\n",
      "*************\n",
      "доброго дня, підскажіть коли буде відновленно гаряче водопостачання? дякую!\n",
      "*************\n",
      "відсутня гаряча вода\n"
     ]
    }
   ],
   "source": [
    "lang = 'uk'\n",
    "\n",
    "if lang == 'ru':\n",
    "    tmp = data_ru.loc[data_ru.cat_count == data_ru.cat_count.max()].sample(2)\n",
    "else:\n",
    "    tmp = data_uk.loc[data_uk.cat_count == data_uk.cat_count.max()].sample(2)\n",
    "    \n",
    "cat = tmp['label'].unique()[0]\n",
    "sample1 = clean_text(tmp['text'].values[0])\n",
    "sample2 = clean_text(tmp['text'].values[1])\n",
    "\n",
    "print(cat, sample1, sample2, sep=\"\\n*************\\n\")"
   ]
  },
  {
   "cell_type": "code",
   "execution_count": 50,
   "metadata": {},
   "outputs": [
    {
     "name": "stdout",
     "output_type": "stream",
     "text": [
      "Embedding shape: (1, 300)\n",
      "\n",
      "Raw text similarity:\n",
      "* w2v: 0.2189178317785263\n",
      "* glove: 0.38808155059814453\n",
      "* lexvec: 0.2890006899833679\n",
      "\n",
      "Lemmatized text similarity:\n",
      "* w2v: 0.26313355565071106\n",
      "* glove: 0.45829537510871887\n",
      "* lexvec: 0.39039555191993713\n",
      "\n",
      "Lemmatized text similarity where punct, num and len=1 are ignored:\n",
      "* w2v: 0.26313355565071106\n",
      "* glove: 0.45829537510871887\n",
      "* lexvec: 0.39039555191993713\n"
     ]
    }
   ],
   "source": [
    "print('Embedding shape:', gensim_embed(text2tokens(sample1)).shape)\n",
    "print(\"\\nRaw text similarity:\")\n",
    "print('* w2v:',    cos_sim(gensim_embed(text2tokens(sample1, lang=lang), model=w2v_model), \n",
    "                           gensim_embed(text2tokens(sample2, lang=lang), model=w2v_model)))\n",
    "print('* glove:',  cos_sim(gensim_embed(text2tokens(sample1, lang=lang), model=glove_model), \n",
    "                           gensim_embed(text2tokens(sample2, lang=lang), model=glove_model)))\n",
    "print('* lexvec:', cos_sim(gensim_embed(text2tokens(sample1, lang=lang), model=lexvec_model), \n",
    "                           gensim_embed(text2tokens(sample2, lang=lang), model=lexvec_model)))\n",
    "print(\"\\nLemmatized text similarity:\")\n",
    "print('* w2v:',    cos_sim(gensim_embed(text2tokens(sample1, lang=lang, lemma=True), model=w2v_model), \n",
    "                           gensim_embed(text2tokens(sample2, lang=lang, lemma=True), model=w2v_model)))\n",
    "print('* glove:',  cos_sim(gensim_embed(text2tokens(sample1, lang=lang, lemma=True), model=glove_model), \n",
    "                           gensim_embed(text2tokens(sample2, lang=lang, lemma=True), model=glove_model)))\n",
    "print('* lexvec:', cos_sim(gensim_embed(text2tokens(sample1, lang=lang, lemma=True), model=lexvec_model), \n",
    "                           gensim_embed(text2tokens(sample2, lang=lang, lemma=True), model=lexvec_model)))\n",
    "print(\"\\nLemmatized text similarity where punct, num and len=1 are ignored:\")\n",
    "print('* w2v:',    cos_sim(gensim_embed(text2tokens(sample1, lang=lang, lemma=True, ignore_pos=['PUNCT'], ignore_num=True, ignore_len=1), model=w2v_model), \n",
    "                           gensim_embed(text2tokens(sample2, lang=lang, lemma=True, ignore_pos=['PUNCT'], ignore_num=True, ignore_len=1), model=w2v_model)))\n",
    "print('* glove:',  cos_sim(gensim_embed(text2tokens(sample1, lang=lang, lemma=True, ignore_pos=['PUNCT'], ignore_num=True, ignore_len=1), model=glove_model), \n",
    "                           gensim_embed(text2tokens(sample2, lang=lang, lemma=True, ignore_pos=['PUNCT'], ignore_num=True, ignore_len=1), model=glove_model)))\n",
    "print('* lexvec:', cos_sim(gensim_embed(text2tokens(sample1, lang=lang, lemma=True, ignore_pos=['PUNCT'], ignore_num=True, ignore_len=1), model=lexvec_model), \n",
    "                           gensim_embed(text2tokens(sample2, lang=lang, lemma=True, ignore_pos=['PUNCT'], ignore_num=True, ignore_len=1), model=lexvec_model)))"
   ]
  },
  {
   "cell_type": "markdown",
   "metadata": {},
   "source": [
    "##### different topics"
   ]
  },
  {
   "cell_type": "code",
   "execution_count": 51,
   "metadata": {},
   "outputs": [
    {
     "name": "stdout",
     "output_type": "stream",
     "text": [
      "Відсутність ГВП\n",
      "*************\n",
      "доброго дня! в будинку відсутня гаряча вода, повідомлення про відключення води не було! прошу прийняти міри. дякую\n",
      "*************\n",
      "Укладання та ремонт асфальтного покриття\n",
      "*************\n",
      "прохання мешканців, щоб відповідні органи між стоянкою та буд 12 по вул милославській прибрали з тротуара куски асвальта та каміння, та поклали нове асфальтне покриття,а затоптану землю перекопали.\n"
     ]
    }
   ],
   "source": [
    "lang = 'uk'\n",
    "\n",
    "if lang == 'ru':\n",
    "    top_2_labels = data_ru.label.value_counts().keys()[:2]\n",
    "    sample1 = data_ru.loc[data_ru.label == top_2_labels[0]].sample()['text_clean'].values[0]\n",
    "    sample2 = data_ru.loc[data_ru.label == top_2_labels[1]].sample()['text_clean'].values[0]\n",
    "    \n",
    "else:\n",
    "    top_2_labels = data_uk.label.value_counts().keys()[:2]\n",
    "    sample1 = data_uk.loc[data_uk.label == top_2_labels[0]].sample()['text_clean'].values[0]\n",
    "    sample2 = data_uk.loc[data_uk.label == top_2_labels[1]].sample()['text_clean'].values[0]\n",
    "\n",
    "print(top_2_labels[0], sample1, top_2_labels[1], sample2, sep=\"\\n*************\\n\")"
   ]
  },
  {
   "cell_type": "code",
   "execution_count": 52,
   "metadata": {},
   "outputs": [
    {
     "name": "stdout",
     "output_type": "stream",
     "text": [
      "Embedding shape: (1, 300)\n",
      "\n",
      "Raw text similarity:\n",
      "* w2v: 0.3332063853740692\n",
      "* glove: 0.6789495944976807\n",
      "* lexvec: 0.34649592638015747\n",
      "\n",
      "Lemmatized text similarity:\n",
      "* w2v: 0.3872227966785431\n",
      "* glove: 0.705848217010498\n",
      "* lexvec: 0.4760095477104187\n",
      "\n",
      "Lemmatized text similarity where punct, num and len=1 are ignored:\n",
      "* w2v: 0.36203309893608093\n",
      "* glove: 0.6481224894523621\n",
      "* lexvec: 0.46890944242477417\n"
     ]
    }
   ],
   "source": [
    "print('Embedding shape:', gensim_embed(text2tokens(sample1)).shape)\n",
    "print(\"\\nRaw text similarity:\")\n",
    "print('* w2v:',    cos_sim(gensim_embed(text2tokens(sample1, lang=lang), model=w2v_model), \n",
    "                           gensim_embed(text2tokens(sample2, lang=lang), model=w2v_model)))\n",
    "print('* glove:',  cos_sim(gensim_embed(text2tokens(sample1, lang=lang), model=glove_model), \n",
    "                           gensim_embed(text2tokens(sample2, lang=lang), model=glove_model)))\n",
    "print('* lexvec:', cos_sim(gensim_embed(text2tokens(sample1, lang=lang), model=lexvec_model), \n",
    "                           gensim_embed(text2tokens(sample2, lang=lang), model=lexvec_model)))\n",
    "print(\"\\nLemmatized text similarity:\")\n",
    "print('* w2v:',    cos_sim(gensim_embed(text2tokens(sample1, lang=lang, lemma=True), model=w2v_model), \n",
    "                           gensim_embed(text2tokens(sample2, lang=lang, lemma=True), model=w2v_model)))\n",
    "print('* glove:',  cos_sim(gensim_embed(text2tokens(sample1, lang=lang, lemma=True), model=glove_model), \n",
    "                           gensim_embed(text2tokens(sample2, lang=lang, lemma=True), model=glove_model)))\n",
    "print('* lexvec:', cos_sim(gensim_embed(text2tokens(sample1, lang=lang, lemma=True), model=lexvec_model), \n",
    "                           gensim_embed(text2tokens(sample2, lang=lang, lemma=True), model=lexvec_model)))\n",
    "print(\"\\nLemmatized text similarity where punct, num and len=1 are ignored:\")\n",
    "print('* w2v:',    cos_sim(gensim_embed(text2tokens(sample1, lang=lang, lemma=True, ignore_pos=['PUNCT'], ignore_num=True, ignore_len=1), model=w2v_model), \n",
    "                           gensim_embed(text2tokens(sample2, lang=lang, lemma=True, ignore_pos=['PUNCT'], ignore_num=True, ignore_len=1), model=w2v_model)))\n",
    "print('* glove:',  cos_sim(gensim_embed(text2tokens(sample1, lang=lang, lemma=True, ignore_pos=['PUNCT'], ignore_num=True, ignore_len=1), model=glove_model), \n",
    "                           gensim_embed(text2tokens(sample2, lang=lang, lemma=True, ignore_pos=['PUNCT'], ignore_num=True, ignore_len=1), model=glove_model)))\n",
    "print('* lexvec:', cos_sim(gensim_embed(text2tokens(sample1, lang=lang, lemma=True, ignore_pos=['PUNCT'], ignore_num=True, ignore_len=1), model=lexvec_model), \n",
    "                           gensim_embed(text2tokens(sample2, lang=lang, lemma=True, ignore_pos=['PUNCT'], ignore_num=True, ignore_len=1), model=lexvec_model)))"
   ]
  },
  {
   "cell_type": "markdown",
   "metadata": {},
   "source": [
    "3 comments:\n",
    "* ukrainian models performs well both on uk and ru\n",
    "* as I expected, glove works slightly better in most of cases\n",
    "* no preprocessing neaded. Raw text w/o lemmatization and removing punct, numbers, 1-letter words shows better similarity. Sometimes only lemmatization works slightly better that w/o it. Actually, I'm not sure, it depends on. \n",
    "\n",
    "I suppose on long sequences better apply lemmatization and removing some posses, on the short better leave as is."
   ]
  },
  {
   "cell_type": "markdown",
   "metadata": {},
   "source": [
    "### BERT"
   ]
  },
  {
   "cell_type": "markdown",
   "metadata": {},
   "source": [
    "Based on: https://mccormickml.com/2019/05/14/BERT-word-embeddings-tutorial/"
   ]
  },
  {
   "cell_type": "code",
   "execution_count": 53,
   "metadata": {},
   "outputs": [],
   "source": [
    "BERT_PRETRAINED_DIR = os.path.join(os.getcwd(), 'multi_cased_bert_base_uk')\n",
    "\n",
    "BERT_VOCAB_FILE = os.path.join(BERT_PRETRAINED_DIR, 'vocab.txt')\n",
    "BERT_CONFIG_FILE = os.path.join(BERT_PRETRAINED_DIR, 'bert_config.json')\n",
    "BERT_INIT_CHECKPOINT = os.path.join(BERT_PRETRAINED_DIR, 'model.ckpt') # .data-00000-of-00001\n",
    "PYTORCH_MODEL_SAVE_PATH = os.path.join(BERT_PRETRAINED_DIR, 'pytorch_model.bin')"
   ]
  },
  {
   "cell_type": "code",
   "execution_count": 54,
   "metadata": {},
   "outputs": [
    {
     "data": {
      "text/plain": [
       "['config.json',\n",
       " 'vocab.txt',\n",
       " 'pytorch_model.bin',\n",
       " 'model.ckpt.meta',\n",
       " 'model.ckpt.index',\n",
       " 'model.ckpt.data-00000-of-00001',\n",
       " 'bert_config.json']"
      ]
     },
     "execution_count": 54,
     "metadata": {},
     "output_type": "execute_result"
    }
   ],
   "source": [
    "os.listdir(BERT_PRETRAINED_DIR)"
   ]
  },
  {
   "cell_type": "code",
   "execution_count": 55,
   "metadata": {},
   "outputs": [],
   "source": [
    "import torch\n",
    "\n",
    "from pytorch_pretrained_bert import (BertConfig, BertForSequenceClassification, BertTokenizer, \n",
    "                                     BertModel, load_tf_weights_in_bert)"
   ]
  },
  {
   "cell_type": "code",
   "execution_count": 56,
   "metadata": {},
   "outputs": [],
   "source": [
    "bert_config = BertConfig.from_json_file(BERT_CONFIG_FILE)\n",
    "\n",
    "bert_model = BertForSequenceClassification(bert_config, num_labels=2)"
   ]
  },
  {
   "cell_type": "code",
   "execution_count": 57,
   "metadata": {},
   "outputs": [
    {
     "name": "stdout",
     "output_type": "stream",
     "text": [
      "Converting TensorFlow checkpoint from /home/dima/Projects/prj-nlp-2020/students/DimaSakovich/10-vectors/multi_cased_bert_base_uk/model.ckpt\n",
      "Loading TF weight bert/embeddings/LayerNorm/beta with shape [768]\n",
      "Loading TF weight bert/embeddings/LayerNorm/beta/adam_m with shape [768]\n",
      "Loading TF weight bert/embeddings/LayerNorm/beta/adam_v with shape [768]\n",
      "Loading TF weight bert/embeddings/LayerNorm/gamma with shape [768]\n",
      "Loading TF weight bert/embeddings/LayerNorm/gamma/adam_m with shape [768]\n",
      "Loading TF weight bert/embeddings/LayerNorm/gamma/adam_v with shape [768]\n",
      "Loading TF weight bert/embeddings/position_embeddings with shape [512, 768]\n",
      "Loading TF weight bert/embeddings/position_embeddings/adam_m with shape [512, 768]\n",
      "Loading TF weight bert/embeddings/position_embeddings/adam_v with shape [512, 768]\n",
      "Loading TF weight bert/embeddings/token_type_embeddings with shape [2, 768]\n",
      "Loading TF weight bert/embeddings/token_type_embeddings/adam_m with shape [2, 768]\n",
      "Loading TF weight bert/embeddings/token_type_embeddings/adam_v with shape [2, 768]\n",
      "Loading TF weight bert/embeddings/word_embeddings with shape [119547, 768]\n",
      "Loading TF weight bert/embeddings/word_embeddings/adam_m with shape [119547, 768]\n",
      "Loading TF weight bert/embeddings/word_embeddings/adam_v with shape [119547, 768]\n",
      "Loading TF weight bert/encoder/layer_0/attention/output/LayerNorm/beta with shape [768]\n",
      "Loading TF weight bert/encoder/layer_0/attention/output/LayerNorm/beta/adam_m with shape [768]\n",
      "Loading TF weight bert/encoder/layer_0/attention/output/LayerNorm/beta/adam_v with shape [768]\n",
      "Loading TF weight bert/encoder/layer_0/attention/output/LayerNorm/gamma with shape [768]\n",
      "Loading TF weight bert/encoder/layer_0/attention/output/LayerNorm/gamma/adam_m with shape [768]\n",
      "Loading TF weight bert/encoder/layer_0/attention/output/LayerNorm/gamma/adam_v with shape [768]\n",
      "Loading TF weight bert/encoder/layer_0/attention/output/dense/bias with shape [768]\n",
      "Loading TF weight bert/encoder/layer_0/attention/output/dense/bias/adam_m with shape [768]\n",
      "Loading TF weight bert/encoder/layer_0/attention/output/dense/bias/adam_v with shape [768]\n",
      "Loading TF weight bert/encoder/layer_0/attention/output/dense/kernel with shape [768, 768]\n",
      "Loading TF weight bert/encoder/layer_0/attention/output/dense/kernel/adam_m with shape [768, 768]\n",
      "Loading TF weight bert/encoder/layer_0/attention/output/dense/kernel/adam_v with shape [768, 768]\n",
      "Loading TF weight bert/encoder/layer_0/attention/self/key/bias with shape [768]\n",
      "Loading TF weight bert/encoder/layer_0/attention/self/key/bias/adam_m with shape [768]\n",
      "Loading TF weight bert/encoder/layer_0/attention/self/key/bias/adam_v with shape [768]\n",
      "Loading TF weight bert/encoder/layer_0/attention/self/key/kernel with shape [768, 768]\n",
      "Loading TF weight bert/encoder/layer_0/attention/self/key/kernel/adam_m with shape [768, 768]\n",
      "Loading TF weight bert/encoder/layer_0/attention/self/key/kernel/adam_v with shape [768, 768]\n",
      "Loading TF weight bert/encoder/layer_0/attention/self/query/bias with shape [768]\n",
      "Loading TF weight bert/encoder/layer_0/attention/self/query/bias/adam_m with shape [768]\n",
      "Loading TF weight bert/encoder/layer_0/attention/self/query/bias/adam_v with shape [768]\n",
      "Loading TF weight bert/encoder/layer_0/attention/self/query/kernel with shape [768, 768]\n",
      "Loading TF weight bert/encoder/layer_0/attention/self/query/kernel/adam_m with shape [768, 768]\n",
      "Loading TF weight bert/encoder/layer_0/attention/self/query/kernel/adam_v with shape [768, 768]\n",
      "Loading TF weight bert/encoder/layer_0/attention/self/value/bias with shape [768]\n",
      "Loading TF weight bert/encoder/layer_0/attention/self/value/bias/adam_m with shape [768]\n",
      "Loading TF weight bert/encoder/layer_0/attention/self/value/bias/adam_v with shape [768]\n",
      "Loading TF weight bert/encoder/layer_0/attention/self/value/kernel with shape [768, 768]\n",
      "Loading TF weight bert/encoder/layer_0/attention/self/value/kernel/adam_m with shape [768, 768]\n",
      "Loading TF weight bert/encoder/layer_0/attention/self/value/kernel/adam_v with shape [768, 768]\n",
      "Loading TF weight bert/encoder/layer_0/intermediate/dense/bias with shape [3072]\n",
      "Loading TF weight bert/encoder/layer_0/intermediate/dense/bias/adam_m with shape [3072]\n",
      "Loading TF weight bert/encoder/layer_0/intermediate/dense/bias/adam_v with shape [3072]\n",
      "Loading TF weight bert/encoder/layer_0/intermediate/dense/kernel with shape [768, 3072]\n",
      "Loading TF weight bert/encoder/layer_0/intermediate/dense/kernel/adam_m with shape [768, 3072]\n",
      "Loading TF weight bert/encoder/layer_0/intermediate/dense/kernel/adam_v with shape [768, 3072]\n",
      "Loading TF weight bert/encoder/layer_0/output/LayerNorm/beta with shape [768]\n",
      "Loading TF weight bert/encoder/layer_0/output/LayerNorm/beta/adam_m with shape [768]\n",
      "Loading TF weight bert/encoder/layer_0/output/LayerNorm/beta/adam_v with shape [768]\n",
      "Loading TF weight bert/encoder/layer_0/output/LayerNorm/gamma with shape [768]\n",
      "Loading TF weight bert/encoder/layer_0/output/LayerNorm/gamma/adam_m with shape [768]\n",
      "Loading TF weight bert/encoder/layer_0/output/LayerNorm/gamma/adam_v with shape [768]\n",
      "Loading TF weight bert/encoder/layer_0/output/dense/bias with shape [768]\n",
      "Loading TF weight bert/encoder/layer_0/output/dense/bias/adam_m with shape [768]\n",
      "Loading TF weight bert/encoder/layer_0/output/dense/bias/adam_v with shape [768]\n",
      "Loading TF weight bert/encoder/layer_0/output/dense/kernel with shape [3072, 768]\n",
      "Loading TF weight bert/encoder/layer_0/output/dense/kernel/adam_m with shape [3072, 768]\n",
      "Loading TF weight bert/encoder/layer_0/output/dense/kernel/adam_v with shape [3072, 768]\n",
      "Loading TF weight bert/encoder/layer_1/attention/output/LayerNorm/beta with shape [768]\n",
      "Loading TF weight bert/encoder/layer_1/attention/output/LayerNorm/beta/adam_m with shape [768]\n",
      "Loading TF weight bert/encoder/layer_1/attention/output/LayerNorm/beta/adam_v with shape [768]\n",
      "Loading TF weight bert/encoder/layer_1/attention/output/LayerNorm/gamma with shape [768]\n",
      "Loading TF weight bert/encoder/layer_1/attention/output/LayerNorm/gamma/adam_m with shape [768]\n",
      "Loading TF weight bert/encoder/layer_1/attention/output/LayerNorm/gamma/adam_v with shape [768]\n",
      "Loading TF weight bert/encoder/layer_1/attention/output/dense/bias with shape [768]\n",
      "Loading TF weight bert/encoder/layer_1/attention/output/dense/bias/adam_m with shape [768]\n",
      "Loading TF weight bert/encoder/layer_1/attention/output/dense/bias/adam_v with shape [768]\n",
      "Loading TF weight bert/encoder/layer_1/attention/output/dense/kernel with shape [768, 768]\n",
      "Loading TF weight bert/encoder/layer_1/attention/output/dense/kernel/adam_m with shape [768, 768]\n",
      "Loading TF weight bert/encoder/layer_1/attention/output/dense/kernel/adam_v with shape [768, 768]\n",
      "Loading TF weight bert/encoder/layer_1/attention/self/key/bias with shape [768]\n",
      "Loading TF weight bert/encoder/layer_1/attention/self/key/bias/adam_m with shape [768]\n",
      "Loading TF weight bert/encoder/layer_1/attention/self/key/bias/adam_v with shape [768]\n",
      "Loading TF weight bert/encoder/layer_1/attention/self/key/kernel with shape [768, 768]\n",
      "Loading TF weight bert/encoder/layer_1/attention/self/key/kernel/adam_m with shape [768, 768]\n",
      "Loading TF weight bert/encoder/layer_1/attention/self/key/kernel/adam_v with shape [768, 768]\n",
      "Loading TF weight bert/encoder/layer_1/attention/self/query/bias with shape [768]\n",
      "Loading TF weight bert/encoder/layer_1/attention/self/query/bias/adam_m with shape [768]\n",
      "Loading TF weight bert/encoder/layer_1/attention/self/query/bias/adam_v with shape [768]\n",
      "Loading TF weight bert/encoder/layer_1/attention/self/query/kernel with shape [768, 768]\n",
      "Loading TF weight bert/encoder/layer_1/attention/self/query/kernel/adam_m with shape [768, 768]\n",
      "Loading TF weight bert/encoder/layer_1/attention/self/query/kernel/adam_v with shape [768, 768]\n",
      "Loading TF weight bert/encoder/layer_1/attention/self/value/bias with shape [768]\n",
      "Loading TF weight bert/encoder/layer_1/attention/self/value/bias/adam_m with shape [768]\n",
      "Loading TF weight bert/encoder/layer_1/attention/self/value/bias/adam_v with shape [768]\n",
      "Loading TF weight bert/encoder/layer_1/attention/self/value/kernel with shape [768, 768]\n",
      "Loading TF weight bert/encoder/layer_1/attention/self/value/kernel/adam_m with shape [768, 768]\n",
      "Loading TF weight bert/encoder/layer_1/attention/self/value/kernel/adam_v with shape [768, 768]\n",
      "Loading TF weight bert/encoder/layer_1/intermediate/dense/bias with shape [3072]\n",
      "Loading TF weight bert/encoder/layer_1/intermediate/dense/bias/adam_m with shape [3072]\n",
      "Loading TF weight bert/encoder/layer_1/intermediate/dense/bias/adam_v with shape [3072]\n",
      "Loading TF weight bert/encoder/layer_1/intermediate/dense/kernel with shape [768, 3072]\n",
      "Loading TF weight bert/encoder/layer_1/intermediate/dense/kernel/adam_m with shape [768, 3072]\n",
      "Loading TF weight bert/encoder/layer_1/intermediate/dense/kernel/adam_v with shape [768, 3072]\n",
      "Loading TF weight bert/encoder/layer_1/output/LayerNorm/beta with shape [768]\n",
      "Loading TF weight bert/encoder/layer_1/output/LayerNorm/beta/adam_m with shape [768]\n",
      "Loading TF weight bert/encoder/layer_1/output/LayerNorm/beta/adam_v with shape [768]\n",
      "Loading TF weight bert/encoder/layer_1/output/LayerNorm/gamma with shape [768]\n",
      "Loading TF weight bert/encoder/layer_1/output/LayerNorm/gamma/adam_m with shape [768]\n",
      "Loading TF weight bert/encoder/layer_1/output/LayerNorm/gamma/adam_v with shape [768]\n",
      "Loading TF weight bert/encoder/layer_1/output/dense/bias with shape [768]\n",
      "Loading TF weight bert/encoder/layer_1/output/dense/bias/adam_m with shape [768]\n",
      "Loading TF weight bert/encoder/layer_1/output/dense/bias/adam_v with shape [768]\n",
      "Loading TF weight bert/encoder/layer_1/output/dense/kernel with shape [3072, 768]\n",
      "Loading TF weight bert/encoder/layer_1/output/dense/kernel/adam_m with shape [3072, 768]\n",
      "Loading TF weight bert/encoder/layer_1/output/dense/kernel/adam_v with shape [3072, 768]\n"
     ]
    },
    {
     "name": "stdout",
     "output_type": "stream",
     "text": [
      "Loading TF weight bert/encoder/layer_10/attention/output/LayerNorm/beta with shape [768]\n",
      "Loading TF weight bert/encoder/layer_10/attention/output/LayerNorm/beta/adam_m with shape [768]\n",
      "Loading TF weight bert/encoder/layer_10/attention/output/LayerNorm/beta/adam_v with shape [768]\n",
      "Loading TF weight bert/encoder/layer_10/attention/output/LayerNorm/gamma with shape [768]\n",
      "Loading TF weight bert/encoder/layer_10/attention/output/LayerNorm/gamma/adam_m with shape [768]\n",
      "Loading TF weight bert/encoder/layer_10/attention/output/LayerNorm/gamma/adam_v with shape [768]\n",
      "Loading TF weight bert/encoder/layer_10/attention/output/dense/bias with shape [768]\n",
      "Loading TF weight bert/encoder/layer_10/attention/output/dense/bias/adam_m with shape [768]\n",
      "Loading TF weight bert/encoder/layer_10/attention/output/dense/bias/adam_v with shape [768]\n",
      "Loading TF weight bert/encoder/layer_10/attention/output/dense/kernel with shape [768, 768]\n",
      "Loading TF weight bert/encoder/layer_10/attention/output/dense/kernel/adam_m with shape [768, 768]\n",
      "Loading TF weight bert/encoder/layer_10/attention/output/dense/kernel/adam_v with shape [768, 768]\n",
      "Loading TF weight bert/encoder/layer_10/attention/self/key/bias with shape [768]\n",
      "Loading TF weight bert/encoder/layer_10/attention/self/key/bias/adam_m with shape [768]\n",
      "Loading TF weight bert/encoder/layer_10/attention/self/key/bias/adam_v with shape [768]\n",
      "Loading TF weight bert/encoder/layer_10/attention/self/key/kernel with shape [768, 768]\n",
      "Loading TF weight bert/encoder/layer_10/attention/self/key/kernel/adam_m with shape [768, 768]\n",
      "Loading TF weight bert/encoder/layer_10/attention/self/key/kernel/adam_v with shape [768, 768]\n",
      "Loading TF weight bert/encoder/layer_10/attention/self/query/bias with shape [768]\n",
      "Loading TF weight bert/encoder/layer_10/attention/self/query/bias/adam_m with shape [768]\n",
      "Loading TF weight bert/encoder/layer_10/attention/self/query/bias/adam_v with shape [768]\n",
      "Loading TF weight bert/encoder/layer_10/attention/self/query/kernel with shape [768, 768]\n",
      "Loading TF weight bert/encoder/layer_10/attention/self/query/kernel/adam_m with shape [768, 768]\n",
      "Loading TF weight bert/encoder/layer_10/attention/self/query/kernel/adam_v with shape [768, 768]\n",
      "Loading TF weight bert/encoder/layer_10/attention/self/value/bias with shape [768]\n",
      "Loading TF weight bert/encoder/layer_10/attention/self/value/bias/adam_m with shape [768]\n",
      "Loading TF weight bert/encoder/layer_10/attention/self/value/bias/adam_v with shape [768]\n",
      "Loading TF weight bert/encoder/layer_10/attention/self/value/kernel with shape [768, 768]\n",
      "Loading TF weight bert/encoder/layer_10/attention/self/value/kernel/adam_m with shape [768, 768]\n",
      "Loading TF weight bert/encoder/layer_10/attention/self/value/kernel/adam_v with shape [768, 768]\n",
      "Loading TF weight bert/encoder/layer_10/intermediate/dense/bias with shape [3072]\n",
      "Loading TF weight bert/encoder/layer_10/intermediate/dense/bias/adam_m with shape [3072]\n",
      "Loading TF weight bert/encoder/layer_10/intermediate/dense/bias/adam_v with shape [3072]\n",
      "Loading TF weight bert/encoder/layer_10/intermediate/dense/kernel with shape [768, 3072]\n",
      "Loading TF weight bert/encoder/layer_10/intermediate/dense/kernel/adam_m with shape [768, 3072]\n",
      "Loading TF weight bert/encoder/layer_10/intermediate/dense/kernel/adam_v with shape [768, 3072]\n",
      "Loading TF weight bert/encoder/layer_10/output/LayerNorm/beta with shape [768]\n",
      "Loading TF weight bert/encoder/layer_10/output/LayerNorm/beta/adam_m with shape [768]\n",
      "Loading TF weight bert/encoder/layer_10/output/LayerNorm/beta/adam_v with shape [768]\n",
      "Loading TF weight bert/encoder/layer_10/output/LayerNorm/gamma with shape [768]\n",
      "Loading TF weight bert/encoder/layer_10/output/LayerNorm/gamma/adam_m with shape [768]\n",
      "Loading TF weight bert/encoder/layer_10/output/LayerNorm/gamma/adam_v with shape [768]\n",
      "Loading TF weight bert/encoder/layer_10/output/dense/bias with shape [768]\n",
      "Loading TF weight bert/encoder/layer_10/output/dense/bias/adam_m with shape [768]\n",
      "Loading TF weight bert/encoder/layer_10/output/dense/bias/adam_v with shape [768]\n",
      "Loading TF weight bert/encoder/layer_10/output/dense/kernel with shape [3072, 768]\n",
      "Loading TF weight bert/encoder/layer_10/output/dense/kernel/adam_m with shape [3072, 768]\n",
      "Loading TF weight bert/encoder/layer_10/output/dense/kernel/adam_v with shape [3072, 768]\n",
      "Loading TF weight bert/encoder/layer_11/attention/output/LayerNorm/beta with shape [768]\n",
      "Loading TF weight bert/encoder/layer_11/attention/output/LayerNorm/beta/adam_m with shape [768]\n",
      "Loading TF weight bert/encoder/layer_11/attention/output/LayerNorm/beta/adam_v with shape [768]\n",
      "Loading TF weight bert/encoder/layer_11/attention/output/LayerNorm/gamma with shape [768]\n",
      "Loading TF weight bert/encoder/layer_11/attention/output/LayerNorm/gamma/adam_m with shape [768]\n",
      "Loading TF weight bert/encoder/layer_11/attention/output/LayerNorm/gamma/adam_v with shape [768]\n",
      "Loading TF weight bert/encoder/layer_11/attention/output/dense/bias with shape [768]\n",
      "Loading TF weight bert/encoder/layer_11/attention/output/dense/bias/adam_m with shape [768]\n",
      "Loading TF weight bert/encoder/layer_11/attention/output/dense/bias/adam_v with shape [768]\n",
      "Loading TF weight bert/encoder/layer_11/attention/output/dense/kernel with shape [768, 768]\n",
      "Loading TF weight bert/encoder/layer_11/attention/output/dense/kernel/adam_m with shape [768, 768]\n",
      "Loading TF weight bert/encoder/layer_11/attention/output/dense/kernel/adam_v with shape [768, 768]\n",
      "Loading TF weight bert/encoder/layer_11/attention/self/key/bias with shape [768]\n",
      "Loading TF weight bert/encoder/layer_11/attention/self/key/bias/adam_m with shape [768]\n",
      "Loading TF weight bert/encoder/layer_11/attention/self/key/bias/adam_v with shape [768]\n",
      "Loading TF weight bert/encoder/layer_11/attention/self/key/kernel with shape [768, 768]\n",
      "Loading TF weight bert/encoder/layer_11/attention/self/key/kernel/adam_m with shape [768, 768]\n",
      "Loading TF weight bert/encoder/layer_11/attention/self/key/kernel/adam_v with shape [768, 768]\n",
      "Loading TF weight bert/encoder/layer_11/attention/self/query/bias with shape [768]\n",
      "Loading TF weight bert/encoder/layer_11/attention/self/query/bias/adam_m with shape [768]\n",
      "Loading TF weight bert/encoder/layer_11/attention/self/query/bias/adam_v with shape [768]\n",
      "Loading TF weight bert/encoder/layer_11/attention/self/query/kernel with shape [768, 768]\n",
      "Loading TF weight bert/encoder/layer_11/attention/self/query/kernel/adam_m with shape [768, 768]\n",
      "Loading TF weight bert/encoder/layer_11/attention/self/query/kernel/adam_v with shape [768, 768]\n",
      "Loading TF weight bert/encoder/layer_11/attention/self/value/bias with shape [768]\n",
      "Loading TF weight bert/encoder/layer_11/attention/self/value/bias/adam_m with shape [768]\n",
      "Loading TF weight bert/encoder/layer_11/attention/self/value/bias/adam_v with shape [768]\n",
      "Loading TF weight bert/encoder/layer_11/attention/self/value/kernel with shape [768, 768]\n",
      "Loading TF weight bert/encoder/layer_11/attention/self/value/kernel/adam_m with shape [768, 768]\n",
      "Loading TF weight bert/encoder/layer_11/attention/self/value/kernel/adam_v with shape [768, 768]\n",
      "Loading TF weight bert/encoder/layer_11/intermediate/dense/bias with shape [3072]\n",
      "Loading TF weight bert/encoder/layer_11/intermediate/dense/bias/adam_m with shape [3072]\n",
      "Loading TF weight bert/encoder/layer_11/intermediate/dense/bias/adam_v with shape [3072]\n",
      "Loading TF weight bert/encoder/layer_11/intermediate/dense/kernel with shape [768, 3072]\n",
      "Loading TF weight bert/encoder/layer_11/intermediate/dense/kernel/adam_m with shape [768, 3072]\n",
      "Loading TF weight bert/encoder/layer_11/intermediate/dense/kernel/adam_v with shape [768, 3072]\n",
      "Loading TF weight bert/encoder/layer_11/output/LayerNorm/beta with shape [768]\n",
      "Loading TF weight bert/encoder/layer_11/output/LayerNorm/beta/adam_m with shape [768]\n",
      "Loading TF weight bert/encoder/layer_11/output/LayerNorm/beta/adam_v with shape [768]\n",
      "Loading TF weight bert/encoder/layer_11/output/LayerNorm/gamma with shape [768]\n",
      "Loading TF weight bert/encoder/layer_11/output/LayerNorm/gamma/adam_m with shape [768]\n",
      "Loading TF weight bert/encoder/layer_11/output/LayerNorm/gamma/adam_v with shape [768]\n",
      "Loading TF weight bert/encoder/layer_11/output/dense/bias with shape [768]\n",
      "Loading TF weight bert/encoder/layer_11/output/dense/bias/adam_m with shape [768]\n",
      "Loading TF weight bert/encoder/layer_11/output/dense/bias/adam_v with shape [768]\n",
      "Loading TF weight bert/encoder/layer_11/output/dense/kernel with shape [3072, 768]\n",
      "Loading TF weight bert/encoder/layer_11/output/dense/kernel/adam_m with shape [3072, 768]\n"
     ]
    },
    {
     "name": "stdout",
     "output_type": "stream",
     "text": [
      "Loading TF weight bert/encoder/layer_11/output/dense/kernel/adam_v with shape [3072, 768]\n",
      "Loading TF weight bert/encoder/layer_2/attention/output/LayerNorm/beta with shape [768]\n",
      "Loading TF weight bert/encoder/layer_2/attention/output/LayerNorm/beta/adam_m with shape [768]\n",
      "Loading TF weight bert/encoder/layer_2/attention/output/LayerNorm/beta/adam_v with shape [768]\n",
      "Loading TF weight bert/encoder/layer_2/attention/output/LayerNorm/gamma with shape [768]\n",
      "Loading TF weight bert/encoder/layer_2/attention/output/LayerNorm/gamma/adam_m with shape [768]\n",
      "Loading TF weight bert/encoder/layer_2/attention/output/LayerNorm/gamma/adam_v with shape [768]\n",
      "Loading TF weight bert/encoder/layer_2/attention/output/dense/bias with shape [768]\n",
      "Loading TF weight bert/encoder/layer_2/attention/output/dense/bias/adam_m with shape [768]\n",
      "Loading TF weight bert/encoder/layer_2/attention/output/dense/bias/adam_v with shape [768]\n",
      "Loading TF weight bert/encoder/layer_2/attention/output/dense/kernel with shape [768, 768]\n",
      "Loading TF weight bert/encoder/layer_2/attention/output/dense/kernel/adam_m with shape [768, 768]\n",
      "Loading TF weight bert/encoder/layer_2/attention/output/dense/kernel/adam_v with shape [768, 768]\n",
      "Loading TF weight bert/encoder/layer_2/attention/self/key/bias with shape [768]\n",
      "Loading TF weight bert/encoder/layer_2/attention/self/key/bias/adam_m with shape [768]\n",
      "Loading TF weight bert/encoder/layer_2/attention/self/key/bias/adam_v with shape [768]\n",
      "Loading TF weight bert/encoder/layer_2/attention/self/key/kernel with shape [768, 768]\n",
      "Loading TF weight bert/encoder/layer_2/attention/self/key/kernel/adam_m with shape [768, 768]\n",
      "Loading TF weight bert/encoder/layer_2/attention/self/key/kernel/adam_v with shape [768, 768]\n",
      "Loading TF weight bert/encoder/layer_2/attention/self/query/bias with shape [768]\n",
      "Loading TF weight bert/encoder/layer_2/attention/self/query/bias/adam_m with shape [768]\n",
      "Loading TF weight bert/encoder/layer_2/attention/self/query/bias/adam_v with shape [768]\n",
      "Loading TF weight bert/encoder/layer_2/attention/self/query/kernel with shape [768, 768]\n",
      "Loading TF weight bert/encoder/layer_2/attention/self/query/kernel/adam_m with shape [768, 768]\n",
      "Loading TF weight bert/encoder/layer_2/attention/self/query/kernel/adam_v with shape [768, 768]\n",
      "Loading TF weight bert/encoder/layer_2/attention/self/value/bias with shape [768]\n",
      "Loading TF weight bert/encoder/layer_2/attention/self/value/bias/adam_m with shape [768]\n",
      "Loading TF weight bert/encoder/layer_2/attention/self/value/bias/adam_v with shape [768]\n",
      "Loading TF weight bert/encoder/layer_2/attention/self/value/kernel with shape [768, 768]\n",
      "Loading TF weight bert/encoder/layer_2/attention/self/value/kernel/adam_m with shape [768, 768]\n",
      "Loading TF weight bert/encoder/layer_2/attention/self/value/kernel/adam_v with shape [768, 768]\n",
      "Loading TF weight bert/encoder/layer_2/intermediate/dense/bias with shape [3072]\n",
      "Loading TF weight bert/encoder/layer_2/intermediate/dense/bias/adam_m with shape [3072]\n",
      "Loading TF weight bert/encoder/layer_2/intermediate/dense/bias/adam_v with shape [3072]\n",
      "Loading TF weight bert/encoder/layer_2/intermediate/dense/kernel with shape [768, 3072]\n",
      "Loading TF weight bert/encoder/layer_2/intermediate/dense/kernel/adam_m with shape [768, 3072]\n",
      "Loading TF weight bert/encoder/layer_2/intermediate/dense/kernel/adam_v with shape [768, 3072]\n",
      "Loading TF weight bert/encoder/layer_2/output/LayerNorm/beta with shape [768]\n",
      "Loading TF weight bert/encoder/layer_2/output/LayerNorm/beta/adam_m with shape [768]\n",
      "Loading TF weight bert/encoder/layer_2/output/LayerNorm/beta/adam_v with shape [768]\n",
      "Loading TF weight bert/encoder/layer_2/output/LayerNorm/gamma with shape [768]\n",
      "Loading TF weight bert/encoder/layer_2/output/LayerNorm/gamma/adam_m with shape [768]\n",
      "Loading TF weight bert/encoder/layer_2/output/LayerNorm/gamma/adam_v with shape [768]\n",
      "Loading TF weight bert/encoder/layer_2/output/dense/bias with shape [768]\n",
      "Loading TF weight bert/encoder/layer_2/output/dense/bias/adam_m with shape [768]\n",
      "Loading TF weight bert/encoder/layer_2/output/dense/bias/adam_v with shape [768]\n",
      "Loading TF weight bert/encoder/layer_2/output/dense/kernel with shape [3072, 768]\n",
      "Loading TF weight bert/encoder/layer_2/output/dense/kernel/adam_m with shape [3072, 768]\n",
      "Loading TF weight bert/encoder/layer_2/output/dense/kernel/adam_v with shape [3072, 768]\n",
      "Loading TF weight bert/encoder/layer_3/attention/output/LayerNorm/beta with shape [768]\n",
      "Loading TF weight bert/encoder/layer_3/attention/output/LayerNorm/beta/adam_m with shape [768]\n",
      "Loading TF weight bert/encoder/layer_3/attention/output/LayerNorm/beta/adam_v with shape [768]\n",
      "Loading TF weight bert/encoder/layer_3/attention/output/LayerNorm/gamma with shape [768]\n",
      "Loading TF weight bert/encoder/layer_3/attention/output/LayerNorm/gamma/adam_m with shape [768]\n",
      "Loading TF weight bert/encoder/layer_3/attention/output/LayerNorm/gamma/adam_v with shape [768]\n",
      "Loading TF weight bert/encoder/layer_3/attention/output/dense/bias with shape [768]\n",
      "Loading TF weight bert/encoder/layer_3/attention/output/dense/bias/adam_m with shape [768]\n",
      "Loading TF weight bert/encoder/layer_3/attention/output/dense/bias/adam_v with shape [768]\n",
      "Loading TF weight bert/encoder/layer_3/attention/output/dense/kernel with shape [768, 768]\n",
      "Loading TF weight bert/encoder/layer_3/attention/output/dense/kernel/adam_m with shape [768, 768]\n",
      "Loading TF weight bert/encoder/layer_3/attention/output/dense/kernel/adam_v with shape [768, 768]\n",
      "Loading TF weight bert/encoder/layer_3/attention/self/key/bias with shape [768]\n",
      "Loading TF weight bert/encoder/layer_3/attention/self/key/bias/adam_m with shape [768]\n",
      "Loading TF weight bert/encoder/layer_3/attention/self/key/bias/adam_v with shape [768]\n",
      "Loading TF weight bert/encoder/layer_3/attention/self/key/kernel with shape [768, 768]\n",
      "Loading TF weight bert/encoder/layer_3/attention/self/key/kernel/adam_m with shape [768, 768]\n",
      "Loading TF weight bert/encoder/layer_3/attention/self/key/kernel/adam_v with shape [768, 768]\n",
      "Loading TF weight bert/encoder/layer_3/attention/self/query/bias with shape [768]\n",
      "Loading TF weight bert/encoder/layer_3/attention/self/query/bias/adam_m with shape [768]\n",
      "Loading TF weight bert/encoder/layer_3/attention/self/query/bias/adam_v with shape [768]\n",
      "Loading TF weight bert/encoder/layer_3/attention/self/query/kernel with shape [768, 768]\n",
      "Loading TF weight bert/encoder/layer_3/attention/self/query/kernel/adam_m with shape [768, 768]\n",
      "Loading TF weight bert/encoder/layer_3/attention/self/query/kernel/adam_v with shape [768, 768]\n",
      "Loading TF weight bert/encoder/layer_3/attention/self/value/bias with shape [768]\n",
      "Loading TF weight bert/encoder/layer_3/attention/self/value/bias/adam_m with shape [768]\n",
      "Loading TF weight bert/encoder/layer_3/attention/self/value/bias/adam_v with shape [768]\n",
      "Loading TF weight bert/encoder/layer_3/attention/self/value/kernel with shape [768, 768]\n",
      "Loading TF weight bert/encoder/layer_3/attention/self/value/kernel/adam_m with shape [768, 768]\n",
      "Loading TF weight bert/encoder/layer_3/attention/self/value/kernel/adam_v with shape [768, 768]\n",
      "Loading TF weight bert/encoder/layer_3/intermediate/dense/bias with shape [3072]\n",
      "Loading TF weight bert/encoder/layer_3/intermediate/dense/bias/adam_m with shape [3072]\n",
      "Loading TF weight bert/encoder/layer_3/intermediate/dense/bias/adam_v with shape [3072]\n",
      "Loading TF weight bert/encoder/layer_3/intermediate/dense/kernel with shape [768, 3072]\n",
      "Loading TF weight bert/encoder/layer_3/intermediate/dense/kernel/adam_m with shape [768, 3072]\n",
      "Loading TF weight bert/encoder/layer_3/intermediate/dense/kernel/adam_v with shape [768, 3072]\n",
      "Loading TF weight bert/encoder/layer_3/output/LayerNorm/beta with shape [768]\n",
      "Loading TF weight bert/encoder/layer_3/output/LayerNorm/beta/adam_m with shape [768]\n",
      "Loading TF weight bert/encoder/layer_3/output/LayerNorm/beta/adam_v with shape [768]\n",
      "Loading TF weight bert/encoder/layer_3/output/LayerNorm/gamma with shape [768]\n",
      "Loading TF weight bert/encoder/layer_3/output/LayerNorm/gamma/adam_m with shape [768]\n",
      "Loading TF weight bert/encoder/layer_3/output/LayerNorm/gamma/adam_v with shape [768]\n",
      "Loading TF weight bert/encoder/layer_3/output/dense/bias with shape [768]\n",
      "Loading TF weight bert/encoder/layer_3/output/dense/bias/adam_m with shape [768]\n",
      "Loading TF weight bert/encoder/layer_3/output/dense/bias/adam_v with shape [768]\n",
      "Loading TF weight bert/encoder/layer_3/output/dense/kernel with shape [3072, 768]\n",
      "Loading TF weight bert/encoder/layer_3/output/dense/kernel/adam_m with shape [3072, 768]\n",
      "Loading TF weight bert/encoder/layer_3/output/dense/kernel/adam_v with shape [3072, 768]\n",
      "Loading TF weight bert/encoder/layer_4/attention/output/LayerNorm/beta with shape [768]\n",
      "Loading TF weight bert/encoder/layer_4/attention/output/LayerNorm/beta/adam_m with shape [768]\n",
      "Loading TF weight bert/encoder/layer_4/attention/output/LayerNorm/beta/adam_v with shape [768]\n",
      "Loading TF weight bert/encoder/layer_4/attention/output/LayerNorm/gamma with shape [768]\n",
      "Loading TF weight bert/encoder/layer_4/attention/output/LayerNorm/gamma/adam_m with shape [768]\n",
      "Loading TF weight bert/encoder/layer_4/attention/output/LayerNorm/gamma/adam_v with shape [768]\n",
      "Loading TF weight bert/encoder/layer_4/attention/output/dense/bias with shape [768]\n",
      "Loading TF weight bert/encoder/layer_4/attention/output/dense/bias/adam_m with shape [768]\n",
      "Loading TF weight bert/encoder/layer_4/attention/output/dense/bias/adam_v with shape [768]\n",
      "Loading TF weight bert/encoder/layer_4/attention/output/dense/kernel with shape [768, 768]\n",
      "Loading TF weight bert/encoder/layer_4/attention/output/dense/kernel/adam_m with shape [768, 768]\n",
      "Loading TF weight bert/encoder/layer_4/attention/output/dense/kernel/adam_v with shape [768, 768]\n",
      "Loading TF weight bert/encoder/layer_4/attention/self/key/bias with shape [768]\n",
      "Loading TF weight bert/encoder/layer_4/attention/self/key/bias/adam_m with shape [768]\n",
      "Loading TF weight bert/encoder/layer_4/attention/self/key/bias/adam_v with shape [768]\n",
      "Loading TF weight bert/encoder/layer_4/attention/self/key/kernel with shape [768, 768]\n",
      "Loading TF weight bert/encoder/layer_4/attention/self/key/kernel/adam_m with shape [768, 768]\n",
      "Loading TF weight bert/encoder/layer_4/attention/self/key/kernel/adam_v with shape [768, 768]\n",
      "Loading TF weight bert/encoder/layer_4/attention/self/query/bias with shape [768]\n",
      "Loading TF weight bert/encoder/layer_4/attention/self/query/bias/adam_m with shape [768]\n",
      "Loading TF weight bert/encoder/layer_4/attention/self/query/bias/adam_v with shape [768]\n",
      "Loading TF weight bert/encoder/layer_4/attention/self/query/kernel with shape [768, 768]\n",
      "Loading TF weight bert/encoder/layer_4/attention/self/query/kernel/adam_m with shape [768, 768]\n"
     ]
    },
    {
     "name": "stdout",
     "output_type": "stream",
     "text": [
      "Loading TF weight bert/encoder/layer_4/attention/self/query/kernel/adam_v with shape [768, 768]\n",
      "Loading TF weight bert/encoder/layer_4/attention/self/value/bias with shape [768]\n",
      "Loading TF weight bert/encoder/layer_4/attention/self/value/bias/adam_m with shape [768]\n",
      "Loading TF weight bert/encoder/layer_4/attention/self/value/bias/adam_v with shape [768]\n",
      "Loading TF weight bert/encoder/layer_4/attention/self/value/kernel with shape [768, 768]\n",
      "Loading TF weight bert/encoder/layer_4/attention/self/value/kernel/adam_m with shape [768, 768]\n",
      "Loading TF weight bert/encoder/layer_4/attention/self/value/kernel/adam_v with shape [768, 768]\n",
      "Loading TF weight bert/encoder/layer_4/intermediate/dense/bias with shape [3072]\n",
      "Loading TF weight bert/encoder/layer_4/intermediate/dense/bias/adam_m with shape [3072]\n",
      "Loading TF weight bert/encoder/layer_4/intermediate/dense/bias/adam_v with shape [3072]\n",
      "Loading TF weight bert/encoder/layer_4/intermediate/dense/kernel with shape [768, 3072]\n",
      "Loading TF weight bert/encoder/layer_4/intermediate/dense/kernel/adam_m with shape [768, 3072]\n",
      "Loading TF weight bert/encoder/layer_4/intermediate/dense/kernel/adam_v with shape [768, 3072]\n",
      "Loading TF weight bert/encoder/layer_4/output/LayerNorm/beta with shape [768]\n",
      "Loading TF weight bert/encoder/layer_4/output/LayerNorm/beta/adam_m with shape [768]\n",
      "Loading TF weight bert/encoder/layer_4/output/LayerNorm/beta/adam_v with shape [768]\n",
      "Loading TF weight bert/encoder/layer_4/output/LayerNorm/gamma with shape [768]\n",
      "Loading TF weight bert/encoder/layer_4/output/LayerNorm/gamma/adam_m with shape [768]\n",
      "Loading TF weight bert/encoder/layer_4/output/LayerNorm/gamma/adam_v with shape [768]\n",
      "Loading TF weight bert/encoder/layer_4/output/dense/bias with shape [768]\n",
      "Loading TF weight bert/encoder/layer_4/output/dense/bias/adam_m with shape [768]\n",
      "Loading TF weight bert/encoder/layer_4/output/dense/bias/adam_v with shape [768]\n",
      "Loading TF weight bert/encoder/layer_4/output/dense/kernel with shape [3072, 768]\n",
      "Loading TF weight bert/encoder/layer_4/output/dense/kernel/adam_m with shape [3072, 768]\n",
      "Loading TF weight bert/encoder/layer_4/output/dense/kernel/adam_v with shape [3072, 768]\n",
      "Loading TF weight bert/encoder/layer_5/attention/output/LayerNorm/beta with shape [768]\n",
      "Loading TF weight bert/encoder/layer_5/attention/output/LayerNorm/beta/adam_m with shape [768]\n",
      "Loading TF weight bert/encoder/layer_5/attention/output/LayerNorm/beta/adam_v with shape [768]\n",
      "Loading TF weight bert/encoder/layer_5/attention/output/LayerNorm/gamma with shape [768]\n",
      "Loading TF weight bert/encoder/layer_5/attention/output/LayerNorm/gamma/adam_m with shape [768]\n",
      "Loading TF weight bert/encoder/layer_5/attention/output/LayerNorm/gamma/adam_v with shape [768]\n",
      "Loading TF weight bert/encoder/layer_5/attention/output/dense/bias with shape [768]\n",
      "Loading TF weight bert/encoder/layer_5/attention/output/dense/bias/adam_m with shape [768]\n",
      "Loading TF weight bert/encoder/layer_5/attention/output/dense/bias/adam_v with shape [768]\n",
      "Loading TF weight bert/encoder/layer_5/attention/output/dense/kernel with shape [768, 768]\n",
      "Loading TF weight bert/encoder/layer_5/attention/output/dense/kernel/adam_m with shape [768, 768]\n",
      "Loading TF weight bert/encoder/layer_5/attention/output/dense/kernel/adam_v with shape [768, 768]\n",
      "Loading TF weight bert/encoder/layer_5/attention/self/key/bias with shape [768]\n",
      "Loading TF weight bert/encoder/layer_5/attention/self/key/bias/adam_m with shape [768]\n",
      "Loading TF weight bert/encoder/layer_5/attention/self/key/bias/adam_v with shape [768]\n",
      "Loading TF weight bert/encoder/layer_5/attention/self/key/kernel with shape [768, 768]\n",
      "Loading TF weight bert/encoder/layer_5/attention/self/key/kernel/adam_m with shape [768, 768]\n",
      "Loading TF weight bert/encoder/layer_5/attention/self/key/kernel/adam_v with shape [768, 768]\n",
      "Loading TF weight bert/encoder/layer_5/attention/self/query/bias with shape [768]\n",
      "Loading TF weight bert/encoder/layer_5/attention/self/query/bias/adam_m with shape [768]\n",
      "Loading TF weight bert/encoder/layer_5/attention/self/query/bias/adam_v with shape [768]\n",
      "Loading TF weight bert/encoder/layer_5/attention/self/query/kernel with shape [768, 768]\n",
      "Loading TF weight bert/encoder/layer_5/attention/self/query/kernel/adam_m with shape [768, 768]\n",
      "Loading TF weight bert/encoder/layer_5/attention/self/query/kernel/adam_v with shape [768, 768]\n",
      "Loading TF weight bert/encoder/layer_5/attention/self/value/bias with shape [768]\n",
      "Loading TF weight bert/encoder/layer_5/attention/self/value/bias/adam_m with shape [768]\n",
      "Loading TF weight bert/encoder/layer_5/attention/self/value/bias/adam_v with shape [768]\n",
      "Loading TF weight bert/encoder/layer_5/attention/self/value/kernel with shape [768, 768]\n",
      "Loading TF weight bert/encoder/layer_5/attention/self/value/kernel/adam_m with shape [768, 768]\n",
      "Loading TF weight bert/encoder/layer_5/attention/self/value/kernel/adam_v with shape [768, 768]\n",
      "Loading TF weight bert/encoder/layer_5/intermediate/dense/bias with shape [3072]\n",
      "Loading TF weight bert/encoder/layer_5/intermediate/dense/bias/adam_m with shape [3072]\n",
      "Loading TF weight bert/encoder/layer_5/intermediate/dense/bias/adam_v with shape [3072]\n",
      "Loading TF weight bert/encoder/layer_5/intermediate/dense/kernel with shape [768, 3072]\n",
      "Loading TF weight bert/encoder/layer_5/intermediate/dense/kernel/adam_m with shape [768, 3072]\n",
      "Loading TF weight bert/encoder/layer_5/intermediate/dense/kernel/adam_v with shape [768, 3072]\n",
      "Loading TF weight bert/encoder/layer_5/output/LayerNorm/beta with shape [768]\n",
      "Loading TF weight bert/encoder/layer_5/output/LayerNorm/beta/adam_m with shape [768]\n",
      "Loading TF weight bert/encoder/layer_5/output/LayerNorm/beta/adam_v with shape [768]\n",
      "Loading TF weight bert/encoder/layer_5/output/LayerNorm/gamma with shape [768]\n",
      "Loading TF weight bert/encoder/layer_5/output/LayerNorm/gamma/adam_m with shape [768]\n",
      "Loading TF weight bert/encoder/layer_5/output/LayerNorm/gamma/adam_v with shape [768]\n",
      "Loading TF weight bert/encoder/layer_5/output/dense/bias with shape [768]\n",
      "Loading TF weight bert/encoder/layer_5/output/dense/bias/adam_m with shape [768]\n",
      "Loading TF weight bert/encoder/layer_5/output/dense/bias/adam_v with shape [768]\n",
      "Loading TF weight bert/encoder/layer_5/output/dense/kernel with shape [3072, 768]\n",
      "Loading TF weight bert/encoder/layer_5/output/dense/kernel/adam_m with shape [3072, 768]\n",
      "Loading TF weight bert/encoder/layer_5/output/dense/kernel/adam_v with shape [3072, 768]\n",
      "Loading TF weight bert/encoder/layer_6/attention/output/LayerNorm/beta with shape [768]\n",
      "Loading TF weight bert/encoder/layer_6/attention/output/LayerNorm/beta/adam_m with shape [768]\n",
      "Loading TF weight bert/encoder/layer_6/attention/output/LayerNorm/beta/adam_v with shape [768]\n",
      "Loading TF weight bert/encoder/layer_6/attention/output/LayerNorm/gamma with shape [768]\n",
      "Loading TF weight bert/encoder/layer_6/attention/output/LayerNorm/gamma/adam_m with shape [768]\n",
      "Loading TF weight bert/encoder/layer_6/attention/output/LayerNorm/gamma/adam_v with shape [768]\n",
      "Loading TF weight bert/encoder/layer_6/attention/output/dense/bias with shape [768]\n",
      "Loading TF weight bert/encoder/layer_6/attention/output/dense/bias/adam_m with shape [768]\n",
      "Loading TF weight bert/encoder/layer_6/attention/output/dense/bias/adam_v with shape [768]\n",
      "Loading TF weight bert/encoder/layer_6/attention/output/dense/kernel with shape [768, 768]\n",
      "Loading TF weight bert/encoder/layer_6/attention/output/dense/kernel/adam_m with shape [768, 768]\n",
      "Loading TF weight bert/encoder/layer_6/attention/output/dense/kernel/adam_v with shape [768, 768]\n",
      "Loading TF weight bert/encoder/layer_6/attention/self/key/bias with shape [768]\n",
      "Loading TF weight bert/encoder/layer_6/attention/self/key/bias/adam_m with shape [768]\n",
      "Loading TF weight bert/encoder/layer_6/attention/self/key/bias/adam_v with shape [768]\n",
      "Loading TF weight bert/encoder/layer_6/attention/self/key/kernel with shape [768, 768]\n",
      "Loading TF weight bert/encoder/layer_6/attention/self/key/kernel/adam_m with shape [768, 768]\n",
      "Loading TF weight bert/encoder/layer_6/attention/self/key/kernel/adam_v with shape [768, 768]\n",
      "Loading TF weight bert/encoder/layer_6/attention/self/query/bias with shape [768]\n",
      "Loading TF weight bert/encoder/layer_6/attention/self/query/bias/adam_m with shape [768]\n",
      "Loading TF weight bert/encoder/layer_6/attention/self/query/bias/adam_v with shape [768]\n",
      "Loading TF weight bert/encoder/layer_6/attention/self/query/kernel with shape [768, 768]\n",
      "Loading TF weight bert/encoder/layer_6/attention/self/query/kernel/adam_m with shape [768, 768]\n",
      "Loading TF weight bert/encoder/layer_6/attention/self/query/kernel/adam_v with shape [768, 768]\n"
     ]
    },
    {
     "name": "stdout",
     "output_type": "stream",
     "text": [
      "Loading TF weight bert/encoder/layer_6/attention/self/value/bias with shape [768]\n",
      "Loading TF weight bert/encoder/layer_6/attention/self/value/bias/adam_m with shape [768]\n",
      "Loading TF weight bert/encoder/layer_6/attention/self/value/bias/adam_v with shape [768]\n",
      "Loading TF weight bert/encoder/layer_6/attention/self/value/kernel with shape [768, 768]\n",
      "Loading TF weight bert/encoder/layer_6/attention/self/value/kernel/adam_m with shape [768, 768]\n",
      "Loading TF weight bert/encoder/layer_6/attention/self/value/kernel/adam_v with shape [768, 768]\n",
      "Loading TF weight bert/encoder/layer_6/intermediate/dense/bias with shape [3072]\n",
      "Loading TF weight bert/encoder/layer_6/intermediate/dense/bias/adam_m with shape [3072]\n",
      "Loading TF weight bert/encoder/layer_6/intermediate/dense/bias/adam_v with shape [3072]\n",
      "Loading TF weight bert/encoder/layer_6/intermediate/dense/kernel with shape [768, 3072]\n",
      "Loading TF weight bert/encoder/layer_6/intermediate/dense/kernel/adam_m with shape [768, 3072]\n",
      "Loading TF weight bert/encoder/layer_6/intermediate/dense/kernel/adam_v with shape [768, 3072]\n",
      "Loading TF weight bert/encoder/layer_6/output/LayerNorm/beta with shape [768]\n",
      "Loading TF weight bert/encoder/layer_6/output/LayerNorm/beta/adam_m with shape [768]\n",
      "Loading TF weight bert/encoder/layer_6/output/LayerNorm/beta/adam_v with shape [768]\n",
      "Loading TF weight bert/encoder/layer_6/output/LayerNorm/gamma with shape [768]\n",
      "Loading TF weight bert/encoder/layer_6/output/LayerNorm/gamma/adam_m with shape [768]\n",
      "Loading TF weight bert/encoder/layer_6/output/LayerNorm/gamma/adam_v with shape [768]\n",
      "Loading TF weight bert/encoder/layer_6/output/dense/bias with shape [768]\n",
      "Loading TF weight bert/encoder/layer_6/output/dense/bias/adam_m with shape [768]\n",
      "Loading TF weight bert/encoder/layer_6/output/dense/bias/adam_v with shape [768]\n",
      "Loading TF weight bert/encoder/layer_6/output/dense/kernel with shape [3072, 768]\n",
      "Loading TF weight bert/encoder/layer_6/output/dense/kernel/adam_m with shape [3072, 768]\n",
      "Loading TF weight bert/encoder/layer_6/output/dense/kernel/adam_v with shape [3072, 768]\n",
      "Loading TF weight bert/encoder/layer_7/attention/output/LayerNorm/beta with shape [768]\n",
      "Loading TF weight bert/encoder/layer_7/attention/output/LayerNorm/beta/adam_m with shape [768]\n",
      "Loading TF weight bert/encoder/layer_7/attention/output/LayerNorm/beta/adam_v with shape [768]\n",
      "Loading TF weight bert/encoder/layer_7/attention/output/LayerNorm/gamma with shape [768]\n",
      "Loading TF weight bert/encoder/layer_7/attention/output/LayerNorm/gamma/adam_m with shape [768]\n",
      "Loading TF weight bert/encoder/layer_7/attention/output/LayerNorm/gamma/adam_v with shape [768]\n",
      "Loading TF weight bert/encoder/layer_7/attention/output/dense/bias with shape [768]\n",
      "Loading TF weight bert/encoder/layer_7/attention/output/dense/bias/adam_m with shape [768]\n",
      "Loading TF weight bert/encoder/layer_7/attention/output/dense/bias/adam_v with shape [768]\n",
      "Loading TF weight bert/encoder/layer_7/attention/output/dense/kernel with shape [768, 768]\n",
      "Loading TF weight bert/encoder/layer_7/attention/output/dense/kernel/adam_m with shape [768, 768]\n",
      "Loading TF weight bert/encoder/layer_7/attention/output/dense/kernel/adam_v with shape [768, 768]\n",
      "Loading TF weight bert/encoder/layer_7/attention/self/key/bias with shape [768]\n",
      "Loading TF weight bert/encoder/layer_7/attention/self/key/bias/adam_m with shape [768]\n",
      "Loading TF weight bert/encoder/layer_7/attention/self/key/bias/adam_v with shape [768]\n",
      "Loading TF weight bert/encoder/layer_7/attention/self/key/kernel with shape [768, 768]\n",
      "Loading TF weight bert/encoder/layer_7/attention/self/key/kernel/adam_m with shape [768, 768]\n",
      "Loading TF weight bert/encoder/layer_7/attention/self/key/kernel/adam_v with shape [768, 768]\n",
      "Loading TF weight bert/encoder/layer_7/attention/self/query/bias with shape [768]\n",
      "Loading TF weight bert/encoder/layer_7/attention/self/query/bias/adam_m with shape [768]\n",
      "Loading TF weight bert/encoder/layer_7/attention/self/query/bias/adam_v with shape [768]\n",
      "Loading TF weight bert/encoder/layer_7/attention/self/query/kernel with shape [768, 768]\n",
      "Loading TF weight bert/encoder/layer_7/attention/self/query/kernel/adam_m with shape [768, 768]\n",
      "Loading TF weight bert/encoder/layer_7/attention/self/query/kernel/adam_v with shape [768, 768]\n",
      "Loading TF weight bert/encoder/layer_7/attention/self/value/bias with shape [768]\n",
      "Loading TF weight bert/encoder/layer_7/attention/self/value/bias/adam_m with shape [768]\n",
      "Loading TF weight bert/encoder/layer_7/attention/self/value/bias/adam_v with shape [768]\n",
      "Loading TF weight bert/encoder/layer_7/attention/self/value/kernel with shape [768, 768]\n",
      "Loading TF weight bert/encoder/layer_7/attention/self/value/kernel/adam_m with shape [768, 768]\n",
      "Loading TF weight bert/encoder/layer_7/attention/self/value/kernel/adam_v with shape [768, 768]\n",
      "Loading TF weight bert/encoder/layer_7/intermediate/dense/bias with shape [3072]\n",
      "Loading TF weight bert/encoder/layer_7/intermediate/dense/bias/adam_m with shape [3072]\n",
      "Loading TF weight bert/encoder/layer_7/intermediate/dense/bias/adam_v with shape [3072]\n",
      "Loading TF weight bert/encoder/layer_7/intermediate/dense/kernel with shape [768, 3072]\n",
      "Loading TF weight bert/encoder/layer_7/intermediate/dense/kernel/adam_m with shape [768, 3072]\n",
      "Loading TF weight bert/encoder/layer_7/intermediate/dense/kernel/adam_v with shape [768, 3072]\n",
      "Loading TF weight bert/encoder/layer_7/output/LayerNorm/beta with shape [768]\n",
      "Loading TF weight bert/encoder/layer_7/output/LayerNorm/beta/adam_m with shape [768]\n",
      "Loading TF weight bert/encoder/layer_7/output/LayerNorm/beta/adam_v with shape [768]\n",
      "Loading TF weight bert/encoder/layer_7/output/LayerNorm/gamma with shape [768]\n",
      "Loading TF weight bert/encoder/layer_7/output/LayerNorm/gamma/adam_m with shape [768]\n",
      "Loading TF weight bert/encoder/layer_7/output/LayerNorm/gamma/adam_v with shape [768]\n",
      "Loading TF weight bert/encoder/layer_7/output/dense/bias with shape [768]\n",
      "Loading TF weight bert/encoder/layer_7/output/dense/bias/adam_m with shape [768]\n",
      "Loading TF weight bert/encoder/layer_7/output/dense/bias/adam_v with shape [768]\n",
      "Loading TF weight bert/encoder/layer_7/output/dense/kernel with shape [3072, 768]\n",
      "Loading TF weight bert/encoder/layer_7/output/dense/kernel/adam_m with shape [3072, 768]\n",
      "Loading TF weight bert/encoder/layer_7/output/dense/kernel/adam_v with shape [3072, 768]\n",
      "Loading TF weight bert/encoder/layer_8/attention/output/LayerNorm/beta with shape [768]\n",
      "Loading TF weight bert/encoder/layer_8/attention/output/LayerNorm/beta/adam_m with shape [768]\n",
      "Loading TF weight bert/encoder/layer_8/attention/output/LayerNorm/beta/adam_v with shape [768]\n",
      "Loading TF weight bert/encoder/layer_8/attention/output/LayerNorm/gamma with shape [768]\n",
      "Loading TF weight bert/encoder/layer_8/attention/output/LayerNorm/gamma/adam_m with shape [768]\n",
      "Loading TF weight bert/encoder/layer_8/attention/output/LayerNorm/gamma/adam_v with shape [768]\n",
      "Loading TF weight bert/encoder/layer_8/attention/output/dense/bias with shape [768]\n",
      "Loading TF weight bert/encoder/layer_8/attention/output/dense/bias/adam_m with shape [768]\n",
      "Loading TF weight bert/encoder/layer_8/attention/output/dense/bias/adam_v with shape [768]\n",
      "Loading TF weight bert/encoder/layer_8/attention/output/dense/kernel with shape [768, 768]\n",
      "Loading TF weight bert/encoder/layer_8/attention/output/dense/kernel/adam_m with shape [768, 768]\n",
      "Loading TF weight bert/encoder/layer_8/attention/output/dense/kernel/adam_v with shape [768, 768]\n",
      "Loading TF weight bert/encoder/layer_8/attention/self/key/bias with shape [768]\n",
      "Loading TF weight bert/encoder/layer_8/attention/self/key/bias/adam_m with shape [768]\n",
      "Loading TF weight bert/encoder/layer_8/attention/self/key/bias/adam_v with shape [768]\n",
      "Loading TF weight bert/encoder/layer_8/attention/self/key/kernel with shape [768, 768]\n",
      "Loading TF weight bert/encoder/layer_8/attention/self/key/kernel/adam_m with shape [768, 768]\n",
      "Loading TF weight bert/encoder/layer_8/attention/self/key/kernel/adam_v with shape [768, 768]\n",
      "Loading TF weight bert/encoder/layer_8/attention/self/query/bias with shape [768]\n",
      "Loading TF weight bert/encoder/layer_8/attention/self/query/bias/adam_m with shape [768]\n",
      "Loading TF weight bert/encoder/layer_8/attention/self/query/bias/adam_v with shape [768]\n",
      "Loading TF weight bert/encoder/layer_8/attention/self/query/kernel with shape [768, 768]\n",
      "Loading TF weight bert/encoder/layer_8/attention/self/query/kernel/adam_m with shape [768, 768]\n",
      "Loading TF weight bert/encoder/layer_8/attention/self/query/kernel/adam_v with shape [768, 768]\n",
      "Loading TF weight bert/encoder/layer_8/attention/self/value/bias with shape [768]\n",
      "Loading TF weight bert/encoder/layer_8/attention/self/value/bias/adam_m with shape [768]\n",
      "Loading TF weight bert/encoder/layer_8/attention/self/value/bias/adam_v with shape [768]\n",
      "Loading TF weight bert/encoder/layer_8/attention/self/value/kernel with shape [768, 768]\n",
      "Loading TF weight bert/encoder/layer_8/attention/self/value/kernel/adam_m with shape [768, 768]\n",
      "Loading TF weight bert/encoder/layer_8/attention/self/value/kernel/adam_v with shape [768, 768]\n",
      "Loading TF weight bert/encoder/layer_8/intermediate/dense/bias with shape [3072]\n",
      "Loading TF weight bert/encoder/layer_8/intermediate/dense/bias/adam_m with shape [3072]\n",
      "Loading TF weight bert/encoder/layer_8/intermediate/dense/bias/adam_v with shape [3072]\n",
      "Loading TF weight bert/encoder/layer_8/intermediate/dense/kernel with shape [768, 3072]\n",
      "Loading TF weight bert/encoder/layer_8/intermediate/dense/kernel/adam_m with shape [768, 3072]\n",
      "Loading TF weight bert/encoder/layer_8/intermediate/dense/kernel/adam_v with shape [768, 3072]\n",
      "Loading TF weight bert/encoder/layer_8/output/LayerNorm/beta with shape [768]\n",
      "Loading TF weight bert/encoder/layer_8/output/LayerNorm/beta/adam_m with shape [768]\n",
      "Loading TF weight bert/encoder/layer_8/output/LayerNorm/beta/adam_v with shape [768]\n",
      "Loading TF weight bert/encoder/layer_8/output/LayerNorm/gamma with shape [768]\n",
      "Loading TF weight bert/encoder/layer_8/output/LayerNorm/gamma/adam_m with shape [768]\n",
      "Loading TF weight bert/encoder/layer_8/output/LayerNorm/gamma/adam_v with shape [768]\n",
      "Loading TF weight bert/encoder/layer_8/output/dense/bias with shape [768]\n",
      "Loading TF weight bert/encoder/layer_8/output/dense/bias/adam_m with shape [768]\n",
      "Loading TF weight bert/encoder/layer_8/output/dense/bias/adam_v with shape [768]\n",
      "Loading TF weight bert/encoder/layer_8/output/dense/kernel with shape [3072, 768]\n",
      "Loading TF weight bert/encoder/layer_8/output/dense/kernel/adam_m with shape [3072, 768]\n",
      "Loading TF weight bert/encoder/layer_8/output/dense/kernel/adam_v with shape [3072, 768]\n"
     ]
    },
    {
     "name": "stdout",
     "output_type": "stream",
     "text": [
      "Loading TF weight bert/encoder/layer_9/attention/output/LayerNorm/beta with shape [768]\n",
      "Loading TF weight bert/encoder/layer_9/attention/output/LayerNorm/beta/adam_m with shape [768]\n",
      "Loading TF weight bert/encoder/layer_9/attention/output/LayerNorm/beta/adam_v with shape [768]\n",
      "Loading TF weight bert/encoder/layer_9/attention/output/LayerNorm/gamma with shape [768]\n",
      "Loading TF weight bert/encoder/layer_9/attention/output/LayerNorm/gamma/adam_m with shape [768]\n",
      "Loading TF weight bert/encoder/layer_9/attention/output/LayerNorm/gamma/adam_v with shape [768]\n",
      "Loading TF weight bert/encoder/layer_9/attention/output/dense/bias with shape [768]\n",
      "Loading TF weight bert/encoder/layer_9/attention/output/dense/bias/adam_m with shape [768]\n",
      "Loading TF weight bert/encoder/layer_9/attention/output/dense/bias/adam_v with shape [768]\n",
      "Loading TF weight bert/encoder/layer_9/attention/output/dense/kernel with shape [768, 768]\n",
      "Loading TF weight bert/encoder/layer_9/attention/output/dense/kernel/adam_m with shape [768, 768]\n",
      "Loading TF weight bert/encoder/layer_9/attention/output/dense/kernel/adam_v with shape [768, 768]\n",
      "Loading TF weight bert/encoder/layer_9/attention/self/key/bias with shape [768]\n",
      "Loading TF weight bert/encoder/layer_9/attention/self/key/bias/adam_m with shape [768]\n",
      "Loading TF weight bert/encoder/layer_9/attention/self/key/bias/adam_v with shape [768]\n",
      "Loading TF weight bert/encoder/layer_9/attention/self/key/kernel with shape [768, 768]\n",
      "Loading TF weight bert/encoder/layer_9/attention/self/key/kernel/adam_m with shape [768, 768]\n",
      "Loading TF weight bert/encoder/layer_9/attention/self/key/kernel/adam_v with shape [768, 768]\n",
      "Loading TF weight bert/encoder/layer_9/attention/self/query/bias with shape [768]\n",
      "Loading TF weight bert/encoder/layer_9/attention/self/query/bias/adam_m with shape [768]\n",
      "Loading TF weight bert/encoder/layer_9/attention/self/query/bias/adam_v with shape [768]\n",
      "Loading TF weight bert/encoder/layer_9/attention/self/query/kernel with shape [768, 768]\n",
      "Loading TF weight bert/encoder/layer_9/attention/self/query/kernel/adam_m with shape [768, 768]\n",
      "Loading TF weight bert/encoder/layer_9/attention/self/query/kernel/adam_v with shape [768, 768]\n",
      "Loading TF weight bert/encoder/layer_9/attention/self/value/bias with shape [768]\n",
      "Loading TF weight bert/encoder/layer_9/attention/self/value/bias/adam_m with shape [768]\n",
      "Loading TF weight bert/encoder/layer_9/attention/self/value/bias/adam_v with shape [768]\n",
      "Loading TF weight bert/encoder/layer_9/attention/self/value/kernel with shape [768, 768]\n",
      "Loading TF weight bert/encoder/layer_9/attention/self/value/kernel/adam_m with shape [768, 768]\n",
      "Loading TF weight bert/encoder/layer_9/attention/self/value/kernel/adam_v with shape [768, 768]\n",
      "Loading TF weight bert/encoder/layer_9/intermediate/dense/bias with shape [3072]\n",
      "Loading TF weight bert/encoder/layer_9/intermediate/dense/bias/adam_m with shape [3072]\n",
      "Loading TF weight bert/encoder/layer_9/intermediate/dense/bias/adam_v with shape [3072]\n",
      "Loading TF weight bert/encoder/layer_9/intermediate/dense/kernel with shape [768, 3072]\n",
      "Loading TF weight bert/encoder/layer_9/intermediate/dense/kernel/adam_m with shape [768, 3072]\n",
      "Loading TF weight bert/encoder/layer_9/intermediate/dense/kernel/adam_v with shape [768, 3072]\n",
      "Loading TF weight bert/encoder/layer_9/output/LayerNorm/beta with shape [768]\n",
      "Loading TF weight bert/encoder/layer_9/output/LayerNorm/beta/adam_m with shape [768]\n",
      "Loading TF weight bert/encoder/layer_9/output/LayerNorm/beta/adam_v with shape [768]\n",
      "Loading TF weight bert/encoder/layer_9/output/LayerNorm/gamma with shape [768]\n",
      "Loading TF weight bert/encoder/layer_9/output/LayerNorm/gamma/adam_m with shape [768]\n",
      "Loading TF weight bert/encoder/layer_9/output/LayerNorm/gamma/adam_v with shape [768]\n",
      "Loading TF weight bert/encoder/layer_9/output/dense/bias with shape [768]\n",
      "Loading TF weight bert/encoder/layer_9/output/dense/bias/adam_m with shape [768]\n",
      "Loading TF weight bert/encoder/layer_9/output/dense/bias/adam_v with shape [768]\n",
      "Loading TF weight bert/encoder/layer_9/output/dense/kernel with shape [3072, 768]\n",
      "Loading TF weight bert/encoder/layer_9/output/dense/kernel/adam_m with shape [3072, 768]\n",
      "Loading TF weight bert/encoder/layer_9/output/dense/kernel/adam_v with shape [3072, 768]\n",
      "Loading TF weight bert/pooler/dense/bias with shape [768]\n",
      "Loading TF weight bert/pooler/dense/kernel with shape [768, 768]\n",
      "Loading TF weight cls/squad/output_bias with shape [2]\n",
      "Loading TF weight cls/squad/output_bias/adam_m with shape [2]\n",
      "Loading TF weight cls/squad/output_bias/adam_v with shape [2]\n",
      "Loading TF weight cls/squad/output_weights with shape [2, 768]\n",
      "Loading TF weight cls/squad/output_weights/adam_m with shape [2, 768]\n",
      "Loading TF weight cls/squad/output_weights/adam_v with shape [2, 768]\n",
      "Loading TF weight global_step with shape []\n",
      "Initialize PyTorch weight ['bert', 'embeddings', 'LayerNorm', 'beta']\n",
      "Skipping bert/embeddings/LayerNorm/beta/adam_m\n",
      "Skipping bert/embeddings/LayerNorm/beta/adam_v\n",
      "Initialize PyTorch weight ['bert', 'embeddings', 'LayerNorm', 'gamma']\n",
      "Skipping bert/embeddings/LayerNorm/gamma/adam_m\n",
      "Skipping bert/embeddings/LayerNorm/gamma/adam_v\n",
      "Initialize PyTorch weight ['bert', 'embeddings', 'position_embeddings']\n",
      "Skipping bert/embeddings/position_embeddings/adam_m\n",
      "Skipping bert/embeddings/position_embeddings/adam_v\n",
      "Initialize PyTorch weight ['bert', 'embeddings', 'token_type_embeddings']\n",
      "Skipping bert/embeddings/token_type_embeddings/adam_m\n",
      "Skipping bert/embeddings/token_type_embeddings/adam_v\n",
      "Initialize PyTorch weight ['bert', 'embeddings', 'word_embeddings']\n",
      "Skipping bert/embeddings/word_embeddings/adam_m\n",
      "Skipping bert/embeddings/word_embeddings/adam_v\n",
      "Initialize PyTorch weight ['bert', 'encoder', 'layer_0', 'attention', 'output', 'LayerNorm', 'beta']\n",
      "Skipping bert/encoder/layer_0/attention/output/LayerNorm/beta/adam_m\n",
      "Skipping bert/encoder/layer_0/attention/output/LayerNorm/beta/adam_v\n",
      "Initialize PyTorch weight ['bert', 'encoder', 'layer_0', 'attention', 'output', 'LayerNorm', 'gamma']\n",
      "Skipping bert/encoder/layer_0/attention/output/LayerNorm/gamma/adam_m\n",
      "Skipping bert/encoder/layer_0/attention/output/LayerNorm/gamma/adam_v\n",
      "Initialize PyTorch weight ['bert', 'encoder', 'layer_0', 'attention', 'output', 'dense', 'bias']\n",
      "Skipping bert/encoder/layer_0/attention/output/dense/bias/adam_m\n",
      "Skipping bert/encoder/layer_0/attention/output/dense/bias/adam_v\n",
      "Initialize PyTorch weight ['bert', 'encoder', 'layer_0', 'attention', 'output', 'dense', 'kernel']\n",
      "Skipping bert/encoder/layer_0/attention/output/dense/kernel/adam_m\n",
      "Skipping bert/encoder/layer_0/attention/output/dense/kernel/adam_v\n",
      "Initialize PyTorch weight ['bert', 'encoder', 'layer_0', 'attention', 'self', 'key', 'bias']\n",
      "Skipping bert/encoder/layer_0/attention/self/key/bias/adam_m\n",
      "Skipping bert/encoder/layer_0/attention/self/key/bias/adam_v\n",
      "Initialize PyTorch weight ['bert', 'encoder', 'layer_0', 'attention', 'self', 'key', 'kernel']\n",
      "Skipping bert/encoder/layer_0/attention/self/key/kernel/adam_m\n",
      "Skipping bert/encoder/layer_0/attention/self/key/kernel/adam_v\n",
      "Initialize PyTorch weight ['bert', 'encoder', 'layer_0', 'attention', 'self', 'query', 'bias']\n",
      "Skipping bert/encoder/layer_0/attention/self/query/bias/adam_m\n",
      "Skipping bert/encoder/layer_0/attention/self/query/bias/adam_v\n",
      "Initialize PyTorch weight ['bert', 'encoder', 'layer_0', 'attention', 'self', 'query', 'kernel']\n",
      "Skipping bert/encoder/layer_0/attention/self/query/kernel/adam_m\n",
      "Skipping bert/encoder/layer_0/attention/self/query/kernel/adam_v\n",
      "Initialize PyTorch weight ['bert', 'encoder', 'layer_0', 'attention', 'self', 'value', 'bias']\n",
      "Skipping bert/encoder/layer_0/attention/self/value/bias/adam_m\n",
      "Skipping bert/encoder/layer_0/attention/self/value/bias/adam_v\n",
      "Initialize PyTorch weight ['bert', 'encoder', 'layer_0', 'attention', 'self', 'value', 'kernel']\n",
      "Skipping bert/encoder/layer_0/attention/self/value/kernel/adam_m\n",
      "Skipping bert/encoder/layer_0/attention/self/value/kernel/adam_v\n",
      "Initialize PyTorch weight ['bert', 'encoder', 'layer_0', 'intermediate', 'dense', 'bias']\n",
      "Skipping bert/encoder/layer_0/intermediate/dense/bias/adam_m\n",
      "Skipping bert/encoder/layer_0/intermediate/dense/bias/adam_v\n",
      "Initialize PyTorch weight ['bert', 'encoder', 'layer_0', 'intermediate', 'dense', 'kernel']\n",
      "Skipping bert/encoder/layer_0/intermediate/dense/kernel/adam_m\n",
      "Skipping bert/encoder/layer_0/intermediate/dense/kernel/adam_v\n",
      "Initialize PyTorch weight ['bert', 'encoder', 'layer_0', 'output', 'LayerNorm', 'beta']\n",
      "Skipping bert/encoder/layer_0/output/LayerNorm/beta/adam_m\n",
      "Skipping bert/encoder/layer_0/output/LayerNorm/beta/adam_v\n",
      "Initialize PyTorch weight ['bert', 'encoder', 'layer_0', 'output', 'LayerNorm', 'gamma']\n",
      "Skipping bert/encoder/layer_0/output/LayerNorm/gamma/adam_m\n",
      "Skipping bert/encoder/layer_0/output/LayerNorm/gamma/adam_v\n",
      "Initialize PyTorch weight ['bert', 'encoder', 'layer_0', 'output', 'dense', 'bias']\n",
      "Skipping bert/encoder/layer_0/output/dense/bias/adam_m\n",
      "Skipping bert/encoder/layer_0/output/dense/bias/adam_v\n",
      "Initialize PyTorch weight ['bert', 'encoder', 'layer_0', 'output', 'dense', 'kernel']\n",
      "Skipping bert/encoder/layer_0/output/dense/kernel/adam_m\n",
      "Skipping bert/encoder/layer_0/output/dense/kernel/adam_v\n",
      "Initialize PyTorch weight ['bert', 'encoder', 'layer_1', 'attention', 'output', 'LayerNorm', 'beta']\n",
      "Skipping bert/encoder/layer_1/attention/output/LayerNorm/beta/adam_m\n",
      "Skipping bert/encoder/layer_1/attention/output/LayerNorm/beta/adam_v\n",
      "Initialize PyTorch weight ['bert', 'encoder', 'layer_1', 'attention', 'output', 'LayerNorm', 'gamma']\n",
      "Skipping bert/encoder/layer_1/attention/output/LayerNorm/gamma/adam_m\n",
      "Skipping bert/encoder/layer_1/attention/output/LayerNorm/gamma/adam_v\n",
      "Initialize PyTorch weight ['bert', 'encoder', 'layer_1', 'attention', 'output', 'dense', 'bias']\n",
      "Skipping bert/encoder/layer_1/attention/output/dense/bias/adam_m\n",
      "Skipping bert/encoder/layer_1/attention/output/dense/bias/adam_v\n",
      "Initialize PyTorch weight ['bert', 'encoder', 'layer_1', 'attention', 'output', 'dense', 'kernel']\n",
      "Skipping bert/encoder/layer_1/attention/output/dense/kernel/adam_m\n",
      "Skipping bert/encoder/layer_1/attention/output/dense/kernel/adam_v\n",
      "Initialize PyTorch weight ['bert', 'encoder', 'layer_1', 'attention', 'self', 'key', 'bias']\n",
      "Skipping bert/encoder/layer_1/attention/self/key/bias/adam_m\n",
      "Skipping bert/encoder/layer_1/attention/self/key/bias/adam_v\n",
      "Initialize PyTorch weight ['bert', 'encoder', 'layer_1', 'attention', 'self', 'key', 'kernel']\n",
      "Skipping bert/encoder/layer_1/attention/self/key/kernel/adam_m\n",
      "Skipping bert/encoder/layer_1/attention/self/key/kernel/adam_v\n",
      "Initialize PyTorch weight ['bert', 'encoder', 'layer_1', 'attention', 'self', 'query', 'bias']\n",
      "Skipping bert/encoder/layer_1/attention/self/query/bias/adam_m\n",
      "Skipping bert/encoder/layer_1/attention/self/query/bias/adam_v\n",
      "Initialize PyTorch weight ['bert', 'encoder', 'layer_1', 'attention', 'self', 'query', 'kernel']\n",
      "Skipping bert/encoder/layer_1/attention/self/query/kernel/adam_m\n",
      "Skipping bert/encoder/layer_1/attention/self/query/kernel/adam_v\n",
      "Initialize PyTorch weight ['bert', 'encoder', 'layer_1', 'attention', 'self', 'value', 'bias']\n",
      "Skipping bert/encoder/layer_1/attention/self/value/bias/adam_m\n",
      "Skipping bert/encoder/layer_1/attention/self/value/bias/adam_v\n",
      "Initialize PyTorch weight ['bert', 'encoder', 'layer_1', 'attention', 'self', 'value', 'kernel']\n",
      "Skipping bert/encoder/layer_1/attention/self/value/kernel/adam_m\n",
      "Skipping bert/encoder/layer_1/attention/self/value/kernel/adam_v\n",
      "Initialize PyTorch weight ['bert', 'encoder', 'layer_1', 'intermediate', 'dense', 'bias']\n",
      "Skipping bert/encoder/layer_1/intermediate/dense/bias/adam_m\n",
      "Skipping bert/encoder/layer_1/intermediate/dense/bias/adam_v\n",
      "Initialize PyTorch weight ['bert', 'encoder', 'layer_1', 'intermediate', 'dense', 'kernel']\n",
      "Skipping bert/encoder/layer_1/intermediate/dense/kernel/adam_m\n",
      "Skipping bert/encoder/layer_1/intermediate/dense/kernel/adam_v\n",
      "Initialize PyTorch weight ['bert', 'encoder', 'layer_1', 'output', 'LayerNorm', 'beta']\n",
      "Skipping bert/encoder/layer_1/output/LayerNorm/beta/adam_m\n",
      "Skipping bert/encoder/layer_1/output/LayerNorm/beta/adam_v\n",
      "Initialize PyTorch weight ['bert', 'encoder', 'layer_1', 'output', 'LayerNorm', 'gamma']\n",
      "Skipping bert/encoder/layer_1/output/LayerNorm/gamma/adam_m\n",
      "Skipping bert/encoder/layer_1/output/LayerNorm/gamma/adam_v\n",
      "Initialize PyTorch weight ['bert', 'encoder', 'layer_1', 'output', 'dense', 'bias']\n",
      "Skipping bert/encoder/layer_1/output/dense/bias/adam_m\n",
      "Skipping bert/encoder/layer_1/output/dense/bias/adam_v\n",
      "Initialize PyTorch weight ['bert', 'encoder', 'layer_1', 'output', 'dense', 'kernel']\n",
      "Skipping bert/encoder/layer_1/output/dense/kernel/adam_m\n",
      "Skipping bert/encoder/layer_1/output/dense/kernel/adam_v\n",
      "Initialize PyTorch weight ['bert', 'encoder', 'layer_10', 'attention', 'output', 'LayerNorm', 'beta']\n",
      "Skipping bert/encoder/layer_10/attention/output/LayerNorm/beta/adam_m\n",
      "Skipping bert/encoder/layer_10/attention/output/LayerNorm/beta/adam_v\n",
      "Initialize PyTorch weight ['bert', 'encoder', 'layer_10', 'attention', 'output', 'LayerNorm', 'gamma']\n",
      "Skipping bert/encoder/layer_10/attention/output/LayerNorm/gamma/adam_m\n",
      "Skipping bert/encoder/layer_10/attention/output/LayerNorm/gamma/adam_v\n",
      "Initialize PyTorch weight ['bert', 'encoder', 'layer_10', 'attention', 'output', 'dense', 'bias']\n",
      "Skipping bert/encoder/layer_10/attention/output/dense/bias/adam_m\n",
      "Skipping bert/encoder/layer_10/attention/output/dense/bias/adam_v\n",
      "Initialize PyTorch weight ['bert', 'encoder', 'layer_10', 'attention', 'output', 'dense', 'kernel']\n",
      "Skipping bert/encoder/layer_10/attention/output/dense/kernel/adam_m\n",
      "Skipping bert/encoder/layer_10/attention/output/dense/kernel/adam_v\n",
      "Initialize PyTorch weight ['bert', 'encoder', 'layer_10', 'attention', 'self', 'key', 'bias']\n",
      "Skipping bert/encoder/layer_10/attention/self/key/bias/adam_m\n",
      "Skipping bert/encoder/layer_10/attention/self/key/bias/adam_v\n",
      "Initialize PyTorch weight ['bert', 'encoder', 'layer_10', 'attention', 'self', 'key', 'kernel']\n",
      "Skipping bert/encoder/layer_10/attention/self/key/kernel/adam_m\n",
      "Skipping bert/encoder/layer_10/attention/self/key/kernel/adam_v\n",
      "Initialize PyTorch weight ['bert', 'encoder', 'layer_10', 'attention', 'self', 'query', 'bias']\n",
      "Skipping bert/encoder/layer_10/attention/self/query/bias/adam_m\n",
      "Skipping bert/encoder/layer_10/attention/self/query/bias/adam_v\n",
      "Initialize PyTorch weight ['bert', 'encoder', 'layer_10', 'attention', 'self', 'query', 'kernel']\n",
      "Skipping bert/encoder/layer_10/attention/self/query/kernel/adam_m\n",
      "Skipping bert/encoder/layer_10/attention/self/query/kernel/adam_v\n",
      "Initialize PyTorch weight ['bert', 'encoder', 'layer_10', 'attention', 'self', 'value', 'bias']\n",
      "Skipping bert/encoder/layer_10/attention/self/value/bias/adam_m\n",
      "Skipping bert/encoder/layer_10/attention/self/value/bias/adam_v\n",
      "Initialize PyTorch weight ['bert', 'encoder', 'layer_10', 'attention', 'self', 'value', 'kernel']\n",
      "Skipping bert/encoder/layer_10/attention/self/value/kernel/adam_m\n",
      "Skipping bert/encoder/layer_10/attention/self/value/kernel/adam_v\n",
      "Initialize PyTorch weight ['bert', 'encoder', 'layer_10', 'intermediate', 'dense', 'bias']\n",
      "Skipping bert/encoder/layer_10/intermediate/dense/bias/adam_m\n",
      "Skipping bert/encoder/layer_10/intermediate/dense/bias/adam_v\n",
      "Initialize PyTorch weight ['bert', 'encoder', 'layer_10', 'intermediate', 'dense', 'kernel']\n",
      "Skipping bert/encoder/layer_10/intermediate/dense/kernel/adam_m\n",
      "Skipping bert/encoder/layer_10/intermediate/dense/kernel/adam_v\n",
      "Initialize PyTorch weight ['bert', 'encoder', 'layer_10', 'output', 'LayerNorm', 'beta']\n",
      "Skipping bert/encoder/layer_10/output/LayerNorm/beta/adam_m\n",
      "Skipping bert/encoder/layer_10/output/LayerNorm/beta/adam_v\n",
      "Initialize PyTorch weight ['bert', 'encoder', 'layer_10', 'output', 'LayerNorm', 'gamma']\n",
      "Skipping bert/encoder/layer_10/output/LayerNorm/gamma/adam_m\n",
      "Skipping bert/encoder/layer_10/output/LayerNorm/gamma/adam_v\n",
      "Initialize PyTorch weight ['bert', 'encoder', 'layer_10', 'output', 'dense', 'bias']\n",
      "Skipping bert/encoder/layer_10/output/dense/bias/adam_m\n",
      "Skipping bert/encoder/layer_10/output/dense/bias/adam_v\n",
      "Initialize PyTorch weight ['bert', 'encoder', 'layer_10', 'output', 'dense', 'kernel']\n",
      "Skipping bert/encoder/layer_10/output/dense/kernel/adam_m\n",
      "Skipping bert/encoder/layer_10/output/dense/kernel/adam_v\n",
      "Initialize PyTorch weight ['bert', 'encoder', 'layer_11', 'attention', 'output', 'LayerNorm', 'beta']\n",
      "Skipping bert/encoder/layer_11/attention/output/LayerNorm/beta/adam_m\n",
      "Skipping bert/encoder/layer_11/attention/output/LayerNorm/beta/adam_v\n",
      "Initialize PyTorch weight ['bert', 'encoder', 'layer_11', 'attention', 'output', 'LayerNorm', 'gamma']\n",
      "Skipping bert/encoder/layer_11/attention/output/LayerNorm/gamma/adam_m\n",
      "Skipping bert/encoder/layer_11/attention/output/LayerNorm/gamma/adam_v\n",
      "Initialize PyTorch weight ['bert', 'encoder', 'layer_11', 'attention', 'output', 'dense', 'bias']\n",
      "Skipping bert/encoder/layer_11/attention/output/dense/bias/adam_m\n",
      "Skipping bert/encoder/layer_11/attention/output/dense/bias/adam_v\n",
      "Initialize PyTorch weight ['bert', 'encoder', 'layer_11', 'attention', 'output', 'dense', 'kernel']\n",
      "Skipping bert/encoder/layer_11/attention/output/dense/kernel/adam_m\n",
      "Skipping bert/encoder/layer_11/attention/output/dense/kernel/adam_v\n",
      "Initialize PyTorch weight ['bert', 'encoder', 'layer_11', 'attention', 'self', 'key', 'bias']\n",
      "Skipping bert/encoder/layer_11/attention/self/key/bias/adam_m\n",
      "Skipping bert/encoder/layer_11/attention/self/key/bias/adam_v\n",
      "Initialize PyTorch weight ['bert', 'encoder', 'layer_11', 'attention', 'self', 'key', 'kernel']\n",
      "Skipping bert/encoder/layer_11/attention/self/key/kernel/adam_m\n",
      "Skipping bert/encoder/layer_11/attention/self/key/kernel/adam_v\n",
      "Initialize PyTorch weight ['bert', 'encoder', 'layer_11', 'attention', 'self', 'query', 'bias']\n",
      "Skipping bert/encoder/layer_11/attention/self/query/bias/adam_m\n",
      "Skipping bert/encoder/layer_11/attention/self/query/bias/adam_v\n",
      "Initialize PyTorch weight ['bert', 'encoder', 'layer_11', 'attention', 'self', 'query', 'kernel']\n",
      "Skipping bert/encoder/layer_11/attention/self/query/kernel/adam_m\n",
      "Skipping bert/encoder/layer_11/attention/self/query/kernel/adam_v\n",
      "Initialize PyTorch weight ['bert', 'encoder', 'layer_11', 'attention', 'self', 'value', 'bias']\n",
      "Skipping bert/encoder/layer_11/attention/self/value/bias/adam_m\n",
      "Skipping bert/encoder/layer_11/attention/self/value/bias/adam_v\n",
      "Initialize PyTorch weight ['bert', 'encoder', 'layer_11', 'attention', 'self', 'value', 'kernel']\n",
      "Skipping bert/encoder/layer_11/attention/self/value/kernel/adam_m\n",
      "Skipping bert/encoder/layer_11/attention/self/value/kernel/adam_v\n",
      "Initialize PyTorch weight ['bert', 'encoder', 'layer_11', 'intermediate', 'dense', 'bias']\n",
      "Skipping bert/encoder/layer_11/intermediate/dense/bias/adam_m\n",
      "Skipping bert/encoder/layer_11/intermediate/dense/bias/adam_v\n",
      "Initialize PyTorch weight ['bert', 'encoder', 'layer_11', 'intermediate', 'dense', 'kernel']\n",
      "Skipping bert/encoder/layer_11/intermediate/dense/kernel/adam_m\n",
      "Skipping bert/encoder/layer_11/intermediate/dense/kernel/adam_v\n",
      "Initialize PyTorch weight ['bert', 'encoder', 'layer_11', 'output', 'LayerNorm', 'beta']\n",
      "Skipping bert/encoder/layer_11/output/LayerNorm/beta/adam_m\n",
      "Skipping bert/encoder/layer_11/output/LayerNorm/beta/adam_v\n",
      "Initialize PyTorch weight ['bert', 'encoder', 'layer_11', 'output', 'LayerNorm', 'gamma']\n",
      "Skipping bert/encoder/layer_11/output/LayerNorm/gamma/adam_m\n",
      "Skipping bert/encoder/layer_11/output/LayerNorm/gamma/adam_v\n",
      "Initialize PyTorch weight ['bert', 'encoder', 'layer_11', 'output', 'dense', 'bias']\n",
      "Skipping bert/encoder/layer_11/output/dense/bias/adam_m\n",
      "Skipping bert/encoder/layer_11/output/dense/bias/adam_v\n",
      "Initialize PyTorch weight ['bert', 'encoder', 'layer_11', 'output', 'dense', 'kernel']\n",
      "Skipping bert/encoder/layer_11/output/dense/kernel/adam_m\n",
      "Skipping bert/encoder/layer_11/output/dense/kernel/adam_v\n",
      "Initialize PyTorch weight ['bert', 'encoder', 'layer_2', 'attention', 'output', 'LayerNorm', 'beta']\n",
      "Skipping bert/encoder/layer_2/attention/output/LayerNorm/beta/adam_m\n",
      "Skipping bert/encoder/layer_2/attention/output/LayerNorm/beta/adam_v\n",
      "Initialize PyTorch weight ['bert', 'encoder', 'layer_2', 'attention', 'output', 'LayerNorm', 'gamma']\n",
      "Skipping bert/encoder/layer_2/attention/output/LayerNorm/gamma/adam_m\n",
      "Skipping bert/encoder/layer_2/attention/output/LayerNorm/gamma/adam_v\n",
      "Initialize PyTorch weight ['bert', 'encoder', 'layer_2', 'attention', 'output', 'dense', 'bias']\n",
      "Skipping bert/encoder/layer_2/attention/output/dense/bias/adam_m\n",
      "Skipping bert/encoder/layer_2/attention/output/dense/bias/adam_v\n",
      "Initialize PyTorch weight ['bert', 'encoder', 'layer_2', 'attention', 'output', 'dense', 'kernel']\n",
      "Skipping bert/encoder/layer_2/attention/output/dense/kernel/adam_m\n",
      "Skipping bert/encoder/layer_2/attention/output/dense/kernel/adam_v\n",
      "Initialize PyTorch weight ['bert', 'encoder', 'layer_2', 'attention', 'self', 'key', 'bias']\n",
      "Skipping bert/encoder/layer_2/attention/self/key/bias/adam_m\n",
      "Skipping bert/encoder/layer_2/attention/self/key/bias/adam_v\n",
      "Initialize PyTorch weight ['bert', 'encoder', 'layer_2', 'attention', 'self', 'key', 'kernel']\n",
      "Skipping bert/encoder/layer_2/attention/self/key/kernel/adam_m\n",
      "Skipping bert/encoder/layer_2/attention/self/key/kernel/adam_v\n",
      "Initialize PyTorch weight ['bert', 'encoder', 'layer_2', 'attention', 'self', 'query', 'bias']\n",
      "Skipping bert/encoder/layer_2/attention/self/query/bias/adam_m\n",
      "Skipping bert/encoder/layer_2/attention/self/query/bias/adam_v\n",
      "Initialize PyTorch weight ['bert', 'encoder', 'layer_2', 'attention', 'self', 'query', 'kernel']\n",
      "Skipping bert/encoder/layer_2/attention/self/query/kernel/adam_m\n",
      "Skipping bert/encoder/layer_2/attention/self/query/kernel/adam_v\n",
      "Initialize PyTorch weight ['bert', 'encoder', 'layer_2', 'attention', 'self', 'value', 'bias']\n",
      "Skipping bert/encoder/layer_2/attention/self/value/bias/adam_m\n",
      "Skipping bert/encoder/layer_2/attention/self/value/bias/adam_v\n",
      "Initialize PyTorch weight ['bert', 'encoder', 'layer_2', 'attention', 'self', 'value', 'kernel']\n",
      "Skipping bert/encoder/layer_2/attention/self/value/kernel/adam_m\n",
      "Skipping bert/encoder/layer_2/attention/self/value/kernel/adam_v\n",
      "Initialize PyTorch weight ['bert', 'encoder', 'layer_2', 'intermediate', 'dense', 'bias']\n",
      "Skipping bert/encoder/layer_2/intermediate/dense/bias/adam_m\n",
      "Skipping bert/encoder/layer_2/intermediate/dense/bias/adam_v\n",
      "Initialize PyTorch weight ['bert', 'encoder', 'layer_2', 'intermediate', 'dense', 'kernel']\n",
      "Skipping bert/encoder/layer_2/intermediate/dense/kernel/adam_m\n",
      "Skipping bert/encoder/layer_2/intermediate/dense/kernel/adam_v\n",
      "Initialize PyTorch weight ['bert', 'encoder', 'layer_2', 'output', 'LayerNorm', 'beta']\n",
      "Skipping bert/encoder/layer_2/output/LayerNorm/beta/adam_m\n",
      "Skipping bert/encoder/layer_2/output/LayerNorm/beta/adam_v\n",
      "Initialize PyTorch weight ['bert', 'encoder', 'layer_2', 'output', 'LayerNorm', 'gamma']\n",
      "Skipping bert/encoder/layer_2/output/LayerNorm/gamma/adam_m\n",
      "Skipping bert/encoder/layer_2/output/LayerNorm/gamma/adam_v\n",
      "Initialize PyTorch weight ['bert', 'encoder', 'layer_2', 'output', 'dense', 'bias']\n",
      "Skipping bert/encoder/layer_2/output/dense/bias/adam_m\n",
      "Skipping bert/encoder/layer_2/output/dense/bias/adam_v\n",
      "Initialize PyTorch weight ['bert', 'encoder', 'layer_2', 'output', 'dense', 'kernel']\n",
      "Skipping bert/encoder/layer_2/output/dense/kernel/adam_m\n",
      "Skipping bert/encoder/layer_2/output/dense/kernel/adam_v\n",
      "Initialize PyTorch weight ['bert', 'encoder', 'layer_3', 'attention', 'output', 'LayerNorm', 'beta']\n",
      "Skipping bert/encoder/layer_3/attention/output/LayerNorm/beta/adam_m\n",
      "Skipping bert/encoder/layer_3/attention/output/LayerNorm/beta/adam_v\n",
      "Initialize PyTorch weight ['bert', 'encoder', 'layer_3', 'attention', 'output', 'LayerNorm', 'gamma']\n",
      "Skipping bert/encoder/layer_3/attention/output/LayerNorm/gamma/adam_m\n",
      "Skipping bert/encoder/layer_3/attention/output/LayerNorm/gamma/adam_v\n",
      "Initialize PyTorch weight ['bert', 'encoder', 'layer_3', 'attention', 'output', 'dense', 'bias']\n",
      "Skipping bert/encoder/layer_3/attention/output/dense/bias/adam_m\n",
      "Skipping bert/encoder/layer_3/attention/output/dense/bias/adam_v\n",
      "Initialize PyTorch weight ['bert', 'encoder', 'layer_3', 'attention', 'output', 'dense', 'kernel']\n",
      "Skipping bert/encoder/layer_3/attention/output/dense/kernel/adam_m\n",
      "Skipping bert/encoder/layer_3/attention/output/dense/kernel/adam_v\n",
      "Initialize PyTorch weight ['bert', 'encoder', 'layer_3', 'attention', 'self', 'key', 'bias']\n",
      "Skipping bert/encoder/layer_3/attention/self/key/bias/adam_m\n",
      "Skipping bert/encoder/layer_3/attention/self/key/bias/adam_v\n",
      "Initialize PyTorch weight ['bert', 'encoder', 'layer_3', 'attention', 'self', 'key', 'kernel']\n",
      "Skipping bert/encoder/layer_3/attention/self/key/kernel/adam_m\n",
      "Skipping bert/encoder/layer_3/attention/self/key/kernel/adam_v\n",
      "Initialize PyTorch weight ['bert', 'encoder', 'layer_3', 'attention', 'self', 'query', 'bias']\n",
      "Skipping bert/encoder/layer_3/attention/self/query/bias/adam_m\n",
      "Skipping bert/encoder/layer_3/attention/self/query/bias/adam_v\n",
      "Initialize PyTorch weight ['bert', 'encoder', 'layer_3', 'attention', 'self', 'query', 'kernel']\n",
      "Skipping bert/encoder/layer_3/attention/self/query/kernel/adam_m\n",
      "Skipping bert/encoder/layer_3/attention/self/query/kernel/adam_v\n",
      "Initialize PyTorch weight ['bert', 'encoder', 'layer_3', 'attention', 'self', 'value', 'bias']\n",
      "Skipping bert/encoder/layer_3/attention/self/value/bias/adam_m\n",
      "Skipping bert/encoder/layer_3/attention/self/value/bias/adam_v\n",
      "Initialize PyTorch weight ['bert', 'encoder', 'layer_3', 'attention', 'self', 'value', 'kernel']\n",
      "Skipping bert/encoder/layer_3/attention/self/value/kernel/adam_m\n",
      "Skipping bert/encoder/layer_3/attention/self/value/kernel/adam_v\n",
      "Initialize PyTorch weight ['bert', 'encoder', 'layer_3', 'intermediate', 'dense', 'bias']\n",
      "Skipping bert/encoder/layer_3/intermediate/dense/bias/adam_m\n",
      "Skipping bert/encoder/layer_3/intermediate/dense/bias/adam_v\n",
      "Initialize PyTorch weight ['bert', 'encoder', 'layer_3', 'intermediate', 'dense', 'kernel']\n",
      "Skipping bert/encoder/layer_3/intermediate/dense/kernel/adam_m\n",
      "Skipping bert/encoder/layer_3/intermediate/dense/kernel/adam_v\n",
      "Initialize PyTorch weight ['bert', 'encoder', 'layer_3', 'output', 'LayerNorm', 'beta']\n",
      "Skipping bert/encoder/layer_3/output/LayerNorm/beta/adam_m\n",
      "Skipping bert/encoder/layer_3/output/LayerNorm/beta/adam_v\n",
      "Initialize PyTorch weight ['bert', 'encoder', 'layer_3', 'output', 'LayerNorm', 'gamma']\n",
      "Skipping bert/encoder/layer_3/output/LayerNorm/gamma/adam_m\n",
      "Skipping bert/encoder/layer_3/output/LayerNorm/gamma/adam_v\n",
      "Initialize PyTorch weight ['bert', 'encoder', 'layer_3', 'output', 'dense', 'bias']\n",
      "Skipping bert/encoder/layer_3/output/dense/bias/adam_m\n",
      "Skipping bert/encoder/layer_3/output/dense/bias/adam_v\n",
      "Initialize PyTorch weight ['bert', 'encoder', 'layer_3', 'output', 'dense', 'kernel']\n",
      "Skipping bert/encoder/layer_3/output/dense/kernel/adam_m\n",
      "Skipping bert/encoder/layer_3/output/dense/kernel/adam_v\n",
      "Initialize PyTorch weight ['bert', 'encoder', 'layer_4', 'attention', 'output', 'LayerNorm', 'beta']\n",
      "Skipping bert/encoder/layer_4/attention/output/LayerNorm/beta/adam_m\n",
      "Skipping bert/encoder/layer_4/attention/output/LayerNorm/beta/adam_v\n",
      "Initialize PyTorch weight ['bert', 'encoder', 'layer_4', 'attention', 'output', 'LayerNorm', 'gamma']\n",
      "Skipping bert/encoder/layer_4/attention/output/LayerNorm/gamma/adam_m\n",
      "Skipping bert/encoder/layer_4/attention/output/LayerNorm/gamma/adam_v\n",
      "Initialize PyTorch weight ['bert', 'encoder', 'layer_4', 'attention', 'output', 'dense', 'bias']\n",
      "Skipping bert/encoder/layer_4/attention/output/dense/bias/adam_m\n",
      "Skipping bert/encoder/layer_4/attention/output/dense/bias/adam_v\n",
      "Initialize PyTorch weight ['bert', 'encoder', 'layer_4', 'attention', 'output', 'dense', 'kernel']\n",
      "Skipping bert/encoder/layer_4/attention/output/dense/kernel/adam_m\n",
      "Skipping bert/encoder/layer_4/attention/output/dense/kernel/adam_v\n",
      "Initialize PyTorch weight ['bert', 'encoder', 'layer_4', 'attention', 'self', 'key', 'bias']\n",
      "Skipping bert/encoder/layer_4/attention/self/key/bias/adam_m\n",
      "Skipping bert/encoder/layer_4/attention/self/key/bias/adam_v\n",
      "Initialize PyTorch weight ['bert', 'encoder', 'layer_4', 'attention', 'self', 'key', 'kernel']\n",
      "Skipping bert/encoder/layer_4/attention/self/key/kernel/adam_m\n",
      "Skipping bert/encoder/layer_4/attention/self/key/kernel/adam_v\n",
      "Initialize PyTorch weight ['bert', 'encoder', 'layer_4', 'attention', 'self', 'query', 'bias']\n",
      "Skipping bert/encoder/layer_4/attention/self/query/bias/adam_m\n",
      "Skipping bert/encoder/layer_4/attention/self/query/bias/adam_v\n",
      "Initialize PyTorch weight ['bert', 'encoder', 'layer_4', 'attention', 'self', 'query', 'kernel']\n",
      "Skipping bert/encoder/layer_4/attention/self/query/kernel/adam_m\n",
      "Skipping bert/encoder/layer_4/attention/self/query/kernel/adam_v\n",
      "Initialize PyTorch weight ['bert', 'encoder', 'layer_4', 'attention', 'self', 'value', 'bias']\n",
      "Skipping bert/encoder/layer_4/attention/self/value/bias/adam_m\n",
      "Skipping bert/encoder/layer_4/attention/self/value/bias/adam_v\n",
      "Initialize PyTorch weight ['bert', 'encoder', 'layer_4', 'attention', 'self', 'value', 'kernel']\n",
      "Skipping bert/encoder/layer_4/attention/self/value/kernel/adam_m\n",
      "Skipping bert/encoder/layer_4/attention/self/value/kernel/adam_v\n",
      "Initialize PyTorch weight ['bert', 'encoder', 'layer_4', 'intermediate', 'dense', 'bias']\n",
      "Skipping bert/encoder/layer_4/intermediate/dense/bias/adam_m\n",
      "Skipping bert/encoder/layer_4/intermediate/dense/bias/adam_v\n",
      "Initialize PyTorch weight ['bert', 'encoder', 'layer_4', 'intermediate', 'dense', 'kernel']\n",
      "Skipping bert/encoder/layer_4/intermediate/dense/kernel/adam_m\n",
      "Skipping bert/encoder/layer_4/intermediate/dense/kernel/adam_v\n",
      "Initialize PyTorch weight ['bert', 'encoder', 'layer_4', 'output', 'LayerNorm', 'beta']\n",
      "Skipping bert/encoder/layer_4/output/LayerNorm/beta/adam_m\n",
      "Skipping bert/encoder/layer_4/output/LayerNorm/beta/adam_v\n",
      "Initialize PyTorch weight ['bert', 'encoder', 'layer_4', 'output', 'LayerNorm', 'gamma']\n",
      "Skipping bert/encoder/layer_4/output/LayerNorm/gamma/adam_m\n",
      "Skipping bert/encoder/layer_4/output/LayerNorm/gamma/adam_v\n",
      "Initialize PyTorch weight ['bert', 'encoder', 'layer_4', 'output', 'dense', 'bias']\n",
      "Skipping bert/encoder/layer_4/output/dense/bias/adam_m\n",
      "Skipping bert/encoder/layer_4/output/dense/bias/adam_v\n",
      "Initialize PyTorch weight ['bert', 'encoder', 'layer_4', 'output', 'dense', 'kernel']\n",
      "Skipping bert/encoder/layer_4/output/dense/kernel/adam_m\n",
      "Skipping bert/encoder/layer_4/output/dense/kernel/adam_v\n",
      "Initialize PyTorch weight ['bert', 'encoder', 'layer_5', 'attention', 'output', 'LayerNorm', 'beta']\n",
      "Skipping bert/encoder/layer_5/attention/output/LayerNorm/beta/adam_m\n",
      "Skipping bert/encoder/layer_5/attention/output/LayerNorm/beta/adam_v\n",
      "Initialize PyTorch weight ['bert', 'encoder', 'layer_5', 'attention', 'output', 'LayerNorm', 'gamma']\n",
      "Skipping bert/encoder/layer_5/attention/output/LayerNorm/gamma/adam_m\n",
      "Skipping bert/encoder/layer_5/attention/output/LayerNorm/gamma/adam_v\n",
      "Initialize PyTorch weight ['bert', 'encoder', 'layer_5', 'attention', 'output', 'dense', 'bias']\n",
      "Skipping bert/encoder/layer_5/attention/output/dense/bias/adam_m\n",
      "Skipping bert/encoder/layer_5/attention/output/dense/bias/adam_v\n",
      "Initialize PyTorch weight ['bert', 'encoder', 'layer_5', 'attention', 'output', 'dense', 'kernel']\n",
      "Skipping bert/encoder/layer_5/attention/output/dense/kernel/adam_m\n",
      "Skipping bert/encoder/layer_5/attention/output/dense/kernel/adam_v\n",
      "Initialize PyTorch weight ['bert', 'encoder', 'layer_5', 'attention', 'self', 'key', 'bias']\n",
      "Skipping bert/encoder/layer_5/attention/self/key/bias/adam_m\n",
      "Skipping bert/encoder/layer_5/attention/self/key/bias/adam_v\n",
      "Initialize PyTorch weight ['bert', 'encoder', 'layer_5', 'attention', 'self', 'key', 'kernel']\n",
      "Skipping bert/encoder/layer_5/attention/self/key/kernel/adam_m\n",
      "Skipping bert/encoder/layer_5/attention/self/key/kernel/adam_v\n",
      "Initialize PyTorch weight ['bert', 'encoder', 'layer_5', 'attention', 'self', 'query', 'bias']\n",
      "Skipping bert/encoder/layer_5/attention/self/query/bias/adam_m\n",
      "Skipping bert/encoder/layer_5/attention/self/query/bias/adam_v\n",
      "Initialize PyTorch weight ['bert', 'encoder', 'layer_5', 'attention', 'self', 'query', 'kernel']\n",
      "Skipping bert/encoder/layer_5/attention/self/query/kernel/adam_m\n",
      "Skipping bert/encoder/layer_5/attention/self/query/kernel/adam_v\n",
      "Initialize PyTorch weight ['bert', 'encoder', 'layer_5', 'attention', 'self', 'value', 'bias']\n",
      "Skipping bert/encoder/layer_5/attention/self/value/bias/adam_m\n",
      "Skipping bert/encoder/layer_5/attention/self/value/bias/adam_v\n"
     ]
    },
    {
     "name": "stdout",
     "output_type": "stream",
     "text": [
      "Initialize PyTorch weight ['bert', 'encoder', 'layer_5', 'attention', 'self', 'value', 'kernel']\n",
      "Skipping bert/encoder/layer_5/attention/self/value/kernel/adam_m\n",
      "Skipping bert/encoder/layer_5/attention/self/value/kernel/adam_v\n",
      "Initialize PyTorch weight ['bert', 'encoder', 'layer_5', 'intermediate', 'dense', 'bias']\n",
      "Skipping bert/encoder/layer_5/intermediate/dense/bias/adam_m\n",
      "Skipping bert/encoder/layer_5/intermediate/dense/bias/adam_v\n",
      "Initialize PyTorch weight ['bert', 'encoder', 'layer_5', 'intermediate', 'dense', 'kernel']\n",
      "Skipping bert/encoder/layer_5/intermediate/dense/kernel/adam_m\n",
      "Skipping bert/encoder/layer_5/intermediate/dense/kernel/adam_v\n",
      "Initialize PyTorch weight ['bert', 'encoder', 'layer_5', 'output', 'LayerNorm', 'beta']\n",
      "Skipping bert/encoder/layer_5/output/LayerNorm/beta/adam_m\n",
      "Skipping bert/encoder/layer_5/output/LayerNorm/beta/adam_v\n",
      "Initialize PyTorch weight ['bert', 'encoder', 'layer_5', 'output', 'LayerNorm', 'gamma']\n",
      "Skipping bert/encoder/layer_5/output/LayerNorm/gamma/adam_m\n",
      "Skipping bert/encoder/layer_5/output/LayerNorm/gamma/adam_v\n",
      "Initialize PyTorch weight ['bert', 'encoder', 'layer_5', 'output', 'dense', 'bias']\n",
      "Skipping bert/encoder/layer_5/output/dense/bias/adam_m\n",
      "Skipping bert/encoder/layer_5/output/dense/bias/adam_v\n",
      "Initialize PyTorch weight ['bert', 'encoder', 'layer_5', 'output', 'dense', 'kernel']\n",
      "Skipping bert/encoder/layer_5/output/dense/kernel/adam_m\n",
      "Skipping bert/encoder/layer_5/output/dense/kernel/adam_v\n",
      "Initialize PyTorch weight ['bert', 'encoder', 'layer_6', 'attention', 'output', 'LayerNorm', 'beta']\n",
      "Skipping bert/encoder/layer_6/attention/output/LayerNorm/beta/adam_m\n",
      "Skipping bert/encoder/layer_6/attention/output/LayerNorm/beta/adam_v\n",
      "Initialize PyTorch weight ['bert', 'encoder', 'layer_6', 'attention', 'output', 'LayerNorm', 'gamma']\n",
      "Skipping bert/encoder/layer_6/attention/output/LayerNorm/gamma/adam_m\n",
      "Skipping bert/encoder/layer_6/attention/output/LayerNorm/gamma/adam_v\n",
      "Initialize PyTorch weight ['bert', 'encoder', 'layer_6', 'attention', 'output', 'dense', 'bias']\n",
      "Skipping bert/encoder/layer_6/attention/output/dense/bias/adam_m\n",
      "Skipping bert/encoder/layer_6/attention/output/dense/bias/adam_v\n",
      "Initialize PyTorch weight ['bert', 'encoder', 'layer_6', 'attention', 'output', 'dense', 'kernel']\n",
      "Skipping bert/encoder/layer_6/attention/output/dense/kernel/adam_m\n",
      "Skipping bert/encoder/layer_6/attention/output/dense/kernel/adam_v\n",
      "Initialize PyTorch weight ['bert', 'encoder', 'layer_6', 'attention', 'self', 'key', 'bias']\n",
      "Skipping bert/encoder/layer_6/attention/self/key/bias/adam_m\n",
      "Skipping bert/encoder/layer_6/attention/self/key/bias/adam_v\n",
      "Initialize PyTorch weight ['bert', 'encoder', 'layer_6', 'attention', 'self', 'key', 'kernel']\n",
      "Skipping bert/encoder/layer_6/attention/self/key/kernel/adam_m\n",
      "Skipping bert/encoder/layer_6/attention/self/key/kernel/adam_v\n",
      "Initialize PyTorch weight ['bert', 'encoder', 'layer_6', 'attention', 'self', 'query', 'bias']\n",
      "Skipping bert/encoder/layer_6/attention/self/query/bias/adam_m\n",
      "Skipping bert/encoder/layer_6/attention/self/query/bias/adam_v\n",
      "Initialize PyTorch weight ['bert', 'encoder', 'layer_6', 'attention', 'self', 'query', 'kernel']\n",
      "Skipping bert/encoder/layer_6/attention/self/query/kernel/adam_m\n",
      "Skipping bert/encoder/layer_6/attention/self/query/kernel/adam_v\n",
      "Initialize PyTorch weight ['bert', 'encoder', 'layer_6', 'attention', 'self', 'value', 'bias']\n",
      "Skipping bert/encoder/layer_6/attention/self/value/bias/adam_m\n",
      "Skipping bert/encoder/layer_6/attention/self/value/bias/adam_v\n",
      "Initialize PyTorch weight ['bert', 'encoder', 'layer_6', 'attention', 'self', 'value', 'kernel']\n",
      "Skipping bert/encoder/layer_6/attention/self/value/kernel/adam_m\n",
      "Skipping bert/encoder/layer_6/attention/self/value/kernel/adam_v\n",
      "Initialize PyTorch weight ['bert', 'encoder', 'layer_6', 'intermediate', 'dense', 'bias']\n",
      "Skipping bert/encoder/layer_6/intermediate/dense/bias/adam_m\n",
      "Skipping bert/encoder/layer_6/intermediate/dense/bias/adam_v\n",
      "Initialize PyTorch weight ['bert', 'encoder', 'layer_6', 'intermediate', 'dense', 'kernel']\n",
      "Skipping bert/encoder/layer_6/intermediate/dense/kernel/adam_m\n",
      "Skipping bert/encoder/layer_6/intermediate/dense/kernel/adam_v\n",
      "Initialize PyTorch weight ['bert', 'encoder', 'layer_6', 'output', 'LayerNorm', 'beta']\n",
      "Skipping bert/encoder/layer_6/output/LayerNorm/beta/adam_m\n",
      "Skipping bert/encoder/layer_6/output/LayerNorm/beta/adam_v\n",
      "Initialize PyTorch weight ['bert', 'encoder', 'layer_6', 'output', 'LayerNorm', 'gamma']\n",
      "Skipping bert/encoder/layer_6/output/LayerNorm/gamma/adam_m\n",
      "Skipping bert/encoder/layer_6/output/LayerNorm/gamma/adam_v\n",
      "Initialize PyTorch weight ['bert', 'encoder', 'layer_6', 'output', 'dense', 'bias']\n",
      "Skipping bert/encoder/layer_6/output/dense/bias/adam_m\n",
      "Skipping bert/encoder/layer_6/output/dense/bias/adam_v\n",
      "Initialize PyTorch weight ['bert', 'encoder', 'layer_6', 'output', 'dense', 'kernel']\n",
      "Skipping bert/encoder/layer_6/output/dense/kernel/adam_m\n",
      "Skipping bert/encoder/layer_6/output/dense/kernel/adam_v\n",
      "Initialize PyTorch weight ['bert', 'encoder', 'layer_7', 'attention', 'output', 'LayerNorm', 'beta']\n",
      "Skipping bert/encoder/layer_7/attention/output/LayerNorm/beta/adam_m\n",
      "Skipping bert/encoder/layer_7/attention/output/LayerNorm/beta/adam_v\n",
      "Initialize PyTorch weight ['bert', 'encoder', 'layer_7', 'attention', 'output', 'LayerNorm', 'gamma']\n",
      "Skipping bert/encoder/layer_7/attention/output/LayerNorm/gamma/adam_m\n",
      "Skipping bert/encoder/layer_7/attention/output/LayerNorm/gamma/adam_v\n",
      "Initialize PyTorch weight ['bert', 'encoder', 'layer_7', 'attention', 'output', 'dense', 'bias']\n",
      "Skipping bert/encoder/layer_7/attention/output/dense/bias/adam_m\n",
      "Skipping bert/encoder/layer_7/attention/output/dense/bias/adam_v\n",
      "Initialize PyTorch weight ['bert', 'encoder', 'layer_7', 'attention', 'output', 'dense', 'kernel']\n",
      "Skipping bert/encoder/layer_7/attention/output/dense/kernel/adam_m\n",
      "Skipping bert/encoder/layer_7/attention/output/dense/kernel/adam_v\n",
      "Initialize PyTorch weight ['bert', 'encoder', 'layer_7', 'attention', 'self', 'key', 'bias']\n",
      "Skipping bert/encoder/layer_7/attention/self/key/bias/adam_m\n",
      "Skipping bert/encoder/layer_7/attention/self/key/bias/adam_v\n",
      "Initialize PyTorch weight ['bert', 'encoder', 'layer_7', 'attention', 'self', 'key', 'kernel']\n",
      "Skipping bert/encoder/layer_7/attention/self/key/kernel/adam_m\n",
      "Skipping bert/encoder/layer_7/attention/self/key/kernel/adam_v\n",
      "Initialize PyTorch weight ['bert', 'encoder', 'layer_7', 'attention', 'self', 'query', 'bias']\n",
      "Skipping bert/encoder/layer_7/attention/self/query/bias/adam_m\n",
      "Skipping bert/encoder/layer_7/attention/self/query/bias/adam_v\n",
      "Initialize PyTorch weight ['bert', 'encoder', 'layer_7', 'attention', 'self', 'query', 'kernel']\n",
      "Skipping bert/encoder/layer_7/attention/self/query/kernel/adam_m\n",
      "Skipping bert/encoder/layer_7/attention/self/query/kernel/adam_v\n",
      "Initialize PyTorch weight ['bert', 'encoder', 'layer_7', 'attention', 'self', 'value', 'bias']\n",
      "Skipping bert/encoder/layer_7/attention/self/value/bias/adam_m\n",
      "Skipping bert/encoder/layer_7/attention/self/value/bias/adam_v\n",
      "Initialize PyTorch weight ['bert', 'encoder', 'layer_7', 'attention', 'self', 'value', 'kernel']\n",
      "Skipping bert/encoder/layer_7/attention/self/value/kernel/adam_m\n",
      "Skipping bert/encoder/layer_7/attention/self/value/kernel/adam_v\n",
      "Initialize PyTorch weight ['bert', 'encoder', 'layer_7', 'intermediate', 'dense', 'bias']\n",
      "Skipping bert/encoder/layer_7/intermediate/dense/bias/adam_m\n",
      "Skipping bert/encoder/layer_7/intermediate/dense/bias/adam_v\n",
      "Initialize PyTorch weight ['bert', 'encoder', 'layer_7', 'intermediate', 'dense', 'kernel']\n",
      "Skipping bert/encoder/layer_7/intermediate/dense/kernel/adam_m\n",
      "Skipping bert/encoder/layer_7/intermediate/dense/kernel/adam_v\n",
      "Initialize PyTorch weight ['bert', 'encoder', 'layer_7', 'output', 'LayerNorm', 'beta']\n",
      "Skipping bert/encoder/layer_7/output/LayerNorm/beta/adam_m\n",
      "Skipping bert/encoder/layer_7/output/LayerNorm/beta/adam_v\n",
      "Initialize PyTorch weight ['bert', 'encoder', 'layer_7', 'output', 'LayerNorm', 'gamma']\n",
      "Skipping bert/encoder/layer_7/output/LayerNorm/gamma/adam_m\n",
      "Skipping bert/encoder/layer_7/output/LayerNorm/gamma/adam_v\n",
      "Initialize PyTorch weight ['bert', 'encoder', 'layer_7', 'output', 'dense', 'bias']\n",
      "Skipping bert/encoder/layer_7/output/dense/bias/adam_m\n",
      "Skipping bert/encoder/layer_7/output/dense/bias/adam_v\n",
      "Initialize PyTorch weight ['bert', 'encoder', 'layer_7', 'output', 'dense', 'kernel']\n",
      "Skipping bert/encoder/layer_7/output/dense/kernel/adam_m\n",
      "Skipping bert/encoder/layer_7/output/dense/kernel/adam_v\n",
      "Initialize PyTorch weight ['bert', 'encoder', 'layer_8', 'attention', 'output', 'LayerNorm', 'beta']\n",
      "Skipping bert/encoder/layer_8/attention/output/LayerNorm/beta/adam_m\n",
      "Skipping bert/encoder/layer_8/attention/output/LayerNorm/beta/adam_v\n",
      "Initialize PyTorch weight ['bert', 'encoder', 'layer_8', 'attention', 'output', 'LayerNorm', 'gamma']\n",
      "Skipping bert/encoder/layer_8/attention/output/LayerNorm/gamma/adam_m\n",
      "Skipping bert/encoder/layer_8/attention/output/LayerNorm/gamma/adam_v\n",
      "Initialize PyTorch weight ['bert', 'encoder', 'layer_8', 'attention', 'output', 'dense', 'bias']\n",
      "Skipping bert/encoder/layer_8/attention/output/dense/bias/adam_m\n",
      "Skipping bert/encoder/layer_8/attention/output/dense/bias/adam_v\n",
      "Initialize PyTorch weight ['bert', 'encoder', 'layer_8', 'attention', 'output', 'dense', 'kernel']\n",
      "Skipping bert/encoder/layer_8/attention/output/dense/kernel/adam_m\n",
      "Skipping bert/encoder/layer_8/attention/output/dense/kernel/adam_v\n",
      "Initialize PyTorch weight ['bert', 'encoder', 'layer_8', 'attention', 'self', 'key', 'bias']\n",
      "Skipping bert/encoder/layer_8/attention/self/key/bias/adam_m\n",
      "Skipping bert/encoder/layer_8/attention/self/key/bias/adam_v\n",
      "Initialize PyTorch weight ['bert', 'encoder', 'layer_8', 'attention', 'self', 'key', 'kernel']\n",
      "Skipping bert/encoder/layer_8/attention/self/key/kernel/adam_m\n",
      "Skipping bert/encoder/layer_8/attention/self/key/kernel/adam_v\n",
      "Initialize PyTorch weight ['bert', 'encoder', 'layer_8', 'attention', 'self', 'query', 'bias']\n",
      "Skipping bert/encoder/layer_8/attention/self/query/bias/adam_m\n",
      "Skipping bert/encoder/layer_8/attention/self/query/bias/adam_v\n",
      "Initialize PyTorch weight ['bert', 'encoder', 'layer_8', 'attention', 'self', 'query', 'kernel']\n",
      "Skipping bert/encoder/layer_8/attention/self/query/kernel/adam_m\n",
      "Skipping bert/encoder/layer_8/attention/self/query/kernel/adam_v\n",
      "Initialize PyTorch weight ['bert', 'encoder', 'layer_8', 'attention', 'self', 'value', 'bias']\n",
      "Skipping bert/encoder/layer_8/attention/self/value/bias/adam_m\n",
      "Skipping bert/encoder/layer_8/attention/self/value/bias/adam_v\n",
      "Initialize PyTorch weight ['bert', 'encoder', 'layer_8', 'attention', 'self', 'value', 'kernel']\n",
      "Skipping bert/encoder/layer_8/attention/self/value/kernel/adam_m\n",
      "Skipping bert/encoder/layer_8/attention/self/value/kernel/adam_v\n",
      "Initialize PyTorch weight ['bert', 'encoder', 'layer_8', 'intermediate', 'dense', 'bias']\n",
      "Skipping bert/encoder/layer_8/intermediate/dense/bias/adam_m\n",
      "Skipping bert/encoder/layer_8/intermediate/dense/bias/adam_v\n",
      "Initialize PyTorch weight ['bert', 'encoder', 'layer_8', 'intermediate', 'dense', 'kernel']\n",
      "Skipping bert/encoder/layer_8/intermediate/dense/kernel/adam_m\n",
      "Skipping bert/encoder/layer_8/intermediate/dense/kernel/adam_v\n",
      "Initialize PyTorch weight ['bert', 'encoder', 'layer_8', 'output', 'LayerNorm', 'beta']\n",
      "Skipping bert/encoder/layer_8/output/LayerNorm/beta/adam_m\n",
      "Skipping bert/encoder/layer_8/output/LayerNorm/beta/adam_v\n",
      "Initialize PyTorch weight ['bert', 'encoder', 'layer_8', 'output', 'LayerNorm', 'gamma']\n",
      "Skipping bert/encoder/layer_8/output/LayerNorm/gamma/adam_m\n",
      "Skipping bert/encoder/layer_8/output/LayerNorm/gamma/adam_v\n",
      "Initialize PyTorch weight ['bert', 'encoder', 'layer_8', 'output', 'dense', 'bias']\n",
      "Skipping bert/encoder/layer_8/output/dense/bias/adam_m\n",
      "Skipping bert/encoder/layer_8/output/dense/bias/adam_v\n",
      "Initialize PyTorch weight ['bert', 'encoder', 'layer_8', 'output', 'dense', 'kernel']\n",
      "Skipping bert/encoder/layer_8/output/dense/kernel/adam_m\n",
      "Skipping bert/encoder/layer_8/output/dense/kernel/adam_v\n",
      "Initialize PyTorch weight ['bert', 'encoder', 'layer_9', 'attention', 'output', 'LayerNorm', 'beta']\n",
      "Skipping bert/encoder/layer_9/attention/output/LayerNorm/beta/adam_m\n",
      "Skipping bert/encoder/layer_9/attention/output/LayerNorm/beta/adam_v\n",
      "Initialize PyTorch weight ['bert', 'encoder', 'layer_9', 'attention', 'output', 'LayerNorm', 'gamma']\n",
      "Skipping bert/encoder/layer_9/attention/output/LayerNorm/gamma/adam_m\n",
      "Skipping bert/encoder/layer_9/attention/output/LayerNorm/gamma/adam_v\n",
      "Initialize PyTorch weight ['bert', 'encoder', 'layer_9', 'attention', 'output', 'dense', 'bias']\n",
      "Skipping bert/encoder/layer_9/attention/output/dense/bias/adam_m\n",
      "Skipping bert/encoder/layer_9/attention/output/dense/bias/adam_v\n",
      "Initialize PyTorch weight ['bert', 'encoder', 'layer_9', 'attention', 'output', 'dense', 'kernel']\n",
      "Skipping bert/encoder/layer_9/attention/output/dense/kernel/adam_m\n",
      "Skipping bert/encoder/layer_9/attention/output/dense/kernel/adam_v\n",
      "Initialize PyTorch weight ['bert', 'encoder', 'layer_9', 'attention', 'self', 'key', 'bias']\n",
      "Skipping bert/encoder/layer_9/attention/self/key/bias/adam_m\n",
      "Skipping bert/encoder/layer_9/attention/self/key/bias/adam_v\n",
      "Initialize PyTorch weight ['bert', 'encoder', 'layer_9', 'attention', 'self', 'key', 'kernel']\n",
      "Skipping bert/encoder/layer_9/attention/self/key/kernel/adam_m\n",
      "Skipping bert/encoder/layer_9/attention/self/key/kernel/adam_v\n",
      "Initialize PyTorch weight ['bert', 'encoder', 'layer_9', 'attention', 'self', 'query', 'bias']\n",
      "Skipping bert/encoder/layer_9/attention/self/query/bias/adam_m\n",
      "Skipping bert/encoder/layer_9/attention/self/query/bias/adam_v\n",
      "Initialize PyTorch weight ['bert', 'encoder', 'layer_9', 'attention', 'self', 'query', 'kernel']\n",
      "Skipping bert/encoder/layer_9/attention/self/query/kernel/adam_m\n",
      "Skipping bert/encoder/layer_9/attention/self/query/kernel/adam_v\n",
      "Initialize PyTorch weight ['bert', 'encoder', 'layer_9', 'attention', 'self', 'value', 'bias']\n",
      "Skipping bert/encoder/layer_9/attention/self/value/bias/adam_m\n",
      "Skipping bert/encoder/layer_9/attention/self/value/bias/adam_v\n",
      "Initialize PyTorch weight ['bert', 'encoder', 'layer_9', 'attention', 'self', 'value', 'kernel']\n",
      "Skipping bert/encoder/layer_9/attention/self/value/kernel/adam_m\n",
      "Skipping bert/encoder/layer_9/attention/self/value/kernel/adam_v\n",
      "Initialize PyTorch weight ['bert', 'encoder', 'layer_9', 'intermediate', 'dense', 'bias']\n",
      "Skipping bert/encoder/layer_9/intermediate/dense/bias/adam_m\n",
      "Skipping bert/encoder/layer_9/intermediate/dense/bias/adam_v\n",
      "Initialize PyTorch weight ['bert', 'encoder', 'layer_9', 'intermediate', 'dense', 'kernel']\n",
      "Skipping bert/encoder/layer_9/intermediate/dense/kernel/adam_m\n",
      "Skipping bert/encoder/layer_9/intermediate/dense/kernel/adam_v\n",
      "Initialize PyTorch weight ['bert', 'encoder', 'layer_9', 'output', 'LayerNorm', 'beta']\n",
      "Skipping bert/encoder/layer_9/output/LayerNorm/beta/adam_m\n",
      "Skipping bert/encoder/layer_9/output/LayerNorm/beta/adam_v\n",
      "Initialize PyTorch weight ['bert', 'encoder', 'layer_9', 'output', 'LayerNorm', 'gamma']\n",
      "Skipping bert/encoder/layer_9/output/LayerNorm/gamma/adam_m\n",
      "Skipping bert/encoder/layer_9/output/LayerNorm/gamma/adam_v\n",
      "Initialize PyTorch weight ['bert', 'encoder', 'layer_9', 'output', 'dense', 'bias']\n",
      "Skipping bert/encoder/layer_9/output/dense/bias/adam_m\n",
      "Skipping bert/encoder/layer_9/output/dense/bias/adam_v\n",
      "Initialize PyTorch weight ['bert', 'encoder', 'layer_9', 'output', 'dense', 'kernel']\n",
      "Skipping bert/encoder/layer_9/output/dense/kernel/adam_m\n",
      "Skipping bert/encoder/layer_9/output/dense/kernel/adam_v\n",
      "Initialize PyTorch weight ['bert', 'pooler', 'dense', 'bias']\n",
      "Initialize PyTorch weight ['bert', 'pooler', 'dense', 'kernel']\n",
      "Skipping cls/squad/output_bias\n",
      "Initialize PyTorch weight ['cls', 'squad', 'output_bias']\n",
      "Skipping cls/squad/output_bias/adam_m\n",
      "Skipping cls/squad/output_bias/adam_v\n",
      "Skipping cls/squad/output_weights\n",
      "Initialize PyTorch weight ['cls', 'squad', 'output_weights']\n",
      "Skipping cls/squad/output_weights/adam_m\n",
      "Skipping cls/squad/output_weights/adam_v\n",
      "Skipping global_step\n"
     ]
    },
    {
     "data": {
      "text/plain": [
       "BertForSequenceClassification(\n",
       "  (bert): BertModel(\n",
       "    (embeddings): BertEmbeddings(\n",
       "      (word_embeddings): Embedding(119547, 768, padding_idx=0)\n",
       "      (position_embeddings): Embedding(512, 768)\n",
       "      (token_type_embeddings): Embedding(2, 768)\n",
       "      (LayerNorm): BertLayerNorm()\n",
       "      (dropout): Dropout(p=0.1, inplace=False)\n",
       "    )\n",
       "    (encoder): BertEncoder(\n",
       "      (layer): ModuleList(\n",
       "        (0): BertLayer(\n",
       "          (attention): BertAttention(\n",
       "            (self): BertSelfAttention(\n",
       "              (query): Linear(in_features=768, out_features=768, bias=True)\n",
       "              (key): Linear(in_features=768, out_features=768, bias=True)\n",
       "              (value): Linear(in_features=768, out_features=768, bias=True)\n",
       "              (dropout): Dropout(p=0.1, inplace=False)\n",
       "            )\n",
       "            (output): BertSelfOutput(\n",
       "              (dense): Linear(in_features=768, out_features=768, bias=True)\n",
       "              (LayerNorm): BertLayerNorm()\n",
       "              (dropout): Dropout(p=0.1, inplace=False)\n",
       "            )\n",
       "          )\n",
       "          (intermediate): BertIntermediate(\n",
       "            (dense): Linear(in_features=768, out_features=3072, bias=True)\n",
       "          )\n",
       "          (output): BertOutput(\n",
       "            (dense): Linear(in_features=3072, out_features=768, bias=True)\n",
       "            (LayerNorm): BertLayerNorm()\n",
       "            (dropout): Dropout(p=0.1, inplace=False)\n",
       "          )\n",
       "        )\n",
       "        (1): BertLayer(\n",
       "          (attention): BertAttention(\n",
       "            (self): BertSelfAttention(\n",
       "              (query): Linear(in_features=768, out_features=768, bias=True)\n",
       "              (key): Linear(in_features=768, out_features=768, bias=True)\n",
       "              (value): Linear(in_features=768, out_features=768, bias=True)\n",
       "              (dropout): Dropout(p=0.1, inplace=False)\n",
       "            )\n",
       "            (output): BertSelfOutput(\n",
       "              (dense): Linear(in_features=768, out_features=768, bias=True)\n",
       "              (LayerNorm): BertLayerNorm()\n",
       "              (dropout): Dropout(p=0.1, inplace=False)\n",
       "            )\n",
       "          )\n",
       "          (intermediate): BertIntermediate(\n",
       "            (dense): Linear(in_features=768, out_features=3072, bias=True)\n",
       "          )\n",
       "          (output): BertOutput(\n",
       "            (dense): Linear(in_features=3072, out_features=768, bias=True)\n",
       "            (LayerNorm): BertLayerNorm()\n",
       "            (dropout): Dropout(p=0.1, inplace=False)\n",
       "          )\n",
       "        )\n",
       "        (2): BertLayer(\n",
       "          (attention): BertAttention(\n",
       "            (self): BertSelfAttention(\n",
       "              (query): Linear(in_features=768, out_features=768, bias=True)\n",
       "              (key): Linear(in_features=768, out_features=768, bias=True)\n",
       "              (value): Linear(in_features=768, out_features=768, bias=True)\n",
       "              (dropout): Dropout(p=0.1, inplace=False)\n",
       "            )\n",
       "            (output): BertSelfOutput(\n",
       "              (dense): Linear(in_features=768, out_features=768, bias=True)\n",
       "              (LayerNorm): BertLayerNorm()\n",
       "              (dropout): Dropout(p=0.1, inplace=False)\n",
       "            )\n",
       "          )\n",
       "          (intermediate): BertIntermediate(\n",
       "            (dense): Linear(in_features=768, out_features=3072, bias=True)\n",
       "          )\n",
       "          (output): BertOutput(\n",
       "            (dense): Linear(in_features=3072, out_features=768, bias=True)\n",
       "            (LayerNorm): BertLayerNorm()\n",
       "            (dropout): Dropout(p=0.1, inplace=False)\n",
       "          )\n",
       "        )\n",
       "        (3): BertLayer(\n",
       "          (attention): BertAttention(\n",
       "            (self): BertSelfAttention(\n",
       "              (query): Linear(in_features=768, out_features=768, bias=True)\n",
       "              (key): Linear(in_features=768, out_features=768, bias=True)\n",
       "              (value): Linear(in_features=768, out_features=768, bias=True)\n",
       "              (dropout): Dropout(p=0.1, inplace=False)\n",
       "            )\n",
       "            (output): BertSelfOutput(\n",
       "              (dense): Linear(in_features=768, out_features=768, bias=True)\n",
       "              (LayerNorm): BertLayerNorm()\n",
       "              (dropout): Dropout(p=0.1, inplace=False)\n",
       "            )\n",
       "          )\n",
       "          (intermediate): BertIntermediate(\n",
       "            (dense): Linear(in_features=768, out_features=3072, bias=True)\n",
       "          )\n",
       "          (output): BertOutput(\n",
       "            (dense): Linear(in_features=3072, out_features=768, bias=True)\n",
       "            (LayerNorm): BertLayerNorm()\n",
       "            (dropout): Dropout(p=0.1, inplace=False)\n",
       "          )\n",
       "        )\n",
       "        (4): BertLayer(\n",
       "          (attention): BertAttention(\n",
       "            (self): BertSelfAttention(\n",
       "              (query): Linear(in_features=768, out_features=768, bias=True)\n",
       "              (key): Linear(in_features=768, out_features=768, bias=True)\n",
       "              (value): Linear(in_features=768, out_features=768, bias=True)\n",
       "              (dropout): Dropout(p=0.1, inplace=False)\n",
       "            )\n",
       "            (output): BertSelfOutput(\n",
       "              (dense): Linear(in_features=768, out_features=768, bias=True)\n",
       "              (LayerNorm): BertLayerNorm()\n",
       "              (dropout): Dropout(p=0.1, inplace=False)\n",
       "            )\n",
       "          )\n",
       "          (intermediate): BertIntermediate(\n",
       "            (dense): Linear(in_features=768, out_features=3072, bias=True)\n",
       "          )\n",
       "          (output): BertOutput(\n",
       "            (dense): Linear(in_features=3072, out_features=768, bias=True)\n",
       "            (LayerNorm): BertLayerNorm()\n",
       "            (dropout): Dropout(p=0.1, inplace=False)\n",
       "          )\n",
       "        )\n",
       "        (5): BertLayer(\n",
       "          (attention): BertAttention(\n",
       "            (self): BertSelfAttention(\n",
       "              (query): Linear(in_features=768, out_features=768, bias=True)\n",
       "              (key): Linear(in_features=768, out_features=768, bias=True)\n",
       "              (value): Linear(in_features=768, out_features=768, bias=True)\n",
       "              (dropout): Dropout(p=0.1, inplace=False)\n",
       "            )\n",
       "            (output): BertSelfOutput(\n",
       "              (dense): Linear(in_features=768, out_features=768, bias=True)\n",
       "              (LayerNorm): BertLayerNorm()\n",
       "              (dropout): Dropout(p=0.1, inplace=False)\n",
       "            )\n",
       "          )\n",
       "          (intermediate): BertIntermediate(\n",
       "            (dense): Linear(in_features=768, out_features=3072, bias=True)\n",
       "          )\n",
       "          (output): BertOutput(\n",
       "            (dense): Linear(in_features=3072, out_features=768, bias=True)\n",
       "            (LayerNorm): BertLayerNorm()\n",
       "            (dropout): Dropout(p=0.1, inplace=False)\n",
       "          )\n",
       "        )\n",
       "        (6): BertLayer(\n",
       "          (attention): BertAttention(\n",
       "            (self): BertSelfAttention(\n",
       "              (query): Linear(in_features=768, out_features=768, bias=True)\n",
       "              (key): Linear(in_features=768, out_features=768, bias=True)\n",
       "              (value): Linear(in_features=768, out_features=768, bias=True)\n",
       "              (dropout): Dropout(p=0.1, inplace=False)\n",
       "            )\n",
       "            (output): BertSelfOutput(\n",
       "              (dense): Linear(in_features=768, out_features=768, bias=True)\n",
       "              (LayerNorm): BertLayerNorm()\n",
       "              (dropout): Dropout(p=0.1, inplace=False)\n",
       "            )\n",
       "          )\n",
       "          (intermediate): BertIntermediate(\n",
       "            (dense): Linear(in_features=768, out_features=3072, bias=True)\n",
       "          )\n",
       "          (output): BertOutput(\n",
       "            (dense): Linear(in_features=3072, out_features=768, bias=True)\n",
       "            (LayerNorm): BertLayerNorm()\n",
       "            (dropout): Dropout(p=0.1, inplace=False)\n",
       "          )\n",
       "        )\n",
       "        (7): BertLayer(\n",
       "          (attention): BertAttention(\n",
       "            (self): BertSelfAttention(\n",
       "              (query): Linear(in_features=768, out_features=768, bias=True)\n",
       "              (key): Linear(in_features=768, out_features=768, bias=True)\n",
       "              (value): Linear(in_features=768, out_features=768, bias=True)\n",
       "              (dropout): Dropout(p=0.1, inplace=False)\n",
       "            )\n",
       "            (output): BertSelfOutput(\n",
       "              (dense): Linear(in_features=768, out_features=768, bias=True)\n",
       "              (LayerNorm): BertLayerNorm()\n",
       "              (dropout): Dropout(p=0.1, inplace=False)\n",
       "            )\n",
       "          )\n",
       "          (intermediate): BertIntermediate(\n",
       "            (dense): Linear(in_features=768, out_features=3072, bias=True)\n",
       "          )\n",
       "          (output): BertOutput(\n",
       "            (dense): Linear(in_features=3072, out_features=768, bias=True)\n",
       "            (LayerNorm): BertLayerNorm()\n",
       "            (dropout): Dropout(p=0.1, inplace=False)\n",
       "          )\n",
       "        )\n",
       "        (8): BertLayer(\n",
       "          (attention): BertAttention(\n",
       "            (self): BertSelfAttention(\n",
       "              (query): Linear(in_features=768, out_features=768, bias=True)\n",
       "              (key): Linear(in_features=768, out_features=768, bias=True)\n",
       "              (value): Linear(in_features=768, out_features=768, bias=True)\n",
       "              (dropout): Dropout(p=0.1, inplace=False)\n",
       "            )\n",
       "            (output): BertSelfOutput(\n",
       "              (dense): Linear(in_features=768, out_features=768, bias=True)\n",
       "              (LayerNorm): BertLayerNorm()\n",
       "              (dropout): Dropout(p=0.1, inplace=False)\n",
       "            )\n",
       "          )\n",
       "          (intermediate): BertIntermediate(\n",
       "            (dense): Linear(in_features=768, out_features=3072, bias=True)\n",
       "          )\n",
       "          (output): BertOutput(\n",
       "            (dense): Linear(in_features=3072, out_features=768, bias=True)\n",
       "            (LayerNorm): BertLayerNorm()\n",
       "            (dropout): Dropout(p=0.1, inplace=False)\n",
       "          )\n",
       "        )\n",
       "        (9): BertLayer(\n",
       "          (attention): BertAttention(\n",
       "            (self): BertSelfAttention(\n",
       "              (query): Linear(in_features=768, out_features=768, bias=True)\n",
       "              (key): Linear(in_features=768, out_features=768, bias=True)\n",
       "              (value): Linear(in_features=768, out_features=768, bias=True)\n",
       "              (dropout): Dropout(p=0.1, inplace=False)\n",
       "            )\n",
       "            (output): BertSelfOutput(\n",
       "              (dense): Linear(in_features=768, out_features=768, bias=True)\n",
       "              (LayerNorm): BertLayerNorm()\n",
       "              (dropout): Dropout(p=0.1, inplace=False)\n",
       "            )\n",
       "          )\n",
       "          (intermediate): BertIntermediate(\n",
       "            (dense): Linear(in_features=768, out_features=3072, bias=True)\n",
       "          )\n",
       "          (output): BertOutput(\n",
       "            (dense): Linear(in_features=3072, out_features=768, bias=True)\n",
       "            (LayerNorm): BertLayerNorm()\n",
       "            (dropout): Dropout(p=0.1, inplace=False)\n",
       "          )\n",
       "        )\n",
       "        (10): BertLayer(\n",
       "          (attention): BertAttention(\n",
       "            (self): BertSelfAttention(\n",
       "              (query): Linear(in_features=768, out_features=768, bias=True)\n",
       "              (key): Linear(in_features=768, out_features=768, bias=True)\n",
       "              (value): Linear(in_features=768, out_features=768, bias=True)\n",
       "              (dropout): Dropout(p=0.1, inplace=False)\n",
       "            )\n",
       "            (output): BertSelfOutput(\n",
       "              (dense): Linear(in_features=768, out_features=768, bias=True)\n",
       "              (LayerNorm): BertLayerNorm()\n",
       "              (dropout): Dropout(p=0.1, inplace=False)\n",
       "            )\n",
       "          )\n",
       "          (intermediate): BertIntermediate(\n",
       "            (dense): Linear(in_features=768, out_features=3072, bias=True)\n",
       "          )\n",
       "          (output): BertOutput(\n",
       "            (dense): Linear(in_features=3072, out_features=768, bias=True)\n",
       "            (LayerNorm): BertLayerNorm()\n",
       "            (dropout): Dropout(p=0.1, inplace=False)\n",
       "          )\n",
       "        )\n",
       "        (11): BertLayer(\n",
       "          (attention): BertAttention(\n",
       "            (self): BertSelfAttention(\n",
       "              (query): Linear(in_features=768, out_features=768, bias=True)\n",
       "              (key): Linear(in_features=768, out_features=768, bias=True)\n",
       "              (value): Linear(in_features=768, out_features=768, bias=True)\n",
       "              (dropout): Dropout(p=0.1, inplace=False)\n",
       "            )\n",
       "            (output): BertSelfOutput(\n",
       "              (dense): Linear(in_features=768, out_features=768, bias=True)\n",
       "              (LayerNorm): BertLayerNorm()\n",
       "              (dropout): Dropout(p=0.1, inplace=False)\n",
       "            )\n",
       "          )\n",
       "          (intermediate): BertIntermediate(\n",
       "            (dense): Linear(in_features=768, out_features=3072, bias=True)\n",
       "          )\n",
       "          (output): BertOutput(\n",
       "            (dense): Linear(in_features=3072, out_features=768, bias=True)\n",
       "            (LayerNorm): BertLayerNorm()\n",
       "            (dropout): Dropout(p=0.1, inplace=False)\n",
       "          )\n",
       "        )\n",
       "      )\n",
       "    )\n",
       "    (pooler): BertPooler(\n",
       "      (dense): Linear(in_features=768, out_features=768, bias=True)\n",
       "      (activation): Tanh()\n",
       "    )\n",
       "  )\n",
       "  (dropout): Dropout(p=0.1, inplace=False)\n",
       "  (classifier): Linear(in_features=768, out_features=2, bias=True)\n",
       ")"
      ]
     },
     "execution_count": 57,
     "metadata": {},
     "output_type": "execute_result"
    }
   ],
   "source": [
    "load_tf_weights_in_bert(bert_model, BERT_INIT_CHECKPOINT)"
   ]
  },
  {
   "cell_type": "code",
   "execution_count": 58,
   "metadata": {},
   "outputs": [],
   "source": [
    "torch.save(bert_model.state_dict(), PYTORCH_MODEL_SAVE_PATH)"
   ]
  },
  {
   "cell_type": "markdown",
   "metadata": {},
   "source": [
    "#### tokenize"
   ]
  },
  {
   "cell_type": "code",
   "execution_count": 59,
   "metadata": {},
   "outputs": [],
   "source": [
    "tokenizer = BertTokenizer.from_pretrained(BERT_PRETRAINED_DIR)"
   ]
  },
  {
   "cell_type": "code",
   "execution_count": 60,
   "metadata": {},
   "outputs": [
    {
     "name": "stdout",
     "output_type": "stream",
     "text": [
      "['[CLS]', 'вже', 'ма', '##иже', 'до', '##бу', 'від', '##су', '##тня', 'га', '##ря', '##ча', 'вода', '[SEP]']\n"
     ]
    }
   ],
   "source": [
    "text = \"вже майже добу відсутня гаряча вода\"\n",
    "marked_text = \"[CLS] \" + text + \" [SEP]\"\n",
    "\n",
    "tokenized_text = tokenizer.tokenize(marked_text)\n",
    "\n",
    "print(tokenized_text)"
   ]
  },
  {
   "cell_type": "code",
   "execution_count": 61,
   "metadata": {},
   "outputs": [
    {
     "name": "stdout",
     "output_type": "stream",
     "text": [
      "[CLS]           101\n",
      "вже          23,692\n",
      "ма           97,744\n",
      "##иже        94,152\n",
      "до           10,344\n",
      "##бу         19,590\n",
      "від          11,141\n",
      "##су         16,417\n",
      "##тня        80,897\n",
      "га           16,616\n",
      "##ря         39,025\n",
      "##ча         13,035\n",
      "вода         30,953\n",
      "[SEP]           102\n"
     ]
    }
   ],
   "source": [
    "indexed_tokens = tokenizer.convert_tokens_to_ids(tokenized_text)\n",
    "\n",
    "for tup in zip(tokenized_text, indexed_tokens):\n",
    "    print('{:<12} {:>6,}'.format(tup[0], tup[1]))"
   ]
  },
  {
   "cell_type": "markdown",
   "metadata": {},
   "source": [
    "#### segment ids"
   ]
  },
  {
   "cell_type": "code",
   "execution_count": 62,
   "metadata": {},
   "outputs": [
    {
     "name": "stdout",
     "output_type": "stream",
     "text": [
      "[1, 1, 1, 1, 1, 1, 1, 1, 1, 1, 1, 1, 1, 1]\n"
     ]
    }
   ],
   "source": [
    "segments_ids = [1] * len(tokenized_text)\n",
    "\n",
    "print (segments_ids)"
   ]
  },
  {
   "cell_type": "markdown",
   "metadata": {},
   "source": [
    "I don't know why, but TF tokenizer works not correctly and doesn't recognize [CLS] and [SEP] tokens"
   ]
  },
  {
   "cell_type": "markdown",
   "metadata": {},
   "source": [
    "#### load model"
   ]
  },
  {
   "cell_type": "code",
   "execution_count": 63,
   "metadata": {},
   "outputs": [
    {
     "data": {
      "text/plain": [
       "BertModel(\n",
       "  (embeddings): BertEmbeddings(\n",
       "    (word_embeddings): Embedding(119547, 768, padding_idx=0)\n",
       "    (position_embeddings): Embedding(512, 768)\n",
       "    (token_type_embeddings): Embedding(2, 768)\n",
       "    (LayerNorm): BertLayerNorm()\n",
       "    (dropout): Dropout(p=0.1, inplace=False)\n",
       "  )\n",
       "  (encoder): BertEncoder(\n",
       "    (layer): ModuleList(\n",
       "      (0): BertLayer(\n",
       "        (attention): BertAttention(\n",
       "          (self): BertSelfAttention(\n",
       "            (query): Linear(in_features=768, out_features=768, bias=True)\n",
       "            (key): Linear(in_features=768, out_features=768, bias=True)\n",
       "            (value): Linear(in_features=768, out_features=768, bias=True)\n",
       "            (dropout): Dropout(p=0.1, inplace=False)\n",
       "          )\n",
       "          (output): BertSelfOutput(\n",
       "            (dense): Linear(in_features=768, out_features=768, bias=True)\n",
       "            (LayerNorm): BertLayerNorm()\n",
       "            (dropout): Dropout(p=0.1, inplace=False)\n",
       "          )\n",
       "        )\n",
       "        (intermediate): BertIntermediate(\n",
       "          (dense): Linear(in_features=768, out_features=3072, bias=True)\n",
       "        )\n",
       "        (output): BertOutput(\n",
       "          (dense): Linear(in_features=3072, out_features=768, bias=True)\n",
       "          (LayerNorm): BertLayerNorm()\n",
       "          (dropout): Dropout(p=0.1, inplace=False)\n",
       "        )\n",
       "      )\n",
       "      (1): BertLayer(\n",
       "        (attention): BertAttention(\n",
       "          (self): BertSelfAttention(\n",
       "            (query): Linear(in_features=768, out_features=768, bias=True)\n",
       "            (key): Linear(in_features=768, out_features=768, bias=True)\n",
       "            (value): Linear(in_features=768, out_features=768, bias=True)\n",
       "            (dropout): Dropout(p=0.1, inplace=False)\n",
       "          )\n",
       "          (output): BertSelfOutput(\n",
       "            (dense): Linear(in_features=768, out_features=768, bias=True)\n",
       "            (LayerNorm): BertLayerNorm()\n",
       "            (dropout): Dropout(p=0.1, inplace=False)\n",
       "          )\n",
       "        )\n",
       "        (intermediate): BertIntermediate(\n",
       "          (dense): Linear(in_features=768, out_features=3072, bias=True)\n",
       "        )\n",
       "        (output): BertOutput(\n",
       "          (dense): Linear(in_features=3072, out_features=768, bias=True)\n",
       "          (LayerNorm): BertLayerNorm()\n",
       "          (dropout): Dropout(p=0.1, inplace=False)\n",
       "        )\n",
       "      )\n",
       "      (2): BertLayer(\n",
       "        (attention): BertAttention(\n",
       "          (self): BertSelfAttention(\n",
       "            (query): Linear(in_features=768, out_features=768, bias=True)\n",
       "            (key): Linear(in_features=768, out_features=768, bias=True)\n",
       "            (value): Linear(in_features=768, out_features=768, bias=True)\n",
       "            (dropout): Dropout(p=0.1, inplace=False)\n",
       "          )\n",
       "          (output): BertSelfOutput(\n",
       "            (dense): Linear(in_features=768, out_features=768, bias=True)\n",
       "            (LayerNorm): BertLayerNorm()\n",
       "            (dropout): Dropout(p=0.1, inplace=False)\n",
       "          )\n",
       "        )\n",
       "        (intermediate): BertIntermediate(\n",
       "          (dense): Linear(in_features=768, out_features=3072, bias=True)\n",
       "        )\n",
       "        (output): BertOutput(\n",
       "          (dense): Linear(in_features=3072, out_features=768, bias=True)\n",
       "          (LayerNorm): BertLayerNorm()\n",
       "          (dropout): Dropout(p=0.1, inplace=False)\n",
       "        )\n",
       "      )\n",
       "      (3): BertLayer(\n",
       "        (attention): BertAttention(\n",
       "          (self): BertSelfAttention(\n",
       "            (query): Linear(in_features=768, out_features=768, bias=True)\n",
       "            (key): Linear(in_features=768, out_features=768, bias=True)\n",
       "            (value): Linear(in_features=768, out_features=768, bias=True)\n",
       "            (dropout): Dropout(p=0.1, inplace=False)\n",
       "          )\n",
       "          (output): BertSelfOutput(\n",
       "            (dense): Linear(in_features=768, out_features=768, bias=True)\n",
       "            (LayerNorm): BertLayerNorm()\n",
       "            (dropout): Dropout(p=0.1, inplace=False)\n",
       "          )\n",
       "        )\n",
       "        (intermediate): BertIntermediate(\n",
       "          (dense): Linear(in_features=768, out_features=3072, bias=True)\n",
       "        )\n",
       "        (output): BertOutput(\n",
       "          (dense): Linear(in_features=3072, out_features=768, bias=True)\n",
       "          (LayerNorm): BertLayerNorm()\n",
       "          (dropout): Dropout(p=0.1, inplace=False)\n",
       "        )\n",
       "      )\n",
       "      (4): BertLayer(\n",
       "        (attention): BertAttention(\n",
       "          (self): BertSelfAttention(\n",
       "            (query): Linear(in_features=768, out_features=768, bias=True)\n",
       "            (key): Linear(in_features=768, out_features=768, bias=True)\n",
       "            (value): Linear(in_features=768, out_features=768, bias=True)\n",
       "            (dropout): Dropout(p=0.1, inplace=False)\n",
       "          )\n",
       "          (output): BertSelfOutput(\n",
       "            (dense): Linear(in_features=768, out_features=768, bias=True)\n",
       "            (LayerNorm): BertLayerNorm()\n",
       "            (dropout): Dropout(p=0.1, inplace=False)\n",
       "          )\n",
       "        )\n",
       "        (intermediate): BertIntermediate(\n",
       "          (dense): Linear(in_features=768, out_features=3072, bias=True)\n",
       "        )\n",
       "        (output): BertOutput(\n",
       "          (dense): Linear(in_features=3072, out_features=768, bias=True)\n",
       "          (LayerNorm): BertLayerNorm()\n",
       "          (dropout): Dropout(p=0.1, inplace=False)\n",
       "        )\n",
       "      )\n",
       "      (5): BertLayer(\n",
       "        (attention): BertAttention(\n",
       "          (self): BertSelfAttention(\n",
       "            (query): Linear(in_features=768, out_features=768, bias=True)\n",
       "            (key): Linear(in_features=768, out_features=768, bias=True)\n",
       "            (value): Linear(in_features=768, out_features=768, bias=True)\n",
       "            (dropout): Dropout(p=0.1, inplace=False)\n",
       "          )\n",
       "          (output): BertSelfOutput(\n",
       "            (dense): Linear(in_features=768, out_features=768, bias=True)\n",
       "            (LayerNorm): BertLayerNorm()\n",
       "            (dropout): Dropout(p=0.1, inplace=False)\n",
       "          )\n",
       "        )\n",
       "        (intermediate): BertIntermediate(\n",
       "          (dense): Linear(in_features=768, out_features=3072, bias=True)\n",
       "        )\n",
       "        (output): BertOutput(\n",
       "          (dense): Linear(in_features=3072, out_features=768, bias=True)\n",
       "          (LayerNorm): BertLayerNorm()\n",
       "          (dropout): Dropout(p=0.1, inplace=False)\n",
       "        )\n",
       "      )\n",
       "      (6): BertLayer(\n",
       "        (attention): BertAttention(\n",
       "          (self): BertSelfAttention(\n",
       "            (query): Linear(in_features=768, out_features=768, bias=True)\n",
       "            (key): Linear(in_features=768, out_features=768, bias=True)\n",
       "            (value): Linear(in_features=768, out_features=768, bias=True)\n",
       "            (dropout): Dropout(p=0.1, inplace=False)\n",
       "          )\n",
       "          (output): BertSelfOutput(\n",
       "            (dense): Linear(in_features=768, out_features=768, bias=True)\n",
       "            (LayerNorm): BertLayerNorm()\n",
       "            (dropout): Dropout(p=0.1, inplace=False)\n",
       "          )\n",
       "        )\n",
       "        (intermediate): BertIntermediate(\n",
       "          (dense): Linear(in_features=768, out_features=3072, bias=True)\n",
       "        )\n",
       "        (output): BertOutput(\n",
       "          (dense): Linear(in_features=3072, out_features=768, bias=True)\n",
       "          (LayerNorm): BertLayerNorm()\n",
       "          (dropout): Dropout(p=0.1, inplace=False)\n",
       "        )\n",
       "      )\n",
       "      (7): BertLayer(\n",
       "        (attention): BertAttention(\n",
       "          (self): BertSelfAttention(\n",
       "            (query): Linear(in_features=768, out_features=768, bias=True)\n",
       "            (key): Linear(in_features=768, out_features=768, bias=True)\n",
       "            (value): Linear(in_features=768, out_features=768, bias=True)\n",
       "            (dropout): Dropout(p=0.1, inplace=False)\n",
       "          )\n",
       "          (output): BertSelfOutput(\n",
       "            (dense): Linear(in_features=768, out_features=768, bias=True)\n",
       "            (LayerNorm): BertLayerNorm()\n",
       "            (dropout): Dropout(p=0.1, inplace=False)\n",
       "          )\n",
       "        )\n",
       "        (intermediate): BertIntermediate(\n",
       "          (dense): Linear(in_features=768, out_features=3072, bias=True)\n",
       "        )\n",
       "        (output): BertOutput(\n",
       "          (dense): Linear(in_features=3072, out_features=768, bias=True)\n",
       "          (LayerNorm): BertLayerNorm()\n",
       "          (dropout): Dropout(p=0.1, inplace=False)\n",
       "        )\n",
       "      )\n",
       "      (8): BertLayer(\n",
       "        (attention): BertAttention(\n",
       "          (self): BertSelfAttention(\n",
       "            (query): Linear(in_features=768, out_features=768, bias=True)\n",
       "            (key): Linear(in_features=768, out_features=768, bias=True)\n",
       "            (value): Linear(in_features=768, out_features=768, bias=True)\n",
       "            (dropout): Dropout(p=0.1, inplace=False)\n",
       "          )\n",
       "          (output): BertSelfOutput(\n",
       "            (dense): Linear(in_features=768, out_features=768, bias=True)\n",
       "            (LayerNorm): BertLayerNorm()\n",
       "            (dropout): Dropout(p=0.1, inplace=False)\n",
       "          )\n",
       "        )\n",
       "        (intermediate): BertIntermediate(\n",
       "          (dense): Linear(in_features=768, out_features=3072, bias=True)\n",
       "        )\n",
       "        (output): BertOutput(\n",
       "          (dense): Linear(in_features=3072, out_features=768, bias=True)\n",
       "          (LayerNorm): BertLayerNorm()\n",
       "          (dropout): Dropout(p=0.1, inplace=False)\n",
       "        )\n",
       "      )\n",
       "      (9): BertLayer(\n",
       "        (attention): BertAttention(\n",
       "          (self): BertSelfAttention(\n",
       "            (query): Linear(in_features=768, out_features=768, bias=True)\n",
       "            (key): Linear(in_features=768, out_features=768, bias=True)\n",
       "            (value): Linear(in_features=768, out_features=768, bias=True)\n",
       "            (dropout): Dropout(p=0.1, inplace=False)\n",
       "          )\n",
       "          (output): BertSelfOutput(\n",
       "            (dense): Linear(in_features=768, out_features=768, bias=True)\n",
       "            (LayerNorm): BertLayerNorm()\n",
       "            (dropout): Dropout(p=0.1, inplace=False)\n",
       "          )\n",
       "        )\n",
       "        (intermediate): BertIntermediate(\n",
       "          (dense): Linear(in_features=768, out_features=3072, bias=True)\n",
       "        )\n",
       "        (output): BertOutput(\n",
       "          (dense): Linear(in_features=3072, out_features=768, bias=True)\n",
       "          (LayerNorm): BertLayerNorm()\n",
       "          (dropout): Dropout(p=0.1, inplace=False)\n",
       "        )\n",
       "      )\n",
       "      (10): BertLayer(\n",
       "        (attention): BertAttention(\n",
       "          (self): BertSelfAttention(\n",
       "            (query): Linear(in_features=768, out_features=768, bias=True)\n",
       "            (key): Linear(in_features=768, out_features=768, bias=True)\n",
       "            (value): Linear(in_features=768, out_features=768, bias=True)\n",
       "            (dropout): Dropout(p=0.1, inplace=False)\n",
       "          )\n",
       "          (output): BertSelfOutput(\n",
       "            (dense): Linear(in_features=768, out_features=768, bias=True)\n",
       "            (LayerNorm): BertLayerNorm()\n",
       "            (dropout): Dropout(p=0.1, inplace=False)\n",
       "          )\n",
       "        )\n",
       "        (intermediate): BertIntermediate(\n",
       "          (dense): Linear(in_features=768, out_features=3072, bias=True)\n",
       "        )\n",
       "        (output): BertOutput(\n",
       "          (dense): Linear(in_features=3072, out_features=768, bias=True)\n",
       "          (LayerNorm): BertLayerNorm()\n",
       "          (dropout): Dropout(p=0.1, inplace=False)\n",
       "        )\n",
       "      )\n",
       "      (11): BertLayer(\n",
       "        (attention): BertAttention(\n",
       "          (self): BertSelfAttention(\n",
       "            (query): Linear(in_features=768, out_features=768, bias=True)\n",
       "            (key): Linear(in_features=768, out_features=768, bias=True)\n",
       "            (value): Linear(in_features=768, out_features=768, bias=True)\n",
       "            (dropout): Dropout(p=0.1, inplace=False)\n",
       "          )\n",
       "          (output): BertSelfOutput(\n",
       "            (dense): Linear(in_features=768, out_features=768, bias=True)\n",
       "            (LayerNorm): BertLayerNorm()\n",
       "            (dropout): Dropout(p=0.1, inplace=False)\n",
       "          )\n",
       "        )\n",
       "        (intermediate): BertIntermediate(\n",
       "          (dense): Linear(in_features=768, out_features=3072, bias=True)\n",
       "        )\n",
       "        (output): BertOutput(\n",
       "          (dense): Linear(in_features=3072, out_features=768, bias=True)\n",
       "          (LayerNorm): BertLayerNorm()\n",
       "          (dropout): Dropout(p=0.1, inplace=False)\n",
       "        )\n",
       "      )\n",
       "    )\n",
       "  )\n",
       "  (pooler): BertPooler(\n",
       "    (dense): Linear(in_features=768, out_features=768, bias=True)\n",
       "    (activation): Tanh()\n",
       "  )\n",
       ")"
      ]
     },
     "execution_count": 63,
     "metadata": {},
     "output_type": "execute_result"
    }
   ],
   "source": [
    "bert_model = BertModel.from_pretrained(BERT_PRETRAINED_DIR)\n",
    "\n",
    "bert_model.eval()"
   ]
  },
  {
   "cell_type": "code",
   "execution_count": 64,
   "metadata": {},
   "outputs": [],
   "source": [
    "tokens_tensor = torch.tensor([indexed_tokens])\n",
    "segments_tensors = torch.tensor([segments_ids])"
   ]
  },
  {
   "cell_type": "code",
   "execution_count": 65,
   "metadata": {},
   "outputs": [],
   "source": [
    "with torch.no_grad():\n",
    "    encoded_layers, _ = bert_model(tokens_tensor, segments_tensors)"
   ]
  },
  {
   "cell_type": "markdown",
   "metadata": {},
   "source": [
    "#### study the output"
   ]
  },
  {
   "cell_type": "markdown",
   "metadata": {},
   "source": [
    "The layer number (12 layers)  \n",
    "The batch number (1 sentence)  \n",
    "The word / token number (14 tokens in our sentence)  \n",
    "The hidden unit / feature number (768 features)"
   ]
  },
  {
   "cell_type": "code",
   "execution_count": 66,
   "metadata": {},
   "outputs": [
    {
     "name": "stdout",
     "output_type": "stream",
     "text": [
      "Number of layers: 12\n",
      "Number of batches: 1\n",
      "Number of tokens: 14\n",
      "Number of hidden units: 768\n"
     ]
    }
   ],
   "source": [
    "layer_i, batch_i, token_i = 0, 0, 0\n",
    "\n",
    "print (\"Number of layers:\", len(encoded_layers))\n",
    "print (\"Number of batches:\", len(encoded_layers[layer_i]))\n",
    "print (\"Number of tokens:\", len(encoded_layers[layer_i][batch_i]))\n",
    "print (\"Number of hidden units:\", len(encoded_layers[layer_i][batch_i][token_i]))"
   ]
  },
  {
   "cell_type": "code",
   "execution_count": 67,
   "metadata": {},
   "outputs": [
    {
     "data": {
      "image/png": "[encoded data removed]",
      "text/plain": [
       "<Figure size 720x720 with 1 Axes>"
      ]
     },
     "metadata": {
      "needs_background": "light"
     },
     "output_type": "display_data"
    }
   ],
   "source": [
    "# For the 5th token in our sentence, select its feature values from layer 5.\n",
    "token_i = 5\n",
    "layer_i = 5\n",
    "vec = encoded_layers[layer_i][batch_i][token_i]\n",
    "\n",
    "# Plot the values as a histogram to show their distribution.\n",
    "plt.figure(figsize=(10,10))\n",
    "plt.hist(vec, bins=200)\n",
    "plt.show()"
   ]
  },
  {
   "cell_type": "markdown",
   "metadata": {},
   "source": [
    "Current dimensions:\n",
    "\n",
    "``[# layers, # batches, # tokens, # features]``\n",
    "\n",
    "Desired dimensions:\n",
    "\n",
    "``[# tokens, # layers, # features]``\n",
    "\n",
    "We remove dimension 1, the \"batches\", as we don't need it."
   ]
  },
  {
   "cell_type": "code",
   "execution_count": 68,
   "metadata": {},
   "outputs": [
    {
     "data": {
      "text/plain": [
       "torch.Size([12, 1, 14, 768])"
      ]
     },
     "execution_count": 68,
     "metadata": {},
     "output_type": "execute_result"
    }
   ],
   "source": [
    "token_embeddings = torch.stack(encoded_layers, dim=0)\n",
    "\n",
    "token_embeddings.size()"
   ]
  },
  {
   "cell_type": "code",
   "execution_count": 69,
   "metadata": {},
   "outputs": [
    {
     "data": {
      "text/plain": [
       "torch.Size([12, 14, 768])"
      ]
     },
     "execution_count": 69,
     "metadata": {},
     "output_type": "execute_result"
    }
   ],
   "source": [
    "token_embeddings = torch.squeeze(token_embeddings, dim=1)\n",
    "\n",
    "token_embeddings.size()"
   ]
  },
  {
   "cell_type": "code",
   "execution_count": 70,
   "metadata": {},
   "outputs": [
    {
     "data": {
      "text/plain": [
       "torch.Size([14, 12, 768])"
      ]
     },
     "execution_count": 70,
     "metadata": {},
     "output_type": "execute_result"
    }
   ],
   "source": [
    "token_embeddings = token_embeddings.permute(1,0,2)\n",
    "\n",
    "token_embeddings.size()"
   ]
  },
  {
   "cell_type": "markdown",
   "metadata": {},
   "source": [
    "#### bert word embeddings"
   ]
  },
  {
   "cell_type": "markdown",
   "metadata": {},
   "source": [
    "Good blog with recomendations [Jay Allamar’s blog](http://jalammar.github.io/illustrated-bert/). Image also from there "
   ]
  },
  {
   "cell_type": "markdown",
   "metadata": {},
   "source": [
    "![text](http://jalammar.github.io/images/bert-feature-extraction-contextualized-embeddings.png)"
   ]
  },
  {
   "cell_type": "code",
   "execution_count": 71,
   "metadata": {},
   "outputs": [],
   "source": [
    "def bert_word_emb(text):\n",
    "    marked_text = \"[CLS] \" + text + \" [SEP]\"\n",
    "    \n",
    "    tokenized_text = tokenizer.tokenize(marked_text)\n",
    "    indexed_tokens = tokenizer.convert_tokens_to_ids(tokenized_text)\n",
    "    segments_ids = [1] * len(tokenized_text)\n",
    "    \n",
    "    tokens_tensor = torch.tensor([indexed_tokens])\n",
    "    segments_tensors = torch.tensor([segments_ids])\n",
    "    \n",
    "    with torch.no_grad():\n",
    "        encoded_layers, _ = bert_model(tokens_tensor, segments_tensors)\n",
    "        \n",
    "    token_embeddings = torch.stack(encoded_layers, dim=0)\n",
    "    token_embeddings = torch.squeeze(token_embeddings, dim=1)\n",
    "    token_embeddings = token_embeddings.permute(1,0,2)\n",
    "    \n",
    "    return token_embeddings"
   ]
  },
  {
   "cell_type": "markdown",
   "metadata": {},
   "source": [
    "##### concatenate the last four layers"
   ]
  },
  {
   "cell_type": "code",
   "execution_count": 72,
   "metadata": {},
   "outputs": [],
   "source": [
    "def bert_emb_concat(emb):\n",
    "    token_vecs_concat = []\n",
    "\n",
    "    for token in token_embeddings:\n",
    "        cat_vec = torch.cat((token[-1], token[-2], token[-3], token[-4]), dim=0)\n",
    "        token_vecs_concat.append(cat_vec)\n",
    "        \n",
    "    return torch.stack(token_vecs_concat, dim=0)"
   ]
  },
  {
   "cell_type": "code",
   "execution_count": 73,
   "metadata": {},
   "outputs": [
    {
     "name": "stdout",
     "output_type": "stream",
     "text": [
      "shape: torch.Size([14, 3072])\n"
     ]
    }
   ],
   "source": [
    "token_vecs_concat = bert_emb_concat(bert_word_emb(text))\n",
    "\n",
    "print (f'shape: {token_vecs_concat.shape}')"
   ]
  },
  {
   "cell_type": "markdown",
   "metadata": {},
   "source": [
    "##### sum last four layers"
   ]
  },
  {
   "cell_type": "code",
   "execution_count": 74,
   "metadata": {},
   "outputs": [],
   "source": [
    "def bert_emb_sum(emb):\n",
    "    token_vecs_sum = []\n",
    "\n",
    "    for token in token_embeddings:\n",
    "        sum_vec = torch.sum(token[-4:], dim=0)\n",
    "        token_vecs_sum.append(sum_vec)\n",
    "        \n",
    "    return torch.stack(token_vecs_sum, dim=0)"
   ]
  },
  {
   "cell_type": "code",
   "execution_count": 75,
   "metadata": {},
   "outputs": [
    {
     "name": "stdout",
     "output_type": "stream",
     "text": [
      "shape: torch.Size([14, 768])\n"
     ]
    }
   ],
   "source": [
    "token_vecs_sum = bert_emb_sum(bert_word_emb(text))\n",
    "\n",
    "print (f'shape: {token_vecs_sum.shape}')"
   ]
  },
  {
   "cell_type": "markdown",
   "metadata": {},
   "source": [
    "#### bert sentence embeddings"
   ]
  },
  {
   "cell_type": "markdown",
   "metadata": {},
   "source": [
    "Simple approach is to average the second to last hidden layer of each token producing a single 768 length vector."
   ]
  },
  {
   "cell_type": "code",
   "execution_count": 76,
   "metadata": {},
   "outputs": [],
   "source": [
    "def bert_sent_emb(text):\n",
    "    token_embeddings = bert_word_emb(text)\n",
    "    token_vecs = token_embeddings[:, 11]\n",
    "    sentence_embedding = torch.mean(token_vecs, dim=0).reshape(1, -1)\n",
    "\n",
    "    return sentence_embedding"
   ]
  },
  {
   "cell_type": "code",
   "execution_count": 77,
   "metadata": {},
   "outputs": [
    {
     "name": "stdout",
     "output_type": "stream",
     "text": [
      "torch.Size([1, 768])\n"
     ]
    }
   ],
   "source": [
    "sentence_embedding = bert_sent_emb(text)\n",
    "print(sentence_embedding.shape)"
   ]
  },
  {
   "cell_type": "markdown",
   "metadata": {},
   "source": [
    "#### sample distance test"
   ]
  },
  {
   "cell_type": "markdown",
   "metadata": {},
   "source": [
    "##### same topic similarity"
   ]
  },
  {
   "cell_type": "code",
   "execution_count": 78,
   "metadata": {},
   "outputs": [
    {
     "name": "stdout",
     "output_type": "stream",
     "text": [
      "Відсутність ГВП\n",
      "*************\n",
      "подавала скаргу раніше про відсутність гарячої води, мали подати ще 22 липня. водопостачання так і не поновлене! прохання - розібратися і терміново поносити гаряче водопостачання.\n",
      "*************\n",
      "16 червня 2014 року, залишав скаргу на відсутність гвп, номер звернення г-6583. вимагав негайного розв’язання виниклої проблеми. натомість, станом на 21.06.2014 року, гвп не відновлено! жодного роз’яснення не надано, жодної інформації щодо притягнення винних до відповідальності не надано. до якої пори пори будуть продовжуватися ці безлади з затримками ввімкнення гвп? законні 2 тижні чекала, ані нарікань ані докорів, але перепрошую, з року в рік це вже стало системою, затримувати ввімкнення гвп! виникає питання, чим ті тепловики займалися протягом 2 тижнів? вимагаю негайно відновити гвп та притягти винних у зволіканні до відповідальності!\n"
     ]
    }
   ],
   "source": [
    "lang = 'uk'\n",
    "\n",
    "if lang == 'ru':\n",
    "    tmp = data_ru.loc[data_ru.cat_count == data_ru.cat_count.max()].sample(2)\n",
    "else:\n",
    "    tmp = data_uk.loc[data_uk.cat_count == data_uk.cat_count.max()].sample(2)\n",
    "    \n",
    "cat = tmp['label'].unique()[0]\n",
    "sample1 = clean_text(tmp['text'].values[0])\n",
    "sample2 = clean_text(tmp['text'].values[1])\n",
    "\n",
    "print(cat, sample1, sample2, sep=\"\\n*************\\n\")"
   ]
  },
  {
   "cell_type": "code",
   "execution_count": 79,
   "metadata": {},
   "outputs": [
    {
     "name": "stdout",
     "output_type": "stream",
     "text": [
      "Embedding shape: torch.Size([1, 768])\n",
      "Raw text similarity: 0.9938420057296753\n",
      "Clean text similarity: 0.9901143908500671\n"
     ]
    }
   ],
   "source": [
    "print('Embedding shape:', bert_sent_emb(sample1).shape)\n",
    "print('Raw text similarity:', cos_sim(bert_sent_emb(sample1), bert_sent_emb(sample2)))\n",
    "print('Clean text similarity:', cos_sim(bert_sent_emb(\" \".join(text2tokens(sample1, lemma=True))), \n",
    "                                        bert_sent_emb(\" \".join(text2tokens(sample2, lemma=True)))))"
   ]
  },
  {
   "cell_type": "markdown",
   "metadata": {},
   "source": [
    "##### different topic similarity"
   ]
  },
  {
   "cell_type": "code",
   "execution_count": 80,
   "metadata": {},
   "outputs": [
    {
     "name": "stdout",
     "output_type": "stream",
     "text": [
      "Відсутність ГВП\n",
      "*************\n",
      "24.04.2015 у будинку за вказанною вище адресою без будь-яких попереджень або пояснень було відключено гаряче водопостачання. при зверненні у київенерго оператор повідомив лише, що причиною є обмеження поставок газу, а коли гаряча вода знову буде подаватись - невідомо. особисто у нас немає боргів по комунальним платежам. просимо роз’яснити ситуацію, що склалася, пояснити, чому кмда допускає таку поведінку київенерго та київгазу, а також якнайшвидше відновити постачання гарячої води. хочу зауважити також, що протягом тижня після закінчення опалювального сезону, в нашому будинку на максимум працювало опалення, і на це газу чомусь вистачало. дякую!\n",
      "*************\n",
      "Укладання та ремонт асфальтного покриття\n",
      "*************\n",
      "прошу відновити пошкоджене покриття тротуарної частини перед першим під’їздом будинку за адресою: м.київ, вул.і.пулюя, 1. на бетонній поверхні з часом з’явилися великі ями, через які існує велика небезпека отримання травм мешканцями будинку та пішоходами.\n"
     ]
    }
   ],
   "source": [
    "lang = 'uk'\n",
    "\n",
    "if lang == 'ru':\n",
    "    top_2_labels = data_ru.label.value_counts().keys()[:2]\n",
    "    sample1 = data_ru.loc[data_ru.label == top_2_labels[0]].sample()['text_clean'].values[0]\n",
    "    sample2 = data_ru.loc[data_ru.label == top_2_labels[1]].sample()['text_clean'].values[0]\n",
    "    \n",
    "else:\n",
    "    top_2_labels = data_uk.label.value_counts().keys()[:2]\n",
    "    sample1 = data_uk.loc[data_uk.label == top_2_labels[0]].sample()['text_clean'].values[0]\n",
    "    sample2 = data_uk.loc[data_uk.label == top_2_labels[1]].sample()['text_clean'].values[0]\n",
    "\n",
    "print(top_2_labels[0], sample1, top_2_labels[1], sample2, sep=\"\\n*************\\n\")"
   ]
  },
  {
   "cell_type": "code",
   "execution_count": 81,
   "metadata": {},
   "outputs": [
    {
     "name": "stdout",
     "output_type": "stream",
     "text": [
      "Embedding shape: torch.Size([1, 768])\n",
      "Raw text similarity: 0.9978830218315125\n",
      "Clean text similarity: 0.9985194802284241\n"
     ]
    }
   ],
   "source": [
    "print('Embedding shape:', bert_sent_emb(sample1).shape)\n",
    "print('Raw text similarity:', cos_sim(bert_sent_emb(sample1), bert_sent_emb(sample2)))\n",
    "print('Clean text similarity:', cos_sim(bert_sent_emb(\" \".join(text2tokens(sample1, lemma=True))), \n",
    "                                        bert_sent_emb(\" \".join(text2tokens(sample2, lemma=True)))))"
   ]
  },
  {
   "cell_type": "markdown",
   "metadata": {},
   "source": [
    "I assume, Ukrainian BERT trained on tragically small amount of data, which leads to such result as you see above.\n",
    "Averaging is total fail. Maybe should be tried word embeddings instead of sentence for training purposes"
   ]
  },
  {
   "cell_type": "markdown",
   "metadata": {},
   "source": [
    "### Finalize and train/test split"
   ]
  },
  {
   "cell_type": "code",
   "execution_count": 82,
   "metadata": {},
   "outputs": [],
   "source": [
    "from sklearn.model_selection import train_test_split"
   ]
  },
  {
   "cell_type": "code",
   "execution_count": 83,
   "metadata": {},
   "outputs": [],
   "source": [
    "data = pd.concat([data_ru, data_uk])[['text_clean', 'label']]\n",
    "target = data['label']"
   ]
  },
  {
   "cell_type": "code",
   "execution_count": 84,
   "metadata": {},
   "outputs": [],
   "source": [
    "RANDOM_SEED = 0\n",
    "num_classes = target.unique().shape[0]"
   ]
  },
  {
   "cell_type": "markdown",
   "metadata": {},
   "source": [
    "##### prepare USE embeddings"
   ]
  },
  {
   "cell_type": "code",
   "execution_count": 87,
   "metadata": {},
   "outputs": [
    {
     "name": "stderr",
     "output_type": "stream",
     "text": [
      "100%|██████████| 1137/1137 [00:44<00:00, 25.45it/s]\n"
     ]
    }
   ],
   "source": [
    "res = []\n",
    "\n",
    "for i in tqdm(range(int(data.shape[0] / 100) + 1)):\n",
    "    res.append(use_embed(data['text_clean'].values[i*100:(i+1)*100]))\n",
    "\n",
    "use_vec = np.vstack(res)"
   ]
  },
  {
   "cell_type": "code",
   "execution_count": 88,
   "metadata": {},
   "outputs": [
    {
     "data": {
      "text/plain": [
       "(113647, 512)"
      ]
     },
     "execution_count": 88,
     "metadata": {},
     "output_type": "execute_result"
    }
   ],
   "source": [
    "use_vec.shape"
   ]
  },
  {
   "cell_type": "markdown",
   "metadata": {},
   "source": [
    "##### prepare BERT embeddings"
   ]
  },
  {
   "cell_type": "markdown",
   "metadata": {},
   "source": [
    "too long to prepare and bad context explainability"
   ]
  },
  {
   "cell_type": "code",
   "execution_count": 93,
   "metadata": {},
   "outputs": [],
   "source": [
    "# try:\n",
    "#     bert_vec = torch.load('bert_emb.pt')\n",
    "# except FileNotFoundError:\n",
    "#     res = []\n",
    "#     for item in tqdm(data['text_clean'].values):\n",
    "#         res.append(bert_sent_emb(item))\n",
    "#     bert_vec = torch.squeeze(torch.stack(res, dim=0), dim=1)\n",
    "#     torch.save(bert_vec, 'bert_emb.pt')"
   ]
  },
  {
   "cell_type": "code",
   "execution_count": 94,
   "metadata": {},
   "outputs": [],
   "source": [
    "# bert_vec = bert_vec.numpy()"
   ]
  },
  {
   "cell_type": "code",
   "execution_count": 95,
   "metadata": {},
   "outputs": [],
   "source": [
    "# bert_vec.shape"
   ]
  },
  {
   "cell_type": "markdown",
   "metadata": {},
   "source": [
    "##### prepare GloVe embeddings"
   ]
  },
  {
   "cell_type": "code",
   "execution_count": 96,
   "metadata": {},
   "outputs": [],
   "source": [
    "# mode = 'concat'"
   ]
  },
  {
   "cell_type": "code",
   "execution_count": 97,
   "metadata": {},
   "outputs": [],
   "source": [
    "# try:\n",
    "#     glove_uk = np.load(f'glove_uk_{mode}.npy')\n",
    "# except FileNotFoundError:\n",
    "#     res_uk = []\n",
    "#     for item in tqdm(data_uk['text_clean']):\n",
    "#         res_uk.append(gensim_embed(text2tokens(item, lang='uk'), mode=mode, model=glove_model))\n",
    "#     glove_uk = np.stack(res_uk, axis=0)\n",
    "#     np.save(f'glove_uk_{mode}.npy', np.vstack(res_uk))"
   ]
  },
  {
   "cell_type": "code",
   "execution_count": 98,
   "metadata": {},
   "outputs": [],
   "source": [
    "# try:\n",
    "#     glove_ru = np.load(f'glove_ru_{mode}.npy')\n",
    "# except FileNotFoundError:\n",
    "#     res_ru = []\n",
    "#     for item in tqdm(data_ru['text_clean']):\n",
    "#         res_ru.append(gensim_embed(text2tokens(item, lang='ru'), mode=mode, model=glove_model))\n",
    "#     glove_ru = np.stack(res_ru, axis=0)\n",
    "#     np.save(f'glove_ru_{mode}.npy', np.vstack(res_ru))"
   ]
  },
  {
   "cell_type": "code",
   "execution_count": 99,
   "metadata": {},
   "outputs": [],
   "source": [
    "# glove_vec = np.vstack([glove_ru, glove_uk])"
   ]
  },
  {
   "cell_type": "code",
   "execution_count": 100,
   "metadata": {},
   "outputs": [],
   "source": [
    "# glove_vec.shape"
   ]
  },
  {
   "cell_type": "code",
   "execution_count": 101,
   "metadata": {},
   "outputs": [],
   "source": [
    "# idx = 42\n",
    "\n",
    "# tmp = glove_vec[idx].reshape(1, -1) == gensim_embed(\n",
    "#     text2tokens(data_ru['text_clean'].values[idx], lang='ru'), mode=mode, model=glove_model\n",
    "# )\n",
    "# print(f\"Loaded GloVe vectors are {'NOT '*(np.any(tmp) == False)}correct\")"
   ]
  },
  {
   "cell_type": "code",
   "execution_count": null,
   "metadata": {},
   "outputs": [],
   "source": [
    "labels_mapping = dict(enumerate(target.unique(), 1))"
   ]
  },
  {
   "cell_type": "code",
   "execution_count": 102,
   "metadata": {},
   "outputs": [],
   "source": [
    "# Choose embeddings by assigning x_vec variable\n",
    "x_vec = use_vec\n",
    "\n",
    "labels = pd.get_dummies(target).columns\n",
    "\n",
    "X_train, X_test, y_train, y_test = train_test_split(x_vec, target, \n",
    "                                                    test_size=0.2, \n",
    "                                                    random_state=RANDOM_SEED,\n",
    "                                                    stratify=target)\n",
    "\n",
    "X_train_reshaped, X_test_reshaped = X_train.reshape(-1, x_vec.shape[1], 1), X_test.reshape(-1, x_vec.shape[1], 1)\n",
    "y_train_ohe, y_test_ohe = pd.get_dummies(y_train)[labels].values, pd.get_dummies(y_test)[labels].values"
   ]
  },
  {
   "cell_type": "code",
   "execution_count": 103,
   "metadata": {},
   "outputs": [
    {
     "name": "stdout",
     "output_type": "stream",
     "text": [
      "(90917, 512, 1) (22730, 512, 1)\n",
      "(90917, 186) (22730, 186)\n"
     ]
    }
   ],
   "source": [
    "print(X_train_reshaped.shape, X_test_reshaped.shape)\n",
    "print(y_train_ohe.shape, y_test_ohe.shape)"
   ]
  },
  {
   "cell_type": "code",
   "execution_count": 104,
   "metadata": {},
   "outputs": [
    {
     "data": {
      "text/plain": [
       "array([[0, 0, 0, ..., 0, 0, 0],\n",
       "       [0, 0, 0, ..., 0, 0, 0],\n",
       "       [0, 0, 0, ..., 0, 0, 0],\n",
       "       ...,\n",
       "       [0, 0, 0, ..., 0, 0, 0],\n",
       "       [0, 0, 0, ..., 0, 0, 0],\n",
       "       [0, 0, 0, ..., 0, 0, 0]], dtype=uint8)"
      ]
     },
     "execution_count": 104,
     "metadata": {},
     "output_type": "execute_result"
    }
   ],
   "source": [
    "y_train_ohe"
   ]
  },
  {
   "cell_type": "markdown",
   "metadata": {},
   "source": [
    "## Modeling"
   ]
  },
  {
   "cell_type": "markdown",
   "metadata": {},
   "source": [
    "### Baseline"
   ]
  },
  {
   "cell_type": "code",
   "execution_count": 105,
   "metadata": {},
   "outputs": [],
   "source": [
    "from sklearn.neighbors import KNeighborsClassifier\n",
    "from sklearn.metrics import *"
   ]
  },
  {
   "cell_type": "code",
   "execution_count": 106,
   "metadata": {},
   "outputs": [
    {
     "name": "stdout",
     "output_type": "stream",
     "text": [
      "CPU times: user 281 ms, sys: 0 ns, total: 281 ms\n",
      "Wall time: 280 ms\n"
     ]
    },
    {
     "data": {
      "text/plain": [
       "KNeighborsClassifier(algorithm='auto', leaf_size=30, metric='cosine',\n",
       "                     metric_params=None, n_jobs=None, n_neighbors=5, p=2,\n",
       "                     weights='uniform')"
      ]
     },
     "execution_count": 106,
     "metadata": {},
     "output_type": "execute_result"
    }
   ],
   "source": [
    "%%time\n",
    "\n",
    "knn_clf = KNeighborsClassifier(n_neighbors=5, metric='cosine')\n",
    "\n",
    "knn_clf.fit(X_train, y_train)"
   ]
  },
  {
   "cell_type": "code",
   "execution_count": 107,
   "metadata": {
    "scrolled": true
   },
   "outputs": [
    {
     "name": "stdout",
     "output_type": "stream",
     "text": [
      "                                                                                  precision    recall  f1-score   support\n",
      "\n",
      "                                                                     Інші Подяки       0.16      0.17      0.16        96\n",
      "                                              Інші технічні недоліки стану ліфту       0.50      0.28      0.36       513\n",
      "                Аварійний, травмонебезпечний стан утримання об’єктів благоустрою       0.17      0.12      0.14       120\n",
      "                                          Бажаючі отримати ”Картки киянина (КК)”       0.77      0.44      0.56        39\n",
      "                              Будівництво /дооблаштування спортивних майданчиків       0.44      0.26      0.33        53\n",
      "                                                                 Будівництво АЗС       0.45      0.30      0.36        44\n",
      "                                                        Будівництво в нічний час       0.55      0.28      0.37        43\n",
      "                                    Будівництво та реконструкція об’єктів освіти       0.53      0.30      0.39        56\n",
      "                                  Будівництво/дооблаштування дитячого майданчику       0.79      0.38      0.51       471\n",
      "                                                      Взаємовідносини з сусідами       0.47      0.31      0.38        51\n",
      "                          Вивезення, утилізація твердих та негабаритних відходів       0.26      0.16      0.19        45\n",
      "                                Видалення аварійних, пошкоджених хворобами дерев       0.58      0.44      0.50       140\n",
      "                                 Видача розрахункових книжок, квитанцій, довідок       0.18      0.26      0.21        19\n",
      "                                                      Вилов безпритульних тварин       0.83      0.74      0.78        54\n",
      "                                            Вирізування (кронування) гілля дерев       0.37      0.32      0.34        92\n",
      "                                                 Виток холодної води на поверхню       0.15      0.15      0.15        20\n",
      "                                                     Вологе прибирання приміщень       0.49      0.36      0.42       198\n",
      "                                           Встановлення лічильників на опалення.       0.66      0.47      0.55       196\n",
      "                                           Встановлення огородження зеленої зони       0.54      0.26      0.35       239\n",
      "                                                           Встановлення пандусів       0.47      0.41      0.44        56\n",
      "                                                         Встановлення світлофора       0.44      0.21      0.28       128\n",
      "               Встановлення сигнальних стовпчиків, бар’єрних огороджень,бордюрів       0.34      0.22      0.26       172\n",
      "                            Встановлення сміттєвих контейнерів та урн для сміття       0.33      0.24      0.28       154\n",
      "                                                Встановлення та демонтаж лавочок       0.46      0.48      0.47        54\n",
      "                                    Встановлення та експлуатація дорожніх знаків       0.57      0.43      0.49       145\n",
      "                      Встановлення та експлуатація лічильників на водопостачання       0.61      0.51      0.56       187\n",
      "           Встановлення та експлуатація пристроїв примусового зниження швидкості       0.46      0.34      0.40        93\n",
      "                                         Встановлення та експлуатація шлагбаумів       0.24      0.22      0.23        36\n",
      "Відновлення благоустрою після вик. планових,аварійних робіт на об’єктах благоуст       0.43      0.32      0.37       629\n",
      "                                                                    Відсутнє ХВП       0.38      0.45      0.41       264\n",
      "                                                      Відсутнє електропостачання       0.34      0.35      0.35       109\n",
      "                   Відсутній тиск ХВП до 9-го поверху включно (”Київводоканал” )       0.19      0.23      0.21        40\n",
      "                       Відсутній тиск ХВП з 10-го поверху включно (”Київенерго”)       0.20      0.29      0.24        49\n",
      "                                                                 Відсутність ГВП       0.88      0.61      0.72      3849\n",
      "                                                       Відсутність ГВП по стояку       0.00      0.00      0.00        12\n",
      "              Відсутність відповіді від РДА, ГУ та інших структурних підрозділів       0.10      0.11      0.10        19\n",
      "               Відсутність каналізаційних люків та решіток на проїжджих частинах       0.17      0.26      0.20        27\n",
      "                                 Відсутність каналізаційних, водопровідних люків       0.12      0.19      0.15        52\n",
      "                                                            Відсутність опалення       0.66      0.58      0.62      1347\n",
      "                                                  Відсутність опалення по стояку       0.49      0.44      0.46       456\n",
      "                 Відсутність опори освітлення (не передбачено проектом забудови)       0.15      0.14      0.15        28\n",
      "  Відсутність освітлення на опорних стовпах за відсутності/несправності лампочок       0.41      0.31      0.35       277\n",
      "          Відсутність освітлення у під’їзді за відсутності/несправності лампочок       0.65      0.47      0.55       723\n",
      "                                              Відсутність решіток зливоприймачів       0.14      0.25      0.18        12\n",
      "                                                   ГЛ ”Несанкціонована торгівля”       0.70      0.50      0.58       401\n",
      "                               Герметизація міжпанельних стиків (утеплення стін)       0.35      0.41      0.38        54\n",
      "                                                         Голів ОСББ, ЖБК, та ін.       0.10      0.11      0.10        18\n",
      "                                 Графіті, написи/малюнки на об’єктах благоустрою       0.41      0.59      0.48        22\n",
      "                 Демонтаж окремо розташованих пунктів прийому вторинної сировини       0.23      0.28      0.25        25\n",
      "                                    Демонтаж рекламних вивісок з опорних стовпів       0.63      0.56      0.59        52\n",
      "                                        Демонтаж рекламних конструкцій і вивісок       0.63      0.53      0.58       189\n",
      "        Демонтаж інших об’єктів, що входять до переліку малих архітектурних форм       0.17      0.31      0.22        59\n",
      "                      Евакуація безгосподарських, залишених транспортних засобів       0.42      0.59      0.49        49\n",
      "                                        Забруднення повітря від невідомих джерел       0.50      0.58      0.54        52\n",
      "                                            Завезення піску на дитячий майданчик       0.55      0.53      0.54        40\n",
      "                                        Заміна та експлуатація поштових скриньок       0.59      0.82      0.69        45\n",
      "                    Зберігання транспортних засобів, порушення правил паркування       0.34      0.30      0.32        44\n",
      "                                              Зменшення інтервалу руху автобусів       0.76      0.70      0.73        27\n",
      "                                  Знищення омели, амброзії та рослин - паразитів       0.75      0.84      0.79        64\n",
      "              Квитанція на  сплату житлово-комунальних послуг (зовнішній вигляд)       0.12      0.17      0.14        18\n",
      "                                                               Коливання напруги       0.56      0.62      0.59        79\n",
      "                                            Контроль за станом рекламних засобів       0.27      0.42      0.33        71\n",
      "                              Культура обслуговування пасажирів маршрутних таксі       0.78      0.75      0.77        24\n",
      "                                  Куріння тютюнових виробів у заборонених місцях       0.38      0.62      0.47        13\n",
      "                    Миття вікон, вітрин, вітражів, дзеркальних поверхонь, дверей       0.62      0.59      0.61        64\n",
      "                                                    Нанесення дорожньої розмітки       0.45      0.42      0.43       124\n",
      "                                                                 Не працює бювет       0.34      0.71      0.46        34\n",
      "                                                       Не працює вантажний  ліфт       0.45      0.55      0.50       109\n",
      "                                                     Не працює пасажирський ліфт       0.61      0.58      0.59       562\n",
      "                                                            Недостатній тиск ГВП       0.08      0.36      0.14        14\n",
      "                                  Незадовільна освітленість в приміщеннях ліфтів       0.14      0.57      0.23         7\n",
      "                                      Незадовільна робота рушникосушарок від ГВП       0.39      0.55      0.45        40\n",
      "                                                    Незадовільна температура ГВП       0.52      0.51      0.51       469\n",
      "                                               Незадовільна температура опалення       0.45      0.57      0.50       207\n",
      "               Незадовільне обслуговування в амбулаторно-поліклінічних установах       0.66      0.69      0.67        55\n",
      "               Незадовільне розташування сміттєвих контейнерів та урн для сміття       0.33      0.45      0.38        53\n",
      "                      Незадовільний вивіз сміття з контейнерів та урн для сміття       0.53      0.44      0.48       148\n",
      "                                             Незадовільний санітарний стан ліфту       0.25      0.46      0.32        24\n",
      "                                  Незадовільний стан кнопок виклику/наказу ліфту       0.48      0.59      0.53        54\n",
      "                                         Незадовільний стан опори для освітлення       0.32      0.59      0.41        22\n",
      "                        Незадовільний стан сміттєвих контейнерів, урн для сміття       0.00      0.00      0.00        11\n",
      "    Незручності від вивозу сміття з контейнерів та урн для сміття у нічні години       0.30      0.41      0.35        22\n",
      "                                  Незручності від промислових та побутових шумів       0.19      0.40      0.26        10\n",
      "                 Незручності від розташування холодильників, лотків біля кіосків       0.41      0.53      0.46        17\n",
      "Незручності для проживання мешканців від роботи закладів торгівлі та ресторанног       0.39      0.44      0.41        71\n",
      "                                            Несправність системи диспетчеризації       0.22      0.33      0.27        18\n",
      "                                                                    Неякісне ХВП       0.15      0.50      0.24        12\n",
      "                                     Облаштування наземного пішохідного переходу       0.13      0.19      0.16        37\n",
      "                            Облаштування прилеглої території навчальних закладів       0.07      0.20      0.11        10\n",
      "                                        Обслуговування димовентиляційних каналів       0.55      0.55      0.55        33\n",
      "                       Обслуговування та технічний стан каналізаційних колодязів       0.07      0.27      0.11        15\n",
      "                                     Оголені кабелі у приміщенні та на території       0.04      0.33      0.08         3\n",
      "                                                   Опалення на сходових клітинах       0.12      0.19      0.15        21\n",
      "                                 Організація та проведення продовольчих ярмарків       0.42      0.59      0.49        29\n",
      "                                     Освітлення в приміщенні й при вході в нього       0.35      0.46      0.40       246\n",
      "                    Освітлення магістралей (проїжджих частин) та вулиць м. Києва       0.13      0.24      0.17        29\n",
      "                                                  Освітлення підземних переходів       0.35      0.39      0.37        23\n",
      "                                      Паркування авто на прибудинковій території       0.27      0.32      0.29        59\n",
      "                                Паркування авто у місцях загального користування       0.27      0.25      0.26       131\n",
      "                     Паркування на зеленій зоні у місцях загального користування       0.10      0.22      0.13         9\n",
      "                                                       Перебої електропостачання       0.20      0.38      0.26        52\n",
      "                        Перебудова квартир, балконів, дверей, горищ та підвалів;       0.22      0.33      0.26        21\n",
      "     Перевірка дозвільної документації, демонтаж воріт, огорожі, паркану, забору       0.07      0.23      0.11        22\n",
      "                     Перевірка дозвільної документації, демонтаж кіосків, ларків       0.59      0.62      0.60       686\n",
      " Перевірка дозвільної документації, демонтаж літніх майданчиків кафе, ресторанів       0.50      0.71      0.59        63\n",
      "         Перевірка дозвільної документації, демонтаж окремо розташованих гаражів       0.60      0.75      0.67        16\n",
      "    Перевірка дозвільної документації, демонтаж торгових палаток, пивних наметів       0.21      0.54      0.30        13\n",
      "                                             Перевірка законності знищення дерев       0.34      0.48      0.40        21\n",
      "                     Перевірка наявності дозволів на виконання будівельних робіт       0.35      0.40      0.37       166\n",
      "                                            Перерахунок плати за відсутність ГВП       0.16      0.28      0.20        25\n",
      "                                       Перерахунок плати за відсутність опалення       0.19      0.50      0.28        16\n",
      "                               Перерахунок плати за незадовільну температуру ГВП       0.03      0.14      0.05         7\n",
      "        Перерахунок та нарахування плати за інші види житлово-комунальних послуг       0.48      0.57      0.52       315\n",
      "                       Перерахунок, нарахування плати та боргу за газопостачання       0.18      0.33      0.23        15\n",
      "                              Питання нарахування плати за ЦО (розрахунки за ЦО)       0.06      0.10      0.08        20\n",
      "                                           Питання освітлення на опорних стовпах       0.22      0.37      0.27       104\n",
      "                           Питання, що виникають до початку опалювального сезону       0.00      0.00      0.00         4\n",
      "                                       Питання, що стосуються домофонної системи       0.57      0.67      0.62        18\n",
      "                          Питання, що стосуються завершення опалювального сезону       0.55      0.62      0.58        45\n",
      "                                                           Подяки двірникам ЖЕКу       0.55      0.71      0.62        24\n",
      "                                                 Подяки загалом працівникам ЖЕКу       0.08      0.50      0.14         8\n",
      "                   Покинуті будівлі, споруди, будівельні матеріали і конструкції       0.19      0.33      0.24        24\n",
      "                            Полив клумб і газонів, дерев, кущів, зелених газонів       0.45      0.62      0.52        37\n",
      "                                                Порив труб у квартирі чи будинку       0.16      0.32      0.21        28\n",
      "                                             Порив труб у підвальному приміщенні       0.23      0.29      0.26        85\n",
      "                    Порушення встановлених законодавством вимог пожежної безпеки       0.35      0.78      0.48         9\n",
      "   Порушення правил виконання (ор-ції) будівельних робіт на об’єктах благоустрою       0.02      0.09      0.04        11\n",
      "                                                Порушення правил дорожнього руху       0.18      0.33      0.24        12\n",
      "                                             Порушення правил тиші (після 22:00)       0.28      0.65      0.39        23\n",
      "                                  Правила торговельного обслуговування населення       0.28      0.62      0.38        13\n",
      "                                           Претензії та зауваження до Начальника       0.05      0.12      0.07        16\n",
      "           Претензії та зауваження до Обслуговуючого персоналу (двірники й т.п.)       0.05      0.09      0.07        32\n",
      "                          Прибирання дерев, гілок, листя з закріпленої території       0.27      0.47      0.34        36\n",
      "   Прибирання льодяного покрову на прибудинковій території, вулицях та тротуарах       0.34      0.41      0.37        27\n",
      "                                                            Прибирання приміщень       0.45      0.49      0.47       282\n",
      "               Прибирання снігу на прибудинковій території, вулицях та тротуарах       0.43      0.64      0.52        36\n",
      "                                         Прибирання та санітарний стан територій       0.44      0.52      0.48       515\n",
      "                       Прийняття в експлуатацію закінчених будівництвом об’єктів       0.38      0.38      0.38        21\n",
      "                                                   Про розгляд звернень громадян       0.19      0.38      0.25       157\n",
      "                                                          Проведення дезинсекції       0.42      0.57      0.48        46\n",
      "                                                          Проведення дератизації       0.45      0.66      0.54        58\n",
      "                       Проведення капітального ремонту у будинку (реконструкція)       0.11      0.39      0.18        18\n",
      "                                      Проведення косметичного ремонту у під’їзді       0.05      0.07      0.06        14\n",
      "                                            Проведення модернізації/заміни ліфту       0.06      0.15      0.09        27\n",
      "       Пропозиції та запитання щодо удосконалення роботи громадського транспорту       0.28      0.48      0.36        27\n",
      " Пропозиції, зауваження, щодо роботи web-сторінки КБУ ”Контактний центр м.Києва”       0.14      0.30      0.19        10\n",
      "                                                   Раціоналізаторські пропозиції       0.00      0.00      0.00         3\n",
      "                                    Ремонт або демонтаж огородження зеленої зони       0.46      0.46      0.46        52\n",
      "                                                                    Ремонт дахів       0.52      0.62      0.57       224\n",
      "                                                                Ремонт під’їзду;       0.62      0.49      0.55       524\n",
      "                                                 Ремонт та заміна вхідних дверей       0.54      0.57      0.55        60\n",
      "                                                Ремонт та заміна електроприладів       0.34      0.60      0.43        62\n",
      "                                       Ремонт та обслуговування водостічних труб       0.20      0.38      0.26        24\n",
      "                                       Ремонт та обслуговування зливневих стоків       0.20      0.53      0.29        36\n",
      "                           Ремонт та обслуговування конструкцій фризу (козирок);       0.11      0.18      0.13        17\n",
      "                                                 Ремонт та обслуговування ґанків       0.25      0.48      0.33        29\n",
      "                                                   Ремонт теплотрас, підключення       0.06      0.14      0.08        22\n",
      "                                                           Ремонт фасаду будинку       0.28      0.45      0.35        31\n",
      "          Ремонт і обслуговування сміттєпроводів та сміттєзбірників в приміщенні       0.35      0.56      0.43        61\n",
      "                             Ремонт, реконструкція приміщень навчальних закладів       0.14      0.50      0.22         8\n",
      "                        Ремонт/демонтаж/фарбування елементів дитячого майданчику       0.04      0.13      0.06        15\n",
      "                                                               Робота світлофора       0.62      0.77      0.69       128\n",
      "                                                    Робота циркуляційної системи       0.20      0.35      0.25       115\n",
      "                                             Розміщення паркувальних майданчиків       0.44      0.51      0.48        37\n",
      "                                 Розрахунки, нарахування та перерахунок субсидій       0.69      0.86      0.77        29\n",
      "                                                     Садіння нових дерев і кущів       0.30      0.58      0.39        24\n",
      "                                                Санітарний стан проїжджих частин       0.23      0.33      0.27        15\n",
      "                                   Скління та ремонт вікон на сходових клітинах;       0.49      0.69      0.57       128\n",
      "                                                                Скошування трави       0.42      0.68      0.52        22\n",
      "                                Спалювання сміття (листя, гілок, відходів, тощо)       0.17      0.45      0.25        11\n",
      "                          Стан зливосточних систем проїжджих частин та тротуарів       0.14      0.25      0.18        12\n",
      "                                                          Стихійне сміттєзвалище       0.23      0.40      0.29        86\n",
      "Технічне обслуговування систем тепло-, водопостачання та водовідведення і зливов       0.23      0.40      0.30       107\n",
      "                                          Технічний стан мостів та шляхопроводів       0.26      0.55      0.35        11\n",
      "                             Технічний стан проїжджих частин вулиць та тротуарів       0.32      0.43      0.37       327\n",
      "                                   Технічний стан підземних пішохідних переходів       0.37      0.56      0.44        50\n",
      "                     Технічний стан пішохідниїх доріжок, сходів з бетону, гравію       0.11      0.43      0.17         7\n",
      "                                       Удосконалення організації дорожнього руху       0.27      0.52      0.35        31\n",
      "                              Укладання договорів з обслуговуючими організаціями       0.07      0.33      0.11         6\n",
      "                                        Укладання та ремонт асфальтного покриття       0.62      0.59      0.61      1380\n",
      "                                Укладання та ремонт тротуарної плитки (брущатки)       0.20      0.31      0.24        36\n",
      "                                   Укладання та технічний стан бордюрного каменю       0.12      0.75      0.21         4\n",
      "                                    Утримання парків та лісопарків у місті Києві       0.19      0.36      0.25        42\n",
      "                               Утримання підвалів, колясочних технічних поверхів       0.25      0.42      0.31       142\n",
      "                                      Утримання та облаштування клумб та газонів       0.14      0.34      0.20        29\n",
      "                        Утримання інформаційних дошок та  розклеювання оголошень       0.24      0.54      0.33        13\n",
      "\n",
      "                                                                        accuracy                           0.49     22730\n",
      "                                                                       macro avg       0.34      0.42      0.35     22730\n",
      "                                                                    weighted avg       0.55      0.49      0.51     22730\n",
      "\n"
     ]
    }
   ],
   "source": [
    "pred = knn_clf.predict(X_test)\n",
    "\n",
    "print(classification_report(pred, y_test))"
   ]
  },
  {
   "cell_type": "markdown",
   "metadata": {},
   "source": [
    "### Simple NNs"
   ]
  },
  {
   "cell_type": "code",
   "execution_count": 108,
   "metadata": {},
   "outputs": [],
   "source": [
    "def create_model(name, max_sequence_len,\n",
    "                 activation_cnn = 'relu',\n",
    "                 activation_final = 'softmax'):\n",
    "    \n",
    "    model_input = tf.keras.layers.Input(shape=(max_sequence_len, 1))\n",
    "    \n",
    "    cnn1 = tf.keras.layers.Convolution1D(128, 3, padding='same', strides=1, activation=activation_cnn)(model_input)\n",
    "    cnn1 = tf.keras.layers.MaxPool1D(pool_size=4)(cnn1)\n",
    "    \n",
    "    cnn2 = tf.keras.layers.Convolution1D(64, 5, padding='same', strides=1, activation=activation_cnn)(model_input)\n",
    "    cnn2 = tf.keras.layers.MaxPool1D(pool_size=4)(cnn2)\n",
    "    \n",
    "    cnn3 = tf.keras.layers.Convolution1D(64, 7, padding='same', strides=1, activation=activation_cnn)(model_input)\n",
    "    cnn3 = tf.keras.layers.MaxPool1D(pool_size=4)(cnn3)\n",
    "    \n",
    "    cnn = tf.keras.layers.concatenate([cnn1, cnn2, cnn3], axis=-1)\n",
    "#     pool = tf.keras.layers.MaxPooling1D(pool_size=2, padding='same')(cnn)\n",
    "    drop1 = tf.keras.layers.Dropout(rate=0.3)(cnn)\n",
    "    \n",
    "    lstm = tf.keras.layers.Bidirectional(tf.keras.layers.LSTM(128, return_sequences=True))(drop1)\n",
    "\n",
    "    flat = tf.keras.layers.Flatten()(lstm)\n",
    "#     drop2 = tf.keras.layers.Dropout(rate=0.2)(flat)\n",
    "    \n",
    "    model_output = tf.keras.layers.Dense(num_classes, activation=activation_final)(flat)\n",
    "    \n",
    "    model = tf.keras.models.Model(inputs=model_input, outputs=model_output, name=name)\n",
    "    \n",
    "    model.compile(optimizer='adam', loss='categorical_crossentropy', metrics=['categorical_accuracy'])\n",
    "    \n",
    "    return model"
   ]
  },
  {
   "cell_type": "code",
   "execution_count": 109,
   "metadata": {},
   "outputs": [
    {
     "name": "stdout",
     "output_type": "stream",
     "text": [
      "Model: \"cnn_bilstm_model\"\n",
      "__________________________________________________________________________________________________\n",
      "Layer (type)                    Output Shape         Param #     Connected to                     \n",
      "==================================================================================================\n",
      "input_1 (InputLayer)            [(None, 512, 1)]     0                                            \n",
      "__________________________________________________________________________________________________\n",
      "conv1d (Conv1D)                 (None, 512, 128)     512         input_1[0][0]                    \n",
      "__________________________________________________________________________________________________\n",
      "conv1d_1 (Conv1D)               (None, 512, 64)      384         input_1[0][0]                    \n",
      "__________________________________________________________________________________________________\n",
      "conv1d_2 (Conv1D)               (None, 512, 64)      512         input_1[0][0]                    \n",
      "__________________________________________________________________________________________________\n",
      "max_pooling1d (MaxPooling1D)    (None, 128, 128)     0           conv1d[0][0]                     \n",
      "__________________________________________________________________________________________________\n",
      "max_pooling1d_1 (MaxPooling1D)  (None, 128, 64)      0           conv1d_1[0][0]                   \n",
      "__________________________________________________________________________________________________\n",
      "max_pooling1d_2 (MaxPooling1D)  (None, 128, 64)      0           conv1d_2[0][0]                   \n",
      "__________________________________________________________________________________________________\n",
      "concatenate (Concatenate)       (None, 128, 256)     0           max_pooling1d[0][0]              \n",
      "                                                                 max_pooling1d_1[0][0]            \n",
      "                                                                 max_pooling1d_2[0][0]            \n",
      "__________________________________________________________________________________________________\n",
      "dropout (Dropout)               (None, 128, 256)     0           concatenate[0][0]                \n",
      "__________________________________________________________________________________________________\n",
      "bidirectional (Bidirectional)   (None, 128, 256)     394240      dropout[0][0]                    \n",
      "__________________________________________________________________________________________________\n",
      "flatten (Flatten)               (None, 32768)        0           bidirectional[0][0]              \n",
      "__________________________________________________________________________________________________\n",
      "dense (Dense)                   (None, 186)          6095034     flatten[0][0]                    \n",
      "==================================================================================================\n",
      "Total params: 6,490,682\n",
      "Trainable params: 6,490,682\n",
      "Non-trainable params: 0\n",
      "__________________________________________________________________________________________________\n"
     ]
    }
   ],
   "source": [
    "model = create_model(name='cnn_bilstm_model', max_sequence_len=X_train.shape[1])\n",
    "\n",
    "callbacks = [\n",
    "    tf.keras.callbacks.ReduceLROnPlateau(patience=5, factor=0.2, verbose=True), \n",
    "    tf.keras.callbacks.EarlyStopping(patience=10, min_delta=1e-3, verbose=True), \n",
    "    tf.keras.callbacks.ModelCheckpoint(filepath='cnn_bilstm_model.h5', save_best_only=True, verbose=True)\n",
    "]\n",
    "\n",
    "model.summary()"
   ]
  },
  {
   "cell_type": "code",
   "execution_count": 110,
   "metadata": {
    "scrolled": true
   },
   "outputs": [
    {
     "name": "stdout",
     "output_type": "stream",
     "text": [
      "Train on 90917 samples, validate on 22730 samples\n",
      "Epoch 1/100\n",
      "90816/90917 [============================>.] - ETA: 0s - loss: 2.4256 - categorical_accuracy: 0.4213\n",
      "Epoch 00001: val_loss improved from inf to 1.97155, saving model to cnn_bilstm_model.h5\n",
      "90917/90917 [==============================] - 45s 490us/sample - loss: 2.4252 - categorical_accuracy: 0.4213 - val_loss: 1.9715 - val_categorical_accuracy: 0.5006\n",
      "Epoch 2/100\n",
      "90912/90917 [============================>.] - ETA: 0s - loss: 1.7681 - categorical_accuracy: 0.5372\n",
      "Epoch 00002: val_loss improved from 1.97155 to 1.75447, saving model to cnn_bilstm_model.h5\n",
      "90917/90917 [==============================] - 40s 444us/sample - loss: 1.7681 - categorical_accuracy: 0.5372 - val_loss: 1.7545 - val_categorical_accuracy: 0.5441\n",
      "Epoch 3/100\n",
      "90848/90917 [============================>.] - ETA: 0s - loss: 1.4469 - categorical_accuracy: 0.6039\n",
      "Epoch 00003: val_loss improved from 1.75447 to 1.68426, saving model to cnn_bilstm_model.h5\n",
      "90917/90917 [==============================] - 46s 502us/sample - loss: 1.4470 - categorical_accuracy: 0.6039 - val_loss: 1.6843 - val_categorical_accuracy: 0.5593\n",
      "Epoch 4/100\n",
      "90848/90917 [============================>.] - ETA: 0s - loss: 1.1651 - categorical_accuracy: 0.6688\n",
      "Epoch 00004: val_loss did not improve from 1.68426\n",
      "90917/90917 [==============================] - 43s 473us/sample - loss: 1.1655 - categorical_accuracy: 0.6687 - val_loss: 1.7014 - val_categorical_accuracy: 0.5718\n",
      "Epoch 5/100\n",
      "90912/90917 [============================>.] - ETA: 0s - loss: 0.8439 - categorical_accuracy: 0.7510\n",
      "Epoch 00005: val_loss did not improve from 1.68426\n",
      "90917/90917 [==============================] - 41s 447us/sample - loss: 0.8439 - categorical_accuracy: 0.7510 - val_loss: 1.8751 - val_categorical_accuracy: 0.5743\n",
      "Epoch 6/100\n",
      "90912/90917 [============================>.] - ETA: 0s - loss: 0.5595 - categorical_accuracy: 0.8308\n",
      "Epoch 00006: val_loss did not improve from 1.68426\n",
      "90917/90917 [==============================] - 41s 451us/sample - loss: 0.5596 - categorical_accuracy: 0.8308 - val_loss: 2.0884 - val_categorical_accuracy: 0.5666\n",
      "Epoch 7/100\n",
      "90848/90917 [============================>.] - ETA: 0s - loss: 0.3737 - categorical_accuracy: 0.8861\n",
      "Epoch 00007: val_loss did not improve from 1.68426\n",
      "90917/90917 [==============================] - 42s 464us/sample - loss: 0.3737 - categorical_accuracy: 0.8861 - val_loss: 2.5614 - val_categorical_accuracy: 0.5656\n",
      "Epoch 8/100\n",
      "90880/90917 [============================>.] - ETA: 0s - loss: 0.2692 - categorical_accuracy: 0.9223\n",
      "Epoch 00008: ReduceLROnPlateau reducing learning rate to 0.00020000000949949026.\n",
      "\n",
      "Epoch 00008: val_loss did not improve from 1.68426\n",
      "90917/90917 [==============================] - 42s 463us/sample - loss: 0.2692 - categorical_accuracy: 0.9223 - val_loss: 2.7031 - val_categorical_accuracy: 0.5667\n",
      "Epoch 9/100\n",
      "90912/90917 [============================>.] - ETA: 0s - loss: 0.1175 - categorical_accuracy: 0.9716\n",
      "Epoch 00009: val_loss did not improve from 1.68426\n",
      "90917/90917 [==============================] - 42s 462us/sample - loss: 0.1175 - categorical_accuracy: 0.9716 - val_loss: 3.0045 - val_categorical_accuracy: 0.5770\n",
      "Epoch 10/100\n",
      "90848/90917 [============================>.] - ETA: 0s - loss: 0.0727 - categorical_accuracy: 0.9827\n",
      "Epoch 00010: val_loss did not improve from 1.68426\n",
      "90917/90917 [==============================] - 45s 496us/sample - loss: 0.0726 - categorical_accuracy: 0.9827 - val_loss: 3.2721 - val_categorical_accuracy: 0.5753\n",
      "Epoch 11/100\n",
      "90880/90917 [============================>.] - ETA: 0s - loss: 0.0593 - categorical_accuracy: 0.9868\n",
      "Epoch 00011: val_loss did not improve from 1.68426\n",
      "90917/90917 [==============================] - 45s 491us/sample - loss: 0.0593 - categorical_accuracy: 0.9868 - val_loss: 3.3990 - val_categorical_accuracy: 0.5758\n",
      "Epoch 12/100\n",
      "90848/90917 [============================>.] - ETA: 0s - loss: 0.0540 - categorical_accuracy: 0.9891\n",
      "Epoch 00012: val_loss did not improve from 1.68426\n",
      "90917/90917 [==============================] - 43s 478us/sample - loss: 0.0540 - categorical_accuracy: 0.9891 - val_loss: 3.4480 - val_categorical_accuracy: 0.5758\n",
      "Epoch 13/100\n",
      "90816/90917 [============================>.] - ETA: 0s - loss: 0.0493 - categorical_accuracy: 0.9903\n",
      "Epoch 00013: ReduceLROnPlateau reducing learning rate to 4.0000001899898055e-05.\n",
      "\n",
      "Epoch 00013: val_loss did not improve from 1.68426\n",
      "90917/90917 [==============================] - 42s 464us/sample - loss: 0.0493 - categorical_accuracy: 0.9903 - val_loss: 3.5060 - val_categorical_accuracy: 0.5739\n",
      "Epoch 00013: early stopping\n"
     ]
    }
   ],
   "source": [
    "history = model.fit(X_train_reshaped, y_train_ohe,\n",
    "                    class_weight='balanced',\n",
    "                    epochs=100,\n",
    "                    batch_size=32,\n",
    "                    callbacks=callbacks,\n",
    "                    validation_data=(X_test_reshaped, y_test_ohe),\n",
    "#                     validation_split=0.1,\n",
    "                    verbose=1)"
   ]
  },
  {
   "cell_type": "code",
   "execution_count": 111,
   "metadata": {},
   "outputs": [
    {
     "data": {
      "image/png": "[encoded data removed]",
      "text/plain": [
       "<Figure size 1152x288 with 2 Axes>"
      ]
     },
     "metadata": {
      "needs_background": "light"
     },
     "output_type": "display_data"
    }
   ],
   "source": [
    "plt.figure(figsize=(16, 4))\n",
    "\n",
    "plt.subplot(1, 2, 1)\n",
    "plt.plot(history.history['categorical_accuracy'])\n",
    "plt.plot(history.history['val_categorical_accuracy'])\n",
    "plt.title('model accuracy')\n",
    "plt.ylabel('accuracy')\n",
    "plt.xlabel('epochs')\n",
    "plt.legend(['train', 'val'], loc='upper left')\n",
    "\n",
    "plt.subplot(1, 2, 2)\n",
    "plt.plot(history.history['loss'])\n",
    "plt.plot(history.history['val_loss'])\n",
    "plt.title('model loss')\n",
    "plt.ylabel('loss')\n",
    "plt.xlabel('epochs')\n",
    "plt.legend(['train', 'val'], loc='upper right')\n",
    "\n",
    "plt.show()"
   ]
  },
  {
   "cell_type": "code",
   "execution_count": 112,
   "metadata": {},
   "outputs": [],
   "source": [
    "cnn_bilstm_model = tf.keras.models.load_model('cnn_bilstm_model.h5')"
   ]
  },
  {
   "cell_type": "code",
   "execution_count": 113,
   "metadata": {},
   "outputs": [
    {
     "name": "stdout",
     "output_type": "stream",
     "text": [
      "                                                                                  precision    recall  f1-score   support\n",
      "\n",
      "                                                                     Інші Подяки       0.36      0.28      0.32       131\n",
      "                                              Інші технічні недоліки стану ліфту       0.48      0.47      0.48       297\n",
      "                Аварійний, травмонебезпечний стан утримання об’єктів благоустрою       0.07      0.21      0.10        29\n",
      "                                          Бажаючі отримати ”Картки киянина (КК)”       0.86      0.76      0.81        25\n",
      "                              Будівництво /дооблаштування спортивних майданчиків       0.66      0.62      0.64        34\n",
      "                                                                 Будівництво АЗС       0.66      0.37      0.48        51\n",
      "                                                        Будівництво в нічний час       0.45      0.71      0.56        14\n",
      "                                    Будівництво та реконструкція об’єктів освіти       0.62      0.62      0.62        32\n",
      "                                  Будівництво/дооблаштування дитячого майданчику       0.58      0.63      0.60       205\n",
      "                                                      Взаємовідносини з сусідами       0.53      0.40      0.46        45\n",
      "                          Вивезення, утилізація твердих та негабаритних відходів       0.19      0.33      0.24        15\n",
      "                                Видалення аварійних, пошкоджених хворобами дерев       0.52      0.68      0.59        81\n",
      "                                 Видача розрахункових книжок, квитанцій, довідок       0.32      0.25      0.28        36\n",
      "                                                      Вилов безпритульних тварин       0.81      0.85      0.83        46\n",
      "                                            Вирізування (кронування) гілля дерев       0.54      0.37      0.44       114\n",
      "                                                 Виток холодної води на поверхню       0.30      0.27      0.29        22\n",
      "                                                     Вологе прибирання приміщень       0.62      0.44      0.51       211\n",
      "                                           Встановлення лічильників на опалення.       0.66      0.60      0.63       154\n",
      "                                           Встановлення огородження зеленої зони       0.43      0.52      0.47        97\n",
      "                                                           Встановлення пандусів       0.63      0.70      0.67        44\n",
      "                                                         Встановлення світлофора       0.50      0.33      0.40        93\n",
      "               Встановлення сигнальних стовпчиків, бар’єрних огороджень,бордюрів       0.22      0.44      0.29        55\n",
      "                            Встановлення сміттєвих контейнерів та урн для сміття       0.40      0.55      0.46        80\n",
      "                                                Встановлення та демонтаж лавочок       0.77      0.69      0.73        64\n",
      "                                    Встановлення та експлуатація дорожніх знаків       0.52      0.88      0.65        65\n",
      "                      Встановлення та експлуатація лічильників на водопостачання       0.74      0.54      0.62       213\n",
      "           Встановлення та експлуатація пристроїв примусового зниження швидкості       0.54      0.56      0.55        66\n",
      "                                         Встановлення та експлуатація шлагбаумів       0.55      0.32      0.40        56\n",
      "Відновлення благоустрою після вик. планових,аварійних робіт на об’єктах благоуст       0.30      0.61      0.40       238\n",
      "                                                                    Відсутнє ХВП       0.62      0.56      0.58       345\n",
      "                                                      Відсутнє електропостачання       0.42      0.73      0.54        64\n",
      "                   Відсутній тиск ХВП до 9-го поверху включно (”Київводоканал” )       0.17      0.42      0.24        19\n",
      "                       Відсутній тиск ХВП з 10-го поверху включно (”Київенерго”)       0.40      0.24      0.30       115\n",
      "                                                                 Відсутність ГВП       0.85      0.77      0.81      2914\n",
      "                                                       Відсутність ГВП по стояку       0.17      0.44      0.25         9\n",
      "              Відсутність відповіді від РДА, ГУ та інших структурних підрозділів       0.15      0.38      0.21         8\n",
      "               Відсутність каналізаційних люків та решіток на проїжджих частинах       0.31      0.37      0.34        35\n",
      "                                 Відсутність каналізаційних, водопровідних люків       0.33      0.39      0.36        69\n",
      "                                                            Відсутність опалення       0.73      0.69      0.71      1244\n",
      "                                                  Відсутність опалення по стояку       0.45      0.67      0.54       273\n",
      "                 Відсутність опори освітлення (не передбачено проектом забудови)       0.19      0.33      0.24        15\n",
      "  Відсутність освітлення на опорних стовпах за відсутності/несправності лампочок       0.33      0.36      0.34       193\n",
      "          Відсутність освітлення у під’їзді за відсутності/несправності лампочок       0.66      0.57      0.61       604\n",
      "                                              Відсутність решіток зливоприймачів       0.18      0.33      0.24        12\n",
      "                                                   ГЛ ”Несанкціонована торгівля”       0.60      0.75      0.67       228\n",
      "                               Герметизація міжпанельних стиків (утеплення стін)       0.39      0.53      0.45        45\n",
      "                                                         Голів ОСББ, ЖБК, та ін.       0.33      0.17      0.22        42\n",
      "                                 Графіті, написи/малюнки на об’єктах благоустрою       0.53      0.77      0.63        22\n",
      "                 Демонтаж окремо розташованих пунктів прийому вторинної сировини       0.42      0.48      0.45        27\n",
      "                                    Демонтаж рекламних вивісок з опорних стовпів       0.67      0.79      0.73        39\n",
      "                                        Демонтаж рекламних конструкцій і вивісок       0.62      0.60      0.61       167\n",
      "        Демонтаж інших об’єктів, що входять до переліку малих архітектурних форм       0.09      0.38      0.15        26\n",
      "                      Евакуація безгосподарських, залишених транспортних засобів       0.77      0.42      0.54       127\n",
      "                                        Забруднення повітря від невідомих джерел       0.60      0.65      0.63        55\n",
      "                                            Завезення піску на дитячий майданчик       0.71      0.55      0.62        49\n",
      "                                        Заміна та експлуатація поштових скриньок       0.81      0.76      0.78        67\n",
      "                    Зберігання транспортних засобів, порушення правил паркування       0.45      0.33      0.38        51\n",
      "                                              Зменшення інтервалу руху автобусів       0.84      0.66      0.74        32\n",
      "                                  Знищення омели, амброзії та рослин - паразитів       0.78      0.75      0.76        75\n",
      "              Квитанція на  сплату житлово-комунальних послуг (зовнішній вигляд)       0.15      0.31      0.21        13\n",
      "                                                               Коливання напруги       0.66      0.73      0.69        79\n",
      "                                            Контроль за станом рекламних засобів       0.36      0.47      0.41        85\n",
      "                              Культура обслуговування пасажирів маршрутних таксі       0.87      0.80      0.83        25\n",
      "                                  Куріння тютюнових виробів у заборонених місцях       0.67      0.70      0.68        20\n",
      "                    Миття вікон, вітрин, вітражів, дзеркальних поверхонь, дверей       0.34      0.54      0.42        39\n",
      "                                                    Нанесення дорожньої розмітки       0.53      0.58      0.55       105\n",
      "                                                                 Не працює бювет       0.80      0.50      0.62       111\n",
      "                                                       Не працює вантажний  ліфт       0.62      0.59      0.60       139\n",
      "                                                     Не працює пасажирський ліфт       0.67      0.76      0.71       478\n",
      "                                                            Недостатній тиск ГВП       0.08      0.50      0.14        10\n",
      "                                  Незадовільна освітленість в приміщеннях ліфтів       0.61      0.52      0.56        33\n",
      "                                      Незадовільна робота рушникосушарок від ГВП       0.49      0.70      0.58        40\n",
      "                                                    Незадовільна температура ГВП       0.66      0.53      0.58       574\n",
      "                                               Незадовільна температура опалення       0.64      0.52      0.58       326\n",
      "               Незадовільне обслуговування в амбулаторно-поліклінічних установах       0.88      0.81      0.84        63\n",
      "               Незадовільне розташування сміттєвих контейнерів та урн для сміття       0.33      0.55      0.41        44\n",
      "                      Незадовільний вивіз сміття з контейнерів та урн для сміття       0.78      0.59      0.67       164\n",
      "                                             Незадовільний санітарний стан ліфту       0.48      0.66      0.55        32\n",
      "                                  Незадовільний стан кнопок виклику/наказу ліфту       0.67      0.60      0.63        73\n",
      "                                         Незадовільний стан опори для освітлення       0.37      0.36      0.36        42\n",
      "                        Незадовільний стан сміттєвих контейнерів, урн для сміття       0.23      0.26      0.24        27\n",
      "    Незручності від вивозу сміття з контейнерів та урн для сміття у нічні години       0.37      0.58      0.45        19\n",
      "                                  Незручності від промислових та побутових шумів       0.24      0.33      0.28        15\n",
      "                 Незручності від розташування холодильників, лотків біля кіосків       0.59      0.38      0.46        34\n",
      "Незручності для проживання мешканців від роботи закладів торгівлі та ресторанног       0.49      0.43      0.46        91\n",
      "                                            Несправність системи диспетчеризації       0.33      0.43      0.38        21\n",
      "                                                                    Неякісне ХВП       0.28      0.52      0.37        21\n",
      "                                     Облаштування наземного пішохідного переходу       0.48      0.34      0.40        74\n",
      "                            Облаштування прилеглої території навчальних закладів       0.07      0.15      0.10        13\n",
      "                                        Обслуговування димовентиляційних каналів       0.64      0.62      0.63        34\n",
      "                       Обслуговування та технічний стан каналізаційних колодязів       0.12      0.64      0.21        11\n",
      "                                     Оголені кабелі у приміщенні та на території       0.17      0.27      0.21        15\n",
      "                                                   Опалення на сходових клітинах       0.22      0.29      0.25        24\n",
      "                                 Організація та проведення продовольчих ярмарків       0.75      0.71      0.73        42\n",
      "                                     Освітлення в приміщенні й при вході в нього       0.30      0.47      0.37       211\n",
      "                    Освітлення магістралей (проїжджих частин) та вулиць м. Києва       0.27      0.22      0.24        63\n",
      "                                                  Освітлення підземних переходів       0.58      0.44      0.50        34\n",
      "                                      Паркування авто на прибудинковій території       0.32      0.34      0.33        67\n",
      "                                Паркування авто у місцях загального користування       0.37      0.44      0.41       104\n",
      "                     Паркування на зеленій зоні у місцях загального користування       0.10      0.33      0.15         6\n",
      "                                                       Перебої електропостачання       0.68      0.35      0.46       196\n",
      "                        Перебудова квартир, балконів, дверей, горищ та підвалів;       0.12      0.27      0.17        15\n",
      "     Перевірка дозвільної документації, демонтаж воріт, огорожі, паркану, забору       0.19      0.27      0.22        49\n",
      "                     Перевірка дозвільної документації, демонтаж кіосків, ларків       0.77      0.61      0.68       915\n",
      " Перевірка дозвільної документації, демонтаж літніх майданчиків кафе, ресторанів       0.64      0.65      0.65        89\n",
      "         Перевірка дозвільної документації, демонтаж окремо розташованих гаражів       0.60      0.75      0.67        16\n",
      "    Перевірка дозвільної документації, демонтаж торгових палаток, пивних наметів       0.42      0.58      0.49        24\n",
      "                                             Перевірка законності знищення дерев       0.41      0.40      0.41        30\n",
      "                     Перевірка наявності дозволів на виконання будівельних робіт       0.41      0.53      0.46       148\n",
      "                                            Перерахунок плати за відсутність ГВП       0.33      0.32      0.33        47\n",
      "                                       Перерахунок плати за відсутність опалення       0.33      0.67      0.44        21\n",
      "                               Перерахунок плати за незадовільну температуру ГВП       0.03      0.14      0.05         7\n",
      "        Перерахунок та нарахування плати за інші види житлово-комунальних послуг       0.53      0.54      0.53       361\n",
      "                       Перерахунок, нарахування плати та боргу за газопостачання       0.57      0.64      0.60        25\n",
      "                              Питання нарахування плати за ЦО (розрахунки за ЦО)       0.24      0.20      0.22        40\n",
      "                                           Питання освітлення на опорних стовпах       0.32      0.34      0.33       162\n",
      "                           Питання, що виникають до початку опалювального сезону       0.10      0.60      0.17         5\n",
      "                                       Питання, що стосуються домофонної системи       0.76      0.52      0.62        31\n",
      "                          Питання, що стосуються завершення опалювального сезону       0.65      0.65      0.65        51\n",
      "                                                           Подяки двірникам ЖЕКу       0.61      0.49      0.54        39\n",
      "                                                 Подяки загалом працівникам ЖЕКу       0.12      0.22      0.16        27\n",
      "                   Покинуті будівлі, споруди, будівельні матеріали і конструкції       0.21      0.28      0.24        32\n",
      "                            Полив клумб і газонів, дерев, кущів, зелених газонів       0.67      0.58      0.62        59\n",
      "                                                Порив труб у квартирі чи будинку       0.26      0.41      0.32        37\n",
      "                                             Порив труб у підвальному приміщенні       0.54      0.46      0.50       127\n",
      "                    Порушення встановлених законодавством вимог пожежної безпеки       0.45      0.43      0.44        21\n",
      "   Порушення правил виконання (ор-ції) будівельних робіт на об’єктах благоустрою       0.19      0.25      0.21        32\n",
      "                                                Порушення правил дорожнього руху       0.27      0.23      0.25        26\n",
      "                                             Порушення правил тиші (після 22:00)       0.52      0.44      0.48        63\n",
      "                                  Правила торговельного обслуговування населення       0.62      0.39      0.48        46\n",
      "                                           Претензії та зауваження до Начальника       0.05      0.11      0.07        18\n",
      "           Претензії та зауваження до Обслуговуючого персоналу (двірники й т.п.)       0.10      0.25      0.14        24\n",
      "                          Прибирання дерев, гілок, листя з закріпленої території       0.36      0.40      0.38        58\n",
      "   Прибирання льодяного покрову на прибудинковій території, вулицях та тротуарах       0.44      0.58      0.50        24\n",
      "                                                            Прибирання приміщень       0.65      0.46      0.54       433\n",
      "               Прибирання снігу на прибудинковій території, вулицях та тротуарах       0.51      0.77      0.61        35\n",
      "                                         Прибирання та санітарний стан територій       0.46      0.59      0.52       482\n",
      "                       Прийняття в експлуатацію закінчених будівництвом об’єктів       0.48      0.53      0.50        19\n",
      "                                                   Про розгляд звернень громадян       0.25      0.27      0.26       288\n",
      "                                                          Проведення дезинсекції       0.48      0.48      0.48        62\n",
      "                                                          Проведення дератизації       0.68      0.73      0.70        78\n",
      "                       Проведення капітального ремонту у будинку (реконструкція)       0.08      0.28      0.13        18\n",
      "                                      Проведення косметичного ремонту у під’їзді       0.10      0.20      0.13        10\n",
      "                                            Проведення модернізації/заміни ліфту       0.26      0.16      0.20       106\n",
      "       Пропозиції та запитання щодо удосконалення роботи громадського транспорту       0.28      0.62      0.39        21\n",
      " Пропозиції, зауваження, щодо роботи web-сторінки КБУ ”Контактний центр м.Києва”       0.41      0.32      0.36        28\n",
      "                                                   Раціоналізаторські пропозиції       0.00      0.00      0.00         7\n",
      "                                    Ремонт або демонтаж огородження зеленої зони       0.50      0.67      0.57        39\n",
      "                                                                    Ремонт дахів       0.59      0.66      0.62       237\n",
      "                                                                Ремонт під’їзду;       0.66      0.47      0.55       593\n",
      "                                                 Ремонт та заміна вхідних дверей       0.51      0.67      0.58        48\n",
      "                                                Ремонт та заміна електроприладів       0.49      0.48      0.48       110\n",
      "                                       Ремонт та обслуговування водостічних труб       0.32      0.56      0.41        25\n",
      "                                       Ремонт та обслуговування зливневих стоків       0.56      0.41      0.47       128\n",
      "                           Ремонт та обслуговування конструкцій фризу (козирок);       0.29      0.80      0.42        10\n",
      "                                                 Ремонт та обслуговування ґанків       0.34      0.59      0.43        32\n",
      "                                                   Ремонт теплотрас, підключення       0.21      0.28      0.24        39\n",
      "                                                           Ремонт фасаду будинку       0.58      0.62      0.60        47\n",
      "          Ремонт і обслуговування сміттєпроводів та сміттєзбірників в приміщенні       0.59      0.49      0.54       116\n",
      "                             Ремонт, реконструкція приміщень навчальних закладів       0.55      0.50      0.52        32\n",
      "                        Ремонт/демонтаж/фарбування елементів дитячого майданчику       0.27      0.15      0.20        92\n",
      "                                                               Робота світлофора       0.71      0.64      0.67       174\n",
      "                                                    Робота циркуляційної системи       0.12      0.47      0.18        49\n",
      "                                             Розміщення паркувальних майданчиків       0.51      0.47      0.49        47\n",
      "                                 Розрахунки, нарахування та перерахунок субсидій       0.86      0.51      0.64        61\n",
      "                                                     Садіння нових дерев і кущів       0.32      0.68      0.43        22\n",
      "                                                Санітарний стан проїжджих частин       0.36      0.67      0.47        12\n",
      "                                   Скління та ремонт вікон на сходових клітинах;       0.56      0.58      0.57       171\n",
      "                                                                Скошування трави       0.42      0.62      0.50        24\n",
      "                                Спалювання сміття (листя, гілок, відходів, тощо)       0.48      0.47      0.47        30\n",
      "                          Стан зливосточних систем проїжджих частин та тротуарів       0.14      0.38      0.21         8\n",
      "                                                          Стихійне сміттєзвалище       0.46      0.44      0.45       151\n",
      "Технічне обслуговування систем тепло-, водопостачання та водовідведення і зливов       0.32      0.40      0.36       147\n",
      "                                          Технічний стан мостів та шляхопроводів       0.52      0.31      0.39        39\n",
      "                             Технічний стан проїжджих частин вулиць та тротуарів       0.44      0.43      0.43       448\n",
      "                                   Технічний стан підземних пішохідних переходів       0.46      0.59      0.52        59\n",
      "                     Технічний стан пішохідниїх доріжок, сходів з бетону, гравію       0.36      0.16      0.22        61\n",
      "                                       Удосконалення організації дорожнього руху       0.15      0.31      0.20        29\n",
      "                              Укладання договорів з обслуговуючими організаціями       0.07      0.33      0.11         6\n",
      "                                        Укладання та ремонт асфальтного покриття       0.73      0.56      0.63      1722\n",
      "                                Укладання та ремонт тротуарної плитки (брущатки)       0.30      0.46      0.37        37\n",
      "                                   Укладання та технічний стан бордюрного каменю       0.21      0.29      0.24        17\n",
      "                                    Утримання парків та лісопарків у місті Києві       0.38      0.38      0.38        80\n",
      "                               Утримання підвалів, колясочних технічних поверхів       0.43      0.40      0.42       257\n",
      "                                      Утримання та облаштування клумб та газонів       0.33      0.40      0.36        57\n",
      "                        Утримання інформаційних дошок та  розклеювання оголошень       0.41      0.71      0.52        17\n",
      "\n",
      "                                                                        accuracy                           0.56     22730\n",
      "                                                                       macro avg       0.44      0.49      0.45     22730\n",
      "                                                                    weighted avg       0.60      0.56      0.57     22730\n",
      "\n"
     ]
    }
   ],
   "source": [
    "pred = cnn_bilstm_model.predict(X_test_reshaped)\n",
    "\n",
    "print(classification_report(np.argmax(pred, axis=1), np.argmax(y_test_ohe, axis=1), target_names=labels))"
   ]
  },
  {
   "cell_type": "markdown",
   "metadata": {},
   "source": [
    "## t-SNE visualization"
   ]
  },
  {
   "cell_type": "code",
   "execution_count": 114,
   "metadata": {},
   "outputs": [],
   "source": [
    "from sklearn.manifold import TSNE"
   ]
  },
  {
   "cell_type": "code",
   "execution_count": 115,
   "metadata": {},
   "outputs": [
    {
     "name": "stdout",
     "output_type": "stream",
     "text": [
      "There are 25 with number of accidents > 1000\n"
     ]
    }
   ],
   "source": [
    "class_threshold = 1000\n",
    "top_classes = target.loc[target.map(df['CallZType'].value_counts().to_dict()) > class_threshold].unique()\n",
    "print(f\"There are {top_classes.shape[0]} with number of accidents > {class_threshold}\")"
   ]
  },
  {
   "cell_type": "code",
   "execution_count": 116,
   "metadata": {},
   "outputs": [
    {
     "data": {
      "text/plain": [
       "66731"
      ]
     },
     "execution_count": 116,
     "metadata": {},
     "output_type": "execute_result"
    }
   ],
   "source": [
    "x_tsne, y_tsne = [], []\n",
    "\n",
    "for vec_, label_ in zip(x_vec, target.values):\n",
    "    if label_ in top_classes:\n",
    "        x_tsne.append(vec_)\n",
    "        y_tsne.append(label_)\n",
    "len(x_tsne)"
   ]
  },
  {
   "cell_type": "code",
   "execution_count": 117,
   "metadata": {},
   "outputs": [],
   "source": [
    "tsne_model = TSNE(n_components=2, \n",
    "                  perplexity=40, \n",
    "                  n_iter=5000, \n",
    "                  random_state=RANDOM_SEED, \n",
    "                  metric='cosine',\n",
    "                  learning_rate=200)"
   ]
  },
  {
   "cell_type": "code",
   "execution_count": 118,
   "metadata": {},
   "outputs": [
    {
     "name": "stdout",
     "output_type": "stream",
     "text": [
      "CPU times: user 1h 2min 32s, sys: 1min 34s, total: 1h 4min 7s\n",
      "Wall time: 20min 46s\n"
     ]
    }
   ],
   "source": [
    "%%time\n",
    "\n",
    "threshold = 5000\n",
    "\n",
    "X_2d = tsne_model.fit_transform(x_tsne[:])\n",
    "y = np.array(y_tsne[:])"
   ]
  },
  {
   "cell_type": "code",
   "execution_count": 119,
   "metadata": {},
   "outputs": [
    {
     "data": {
      "text/plain": [
       "array(['dimgray', 'tab:orange', 'cyan', 'whitesmoke', 'mediumseagreen',\n",
       "       'goldenrod', 'lightslategray', 'darkgoldenrod', 'gainsboro',\n",
       "       'limegreen', 'powderblue', 'darkgrey', 'darkslategrey',\n",
       "       'royalblue', 'grey', 'silver', 'mediumorchid', 'lightgray',\n",
       "       'magenta', 'slateblue', 'pink', 'ghostwhite', 'lightpink',\n",
       "       'lightsalmon', 'darkkhaki'], dtype='<U20')"
      ]
     },
     "execution_count": 119,
     "metadata": {},
     "output_type": "execute_result"
    }
   ],
   "source": [
    "matplot_colors = list(mcolors.BASE_COLORS.keys()) + \\\n",
    "                 list(mcolors.TABLEAU_COLORS.keys()) + \\\n",
    "                 list(mcolors.CSS4_COLORS.keys())\n",
    "random_colors = np.random.choice(matplot_colors, len(top_classes), replace=False)\n",
    "random_colors"
   ]
  },
  {
   "cell_type": "code",
   "execution_count": 120,
   "metadata": {},
   "outputs": [
    {
     "data": {
      "image/png": "[encoded data removed]",
      "text/plain": [
       "<Figure size 1152x864 with 1 Axes>"
      ]
     },
     "metadata": {
      "needs_background": "light"
     },
     "output_type": "display_data"
    }
   ],
   "source": [
    "plt.figure(figsize=(16, 12))\n",
    "\n",
    "for color, label in zip(random_colors, top_classes):\n",
    "    plt.scatter(X_2d[y == label, 0], X_2d[y == label, 1], label=label, c=color)\n",
    "plt.legend(loc='upper right', bbox_to_anchor=(1.55, 1.))\n",
    "plt.show()"
   ]
  },
  {
   "cell_type": "markdown",
   "metadata": {},
   "source": [
    "Выводы:\n",
    "* данные грязные, их нужно чистить. Много слов отсутствуют в словаре, как это было замечено Севой ранее\n",
    "* USE работает лучше остальных по той причине что это document context вектор, а не word context. Таким образом отсутствие многих слов в словаре не так сильно на него влияет. Да и тот факт что обучали на большом корпусе в который вполне могли попасть и укр тексты, тоже является плюсом в сторону его использования.\n",
    "* несмотря на то, что GloVe и остальные показывают довольно неплохой context similarity между одинаковыми классами, false positive rate у них так же высокий. Причиной разумеется может быть усреднение векторов.\n",
    "* мои попытки поработать с (300, max_sent_len) размерными GloVe векторами не увенчались успехом, в силу того, что все это дело не влазит в 32 Gb Ram + 16 gb SWAP. К тому же все эти операции по созданию разномерных эмбедингов очень время-затратные\n",
    "* BERT эмбединги не показали абсолютно никакой context explainability. Причиной этому является распределение векторов в пространстве (об этим упоминал Дима Унковский). Так же, об этом [говорит](https://github.com/UKPLab/sentence-transformers/issues/80#issuecomment-565388257) и dr. Nils Reimers. Его же статья на эту тему:\n",
    "https://arxiv.org/pdf/1908.10084.pdf\n",
    " \n",
    "В завершение:\n",
    "Обучить свои? Можно. Но мне это показалось не так интересно. Я хотел попробовать берт. В результате получил интересный инсайт. Иначе б этим вопросом не задался б и так бы и дальше думал бы, что Берт это вот прям панацея от всего :-)\n",
    "Ну и пытаться обучать модель на (300, 100) векторах тоже такая себе была затея, даже с float32"
   ]
  },
  {
   "cell_type": "code",
   "execution_count": null,
   "metadata": {},
   "outputs": [],
   "source": []
  }
 ],
 "metadata": {
  "kernelspec": {
   "display_name": "p36tf20",
   "language": "python",
   "name": "p36tf20"
  },
  "language_info": {
   "codemirror_mode": {
    "name": "ipython",
    "version": 3
   },
   "file_extension": ".py",
   "mimetype": "text/x-python",
   "name": "python",
   "nbconvert_exporter": "python",
   "pygments_lexer": "ipython3",
   "version": "3.6.10"
  }
 },
 "nbformat": 4,
 "nbformat_minor": 2
}
