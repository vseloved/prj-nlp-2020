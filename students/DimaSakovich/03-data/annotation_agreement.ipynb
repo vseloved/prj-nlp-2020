{
 "cells": [
  {
   "cell_type": "code",
   "execution_count": 1,
   "metadata": {},
   "outputs": [],
   "source": [
    "import re\n",
    "import numpy as np\n",
    "\n",
    "from collections import Counter"
   ]
  },
  {
   "cell_type": "code",
   "execution_count": 2,
   "metadata": {},
   "outputs": [],
   "source": [
    "max_annotators = 5"
   ]
  },
  {
   "cell_type": "code",
   "execution_count": 3,
   "metadata": {},
   "outputs": [],
   "source": [
    "with open('official-2014.combined-withalt.m2') as fr:\n",
    "    lines = fr.readlines()"
   ]
  },
  {
   "cell_type": "code",
   "execution_count": 20,
   "metadata": {},
   "outputs": [],
   "source": [
    "def annotation_stat(correction_type=None):\n",
    "    \n",
    "    agreed_annotations = np.full((5, 5), 0.000001) # avoid zero-devision\n",
    "    total_annotations = np.full((5, 5), 0.000001) # avoid zero-devision\n",
    "    sentence_annotations = []\n",
    "    \n",
    "    def calculate_stat_for_sentence():\n",
    "        annotators_counter = Counter()\n",
    "        \n",
    "        # count all coincidences\n",
    "        for a in sentence_annotations:\n",
    "            annotators_counter[a[0]] += 1\n",
    "            for b in sentence_annotations:\n",
    "                if a[1] == b[1]:\n",
    "                    agreed_annotations[a[0]][b[0]] += 1\n",
    "        \n",
    "        # count all corrections, devided by because we symetrically add similar value\n",
    "        for a_id, a_annotations in annotators_counter.items():\n",
    "            for b_id, b_annotations in annotators_counter.items():\n",
    "                total_annotations[a_id][b_id] += (a_annotations + b_annotations)/2\n",
    "                 \n",
    "    \n",
    "    for line in lines:\n",
    "        if line.startswith('S'):\n",
    "            calculate_stat_for_sentence()\n",
    "            sentence_annotations.clear()\n",
    "\n",
    "        elif line.startswith('A'):\n",
    "            annotator = int(line[-2:-1])\n",
    "            annotation = line[2:-5]\n",
    "            corr_type = re.search(r'(?<=\\|\\|\\|).+?(?=\\|\\|\\|)', line).group(0)\n",
    "            if not correction_type or correction_type == corr_type:\n",
    "                sentence_annotations.append((annotator, annotation))\n",
    "\n",
    "    calculate_stat_for_sentence()\n",
    "    \n",
    "    ratio = [[agreed_annotations[a][b]/total_annotations[a][b] \n",
    "                            for a in range(max_annotators)] \n",
    "                            for b in range(max_annotators)]\n",
    "    \n",
    "    num = 0\n",
    "    den = 0\n",
    "    for a in range(max_annotators - 1):\n",
    "        for b in range(a + 1, max_annotators):\n",
    "            num += ratio[a][b] * total_annotations[a][b]\n",
    "            den += total_annotations[a][b]\n",
    "\n",
    "    return num / den"
   ]
  },
  {
   "cell_type": "code",
   "execution_count": 21,
   "metadata": {},
   "outputs": [
    {
     "name": "stdout",
     "output_type": "stream",
     "text": [
      "CPU times: user 62.2 ms, sys: 243 µs, total: 62.4 ms\n",
      "Wall time: 60.2 ms\n"
     ]
    },
    {
     "data": {
      "text/plain": [
       "0.3518977237684415"
      ]
     },
     "execution_count": 21,
     "metadata": {},
     "output_type": "execute_result"
    }
   ],
   "source": [
    "%%time \n",
    "\n",
    "annotation_stat()"
   ]
  },
  {
   "cell_type": "code",
   "execution_count": 22,
   "metadata": {},
   "outputs": [
    {
     "name": "stdout",
     "output_type": "stream",
     "text": [
      "CPU times: user 13.6 ms, sys: 229 µs, total: 13.9 ms\n",
      "Wall time: 13.5 ms\n"
     ]
    },
    {
     "data": {
      "text/plain": [
       "0.7755102224073288"
      ]
     },
     "execution_count": 22,
     "metadata": {},
     "output_type": "execute_result"
    }
   ],
   "source": [
    "%%time \n",
    "\n",
    "annotation_stat(\"Vform\")"
   ]
  },
  {
   "cell_type": "code",
   "execution_count": 23,
   "metadata": {},
   "outputs": [],
   "source": [
    "corrections = {\n",
    "    \"ArtOrDet\": \"Article or Determiner\",\n",
    "    \"Cit\": \"Citation\",\n",
    "    \"Mec\": \"Punctuation, capitalization, spelling, typos\",\n",
    "    \"Nn\": \"Noun number\",\n",
    "    \"Npos\": \"Noun possesive\",\n",
    "    \"Others\": \"Other errors\",\n",
    "    \"Pform\": \"Pronoun form\",\n",
    "    \"Pref\": \"Pronoun reference\",\n",
    "    \"Prep\": \"Preposition\",\n",
    "    \"Rloc-\": \"Local redundancy\",\n",
    "    \"SVA\": \"Subject-verb-agreement\",\n",
    "    \"Sfrag\": \"Fragment\",\n",
    "    \"Smod\": \"Dangling modifier\",\n",
    "    \"Spar\": \"Parallelism\",\n",
    "    \"Srun\": \"Runons, comma splice\",\n",
    "    \"Ssub\": \"Subordinate clause\",\n",
    "    \"Trans\": \"Link word/phrases\",\n",
    "    \"Um\": \"Unclear meaning (cannot be corrected)\",\n",
    "    \"V0\": \"Missing verb\",\n",
    "    \"Vform\": \"Verb form\",\n",
    "    \"Vm\": \"Verb modal\",\n",
    "    \"Vt\": \"Verb tense\",\n",
    "    \"WOadv\": \"Adverb/adjective position\",\n",
    "    \"WOinc\": \"Incorrect sentence form\",\n",
    "    \"Wa\": \"Acronyms\",\n",
    "    \"Wci\": \"Wrong collocation/idiom\",\n",
    "    \"Wform\": \"Word form\",\n",
    "    \"Wtone\": \"Tone\"\n",
    "}"
   ]
  },
  {
   "cell_type": "code",
   "execution_count": 19,
   "metadata": {},
   "outputs": [
    {
     "name": "stdout",
     "output_type": "stream",
     "text": [
      "0.63\tArticle or Determiner\n",
      "1.0\tCitation\n",
      "0.68\tPunctuation, capitalization, spelling, typos\n",
      "0.8\tNoun number\n",
      "0.79\tNoun possesive\n",
      "0.68\tOther errors\n",
      "0.88\tPronoun form\n",
      "0.68\tPronoun reference\n",
      "0.72\tPreposition\n",
      "0.67\tLocal redundancy\n",
      "0.85\tSubject-verb-agreement\n",
      "1.0\tFragment\n",
      "1.0\tDangling modifier\n",
      "1.0\tParallelism\n",
      "0.78\tRunons, comma splice\n",
      "0.77\tSubordinate clause\n",
      "0.6\tLink word/phrases\n",
      "0.63\tUnclear meaning (cannot be corrected)\n",
      "0.86\tMissing verb\n",
      "0.78\tVerb form\n",
      "0.59\tVerb modal\n",
      "0.77\tVerb tense\n",
      "0.89\tAdverb/adjective position\n",
      "0.78\tIncorrect sentence form\n",
      "1.0\tAcronyms\n",
      "0.48\tWrong collocation/idiom\n",
      "0.73\tWord form\n",
      "0.83\tTone\n"
     ]
    }
   ],
   "source": [
    "for (corr_type, desc) in corrections.items():\n",
    "    print(f'{annotation_stat(corr_type):.2}\\t{corrections[corr_type]}')"
   ]
  },
  {
   "cell_type": "code",
   "execution_count": null,
   "metadata": {},
   "outputs": [],
   "source": []
  },
  {
   "cell_type": "code",
   "execution_count": null,
   "metadata": {},
   "outputs": [],
   "source": []
  },
  {
   "cell_type": "code",
   "execution_count": null,
   "metadata": {},
   "outputs": [],
   "source": []
  }
 ],
 "metadata": {
  "kernelspec": {
   "display_name": "nlp36",
   "language": "python",
   "name": "nlp36"
  },
  "language_info": {
   "codemirror_mode": {
    "name": "ipython",
    "version": 3
   },
   "file_extension": ".py",
   "mimetype": "text/x-python",
   "name": "python",
   "nbconvert_exporter": "python",
   "pygments_lexer": "ipython3",
   "version": "3.6.10"
  }
 },
 "nbformat": 4,
 "nbformat_minor": 4
}
