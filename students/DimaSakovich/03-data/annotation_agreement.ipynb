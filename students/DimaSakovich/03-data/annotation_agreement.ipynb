{
 "cells": [
  {
   "cell_type": "code",
   "execution_count": 1,
   "metadata": {},
   "outputs": [],
   "source": [
    "import re\n",
    "import numpy as np\n",
    "\n",
    "from collections import Counter"
   ]
  },
  {
   "cell_type": "code",
   "execution_count": 2,
   "metadata": {},
   "outputs": [],
   "source": [
    "max_annotators = 5"
   ]
  },
  {
   "cell_type": "code",
   "execution_count": 3,
   "metadata": {},
   "outputs": [],
   "source": [
    "with open('official-2014.combined-withalt.m2') as fr:\n",
    "    lines = fr.readlines()"
   ]
  },
  {
   "cell_type": "code",
   "execution_count": 4,
   "metadata": {},
   "outputs": [],
   "source": [
    "data = [line.split(\"\\n\") for line in \"\".join(lines).split(\"\\n\\n\")]"
   ]
  },
  {
   "cell_type": "code",
   "execution_count": 5,
   "metadata": {},
   "outputs": [],
   "source": [
    "def annotation_stat(correction_type=None, data=data):\n",
    "    agreed_annotations = np.zeros((max_annotators, max_annotators))\n",
    "    total_annotations = np.zeros((max_annotators, max_annotators))\n",
    "    \n",
    "    for sentence in data:\n",
    "        question, answers = sentence[0], [] if len(sentence) < 2 else sentence[1:]\n",
    "        sentence_annotations = []\n",
    "        \n",
    "        # all annotators answers we gather into a batch which is preprocessed after each testing sentence\n",
    "        for answer in answers:\n",
    "            \"\"\"A -1 -1|||noop|||-NONE-|||REQUIRED|||-NONE-|||0\"\"\"\n",
    "            lst = answer.split(\"|||\")\n",
    "            corr_type = lst[1]\n",
    "            annotator = int(lst[5])\n",
    "            annotation = answer[2:-4]\n",
    "\n",
    "            if not correction_type or correction_type == corr_type:\n",
    "                sentence_annotations.append((annotator, annotation))\n",
    "\n",
    "        # for each batch of answers we count all annotations and common between pair of annotator\n",
    "        annotators_counter = Counter()\n",
    "        for a in sentence_annotations:\n",
    "            annotators_counter[a[0]] += 1\n",
    "            for b in sentence_annotations:\n",
    "                if a[1] == b[1]:\n",
    "                    agreed_annotations[a[0]][b[0]] += 1\n",
    "\n",
    "        for a_id, a_annotations in annotators_counter.items():\n",
    "            for b_id, b_annotations in annotators_counter.items():\n",
    "                total_annotations[a_id][b_id] += np.min([a_annotations, b_annotations])\n",
    "    \n",
    "    # to aviod ZeroDivisionError in case when there are no cor_types at all, \n",
    "    # we add small delta for all annotation counts\n",
    "    total_annotations = np.where(total_annotations == 0, 1e-10, total_annotations)\n",
    "    \n",
    "    ratio = agreed_annotations / total_annotations\n",
    "    \n",
    "    res = ((np.tril(agreed_annotations).sum() - np.trace(agreed_annotations)) / \n",
    "           (np.tril(total_annotations).sum() - np.trace(total_annotations)))\n",
    "#     res = (np.tril(ratio).sum() - np.trace(ratio)) / np.sum(range(max_annotators))\n",
    "\n",
    "    return res"
   ]
  },
  {
   "cell_type": "code",
   "execution_count": 6,
   "metadata": {},
   "outputs": [
    {
     "name": "stdout",
     "output_type": "stream",
     "text": [
      "CPU times: user 113 ms, sys: 23.1 ms, total: 136 ms\n",
      "Wall time: 106 ms\n"
     ]
    },
    {
     "data": {
      "text/plain": [
       "0.45197044334975367"
      ]
     },
     "execution_count": 6,
     "metadata": {},
     "output_type": "execute_result"
    }
   ],
   "source": [
    "%%time \n",
    "\n",
    "annotation_stat()"
   ]
  },
  {
   "cell_type": "code",
   "execution_count": 7,
   "metadata": {},
   "outputs": [
    {
     "name": "stdout",
     "output_type": "stream",
     "text": [
      "CPU times: user 12 ms, sys: 1.37 ms, total: 13.3 ms\n",
      "Wall time: 11.4 ms\n"
     ]
    },
    {
     "data": {
      "text/plain": [
       "0.8189655172413793"
      ]
     },
     "execution_count": 7,
     "metadata": {},
     "output_type": "execute_result"
    }
   ],
   "source": [
    "%%time \n",
    "\n",
    "annotation_stat(\"Vform\")"
   ]
  },
  {
   "cell_type": "code",
   "execution_count": 8,
   "metadata": {},
   "outputs": [],
   "source": [
    "corrections = {\n",
    "    \"ArtOrDet\": \"Article or Determiner\",\n",
    "    \"Cit\": \"Citation\",\n",
    "    \"Mec\": \"Punctuation, capitalization, spelling, typos\",\n",
    "    \"Nn\": \"Noun number\",\n",
    "    \"Npos\": \"Noun possesive\",\n",
    "    \"Others\": \"Other errors\",\n",
    "    \"Pform\": \"Pronoun form\",\n",
    "    \"Pref\": \"Pronoun reference\",\n",
    "    \"Prep\": \"Preposition\",\n",
    "    \"Rloc-\": \"Local redundancy\",\n",
    "    \"SVA\": \"Subject-verb-agreement\",\n",
    "    \"Sfrag\": \"Fragment\",\n",
    "    \"Smod\": \"Dangling modifier\",\n",
    "    \"Spar\": \"Parallelism\",\n",
    "    \"Srun\": \"Runons, comma splice\",\n",
    "    \"Ssub\": \"Subordinate clause\",\n",
    "    \"Trans\": \"Link word/phrases\",\n",
    "    \"Um\": \"Unclear meaning (cannot be corrected)\",\n",
    "    \"V0\": \"Missing verb\",\n",
    "    \"Vform\": \"Verb form\",\n",
    "    \"Vm\": \"Verb modal\",\n",
    "    \"Vt\": \"Verb tense\",\n",
    "    \"WOadv\": \"Adverb/adjective position\",\n",
    "    \"WOinc\": \"Incorrect sentence form\",\n",
    "    \"Wa\": \"Acronyms\",\n",
    "    \"Wci\": \"Wrong collocation/idiom\",\n",
    "    \"Wform\": \"Word form\",\n",
    "    \"Wtone\": \"Tone\"\n",
    "}"
   ]
  },
  {
   "cell_type": "code",
   "execution_count": 9,
   "metadata": {},
   "outputs": [
    {
     "name": "stdout",
     "output_type": "stream",
     "text": [
      "0.74\tArticle or Determiner\n",
      "0.0\tCitation\n",
      "0.77\tPunctuation, capitalization, spelling, typos\n",
      "0.91\tNoun number\n",
      "0.84\tNoun possesive\n",
      "0.69\tOther errors\n",
      "0.9\tPronoun form\n",
      "0.76\tPronoun reference\n",
      "0.8\tPreposition\n",
      "0.77\tLocal redundancy\n",
      "0.9\tSubject-verb-agreement\n",
      "1.0\tFragment\n",
      "1.0\tDangling modifier\n",
      "1.0\tParallelism\n",
      "0.9\tRunons, comma splice\n",
      "0.77\tSubordinate clause\n",
      "0.63\tLink word/phrases\n",
      "0.67\tUnclear meaning (cannot be corrected)\n",
      "0.86\tMissing verb\n",
      "0.82\tVerb form\n",
      "0.61\tVerb modal\n",
      "0.81\tVerb tense\n",
      "0.89\tAdverb/adjective position\n",
      "0.8\tIncorrect sentence form\n",
      "1.0\tAcronyms\n",
      "0.54\tWrong collocation/idiom\n",
      "0.79\tWord form\n",
      "0.83\tTone\n"
     ]
    }
   ],
   "source": [
    "for (corr_type, desc) in corrections.items():\n",
    "    print(f'{annotation_stat(corr_type):.2}\\t{corrections[corr_type]}')"
   ]
  },
  {
   "cell_type": "code",
   "execution_count": null,
   "metadata": {},
   "outputs": [],
   "source": []
  }
 ],
 "metadata": {
  "kernelspec": {
   "display_name": "nlp36",
   "language": "python",
   "name": "nlp36"
  },
  "language_info": {
   "codemirror_mode": {
    "name": "ipython",
    "version": 3
   },
   "file_extension": ".py",
   "mimetype": "text/x-python",
   "name": "python",
   "nbconvert_exporter": "python",
   "pygments_lexer": "ipython3",
   "version": "3.6.10"
  }
 },
 "nbformat": 4,
 "nbformat_minor": 4
}
