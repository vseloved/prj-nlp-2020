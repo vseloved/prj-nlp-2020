{
 "cells": [
  {
   "cell_type": "code",
   "execution_count": 1,
   "metadata": {},
   "outputs": [],
   "source": [
    "import os\n",
    "import matplotlib.pyplot as plt\n",
    "import matplotlib.ticker as ticker\n",
    "\n",
    "from IPython.display import display, Markdown, Image"
   ]
  },
  {
   "cell_type": "code",
   "execution_count": 2,
   "metadata": {},
   "outputs": [],
   "source": [
    "%matplotlib inline"
   ]
  },
  {
   "cell_type": "code",
   "execution_count": 3,
   "metadata": {},
   "outputs": [],
   "source": [
    "!export FONTCONFIG_PATH=/etc/fonts"
   ]
  },
  {
   "cell_type": "code",
   "execution_count": 4,
   "metadata": {},
   "outputs": [],
   "source": [
    "REPO_PATH = os.path.dirname(os.path.dirname(os.path.dirname(os.getcwd())))\n",
    "TASK_PATH = os.path.join(REPO_PATH, \"tasks\", \"12-nlg\", \"12-nlg.md\")\n",
    "DATA_PATH = os.path.join(REPO_PATH, \"tasks\", \"12-nlg\", \"opusparcus_v2.zip\")"
   ]
  },
  {
   "cell_type": "code",
   "execution_count": 5,
   "metadata": {},
   "outputs": [],
   "source": [
    "def show_markdown(path):\n",
    "    with open(path, 'r') as fh:\n",
    "        content = fh.read()\n",
    "    display(Markdown(content))"
   ]
  },
  {
   "cell_type": "code",
   "execution_count": 6,
   "metadata": {},
   "outputs": [
    {
     "data": {
      "text/markdown": [
       "# Генерація перефразувань\n",
       "\n",
       "## Завдання\n",
       "\n",
       "Ваше завдання цього тижня - розробити seq2seq модель для генерації перефразувань на рівні символів, слів чи bpe. Ось корисні посилання:\n",
       "- <https://keras.io/examples/lstm_seq2seq/>\n",
       "- <https://blog.keras.io/a-ten-minute-introduction-to-sequence-to-sequence-learning-in-keras.html>\n",
       "- <https://machinelearningmastery.com/develop-encoder-decoder-model-sequence-sequence-prediction-keras/>\n",
       "\n",
       "Для тренування використайте [скорочений варіант корпусу Opusparcus](opusparcus_v2.zip). Врахуйте, що кожну пару перефразувань можна використовувати для тренування в обидва боки.\n",
       "\n",
       "**Для довідки.** Оригінальний корпус [Opusparcus](https://korp.csc.fi/download/opusparcus/). Це корпус перефразувань, побудований на основі різних субтитрів до тих самих фільмів. Тренувальна вибірка у корпусі дуже велика (40 млн прикладів для англійської мови), але автоматично проанотована. Більшість перефразувань надто примітивні, тож скорочений варіант корпусу містить перші сто тисяч прикладів з високою відстанню редагування (значення останньої колонки; див. README).\n",
       "\n",
       "## Метрики\n",
       "\n",
       "Для оцінки якості генерації перефразувань використаймо дві метрики:\n",
       "1. ROUGE-L, виміряна на dev-частині корпусу. Міряйте якість лише на прикладах з оцінкою 3.0–4.0 (див. останню колонку). Можна скористатися готовою імплементацією метрики з бібліотеки [py-rouge](https://pypi.org/project/py-rouge/).\n",
       "2. Ручна оцінка якості. Виберіть 50 випадкових речень із dev-частини корпусу, згенеруйте перефразування для них та підготуйте Google-таблицю. Інший студент у групі оцінить якість генерації.\n",
       "\n",
       "## Оцінювання\n",
       "\n",
       "За побудову моделі - 80 балів. За анотування 50-ти прикладів генерації іншого студента - 20 балів.\n",
       "\n",
       "Крайній термін: 30.05.2020\n"
      ],
      "text/plain": [
       "<IPython.core.display.Markdown object>"
      ]
     },
     "metadata": {},
     "output_type": "display_data"
    }
   ],
   "source": [
    "show_markdown(TASK_PATH)"
   ]
  },
  {
   "cell_type": "markdown",
   "metadata": {},
   "source": [
    "### Load the data"
   ]
  },
  {
   "cell_type": "code",
   "execution_count": 7,
   "metadata": {},
   "outputs": [],
   "source": [
    "import zipfile\n",
    "import time\n",
    "\n",
    "import pandas as pd\n",
    "import numpy as np\n",
    "import tensorflow as tf\n",
    "\n",
    "from tqdm import tqdm"
   ]
  },
  {
   "cell_type": "code",
   "execution_count": 8,
   "metadata": {},
   "outputs": [],
   "source": [
    "def preprocess_sentence(x):\n",
    "    x = x.strip().lower()\n",
    "    if not x.startswith('<start>'):\n",
    "        x = \"<start> \" + x\n",
    "    if not x.endswith(\"<end>\"):\n",
    "        x = x + \" <end>\"\n",
    "    return x"
   ]
  },
  {
   "cell_type": "code",
   "execution_count": 9,
   "metadata": {},
   "outputs": [],
   "source": [
    "zf = zipfile.ZipFile(DATA_PATH) "
   ]
  },
  {
   "cell_type": "code",
   "execution_count": 10,
   "metadata": {},
   "outputs": [],
   "source": [
    "train = pd.read_csv(zf.open(os.path.join('opusparcus_v2', 'en-train-100K.txt')), sep='\\t', header=None)\n",
    "dev = pd.read_csv(zf.open(os.path.join('opusparcus_v2', 'en-dev.txt')), sep='\\t', header=None)\n",
    "test = pd.read_csv(zf.open(os.path.join('opusparcus_v2', 'en-test.txt')), sep='\\t', header=None)\n",
    "\n",
    "train.columns = ['pair_id', 'sent1', 'sent2', 'score1', 'score2', 'lang_num', 'distance']\n",
    "dev.columns = ['pair_id', 'sent1', 'sent2', 'score2']\n",
    "test.columns = ['pair_id', 'sent1', 'sent2', 'score2']\n",
    "\n",
    "train['sent1'] = train['sent1'].map(preprocess_sentence)\n",
    "train['sent2'] = train['sent2'].map(preprocess_sentence)\n",
    "\n",
    "dev['sent1'] = dev['sent1'].map(preprocess_sentence)\n",
    "dev['sent2'] = dev['sent2'].map(preprocess_sentence)\n",
    "\n",
    "test['sent1'] = test['sent1'].map(preprocess_sentence)\n",
    "test['sent2'] = test['sent2'].map(preprocess_sentence)"
   ]
  },
  {
   "cell_type": "code",
   "execution_count": 11,
   "metadata": {},
   "outputs": [
    {
     "name": "stdout",
     "output_type": "stream",
     "text": [
      "(100000, 7)\n"
     ]
    },
    {
     "data": {
      "text/html": [
       "<div>\n",
       "<style scoped>\n",
       "    .dataframe tbody tr th:only-of-type {\n",
       "        vertical-align: middle;\n",
       "    }\n",
       "\n",
       "    .dataframe tbody tr th {\n",
       "        vertical-align: top;\n",
       "    }\n",
       "\n",
       "    .dataframe thead th {\n",
       "        text-align: right;\n",
       "    }\n",
       "</style>\n",
       "<table border=\"1\" class=\"dataframe\">\n",
       "  <thead>\n",
       "    <tr style=\"text-align: right;\">\n",
       "      <th></th>\n",
       "      <th>pair_id</th>\n",
       "      <th>sent1</th>\n",
       "      <th>sent2</th>\n",
       "      <th>score1</th>\n",
       "      <th>score2</th>\n",
       "      <th>lang_num</th>\n",
       "      <th>distance</th>\n",
       "    </tr>\n",
       "  </thead>\n",
       "  <tbody>\n",
       "    <tr>\n",
       "      <th>0</th>\n",
       "      <td>en-N7</td>\n",
       "      <td>&lt;start&gt; jumby now wants to be born . &lt;end&gt;</td>\n",
       "      <td>&lt;start&gt; jumby want birth . &lt;end&gt;</td>\n",
       "      <td>77.5163</td>\n",
       "      <td>2.50000</td>\n",
       "      <td>5</td>\n",
       "      <td>9</td>\n",
       "    </tr>\n",
       "    <tr>\n",
       "      <th>1</th>\n",
       "      <td>en-N8</td>\n",
       "      <td>&lt;start&gt; it was a difficult and long delivery ....</td>\n",
       "      <td>&lt;start&gt; the delivery was difficult and long . ...</td>\n",
       "      <td>77.5163</td>\n",
       "      <td>2.50000</td>\n",
       "      <td>5</td>\n",
       "      <td>14</td>\n",
       "    </tr>\n",
       "    <tr>\n",
       "      <th>2</th>\n",
       "      <td>en-N12</td>\n",
       "      <td>&lt;start&gt; i like to be beautiful everyday . &lt;end&gt;</td>\n",
       "      <td>&lt;start&gt; i like to be pretty everyday . &lt;end&gt;</td>\n",
       "      <td>77.5163</td>\n",
       "      <td>2.50000</td>\n",
       "      <td>5</td>\n",
       "      <td>8</td>\n",
       "    </tr>\n",
       "    <tr>\n",
       "      <th>3</th>\n",
       "      <td>en-N22</td>\n",
       "      <td>&lt;start&gt; bernadette wants a prenup . &lt;end&gt;</td>\n",
       "      <td>&lt;start&gt; bernadette wants to get a prenup . &lt;end&gt;</td>\n",
       "      <td>77.5163</td>\n",
       "      <td>2.50000</td>\n",
       "      <td>5</td>\n",
       "      <td>7</td>\n",
       "    </tr>\n",
       "    <tr>\n",
       "      <th>4</th>\n",
       "      <td>en-N45</td>\n",
       "      <td>&lt;start&gt; don 't say you don 't remember me . &lt;end&gt;</td>\n",
       "      <td>&lt;start&gt; don 't tell me you don 't remember me ...</td>\n",
       "      <td>74.3904</td>\n",
       "      <td>3.33333</td>\n",
       "      <td>5</td>\n",
       "      <td>7</td>\n",
       "    </tr>\n",
       "  </tbody>\n",
       "</table>\n",
       "</div>"
      ],
      "text/plain": [
       "  pair_id                                              sent1  \\\n",
       "0   en-N7         <start> jumby now wants to be born . <end>   \n",
       "1   en-N8  <start> it was a difficult and long delivery ....   \n",
       "2  en-N12    <start> i like to be beautiful everyday . <end>   \n",
       "3  en-N22          <start> bernadette wants a prenup . <end>   \n",
       "4  en-N45  <start> don 't say you don 't remember me . <end>   \n",
       "\n",
       "                                               sent2   score1   score2  \\\n",
       "0                   <start> jumby want birth . <end>  77.5163  2.50000   \n",
       "1  <start> the delivery was difficult and long . ...  77.5163  2.50000   \n",
       "2       <start> i like to be pretty everyday . <end>  77.5163  2.50000   \n",
       "3   <start> bernadette wants to get a prenup . <end>  77.5163  2.50000   \n",
       "4  <start> don 't tell me you don 't remember me ...  74.3904  3.33333   \n",
       "\n",
       "   lang_num  distance  \n",
       "0         5         9  \n",
       "1         5        14  \n",
       "2         5         8  \n",
       "3         5         7  \n",
       "4         5         7  "
      ]
     },
     "execution_count": 11,
     "metadata": {},
     "output_type": "execute_result"
    }
   ],
   "source": [
    "print(train.shape)\n",
    "train.head()"
   ]
  },
  {
   "cell_type": "code",
   "execution_count": 12,
   "metadata": {},
   "outputs": [
    {
     "name": "stdout",
     "output_type": "stream",
     "text": [
      "(1455, 4)\n"
     ]
    },
    {
     "data": {
      "text/html": [
       "<div>\n",
       "<style scoped>\n",
       "    .dataframe tbody tr th:only-of-type {\n",
       "        vertical-align: middle;\n",
       "    }\n",
       "\n",
       "    .dataframe tbody tr th {\n",
       "        vertical-align: top;\n",
       "    }\n",
       "\n",
       "    .dataframe thead th {\n",
       "        text-align: right;\n",
       "    }\n",
       "</style>\n",
       "<table border=\"1\" class=\"dataframe\">\n",
       "  <thead>\n",
       "    <tr style=\"text-align: right;\">\n",
       "      <th></th>\n",
       "      <th>pair_id</th>\n",
       "      <th>sent1</th>\n",
       "      <th>sent2</th>\n",
       "      <th>score2</th>\n",
       "    </tr>\n",
       "  </thead>\n",
       "  <tbody>\n",
       "    <tr>\n",
       "      <th>0</th>\n",
       "      <td>en-D69</td>\n",
       "      <td>&lt;start&gt; 300 heavy horse ? &lt;end&gt;</td>\n",
       "      <td>&lt;start&gt; we have no chance . &lt;end&gt;</td>\n",
       "      <td>1.5</td>\n",
       "    </tr>\n",
       "    <tr>\n",
       "      <th>1</th>\n",
       "      <td>en-D76</td>\n",
       "      <td>&lt;start&gt; when 'd you last see him ? &lt;end&gt;</td>\n",
       "      <td>&lt;start&gt; when was the last time you saw him ? &lt;...</td>\n",
       "      <td>4.0</td>\n",
       "    </tr>\n",
       "    <tr>\n",
       "      <th>2</th>\n",
       "      <td>en-D119</td>\n",
       "      <td>&lt;start&gt; anyone who can verify that ? &lt;end&gt;</td>\n",
       "      <td>&lt;start&gt; can anyone corroborate that ? &lt;end&gt;</td>\n",
       "      <td>3.5</td>\n",
       "    </tr>\n",
       "    <tr>\n",
       "      <th>3</th>\n",
       "      <td>en-D168</td>\n",
       "      <td>&lt;start&gt; i 'm not promising anything . &lt;end&gt;</td>\n",
       "      <td>&lt;start&gt; no promises , okay ? &lt;end&gt;</td>\n",
       "      <td>3.0</td>\n",
       "    </tr>\n",
       "    <tr>\n",
       "      <th>4</th>\n",
       "      <td>en-D242</td>\n",
       "      <td>&lt;start&gt; nothing 's changed . &lt;end&gt;</td>\n",
       "      <td>&lt;start&gt; things ain 't no different . &lt;end&gt;</td>\n",
       "      <td>3.5</td>\n",
       "    </tr>\n",
       "  </tbody>\n",
       "</table>\n",
       "</div>"
      ],
      "text/plain": [
       "   pair_id                                        sent1  \\\n",
       "0   en-D69              <start> 300 heavy horse ? <end>   \n",
       "1   en-D76     <start> when 'd you last see him ? <end>   \n",
       "2  en-D119   <start> anyone who can verify that ? <end>   \n",
       "3  en-D168  <start> i 'm not promising anything . <end>   \n",
       "4  en-D242           <start> nothing 's changed . <end>   \n",
       "\n",
       "                                               sent2  score2  \n",
       "0                  <start> we have no chance . <end>     1.5  \n",
       "1  <start> when was the last time you saw him ? <...     4.0  \n",
       "2        <start> can anyone corroborate that ? <end>     3.5  \n",
       "3                 <start> no promises , okay ? <end>     3.0  \n",
       "4         <start> things ain 't no different . <end>     3.5  "
      ]
     },
     "execution_count": 12,
     "metadata": {},
     "output_type": "execute_result"
    }
   ],
   "source": [
    "print(dev.shape)\n",
    "dev.head()"
   ]
  },
  {
   "cell_type": "code",
   "execution_count": 13,
   "metadata": {},
   "outputs": [
    {
     "name": "stdout",
     "output_type": "stream",
     "text": [
      "(1445, 4)\n"
     ]
    },
    {
     "data": {
      "text/html": [
       "<div>\n",
       "<style scoped>\n",
       "    .dataframe tbody tr th:only-of-type {\n",
       "        vertical-align: middle;\n",
       "    }\n",
       "\n",
       "    .dataframe tbody tr th {\n",
       "        vertical-align: top;\n",
       "    }\n",
       "\n",
       "    .dataframe thead th {\n",
       "        text-align: right;\n",
       "    }\n",
       "</style>\n",
       "<table border=\"1\" class=\"dataframe\">\n",
       "  <thead>\n",
       "    <tr style=\"text-align: right;\">\n",
       "      <th></th>\n",
       "      <th>pair_id</th>\n",
       "      <th>sent1</th>\n",
       "      <th>sent2</th>\n",
       "      <th>score2</th>\n",
       "    </tr>\n",
       "  </thead>\n",
       "  <tbody>\n",
       "    <tr>\n",
       "      <th>0</th>\n",
       "      <td>en-T57</td>\n",
       "      <td>&lt;start&gt; i haven 't been contacted by anybody ....</td>\n",
       "      <td>&lt;start&gt; nobody 's contacted me . &lt;end&gt;</td>\n",
       "      <td>4.0</td>\n",
       "    </tr>\n",
       "    <tr>\n",
       "      <th>1</th>\n",
       "      <td>en-T115</td>\n",
       "      <td>&lt;start&gt; i see carnivores . &lt;end&gt;</td>\n",
       "      <td>&lt;start&gt; i think maybe you 're giving up too so...</td>\n",
       "      <td>1.0</td>\n",
       "    </tr>\n",
       "    <tr>\n",
       "      <th>2</th>\n",
       "      <td>en-T146</td>\n",
       "      <td>&lt;start&gt; did you just smoke ? &lt;end&gt;</td>\n",
       "      <td>&lt;start&gt; have you been smoking ? &lt;end&gt;</td>\n",
       "      <td>3.5</td>\n",
       "    </tr>\n",
       "    <tr>\n",
       "      <th>3</th>\n",
       "      <td>en-T166</td>\n",
       "      <td>&lt;start&gt; look , i can be there in about four ho...</td>\n",
       "      <td>&lt;start&gt; your brother 's dead . &lt;end&gt;</td>\n",
       "      <td>1.0</td>\n",
       "    </tr>\n",
       "    <tr>\n",
       "      <th>4</th>\n",
       "      <td>en-T187</td>\n",
       "      <td>&lt;start&gt; i 'm pregnant . &lt;end&gt;</td>\n",
       "      <td>&lt;start&gt; i am with child . &lt;end&gt;</td>\n",
       "      <td>4.0</td>\n",
       "    </tr>\n",
       "  </tbody>\n",
       "</table>\n",
       "</div>"
      ],
      "text/plain": [
       "   pair_id                                              sent1  \\\n",
       "0   en-T57  <start> i haven 't been contacted by anybody ....   \n",
       "1  en-T115                   <start> i see carnivores . <end>   \n",
       "2  en-T146                 <start> did you just smoke ? <end>   \n",
       "3  en-T166  <start> look , i can be there in about four ho...   \n",
       "4  en-T187                      <start> i 'm pregnant . <end>   \n",
       "\n",
       "                                               sent2  score2  \n",
       "0             <start> nobody 's contacted me . <end>     4.0  \n",
       "1  <start> i think maybe you 're giving up too so...     1.0  \n",
       "2              <start> have you been smoking ? <end>     3.5  \n",
       "3               <start> your brother 's dead . <end>     1.0  \n",
       "4                    <start> i am with child . <end>     4.0  "
      ]
     },
     "execution_count": 13,
     "metadata": {},
     "output_type": "execute_result"
    }
   ],
   "source": [
    "print(test.shape)\n",
    "test.head()"
   ]
  },
  {
   "cell_type": "markdown",
   "metadata": {},
   "source": [
    "### Preprocess"
   ]
  },
  {
   "cell_type": "code",
   "execution_count": 14,
   "metadata": {},
   "outputs": [],
   "source": [
    "tokenizer = tf.keras.preprocessing.text.Tokenizer(filters='', oov_token='<UNK>')\n",
    "tokenizer.fit_on_texts(np.concatenate([train.sent1.values, train.sent2.values]))"
   ]
  },
  {
   "cell_type": "code",
   "execution_count": 15,
   "metadata": {},
   "outputs": [],
   "source": [
    "def text2tensor(x):\n",
    "    tensor = tokenizer.texts_to_sequences(x)\n",
    "    tensor = tf.keras.preprocessing.sequence.pad_sequences(tensor, padding='post')\n",
    "    return tensor"
   ]
  },
  {
   "cell_type": "code",
   "execution_count": 16,
   "metadata": {},
   "outputs": [],
   "source": [
    "# debug sample\n",
    "# train_input = text2tensor(train.sent1.values[:1000])\n",
    "# train_output = text2tensor(train.sent2.values[:1000])\n",
    "# dev_input = text2tensor(dev.sent1.values[:100])\n",
    "# dev_output = text2tensor(dev.sent2.values[:100])\n",
    "# test_input = text2tensor(test.sent1.values[:100])\n",
    "# test_output = text2tensor(test.sent2.values[:100])\n",
    "\n",
    "train_input = text2tensor(train.sent1.values)\n",
    "train_output = text2tensor(train.sent2.values)\n",
    "dev_input = text2tensor(dev.sent1.values)\n",
    "dev_output = text2tensor(dev.sent2.values)\n",
    "test_input = text2tensor(test.sent1.values)\n",
    "test_output = text2tensor(test.sent2.values)"
   ]
  },
  {
   "cell_type": "code",
   "execution_count": 17,
   "metadata": {},
   "outputs": [],
   "source": [
    "def convert(tensor):\n",
    "    for t in tensor:\n",
    "        if t != 0:\n",
    "            print(\"%d ----> %s\" % (t, tokenizer.index_word[t]))"
   ]
  },
  {
   "cell_type": "code",
   "execution_count": 18,
   "metadata": {},
   "outputs": [
    {
     "name": "stdout",
     "output_type": "stream",
     "text": [
      "Input index to word mapping\n",
      "2 ----> <start>\n",
      "4613 ----> jumby\n",
      "63 ----> now\n",
      "691 ----> wants\n",
      "11 ----> to\n",
      "21 ----> be\n",
      "1707 ----> born\n",
      "4 ----> .\n",
      "3 ----> <end>\n",
      "\n",
      "Ouptut index to word mapping\n",
      "2 ----> <start>\n",
      "4613 ----> jumby\n",
      "51 ----> want\n",
      "3602 ----> birth\n",
      "4 ----> .\n",
      "3 ----> <end>\n"
     ]
    }
   ],
   "source": [
    "print(\"Input index to word mapping\")\n",
    "convert(train_input[0])\n",
    "print(\"\\nOuptut index to word mapping\")\n",
    "convert(train_output[0])"
   ]
  },
  {
   "cell_type": "markdown",
   "metadata": {},
   "source": [
    "### Create a tf.data dataset"
   ]
  },
  {
   "cell_type": "code",
   "execution_count": 19,
   "metadata": {},
   "outputs": [],
   "source": [
    "BUFFER_SIZE = train_input.shape[0]\n",
    "BUFFER_SIZE_VAL = test_input.shape[0]\n",
    "BATCH_SIZE = 64\n",
    "steps_per_epoch = BUFFER_SIZE // BATCH_SIZE\n",
    "steps_per_epoch_val = BUFFER_SIZE_VAL // BATCH_SIZE\n",
    "embedding_dim = 256\n",
    "units = 1024\n",
    "vocab_size = len(tokenizer.word_index) + 1"
   ]
  },
  {
   "cell_type": "code",
   "execution_count": 20,
   "metadata": {},
   "outputs": [],
   "source": [
    "max_length_input, max_length_output = train_input.shape[1], train_output.shape[1]"
   ]
  },
  {
   "cell_type": "code",
   "execution_count": 21,
   "metadata": {},
   "outputs": [],
   "source": [
    "train_dataset = tf.data.Dataset.from_tensor_slices((train_input, train_output)).shuffle(BUFFER_SIZE)\n",
    "train_dataset = train_dataset.batch(BATCH_SIZE, drop_remainder=True)"
   ]
  },
  {
   "cell_type": "code",
   "execution_count": 22,
   "metadata": {},
   "outputs": [],
   "source": [
    "dev_dataset = tf.data.Dataset.from_tensor_slices((dev_input, dev_output)).shuffle(BUFFER_SIZE)\n",
    "dev_dataset = dev_dataset.batch(BATCH_SIZE, drop_remainder=True)"
   ]
  },
  {
   "cell_type": "code",
   "execution_count": 23,
   "metadata": {},
   "outputs": [],
   "source": [
    "test_dataset = tf.data.Dataset.from_tensor_slices((test_input, test_output)).shuffle(BUFFER_SIZE)\n",
    "test_dataset = test_dataset.batch(BATCH_SIZE, drop_remainder=True)"
   ]
  },
  {
   "cell_type": "code",
   "execution_count": 24,
   "metadata": {},
   "outputs": [
    {
     "data": {
      "text/plain": [
       "(TensorShape([64, 47]), TensorShape([64, 39]))"
      ]
     },
     "execution_count": 24,
     "metadata": {},
     "output_type": "execute_result"
    }
   ],
   "source": [
    "example_input_batch, example_output_batch = next(iter(train_dataset))\n",
    "example_input_batch.shape, example_output_batch.shape"
   ]
  },
  {
   "cell_type": "markdown",
   "metadata": {},
   "source": [
    "### Create a tf model"
   ]
  },
  {
   "cell_type": "markdown",
   "metadata": {},
   "source": [
    "#### Encoder/decoder"
   ]
  },
  {
   "cell_type": "code",
   "execution_count": 25,
   "metadata": {},
   "outputs": [],
   "source": [
    "class Encoder(tf.keras.Model):\n",
    "    def __init__(self, vocab_size, embedding_dim, enc_units, batch_sz):\n",
    "        super(Encoder, self).__init__()\n",
    "        self.batch_sz = batch_sz\n",
    "        self.enc_units = enc_units\n",
    "        self.embedding = tf.keras.layers.Embedding(vocab_size, embedding_dim)\n",
    "        self.gru = tf.keras.layers.GRU(self.enc_units,\n",
    "                                       return_sequences=True,\n",
    "                                       return_state=True,\n",
    "                                       recurrent_initializer='glorot_uniform')\n",
    "\n",
    "    def call(self, x, hidden):\n",
    "        x = self.embedding(x)\n",
    "        output, state = self.gru(x, initial_state = hidden)\n",
    "        return output, state\n",
    "\n",
    "    def initialize_hidden_state(self):\n",
    "        return tf.zeros((self.batch_sz, self.enc_units))"
   ]
  },
  {
   "cell_type": "code",
   "execution_count": 26,
   "metadata": {},
   "outputs": [],
   "source": [
    "class BahdanauAttention(tf.keras.layers.Layer):\n",
    "    def __init__(self, units):\n",
    "        super(BahdanauAttention, self).__init__()\n",
    "        self.W1 = tf.keras.layers.Dense(units)\n",
    "        self.W2 = tf.keras.layers.Dense(units)\n",
    "        self.V = tf.keras.layers.Dense(1)\n",
    "\n",
    "    def call(self, query, values):\n",
    "        # query hidden state shape == (batch_size, hidden size)\n",
    "        # query_with_time_axis shape == (batch_size, 1, hidden size)\n",
    "        # values shape == (batch_size, max_len, hidden size)\n",
    "        # we are doing this to broadcast addition along the time axis to calculate the score\n",
    "        query_with_time_axis = tf.expand_dims(query, 1)\n",
    "\n",
    "        # score shape == (batch_size, max_length, 1)\n",
    "        # we get 1 at the last axis because we are applying score to self.V\n",
    "        # the shape of the tensor before applying self.V is (batch_size, max_length, units)\n",
    "        score = self.V(tf.nn.tanh(\n",
    "            self.W1(query_with_time_axis) + self.W2(values)))\n",
    "\n",
    "        # attention_weights shape == (batch_size, max_length, 1)\n",
    "        attention_weights = tf.nn.softmax(score, axis=1)\n",
    "\n",
    "        # context_vector shape after sum == (batch_size, hidden_size)\n",
    "        context_vector = attention_weights * values\n",
    "        context_vector = tf.reduce_sum(context_vector, axis=1)\n",
    "\n",
    "        return context_vector, attention_weights"
   ]
  },
  {
   "cell_type": "code",
   "execution_count": 27,
   "metadata": {},
   "outputs": [],
   "source": [
    "class Decoder(tf.keras.Model):\n",
    "    def __init__(self, vocab_size, embedding_dim, dec_units, batch_sz):\n",
    "        super(Decoder, self).__init__()\n",
    "        self.batch_sz = batch_sz\n",
    "        self.dec_units = dec_units\n",
    "        self.embedding = tf.keras.layers.Embedding(vocab_size, embedding_dim)\n",
    "        self.gru = tf.keras.layers.GRU(self.dec_units,\n",
    "                                       return_sequences=True,\n",
    "                                       return_state=True,\n",
    "                                       recurrent_initializer='glorot_uniform')\n",
    "        self.fc = tf.keras.layers.Dense(vocab_size)\n",
    "\n",
    "        # used for attention\n",
    "        self.attention = BahdanauAttention(self.dec_units)\n",
    "\n",
    "    def call(self, x, hidden, enc_output):\n",
    "        # enc_output shape == (batch_size, max_length, hidden_size)\n",
    "        context_vector, attention_weights = self.attention(hidden, enc_output)\n",
    "\n",
    "        # x shape after passing through embedding == (batch_size, 1, embedding_dim)\n",
    "        x = self.embedding(x)\n",
    "\n",
    "        # x shape after concatenation == (batch_size, 1, embedding_dim + hidden_size)\n",
    "        x = tf.concat([tf.expand_dims(context_vector, 1), x], axis=-1)\n",
    "\n",
    "        # passing the concatenated vector to the GRU\n",
    "        output, state = self.gru(x)\n",
    "\n",
    "        # output shape == (batch_size * 1, hidden_size)\n",
    "        output = tf.reshape(output, (-1, output.shape[2]))\n",
    "\n",
    "        # output shape == (batch_size, vocab)\n",
    "        x = self.fc(output)\n",
    "\n",
    "        return x, state, attention_weights"
   ]
  },
  {
   "cell_type": "code",
   "execution_count": 28,
   "metadata": {},
   "outputs": [
    {
     "name": "stdout",
     "output_type": "stream",
     "text": [
      "Encoder output shape: (batch size, sequence length, units) (64, 47, 1024)\n",
      "Encoder Hidden state shape: (batch size, units) (64, 1024)\n"
     ]
    }
   ],
   "source": [
    "encoder = Encoder(vocab_size, embedding_dim, units, BATCH_SIZE)\n",
    "\n",
    "# sample input\n",
    "sample_hidden = encoder.initialize_hidden_state()\n",
    "sample_output, sample_hidden = encoder(example_input_batch, sample_hidden)\n",
    "print ('Encoder output shape: (batch size, sequence length, units) {}'.format(sample_output.shape))\n",
    "print ('Encoder Hidden state shape: (batch size, units) {}'.format(sample_hidden.shape))"
   ]
  },
  {
   "cell_type": "code",
   "execution_count": 29,
   "metadata": {},
   "outputs": [
    {
     "name": "stdout",
     "output_type": "stream",
     "text": [
      "Attention result shape: (batch size, units) (64, 1024)\n",
      "Attention weights shape: (batch_size, sequence_length, 1) (64, 47, 1)\n"
     ]
    }
   ],
   "source": [
    "attention_layer = BahdanauAttention(10)\n",
    "attention_result, attention_weights = attention_layer(sample_hidden, sample_output)\n",
    "\n",
    "print(\"Attention result shape: (batch size, units) {}\".format(attention_result.shape))\n",
    "print(\"Attention weights shape: (batch_size, sequence_length, 1) {}\".format(attention_weights.shape))"
   ]
  },
  {
   "cell_type": "code",
   "execution_count": 30,
   "metadata": {},
   "outputs": [
    {
     "name": "stdout",
     "output_type": "stream",
     "text": [
      "Decoder output shape: (batch_size, vocab size) (64, 9743)\n"
     ]
    }
   ],
   "source": [
    "decoder = Decoder(vocab_size, embedding_dim, units, BATCH_SIZE)\n",
    "\n",
    "sample_decoder_output, _, _ = decoder(tf.random.uniform((BATCH_SIZE, 1)),\n",
    "                                      sample_hidden, sample_output)\n",
    "\n",
    "print ('Decoder output shape: (batch_size, vocab size) {}'.format(sample_decoder_output.shape))"
   ]
  },
  {
   "cell_type": "markdown",
   "metadata": {},
   "source": [
    "#### optimizer and the loss function"
   ]
  },
  {
   "cell_type": "code",
   "execution_count": 31,
   "metadata": {},
   "outputs": [],
   "source": [
    "optimizer = tf.keras.optimizers.Adam()"
   ]
  },
  {
   "cell_type": "code",
   "execution_count": 32,
   "metadata": {},
   "outputs": [],
   "source": [
    "loss_object = tf.keras.losses.SparseCategoricalCrossentropy(from_logits=True, reduction='none')\n",
    "\n",
    "def loss_function(real, pred):\n",
    "    mask = tf.math.logical_not(tf.math.equal(real, 0))\n",
    "    loss_ = loss_object(real, pred)\n",
    "\n",
    "    mask = tf.cast(mask, dtype=loss_.dtype)\n",
    "    loss_ *= mask\n",
    "\n",
    "    return tf.reduce_mean(loss_)"
   ]
  },
  {
   "cell_type": "markdown",
   "metadata": {},
   "source": [
    "#### checkpoints"
   ]
  },
  {
   "cell_type": "code",
   "execution_count": 33,
   "metadata": {},
   "outputs": [],
   "source": [
    "checkpoint_dir = './training_checkpoints'\n",
    "checkpoint_prefix = os.path.join(checkpoint_dir, \"ckpt\")\n",
    "checkpoint = tf.train.Checkpoint(optimizer=optimizer,\n",
    "                                 encoder=encoder,\n",
    "                                 decoder=decoder)"
   ]
  },
  {
   "cell_type": "markdown",
   "metadata": {},
   "source": [
    "### Train the model"
   ]
  },
  {
   "cell_type": "code",
   "execution_count": 34,
   "metadata": {},
   "outputs": [],
   "source": [
    "@tf.function\n",
    "def train_step(inp, out, enc_hidden):\n",
    "    loss = 0\n",
    "\n",
    "    with tf.GradientTape() as tape:\n",
    "        enc_output, enc_hidden = encoder(inp, enc_hidden)\n",
    "\n",
    "        dec_hidden = enc_hidden\n",
    "\n",
    "        dec_input = tf.expand_dims([tokenizer.word_index['<start>']] * BATCH_SIZE, 1)\n",
    "\n",
    "        # Teacher forcing - feeding the output as the next input\n",
    "        for t in range(1, out.shape[1]):\n",
    "            # passing enc_output to the decoder\n",
    "            predictions, dec_hidden, _ = decoder(dec_input, dec_hidden, enc_output)\n",
    "\n",
    "            loss += loss_function(out[:, t], predictions)\n",
    "\n",
    "            # using teacher forcing\n",
    "            dec_input = tf.expand_dims(out[:, t], 1)\n",
    "\n",
    "    batch_loss = (loss / int(out.shape[1]))\n",
    "\n",
    "    variables = encoder.trainable_variables + decoder.trainable_variables\n",
    "\n",
    "    gradients = tape.gradient(loss, variables)\n",
    "\n",
    "    optimizer.apply_gradients(zip(gradients, variables))\n",
    "\n",
    "    return batch_loss"
   ]
  },
  {
   "cell_type": "code",
   "execution_count": 35,
   "metadata": {},
   "outputs": [],
   "source": [
    "@tf.function\n",
    "def val_step(inp, out, enc_hidden):\n",
    "    loss = 0\n",
    "\n",
    "    with tf.GradientTape() as tape:\n",
    "        enc_output, enc_hidden = encoder(inp, enc_hidden)\n",
    "\n",
    "        dec_hidden = enc_hidden\n",
    "\n",
    "        dec_input = tf.expand_dims([tokenizer.word_index['<start>']] * BATCH_SIZE, 1)\n",
    "\n",
    "        # Teacher forcing - feeding the output as the next input\n",
    "        for t in range(1, out.shape[1]):\n",
    "            # passing enc_output to the decoder\n",
    "            predictions, dec_hidden, _ = decoder(dec_input, dec_hidden, enc_output)\n",
    "\n",
    "            loss += loss_function(out[:, t], predictions)\n",
    "\n",
    "            # using teacher forcing\n",
    "            dec_input = tf.expand_dims(out[:, t], 1)\n",
    "\n",
    "    batch_loss = (loss / int(out.shape[1]))\n",
    "\n",
    "    return batch_loss"
   ]
  },
  {
   "cell_type": "code",
   "execution_count": 36,
   "metadata": {},
   "outputs": [
    {
     "name": "stdout",
     "output_type": "stream",
     "text": [
      "Epoch 1/10\n",
      "loss: 0.4735\tval_loss: 1.0913\texec_time: 409.24 seconds\n",
      "\n",
      "Epoch 2/10\n",
      "loss: 0.2754\tval_loss: 1.0101\texec_time: 370.82 seconds\n",
      "\n",
      "Epoch 3/10\n",
      "loss: 0.2108\tval_loss: 1.0352\texec_time: 371.14 seconds\n",
      "\n",
      "Epoch 4/10\n",
      "loss: 0.1725\tval_loss: 1.0644\texec_time: 370.46 seconds\n",
      "\n",
      "Epoch 5/10\n",
      "loss: 0.1461\tval_loss: 1.0816\texec_time: 370.86 seconds\n",
      "\n",
      "Epoch 6/10\n",
      "loss: 0.1274\tval_loss: 1.1281\texec_time: 371.02 seconds\n",
      "\n",
      "Epoch 7/10\n",
      "loss: 0.1140\tval_loss: 1.1719\texec_time: 371.73 seconds\n",
      "\n",
      "Epoch 8/10\n",
      "loss: 0.1038\tval_loss: 1.2185\texec_time: 371.83 seconds\n",
      "\n",
      "Epoch 9/10\n",
      "loss: 0.0963\tval_loss: 1.2358\texec_time: 372.04 seconds\n",
      "\n",
      "Epoch 10/10\n",
      "loss: 0.0907\tval_loss: 1.2562\texec_time: 370.90 seconds\n",
      "\n"
     ]
    }
   ],
   "source": [
    "n_epochs = 10\n",
    "history = {}\n",
    "\n",
    "for epoch in range(1, n_epochs+1):\n",
    "    start_time = time.time()\n",
    "\n",
    "    enc_hidden = encoder.initialize_hidden_state()\n",
    "    total_loss = 0\n",
    "    total_val_loss = 0\n",
    "    \n",
    "    print(f\"Epoch {epoch}/{n_epochs}\")\n",
    "    \n",
    "    for (batch, (inp, targ)) in enumerate(train_dataset.take(steps_per_epoch)):\n",
    "        batch_loss = train_step(inp, targ, enc_hidden)\n",
    "        total_loss += batch_loss\n",
    "\n",
    "    for (batch, (inp, targ)) in enumerate(test_dataset.take(steps_per_epoch)):\n",
    "        batch_loss = val_step(inp, targ, enc_hidden)\n",
    "        total_val_loss += batch_loss\n",
    "    \n",
    "    print('loss: {loss:.4f}\\tval_loss: {val_loss:.4f}\\texec_time: {exec_time:.2f} seconds\\n'.format(\n",
    "            loss = total_loss / steps_per_epoch, \n",
    "            val_loss = total_val_loss / steps_per_epoch_val,\n",
    "            exec_time = time.time() - start_time))\n",
    "    \n",
    "    history['train'] = history.get('train', []) + [total_loss.numpy() / steps_per_epoch]\n",
    "    history['val'] = history.get('val', []) + [total_val_loss.numpy() / steps_per_epoch_val]\n",
    "            \n",
    "#     saving (checkpoint) the model every 2 epochs\n",
    "    if (epoch + 1) % 2 == 0:\n",
    "        checkpoint.save(file_prefix = checkpoint_prefix)"
   ]
  },
  {
   "cell_type": "code",
   "execution_count": 37,
   "metadata": {},
   "outputs": [
    {
     "data": {
      "image/png": "[encoded data removed]",
      "text/plain": [
       "<Figure size 432x288 with 1 Axes>"
      ]
     },
     "metadata": {
      "needs_background": "light"
     },
     "output_type": "display_data"
    }
   ],
   "source": [
    "plt.plot(history['train'])\n",
    "plt.plot(history['val'])\n",
    "plt.title('model loss')\n",
    "plt.ylabel('val')\n",
    "plt.xlabel('epoch')\n",
    "plt.legend(['train', 'val'], loc='upper left')\n",
    "plt.show()"
   ]
  },
  {
   "cell_type": "code",
   "execution_count": 38,
   "metadata": {},
   "outputs": [
    {
     "data": {
      "text/plain": [
       "<tensorflow.python.training.tracking.util.CheckpointLoadStatus at 0x7f7647881e80>"
      ]
     },
     "execution_count": 38,
     "metadata": {},
     "output_type": "execute_result"
    }
   ],
   "source": [
    "# restoring the latest checkpoint in checkpoint_dir\n",
    "checkpoint.restore(tf.train.latest_checkpoint(checkpoint_dir))"
   ]
  },
  {
   "cell_type": "markdown",
   "metadata": {},
   "source": [
    "### Evaluate"
   ]
  },
  {
   "cell_type": "code",
   "execution_count": 39,
   "metadata": {},
   "outputs": [],
   "source": [
    "import rouge"
   ]
  },
  {
   "cell_type": "code",
   "execution_count": 40,
   "metadata": {},
   "outputs": [],
   "source": [
    "def evaluate(sentence):\n",
    "    attention_plot = np.zeros((max_length_output, max_length_input))\n",
    "\n",
    "    sentence = preprocess_sentence(sentence)\n",
    "    inputs = tokenizer.texts_to_sequences([sentence])\n",
    "    \n",
    "    inputs = tf.keras.preprocessing.sequence.pad_sequences(inputs,\n",
    "                                                         maxlen=max_length_input,\n",
    "                                                         padding='post')\n",
    "    inputs = tf.convert_to_tensor(inputs)\n",
    "\n",
    "    result = ''\n",
    "\n",
    "    hidden = [tf.zeros((1, units))]\n",
    "    enc_out, enc_hidden = encoder(inputs, hidden)\n",
    "\n",
    "    dec_hidden = enc_hidden\n",
    "    dec_input = tf.expand_dims([tokenizer.word_index['<start>']], 0)\n",
    "\n",
    "    for t in range(max_length_output):\n",
    "        predictions, dec_hidden, attention_weights = decoder(dec_input,\n",
    "                                                             dec_hidden,\n",
    "                                                             enc_out)\n",
    "\n",
    "        # storing the attention weights to plot later on\n",
    "        attention_weights = tf.reshape(attention_weights, (-1, ))\n",
    "        attention_plot[t] = attention_weights.numpy()\n",
    "\n",
    "        predicted_id = tf.argmax(predictions[0]).numpy()\n",
    "\n",
    "        result += tokenizer.index_word[predicted_id] + ' '\n",
    "\n",
    "        if tokenizer.index_word[predicted_id] == '<end>':\n",
    "            return result, sentence, attention_plot\n",
    "\n",
    "        # the predicted ID is fed back into the model\n",
    "        dec_input = tf.expand_dims([predicted_id], 0)\n",
    "\n",
    "    return result, sentence, attention_plot"
   ]
  },
  {
   "cell_type": "code",
   "execution_count": 41,
   "metadata": {},
   "outputs": [],
   "source": [
    "dev = dev.loc[dev.score2 >= 3.0]"
   ]
  },
  {
   "cell_type": "code",
   "execution_count": 43,
   "metadata": {},
   "outputs": [],
   "source": [
    "dev['pred'] = dev['sent1'].map(lambda x: evaluate(x)[0].replace('<end>', '').strip())\n",
    "dev['sent1'] = dev['sent1'].map(lambda x: x.replace('<start>', '').replace('<end>', '').strip())"
   ]
  },
  {
   "cell_type": "code",
   "execution_count": 60,
   "metadata": {},
   "outputs": [
    {
     "data": {
      "text/html": [
       "<div>\n",
       "<style scoped>\n",
       "    .dataframe tbody tr th:only-of-type {\n",
       "        vertical-align: middle;\n",
       "    }\n",
       "\n",
       "    .dataframe tbody tr th {\n",
       "        vertical-align: top;\n",
       "    }\n",
       "\n",
       "    .dataframe thead th {\n",
       "        text-align: right;\n",
       "    }\n",
       "</style>\n",
       "<table border=\"1\" class=\"dataframe\">\n",
       "  <thead>\n",
       "    <tr style=\"text-align: right;\">\n",
       "      <th></th>\n",
       "      <th>sent1</th>\n",
       "      <th>pred</th>\n",
       "    </tr>\n",
       "  </thead>\n",
       "  <tbody>\n",
       "    <tr>\n",
       "      <th>1212</th>\n",
       "      <td>yeah , you 'd better .</td>\n",
       "      <td>you ought to be right .</td>\n",
       "    </tr>\n",
       "    <tr>\n",
       "      <th>224</th>\n",
       "      <td>i 'll be back in a few minutes .</td>\n",
       "      <td>i 'll be right back .</td>\n",
       "    </tr>\n",
       "    <tr>\n",
       "      <th>580</th>\n",
       "      <td>i 'm gonna go and get the car .</td>\n",
       "      <td>i 'm taking the car .</td>\n",
       "    </tr>\n",
       "    <tr>\n",
       "      <th>917</th>\n",
       "      <td>here comes the cavalry .</td>\n",
       "      <td>the same location .</td>\n",
       "    </tr>\n",
       "    <tr>\n",
       "      <th>1101</th>\n",
       "      <td>i wish i could believe it .</td>\n",
       "      <td>i wish i 'd like that .</td>\n",
       "    </tr>\n",
       "    <tr>\n",
       "      <th>20</th>\n",
       "      <td>ain 't no next time .</td>\n",
       "      <td>it 's not gonna be a next time .</td>\n",
       "    </tr>\n",
       "    <tr>\n",
       "      <th>236</th>\n",
       "      <td>take good care , sweetheart .</td>\n",
       "      <td>take care of yourself .</td>\n",
       "    </tr>\n",
       "    <tr>\n",
       "      <th>698</th>\n",
       "      <td>i had that one coming .</td>\n",
       "      <td>i was just coming .</td>\n",
       "    </tr>\n",
       "    <tr>\n",
       "      <th>686</th>\n",
       "      <td>a very rough patch .</td>\n",
       "      <td>it 's a hard woman .</td>\n",
       "    </tr>\n",
       "    <tr>\n",
       "      <th>745</th>\n",
       "      <td>so that 's something to look forward to .</td>\n",
       "      <td>that 's more to look .</td>\n",
       "    </tr>\n",
       "    <tr>\n",
       "      <th>1184</th>\n",
       "      <td>will he be all right ?</td>\n",
       "      <td>will he make it ?</td>\n",
       "    </tr>\n",
       "    <tr>\n",
       "      <th>1004</th>\n",
       "      <td>language , dear .</td>\n",
       "      <td>silence , honey .</td>\n",
       "    </tr>\n",
       "    <tr>\n",
       "      <th>565</th>\n",
       "      <td>i knew i shouldn 't have .</td>\n",
       "      <td>i knew i had to be a choice .</td>\n",
       "    </tr>\n",
       "    <tr>\n",
       "      <th>1343</th>\n",
       "      <td>and it isn 't at all necessary .</td>\n",
       "      <td>it 's not good .</td>\n",
       "    </tr>\n",
       "    <tr>\n",
       "      <th>230</th>\n",
       "      <td>what 'd you say ?</td>\n",
       "      <td>what did you just say ?</td>\n",
       "    </tr>\n",
       "    <tr>\n",
       "      <th>139</th>\n",
       "      <td>it 's gonna be okay .</td>\n",
       "      <td>you 're going to be all right .</td>\n",
       "    </tr>\n",
       "    <tr>\n",
       "      <th>520</th>\n",
       "      <td>hope everything 's all right .</td>\n",
       "      <td>i hope you 're good .</td>\n",
       "    </tr>\n",
       "    <tr>\n",
       "      <th>256</th>\n",
       "      <td>he 's out for payback .</td>\n",
       "      <td>he 's not left-handed attack .</td>\n",
       "    </tr>\n",
       "    <tr>\n",
       "      <th>1200</th>\n",
       "      <td>now , what am i gonna go and do that for ?</td>\n",
       "      <td>what do i do now ?</td>\n",
       "    </tr>\n",
       "    <tr>\n",
       "      <th>349</th>\n",
       "      <td>he got three children .</td>\n",
       "      <td>there 's three minutes ?</td>\n",
       "    </tr>\n",
       "    <tr>\n",
       "      <th>453</th>\n",
       "      <td>what makes you say that ?</td>\n",
       "      <td>why would you think that ?</td>\n",
       "    </tr>\n",
       "    <tr>\n",
       "      <th>68</th>\n",
       "      <td>have you spoken to him ?</td>\n",
       "      <td>you spoke with him ?</td>\n",
       "    </tr>\n",
       "    <tr>\n",
       "      <th>582</th>\n",
       "      <td>i 'll just get a new start .</td>\n",
       "      <td>i 'm gonna take the beginning .</td>\n",
       "    </tr>\n",
       "    <tr>\n",
       "      <th>786</th>\n",
       "      <td>how long does he have ?</td>\n",
       "      <td>how long has he got ?</td>\n",
       "    </tr>\n",
       "    <tr>\n",
       "      <th>105</th>\n",
       "      <td>don 't give me that look .</td>\n",
       "      <td>don 't look at me like that .</td>\n",
       "    </tr>\n",
       "    <tr>\n",
       "      <th>1393</th>\n",
       "      <td>it 's one way of putting it .</td>\n",
       "      <td>that 's one way to put it .</td>\n",
       "    </tr>\n",
       "    <tr>\n",
       "      <th>1350</th>\n",
       "      <td>eyes open , everybody .</td>\n",
       "      <td>open your eyes .</td>\n",
       "    </tr>\n",
       "    <tr>\n",
       "      <th>1252</th>\n",
       "      <td>hey ... there is nothing you can 't tell me .</td>\n",
       "      <td>you can 't say .</td>\n",
       "    </tr>\n",
       "    <tr>\n",
       "      <th>123</th>\n",
       "      <td>i had no other choice .</td>\n",
       "      <td>what other choice did i have ?</td>\n",
       "    </tr>\n",
       "    <tr>\n",
       "      <th>1308</th>\n",
       "      <td>keep going .</td>\n",
       "      <td>walk forward .</td>\n",
       "    </tr>\n",
       "    <tr>\n",
       "      <th>784</th>\n",
       "      <td>that 's not even the right way .</td>\n",
       "      <td>that isn 't right .</td>\n",
       "    </tr>\n",
       "    <tr>\n",
       "      <th>1410</th>\n",
       "      <td>so it 's your fault .</td>\n",
       "      <td>that was your fault .</td>\n",
       "    </tr>\n",
       "    <tr>\n",
       "      <th>967</th>\n",
       "      <td>i think i 'm just going to go .</td>\n",
       "      <td>i think i 'm gonna go .</td>\n",
       "    </tr>\n",
       "    <tr>\n",
       "      <th>1240</th>\n",
       "      <td>explain it to me .</td>\n",
       "      <td>please explain .</td>\n",
       "    </tr>\n",
       "    <tr>\n",
       "      <th>303</th>\n",
       "      <td>nobody 's ever seen him since .</td>\n",
       "      <td>nobody 's seen him .</td>\n",
       "    </tr>\n",
       "    <tr>\n",
       "      <th>249</th>\n",
       "      <td>what made you come back ?</td>\n",
       "      <td>why did you bother to come back ?</td>\n",
       "    </tr>\n",
       "    <tr>\n",
       "      <th>1216</th>\n",
       "      <td>i feel bad for kimberly .</td>\n",
       "      <td>i feel like i feel right now .</td>\n",
       "    </tr>\n",
       "    <tr>\n",
       "      <th>650</th>\n",
       "      <td>let \" s not get off track here .</td>\n",
       "      <td>we 're not going to get here .</td>\n",
       "    </tr>\n",
       "    <tr>\n",
       "      <th>300</th>\n",
       "      <td>are we finished ?</td>\n",
       "      <td>we through ?</td>\n",
       "    </tr>\n",
       "    <tr>\n",
       "      <th>142</th>\n",
       "      <td>i 'ii come too .</td>\n",
       "      <td>i 'm coming with you .</td>\n",
       "    </tr>\n",
       "    <tr>\n",
       "      <th>660</th>\n",
       "      <td>hey , man , you okay ?</td>\n",
       "      <td>you all right ?</td>\n",
       "    </tr>\n",
       "    <tr>\n",
       "      <th>856</th>\n",
       "      <td>have a good night , you two .</td>\n",
       "      <td>you have a good evening .</td>\n",
       "    </tr>\n",
       "    <tr>\n",
       "      <th>1401</th>\n",
       "      <td>we 've done this before .</td>\n",
       "      <td>we 've had it before .</td>\n",
       "    </tr>\n",
       "    <tr>\n",
       "      <th>791</th>\n",
       "      <td>how 's it going , boys ?</td>\n",
       "      <td>how are you , boys ?</td>\n",
       "    </tr>\n",
       "    <tr>\n",
       "      <th>1344</th>\n",
       "      <td>i 'm not gonna tell you .</td>\n",
       "      <td>i 'm not telling you .</td>\n",
       "    </tr>\n",
       "    <tr>\n",
       "      <th>116</th>\n",
       "      <td>i 'm not familiar with you .</td>\n",
       "      <td>i don 't know you .</td>\n",
       "    </tr>\n",
       "    <tr>\n",
       "      <th>1068</th>\n",
       "      <td>i have no choice but to .</td>\n",
       "      <td>there 's no alternative .</td>\n",
       "    </tr>\n",
       "    <tr>\n",
       "      <th>447</th>\n",
       "      <td>grant him peace .</td>\n",
       "      <td>uncuff him .</td>\n",
       "    </tr>\n",
       "    <tr>\n",
       "      <th>1262</th>\n",
       "      <td>dude , that could work .</td>\n",
       "      <td>that 's the work .</td>\n",
       "    </tr>\n",
       "    <tr>\n",
       "      <th>862</th>\n",
       "      <td>telephone call at the desk .</td>\n",
       "      <td>call the police department .</td>\n",
       "    </tr>\n",
       "  </tbody>\n",
       "</table>\n",
       "</div>"
      ],
      "text/plain": [
       "                                              sent1  \\\n",
       "1212                         yeah , you 'd better .   \n",
       "224                i 'll be back in a few minutes .   \n",
       "580                 i 'm gonna go and get the car .   \n",
       "917                        here comes the cavalry .   \n",
       "1101                    i wish i could believe it .   \n",
       "20                            ain 't no next time .   \n",
       "236                   take good care , sweetheart .   \n",
       "698                         i had that one coming .   \n",
       "686                            a very rough patch .   \n",
       "745       so that 's something to look forward to .   \n",
       "1184                         will he be all right ?   \n",
       "1004                              language , dear .   \n",
       "565                      i knew i shouldn 't have .   \n",
       "1343               and it isn 't at all necessary .   \n",
       "230                               what 'd you say ?   \n",
       "139                           it 's gonna be okay .   \n",
       "520                  hope everything 's all right .   \n",
       "256                         he 's out for payback .   \n",
       "1200     now , what am i gonna go and do that for ?   \n",
       "349                         he got three children .   \n",
       "453                       what makes you say that ?   \n",
       "68                         have you spoken to him ?   \n",
       "582                    i 'll just get a new start .   \n",
       "786                         how long does he have ?   \n",
       "105                      don 't give me that look .   \n",
       "1393                  it 's one way of putting it .   \n",
       "1350                        eyes open , everybody .   \n",
       "1252  hey ... there is nothing you can 't tell me .   \n",
       "123                         i had no other choice .   \n",
       "1308                                   keep going .   \n",
       "784                that 's not even the right way .   \n",
       "1410                          so it 's your fault .   \n",
       "967                 i think i 'm just going to go .   \n",
       "1240                             explain it to me .   \n",
       "303                 nobody 's ever seen him since .   \n",
       "249                       what made you come back ?   \n",
       "1216                      i feel bad for kimberly .   \n",
       "650                let \" s not get off track here .   \n",
       "300                               are we finished ?   \n",
       "142                                i 'ii come too .   \n",
       "660                          hey , man , you okay ?   \n",
       "856                   have a good night , you two .   \n",
       "1401                      we 've done this before .   \n",
       "791                        how 's it going , boys ?   \n",
       "1344                      i 'm not gonna tell you .   \n",
       "116                    i 'm not familiar with you .   \n",
       "1068                      i have no choice but to .   \n",
       "447                               grant him peace .   \n",
       "1262                       dude , that could work .   \n",
       "862                    telephone call at the desk .   \n",
       "\n",
       "                                   pred  \n",
       "1212            you ought to be right .  \n",
       "224               i 'll be right back .  \n",
       "580               i 'm taking the car .  \n",
       "917                 the same location .  \n",
       "1101            i wish i 'd like that .  \n",
       "20     it 's not gonna be a next time .  \n",
       "236             take care of yourself .  \n",
       "698                 i was just coming .  \n",
       "686                it 's a hard woman .  \n",
       "745              that 's more to look .  \n",
       "1184                  will he make it ?  \n",
       "1004                  silence , honey .  \n",
       "565       i knew i had to be a choice .  \n",
       "1343                   it 's not good .  \n",
       "230             what did you just say ?  \n",
       "139     you 're going to be all right .  \n",
       "520               i hope you 're good .  \n",
       "256      he 's not left-handed attack .  \n",
       "1200                 what do i do now ?  \n",
       "349            there 's three minutes ?  \n",
       "453          why would you think that ?  \n",
       "68                 you spoke with him ?  \n",
       "582     i 'm gonna take the beginning .  \n",
       "786               how long has he got ?  \n",
       "105       don 't look at me like that .  \n",
       "1393        that 's one way to put it .  \n",
       "1350                   open your eyes .  \n",
       "1252                   you can 't say .  \n",
       "123      what other choice did i have ?  \n",
       "1308                     walk forward .  \n",
       "784                 that isn 't right .  \n",
       "1410              that was your fault .  \n",
       "967             i think i 'm gonna go .  \n",
       "1240                   please explain .  \n",
       "303                nobody 's seen him .  \n",
       "249   why did you bother to come back ?  \n",
       "1216     i feel like i feel right now .  \n",
       "650      we 're not going to get here .  \n",
       "300                        we through ?  \n",
       "142              i 'm coming with you .  \n",
       "660                     you all right ?  \n",
       "856           you have a good evening .  \n",
       "1401             we 've had it before .  \n",
       "791                how are you , boys ?  \n",
       "1344             i 'm not telling you .  \n",
       "116                 i don 't know you .  \n",
       "1068          there 's no alternative .  \n",
       "447                        uncuff him .  \n",
       "1262                 that 's the work .  \n",
       "862        call the police department .  "
      ]
     },
     "execution_count": 60,
     "metadata": {},
     "output_type": "execute_result"
    }
   ],
   "source": [
    "dev[['sent1', 'pred']].sample(50)#.to_excel('doc.xlsx')"
   ]
  },
  {
   "cell_type": "code",
   "execution_count": 45,
   "metadata": {},
   "outputs": [],
   "source": [
    "def prepare_results(p, r, f):\n",
    "    return '\\t{}:\\t{}: {:5.2f}\\t{}: {:5.2f}\\t{}: {:5.2f}'.format(metric, 'P', 100.0 * p, 'R', 100.0 * r, 'F1', 100.0 * f)"
   ]
  },
  {
   "cell_type": "code",
   "execution_count": 46,
   "metadata": {},
   "outputs": [
    {
     "name": "stdout",
     "output_type": "stream",
     "text": [
      "Evaluation with Avg\n",
      "\trouge-1:\tP: 56.60\tR: 57.06\tF1: 56.19\n",
      "\trouge-2:\tP: 16.32\tR: 16.57\tF1: 16.25\n",
      "\trouge-3:\tP:  4.43\tR:  4.44\tF1:  4.38\n",
      "\trouge-4:\tP:  1.27\tR:  1.23\tF1:  1.24\n",
      "\trouge-l:\tP: 60.70\tR: 61.12\tF1: 60.42\n",
      "\trouge-w:\tP: 48.36\tR: 33.15\tF1: 38.81\n",
      "\n",
      "Evaluation with Best\n",
      "\trouge-1:\tP: 56.60\tR: 57.06\tF1: 56.19\n",
      "\trouge-2:\tP: 16.32\tR: 16.57\tF1: 16.25\n",
      "\trouge-3:\tP:  4.43\tR:  4.44\tF1:  4.38\n",
      "\trouge-4:\tP:  1.27\tR:  1.23\tF1:  1.24\n",
      "\trouge-l:\tP: 60.70\tR: 61.12\tF1: 60.42\n",
      "\trouge-w:\tP: 48.36\tR: 33.15\tF1: 38.81\n",
      "\n"
     ]
    }
   ],
   "source": [
    "for aggregator in ['Avg', 'Best']: # , 'Individual'\n",
    "    print('Evaluation with {}'.format(aggregator))\n",
    "    apply_avg = aggregator == 'Avg'\n",
    "    apply_best = aggregator == 'Best'\n",
    "\n",
    "    evaluator = rouge.Rouge(metrics=['rouge-n', 'rouge-l', 'rouge-w'],\n",
    "                           max_n=4,\n",
    "                           limit_length=True,\n",
    "                           length_limit=100,\n",
    "                           length_limit_type='words',\n",
    "                           apply_avg=apply_avg,\n",
    "                           apply_best=apply_best,\n",
    "                           alpha=0.5, # Default F1_score\n",
    "                           weight_factor=1.2,\n",
    "                           stemming=True)\n",
    "\n",
    "    all_hypothesis = dev.sent1.values\n",
    "    all_references = dev.sent2.values\n",
    "\n",
    "    scores = evaluator.get_scores(all_hypothesis, all_references)\n",
    "\n",
    "    for metric, results in sorted(scores.items(), key=lambda x: x[0]):\n",
    "        print(prepare_results(results['p'], results['r'], results['f']))\n",
    "    print()"
   ]
  },
  {
   "cell_type": "markdown",
   "metadata": {},
   "source": [
    "### Show the results"
   ]
  },
  {
   "cell_type": "code",
   "execution_count": 47,
   "metadata": {},
   "outputs": [],
   "source": [
    "# function for plotting the attention weights\n",
    "def plot_attention(attention, sentence, predicted_sentence):\n",
    "    fig = plt.figure(figsize=(10,10))\n",
    "    ax = fig.add_subplot(1, 1, 1)\n",
    "    ax.matshow(attention, cmap='viridis')\n",
    "\n",
    "    fontdict = {'fontsize': 14}\n",
    "\n",
    "    ax.set_xticklabels([''] + sentence, fontdict=fontdict, rotation=90)\n",
    "    ax.set_yticklabels([''] + predicted_sentence, fontdict=fontdict)\n",
    "\n",
    "    ax.xaxis.set_major_locator(ticker.MultipleLocator(1))\n",
    "    ax.yaxis.set_major_locator(ticker.MultipleLocator(1))\n",
    "\n",
    "    plt.show()"
   ]
  },
  {
   "cell_type": "code",
   "execution_count": 48,
   "metadata": {},
   "outputs": [],
   "source": [
    "def paraphrase(sentence):\n",
    "    result, sentence, attention_plot = evaluate(sentence)\n",
    "\n",
    "    print('Input: %s' % (sentence))\n",
    "    print('Predicted paraphrase: {}'.format(result))\n",
    "\n",
    "    attention_plot = attention_plot[:len(result.split(' ')), :len(sentence.split(' '))]\n",
    "    plot_attention(attention_plot, sentence.split(' '), result.split(' '))"
   ]
  },
  {
   "cell_type": "code",
   "execution_count": 49,
   "metadata": {},
   "outputs": [
    {
     "name": "stdout",
     "output_type": "stream",
     "text": [
      "Input: <start> how are you doing ? <end>\n",
      "Predicted paraphrase: how you doing ? <end> \n"
     ]
    },
    {
     "data": {
      "image/png": "[encoded data removed]",
      "text/plain": [
       "<Figure size 720x720 with 1 Axes>"
      ]
     },
     "metadata": {
      "needs_background": "light"
     },
     "output_type": "display_data"
    }
   ],
   "source": [
    "paraphrase('how are you doing ?')"
   ]
  },
  {
   "cell_type": "code",
   "execution_count": 51,
   "metadata": {},
   "outputs": [
    {
     "name": "stdout",
     "output_type": "stream",
     "text": [
      "Input: <start> are you ok ? <end>\n",
      "Predicted paraphrase: you alright ? <end> \n"
     ]
    },
    {
     "data": {
      "image/png": "[encoded data removed]",
      "text/plain": [
       "<Figure size 720x720 with 1 Axes>"
      ]
     },
     "metadata": {
      "needs_background": "light"
     },
     "output_type": "display_data"
    }
   ],
   "source": [
    "paraphrase('are you ok ?')"
   ]
  },
  {
   "cell_type": "code",
   "execution_count": 52,
   "metadata": {},
   "outputs": [
    {
     "name": "stdout",
     "output_type": "stream",
     "text": [
      "Input: <start> how can i help you ? <end>\n",
      "Predicted paraphrase: what can i do for you ? <end> \n"
     ]
    },
    {
     "data": {
      "image/png": "[encoded data removed]",
      "text/plain": [
       "<Figure size 720x720 with 1 Axes>"
      ]
     },
     "metadata": {
      "needs_background": "light"
     },
     "output_type": "display_data"
    }
   ],
   "source": [
    "paraphrase('how can i help you ?')"
   ]
  },
  {
   "cell_type": "code",
   "execution_count": null,
   "metadata": {},
   "outputs": [],
   "source": []
  }
 ],
 "metadata": {
  "kernelspec": {
   "display_name": "p36tf20",
   "language": "python",
   "name": "p36tf20"
  },
  "language_info": {
   "codemirror_mode": {
    "name": "ipython",
    "version": 3
   },
   "file_extension": ".py",
   "mimetype": "text/x-python",
   "name": "python",
   "nbconvert_exporter": "python",
   "pygments_lexer": "ipython3",
   "version": "3.6.10"
  }
 },
 "nbformat": 4,
 "nbformat_minor": 2
}
