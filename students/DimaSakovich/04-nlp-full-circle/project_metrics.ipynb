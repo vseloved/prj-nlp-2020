{
 "cells": [
  {
   "cell_type": "markdown",
   "metadata": {},
   "source": [
    "There are 2(3) parts of my course project:\n",
    "\n",
    "* grapheme-to-phoneme\n",
    "* speech-to-text\n",
    "* (questin answering as a bonus)"
   ]
  },
  {
   "cell_type": "markdown",
   "metadata": {},
   "source": [
    "#### speech2text metric"
   ]
  },
  {
   "cell_type": "markdown",
   "metadata": {},
   "source": [
    "The most popular metric for evaluating s2t models is WER"
   ]
  },
  {
   "cell_type": "markdown",
   "metadata": {},
   "source": [
    "https://en.wikipedia.org/wiki/Word_error_rate"
   ]
  },
  {
   "cell_type": "code",
   "execution_count": 23,
   "metadata": {},
   "outputs": [],
   "source": [
    "import numpy as np\n",
    "import pandas as pd\n",
    "\n",
    "from jiwer import wer"
   ]
  },
  {
   "cell_type": "code",
   "execution_count": 30,
   "metadata": {},
   "outputs": [],
   "source": [
    "def word_error_rate(r, h, split=True):\n",
    "    \"\"\"\n",
    "    Given two list of strings how many word error rate(insert, delete or substitution).\n",
    "\n",
    "    Parameters\n",
    "    ----------\n",
    "    r : str\n",
    "        reference sentence\n",
    "    H : str\n",
    "        hypothesis sentence\n",
    "    split : bool, default True\n",
    "        split sentence by words. In case of character error rate CER should be set as False\n",
    "\n",
    "    Returns\n",
    "    -------\n",
    "    result : float\n",
    "    \"\"\"\n",
    "    \n",
    "    if split:\n",
    "        r = r.split()\n",
    "        h = h.split()\n",
    "        \n",
    "    d = np.zeros((len(r) + 1) * (len(h) + 1), dtype=np.uint16)\n",
    "    d = d.reshape((len(r) + 1, len(h) + 1))\n",
    "    for i in range(len(r) + 1):\n",
    "        for j in range(len(h) + 1):\n",
    "            if i == 0:\n",
    "                d[0][j] = j\n",
    "            elif j == 0:\n",
    "                d[i][0] = i\n",
    "\n",
    "    for i in range(1, len(r) + 1):\n",
    "        for j in range(1, len(h) + 1):\n",
    "            if r[i - 1] == h[j - 1]:\n",
    "                d[i][j] = d[i - 1][j - 1]\n",
    "            else:\n",
    "                substitution = d[i - 1][j - 1] + 1\n",
    "                insertion = d[i][j - 1] + 1\n",
    "                deletion = d[i - 1][j] + 1\n",
    "                d[i][j] = min(substitution, insertion, deletion)\n",
    "    result = float(d[len(r)][len(h)]) / len(r)\n",
    "\n",
    "    return result"
   ]
  },
  {
   "cell_type": "code",
   "execution_count": 31,
   "metadata": {},
   "outputs": [
    {
     "data": {
      "text/plain": [
       "0.25"
      ]
     },
     "execution_count": 31,
     "metadata": {},
     "output_type": "execute_result"
    }
   ],
   "source": [
    "sentence1 = 'Дівчина насупилась набурмосилась і від того ще покращала.'\n",
    "sentence2 = 'Дівчина накрутилась напросилась і від того ще покращала.'\n",
    "\n",
    "word_error_rate(sentence1, sentence2)"
   ]
  },
  {
   "cell_type": "code",
   "execution_count": 32,
   "metadata": {},
   "outputs": [
    {
     "data": {
      "text/plain": [
       "0.25"
      ]
     },
     "execution_count": 32,
     "metadata": {},
     "output_type": "execute_result"
    }
   ],
   "source": [
    "wer(sentence1, sentence2)"
   ]
  },
  {
   "cell_type": "markdown",
   "metadata": {},
   "source": [
    "#### real-life example"
   ]
  },
  {
   "cell_type": "code",
   "execution_count": 33,
   "metadata": {},
   "outputs": [],
   "source": [
    "df = pd.read_excel('stt_report.xlsx')#.drop('wer_gc', 1)"
   ]
  },
  {
   "cell_type": "code",
   "execution_count": 34,
   "metadata": {},
   "outputs": [
    {
     "name": "stdout",
     "output_type": "stream",
     "text": [
      "CPU times: user 648 ms, sys: 0 ns, total: 648 ms\n",
      "Wall time: 647 ms\n"
     ]
    }
   ],
   "source": [
    "%%time\n",
    "\n",
    "df['wer'] = df.apply(lambda x: word_error_rate(x.transcript, x.pred_gc), axis=1)\n",
    "df['wer'] = np.where(df['wer'] > 1, 1, df['wer'])"
   ]
  },
  {
   "cell_type": "code",
   "execution_count": 35,
   "metadata": {},
   "outputs": [
    {
     "data": {
      "text/html": [
       "<div>\n",
       "<style scoped>\n",
       "    .dataframe tbody tr th:only-of-type {\n",
       "        vertical-align: middle;\n",
       "    }\n",
       "\n",
       "    .dataframe tbody tr th {\n",
       "        vertical-align: top;\n",
       "    }\n",
       "\n",
       "    .dataframe thead th {\n",
       "        text-align: right;\n",
       "    }\n",
       "</style>\n",
       "<table border=\"1\" class=\"dataframe\">\n",
       "  <thead>\n",
       "    <tr style=\"text-align: right;\">\n",
       "      <th></th>\n",
       "      <th>file_name</th>\n",
       "      <th>transcript</th>\n",
       "      <th>pred_gc</th>\n",
       "      <th>wer</th>\n",
       "    </tr>\n",
       "  </thead>\n",
       "  <tbody>\n",
       "    <tr>\n",
       "      <th>0</th>\n",
       "      <td>PILOT_20200206-201536_VDAD_0797068313_1239978-...</td>\n",
       "      <td>alo, cho hỏi bùi thái an đang nghe máy đúng kh...</td>\n",
       "      <td>alo phải không chị thấy em luôn hả chị</td>\n",
       "      <td>0.884615</td>\n",
       "    </tr>\n",
       "    <tr>\n",
       "      <th>1</th>\n",
       "      <td>PILOT_20200206-201537_VDAD_0915234827_1239965-...</td>\n",
       "      <td>cảm ơn đã chờ máy, chị gấm nghe máy hả chị? Al...</td>\n",
       "      <td>cảm ơn đã kiểu bánh chị dám nghe máy hả chị alo</td>\n",
       "      <td>0.927273</td>\n",
       "    </tr>\n",
       "    <tr>\n",
       "      <th>2</th>\n",
       "      <td>PILOT_20200206-201551_VDAD_0777060852_1239985-...</td>\n",
       "      <td>cảm ơn đã chờ máy</td>\n",
       "      <td>cảm ơn đã kiểu bánh</td>\n",
       "      <td>0.400000</td>\n",
       "    </tr>\n",
       "    <tr>\n",
       "      <th>3</th>\n",
       "      <td>PILOT_20200206-201800_VDAD_0345591318_1240055-...</td>\n",
       "      <td>alo, cho em hỏi anh thế nghe máy hả anh? Dạ em...</td>\n",
       "      <td>alo cho em hỏi anh thế mà máy em chào anh thì ...</td>\n",
       "      <td>0.973333</td>\n",
       "    </tr>\n",
       "    <tr>\n",
       "      <th>4</th>\n",
       "      <td>PILOT_20200206-202015_VDAD_0936646364_1240105-...</td>\n",
       "      <td>alo, cho hỏi số thuê bao này của vũ thị hằng đ...</td>\n",
       "      <td>zalo cho thuê bao này của vũ thị hằng</td>\n",
       "      <td>0.428571</td>\n",
       "    </tr>\n",
       "  </tbody>\n",
       "</table>\n",
       "</div>"
      ],
      "text/plain": [
       "                                           file_name  \\\n",
       "0  PILOT_20200206-201536_VDAD_0797068313_1239978-...   \n",
       "1  PILOT_20200206-201537_VDAD_0915234827_1239965-...   \n",
       "2  PILOT_20200206-201551_VDAD_0777060852_1239985-...   \n",
       "3  PILOT_20200206-201800_VDAD_0345591318_1240055-...   \n",
       "4  PILOT_20200206-202015_VDAD_0936646364_1240105-...   \n",
       "\n",
       "                                          transcript  \\\n",
       "0  alo, cho hỏi bùi thái an đang nghe máy đúng kh...   \n",
       "1  cảm ơn đã chờ máy, chị gấm nghe máy hả chị? Al...   \n",
       "2                                  cảm ơn đã chờ máy   \n",
       "3  alo, cho em hỏi anh thế nghe máy hả anh? Dạ em...   \n",
       "4  alo, cho hỏi số thuê bao này của vũ thị hằng đ...   \n",
       "\n",
       "                                             pred_gc       wer  \n",
       "0             alo phải không chị thấy em luôn hả chị  0.884615  \n",
       "1    cảm ơn đã kiểu bánh chị dám nghe máy hả chị alo  0.927273  \n",
       "2                                cảm ơn đã kiểu bánh  0.400000  \n",
       "3  alo cho em hỏi anh thế mà máy em chào anh thì ...  0.973333  \n",
       "4              zalo cho thuê bao này của vũ thị hằng  0.428571  "
      ]
     },
     "execution_count": 35,
     "metadata": {},
     "output_type": "execute_result"
    }
   ],
   "source": [
    "df.head()"
   ]
  },
  {
   "cell_type": "code",
   "execution_count": 36,
   "metadata": {},
   "outputs": [
    {
     "data": {
      "text/plain": [
       "0.641254431881672"
      ]
     },
     "execution_count": 36,
     "metadata": {},
     "output_type": "execute_result"
    }
   ],
   "source": [
    "np.mean(df['wer'])"
   ]
  },
  {
   "cell_type": "markdown",
   "metadata": {},
   "source": [
    "#### grapheme2phoneme metric"
   ]
  },
  {
   "cell_type": "markdown",
   "metadata": {},
   "source": [
    "Evaluation approach is similar to s2t, but instead of words we compare phonemes. Equation for such calculation is similar to WER, so we can use the same function for grapheme error rate evaluation"
   ]
  },
  {
   "cell_type": "code",
   "execution_count": 39,
   "metadata": {},
   "outputs": [
    {
     "name": "stdout",
     "output_type": "stream",
     "text": [
      "0.42857142857142855\n"
     ]
    },
    {
     "data": {
      "text/plain": [
       "0.2"
      ]
     },
     "execution_count": 39,
     "metadata": {},
     "output_type": "execute_result"
    }
   ],
   "source": [
    "word1 = \"Д' і в ч и н а\"\n",
    "word2 = 'Д и в ч і н а'\n",
    "word3 = \"Н а к р у т и л а с'\"\n",
    "word4 = \"Н а т р у т и л а с' я\"\n",
    "\n",
    "print(word_error_rate(word1, word2))\n",
    "word_error_rate(word3, word4)"
   ]
  },
  {
   "cell_type": "code",
   "execution_count": null,
   "metadata": {},
   "outputs": [],
   "source": []
  },
  {
   "cell_type": "code",
   "execution_count": null,
   "metadata": {},
   "outputs": [],
   "source": []
  },
  {
   "cell_type": "code",
   "execution_count": null,
   "metadata": {},
   "outputs": [],
   "source": []
  },
  {
   "cell_type": "code",
   "execution_count": null,
   "metadata": {},
   "outputs": [],
   "source": []
  },
  {
   "cell_type": "code",
   "execution_count": null,
   "metadata": {},
   "outputs": [],
   "source": []
  },
  {
   "cell_type": "code",
   "execution_count": null,
   "metadata": {},
   "outputs": [],
   "source": []
  },
  {
   "cell_type": "code",
   "execution_count": null,
   "metadata": {},
   "outputs": [],
   "source": []
  },
  {
   "cell_type": "code",
   "execution_count": null,
   "metadata": {},
   "outputs": [],
   "source": []
  },
  {
   "cell_type": "code",
   "execution_count": null,
   "metadata": {},
   "outputs": [],
   "source": []
  },
  {
   "cell_type": "code",
   "execution_count": null,
   "metadata": {},
   "outputs": [],
   "source": []
  },
  {
   "cell_type": "code",
   "execution_count": null,
   "metadata": {},
   "outputs": [],
   "source": []
  },
  {
   "cell_type": "code",
   "execution_count": null,
   "metadata": {},
   "outputs": [],
   "source": []
  }
 ],
 "metadata": {
  "kernelspec": {
   "display_name": "Python [conda env:p36] *",
   "language": "python",
   "name": "conda-env-p36-py"
  },
  "language_info": {
   "codemirror_mode": {
    "name": "ipython",
    "version": 3
   },
   "file_extension": ".py",
   "mimetype": "text/x-python",
   "name": "python",
   "nbconvert_exporter": "python",
   "pygments_lexer": "ipython3",
   "version": "3.6.10"
  }
 },
 "nbformat": 4,
 "nbformat_minor": 2
}
