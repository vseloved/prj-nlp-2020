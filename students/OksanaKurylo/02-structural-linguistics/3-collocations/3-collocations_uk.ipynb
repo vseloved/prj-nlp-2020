{
 "cells": [
  {
   "cell_type": "code",
   "execution_count": null,
   "metadata": {},
   "outputs": [],
   "source": [
    "import os\n",
    "import stanza\n",
    "from spacy_stanza import StanzaLanguage\n",
    "import time\n",
    "from datetime import datetime, timedelta\n",
    "from collections import defaultdict"
   ]
  },
  {
   "cell_type": "code",
   "execution_count": null,
   "metadata": {},
   "outputs": [],
   "source": [
    "stanza_nlp = stanza.Pipeline(lang='uk')\n",
    "nlp = StanzaLanguage(stanza_nlp)"
   ]
  },
  {
   "cell_type": "code",
   "execution_count": null,
   "metadata": {},
   "outputs": [],
   "source": [
    "def is_animate(word):\n",
    "    if word.pos in [\"NOUN\", \"PROPN\"] and \"=Anim\" in word.feats:\n",
    "        return True\n",
    "    return False\n",
    "\n",
    "def find_noun_children(text, animate_word, collocs):\n",
    "    doc = nlp(text)\n",
    "    for sent in doc.sents:\n",
    "        for token in sent:\n",
    "            if token.text == animate_word:\n",
    "                for child in token.children:\n",
    "                    if child.pos_ == 'ADJ' and child.dep_ == 'amod':\n",
    "                        key = ' '.join([child.lemma_, token.lemma_])\n",
    "                        collocs[key] += 1\n",
    "                        for grandch in child.children:\n",
    "                            # \"То її держить йому тутешній волохатий бог, лютий, скупий і ненажерливий;\" -> знаходить \"скупий\", \"ненажерливий\"\n",
    "                            if grandch.pos_ == \"ADJ\" and grandch.dep_ == 'conj':\n",
    "                            key = ' '.join([grandch.lemma_, token.lemma_]) # \"скупий бог\", \"ненажерливий бог\"\n",
    "                            collocs[key] += 1\n",
    "    return collocs"
   ]
  },
  {
   "cell_type": "code",
   "execution_count": null,
   "metadata": {},
   "outputs": [],
   "source": [
    "t1 = time.time()\n",
    "script_path = os.path.abspath('__file__') \n",
    "path_list = script_path.split(os.sep)\n",
    "script_directory = path_list[0:len(path_list)-1]\n",
    "rel_path = \"tasks/02-structural-linguistics/data/\"\n",
    "PATH = \"/\".join(script_directory[:4]) + \"/\" + rel_path\n",
    "\n",
    "def get_collocations():\n",
    "    with open(PATH + \"tyhrolovy.txt\", \"r\") as f:\n",
    "        data = f.readlines()\n",
    "    \n",
    "    lines = 0\n",
    "    anim_count = 0\n",
    "    uk_collocs = defaultdict(int)\n",
    "    out_file = open(\"uk_collocations.txt\", \"w+\")\n",
    "    \n",
    "    for line in data:\n",
    "        lines += 1\n",
    "        if line is None or len(line) <= 1:\n",
    "            continue \n",
    "        \n",
    "        stanza_doc = stanza_nlp(line)\n",
    "        for sent in stanza_doc.sentences:\n",
    "            for word in sent.words:\n",
    "                if is_animate(word) == True:\n",
    "                    anim_count += 1\n",
    "                    collocations = find_noun_children(line, word.text, uk_collocs)\n",
    "                    uk_collocs.update(collocations)\n",
    "                    \n",
    "    sorted_colls = sorted(uk_collocs.items(), reverse = True, key=lambda kv: kv[1])               \n",
    "    for coll in sorted_colls:\n",
    "        out_file.write('{}: {}\\n'.format(coll[1], coll[0]))\n",
    "    out_file.close()\n",
    "    \n",
    "    print(\"Total lines processed: {}\".format(lines))\n",
    "    print(\"\\nTotal number of animate nouns: {}\".format(anim_count))\n",
    "    print(\"\\nTotal number of collocations: {}\".format(len(sorted_colls)))\n",
    "    print(\"\\nSee all collocations in 'uk_collocations.txt'\")\n",
    "    print(\"\\nMost common collocations:\", sorted_colls[:20])\n",
    "    \n",
    "get_collocations()    \n",
    "t2 = time.time()\n",
    "end_time = t2 - t1\n",
    "print(\"Time: \", str(timedelta(seconds=end_time)))\n",
    "\n",
    "# Total lines processed: 5327\n",
    "# Total number of animate nouns: 4976\n",
    "# Total number of collocations: 655\n",
    "# See all collocations in 'uk_collocations.txt'\n",
    "# Most common collocations: [('старий Сірко', 86), ('дикий коза', 6), ('старий Сірчих', 6), ('великий начальник', 5), ('сонячний зайчик', 5), ('цибатий зять', 5), ('старий Мороз', 5), ('керований Григорій', 5), \n",
    "# ('вірний пес', 5), ('рідний людина', 4), ('близький людина', 4), ('нав’ючений кінь', 4), ('звіровий собака', 4), \n",
    "# ('плямистий оленя', 4), ('ходовий вивірка', 4), ('смугастий звірок', 3), ('другий ведмідь', 3), ('якутський пес', 3), \n",
    "# ('вражий мама', 3), ('великий пан', 3)]"
   ]
  }
 ],
 "metadata": {
  "kernelspec": {
   "display_name": "Python 3",
   "language": "python",
   "name": "python3"
  },
  "language_info": {
   "codemirror_mode": {
    "name": "ipython",
    "version": 3
   },
   "file_extension": ".py",
   "mimetype": "text/x-python",
   "name": "python",
   "nbconvert_exporter": "python",
   "pygments_lexer": "ipython3",
   "version": "3.7.4"
  }
 },
 "nbformat": 4,
 "nbformat_minor": 2
}
