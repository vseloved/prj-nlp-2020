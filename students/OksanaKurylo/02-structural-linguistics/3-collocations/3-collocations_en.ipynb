{
 "cells": [
  {
   "cell_type": "code",
   "execution_count": 1,
   "metadata": {},
   "outputs": [],
   "source": [
    "import os\n",
    "import spacy \n",
    "nlp = spacy.load(\"en_core_web_md\",  disable=['textcat', \"ner\"]) \n",
    "from nltk.corpus import wordnet as wn\n",
    "from nltk import FreqDist\n",
    "from datetime import datetime, timedelta\n",
    "import time\n",
    "from collections import defaultdict"
   ]
  },
  {
   "cell_type": "code",
   "execution_count": 2,
   "metadata": {},
   "outputs": [
    {
     "name": "stdout",
     "output_type": "stream",
     "text": [
      "Total number of synonyms: 48\n",
      "Synonyms:\n",
      "['distinguish', 'recount', 'narrate', 'assure', 'commune', 'speak', 'pass', 'pronounce', 'state', 'enjoin', 'verbalize', 'evidence', 'verbalise', 'pass on', 'lay claim', 'recite', 'aver', 'take', 'allege', 'sound out', 'articulate', 'read', 'severalize', 'pass along', 'talk', 'secernate', 'convey', 'differentiate', 'claim', 'enunciate', 'intercommunicate', 'suppose', 'transmit', 'utter', 'arrogate', 'address', 'mouth', 'communicate', 'separate', 'severalise', 'tell apart', 'order', 'enounce', 'exact', 'tell', 'put across', 'say', 'secern'] \n"
     ]
    }
   ],
   "source": [
    "def get_syns(verb):\n",
    "    \"\"\"\n",
    "    Find \n",
    "    :return: list of synonyms\n",
    "    \"\"\"\n",
    "    v_syns = []\n",
    "    for synset in wn.synsets(verb,'v'):\n",
    "        for lemma in synset.lemma_names():\n",
    "            if lemma.find(\"_\") == -1:\n",
    "                v_syns.append(lemma)\n",
    "            else:\n",
    "                v_syns.append(\" \".join(lemma.split(\"_\")))\n",
    "    return v_syns\n",
    "\n",
    "verbs = [\"say\", \"tell\", \"communicate\", \"speak\", \"claim\"] \n",
    "syns = []\n",
    "\n",
    "for verb in verbs:\n",
    "    syns.extend(get_syns(verb))\n",
    "synonyms = list(set(syns))\n",
    "print(\"Total number of synonyms: {}\\nSynonyms:\\n{} \".format(len(synonyms), synonyms))    "
   ]
  },
  {
   "cell_type": "code",
   "execution_count": 3,
   "metadata": {},
   "outputs": [
    {
     "name": "stdout",
     "output_type": "stream",
     "text": [
      "Not - ADV\n",
      "LY Adverb: overtly\n",
      "and - CCONJ\n",
      "not - ADV\n",
      "LY Adverb: directly\n",
      ", - PUNCT\n",
      "but - CCONJ\n",
      "she - PRON\n",
      "will - VERB\n",
      "speak - VERB\n",
      "in - ADP\n",
      "code - NOUN\n",
      "saying - VERB\n",
      "that - ADP\n",
      "Obama - PROPN\n",
      "ca - AUX\n",
      "n't - ADV\n",
      "win - VERB\n",
      ". - PUNCT\n"
     ]
    }
   ],
   "source": [
    "def is_adverb(token):\n",
    "    \"\"\" \n",
    "    Find adverbs with '-ly'\n",
    "    :param token: spaCy token\n",
    "    :return: string (adverb) or None\n",
    "    \"\"\"\n",
    "    if token.tag_ == \"RB\" and token.text.endswith(\"ly\"):\n",
    "        return token\n",
    "    \n",
    "headline = \"Not overtly and not directly, but she will speak in code saying that Obama can't win.\"\n",
    "doc = nlp(headline)\n",
    "for token in doc:\n",
    "    if is_adverb(token) != None:\n",
    "        print(\"LY Adverb:\", token)\n",
    "    else:\n",
    "        print(\"{} - {}\".format(token, token.pos_))"
   ]
  },
  {
   "cell_type": "code",
   "execution_count": 4,
   "metadata": {},
   "outputs": [],
   "source": [
    "def find_adverbs(headlines):\n",
    "    \"\"\"\"\n",
    "    Find verbs and their '-ly' adverbs \n",
    "    :param doc: Doc, a parsed sentence\n",
    "    :return: a collocation dictionary ('verb':[\"adv1\", ... ]) or empty dictionary\n",
    "    \"\"\"\n",
    "    advs = defaultdict(list)\n",
    "    lines = 0\n",
    "    for line in headlines:\n",
    "        lines += 1\n",
    "        doc = nlp(line)\n",
    "        for token in doc:\n",
    "            # if we find verbs from the synonym list\n",
    "            if token.pos_ == \"VERB\" and token.lemma_ in synonyms:\n",
    "                for child in token.children:\n",
    "                    # if the verb has '-ly'adverbs as its children\n",
    "                    if is_adverb(child) != None and child.dep_ == 'advmod':\n",
    "                        advs[token.lemma_].append(child.text.lower())\n",
    "                        for grandch in child.children:\n",
    "                            # if '-ly'adverb is a parent for other '-ly'adverb\n",
    "                            if grandch.tag_ == \"RB\" and grandch.dep_ == 'conj': \n",
    "                                advs[token.lemma_].append(grandch.text.lower())\n",
    "    return advs, lines"
   ]
  },
  {
   "cell_type": "code",
   "execution_count": null,
   "metadata": {},
   "outputs": [],
   "source": [
    "t1 = time.time()\n",
    "script_path = os.path.abspath('__file__') \n",
    "path_list = script_path.split(os.sep)\n",
    "script_directory = path_list[0:len(path_list)-1]\n",
    "rel_path = \"tasks/02-structural-linguistics/data/\"\n",
    "PATH = \"/\".join(script_directory[:4]) + \"/\" + rel_path\n",
    "\n",
    "def get_collocations():\n",
    "    with open(PATH + 'blog2008.txt') as f:\n",
    "        data = f.readlines()\n",
    "    \n",
    "    verbs = [\"say\", \"tell\", \"communicate\", \"speak\", \"claim\"] \n",
    "    syns = []\n",
    "    collocations = {}\n",
    "    \n",
    "    file = open(\"collocations.txt\", \"w+\")\n",
    "    \n",
    "    for verb in verbs:\n",
    "        syns.extend(get_syns(verb))\n",
    "    synonyms = list(set(syns))\n",
    "   \n",
    "    print(\"Finding adverbs ...\", )\n",
    "    adverbs, headlines = find_adverbs(data)\n",
    "    for key in adverbs.keys():\n",
    "        m_common = FreqDist(adverbs[key]).most_common(10)\n",
    "        collocations[key] = m_common\n",
    "    \n",
    "    \n",
    "    \n",
    "    file.write(\"Total headlines processed: {}\\n\".format(headlines))\n",
    "    file.write(\"{} synonyms to look for:\\n{} \".format(len(synonyms), synonyms)) \n",
    "    file.write(\"Total number of unique synonyms: {}\\n\".format(len(adverbs)))\n",
    "    file.write(\"Most common synonyms and their collocations:\\n\")\n",
    "    \n",
    "    print(\"Total headlines processed: {}\".format(headlines))\n",
    "    print(\"{} synonyms to look for:\\n{} \".format(len(synonyms), synonyms))  \n",
    "    print(\"\\nTotal number of synonyms in the headlines: {}\".format(len(adverbs)))\n",
    "    print(\"\\nMost common synonyms and their collocations:\")\n",
    "    for v, adv in collocations.items():\n",
    "        file.write('{}: {}\\n'.format(v, adv))\n",
    "    file.close()\n",
    "    print(\"See results in 'collocations.txt'\")\n",
    "    \n",
    "get_collocations()    \n",
    "t2 = time.time()\n",
    "end_time = t2 - t1\n",
    "print(\"Time: \", str(timedelta(seconds=end_time)))\n",
    "\n",
    "\n",
    "# Finding adverbs ...\n",
    "# Total headlines processed: 303994\n",
    "# 48 synonyms to look for:\n",
    "# ['read', 'enunciate', 'secern', 'claim', 'communicate', 'recite', 'state', 'recount', 'talk', 'sound out', 'tell', 'pass along', 'allege', 'pronounce', 'differentiate', 'arrogate', 'commune', 'suppose', 'severalize', 'secernate', 'utter', 'enjoin', 'articulate', 'exact', 'mouth', 'convey', 'intercommunicate', 'speak', 'narrate', 'severalise', 'verbalise', 'address', 'separate', 'enounce', 'verbalize', 'put across', 'evidence', 'aver', 'pass', 'lay claim', 'say', 'distinguish', 'tell apart', 'order', 'pass on', 'transmit', 'take', 'assure'] \n",
    "# Total number of synonyms in the headlines: 30\n",
    "# Most common synonyms and their collocations:\n",
    "# See results in 'collocations.txt'"
   ]
  }
 ],
 "metadata": {
  "kernelspec": {
   "display_name": "Python 3",
   "language": "python",
   "name": "python3"
  },
  "language_info": {
   "codemirror_mode": {
    "name": "ipython",
    "version": 3
   },
   "file_extension": ".py",
   "mimetype": "text/x-python",
   "name": "python",
   "nbconvert_exporter": "python",
   "pygments_lexer": "ipython3",
   "version": "3.7.4"
  }
 },
 "nbformat": 4,
 "nbformat_minor": 2
}
