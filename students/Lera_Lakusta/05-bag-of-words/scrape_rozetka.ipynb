{
 "cells": [
  {
   "cell_type": "code",
   "execution_count": 1,
   "metadata": {},
   "outputs": [],
   "source": [
    "import time\n",
    "import re\n",
    "import json\n",
    "import requests\n",
    "import urllib.parse\n",
    "import pandas as pd\n",
    "from lxml import html \n",
    "from bs4 import BeautifulSoup"
   ]
  },
  {
   "cell_type": "code",
   "execution_count": 2,
   "metadata": {},
   "outputs": [],
   "source": [
    "def convert_to_json (text):\n",
    "    return json.loads(re.sub(r'&q;', '\\\"', text))"
   ]
  },
  {
   "cell_type": "code",
   "execution_count": 3,
   "metadata": {},
   "outputs": [],
   "source": [
    "def extract_json_from_html(link):\n",
    "    html = requests.get(link).text\n",
    "    soup = BeautifulSoup(html,'lxml')\n",
    "    json_containers = soup.select('script#rz-client-state')\n",
    "    \n",
    "    if len(json_containers):  \n",
    "        return convert_to_json(json_containers[0].text)\n",
    "    \n",
    "    return {}\n",
    "\n",
    "\n",
    "def get_subcategories(url):\n",
    "    categories_json = extract_json_from_html(url)\n",
    "    categories = []\n",
    "\n",
    "    json_with_links = categories_json[\"G.https://xl-catalog-api.rozetka.com.ua/v2/super-portals/get?front-type=xl&a;category_id=4626923&a;lang=ua?\"]['body']['data']['blocks'][1]['content']\n",
    "    section_names = {'Міцні напої', \"Вино\\t\", \"Пиво та сидр\"}\n",
    "\n",
    "    for k, v in json_with_links.items():\n",
    "        for item in v:\n",
    "            if item['title'] in section_names:\n",
    "                categories.extend(item['items'])\n",
    "    return categories"
   ]
  },
  {
   "cell_type": "code",
   "execution_count": 4,
   "metadata": {},
   "outputs": [],
   "source": [
    "def parse_comments(comments_json):\n",
    "    comments = []\n",
    "    for comment in comments_json:\n",
    "        comments.append({\n",
    "            \"comment_id\": comment['id'],\n",
    "            \"text\": comment['text'],\n",
    "            \"mark\": comment['mark'],\n",
    "            \"percent_dignity\": comment['percent_dignity'],\n",
    "            \"dignity\": comment['dignity'], \n",
    "            \"shortcomings\": comment['shortcomings'], \n",
    "            \"attachments_number\": len(comment['attachments']),\n",
    "            \"replies_number\": len(comment['replies']),\n",
    "            \"is_from_buyer\": comment['from_buyer'],\n",
    "            \"created_at\": comment['commentdatajson'][\"created_iso\"],\n",
    "        })\n",
    "    return comments\n",
    "        \n",
    "def get_product_comments(product_id, timeout=1):\n",
    "    link_template = 'https://product-api.rozetka.com.ua/v3/comments/get?'\n",
    "\n",
    "    qs_dict = {\n",
    "        \"front-type\": [\"xl\"],\n",
    "        \"goods\": [product_id],\n",
    "        \"page\": [\"1\"],\n",
    "        \"sort\": [\"date\"],\n",
    "        \"limit\": [\"10\"],\n",
    "        \"lang\": [\"ua\"],\n",
    "    }\n",
    "    \n",
    "    qs = urllib.parse.urlencode(qs_dict, True)\n",
    "    response_text = requests.get(link_template + qs).text\n",
    "    time.sleep(timeout)\n",
    "\n",
    "    response_json = json.loads(response_text)\n",
    "\n",
    "    pages_count = response_json[\"data\"][\"pages\"][\"count\"]\n",
    "    item_name = response_json['data'][\"record\"][\"fulltitle\"]\n",
    "    \n",
    "    # add comments from the first page\n",
    "    comments_json = response_json['data']['comments']\n",
    "    comments = parse_comments(comments_json)\n",
    "\n",
    "    for i in range(2, pages_count + 1):\n",
    "        qs_dict['page'] = i\n",
    "        qs = urllib.parse.urlencode(qs_dict, True)\n",
    "        response_text = requests.get(link_template + qs).text\n",
    "        response_json = json.loads(response_text)\n",
    "        comments_json = response_json['data']['comments']\n",
    "        comments.extend(parse_comments(comments_json))\n",
    "    \n",
    "    for i in range(len(comments)):\n",
    "        comments[i][\"item_name\"] = item_name\n",
    "\n",
    "    return comments"
   ]
  },
  {
   "cell_type": "code",
   "execution_count": 5,
   "metadata": {},
   "outputs": [],
   "source": [
    "def get_products_ids(category_link):\n",
    "    product_ids = []\n",
    "    pages_count = 0\n",
    "    category_json = extract_json_from_html(category_link)\n",
    "\n",
    "    # get product ids from the page\n",
    "    for k,v in category_json.items():\n",
    "        if 'body' in v:\n",
    "                if 'data' in v['body']:\n",
    "                    if 'ids' in v['body']['data']:\n",
    "                        product_ids.extend(v['body']['data']['ids']) \n",
    "                    # get number of pages per category\n",
    "                    if not pages_count and 'total_pages' in v['body']['data']:\n",
    "                        pages_count = v['body']['data']['total_pages']\n",
    "                        \n",
    "                        \n",
    "    for i in range(2, pages_count + 1):\n",
    "        next_page_link = category_link + f'page={i}/'\n",
    "        category_json = extract_json_from_html(next_page_link)\n",
    "        for k,v in category_json.items():\n",
    "            if 'body' in v:\n",
    "                if 'data' in v['body']:\n",
    "                    if 'ids' in v['body']['data']:\n",
    "                        product_ids.extend(v['body']['data']['ids'])\n",
    "        \n",
    "    return product_ids"
   ]
  },
  {
   "cell_type": "code",
   "execution_count": 6,
   "metadata": {
    "collapsed": true
   },
   "outputs": [],
   "source": [
    "def get_all_comments(category):\n",
    "    result = []\n",
    "\n",
    "    category_title, category_link = category[\"title\"], category[\"link\"]\n",
    "    print(category_title)\n",
    "    print(category_link)\n",
    "        \n",
    "    product_ids = get_products_ids(category_link)\n",
    "        \n",
    "    for product_id in product_ids:\n",
    "        comments = get_product_comments(product_id)\n",
    "\n",
    "        for i in range(len(comments)):\n",
    "            comments[i]['category'] = category_title\n",
    "        result.extend(comments)\n",
    "    print(len(result))\n",
    "    \n",
    "    return result"
   ]
  },
  {
   "cell_type": "code",
   "execution_count": 7,
   "metadata": {},
   "outputs": [],
   "source": [
    "categories = get_subcategories('https://rozetka.com.ua/ua/alkoholnie-napitki-i-produkty/c4626923/')"
   ]
  },
  {
   "cell_type": "code",
   "execution_count": 8,
   "metadata": {},
   "outputs": [
    {
     "data": {
      "text/plain": [
       "[{'title': 'Віскі', 'link': 'https://rozetka.com.ua/viski/c4649130/'},\n",
       " {'title': 'Коньяк',\n",
       "  'link': 'https://rozetka.com.ua/konyak-i-brendi/c4649136/'},\n",
       " {'title': 'Горілка', 'link': 'https://rozetka.com.ua/vodka/c4649154/'},\n",
       " {'title': 'Ром', 'link': 'https://rozetka.com.ua/rom/c4649142/'},\n",
       " {'title': 'Джин', 'link': 'https://rozetka.com.ua/dgin/c4649166/'},\n",
       " {'title': 'Текіла',\n",
       "  'link': 'https://rozetka.com.ua/tekila-i-meskal/c4649148/'},\n",
       " {'title': 'Грапа та кальвадос',\n",
       "  'link': 'https://rozetka.com.ua/grappa-i-kalvados/c4649178/'},\n",
       " {'title': 'Лікери та аперитиви',\n",
       "  'link': 'https://rozetka.com.ua/liquor-vermouth-syrup/c4625409/'},\n",
       " {'title': 'Тихе вино', 'link': 'https://rozetka.com.ua/tihoe-vino/c4649052/'},\n",
       " {'title': 'Вермут', 'link': 'https://rozetka.com.ua/vermut/c4649064/'},\n",
       " {'title': 'Ігристе вино',\n",
       "  'link': 'https://rozetka.com.ua/shampanskoe-i-igristoe-vino/c4649058/vid175512=asti-asti,fragolino-fragolino,franchakorta-franciacorta,frizzante-frizzante,igristoe,kava-sava,kreman-cremant,krikova-cricova,lambrusko-lambrusco,marani-marani,pro-spritz,prosekko-prosecco,sweet-edition,vinniy-napitok/'},\n",
       " {'title': 'Шампанське',\n",
       "  'link': 'https://rozetka.com.ua/shampanskoe-i-igristoe-vino/c4649058/vid175512=shampanskoe/'},\n",
       " {'title': 'Просеко',\n",
       "  'link': 'https://rozetka.com.ua/shampanskoe-i-igristoe-vino/c4649058/vid175512=prosekko-prosecco/'},\n",
       " {'title': 'Кава',\n",
       "  'link': 'https://rozetka.com.ua/shampanskoe-i-igristoe-vino/c4649058/vid175512=kava-sava/'},\n",
       " {'title': 'Креман ',\n",
       "  'link': 'https://rozetka.com.ua/shampanskoe-i-igristoe-vino/c4649058/vid175512=kreman-cremant/'},\n",
       " {'title': 'Фраголіно',\n",
       "  'link': 'https://rozetka.com.ua/shampanskoe-i-igristoe-vino/c4649058/vid175512=fragolino-fragolino/'},\n",
       " {'title': 'Пиво', 'link': 'https://rozetka.com.ua/pivo/c4626589/'},\n",
       " {'title': 'Сидр', 'link': 'https://rozetka.com.ua/sidr/c4649196/'},\n",
       " {'title': 'Слабоалкогольні напої',\n",
       "  'link': 'https://rozetka.com.ua/slaboalkogoljnye-napitki/c4628313/'}]"
      ]
     },
     "execution_count": 8,
     "metadata": {},
     "output_type": "execute_result"
    }
   ],
   "source": [
    "categories"
   ]
  },
  {
   "cell_type": "code",
   "execution_count": 9,
   "metadata": {
    "collapsed": true
   },
   "outputs": [
    {
     "name": "stdout",
     "output_type": "stream",
     "text": [
      "Пиво\n",
      "https://rozetka.com.ua/pivo/c4626589/\n",
      "2022\n",
      "Сидр\n",
      "https://rozetka.com.ua/sidr/c4649196/\n",
      "115\n",
      "Слабоалкогольні напої\n",
      "https://rozetka.com.ua/slaboalkogoljnye-napitki/c4628313/\n",
      "40\n"
     ]
    }
   ],
   "source": [
    "for category in categories:\n",
    "    comments = get_all_comments(category)\n",
    "    df = pd.DataFrame(comments)\n",
    "    df.to_csv('comments.csv', mode='a', header=False)\n",
    "\n",
    "        "
   ]
  }
 ],
 "metadata": {
  "kernelspec": {
   "display_name": "Python 3",
   "language": "python",
   "name": "python3"
  },
  "language_info": {
   "codemirror_mode": {
    "name": "ipython",
    "version": 3
   },
   "file_extension": ".py",
   "mimetype": "text/x-python",
   "name": "python",
   "nbconvert_exporter": "python",
   "pygments_lexer": "ipython3",
   "version": "3.7.2"
  }
 },
 "nbformat": 4,
 "nbformat_minor": 2
}
