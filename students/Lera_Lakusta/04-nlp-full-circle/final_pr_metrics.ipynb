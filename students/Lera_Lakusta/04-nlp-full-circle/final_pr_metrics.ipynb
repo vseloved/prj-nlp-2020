{
 "cells": [
  {
   "cell_type": "code",
   "execution_count": 76,
   "metadata": {},
   "outputs": [],
   "source": [
    "from IPython.display import Image"
   ]
  },
  {
   "cell_type": "raw",
   "metadata": {},
   "source": [
    "   У своєму курсовому проєкті я буду використовувати WindowDiff метрику. Це варіант більш розповсюдженої Pk міри, який, на відміну від останньої, однаково штрафує FP та \"near misses\" (майже точне визначення меж).\n",
    "Зазвичай, ці метрики використовуються разом, тому можливо я також включу у роботу і Pk.\n",
    "Для підрахунку, WindowDiff використовує сегментаційні вікна (у моєму прикладі це 0, а 1 - це межі тексту); кожна комбінація нулів оцінюється як хибна/правильна/наближена до правильної залежно від позиції сепаратора - одиниці. "
   ]
  },
  {
   "cell_type": "markdown",
   "metadata": {},
   "source": [
    "![title](windowdiff.png)"
   ]
  },
  {
   "cell_type": "code",
   "execution_count": 49,
   "metadata": {},
   "outputs": [],
   "source": [
    "import segeval\n",
    "from nltk.metrics.segmentation import windowd"
   ]
  },
  {
   "cell_type": "code",
   "execution_count": 50,
   "metadata": {},
   "outputs": [
    {
     "data": {
      "text/plain": [
       "['Дон',\n",
       " 'Сезар',\n",
       " 'де',\n",
       " 'Базан',\n",
       " '.',\n",
       " 'грн',\n",
       " 'тест',\n",
       " 'відправляється',\n",
       " 'у',\n",
       " 'карантин']"
      ]
     },
     "execution_count": 50,
     "metadata": {},
     "output_type": "execute_result"
    }
   ],
   "source": [
    "f1 = open('data_train.txt')\n",
    "for line in f1:\n",
    "    words_train = line.split()\n",
    "words_train[65:75]"
   ]
  },
  {
   "cell_type": "code",
   "execution_count": 72,
   "metadata": {},
   "outputs": [
    {
     "data": {
      "text/plain": [
       "'0000100000'"
      ]
     },
     "execution_count": 72,
     "metadata": {},
     "output_type": "execute_result"
    }
   ],
   "source": [
    "mass_train = ''.join(['1' if word == '.' else '0' for word in words_train])\n",
    "mass_train[65:75]"
   ]
  },
  {
   "cell_type": "code",
   "execution_count": 59,
   "metadata": {},
   "outputs": [
    {
     "data": {
      "text/plain": [
       "['Дон',\n",
       " 'Сезар',\n",
       " 'де',\n",
       " 'Базан',\n",
       " 'грн',\n",
       " 'тест',\n",
       " 'відправляється',\n",
       " 'у',\n",
       " 'карантин',\n",
       " '.']"
      ]
     },
     "execution_count": 59,
     "metadata": {},
     "output_type": "execute_result"
    }
   ],
   "source": [
    "f1 = open('data_test.txt')\n",
    "for line in f1:\n",
    "    words_test = line.split()\n",
    "words_test[65:75]"
   ]
  },
  {
   "cell_type": "code",
   "execution_count": 73,
   "metadata": {},
   "outputs": [
    {
     "data": {
      "text/plain": [
       "'0000000001'"
      ]
     },
     "execution_count": 73,
     "metadata": {},
     "output_type": "execute_result"
    }
   ],
   "source": [
    "mass_test = ''.join(['1' if word == '.' else '0' for word in words_test])\n",
    "mass_test[65:75]"
   ]
  },
  {
   "cell_type": "code",
   "execution_count": 74,
   "metadata": {},
   "outputs": [
    {
     "data": {
      "text/plain": [
       "False"
      ]
     },
     "execution_count": 74,
     "metadata": {},
     "output_type": "execute_result"
    }
   ],
   "source": [
    "mass_test == mass_train"
   ]
  },
  {
   "cell_type": "code",
   "execution_count": 81,
   "metadata": {},
   "outputs": [
    {
     "data": {
      "text/plain": [
       "0.021604938271604937"
      ]
     },
     "execution_count": 81,
     "metadata": {},
     "output_type": "execute_result"
    }
   ],
   "source": [
    "windowdiff(mass_train, mass_test, 3)"
   ]
  },
  {
   "cell_type": "code",
   "execution_count": 83,
   "metadata": {},
   "outputs": [
    {
     "data": {
      "text/plain": [
       "0.0"
      ]
     },
     "execution_count": 83,
     "metadata": {},
     "output_type": "execute_result"
    }
   ],
   "source": [
    "windowdiff(mass_train, mass_train, 3)"
   ]
  }
 ],
 "metadata": {
  "kernelspec": {
   "display_name": "Python 3",
   "language": "python",
   "name": "python3"
  },
  "language_info": {
   "codemirror_mode": {
    "name": "ipython",
    "version": 3
   },
   "file_extension": ".py",
   "mimetype": "text/x-python",
   "name": "python",
   "nbconvert_exporter": "python",
   "pygments_lexer": "ipython3",
   "version": "3.7.2"
  }
 },
 "nbformat": 4,
 "nbformat_minor": 2
}
