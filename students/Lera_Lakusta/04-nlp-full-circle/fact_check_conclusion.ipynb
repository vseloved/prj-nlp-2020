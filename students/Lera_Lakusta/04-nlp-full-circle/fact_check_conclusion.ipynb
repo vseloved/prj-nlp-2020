{
 "cells": [
  {
   "cell_type": "code",
   "execution_count": 1,
   "metadata": {},
   "outputs": [],
   "source": [
    "from IPython.display import Image"
   ]
  },
  {
   "cell_type": "markdown",
   "metadata": {},
   "source": [
    "Протягом аналілу низької точності, я знайшла багато неточностей у інформації з DBP, які вносили похибку\n",
    "у мої оригінальні дані\n",
    "Наприклад:\n",
    "    1) у полі formerBandMember містяться посилання на сайти, або посилання на сутності, які не є іменами людей7"
   ]
  },
  {
   "cell_type": "markdown",
   "metadata": {},
   "source": [
    "![title](1.png)\n",
    "\n"
   ]
  },
  {
   "cell_type": "markdown",
   "metadata": {},
   "source": [
    "   2) або у полі formerBandMember міститься сама назва групи, при цьому кількість актуальних учасників невірна"
   ]
  },
  {
   "cell_type": "markdown",
   "metadata": {},
   "source": [
    "![title](2.png)"
   ]
  },
  {
   "cell_type": "markdown",
   "metadata": {},
   "source": [
    "3) у полі замість імен, назви інструментів "
   ]
  },
  {
   "cell_type": "markdown",
   "metadata": {},
   "source": [
    "![title](3.png)\n"
   ]
  },
  {
   "cell_type": "markdown",
   "metadata": {},
   "source": [
    "4) не кожна група має текст із заначеними іменами, іноді вказується тільки засновник групи ( у перших трьох абзацах), іноді уся інфа - тільки у табличці."
   ]
  },
  {
   "cell_type": "markdown",
   "metadata": {},
   "source": [
    "![title](4.png)\n"
   ]
  },
  {
   "cell_type": "markdown",
   "metadata": {},
   "source": [
    "5) Також, є групи, у яких інформація записана у виді таблички"
   ]
  },
  {
   "cell_type": "markdown",
   "metadata": {},
   "source": [
    "![title](7.png)\n"
   ]
  },
  {
   "cell_type": "markdown",
   "metadata": {},
   "source": [
    "6) варіативність написання імен (у DBP імена без нікнеймів, у Вікіпедії зазвичай - з ними)"
   ]
  },
  {
   "cell_type": "markdown",
   "metadata": {},
   "source": [
    "Вищезазначена проблема з указанням не усього списку учасників групи відчутно вплинула на точність у результатах роботи.\n",
    "Також -  NER досить погано розпізнає іноземні імена - так, у мене 0 співпадінь для деяких груп з латинської америки, Непалу, Індонезії"
   ]
  }
 ],
 "metadata": {
  "kernelspec": {
   "display_name": "Python 3",
   "language": "python",
   "name": "python3"
  },
  "language_info": {
   "codemirror_mode": {
    "name": "ipython",
    "version": 3
   },
   "file_extension": ".py",
   "mimetype": "text/x-python",
   "name": "python",
   "nbconvert_exporter": "python",
   "pygments_lexer": "ipython3",
   "version": "3.7.2"
  }
 },
 "nbformat": 4,
 "nbformat_minor": 2
}
