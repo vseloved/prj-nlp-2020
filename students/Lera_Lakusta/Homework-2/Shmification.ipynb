{
 "cells": [
  {
   "cell_type": "code",
   "execution_count": 53,
   "metadata": {},
   "outputs": [],
   "source": [
    "import re"
   ]
  },
  {
   "cell_type": "code",
   "execution_count": 81,
   "metadata": {},
   "outputs": [],
   "source": [
    "def capitalize_if_needed(array, capitalize):\n",
    "    if capitalize:\n",
    "        array[-1] = array[-1].title()\n",
    "    return ' '.join(array)\n",
    "\n",
    "def shmificate (words):\n",
    "    vowels = \"aeiouy\"\n",
    "    result = words.split()\n",
    "    is_capitalized = result[-1].istitle()\n",
    "    word = result[-1].lower()\n",
    "\n",
    "    if word.startswith('shm'):\n",
    "        return capitalize_if_needed(result, is_capitalized)\n",
    "    elif \"sh\" in word:\n",
    "        result[-1] = 'sm' + word\n",
    "    elif word[0] not in vowels:\n",
    "        word = re.sub(r\"[^aueioy]+(\\w+)\", r\"\\1\", word)\n",
    "        result[-1] = \"shm\" + word\n",
    "    else:\n",
    "        result[-1] = \"shm\" + word\n",
    "\n",
    "    return capitalize_if_needed(result, is_capitalized)"
   ]
  },
  {
   "cell_type": "code",
   "execution_count": 82,
   "metadata": {},
   "outputs": [
    {
     "name": "stdout",
     "output_type": "stream",
     "text": [
      "shmeakfast\n",
      "shmapple\n",
      "data shmaltz\n",
      "data shmience\n",
      "Data Shmience\n",
      "shmaltz\n",
      "Smashmont\n",
      "Jim S Shmorrison\n"
     ]
    }
   ],
   "source": [
    "print(shmificate(\"breakfast\"))\n",
    "print(shmificate(\"apple\"))\n",
    "print(shmificate(\"data shmaltz\"))\n",
    "print(shmificate(\"data science\"))\n",
    "print(shmificate(\"Data Science\"))\n",
    "print(shmificate(\"shmaltz\"))\n",
    "print(shmificate('Ashmont'))\n",
    "print(shmificate('Jim S Morrison'))"
   ]
  }
 ],
 "metadata": {
  "kernelspec": {
   "display_name": "Python 3",
   "language": "python",
   "name": "python3"
  },
  "language_info": {
   "codemirror_mode": {
    "name": "ipython",
    "version": 3
   },
   "file_extension": ".py",
   "mimetype": "text/x-python",
   "name": "python",
   "nbconvert_exporter": "python",
   "pygments_lexer": "ipython3",
   "version": "3.7.2"
  }
 },
 "nbformat": 4,
 "nbformat_minor": 2
}
