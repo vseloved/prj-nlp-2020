{
 "cells": [
  {
   "cell_type": "markdown",
   "metadata": {},
   "source": [
    "##  1. Перевірте роботу SnowballStem для спільнокореневих слів. Напишіть ваші спостереження.\n",
    "\n",
    "Truth - алгоритм розрахований на деривативні форми з простими (найпоширенішими) афіксами - \"ful\", \"fulness\", не може розпізнати інші складніші афікси\n",
    "\n",
    "Flaw - не розпізнає афікс \"less\", через це стемінг частини слів помилковий (flawless -> flawless, flawlessness -> flawless)\n",
    "\n",
    "Лес - жодного вірного стемінгу для деривативів\n",
    "\n",
    "Окно - саме корені слів подібрані вірно для слів окно -> окн, оконный -> окон, але алгоритм не виявляє, що ці корені відносяться до однієї стеми. Для решти слів - з помилками\n"
   ]
  },
  {
   "cell_type": "markdown",
   "metadata": {},
   "source": [
    "##  2. Визначте частину мови виділеного слова і слово, яке є його батьком (за зразком):\n",
    "\n",
    "    We can {but} hope that everything will be fine. - adverb, can\n",
    "    \n",
    "    It's sad {but} true. - conjunction, sad\n",
    "    \n",
    "    Jack brings nothing {but} trouble. - preposition, nothing \n",
    "    \n",
    "    Let's do it this {way}! - noun, do \n",
    "    \n",
    "    This is {way} too much! - adverb, much\n",
    "    \n",
    "    The prices are going {down}. - adverb, going\n",
    "    \n",
    "    Someone pushed him and he fell {down} the stairs. -preposition, fell\n",
    "    \n",
    "    I’ve been feeling rather {down} lately. - adverb, feeling\n",
    "    \n",
    "        хоча згідно https://dictionary.cambridge.org/dictionary/english/down - це adjective, але тут немає батька для прикметника \n",
    "        \n",
    "    It's not easy to {down} a cup of coffee in one gulp. - verb, ROOT\n",
    "    \n",
    "    Bring a {down} jacket and a pair of gloves, and you'll be fine. - noun, jacket\n",
    "    "
   ]
  },
  {
   "cell_type": "markdown",
   "metadata": {},
   "source": [
    "## 3. Визначте частину мови виділеного слова і слово, яке є його батьком (за зразком):\n",
    "\n",
    "    Рада міністрів Європейського союзу затвердила угоду про спрощений порядок видачі {віз} для України. -  іменник, видачі\n",
    "    \n",
    "    Батько Себастьяна {віз} на санях їх театральний гурт до Львова. - дієслов, ROOT\n",
    "    \n",
    "    А ще дивний елемент інтер’єру – {віз} із продукцією одного з херсонських виробників. - іменник, елемент\n",
    "    \n",
    "    У цю мить {повз} Євгена пролетів останній вагон товарняка. -  прийменник, пролетів\n",
    "    \n",
    "    Кліпнув очима і побачив малого песика, який саме пробігав {повз} у бік села. - прислівник, пробігав\n",
    "    \n",
    "    Степанко перестав кричати, тільки ламкий стогін {повз} йому із грудей. - дієслово, ROOT\n",
    "    \n",
    "    Ось присіла на {край} ліжка. - іменник, на\n",
    "    \n",
    "    Поставив ту кузню не {край} дороги, як було заведено, а на Красній горі, біля Прадуба. - прийменник, поставив\n",
    "    \n",
    "    Розповідаючи про передній {край} лінґвістики, фон Лібіх, як завжди, мислив широко і глобально. - іменник, про\n",
    "    \n",
    "    Не {край} мені серце. - дієслово, ROOT\n",
    "    "
   ]
  },
  {
   "cell_type": "code",
   "execution_count": null,
   "metadata": {},
   "outputs": [],
   "source": [
    "from IPython.display import Image"
   ]
  },
  {
   "cell_type": "markdown",
   "metadata": {},
   "source": [
    "##  4. Виберіть одне речення зі списку та побудуйте для нього дерево залежностей:\n",
    "6C приземляється на плече, перекочуючись, пролітає метрів п’ятдесят і витягується на снігу за кілька кроків від забризканої палаючими уламками посадкової смуги."
   ]
  },
  {
   "cell_type": "markdown",
   "metadata": {},
   "source": [
    "\n",
    "![title](dep_tree.png)\n"
   ]
  },
  {
   "cell_type": "markdown",
   "metadata": {},
   "source": [
    "##  5. Виберіть одне cлово зі списку та побудуйте лексико-семантичні зв'язки до трьох різних значень цього слова. "
   ]
  },
  {
   "cell_type": "markdown",
   "metadata": {},
   "source": [
    "![title](1.png)\n"
   ]
  },
  {
   "cell_type": "markdown",
   "metadata": {},
   "source": [
    "![title](2.png)"
   ]
  },
  {
   "cell_type": "markdown",
   "metadata": {},
   "source": [
    "![title](3.png)"
   ]
  }
 ],
 "metadata": {
  "kernelspec": {
   "display_name": "Python 3",
   "language": "python",
   "name": "python3"
  },
  "language_info": {
   "codemirror_mode": {
    "name": "ipython",
    "version": 3
   },
   "file_extension": ".py",
   "mimetype": "text/x-python",
   "name": "python",
   "nbconvert_exporter": "python",
   "pygments_lexer": "ipython3",
   "version": "3.7.2"
  }
 },
 "nbformat": 4,
 "nbformat_minor": 2
}
