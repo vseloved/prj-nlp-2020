{
 "cells": [
  {
   "cell_type": "code",
   "execution_count": 1,
   "metadata": {},
   "outputs": [],
   "source": [
    "import nltk\n",
    "import spacy\n",
    "from nltk.corpus import sentiwordnet as swn\n",
    "import pandas as pd"
   ]
  },
  {
   "cell_type": "code",
   "execution_count": 2,
   "metadata": {},
   "outputs": [],
   "source": [
    "nlp = spacy.load(\"en_core_web_sm\")"
   ]
  },
  {
   "cell_type": "code",
   "execution_count": 3,
   "metadata": {},
   "outputs": [],
   "source": [
    "def convert_tag (pos_tag):\n",
    "    if pos_tag.startswith('J'):\n",
    "        return \"a\"\n",
    "    elif pos_tag.startswith('N'):\n",
    "        return \"n\"\n",
    "    elif pos_tag.startswith('R'):\n",
    "        return \"r\"\n",
    "    return \"v\"\n",
    "\n",
    "def emotion_score (word, pos_tag):\n",
    "    pos_score = 0\n",
    "    neg_score = 0\n",
    "    for element in list(swn.senti_synsets(word, pos = convert_tag(pos_tag)))[:5] :\n",
    "        pos_score += element.pos_score()\n",
    "        neg_score += element.neg_score()\n",
    "    if pos_score >= 0.5 or neg_score >= 0.5:\n",
    "        return True"
   ]
  },
  {
   "cell_type": "code",
   "execution_count": 5,
   "metadata": {},
   "outputs": [],
   "source": [
    "def if_catchy (headline):\n",
    "    pos_tags = ['JJS', 'JJR']\n",
    "    parsed_headline = nlp(headline)\n",
    "    has_named_entity = find_named_entity(parsed_headline)\n",
    "    result = [False, False, has_named_entity] \n",
    "    for token in parsed_headline:\n",
    "        if token.tag_ in pos_tags:\n",
    "            result[0] = True\n",
    "        if emotion_score(token.text, token.tag_):\n",
    "            result[1] = True\n",
    "    result.append(all(result))\n",
    "    return pd.Series(result)"
   ]
  },
  {
   "cell_type": "code",
   "execution_count": 14,
   "metadata": {},
   "outputs": [],
   "source": [
    "data = pd.read_csv('examiner-headlines.txt', sep='\\n', header=None, names=['headline'])\n",
    "data[['has_tags', 'is_emotional', 'has_named_entity', 'is_viral']] = data['headline'].apply(if_catchy)"
   ]
  },
  {
   "cell_type": "code",
   "execution_count": 64,
   "metadata": {},
   "outputs": [
    {
     "data": {
      "text/html": [
       "<div>\n",
       "<style scoped>\n",
       "    .dataframe tbody tr th:only-of-type {\n",
       "        vertical-align: middle;\n",
       "    }\n",
       "\n",
       "    .dataframe tbody tr th {\n",
       "        vertical-align: top;\n",
       "    }\n",
       "\n",
       "    .dataframe thead th {\n",
       "        text-align: right;\n",
       "    }\n",
       "</style>\n",
       "<table border=\"1\" class=\"dataframe\">\n",
       "  <thead>\n",
       "    <tr style=\"text-align: right;\">\n",
       "      <th></th>\n",
       "      <th>headline</th>\n",
       "      <th>has_tags</th>\n",
       "      <th>is_emotional</th>\n",
       "      <th>has_named_entity</th>\n",
       "      <th>is_viral</th>\n",
       "    </tr>\n",
       "  </thead>\n",
       "  <tbody>\n",
       "    <tr>\n",
       "      <th>743</th>\n",
       "      <td>Robert Pattinson on E! News -- kissing scenes ...</td>\n",
       "      <td>True</td>\n",
       "      <td>True</td>\n",
       "      <td>True</td>\n",
       "      <td>True</td>\n",
       "    </tr>\n",
       "    <tr>\n",
       "      <th>4808</th>\n",
       "      <td>Rudolph the red-nosed reindeer should worry ab...</td>\n",
       "      <td>True</td>\n",
       "      <td>True</td>\n",
       "      <td>True</td>\n",
       "      <td>True</td>\n",
       "    </tr>\n",
       "    <tr>\n",
       "      <th>4288</th>\n",
       "      <td>Bobby Deen concocts 'Everybody's Favorite Comf...</td>\n",
       "      <td>True</td>\n",
       "      <td>True</td>\n",
       "      <td>True</td>\n",
       "      <td>True</td>\n",
       "    </tr>\n",
       "    <tr>\n",
       "      <th>4977</th>\n",
       "      <td>Best Buy last-minute deals: Surface tablet, Ma...</td>\n",
       "      <td>True</td>\n",
       "      <td>True</td>\n",
       "      <td>True</td>\n",
       "      <td>True</td>\n",
       "    </tr>\n",
       "    <tr>\n",
       "      <th>9</th>\n",
       "      <td>Jersey Shore Season 6 cast's salaries revealed...</td>\n",
       "      <td>True</td>\n",
       "      <td>True</td>\n",
       "      <td>True</td>\n",
       "      <td>True</td>\n",
       "    </tr>\n",
       "    <tr>\n",
       "      <th>4276</th>\n",
       "      <td>More MAC launches and new releases for April</td>\n",
       "      <td>True</td>\n",
       "      <td>True</td>\n",
       "      <td>True</td>\n",
       "      <td>True</td>\n",
       "    </tr>\n",
       "    <tr>\n",
       "      <th>2082</th>\n",
       "      <td>The Week Ahead: Indie films, burgers and brews...</td>\n",
       "      <td>True</td>\n",
       "      <td>True</td>\n",
       "      <td>True</td>\n",
       "      <td>True</td>\n",
       "    </tr>\n",
       "    <tr>\n",
       "      <th>2929</th>\n",
       "      <td>HBO's 'Game of Thrones' is medieval fantasy at...</td>\n",
       "      <td>True</td>\n",
       "      <td>True</td>\n",
       "      <td>True</td>\n",
       "      <td>True</td>\n",
       "    </tr>\n",
       "    <tr>\n",
       "      <th>3413</th>\n",
       "      <td>Navy's newest aircraft carrier, the USS Gerald...</td>\n",
       "      <td>True</td>\n",
       "      <td>True</td>\n",
       "      <td>True</td>\n",
       "      <td>True</td>\n",
       "    </tr>\n",
       "    <tr>\n",
       "      <th>2395</th>\n",
       "      <td>'Suga' Rashad Evans might be the best light he...</td>\n",
       "      <td>True</td>\n",
       "      <td>True</td>\n",
       "      <td>True</td>\n",
       "      <td>True</td>\n",
       "    </tr>\n",
       "  </tbody>\n",
       "</table>\n",
       "</div>"
      ],
      "text/plain": [
       "                                               headline  has_tags  \\\n",
       "743   Robert Pattinson on E! News -- kissing scenes ...      True   \n",
       "4808  Rudolph the red-nosed reindeer should worry ab...      True   \n",
       "4288  Bobby Deen concocts 'Everybody's Favorite Comf...      True   \n",
       "4977  Best Buy last-minute deals: Surface tablet, Ma...      True   \n",
       "9     Jersey Shore Season 6 cast's salaries revealed...      True   \n",
       "4276       More MAC launches and new releases for April      True   \n",
       "2082  The Week Ahead: Indie films, burgers and brews...      True   \n",
       "2929  HBO's 'Game of Thrones' is medieval fantasy at...      True   \n",
       "3413  Navy's newest aircraft carrier, the USS Gerald...      True   \n",
       "2395  'Suga' Rashad Evans might be the best light he...      True   \n",
       "\n",
       "      is_emotional  has_named_entity  is_viral  \n",
       "743           True              True      True  \n",
       "4808          True              True      True  \n",
       "4288          True              True      True  \n",
       "4977          True              True      True  \n",
       "9             True              True      True  \n",
       "4276          True              True      True  \n",
       "2082          True              True      True  \n",
       "2929          True              True      True  \n",
       "3413          True              True      True  \n",
       "2395          True              True      True  "
      ]
     },
     "execution_count": 64,
     "metadata": {},
     "output_type": "execute_result"
    }
   ],
   "source": [
    "data.sample(10, weights = 'is_viral')"
   ]
  },
  {
   "cell_type": "code",
   "execution_count": 11,
   "metadata": {},
   "outputs": [
    {
     "data": {
      "text/plain": [
       "False    96.12\n",
       "True      3.88\n",
       "Name: has_tags, dtype: float64"
      ]
     },
     "execution_count": 11,
     "metadata": {},
     "output_type": "execute_result"
    }
   ],
   "source": [
    "data['has_tags'].value_counts(normalize = True)* 100"
   ]
  },
  {
   "cell_type": "code",
   "execution_count": 12,
   "metadata": {},
   "outputs": [
    {
     "data": {
      "text/plain": [
       "True     64.7\n",
       "False    35.3\n",
       "Name: is_emotional, dtype: float64"
      ]
     },
     "execution_count": 12,
     "metadata": {},
     "output_type": "execute_result"
    }
   ],
   "source": [
    "data['is_emotional'].value_counts(normalize = True)* 100"
   ]
  },
  {
   "cell_type": "code",
   "execution_count": 13,
   "metadata": {},
   "outputs": [
    {
     "data": {
      "text/plain": [
       "True     57.02\n",
       "False    42.98\n",
       "Name: has_named_entity, dtype: float64"
      ]
     },
     "execution_count": 13,
     "metadata": {},
     "output_type": "execute_result"
    }
   ],
   "source": [
    "data['has_named_entity'].value_counts(normalize = True)* 100"
   ]
  }
 ],
 "metadata": {
  "kernelspec": {
   "display_name": "Python 3",
   "language": "python",
   "name": "python3"
  },
  "language_info": {
   "codemirror_mode": {
    "name": "ipython",
    "version": 3
   },
   "file_extension": ".py",
   "mimetype": "text/x-python",
   "name": "python",
   "nbconvert_exporter": "python",
   "pygments_lexer": "ipython3",
   "version": "3.7.2"
  }
 },
 "nbformat": 4,
 "nbformat_minor": 2
}
