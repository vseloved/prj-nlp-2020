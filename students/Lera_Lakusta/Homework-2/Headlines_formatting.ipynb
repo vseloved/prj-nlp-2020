{
 "cells": [
  {
   "cell_type": "code",
   "execution_count": 130,
   "metadata": {},
   "outputs": [],
   "source": [
    "import spacy\n",
    "import json\n",
    "import re \n",
    "\n",
    "nlp = spacy.load(\"en_core_web_lg\")"
   ]
  },
  {
   "cell_type": "code",
   "execution_count": 213,
   "metadata": {},
   "outputs": [],
   "source": [
    "def check_pos (token):\n",
    "    tag_list = [ 'PRP', 'PRP$', 'WP', 'WP$', 'NN', 'NNP', 'NNPS', 'NNS',\n",
    "                    'JJ', 'JJR', 'JJS', 'MD', 'VB', 'VBD', 'VBG',\n",
    "                    'VBN', 'VBP', 'VBZ', 'RB', 'RBR', 'RBS', 'WRB']\n",
    "    contraction = ['\\'m', '\\'ll', '\\'s', 'n\\'t', '\\'ve']\n",
    "    text, pos, tag, dep = token.text, token.pos_, token.tag_, token.dep_\n",
    "    \n",
    "    if ((pos == 'SCONJ' or tag in tag_list) and text not in contraction \\\n",
    "        and not (text == 'as' and dep == 'prep')) :\n",
    "        return True"
   ]
  },
  {
   "cell_type": "code",
   "execution_count": 214,
   "metadata": {},
   "outputs": [],
   "source": [
    "def is_hyphenated (headline, index):\n",
    "    headline_len = len(headline)\n",
    "    if (index != headline_len - 1 and headline[index + 1].text == '-') or headline[index - 1].text == '-':\n",
    "        return True "
   ]
  },
  {
   "cell_type": "code",
   "execution_count": 215,
   "metadata": {},
   "outputs": [],
   "source": [
    "def is_camel_case (word):\n",
    "    if not (len(word) == 2 and word[0].isupper()):\n",
    "        return word != word.lower() and word != word.upper() and word != word.istitle()"
   ]
  },
  {
   "cell_type": "code",
   "execution_count": 216,
   "metadata": {},
   "outputs": [],
   "source": [
    "def letter_and_digit (token):\n",
    "    if any(map(str.isdigit,token)) and any(map(str.isalpha ,token)):\n",
    "        return True"
   ]
  },
  {
   "cell_type": "code",
   "execution_count": 217,
   "metadata": {},
   "outputs": [],
   "source": [
    "def handle_leading_trailing(arr, reverse=False):\n",
    "    arr = arr[:]\n",
    "    rng = range(len(arr))\n",
    "    \n",
    "    if reverse:\n",
    "        rng = reversed(rng)\n",
    "    \n",
    "    for i in rng:\n",
    "        item = arr[i]\n",
    "        token, _, is_entity = item\n",
    "        if is_entity:\n",
    "            break\n",
    "        if token.strip().isalpha():\n",
    "            if not token.isupper() or is_camel_case(token):\n",
    "                arr[i][0] = token.title()\n",
    "            break    \n",
    "    return arr"
   ]
  },
  {
   "cell_type": "code",
   "execution_count": 219,
   "metadata": {},
   "outputs": [],
   "source": [
    "def format_headline (headline): \n",
    "    formatted_headline = []\n",
    "    parsed_headline = nlp(headline)\n",
    "    \n",
    "    for i, token in enumerate(parsed_headline):\n",
    "        text = token.text\n",
    "         \n",
    "        if text.isupper() or is_camel_case(text) or letter_and_digit(text):\n",
    "            formatted_text = text\n",
    "        elif len(token) > 3 or check_pos(token) or is_hyphenated(parsed_headline, i):\n",
    "            formatted_text = text.title()\n",
    "        else:\n",
    "            formatted_text = text.lower()\n",
    "        formatted_headline.append([formatted_text, token.whitespace_, token.ent_type != 0])\n",
    "    \n",
    "    formatted_headline = handle_leading_trailing(formatted_headline)\n",
    "    formatted_headline = handle_leading_trailing(formatted_headline, True)\n",
    "    formatted_headline = [text + whitespace for text, whitespace, _ in formatted_headline]\n",
    "    return ''.join(formatted_headline)"
   ]
  },
  {
   "cell_type": "code",
   "execution_count": 225,
   "metadata": {},
   "outputs": [],
   "source": [
    "def test_headlines (f):\n",
    "    tp = 0\n",
    "    with open(f) as json_file:\n",
    "        data = json.load(json_file)\n",
    "        for entry in data:\n",
    "            formatted_headline = format_headline(entry[0])\n",
    "            if formatted_headline == entry[1]:\n",
    "                tp += 1\n",
    "        accuracy = tp/len(data)\n",
    "        return accuracy"
   ]
  },
  {
   "cell_type": "code",
   "execution_count": 226,
   "metadata": {},
   "outputs": [
    {
     "data": {
      "text/plain": [
       "0.93"
      ]
     },
     "execution_count": 226,
     "metadata": {},
     "output_type": "execute_result"
    }
   ],
   "source": [
    "test_headlines('headlines-test-set.json')"
   ]
  },
  {
   "cell_type": "code",
   "execution_count": 228,
   "metadata": {},
   "outputs": [
    {
     "name": "stdout",
     "output_type": "stream",
     "text": [
      "697\n"
     ]
    }
   ],
   "source": [
    "with open('examiner-headlines.txt') as f:\n",
    "    counter = 0\n",
    "    for line in f:\n",
    "        formatted_headline = format_headline(line)\n",
    "        if formatted_headline == line:\n",
    "            counter += 1\n",
    "    print(counter)"
   ]
  }
 ],
 "metadata": {
  "kernelspec": {
   "display_name": "Python 3",
   "language": "python",
   "name": "python3"
  },
  "language_info": {
   "codemirror_mode": {
    "name": "ipython",
    "version": 3
   },
   "file_extension": ".py",
   "mimetype": "text/x-python",
   "name": "python",
   "nbconvert_exporter": "python",
   "pygments_lexer": "ipython3",
   "version": "3.7.2"
  }
 },
 "nbformat": 4,
 "nbformat_minor": 2
}
