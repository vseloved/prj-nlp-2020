{
 "cells": [
  {
   "cell_type": "code",
   "execution_count": 4,
   "metadata": {},
   "outputs": [],
   "source": [
    "import spacy\n",
    "import json\n",
    "import re \n",
    "\n",
    "nlp = spacy.load(\"en_core_web_sm\", disable=['textcat', 'ner'])"
   ]
  },
  {
   "cell_type": "code",
   "execution_count": 5,
   "metadata": {},
   "outputs": [],
   "source": [
    "def check_pos (token):\n",
    "    pos_tags = ['NOUN', 'PROPN', 'PRON', 'VERB', 'ADJ', 'ADV', 'SCONJ']\n",
    "    contraction = ['\\'m', '\\'ll', '\\'s', 'n\\'t', '\\'ve']\n",
    "    if (token.pos_ in pos_tags and token.text not in contraction) or (token.pos_ == 'ADP' and token.dep_ == 'mark'):\n",
    "        return True"
   ]
  },
  {
   "cell_type": "code",
   "execution_count": 6,
   "metadata": {},
   "outputs": [],
   "source": [
    "def is_hyphenated (headline, index):\n",
    "    headline_len = len(headline)\n",
    "    if (index != headline_len - 1 and headline[index + 1].text == '-') or headline[index - 1].text == '-':\n",
    "        return True "
   ]
  },
  {
   "cell_type": "code",
   "execution_count": 7,
   "metadata": {},
   "outputs": [],
   "source": [
    "def is_camel_case(s):\n",
    "    return s != s.lower() and s != s.upper() and s != s.istitle()"
   ]
  },
  {
   "cell_type": "code",
   "execution_count": 8,
   "metadata": {},
   "outputs": [],
   "source": [
    "def letter_and_digit (token):\n",
    "    if any(map(str.isdigit,token)) and any(map(str.isalpha ,token)):\n",
    "        return True"
   ]
  },
  {
   "cell_type": "code",
   "execution_count": 9,
   "metadata": {},
   "outputs": [],
   "source": [
    "def format_headline (headline): \n",
    "    formatted_headline = ''\n",
    "    no_punct_headline = headline.replace('\\'', '').split()\n",
    "    parsed_headline = nlp(headline)\n",
    "    for i, token in enumerate(parsed_headline):\n",
    "        text = token.text\n",
    "        if text.isupper() or is_camel_case(text) or letter_and_digit(text):\n",
    "            formatted_headline += text\n",
    "        elif len(token) > 3 or check_pos(token) or text == no_punct_headline[0] or text == no_punct_headline[-1] or is_hyphenated(parsed_headline, i):\n",
    "            formatted_headline += text.title()\n",
    "        else:\n",
    "            formatted_headline += text.lower()\n",
    "        formatted_headline += token.whitespace_\n",
    "    return formatted_headline"
   ]
  },
  {
   "cell_type": "code",
   "execution_count": 10,
   "metadata": {},
   "outputs": [],
   "source": [
    "def test_headlines (f):\n",
    "    tp = 0\n",
    "    with open(f) as json_file:\n",
    "        data = json.load(json_file)\n",
    "        for entry in data:\n",
    "            formatted_headline = format_headline(entry[0])\n",
    "            if formatted_headline == entry[1]:\n",
    "                tp += 1\n",
    "            else:\n",
    "                print(format_headline(entry[0]))\n",
    "                print(entry[1])\n",
    "        accuracy = tp/len(data)\n",
    "        return accuracy"
   ]
  },
  {
   "cell_type": "code",
   "execution_count": 11,
   "metadata": {},
   "outputs": [
    {
     "name": "stdout",
     "output_type": "stream",
     "text": [
      "How To Design A College Curriculum to Help You in Life\n",
      "How to Design a College Curriculum to Help You in Life\n",
      "Brazilian & Bikini Waxing How to Choose an Sf Bay Area Hair Removal Salon or Spa\n",
      "Brazilian & Bikini Waxing How to Choose an SF Bay Area Hair Removal Salon or Spa\n",
      "How It all Plays out on Church Street\n",
      "How It All Plays out on Church Street\n",
      "'The Celebrity Apprentice 2012' Spoilers: Who Makes the Final two?\n",
      "'The Celebrity Apprentice 2012' Spoilers: Who Makes the Final Two?\n",
      "Facebook Post Helps Police Nab Suspect Who Ripped off two Burbank Salons\n",
      "Facebook Post Helps Police Nab Suspect Who Ripped off Two Burbank Salons\n",
      "Millionaires Aren't in the Class Rooms Teaching-Don'T Know More Than Teachers\n",
      "Millionaires Aren't in the Class Rooms Teaching-Don't Know More Than Teachers\n",
      "Hank Williams and All His Rowdy Friends Cry Foul As They Leave ESPN's MNF\n",
      "Hank Williams and all His Rowdy Friends Cry Foul As They Leave ESPN's MNF\n",
      "'Jackass 3D' Trailer Explodes Right in Your Face So Don't Try This at Home (Video)\n",
      "'Jackass 3D' Trailer Explodes Right in Your Face so Don't Try This at Home (Video)\n"
     ]
    },
    {
     "data": {
      "text/plain": [
       "0.92"
      ]
     },
     "execution_count": 11,
     "metadata": {},
     "output_type": "execute_result"
    }
   ],
   "source": [
    "test_headlines('headlines-test-set.json')"
   ]
  }
 ],
 "metadata": {
  "kernelspec": {
   "display_name": "Python 3",
   "language": "python",
   "name": "python3"
  },
  "language_info": {
   "codemirror_mode": {
    "name": "ipython",
    "version": 3
   },
   "file_extension": ".py",
   "mimetype": "text/x-python",
   "name": "python",
   "nbconvert_exporter": "python",
   "pygments_lexer": "ipython3",
   "version": "3.7.2"
  }
 },
 "nbformat": 4,
 "nbformat_minor": 2
}
