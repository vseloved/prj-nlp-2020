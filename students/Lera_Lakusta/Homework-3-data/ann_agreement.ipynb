{
 "cells": [
  {
   "cell_type": "code",
   "execution_count": 175,
   "metadata": {},
   "outputs": [],
   "source": [
    "from collections import defaultdict\n",
    "import itertools"
   ]
  },
  {
   "cell_type": "code",
   "execution_count": 619,
   "metadata": {},
   "outputs": [],
   "source": [
    "def count_score (dictionary):\n",
    "    pairwise_sent_agreement = []\n",
    "    for k, v in dictionary.items():     \n",
    "        spans = v.items()\n",
    "\n",
    "        combinations = list(itertools.combinations(spans, 2))\n",
    "        scores = []\n",
    "        for combination in combinations:\n",
    "            score = 0\n",
    "            \n",
    "            a = set(combination[0][1].keys())\n",
    "            b = set(combination[1][1].keys())\n",
    "            i = a.intersection(b)\n",
    "            annotator_pair = (combination[0][0], combination[1][0])\n",
    "            \n",
    "            for span in i:\n",
    "                correction1 = combination[0][1][span]\n",
    "                correction2 = combination[1][1][span]\n",
    "                if correction1 == correction2:\n",
    "                    score += 1 \n",
    "            scores.append((annotator_pair, score / len(a.union(b))))\n",
    "        pairwise_sent_agreement.append(scores)\n",
    "    \n",
    "    average_pairwise_agreement = defaultdict(list)\n",
    "    average_sent_agreements = []\n",
    "    \n",
    "    for sentence in pairwise_sent_agreement:\n",
    "        sent_agreements = []\n",
    "        for pair in sentence:\n",
    "            average_pairwise_agreement[pair[0]].append(pair[1])\n",
    "            sent_agreements.append(pair[1])\n",
    "            \n",
    "        average_sent_agreements.append(sum(sent_agreements) / len(sent_agreements))\n",
    "        \n",
    "    total_agreement = sum(average_sent_agreements) / len(average_sent_agreements)\n",
    "    \n",
    "    for k,v in average_pairwise_agreement.items():\n",
    "        average_pairwise_agreement[k] = sum(v) / len(v)\n",
    "            \n",
    "    return average_pairwise_agreement, total_agreement"
   ]
  },
  {
   "cell_type": "code",
   "execution_count": 620,
   "metadata": {},
   "outputs": [
    {
     "name": "stdout",
     "output_type": "stream",
     "text": [
      "Pairwise agreement: defaultdict(<class 'list'>, {(0, 1): 0.23259100781842124, (0, 2): 0.38531274168926005, (1, 2): 0.3980529397966955, (0, 3): 0.40152721799273516, (0, 4): 0.512962962962963, (1, 3): 0.4191578118850847, (1, 4): 0.3962301587301587, (2, 3): 0.45585895491891426, (2, 4): 0.33730158730158727, (3, 4): 0.45777777777777773}) \n",
      "Total corporus agreement: 0.27275232505373465\n"
     ]
    }
   ],
   "source": [
    "dictionary = defaultdict(dict)\n",
    "with open('data.txt') as f:\n",
    "    f = f.read()\n",
    "    for pair in f.split('\\n\\n'):\n",
    "        p = pair.split('\\n')\n",
    "        sentence = p[0][2:]\n",
    "        answers = p[1:]\n",
    "        dictionary[sentence] = defaultdict(dict)\n",
    "        \n",
    "        for answer in answers:\n",
    "            parts = answer[2:].split('|||')\n",
    "            annonator_number = int(parts[-1])\n",
    "            span = tuple(parts[0].split())\n",
    "            word = parts[2]\n",
    "            \n",
    "            if word  != '-NONE-': \n",
    "                dictionary[sentence][annonator_number][span] = word\n",
    "                \n",
    "        if len(dictionary[sentence].keys()) < 2:\n",
    "            del  dictionary[sentence]\n",
    "        \n",
    "print(f'Pairwise agreement: {count_score(dictionary)[0]} \\nTotal corporus agreement: {count_score(dictionary)[1]}')  \n"
   ]
  },
  {
   "cell_type": "markdown",
   "metadata": {},
   "source": [
    "\n",
    "\n",
    "Рівень згоди анотувальників досить низький. Вочевидь, це через те, що я не врахувала часткову згоду при перетині виправлень. "
   ]
  }
 ],
 "metadata": {
  "kernelspec": {
   "display_name": "Python 3",
   "language": "python",
   "name": "python3"
  },
  "language_info": {
   "codemirror_mode": {
    "name": "ipython",
    "version": 3
   },
   "file_extension": ".py",
   "mimetype": "text/x-python",
   "name": "python",
   "nbconvert_exporter": "python",
   "pygments_lexer": "ipython3",
   "version": "3.7.2"
  }
 },
 "nbformat": 4,
 "nbformat_minor": 2
}
