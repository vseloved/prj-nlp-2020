{
 "cells": [
  {
   "cell_type": "code",
   "execution_count": 31,
   "metadata": {},
   "outputs": [],
   "source": [
    "import xml.sax\n",
    "import re"
   ]
  },
  {
   "cell_type": "code",
   "execution_count": 40,
   "metadata": {},
   "outputs": [],
   "source": [
    "def get_word_if_french (token):\n",
    "    # for inputs like '[[anc#fr|anc]]'\n",
    "    before_hash, after_hash = token.split('#')\n",
    "    lang_code = after_hash.split('|')[0]\n",
    "    if lang_code == 'fr':\n",
    "        return before_hash[4:]\n",
    "\n",
    "def extract_synon(line):\n",
    "    synonyms = set()\n",
    "    # restrict links to translated words\n",
    "    if 'lien' not in line:\n",
    "        matches = re.findall(r'(?<=\\[\\[).*?(?=\\])', line)\n",
    "        for item in matches:\n",
    "            if '#' in item:\n",
    "                word = get_word_if_french(item)\n",
    "                if word:\n",
    "                    synonyms.add(word)\n",
    "            else:\n",
    "                 synonyms.add(item)\n",
    "    return synonyms\n",
    "\n",
    "def parse_synonyms (text):\n",
    "    lines = [line for line in text.splitlines() if line.strip()]\n",
    "    syn_idx_start, syn_idx_end = 0, 0\n",
    "    is_in_french, is_in_syn = False, False \n",
    "    synonyms = set()\n",
    "    for line in lines:\n",
    "        # restrict foreign words\n",
    "        if line == '== {{langue|fr}} ==':\n",
    "            is_in_french = True\n",
    "        if line == '==== {{S|synonymes}} ====':\n",
    "            is_in_syn = True\n",
    "        elif is_in_syn and line.startswith('=') :\n",
    "            break\n",
    "        elif is_in_syn and is_in_french and line and line.startswith('*'):\n",
    "            synonyms = extract_synon(line)\n",
    "    return synonyms  "
   ]
  },
  {
   "cell_type": "code",
   "execution_count": 41,
   "metadata": {},
   "outputs": [],
   "source": [
    "synonymes = {}\n",
    "f = open('output.txt', \"a\")\n",
    "\n",
    "class SynonymsHandler( xml.sax.ContentHandler ):\n",
    "    def __init__(self):\n",
    "        self.CurrentData = \"\"\n",
    "        self.word = \"\"\n",
    "        self.text = \"\"\n",
    "        self.has_synonym_regex = re.compile(r\"{{S\\|synonymes}}\")\n",
    "                \n",
    "    def startElement(self, tag, attributes):\n",
    "        self.CurrentData = tag\n",
    "\n",
    "    def endElement(self, tag):\n",
    "        if self.CurrentData == 'text':\n",
    "            # python code here\n",
    "            if self.has_synonym_regex.search(self.text) and not self.word.startswith('Wiktionnaire:Patron'): \n",
    "                synonyms = parse_synonyms(self.text)\n",
    "                if synonyms:\n",
    "                    f.write(f'{self.word} ~ {parse_synonyms(self.text)}\\n')\n",
    "                self.text = \"\"\n",
    "            self.word = \"\"\n",
    "        self.CurrentData = \"\"\n",
    "            \n",
    "    def characters(self, content):\n",
    "        if self.CurrentData == 'title':\n",
    "            self.word += content\n",
    "        if self.CurrentData == \"text\":\n",
    "            self.text += content"
   ]
  },
  {
   "cell_type": "code",
   "execution_count": 42,
   "metadata": {},
   "outputs": [
    {
     "name": "stdout",
     "output_type": "stream",
     "text": [
      "CPU times: user 19min 46s, sys: 2min 41s, total: 22min 28s\n",
      "Wall time: 41min 39s\n"
     ]
    }
   ],
   "source": [
    "%%time\n",
    "parser = xml.sax.make_parser()\n",
    "parser.setFeature(xml.sax.handler.feature_namespaces, 0)\n",
    "Handler = SynonymsHandler()\n",
    "parser.setContentHandler(Handler)\n",
    "parser.parse(\"1.xml\")"
   ]
  },
  {
   "cell_type": "code",
   "execution_count": 45,
   "metadata": {},
   "outputs": [
    {
     "name": "stdout",
     "output_type": "stream",
     "text": [
      "accueil ~ {'page d’accueil', 'web'}\n",
      "lire ~ {'livre'}\n",
      "siège ~ {'blocus'}\n",
      "fauteuil ~ {'luie stoel'}\n",
      "meuble ~ {'mobilier'}\n",
      "militaire ~ {'guerrier'}\n",
      "manchot ~ {'unibrassiste'}\n",
      "bande dessinée ~ {'roman graphique'}\n",
      "oiseau ~ {'piaf'}\n",
      "allemand ~ {'langue des chevaux'}\n",
      "vendredi ~ {'i'}\n",
      "voler ~ {'tirer'}\n",
      "poisson ~ {'matsyasana'}\n",
      "armée ~ {'drapeau'}\n",
      "sinogramme ~ {'kanji'}\n",
      "kanji ~ {'sinogramme'}\n",
      "jour ~ {'journée'}\n",
      "CD-ROM ~ {'DOC', 'disque optique compact'}\n",
      "photographie ~ {'prise de vue'}\n",
      "ordinateur ~ {'PC'}\n",
      "année ~ {'classe'}\n",
      "mars ~ {'vårmånad'}\n",
      "mai ~ {'mois de Marie'}\n",
      "computer ~ {'ordinateur'}\n",
      "anglais ~ {'anglophone'}\n",
      "lieu ~ {'place'}\n",
      "interrogation ~ {'interro'}\n",
      "hypothèse ~ {'postulat'}\n",
      "collaboration ~ {'collaborativité'}\n",
      "prendre ~ {'attraper'}\n",
      "le ~ {'lecʼh'}\n",
      "la ~ {'na'}\n",
      "fin ~ {'finman'}\n",
      "abréviation ~ {'abréviature'}\n",
      "chinois ~ {'noich'}\n",
      "espagnol ~ {'langue espagnole'}\n",
      "neuf ~ {'nouveau'}\n",
      "et ~ {'-que'}\n",
      "un ~ {'quelque'}\n",
      "nord ~ {'septentrion'}\n"
     ]
    }
   ],
   "source": [
    "output = open('output.txt')\n",
    "for i in range(40):\n",
    "    print(output.readline().strip())"
   ]
  }
 ],
 "metadata": {
  "kernelspec": {
   "display_name": "Python 3",
   "language": "python",
   "name": "python3"
  },
  "language_info": {
   "codemirror_mode": {
    "name": "ipython",
    "version": 3
   },
   "file_extension": ".py",
   "mimetype": "text/x-python",
   "name": "python",
   "nbconvert_exporter": "python",
   "pygments_lexer": "ipython3",
   "version": "3.7.2"
  }
 },
 "nbformat": 4,
 "nbformat_minor": 2
}
