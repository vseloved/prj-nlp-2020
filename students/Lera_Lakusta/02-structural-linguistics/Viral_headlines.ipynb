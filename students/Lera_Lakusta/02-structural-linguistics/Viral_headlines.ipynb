{
 "cells": [
  {
   "cell_type": "code",
   "execution_count": 1,
   "metadata": {},
   "outputs": [],
   "source": [
    "import nltk\n",
    "import spacy\n",
    "from nltk.corpus import sentiwordnet as swn\n",
    "import pandas as pd"
   ]
  },
  {
   "cell_type": "code",
   "execution_count": 2,
   "metadata": {},
   "outputs": [],
   "source": [
    "nlp = spacy.load(\"en_core_web_md\")"
   ]
  },
  {
   "cell_type": "code",
   "execution_count": 3,
   "metadata": {},
   "outputs": [],
   "source": [
    "def convert_tag (pos_tag):\n",
    "    if pos_tag.startswith('J'):\n",
    "        return \"a\"\n",
    "    elif pos_tag.startswith('N'):\n",
    "        return \"n\"\n",
    "    elif pos_tag.startswith('R'):\n",
    "        return \"r\"\n",
    "    return \"v\"\n",
    "\n",
    "def emotion_score (word, pos_tag):\n",
    "    pos_score = 0\n",
    "    neg_score = 0\n",
    "    for element in list(swn.senti_synsets(word, pos = convert_tag(pos_tag)))[:5] :\n",
    "        pos_score += element.pos_score()\n",
    "        neg_score += element.neg_score()\n",
    "    if pos_score >= 0.5 or neg_score >= 0.5:\n",
    "        return True\n",
    "\n",
    "def find_named_entity (headline):\n",
    "    ner_labes = ['PERSON', 'ORG', 'EVENT']\n",
    "    for ent in headline.ents:\n",
    "        if ent.label_ in ner_labes:\n",
    "            return True\n",
    "    return False"
   ]
  },
  {
   "cell_type": "code",
   "execution_count": 4,
   "metadata": {},
   "outputs": [],
   "source": [
    "def if_catchy (headline):\n",
    "    pos_tags = ['JJS', 'JJR' 'RBR' 'RBS']\n",
    "    parsed_headline = nlp(headline)\n",
    "    has_named_entity = find_named_entity(parsed_headline)\n",
    "    result = [False, False, has_named_entity] \n",
    "    for token in parsed_headline:\n",
    "        if token.tag_ in pos_tags:\n",
    "            result[0] = True\n",
    "        if emotion_score(token.text, token.tag_):\n",
    "            result[1] = True\n",
    "    result.append(all(result))\n",
    "    return pd.Series(result)"
   ]
  },
  {
   "cell_type": "code",
   "execution_count": 5,
   "metadata": {},
   "outputs": [],
   "source": [
    "data = pd.read_csv('examiner-headlines.txt', sep='\\n', header=None, names=['headline'])\n",
    "data[['has_tags', 'is_emotional', 'has_named_entity', 'is_viral']] = data['headline'].apply(if_catchy)"
   ]
  },
  {
   "cell_type": "code",
   "execution_count": 6,
   "metadata": {},
   "outputs": [
    {
     "data": {
      "text/html": [
       "<div>\n",
       "<style scoped>\n",
       "    .dataframe tbody tr th:only-of-type {\n",
       "        vertical-align: middle;\n",
       "    }\n",
       "\n",
       "    .dataframe tbody tr th {\n",
       "        vertical-align: top;\n",
       "    }\n",
       "\n",
       "    .dataframe thead th {\n",
       "        text-align: right;\n",
       "    }\n",
       "</style>\n",
       "<table border=\"1\" class=\"dataframe\">\n",
       "  <thead>\n",
       "    <tr style=\"text-align: right;\">\n",
       "      <th></th>\n",
       "      <th>headline</th>\n",
       "      <th>has_tags</th>\n",
       "      <th>is_emotional</th>\n",
       "      <th>has_named_entity</th>\n",
       "      <th>is_viral</th>\n",
       "    </tr>\n",
       "  </thead>\n",
       "  <tbody>\n",
       "    <tr>\n",
       "      <th>1396</th>\n",
       "      <td>Wine Spectator's 200 best value wines -- which...</td>\n",
       "      <td>True</td>\n",
       "      <td>True</td>\n",
       "      <td>True</td>\n",
       "      <td>True</td>\n",
       "    </tr>\n",
       "    <tr>\n",
       "      <th>563</th>\n",
       "      <td>Robert Pattinson, Taylor Lautner, Kellan Lutz ...</td>\n",
       "      <td>True</td>\n",
       "      <td>True</td>\n",
       "      <td>True</td>\n",
       "      <td>True</td>\n",
       "    </tr>\n",
       "    <tr>\n",
       "      <th>4808</th>\n",
       "      <td>Rudolph the red-nosed reindeer should worry ab...</td>\n",
       "      <td>True</td>\n",
       "      <td>True</td>\n",
       "      <td>True</td>\n",
       "      <td>True</td>\n",
       "    </tr>\n",
       "    <tr>\n",
       "      <th>135</th>\n",
       "      <td>Best 2014 Black Friday TV deals online: Amazon...</td>\n",
       "      <td>True</td>\n",
       "      <td>True</td>\n",
       "      <td>True</td>\n",
       "      <td>True</td>\n",
       "    </tr>\n",
       "    <tr>\n",
       "      <th>4856</th>\n",
       "      <td>CDC releases latest Sexually Transmitted Infec...</td>\n",
       "      <td>True</td>\n",
       "      <td>True</td>\n",
       "      <td>True</td>\n",
       "      <td>True</td>\n",
       "    </tr>\n",
       "    <tr>\n",
       "      <th>4510</th>\n",
       "      <td>Salvadorans Largest Hispanic Group on LI, Mexi...</td>\n",
       "      <td>True</td>\n",
       "      <td>True</td>\n",
       "      <td>True</td>\n",
       "      <td>True</td>\n",
       "    </tr>\n",
       "    <tr>\n",
       "      <th>4765</th>\n",
       "      <td>Fowler: 2-year-old Bassett mix with the cutest...</td>\n",
       "      <td>True</td>\n",
       "      <td>True</td>\n",
       "      <td>True</td>\n",
       "      <td>True</td>\n",
       "    </tr>\n",
       "    <tr>\n",
       "      <th>1829</th>\n",
       "      <td>Find your new best friend at the PetSmart Nati...</td>\n",
       "      <td>True</td>\n",
       "      <td>True</td>\n",
       "      <td>True</td>\n",
       "      <td>True</td>\n",
       "    </tr>\n",
       "    <tr>\n",
       "      <th>3467</th>\n",
       "      <td>UCLA's kidney transplant survival rate is best...</td>\n",
       "      <td>True</td>\n",
       "      <td>True</td>\n",
       "      <td>True</td>\n",
       "      <td>True</td>\n",
       "    </tr>\n",
       "    <tr>\n",
       "      <th>224</th>\n",
       "      <td>Live video and latest updates on the BP oil sp...</td>\n",
       "      <td>True</td>\n",
       "      <td>True</td>\n",
       "      <td>True</td>\n",
       "      <td>True</td>\n",
       "    </tr>\n",
       "  </tbody>\n",
       "</table>\n",
       "</div>"
      ],
      "text/plain": [
       "                                               headline  has_tags  \\\n",
       "1396  Wine Spectator's 200 best value wines -- which...      True   \n",
       "563   Robert Pattinson, Taylor Lautner, Kellan Lutz ...      True   \n",
       "4808  Rudolph the red-nosed reindeer should worry ab...      True   \n",
       "135   Best 2014 Black Friday TV deals online: Amazon...      True   \n",
       "4856  CDC releases latest Sexually Transmitted Infec...      True   \n",
       "4510  Salvadorans Largest Hispanic Group on LI, Mexi...      True   \n",
       "4765  Fowler: 2-year-old Bassett mix with the cutest...      True   \n",
       "1829  Find your new best friend at the PetSmart Nati...      True   \n",
       "3467  UCLA's kidney transplant survival rate is best...      True   \n",
       "224   Live video and latest updates on the BP oil sp...      True   \n",
       "\n",
       "      is_emotional  has_named_entity  is_viral  \n",
       "1396          True              True      True  \n",
       "563           True              True      True  \n",
       "4808          True              True      True  \n",
       "135           True              True      True  \n",
       "4856          True              True      True  \n",
       "4510          True              True      True  \n",
       "4765          True              True      True  \n",
       "1829          True              True      True  \n",
       "3467          True              True      True  \n",
       "224           True              True      True  "
      ]
     },
     "execution_count": 6,
     "metadata": {},
     "output_type": "execute_result"
    }
   ],
   "source": [
    "data.sample(10, weights = 'is_viral')"
   ]
  },
  {
   "cell_type": "code",
   "execution_count": 7,
   "metadata": {},
   "outputs": [
    {
     "data": {
      "text/plain": [
       "False    98.1\n",
       "True      1.9\n",
       "Name: has_tags, dtype: float64"
      ]
     },
     "execution_count": 7,
     "metadata": {},
     "output_type": "execute_result"
    }
   ],
   "source": [
    "data['has_tags'].value_counts(normalize = True) * 100"
   ]
  },
  {
   "cell_type": "code",
   "execution_count": 8,
   "metadata": {},
   "outputs": [
    {
     "data": {
      "text/plain": [
       "True     65.68\n",
       "False    34.32\n",
       "Name: is_emotional, dtype: float64"
      ]
     },
     "execution_count": 8,
     "metadata": {},
     "output_type": "execute_result"
    }
   ],
   "source": [
    "data['is_emotional'].value_counts(normalize = True) * 100"
   ]
  },
  {
   "cell_type": "code",
   "execution_count": 9,
   "metadata": {},
   "outputs": [
    {
     "data": {
      "text/plain": [
       "True     53.88\n",
       "False    46.12\n",
       "Name: has_named_entity, dtype: float64"
      ]
     },
     "execution_count": 9,
     "metadata": {},
     "output_type": "execute_result"
    }
   ],
   "source": [
    "data['has_named_entity'].value_counts(normalize = True) * 100"
   ]
  },
  {
   "cell_type": "code",
   "execution_count": 10,
   "metadata": {},
   "outputs": [
    {
     "data": {
      "text/plain": [
       "False    99.14\n",
       "True      0.86\n",
       "Name: is_viral, dtype: float64"
      ]
     },
     "execution_count": 10,
     "metadata": {},
     "output_type": "execute_result"
    }
   ],
   "source": [
    "data['is_viral'].value_counts(normalize = True )* 100"
   ]
  },
  {
   "cell_type": "code",
   "execution_count": null,
   "metadata": {},
   "outputs": [],
   "source": []
  }
 ],
 "metadata": {
  "kernelspec": {
   "display_name": "Python 3",
   "language": "python",
   "name": "python3"
  },
  "language_info": {
   "codemirror_mode": {
    "name": "ipython",
    "version": 3
   },
   "file_extension": ".py",
   "mimetype": "text/x-python",
   "name": "python",
   "nbconvert_exporter": "python",
   "pygments_lexer": "ipython3",
   "version": "3.7.2"
  }
 },
 "nbformat": 4,
 "nbformat_minor": 2
}
