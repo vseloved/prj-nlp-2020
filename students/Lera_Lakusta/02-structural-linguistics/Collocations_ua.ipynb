{
 "cells": [
  {
   "cell_type": "code",
   "execution_count": 1,
   "metadata": {},
   "outputs": [],
   "source": [
    "import pymorphy2\n",
    "import stanfordnlp\n",
    "from collections import defaultdict\n",
    "from spacy_stanfordnlp import StanfordNLPLanguage"
   ]
  },
  {
   "cell_type": "code",
   "execution_count": 2,
   "metadata": {},
   "outputs": [
    {
     "name": "stdout",
     "output_type": "stream",
     "text": [
      "Use device: cpu\n",
      "---\n",
      "Loading: tokenize\n",
      "With settings: \n",
      "{'model_path': '/Users/valeria/stanfordnlp_resources/uk_iu_models/uk_iu_tokenizer.pt', 'lang': 'uk', 'shorthand': 'uk_iu', 'mode': 'predict'}\n",
      "---\n",
      "Loading: pos\n",
      "With settings: \n",
      "{'model_path': '/Users/valeria/stanfordnlp_resources/uk_iu_models/uk_iu_tagger.pt', 'pretrain_path': '/Users/valeria/stanfordnlp_resources/uk_iu_models/uk_iu.pretrain.pt', 'lang': 'uk', 'shorthand': 'uk_iu', 'mode': 'predict'}\n",
      "---\n",
      "Loading: lemma\n",
      "With settings: \n",
      "{'model_path': '/Users/valeria/stanfordnlp_resources/uk_iu_models/uk_iu_lemmatizer.pt', 'lang': 'uk', 'shorthand': 'uk_iu', 'mode': 'predict'}\n",
      "Building an attentional Seq2Seq model...\n",
      "Using a Bi-LSTM encoder\n",
      "Using soft attention for LSTM.\n",
      "Finetune all embeddings.\n",
      "[Running seq2seq lemmatizer with edit classifier]\n",
      "---\n",
      "Loading: depparse\n",
      "With settings: \n",
      "{'model_path': '/Users/valeria/stanfordnlp_resources/uk_iu_models/uk_iu_parser.pt', 'pretrain_path': '/Users/valeria/stanfordnlp_resources/uk_iu_models/uk_iu.pretrain.pt', 'lang': 'uk', 'shorthand': 'uk_iu', 'mode': 'predict'}\n",
      "Done loading processors!\n",
      "---\n"
     ]
    }
   ],
   "source": [
    "# stanfordnlp.download('uk', force=True)\n",
    "snlp = stanfordnlp.Pipeline(lang='uk')\n",
    "nlp = StanfordNLPLanguage(snlp)"
   ]
  },
  {
   "cell_type": "code",
   "execution_count": 3,
   "metadata": {},
   "outputs": [],
   "source": [
    "morph = pymorphy2.MorphAnalyzer(lang='uk')"
   ]
  },
  {
   "cell_type": "code",
   "execution_count": 6,
   "metadata": {},
   "outputs": [],
   "source": [
    "with open('tyhrolovy.txt', \"r\") as f:\n",
    "  text = f.read()"
   ]
  },
  {
   "cell_type": "code",
   "execution_count": 7,
   "metadata": {},
   "outputs": [],
   "source": [
    "collocations = defaultdict(int)\n",
    "\n",
    "doc = nlp(text)\n",
    "for sentence in doc.sents:\n",
    "    for token in sentence:\n",
    "      if 'anim' in morph.parse(token.text)[0].tag:\n",
    "        for child in token.children:\n",
    "          if child.pos_ == 'ADJ' and child.dep_ == 'amod':\n",
    "            # convert to nominal case\n",
    "            phrase = morph.parse(child.text.lower())[0].normal_form + \\\n",
    "            ' ' + morph.parse(token.text.lower())[0].normal_form\n",
    "            collocations[phrase] += 1"
   ]
  },
  {
   "cell_type": "code",
   "execution_count": 8,
   "metadata": {},
   "outputs": [
    {
     "data": {
      "text/plain": [
       "[('старий сірко', 84),\n",
       " ('великий начальник', 5),\n",
       " ('цибатий зять', 5),\n",
       " ('сонячний зайчик', 4),\n",
       " ('якутський пес', 3),\n",
       " ('вражий мама', 3),\n",
       " ('гордий тварина', 3),\n",
       " ('великий пес', 3),\n",
       " ('гірський дух', 2),\n",
       " ('рідний товариш', 2),\n",
       " ('безумний сміливець', 2),\n",
       " ('державний злочинець', 2),\n",
       " ('земний кулі', 2),\n",
       " ('бронзовий якут', 2),\n",
       " ('гостровухий пес', 2),\n",
       " ('каторжанський патріарх', 2),\n",
       " ('владивостоцький турок', 2),\n",
       " ('дивний бог', 2),\n",
       " ('змучений мандрівник', 2),\n",
       " ('непокірний хтось', 2)]"
      ]
     },
     "execution_count": 8,
     "metadata": {},
     "output_type": "execute_result"
    }
   ],
   "source": [
    "sorted_x = sorted(collocations.items(), reverse = True, key=lambda kv: kv[1])\n",
    "sorted_x[:20]"
   ]
  },
  {
   "cell_type": "code",
   "execution_count": null,
   "metadata": {},
   "outputs": [],
   "source": []
  }
 ],
 "metadata": {
  "kernelspec": {
   "display_name": "Python 3",
   "language": "python",
   "name": "python3"
  },
  "language_info": {
   "codemirror_mode": {
    "name": "ipython",
    "version": 3
   },
   "file_extension": ".py",
   "mimetype": "text/x-python",
   "name": "python",
   "nbconvert_exporter": "python",
   "pygments_lexer": "ipython3",
   "version": "3.7.2"
  }
 },
 "nbformat": 4,
 "nbformat_minor": 2
}
