{
 "cells": [
  {
   "cell_type": "markdown",
   "metadata": {},
   "source": [
    "# Аналіз зібраних даних\n",
    "\n",
    "## Мета аналізу\n",
    "\n",
    "- Провалідувати якість даних.\n",
    "- Ознайомитись з даними та виявити їх особлиовсті.\n",
    "- З'ясувати чи можливо виділити категорії сентиментів з відгуків, використовуючи рейтинг вказаний користвуачем.\n",
    "\n",
    "\n",
    "## Питання\n",
    "- Cкільки відгуків українскьою вийшло зібрати?\n",
    "- Яке розподілення відгуків за рейтингом?\n",
    "- Чи є коментарі з рейтингом «5» позитивно забарвленими?\n",
    "- Чи є коментарі з рейтингом «4» позитивно забарвленими?\n",
    "- Чи є коментарі з рейтингом «3» нейтральними?\n",
    "- Чи є коментарі з рейтингом «2» негативно забарвленими?\n",
    "- Чи є коментарі з рейтингом «1» негативно забарвленими?\n",
    "- Які є начастотніші ознаки у кожному рейтингу?\n",
    "- Які є домені особливості у даних?"
   ]
  },
  {
   "cell_type": "markdown",
   "metadata": {},
   "source": [
    "## Розетка надає змогу залишити відгук користувачам наступним чином\n",
    "![rating](pic.jpeg)"
   ]
  },
  {
   "cell_type": "code",
   "execution_count": 10,
   "metadata": {},
   "outputs": [],
   "source": [
    "from langdetect import detect\n",
    "import json\n",
    "import re\n",
    "\n",
    "def lang(text):\n",
    "    try:\n",
    "        return 'uk' if detect(text) == 'uk' else 'other'\n",
    "    except:\n",
    "        return 'other'\n",
    "    \n",
    "def has_text(comment):\n",
    "    return comment['text'] or comment['advantages'] or comment['shortcomings']\n",
    "\n",
    "def concat_text(comment):\n",
    "    text = ''\n",
    "    \n",
    "    if comment['advantages']:\n",
    "        text += comment['advantages']\n",
    "        \n",
    "        if comment['shortcomings']:\n",
    "            text += '.'\n",
    "        \n",
    "    if comment['shortcomings']:\n",
    "        text += comment['shortcomings']\n",
    "    \n",
    "    return text\n",
    "\n",
    "def load_data(f):\n",
    "    data = []\n",
    "    with open(f, 'r') as rows:\n",
    "        for row in rows:\n",
    "            comment = json.loads(row)\n",
    "            if has_text(comment):\n",
    "                text = concat_text(comment)\n",
    "                comment['lang'] = lang(text)\n",
    "                data.append(comment)\n",
    "\n",
    "    return data"
   ]
  },
  {
   "cell_type": "code",
   "execution_count": 11,
   "metadata": {},
   "outputs": [],
   "source": [
    "comments = load_data('comments.json')"
   ]
  },
  {
   "cell_type": "markdown",
   "metadata": {},
   "source": [
    "## Загальний аналіз"
   ]
  },
  {
   "cell_type": "code",
   "execution_count": 99,
   "metadata": {},
   "outputs": [],
   "source": [
    "import pandas as pd\n",
    "import numpy as np"
   ]
  },
  {
   "cell_type": "code",
   "execution_count": 13,
   "metadata": {},
   "outputs": [],
   "source": [
    "df = pd.DataFrame(comments)"
   ]
  },
  {
   "cell_type": "code",
   "execution_count": 14,
   "metadata": {},
   "outputs": [
    {
     "data": {
      "text/plain": [
       "id                      24517\n",
       "name                    24517\n",
       "rate                    21270\n",
       "text                    24517\n",
       "advantages              24517\n",
       "shortcomings            24517\n",
       "positive_votes_count    24517\n",
       "negative_votes_count    24517\n",
       "lang                    24517\n",
       "dtype: int64"
      ]
     },
     "execution_count": 14,
     "metadata": {},
     "output_type": "execute_result"
    }
   ],
   "source": [
    "df.count()"
   ]
  },
  {
   "cell_type": "code",
   "execution_count": 15,
   "metadata": {},
   "outputs": [
    {
     "name": "stdout",
     "output_type": "stream",
     "text": [
      "other    21925\n",
      "uk        2592\n",
      "Name: lang, dtype: int64\n"
     ]
    },
    {
     "data": {
      "image/png": "[encoded data removed]",
      "text/plain": [
       "<Figure size 432x288 with 1 Axes>"
      ]
     },
     "metadata": {},
     "output_type": "display_data"
    }
   ],
   "source": [
    "counts = df['lang'].value_counts()\n",
    "counts.plot(kind='pie')\n",
    "print(counts)"
   ]
  },
  {
   "cell_type": "code",
   "execution_count": 16,
   "metadata": {},
   "outputs": [
    {
     "data": {
      "text/plain": [
       "<matplotlib.axes._subplots.AxesSubplot at 0x11d5e1040>"
      ]
     },
     "execution_count": 16,
     "metadata": {},
     "output_type": "execute_result"
    },
    {
     "data": {
      "image/png": "[encoded data removed]",
      "text/plain": [
       "<Figure size 432x288 with 1 Axes>"
      ]
     },
     "metadata": {
      "needs_background": "light"
     },
     "output_type": "display_data"
    }
   ],
   "source": [
    "df['rate'].value_counts().plot(kind='bar')"
   ]
  },
  {
   "cell_type": "code",
   "execution_count": 17,
   "metadata": {},
   "outputs": [
    {
     "data": {
      "text/html": [
       "<div>\n",
       "<style scoped>\n",
       "    .dataframe tbody tr th:only-of-type {\n",
       "        vertical-align: middle;\n",
       "    }\n",
       "\n",
       "    .dataframe tbody tr th {\n",
       "        vertical-align: top;\n",
       "    }\n",
       "\n",
       "    .dataframe thead th {\n",
       "        text-align: right;\n",
       "    }\n",
       "</style>\n",
       "<table border=\"1\" class=\"dataframe\">\n",
       "  <thead>\n",
       "    <tr style=\"text-align: right;\">\n",
       "      <th></th>\n",
       "      <th>id</th>\n",
       "      <th>name</th>\n",
       "      <th>rate</th>\n",
       "      <th>text</th>\n",
       "      <th>advantages</th>\n",
       "      <th>shortcomings</th>\n",
       "      <th>positive_votes_count</th>\n",
       "      <th>negative_votes_count</th>\n",
       "      <th>lang</th>\n",
       "    </tr>\n",
       "  </thead>\n",
       "  <tbody>\n",
       "    <tr>\n",
       "      <th>0</th>\n",
       "      <td>45961962</td>\n",
       "      <td>Алексей Поповиченко</td>\n",
       "      <td>NaN</td>\n",
       "      <td>Повесил , подключил— работает. Предыдущий тако...</td>\n",
       "      <td></td>\n",
       "      <td></td>\n",
       "      <td>1</td>\n",
       "      <td>0</td>\n",
       "      <td>other</td>\n",
       "    </tr>\n",
       "    <tr>\n",
       "      <th>1</th>\n",
       "      <td>45939257</td>\n",
       "      <td>Олена Підіпригора</td>\n",
       "      <td>5.0</td>\n",
       "      <td>Хороший бойлер</td>\n",
       "      <td>Цена</td>\n",
       "      <td></td>\n",
       "      <td>2</td>\n",
       "      <td>0</td>\n",
       "      <td>other</td>\n",
       "    </tr>\n",
       "    <tr>\n",
       "      <th>2</th>\n",
       "      <td>45936390</td>\n",
       "      <td>Андрій Іваночко</td>\n",
       "      <td>5.0</td>\n",
       "      <td>Хороший бойлер. Працює дуже тихо. Воду гріє шв...</td>\n",
       "      <td></td>\n",
       "      <td></td>\n",
       "      <td>1</td>\n",
       "      <td>0</td>\n",
       "      <td>other</td>\n",
       "    </tr>\n",
       "    <tr>\n",
       "      <th>3</th>\n",
       "      <td>45908030</td>\n",
       "      <td>Світлана Вегера</td>\n",
       "      <td>4.0</td>\n",
       "      <td>Доставлино дуже швидко.Все прийшло в цілому і ...</td>\n",
       "      <td></td>\n",
       "      <td></td>\n",
       "      <td>0</td>\n",
       "      <td>1</td>\n",
       "      <td>other</td>\n",
       "    </tr>\n",
       "    <tr>\n",
       "      <th>4</th>\n",
       "      <td>45903077</td>\n",
       "      <td>Анна Амиралиева</td>\n",
       "      <td>5.0</td>\n",
       "      <td>Пока работает, нареканий нет.</td>\n",
       "      <td></td>\n",
       "      <td></td>\n",
       "      <td>1</td>\n",
       "      <td>0</td>\n",
       "      <td>other</td>\n",
       "    </tr>\n",
       "  </tbody>\n",
       "</table>\n",
       "</div>"
      ],
      "text/plain": [
       "         id                 name  rate  \\\n",
       "0  45961962  Алексей Поповиченко   NaN   \n",
       "1  45939257    Олена Підіпригора   5.0   \n",
       "2  45936390      Андрій Іваночко   5.0   \n",
       "3  45908030      Світлана Вегера   4.0   \n",
       "4  45903077      Анна Амиралиева   5.0   \n",
       "\n",
       "                                                text advantages shortcomings  \\\n",
       "0  Повесил , подключил— работает. Предыдущий тако...                           \n",
       "1                                     Хороший бойлер       Цена                \n",
       "2  Хороший бойлер. Працює дуже тихо. Воду гріє шв...                           \n",
       "3  Доставлино дуже швидко.Все прийшло в цілому і ...                           \n",
       "4                      Пока работает, нареканий нет.                           \n",
       "\n",
       "   positive_votes_count  negative_votes_count   lang  \n",
       "0                     1                     0  other  \n",
       "1                     2                     0  other  \n",
       "2                     1                     0  other  \n",
       "3                     0                     1  other  \n",
       "4                     1                     0  other  "
      ]
     },
     "execution_count": 17,
     "metadata": {},
     "output_type": "execute_result"
    }
   ],
   "source": [
    "df.head()"
   ]
  },
  {
   "cell_type": "code",
   "execution_count": 18,
   "metadata": {},
   "outputs": [
    {
     "data": {
      "text/html": [
       "<div>\n",
       "<style scoped>\n",
       "    .dataframe tbody tr th:only-of-type {\n",
       "        vertical-align: middle;\n",
       "    }\n",
       "\n",
       "    .dataframe tbody tr th {\n",
       "        vertical-align: top;\n",
       "    }\n",
       "\n",
       "    .dataframe thead th {\n",
       "        text-align: right;\n",
       "    }\n",
       "</style>\n",
       "<table border=\"1\" class=\"dataframe\">\n",
       "  <thead>\n",
       "    <tr style=\"text-align: right;\">\n",
       "      <th></th>\n",
       "      <th>id</th>\n",
       "      <th>name</th>\n",
       "      <th>rate</th>\n",
       "      <th>text</th>\n",
       "      <th>advantages</th>\n",
       "      <th>shortcomings</th>\n",
       "      <th>positive_votes_count</th>\n",
       "      <th>negative_votes_count</th>\n",
       "      <th>lang</th>\n",
       "    </tr>\n",
       "  </thead>\n",
       "  <tbody>\n",
       "    <tr>\n",
       "      <th>24512</th>\n",
       "      <td>45687941</td>\n",
       "      <td>Дарья Донцова</td>\n",
       "      <td>5.0</td>\n",
       "      <td>Отличный вариант для увлажнения воздуха на раб...</td>\n",
       "      <td>1. Хорошо увлажняет воздух на рабочем месте. 2...</td>\n",
       "      <td>Пока не обнаружены.</td>\n",
       "      <td>0</td>\n",
       "      <td>0</td>\n",
       "      <td>other</td>\n",
       "    </tr>\n",
       "    <tr>\n",
       "      <th>24513</th>\n",
       "      <td>44989296</td>\n",
       "      <td>Ирина</td>\n",
       "      <td>5.0</td>\n",
       "      <td>Прекрасный мини-увлажнитель,очень экономно рас...</td>\n",
       "      <td></td>\n",
       "      <td></td>\n",
       "      <td>1</td>\n",
       "      <td>0</td>\n",
       "      <td>other</td>\n",
       "    </tr>\n",
       "    <tr>\n",
       "      <th>24514</th>\n",
       "      <td>44779294</td>\n",
       "      <td>Тетяна Федун</td>\n",
       "      <td>2.0</td>\n",
       "      <td>Пройшов тиждень і зволожувач перестав працюват...</td>\n",
       "      <td>Красивий</td>\n",
       "      <td>Забивається!!!</td>\n",
       "      <td>0</td>\n",
       "      <td>0</td>\n",
       "      <td>uk</td>\n",
       "    </tr>\n",
       "    <tr>\n",
       "      <th>24515</th>\n",
       "      <td>44707415</td>\n",
       "      <td>Юля Юля</td>\n",
       "      <td>5.0</td>\n",
       "      <td>Работал всю ночь в интервальном режиме - испол...</td>\n",
       "      <td>Оооочень милый, удобный, маленький. Прорезинен...</td>\n",
       "      <td>При первом включении был немного неприятных за...</td>\n",
       "      <td>2</td>\n",
       "      <td>0</td>\n",
       "      <td>other</td>\n",
       "    </tr>\n",
       "    <tr>\n",
       "      <th>24516</th>\n",
       "      <td>44055493</td>\n",
       "      <td>Ніна\\tЖук</td>\n",
       "      <td>0.0</td>\n",
       "      <td>Все якісне, все працює. Повітр\"я дійсно зволож...</td>\n",
       "      <td></td>\n",
       "      <td></td>\n",
       "      <td>0</td>\n",
       "      <td>0</td>\n",
       "      <td>other</td>\n",
       "    </tr>\n",
       "  </tbody>\n",
       "</table>\n",
       "</div>"
      ],
      "text/plain": [
       "             id           name  rate  \\\n",
       "24512  45687941  Дарья Донцова   5.0   \n",
       "24513  44989296          Ирина   5.0   \n",
       "24514  44779294   Тетяна Федун   2.0   \n",
       "24515  44707415        Юля Юля   5.0   \n",
       "24516  44055493      Ніна\\tЖук   0.0   \n",
       "\n",
       "                                                    text  \\\n",
       "24512  Отличный вариант для увлажнения воздуха на раб...   \n",
       "24513  Прекрасный мини-увлажнитель,очень экономно рас...   \n",
       "24514  Пройшов тиждень і зволожувач перестав працюват...   \n",
       "24515  Работал всю ночь в интервальном режиме - испол...   \n",
       "24516  Все якісне, все працює. Повітр\"я дійсно зволож...   \n",
       "\n",
       "                                              advantages  \\\n",
       "24512  1. Хорошо увлажняет воздух на рабочем месте. 2...   \n",
       "24513                                                      \n",
       "24514                                           Красивий   \n",
       "24515  Оооочень милый, удобный, маленький. Прорезинен...   \n",
       "24516                                                      \n",
       "\n",
       "                                            shortcomings  \\\n",
       "24512                                Пока не обнаружены.   \n",
       "24513                                                      \n",
       "24514                                     Забивається!!!   \n",
       "24515  При первом включении был немного неприятных за...   \n",
       "24516                                                      \n",
       "\n",
       "       positive_votes_count  negative_votes_count   lang  \n",
       "24512                     0                     0  other  \n",
       "24513                     1                     0  other  \n",
       "24514                     0                     0     uk  \n",
       "24515                     2                     0  other  \n",
       "24516                     0                     0  other  "
      ]
     },
     "execution_count": 18,
     "metadata": {},
     "output_type": "execute_result"
    }
   ],
   "source": [
    "df.tail()"
   ]
  },
  {
   "cell_type": "code",
   "execution_count": 63,
   "metadata": {},
   "outputs": [],
   "source": [
    "uk_df = df[(df['lang'] == 'uk') & df['rate']]"
   ]
  },
  {
   "cell_type": "code",
   "execution_count": 64,
   "metadata": {},
   "outputs": [
    {
     "name": "stderr",
     "output_type": "stream",
     "text": [
      "<ipython-input-64-cfe859f9dc25>:1: SettingWithCopyWarning: \n",
      "A value is trying to be set on a copy of a slice from a DataFrame.\n",
      "Try using .loc[row_indexer,col_indexer] = value instead\n",
      "\n",
      "See the caveats in the documentation: https://pandas.pydata.org/pandas-docs/stable/user_guide/indexing.html#returning-a-view-versus-a-copy\n",
      "  uk_df['rate'] = uk_df['rate'].astype('int')\n"
     ]
    },
    {
     "data": {
      "text/plain": [
       "count    1940.000000\n",
       "mean        4.179897\n",
       "std         1.213687\n",
       "min         1.000000\n",
       "25%         4.000000\n",
       "50%         5.000000\n",
       "75%         5.000000\n",
       "max         5.000000\n",
       "Name: rate, dtype: float64"
      ]
     },
     "execution_count": 64,
     "metadata": {},
     "output_type": "execute_result"
    }
   ],
   "source": [
    "uk_df['rate'] = uk_df['rate'].astype('int')\n",
    "uk_df['rate'].describe()"
   ]
  },
  {
   "cell_type": "code",
   "execution_count": 98,
   "metadata": {},
   "outputs": [
    {
     "data": {
      "text/plain": [
       "5    1116\n",
       "4     437\n",
       "3     145\n",
       "1     138\n",
       "2     104\n",
       "Name: rate, dtype: int64"
      ]
     },
     "execution_count": 98,
     "metadata": {},
     "output_type": "execute_result"
    }
   ],
   "source": [
    "uk_df['rate'].value_counts()"
   ]
  },
  {
   "cell_type": "code",
   "execution_count": 97,
   "metadata": {},
   "outputs": [
    {
     "data": {
      "text/html": [
       "<div>\n",
       "<style scoped>\n",
       "    .dataframe tbody tr th:only-of-type {\n",
       "        vertical-align: middle;\n",
       "    }\n",
       "\n",
       "    .dataframe tbody tr th {\n",
       "        vertical-align: top;\n",
       "    }\n",
       "\n",
       "    .dataframe thead th {\n",
       "        text-align: right;\n",
       "    }\n",
       "</style>\n",
       "<table border=\"1\" class=\"dataframe\">\n",
       "  <thead>\n",
       "    <tr style=\"text-align: right;\">\n",
       "      <th></th>\n",
       "      <th>rate</th>\n",
       "      <th>mean_len_text</th>\n",
       "    </tr>\n",
       "  </thead>\n",
       "  <tbody>\n",
       "    <tr>\n",
       "      <th>0</th>\n",
       "      <td>1</td>\n",
       "      <td>259.376812</td>\n",
       "    </tr>\n",
       "    <tr>\n",
       "      <th>1</th>\n",
       "      <td>2</td>\n",
       "      <td>242.692308</td>\n",
       "    </tr>\n",
       "    <tr>\n",
       "      <th>2</th>\n",
       "      <td>3</td>\n",
       "      <td>257.317241</td>\n",
       "    </tr>\n",
       "    <tr>\n",
       "      <th>3</th>\n",
       "      <td>4</td>\n",
       "      <td>224.906178</td>\n",
       "    </tr>\n",
       "    <tr>\n",
       "      <th>4</th>\n",
       "      <td>5</td>\n",
       "      <td>174.870072</td>\n",
       "    </tr>\n",
       "  </tbody>\n",
       "</table>\n",
       "</div>"
      ],
      "text/plain": [
       "   rate  mean_len_text\n",
       "0     1     259.376812\n",
       "1     2     242.692308\n",
       "2     3     257.317241\n",
       "3     4     224.906178\n",
       "4     5     174.870072"
      ]
     },
     "execution_count": 97,
     "metadata": {},
     "output_type": "execute_result"
    }
   ],
   "source": [
    "uk_df.groupby('rate')['text'].apply(lambda x: np.mean(x.str.len())).reset_index(name='mean_len_text')"
   ]
  },
  {
   "cell_type": "code",
   "execution_count": 66,
   "metadata": {},
   "outputs": [
    {
     "name": "stdout",
     "output_type": "stream",
     "text": [
      "- 🙂 Все нормально, але одразу після закінчення гарантійного терміну - потік бак... <br />\n",
      "3 роки та 2 міс до цього працювало все норм.\n",
      "- 🥰 покупкою задоволений\n",
      "- 😋 Працює вже більше року, нарікань не має. При тому, що вода дуже жорстка і велика кількість накипи.\n",
      "- 🥰 Прийшов без пошкоджень. Воду гріє. Доставка швидко, на наступний день. Упакавани на совість чюдово.\n",
      "- 😔 \n",
      "- 😋 при покупці купив PREMIUM доставку виписав недавно технічні світильники з поміткою преміум а за доставку нарахувало 55 грн в коментах до заказу писав -ніхто не відгукнувся мабуть обман\n",
      "- 🥰 Я дуже задоволений. Бойлер вже більше ніж півроку служить. Поки що все дуже добре. Купував, прочитавши відгуки, не шкодую.\n",
      "- 🥰 Поки новий,недоліків не знайшов.Далі буде видно.\n",
      "- 🥰 Товаром задоволені. 4 місяці працює. 2 години і вода нагріта з нуля. Тримаємо завжди включеним, електроенергії споживає мало.\n",
      "- 🥰 Відправили без вентилятора.\n",
      "- 🥰 Получил  бойлер без подарка. Вентилятора не было!\n",
      "- 🥰 Чудорвий бойлер, заказав і батькам такий\n",
      "- 🥰 Все геніальне - просте)\n",
      "- 🥰 Безкоштовно доставили прямо до дверей! Дякую!\n",
      "- 🥰 #моєрозпакування<br />\n",
      "<br />\n",
      "Поки тільки купив.\n",
      "- 🥰 Бойлер свою функцію виконує на всі 100 %, + знижка на бойлер та фільтр в подарунок, сервіс Розетки на високому рівні. Замовлення зробив у 13:00 в 17:00 забрав з магазину. Навіть допомогли завантажити в автомобіль.\n",
      "- 🥰 Пів року, поки що все влаштовує\n",
      "- 😔 Бойлер підходить для однокімнатної квартири,  в якій проживає одна людина. Для сім'ї з двох, а тим більше трьох людей його не вистачає КАТАСТРОФІЧНО. Кнопка нагрівання загорається одразу, як тільки відкриваєш гарячу воду. Через 10 хвилин починає текти абсолютно холодна вода.\n",
      "- 😋 За тримісяці не вивив жодних недоліків, економваріант.\n",
      "- 😡 Не пропрацював і року\n"
     ]
    }
   ],
   "source": [
    "def print_comment(comment):\n",
    "    tags = ['😡', '😔', '🙂', '😋', '🥰']\n",
    "    print('- ' + str(tags[int(comment['rate'] - 1)]) + ' ' + comment['text'])\n",
    "\n",
    "for i, comment in uk_df[:20].iterrows():\n",
    "    print_comment(comment)"
   ]
  },
  {
   "cell_type": "markdown",
   "metadata": {},
   "source": [
    "## Спостереження\n",
    "\n",
    "- Відугіків українською вийшло лише близько 10%\n",
    "- розподілення по оцінкам не сбалансоване, домінує оцінка «5»\n",
    "- відгуки містить html теги `<br />`\n",
    "- відгуки містять одруківки\n",
    "- позитивні коментарі містять такі слова: дуже задоволені, класний, рекомендую, простий, надійний"
   ]
  },
  {
   "cell_type": "code",
   "execution_count": 67,
   "metadata": {},
   "outputs": [
    {
     "name": "stderr",
     "output_type": "stream",
     "text": [
      "<ipython-input-67-9b3d729521b0>:4: SettingWithCopyWarning: \n",
      "A value is trying to be set on a copy of a slice from a DataFrame.\n",
      "Try using .loc[row_indexer,col_indexer] = value instead\n",
      "\n",
      "See the caveats in the documentation: https://pandas.pydata.org/pandas-docs/stable/user_guide/indexing.html#returning-a-view-versus-a-copy\n",
      "  uk_df['text'] = uk_df['text'].apply(clean_text)\n"
     ]
    }
   ],
   "source": [
    "def clean_text(txt):\n",
    "    return re.sub('<br />', ' ', txt)\n",
    "\n",
    "uk_df['text'] = uk_df['text'].apply(clean_text)"
   ]
  },
  {
   "cell_type": "markdown",
   "metadata": {},
   "source": [
    "## Аналіз інформації в блоках переваг та недоліків"
   ]
  },
  {
   "cell_type": "code",
   "execution_count": 68,
   "metadata": {},
   "outputs": [
    {
     "name": "stdout",
     "output_type": "stream",
     "text": [
      "- 👍 Виконує свої функції.Хороший зволожувач. | 👎 Немає\n",
      "- 👍 Лише як додатковий підігрів | 👎 За надто слабкий, щоб бути основним підігрівом\n",
      "- 👍 Дизайн, якість | 👎 Нема\n",
      "- 👍 ціна=якість | 👎 не виявив\n",
      "- 👍 Гріє добре | 👎 Немає\n",
      "- 👍 Нормально охолоджує | 👎 \n",
      "- 👍 простий у використання, зрозуміла сенсорна панель та пульт, великий об'єм на довго вистачає | 👎 потрібно зливати воду коли довго не користуюся\n",
      "- 👍 За таку ціну просто фантастичний конвектор. | 👎 Не виявила.\n",
      "- 👍 гріє | 👎 пока не побачили\n",
      "- 👍 Невелика ціна, працює та гріє добре | 👎 прийшов з оббитою краскою подертий\n",
      "- 👍 Нескладний в установці,воду гріє добре,на вигляд непогано | 👎 Поки немає\n",
      "- 👍 Якість, ціна | 👎 Немає\n",
      "- 👍 Поки нема опалення зі своїми обов'язками справляється гарно | 👎 Мабуть чекав забагато від нього, ніколи не було масляного обігрівача. При першому використані пройшло годин 5, перш ніж в кімнаті стало тепло, хоча працював на повну. І електрику їсть гарно :(\n",
      "- 👍 Працює. Гріє. Ціна. | 👎 -\n",
      "- 👍 Ціна, потужність | 👎 Впринципі за такі гроші нема.\n",
      "- 👍 Відчизняний виробник!!! Простий монтаж. Економічність. Програмований таймер. | 👎 Трохи важкуват (але з огляду на те з чого він зроблен, то це нормально).\n",
      "- 👍 Гріє | 👎 Не зберігає налаштування після вимкнення, стандартна темперартура при ввімненні 35 градусів, таймером можна тільки вимкнути пристрій\n",
      "- 👍 Гарна ціна, вимірювання вологості, іонізація | 👎 дуже гучний та неприємний звук при натисканні кнопок!!!\n",
      "- 👍 Вигляд,матеріали,потужнісьть,wifi | 👎 Ціна\n",
      "- 👍 Виклнує свою роботу на відмінно, особливо зважаючи на ціну | 👎 \n"
     ]
    }
   ],
   "source": [
    "uk_df[(uk_df['advantages'] != None) | (uk_df['shortcomings'] != None)]\n",
    "data = uk_df.sample(n = 20)[['advantages','shortcomings']]\n",
    "\n",
    "for i, comment in data[:20].iterrows():\n",
    "    print('- ' + '👍 ' + comment['advantages'] + ' | ' + '👎 ' + comment['shortcomings'])"
   ]
  },
  {
   "cell_type": "markdown",
   "metadata": {},
   "source": [
    "## Спостереження\n",
    "\n",
    "- Переваги та недоліки містять здебільшого факти, та не виражать ставлення авторів.\n",
    "- Є складнощі з тим щоб використати ці дані. Справедливо можливо припустити, що переваги видають позитивне ставлення, а недоліки — негативне. Але як враховувати ситуацію, коли є і переваги і недоліки одночасно? Так кол\n",
    "- Також постає питання, що саме потрібно визначити: ставлення покупця до товару? емоцію коментаря? емоцію автора коментаря? Факти про товар? Заламався / проправцював?  Наприклад «тен згорів на 2 день» не містить жодного сентимента, але знаючи контекст, що тен не повинні горіти на 2 день, можливо припустити, що автор виражає негативне ставлення у своєму коментарі.\n",
    "- Також не зрозуміло як влючити цю інформацюі в текст коментаря, щоб модель розпізнало переваги, як переваги та недоліки, як недоліки."
   ]
  },
  {
   "cell_type": "code",
   "execution_count": 87,
   "metadata": {},
   "outputs": [],
   "source": [
    "from sklearn.feature_extraction.text import CountVectorizer\n",
    "\n",
    "def show_comments_by_rate(rate = 1, n = 20):\n",
    "    data = uk_df[(uk_df['rate'] == rate) & uk_df['text']].sample(n = n)\n",
    "    for i, comment in data[:20].iterrows():\n",
    "        print('💭 ' + comment['text'])\n",
    "        \n",
    "def show_top_words(rate = 1, n = 20):\n",
    "    data = uk_df[uk_df['rate'] == rate]\n",
    "    vec = CountVectorizer()\n",
    "    transformed_data = vec.fit_transform(data['text'])\n",
    "\n",
    "    sum_words = transformed_data.sum(axis=0)\n",
    "\n",
    "    words_freq = [(word, sum_words[0, idx]) for word, idx in vec.vocabulary_.items()]\n",
    "    words_freq = sorted(words_freq, key = lambda x: x[1], reverse=True)\n",
    "    print(words_freq[:n])\n",
    "    \n",
    "def show_top_bigrams(rate = 1, n = 20):\n",
    "    data = uk_df[uk_df['rate'] == rate]\n",
    "    vec = CountVectorizer(ngram_range=(2, 2))\n",
    "    transformed_data = vec.fit_transform(data['text'])\n",
    "\n",
    "    sum_words = transformed_data.sum(axis=0)\n",
    "\n",
    "    words_freq = [(word, sum_words[0, idx]) for word, idx in vec.vocabulary_.items()]\n",
    "    words_freq = sorted(words_freq, key = lambda x: x[1], reverse=True)\n",
    "    print(words_freq[:n])"
   ]
  },
  {
   "cell_type": "markdown",
   "metadata": {},
   "source": [
    "## Аналіз комментарів з рейтингом 1"
   ]
  },
  {
   "cell_type": "code",
   "execution_count": 70,
   "metadata": {},
   "outputs": [
    {
     "name": "stdout",
     "output_type": "stream",
     "text": [
      "[('не', 213), ('на', 133), ('що', 75), ('як', 38), ('через', 38), ('але', 37), ('за', 34), ('це', 34), ('по', 30), ('так', 27), ('він', 25), ('та', 24), ('після', 23), ('при', 22), ('для', 22), ('працює', 22), ('бойлер', 22), ('його', 22), ('тому', 20), ('товар', 19)]\n"
     ]
    }
   ],
   "source": [
    "show_top_words(1)"
   ]
  },
  {
   "cell_type": "code",
   "execution_count": 71,
   "metadata": {},
   "outputs": [
    {
     "name": "stdout",
     "output_type": "stream",
     "text": [
      "[('не рекомендую', 17), ('не працює', 13), ('не раджу', 10), ('так як', 9), ('тому що', 9), ('він не', 8), ('це не', 6), ('нікому не', 5), ('нічого не', 5), ('не гріє', 5), ('не знаю', 5), ('через місяць', 5), ('те що', 4), ('що робити', 4), ('під час', 4), ('гарантійний талон', 4), ('сказав що', 4), ('сервісний центр', 4), ('перестав працювати', 4), ('але через', 4)]\n"
     ]
    }
   ],
   "source": [
    "show_top_bigrams(1)"
   ]
  },
  {
   "cell_type": "code",
   "execution_count": 91,
   "metadata": {},
   "outputs": [
    {
     "name": "stdout",
     "output_type": "stream",
     "text": [
      "💭 Здохла за сезон\n",
      "💭 Сьогодні отримала конвектор, включила, запрацював зразу, виділяючи неприємний запах. Попрацював 1хв. Виключила.  Знову включила -  не працює. Кілька разів включала -не працює. Що робити? Дуже надіялась, але розчарована.\n",
      "💭 Через 4 місяці нормальної роботи почав вибивати світло\n",
      "💭 конструкція виконана таким чином, що мені страшно залишати його вдома з наповненим 5 літровим баком - тому що в любий момент він може потікти \n",
      "Заливка відбувається з потребою у перевиртання бачка - це все дуже не зручно \n",
      "Не рекомендую, краще взяти менше обємом і більш якісний\n",
      "💭 Грів добре,був трішки запах палі при нагріванні\n",
      "💭 За тиждень часу почав сильно протікати. \n",
      "Калюжі, нерви і абсолютне розчарування. \n",
      "По гарантії не збирався звертатись, товар дешевий, не маю часу на такі справи. Викинув у смітник.\n",
      "💭 В комплекті немає ніжок для підлогового розміщення, хоча в описі товару вказано 2 комплекти кріплень та можливість підлогового розміщення, та, оскільки в продажі окремо ніжок до нього нема, довелось виготовляти у майстра-зварювальника самостійно. \n",
      "Задня металева стінка нагрівається занадто інтенсивно, є високий ризик опіку при простому дотику, пожежі при контакті задньої стінки із займистими поверхнями. Фактично між нагрівальним елементом (тен-спіраль) та задньою простою металевою стінкою товщиною 1-2 мм є всього 1 см повітря та жодної термоізоляції, тому задня стінка розігрівається практично як тен-нагрівач, коли передня керамічна плита ще ледь тепла. При монтажі на стіну наполегливо рекомендую якусь термоізоляцію, при підлоговому розміщенні - бути дуже обережним! \n",
      "А взагалі наполегливо не рекомендую вибирати дану модель!\n",
      "💭 Місяць користування і корпус лопнув і купа тріщин через які витекла вода. Вкрай незадоволена!\n",
      "💭 Нет шнура в розетку!какой покупать и как шнур подключить к бойлеру?Такую информацию нужно указывать к объявление, а делать сюрприз для покупателей!\n",
      "💭 Не задоволені!\n",
      "💭 Не рекомендую даний товар.все видно на відео.\n",
      "💭 Сьогодні забрав з нової пошти. Оглянув упаковку, вона була абсолютно ціла. Розпакувавши дома ми були так мовити в шоці, корпус вентилятора проломлений. Но ми всеодно попробували включити, але крім густого білого диму нічого не побачили!!! Поясніть що робити в даному випадку?!\n",
      "💭 не працює вайфай. не знаходить точку. інструкція не підходить для нашого регіону.\n",
      "💭 За тиждень роботи перестав працювати.  Куди звертатись за гарантією.\n",
      "💭 Працював нормально місяців 2, потім почав воняти тими запахами, які вбирав. Провітрити фільтр не допомогло. Міняти його кожні 2-3 місяці теж не дуже. \n",
      "Купили фільтр в іншому магащині, але при використанні сильно воняє пластмасою \n",
      "Не рекомендую купляти, якщо не хочете потім мучитись з фільтрами\n",
      "💭 Безпосередньо до термогігрометра зауважень як таких немає, має в своєму складі всі необхідні функції, простий у використанні. Проте, збентежив той факт, що товар надсилався геть іншим постачальником (chi.in, а не digi digital), на сайті якого цей же пристрій коштував набагато дешевше (110 грн. замість 175 грн.). Це змушує задуматись стосовно доброчесності продавця.\n",
      "💭 Навіть не ввімкнувся\n",
      "💭 Не знаю , чому на заводі виробника не дбають про якісну упаковку такої габаритної речі. Усі подібна техніка куплена мною раніше завжди мала захист з пінопласту по всіх краях. На пошті рідко коли перевіряю товар, тепер не перевірив, бо часу обмаль,  коробка склеєна просто клеєм, ніякого скотчу, ніяких ручок для переноски. Зверху ніяких пошкоджень не видно, але при відкритті виявлено збиті кути пластикового корпусу з двох сторін. Хотів повернути, але це не підпадає під повернення і Розетка відмовчується.\n",
      "💭 На днях купили цей бойлер, сьогодні  поставили. Нагрів воду один раз, після першого включення. Помили посуд, показув 32 градуси, хоча температура води була набагато більше. Через годину вже не горів не один індикатор( Не працює. НЕ РЕКОМЕНДУЮ! Беріть перевірені бренди, не ведіться на приємний вигляд. ВИРОБНИК, чекаю зв'язку з вами?! Куди звертатись по гарантіі?\n",
      "💭 Не проробив і двох днів. \n",
      "Поки працював, то приходилось включати на максимальну потужність, оскільки він ледве грів. \n",
      "Отвори, для з'єднання, на пластиковий ніжках і самому приборі не співпадали, і вдалося закріпити лище по 2 болти\n"
     ]
    }
   ],
   "source": [
    "show_comments_by_rate(1)"
   ]
  },
  {
   "cell_type": "markdown",
   "metadata": {},
   "source": [
    "### Спостереження щодо комментарів з рейтингом 1\n",
    "- Користувачі висловлють негативне ставлення через пряме висловленні незадоволення «не задоволена», «не раджу» і т.д.\n",
    "- Деякі користувачі повідомляють лише факти, та не дають ніякої оцінки стосовно свого ставлення щодо фактів. Наприклад: \"Пройшло півтора роки, згорів тен.\", \"Умер в 1й день\". Тільки за допомогую контексту, що техніка не повина ламатися у перший день і взгалі люди засмучуються коли щось ламається, можливо зрозуміти, що це негативний коментар. \n",
    "- Інші ознаки: слова у верхньому регістрі, декілька знаків оклику підряд, комбінація знаків оклику та питань."
   ]
  },
  {
   "cell_type": "code",
   "execution_count": 73,
   "metadata": {},
   "outputs": [
    {
     "name": "stdout",
     "output_type": "stream",
     "text": [
      "[('не', 154), ('на', 96), ('що', 54), ('але', 33), ('це', 28), ('до', 26), ('як', 25), ('за', 25), ('після', 24), ('при', 22), ('по', 20), ('так', 20), ('все', 19), ('він', 19), ('працює', 19), ('чи', 18), ('було', 16), ('бойлер', 15), ('для', 15), ('зволожувач', 15)]\n"
     ]
    }
   ],
   "source": [
    "show_top_words(2)"
   ]
  },
  {
   "cell_type": "code",
   "execution_count": 74,
   "metadata": {},
   "outputs": [
    {
     "name": "stdout",
     "output_type": "stream",
     "text": [
      "[('не рекомендую', 8), ('він не', 6), ('те що', 5), ('це не', 5), ('так що', 5), ('що на', 5), ('не працює', 5), ('гарячу воду', 4), ('гарантійний випадок', 4), ('цей зволожувач', 4), ('що не', 4), ('одним словом', 4), ('але це', 4), ('не було', 4), ('гарантійний талон', 4), ('можна було', 3), ('не гарантійний', 3), ('він працює', 3), ('того щоб', 3), ('не вмикається', 3)]\n"
     ]
    }
   ],
   "source": [
    "show_top_bigrams(2)"
   ]
  },
  {
   "cell_type": "code",
   "execution_count": 75,
   "metadata": {},
   "outputs": [
    {
     "name": "stdout",
     "output_type": "stream",
     "text": [
      "💭 Замовлення було оформлене й оплачене 24.03 , товар до сих пір не отримала( не розумію хто кинув продавець чи НП і там і там тиша... \n",
      "Надіюсь хоч тут мене почують і дадуть відповідь. Не хочу ображати магазин, можливо така ситуація виникла в зв’язку з карантином.\n",
      "💭 Такий бойлер прослужив у мене 5 років і потік після завершення гарантії. Купляла не на \"Розетці\". Чистила бойлер щороку. Не рекомендую.\n",
      "💭 Попрацював годину і не працює. Світить червоним кнопка, а не зволожує((\n",
      "💭 Конвектор хороший, але почуття обману не помякшує і подарунок. \n",
      " Цікаво у всіх конвектор в коробці вверх ногами?   \n",
      "Хочу додати ще  гаратійні талони які були в комплекті. \n",
      "1.Гарантійний талон Російської Федерації. є однією з сторінок  інструкції. Там вказана фізична адреса і телефон офіційного представника виробника. \n",
      "2.Гарантійний талон з логотипами Noirot на українській мові повністю незаповнений. \n",
      "3.Гарантійний талон від магазину Розетка де мені вказали термін гарантії 0 місяців. Фізичні адреси сервіс центрів таємниця яку знає тільки Розетка.\n",
      "💭 В даній ціновій категорії мабуть не найгірший варіант, хоча хто знає.\n",
      "💭 Придбав не читаючи відгуки на форумах, проблема цієї фірми в тому що баки з нержавіючої сталі течуть по зварним швам, бойлер  експлуатувався при тиску 3 bar і температурі 55 градусів,але і це не врятувало.\n",
      "💭 Не працює сенсорна кнопка \"інтенсивності виходу пари\", відповідно відсутня іонізація. Брак. Як можна зробити повернення?\n",
      "💭 погано те, що гарантійний термін (1 рік) закінчився раніше на 2 міс ніж підключили бойлер в експлуатацію. до найблищого сервісного ремонту 75км , виклик майстра обійдеться в суму що дорівнює ціні бойлера.\n",
      "💭 Пользуюсь пару дней, и такое хоть верни, вода еле теплая при 2-х включенных тэнах ((((((\n",
      "💭 Купували близько року назад,місяці 3 працював добре, потім стало чути неприємний запах.(мили кожні два дні, водою користувались фільтрованою).Замовили фільтр новий.Запах не зникав. Включали настройки не вище 50%.Потім перестали включати через неприємний запах, бо розбиратися, і на ремонти часу не мали. Нещодавно таки добралась до нього, почистила його повністю, помила, фільтр новий стояв так, як пімля його купівлі, ми навіть нн користувались зволожувачем. І ось включаю я його, починає пищати на всю кімнату, поміняла настройки,вроді перестав. Але знову цей запах, і чути як гуде мотор. Незнаю куди здавати в ремонт, чи уже викидати\n",
      "💭 Придбав не тут. Зовні все ок, але коли включив - всередині почало жахливо торохкотіти. Прийшлось розібрати і підігнути лопасті вентилятора, які чіплялись за корпус. Вважаю неприпустимим такі дрібниці в іменитих фірм. Не рекомендую до покупки. Читав багато відгуків про це, але фірмі і надалі начхати на свою репутацію.\n",
      "💭 Приехал фактически нерабочий. Вентилятор запускается только если его рукой раскрутить. На макс оборотах почти не дует. Буду пытаться вернуть, но при установке крестовины была поцарапана эмаль. Если не заберут, то надеюсь хоть на ремонт или замену..\n",
      "💭 Не пройшло і року, як бойлер потік в місці виходу контактів тену з бака. Сподіваючись на гарантійний випадок та безкоштовний ремонт, звернувся до авторизованого сервісного центру. Після того як інженер, на місці, вийняв тен і виявив на ньому накип, сказав, що у відповідності до гарантійного талона п.5 це не гарантійний випадок і ремонт сплачує клієнт. Доречі в тому ж гарантійному талоні сказано, що наявність бруду це теж не гарантійний випадок. \n",
      "Ремонт мені обійшовся у 40 у.о. при вартості бойлера 116. І це лише після року експлуатації. \n",
      "Хотів написати листа зі скаргою саме виробнику але ніде не зміг знайти контакти. Що, на мою думку, ставить під сумнів якість товару. \n",
      "До цього користувався майже вдвічи дешевшим ARISTON, який прослужив 3 роки без сервісного обслуговування, а у знайомого вже більше 5 років працює без сервісу.\n",
      "💭 Купила товар рік тому, впринципі гарно справлявся з своєю роботою, інколи була невеличка різниця гідро термометром. Але зараз, різниця набагато більша, буває вологість занадто високу показує(а на самому ділі в кімнаті вона низька і її треба підняти ) буває і температуру високу показує наприклад 27 градусів, коли в будинку щонайбільше 22. За зволожувачем правильний догляд, дистильована вода, фільтри змінюються, промивається. За таку ціну, хочеться якісну техніку.\n",
      "💭 Мені немає коли ходити плакатись -\\ тіпа - де там мої колеса \\....так і схавав. Друзі ! Як що замовлення не з секс шопу, то не соромьтесь провіряти покупку при отриманні !)\n",
      "💭 Три дні попрацював... і потік. :(\n",
      "💭 Гарний тільки на вигляд... Воду нагріває максимум до 35 градусів, гроші на вітер((((\n",
      "💭 При перевірці на НП працював. Принесли додому — не вмикається. Що робити?\n",
      "💭 для аматорів попрацювати вдома з інструментом, не корисний для людини пінопласт (випаровування)\n",
      "💭 Гріє, але при такій великій похибці датчика, ставимо температуру завжди приблизно. А ще продавець просто ігнорує чисельні запити на комлект з коліщатами. Виходить на малюнку вам показують як може бути, в теорії.  \n",
      "Конвектор Ок, але друзям не порадили б.  \n",
      "Строго не судіть..\n"
     ]
    }
   ],
   "source": [
    "show_comments_by_rate(2)"
   ]
  },
  {
   "cell_type": "markdown",
   "metadata": {},
   "source": [
    "## Спостереження щодо комментарів з рейтингом 2\n",
    "- Збігаються із попередніми спостереженнями щодо рейтингу 1"
   ]
  },
  {
   "cell_type": "markdown",
   "metadata": {},
   "source": [
    "## Аналіз коментарів з рейтингом 3"
   ]
  },
  {
   "cell_type": "code",
   "execution_count": 76,
   "metadata": {},
   "outputs": [
    {
     "name": "stdout",
     "output_type": "stream",
     "text": [
      "[('не', 166), ('на', 152), ('що', 59), ('але', 56), ('до', 47), ('як', 45), ('за', 44), ('це', 40), ('води', 33), ('при', 32), ('для', 30), ('працює', 28), ('дуже', 27), ('від', 26), ('так', 26), ('та', 25), ('все', 24), ('то', 24), ('воду', 23), ('по', 23)]\n"
     ]
    }
   ],
   "source": [
    "show_top_words(3)"
   ]
  },
  {
   "cell_type": "code",
   "execution_count": 77,
   "metadata": {},
   "outputs": [
    {
     "name": "stdout",
     "output_type": "stream",
     "text": [
      "[('не дуже', 8), ('до цього', 6), ('як на', 6), ('будь ласка', 6), ('не знаю', 6), ('не було', 6), ('ще не', 5), ('так як', 5), ('тому що', 5), ('нормально але', 4), ('вийшов ладу', 4), ('отвір для', 4), ('дуже добре', 4), ('чи це', 3), ('за такі', 3), ('такі гроші', 3), ('гарячої води', 3), ('те що', 3), ('захист від', 3), ('ньому немає', 3)]\n"
     ]
    }
   ],
   "source": [
    "show_top_bigrams(3)"
   ]
  },
  {
   "cell_type": "code",
   "execution_count": 78,
   "metadata": {},
   "outputs": [
    {
     "name": "stdout",
     "output_type": "stream",
     "text": [
      "💭 Бойлер на трійку, не вище - не дуже надійний.\n",
      "💭 Не в перший раз розетка пише про товар те чого немає насправді, ошукуючи таким чином покупців. \n",
      "Обирав між декількома кондиціонерами і вибрав саме цей через ці дві функції, яких, як виявилося, в ньому немає. \n",
      "Сам кондиціонер нормальний. Працює. Але....\n",
      "💭 Як зняти кришку для доступу до баків? Там два шурупа викручуються. Але кришка не знімається...\n",
      "💭 Постійно булькає, заважає спати. Підтримка каже везіть все до сервісу с чеками гарантіями паспортом та саму річ яка досить важка. По телефону не допомогають.\n",
      "💭 Купили кілька місяців назад....я незнаю чому так,  у нас в кімнаті  стоїть невеличкий туман і чомусь важко дихати - хочеться кашляти (включаємо в основному вночі, воду фільтруємо через фільтр - кувшин \"Бар єр\")\n",
      "💭 Через два приблизно місяці полетів гігрометр. Завис і більше 32 не показує. Також мені здалося, що зволожує не так інтенсивно, як було спочатку. Навіть на максимумі пари інтенсивної немає. Розчарована, на жаль.\n",
      "💭 Бойлер пропрацював 4 місяці і перестав гріти воду, мабуть згорів тен. 28.08.19 подзвонив у сервіс центр (0800505049), обіцяли прийти у понеділок 02.09.19 але не пришли і не подзвонили. Номер сервіс центру не відповідає, йдуть короткі гудки. Представники Розетки, розберіться будьласка! Митися у холодній воді - це катування!\n",
      "💭 Стартує тільки при великому струмені води і через це дуже довго розігрівається. Модуляція невдала, не електронна, а механічна. Не видно щоб було більше полум'я на старті для швидкого нагріву води. Влітку перегріває воду на мінімумі, взимку недогріває, працює в екстремальних режимах. Розчарований покупкою. Сервіс БОШ це взагалі повний борщ. Куча бабла невідомо за що, приїхало два хлопця які нічого в котлах не петрають почали умнічати взагалі не по суті, нічого не зробили тільки гроші зняли за постановку на гарантію. Про подовжену гарантію нічого не знають. Общем краще докласти гроші і купити газовий бойлер, особливо в будинок з автономною каналізацією. Або котел з резервуаром теплої води. Це лише нерви їсть.\n",
      "💭 В загалом  задоволений. Це вже третій зволожувач у мене. В цьому гарно розбиває на \"холодну пару\", краплинки дуже маленькі і вони змішуються з повітрям, не осідають конденсатом довкола зволожувача (з попередніми моделями таке траплялось). Трохи заголосно втягує воду з ємності  на сам \"розпилювач\" під час роботи (це відбувається 2-3 рази на годину). А так, нормальний бюджетний зволожувач.\n",
      "💭 все в ньому, поки подобається ( чотири дні, як купив),  скажіть, хто небудь, він має так сильно гудіти ?\n",
      "💭 Виявлена проблема: регулятор випаровування не регулює) Відразу при увімкненні шпарить на максимумі, а встановлення в інші положення регулятора (мін, або будь яке по середині) не змінює інтенсивність випаровування. Буду здавати\n",
      "💭 Водонагрівач прийшов в повній комплектації і задовільному вигляді. Встиг вже підключити і протестувати. На жаль, був дещо розчарований. По-перше, я замовив саме модель з душом, надіючись, що зможу приймати на ньому душ. Насправді, душ при нагріванні води дуже слабкий, хоча може у мене не надто сильний тиск. хоча з бойлера тиск іде нормальний. Тож, душом я не зможу користуватися. На крані - більш-менш нормальний тиск. Два - добре, що я підключив прилад до реле. При напрузі 220 - прилад чудово себе поводить, але як тіки напруга падає нижче 220 - реле спрацьовує раз за разом. Це означає, що водонагрівач дуже вимогливий до стабільної електромережі і якщо у вас дача - то не вийде цей водонагрівач нормально використати. Він буде баналньо відключатися. Ну і висновок - для холостяка, включити, умитися зранку, помити посуд - нормально. Для сім,ї, для душу, для ванни - не підійде. Це мій досвід.\n",
      "💭 Все хорошо, за исключением того, что не правильно указали серийный номер в гарантийном талоне. Теперь не знаю, будет ли обещанная гарантия или нет.\n",
      "💭 Водонагрівач наче непоганий, але незворотний-запобіжний клапан той шо був в комплекті виявився непрацюючим :( , через що тиск в системі ХВП піднявся до критичного і лопнув фільтр.\n",
      "💭 Прилад дуже чутливий до напору води. Відрегулював температуру, став під душ а сусід знизу відкрив кран і тебе вже обдає температура водогону. Цікава особливість; чим вище душова лійка над приладом - тим більш гарячу воду можна отримати. Ще вивчаю, але за придбання не жалію.\n",
      "💭 Непогана річ але не підходить для великих об'ємів. Якщо більше 30м3 ваша кімната то не рекомендую (або беріть декілька).\n",
      "💭 Конвектор красивий та працює. Це всі переваги. При встановленні необхідної температури, не підтримує її. Вимикається і недогріває. Щоб добитися потрібного тепла, необхідно ставити температуру на 2-3 градуси вище. LED-дисплей занадто яскравий. Освітлює кімнату яскравіше нічника навіть із закритою тонованою кришечкою.\n",
      "💭 Скоріше за все наступного разу не візьму.\n",
      "💭 Є з чим порівнювати, тому можу сказати, що цей зволожувач достатньо шумний. Також не дуже продумано зроблений отвір для розпилення пари, при максимальній потужності лишає навколо себе мокрий осад. \n",
      "В принципі свої функції виконує, але більше я б йог собі не купив))\n",
      "💭 Сам вентилятор крутий, але якість...\n"
     ]
    }
   ],
   "source": [
    "show_comments_by_rate(3)"
   ]
  },
  {
   "cell_type": "markdown",
   "metadata": {},
   "source": [
    "## Спостереження щодо комментарів з рейтингом 3\n",
    "- Я очікував тут побичити більшість нейтральних комментарів, але побичив близько половини негавних, частку позитивніх і досить мало нейтральних комментарів.\n",
    "- також з'явилися коментарі з негативним забарвленням виду: «все наче ок, але (і багато поганого)»\n",
    "- нейтральні коментарі містять такі слова: справляється, працює, добре"
   ]
  },
  {
   "cell_type": "markdown",
   "metadata": {},
   "source": [
    "## Спостереження щодо комментарів з рейтингом 4"
   ]
  },
  {
   "cell_type": "code",
   "execution_count": 79,
   "metadata": {},
   "outputs": [
    {
     "name": "stdout",
     "output_type": "stream",
     "text": [
      "[('не', 394), ('на', 357), ('що', 180), ('за', 135), ('але', 134), ('для', 118), ('до', 106), ('працює', 100), ('як', 94), ('при', 75), ('це', 73), ('та', 73), ('дуже', 71), ('все', 66), ('добре', 61), ('води', 55), ('так', 55), ('якщо', 53), ('його', 52), ('він', 51)]\n"
     ]
    }
   ],
   "source": [
    "show_top_words(4)"
   ]
  },
  {
   "cell_type": "code",
   "execution_count": 80,
   "metadata": {},
   "outputs": [
    {
     "name": "stdout",
     "output_type": "stream",
     "text": [
      "[('так як', 18), ('поки що', 15), ('він не', 13), ('за таку', 12), ('те що', 12), ('не дуже', 12), ('таку ціну', 11), ('не було', 11), ('працює добре', 11), ('працює тихо', 10), ('не має', 9), ('тому що', 9), ('свою ціну', 9), ('ціна якість', 8), ('але це', 8), ('за свою', 8), ('на стіну', 8), ('що він', 8), ('на ніч', 8), ('це не', 8)]\n"
     ]
    }
   ],
   "source": [
    "show_top_bigrams(4)"
   ]
  },
  {
   "cell_type": "code",
   "execution_count": 81,
   "metadata": {},
   "outputs": [
    {
     "name": "stdout",
     "output_type": "stream",
     "text": [
      "💭 Замовляв не тут. Після 3-х місяців користування даний бойлер потік. Виявився заводський дефект. Після звернення до сервісного центру виробника - даний бойлер був замінений на новий, повністю за їхній рахунок. Новий бойлер вже працює 4 місяці - ніяких нарікань немає. Рекомендую як бюджетний та простий у користування бойлер.\n",
      "💭 Хороший зволожувач, зручно наповнювати, є ручка для переноски і під час наповнення можна його поставити, а не тримати в руках. Недостатньо потужний, щоб підтримувати вологу в кімнаті майже постійно працює. Вбудований гігрометр працює правильно.Загалом задоволені товаром.\n",
      "💭 Датчик реагує але незрозумло як, вологість зросла від 31 до 42 а вікна повністю в конденсаті. Все інше добре.\n",
      "💭 Замовляв бойлер уже давно перевіреної фірми. Обробили замовлення швидко, доставили також швидко. Воду нагріває достатньо швидко і тримає температуру довго. З мінусів це немає постійної можливості регулювати температуру води.НУ але з цим можна миритись. На даний момент все задовільняє. Подивимось як буде дальше.\n",
      "💭 Подобається\n",
      "💭 Норм, купив-включив-гріє. Буду надіятися що довго пропрацює.\n",
      "💭 достатньо зручний, ефективний, легкий (навіть дитина взмозі переносити)\n",
      "💭 Гарний обігрівач. Повністю виконує свої функції (як mini). Окремо дякую за доставку.\n",
      "💭 Не поганий вентилятор, але чомусь на всіх вентиляторах зараз ротор без підшипника. Зазвичай через кілька років його треба змазувати кожен тиждень.\n",
      "💭 Компактний бойлер за хорошу ціну\n",
      "💭 Через 3 тижні використання, вчора чомусь почала мигати лампочка та що загорається при включенні в розетку, можливо у когось таке було? Підскажіть що робити\n",
      "💭 За таку ціну все норм\n",
      "💭 Підскажіть мені, будь ласка, максимальна температура яка може бути виставлена - 35 С, на практиці ж - вище позначки 25 С конвектор за три дні використання не піднімався. Хочу зрозуміти, у мене попався бракований, чи даний прилад дійсно не нагріває кімнату (12,5 м2) більше 25 градусів по Цельсію?\n",
      "💭 Замінили стару колонку (середні витрати = 35 кубів газу і 15 кубів води). \n",
      "Колонка Бош : середні витрати за півроку = 46 кубів газу і 19 кубів води. Налаштована колонка на мінімальні показники,тобто мінімум напору і температури води. В принципі задоволені що не потрібно вручну запалювати газ (що і було основною причиною заміни старої колонки),єдине  дратує що при маленькому натиску води не запалюється, потрібно кран відкрити на повну зачекати і тільки коли запалиться колонка (секунд 5-10) трошки зменшувати напір води.  Якщо відкриваємо два крани то температура падає і тиск води теж, тобто якщо хтось приймає душ то краще на кухні не чіпати воду)\n",
      "💭 За тиждень користування можу сказати одне: конвектор нормально нагріває приміщення працюючи лише на повну потужність . Якщо включити його на слабший обігрів - що включений що ні - ефекту ніякого, лиш електроенергію спалює. Правда якщо обігрівати ним кімнату весь час - вийде дуже дорого, так як споживає дуже багато електроенергії. Щодо самого конвектора: збірка якісна, присутні підставки ( підставки запаковані в пінопласт (його зовнішню сторону) - важко було знайти, думав їх не додали в комплект).\n",
      "💭 В користувані день. Все працює, досить тихий. Відносно складно налаштувати температуру, так як змінюється тиск в системі води.\n",
      "💭 Загалом гарний обігрівач, тим більше за такі гроші\n",
      "💭 Виробникам ще треба попрацювати над цим нагрівачем\n",
      "💭 Працює добре, відключається і потім знову включається, економний.\n",
      "💭 Хороший кран, гарно гріє воду. Єдиний момент, що він не розрахований на нагрівання більшого напору води, тому і в душі добре і з задоволенням не помиєшся, але як кран з гарячою водою супер. Скільки прослужить не знаю, але за п'ятсот гривень на багато і не розраховую.\n"
     ]
    }
   ],
   "source": [
    "show_comments_by_rate(4)"
   ]
  },
  {
   "cell_type": "markdown",
   "metadata": {},
   "source": [
    "## Спостереження\n",
    "- Відгуки здебільшого нейтральні, або стримано позитивні.\n",
    "- нейтральні коментарі містять: норм, звичайний, нарікань немає, загалом, все нормально"
   ]
  },
  {
   "cell_type": "markdown",
   "metadata": {},
   "source": [
    "## Аналіз комментарів з рейтингом 5"
   ]
  },
  {
   "cell_type": "code",
   "execution_count": 82,
   "metadata": {},
   "outputs": [
    {
     "name": "stdout",
     "output_type": "stream",
     "text": [
      "[('на', 615), ('не', 605), ('що', 334), ('дуже', 298), ('за', 278), ('працює', 238), ('для', 206), ('все', 185), ('як', 177), ('але', 166), ('та', 158), ('це', 146), ('швидко', 145), ('до', 134), ('бойлер', 124), ('добре', 121), ('повітря', 118), ('зволожувач', 108), ('при', 106), ('води', 99)]\n"
     ]
    }
   ],
   "source": [
    "show_top_words(5)"
   ]
  },
  {
   "cell_type": "code",
   "execution_count": 83,
   "metadata": {},
   "outputs": [
    {
     "name": "stdout",
     "output_type": "stream",
     "text": [
      "[('поки що', 31), ('швидко нагріває', 30), ('все працює', 29), ('те що', 29), ('дуже задоволений', 23), ('не було', 21), ('досить швидко', 20), ('так як', 19), ('дуже швидко', 18), ('як на', 18), ('без проблем', 17), ('свою ціну', 17), ('працює добре', 17), ('дуже зручно', 17), ('під час', 17), ('ціна якість', 17), ('гріє добре', 16), ('свої гроші', 16), ('за таку', 16), ('це не', 16)]\n"
     ]
    }
   ],
   "source": [
    "show_top_bigrams(5)"
   ]
  },
  {
   "cell_type": "code",
   "execution_count": 84,
   "metadata": {},
   "outputs": [
    {
     "name": "stdout",
     "output_type": "stream",
     "text": [
      "💭 Купував не тут. Користувався один сезон. Наприкінці сезона обігрівав дві кімнати в якості основного елемента обігріву. В кімнатах було 20-22 градуси. Періодично навіть вимикав один тен. В сильні морози в якості основного виду опалення не тестувався. При невеликих морозах в кімнаті температура цілком комфортна.\n",
      "💭 Чудовий зволожувач повітря, купив після народження дитини, клімат тепер в кімнаті просто чудовий, рекомендую тим, хто хоче мати чисте повітря з ідеальним рівнем вологості#PHILIPS;\n",
      "💭 Користуюсь вже біля року. Все працює як годинник.\n",
      "💭 Купував в жовтні 2016-го року - поки-що я дуже задоволений, реально якісний бойлер. Рекомендую!\n",
      "💭 Это очень удобно, можно запрограммировать работу электрического прибора в удобное для Вас время.  Это значительно сэкономите расход электроэнергии, а соответственно и Ваш бюджет. Аппарат нагревает не воздух, а окружающие предметы, благодаря чему даже после выключения самого прибора нагретые предметы способны отдавать тепло. Кроме того, хотелось бы отметить немаловажные свойства инфракрасных обогревателей, а именно способность убивать все вирусы и бактерии, которые скопились в воздухе благодаря инфракрасному излучению.\n",
      "💭 Користуємось бойлером трохи більше 6 місяців,за таку ціну ідеальний варіант.\n",
      "💭 Кімната в якій встановив панель знаходиться не в будинку. Приміщення не отоплюється взагалі. Розміри кімнати - довжина 280 см., ширина 200 см., висота 240 см. Панель вмикаю 2 - 3 рази на тиждень, коли знаходжусь в кімнаті. При увімкненій панелі приміщення за 1 год., 30 хв., прогрілось з +7 до майже +10. Встановив тепловідбивний екран за панелю, хоча можна було і без нього.\n",
      "💭 Хороший бойлер, поки що лише позитивні враження від користування. По ціні вийшло не дорого, тому можна сказати що навіть трохи зекономили на придбанні та установці. Місця займає небагато. Повісили на боковій стіні біля раковини. Але температуру на максимум не ставимо, бо тоді дуже гаряча вода. Виставили на сорок градусів регулятор. Зараз в спеку цього повністю вистачає.\n",
      "💭 Хороший\n",
      "💭 Купили . В комплекті: бойлер, запобіжний клапан (ледве знайшли в пінопласті у виїмці) і інструкція. Окремо докупили провід, вилку, тройник і все, що треба для підключення + купили кріплення до стіни. Працює три дні, експерементуємо і поки що дуже задоволені. Доїхав  в деревяній обрешитці.\n",
      "💭 Велика затрата електро енергії\n",
      "💭 Хороший зволожувач\n",
      "💭 Питання до представника компанії-виробника та всх хто обізнаний щодо цього приладу: яка глибина бойлера з кріпленням?\n",
      "💭 Гарний і функціональний бойлер. Користуюсь два місяці.\n",
      "💭 Товаром задоволені.\n",
      "💭 поставив як альтернативу центральному водопостачанню, вже економить мені гроші четвертий місяць. \n",
      "Покупкою задоволений, багів не помічено.\n",
      "💭 В цьому товарі гармонійно поєднані ціна і якість!\n",
      "💭 Чудовий бойлер, користуємось уже декілька років, ніяких проблем. Все супер!\n",
      "💭 Вентилятор классный)) брал себе, хорошо работает, пластмассой не воняет))\n",
      "💭 Брали з дівчиною. Спершу подумали, що варто брати нагрівач із меншим об'ємом, однак погляд зачепився за \"Економний режим \"ECO\"\" в характеристиках, відкрили інструкцію, побачили, що регулювати можна в діапазоні 30-60 градусів (режимом Еко вважається 55 градусів), це й схилило до покупки. \n",
      "Встановили без мороки, температуру поставили на позицію трішки нижчу за Еко, орієнтувалися на 50 градусів. Нагрів воду досить швидко, за дві години прийняли комфортний душ. \n",
      "Оскільки живемо удвох, а поповнення ще не планується, увімкнув у розетку із вимикачем, вирішив, що будемо вмикати принагідно. І якось два дні підряд забували вмикати бойлер, але помітили це лише на третій день, коли вода стала холоднішою, ніж зазвичай. Теплозбереження - клас)\n"
     ]
    }
   ],
   "source": [
    "show_comments_by_rate(5)"
   ]
  },
  {
   "cell_type": "markdown",
   "metadata": {},
   "source": [
    "## Спостереження\n",
    "- Позитивні відгуки мітстять такі слова: дуже, супер, рекомендую, задоволений, відмінно і т.д.\n",
    "- Позитивні відгуки містять здебільшого інформацію про якість товару та власне ставлення користувача."
   ]
  },
  {
   "cell_type": "markdown",
   "metadata": {},
   "source": [
    "## Висновки\n",
    "- Розподілення в даних не сбалансовано. Левова частка відгуків з оцінкою «5». \n",
    "- Є складнощі з тим, щоб визначити ознаки категорії «позитивний», «негативний» та «нейтральний»\n",
    "- Відгуки з оцінкою 1-2 переважно виражають або негативне ставлення до товару/компанії, або констатують факт несправності/поламки\n",
    "- Відгуки з оцінкою 3 здебільшого суперечливі: відгуки з цією оцінкою можна віднести до усіх категорій. Але здається, що у більшості відгуків переважає негативний сентимент.\n",
    "- Оцінка 4 позначає як нейтральний, так і стриманий позитивний сентимент\n",
    "- Відгуки з оцінкою 5 містять переважно позитивний сентимент\n",
    "- Негативні відгуки в середньому більш довгі ніж позитивні\n",
    "- Нетральні відгуки досить короткі, не мість прикментників вищого та найвищого ступенів порівнянь\n",
    "- Домена особливість — згадка про факт поламки / несправності можна тракутвати як негативне ставлення користувача"
   ]
  },
  {
   "cell_type": "code",
   "execution_count": 102,
   "metadata": {},
   "outputs": [],
   "source": [
    "with open('analyzed_comments.json', 'w') as json_file:\n",
    "    json_file.write(uk_df.to_json())"
   ]
  },
  {
   "cell_type": "code",
   "execution_count": null,
   "metadata": {},
   "outputs": [],
   "source": []
  }
 ],
 "metadata": {
  "kernelspec": {
   "display_name": "Python 3",
   "language": "python",
   "name": "python3"
  },
  "language_info": {
   "codemirror_mode": {
    "name": "ipython",
    "version": 3
   },
   "file_extension": ".py",
   "mimetype": "text/x-python",
   "name": "python",
   "nbconvert_exporter": "python",
   "pygments_lexer": "ipython3",
   "version": "3.8.2"
  }
 },
 "nbformat": 4,
 "nbformat_minor": 4
}
