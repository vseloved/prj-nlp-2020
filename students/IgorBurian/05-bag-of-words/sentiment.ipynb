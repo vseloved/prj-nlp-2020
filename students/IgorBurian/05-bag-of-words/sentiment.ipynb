{
 "cells": [
  {
   "cell_type": "code",
   "execution_count": 12,
   "metadata": {},
   "outputs": [],
   "source": [
    "from langdetect import detect\n",
    "import json"
   ]
  },
  {
   "cell_type": "code",
   "execution_count": 118,
   "metadata": {},
   "outputs": [],
   "source": [
    "def normalize_rate(r):\n",
    "    if r > 3:\n",
    "        return 1\n",
    "    elif r < 3:\n",
    "        return -1\n",
    "    else:\n",
    "        return 0\n",
    "\n",
    "# TODO: include adv and shortcomings\n",
    "# TODO: include votes\n",
    "# TODO: clean html tags from text\n",
    "# TODO: handle case when text is like '*****' \n",
    "def build_corpus(f):\n",
    "    X, y = [], []\n",
    "    \n",
    "    with open(f, 'r') as rows:\n",
    "        for row in rows:\n",
    "            try:\n",
    "                comment = json.loads(row)\n",
    "\n",
    "                if len(comment['text']) > 2 and comment['rate']:\n",
    "                    if comment['text'] and detect(comment['text']) == 'uk':\n",
    "                        X.append(comment['text'])\n",
    "                        y.append(normalize_rate(comment['rate']))\n",
    "\n",
    "            except:\n",
    "                print(comment)\n",
    "    return X, y"
   ]
  },
  {
   "cell_type": "code",
   "execution_count": 124,
   "metadata": {},
   "outputs": [
    {
     "name": "stdout",
     "output_type": "stream",
     "text": [
      "{'id': 15249222, 'name': 'Дмитрий', 'rate': 5, 'text': '...', 'advantages': 'качество работы, тихий, дизайн', 'shortcomings': 'возможно цена, небольшей бак для воды.', 'positive_votes_count': 1, 'negative_votes_count': 0}\n",
      "{'id': 41851414, 'name': 'Гончаренко Наталья Валерьевна', 'rate': 5, 'text': '*****', 'advantages': '', 'shortcomings': '', 'positive_votes_count': 0, 'negative_votes_count': 2}\n",
      "{'id': 12403794, 'name': 'Петро Прудивус', 'rate': 4, 'text': ':))', 'advantages': 'покупкою задоволений, простий в монтажі. ;))', 'shortcomings': 'відсутній шнур живлення', 'positive_votes_count': 0, 'negative_votes_count': 0}\n",
      "719 719\n"
     ]
    }
   ],
   "source": [
    "X, y = build_corpus('comments.json')"
   ]
  },
  {
   "cell_type": "code",
   "execution_count": 130,
   "metadata": {},
   "outputs": [
    {
     "name": "stdout",
     "output_type": "stream",
     "text": [
      "Positive:  846\n",
      "Neutral:  69\n",
      "Negative:  118\n",
      "Total:  1033\n"
     ]
    },
    {
     "data": {
      "text/plain": [
       "True"
      ]
     },
     "execution_count": 130,
     "metadata": {},
     "output_type": "execute_result"
    }
   ],
   "source": [
    "from collections import Counter\n",
    "\n",
    "stats = Counter(y)\n",
    "\n",
    "print('Positive: ', stats[1])\n",
    "print('Neutral: ', stats[0])\n",
    "print('Negative: ', stats[-1])\n",
    "print('Total: ', len(X))\n",
    "\n",
    "len(X) == len(y)"
   ]
  },
  {
   "cell_type": "code",
   "execution_count": 128,
   "metadata": {},
   "outputs": [],
   "source": [
    "from sklearn.model_selection import train_test_split\n",
    "\n",
    "X_train, X_test, y_train, y_test = train_test_split(X, y, random_state=1789)"
   ]
  },
  {
   "cell_type": "code",
   "execution_count": 115,
   "metadata": {},
   "outputs": [
    {
     "data": {
      "text/plain": [
       "<740x5711 sparse matrix of type '<class 'numpy.int64'>'\n",
       "\twith 17441 stored elements in Compressed Sparse Row format>"
      ]
     },
     "execution_count": 115,
     "metadata": {},
     "output_type": "execute_result"
    }
   ],
   "source": [
    "from sklearn.feature_extraction.text import CountVectorizer\n",
    "\n",
    "vectorizer = CountVectorizer()\n",
    "vectorizer.fit_transform(X_train)"
   ]
  },
  {
   "cell_type": "code",
   "execution_count": 116,
   "metadata": {},
   "outputs": [
    {
     "data": {
      "text/plain": [
       "MultinomialNB(alpha=1.0, class_prior=None, fit_prior=True)"
      ]
     },
     "execution_count": 116,
     "metadata": {},
     "output_type": "execute_result"
    }
   ],
   "source": [
    "from sklearn.naive_bayes import MultinomialNB\n",
    "\n",
    "clf = MultinomialNB()\n",
    "clf.fit(vectorizer.transform(X_train), y_train)"
   ]
  },
  {
   "cell_type": "code",
   "execution_count": 117,
   "metadata": {},
   "outputs": [
    {
     "name": "stdout",
     "output_type": "stream",
     "text": [
      "              precision    recall  f1-score   support\n",
      "\n",
      "    Negative       0.80      0.15      0.26        26\n",
      "     Neutral       0.00      0.00      0.00        15\n",
      "    Positive       0.85      1.00      0.92       206\n",
      "\n",
      "    accuracy                           0.85       247\n",
      "   macro avg       0.55      0.38      0.39       247\n",
      "weighted avg       0.79      0.85      0.79       247\n",
      "\n"
     ]
    },
    {
     "name": "stderr",
     "output_type": "stream",
     "text": [
      "/Users/h8si2w8/.pyenv/versions/3.8.2/lib/python3.8/site-packages/sklearn/metrics/_classification.py:1272: UndefinedMetricWarning: Precision and F-score are ill-defined and being set to 0.0 in labels with no predicted samples. Use `zero_division` parameter to control this behavior.\n",
      "  _warn_prf(average, modifier, msg_start, len(result))\n"
     ]
    }
   ],
   "source": [
    "from sklearn.metrics import classification_report\n",
    "\n",
    "X_features_test = vectorizer.transform(X_test)\n",
    "y_pred = clf.predict(X_features_test)\n",
    "\n",
    "target_names = ['Negative', 'Neutral', 'Positive']\n",
    "print(classification_report(y_test, y_pred, target_names=target_names))"
   ]
  },
  {
   "cell_type": "code",
   "execution_count": null,
   "metadata": {},
   "outputs": [],
   "source": []
  }
 ],
 "metadata": {
  "kernelspec": {
   "display_name": "Python 3",
   "language": "python",
   "name": "python3"
  },
  "language_info": {
   "codemirror_mode": {
    "name": "ipython",
    "version": 3
   },
   "file_extension": ".py",
   "mimetype": "text/x-python",
   "name": "python",
   "nbconvert_exporter": "python",
   "pygments_lexer": "ipython3",
   "version": "3.8.2"
  }
 },
 "nbformat": 4,
 "nbformat_minor": 4
}
