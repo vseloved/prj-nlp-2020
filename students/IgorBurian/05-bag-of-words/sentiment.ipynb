{
 "cells": [
  {
   "cell_type": "code",
   "execution_count": 12,
   "metadata": {},
   "outputs": [],
   "source": [
    "from langdetect import detect\n",
    "import json"
   ]
  },
  {
   "cell_type": "code",
   "execution_count": 30,
   "metadata": {},
   "outputs": [],
   "source": [
    "def normalize_rate(r):\n",
    "    if r > 3:\n",
    "        return 1\n",
    "    elif r == 3:\n",
    "        return 0\n",
    "    else:\n",
    "        return -1\n",
    "\n",
    "# TODO: include adv and shortcomings\n",
    "# TODO: include votes\n",
    "# TODO: clean html tags from text\n",
    "def build_corpus(f):\n",
    "    X, y = [], []\n",
    "    \n",
    "    with open(f, 'r') as rows:\n",
    "        try:\n",
    "            for row in rows:\n",
    "                comment = json.loads(row)\n",
    "                \n",
    "                if len(comment['text']) > 2:\n",
    "                    if comment['text'] and detect(comment['text']) == 'uk':\n",
    "                        X.append(comment['text'])\n",
    "                        y.append(normalize_rate(comment['rate'] or 0))\n",
    "                else:\n",
    "                    continue\n",
    "        except:\n",
    "            print(comment)\n",
    "\n",
    "    return X, y"
   ]
  },
  {
   "cell_type": "code",
   "execution_count": 58,
   "metadata": {},
   "outputs": [
    {
     "name": "stdout",
     "output_type": "stream",
     "text": [
      "{'id': 15249222, 'name': 'Дмитрий', 'rate': 5, 'text': '...', 'advantages': 'качество работы, тихий, дизайн', 'shortcomings': 'возможно цена, небольшей бак для воды.', 'positive_votes_count': 1, 'negative_votes_count': 0}\n"
     ]
    }
   ],
   "source": [
    "X, y = build_corpus('comments.json')"
   ]
  },
  {
   "cell_type": "code",
   "execution_count": 59,
   "metadata": {},
   "outputs": [
    {
     "name": "stdout",
     "output_type": "stream",
     "text": [
      "349 349\n"
     ]
    }
   ],
   "source": [
    "print(len(X), len(y))"
   ]
  },
  {
   "cell_type": "code",
   "execution_count": 60,
   "metadata": {},
   "outputs": [],
   "source": [
    "from sklearn.model_selection import train_test_split\n",
    "\n",
    "X_train, X_test, y_train, y_test = train_test_split(X, y, random_state=1789)"
   ]
  },
  {
   "cell_type": "code",
   "execution_count": 61,
   "metadata": {},
   "outputs": [
    {
     "data": {
      "text/plain": [
       "<261x2432 sparse matrix of type '<class 'numpy.int64'>'\n",
       "\twith 5435 stored elements in Compressed Sparse Row format>"
      ]
     },
     "execution_count": 61,
     "metadata": {},
     "output_type": "execute_result"
    }
   ],
   "source": [
    "from sklearn.feature_extraction.text import CountVectorizer\n",
    "\n",
    "vectorizer = CountVectorizer()\n",
    "vectorizer.fit_transform(X_train)"
   ]
  },
  {
   "cell_type": "code",
   "execution_count": 62,
   "metadata": {},
   "outputs": [
    {
     "data": {
      "text/plain": [
       "MultinomialNB(alpha=1.0, class_prior=None, fit_prior=True)"
      ]
     },
     "execution_count": 62,
     "metadata": {},
     "output_type": "execute_result"
    }
   ],
   "source": [
    "from sklearn.naive_bayes import MultinomialNB\n",
    "\n",
    "clf = MultinomialNB()\n",
    "clf.fit(vectorizer.transform(X_train), y_train)"
   ]
  },
  {
   "cell_type": "code",
   "execution_count": 65,
   "metadata": {},
   "outputs": [
    {
     "name": "stdout",
     "output_type": "stream",
     "text": [
      "              precision    recall  f1-score   support\n",
      "\n",
      "          -1       0.71      0.40      0.51        43\n",
      "           0       0.00      0.00      0.00         1\n",
      "           1       0.58      0.84      0.69        44\n",
      "\n",
      "    accuracy                           0.61        88\n",
      "   macro avg       0.43      0.41      0.40        88\n",
      "weighted avg       0.64      0.61      0.59        88\n",
      "\n"
     ]
    }
   ],
   "source": [
    "from sklearn.metrics import classification_report\n",
    "\n",
    "X_features_test = vectorizer.transform(X_test)\n",
    "y_pred = clf.predict(X_features_test)\n",
    "print(classification_report(y_test, y_pred))"
   ]
  },
  {
   "cell_type": "code",
   "execution_count": null,
   "metadata": {},
   "outputs": [],
   "source": []
  }
 ],
 "metadata": {
  "kernelspec": {
   "display_name": "Python 3",
   "language": "python",
   "name": "python3"
  },
  "language_info": {
   "codemirror_mode": {
    "name": "ipython",
    "version": 3
   },
   "file_extension": ".py",
   "mimetype": "text/x-python",
   "name": "python",
   "nbconvert_exporter": "python",
   "pygments_lexer": "ipython3",
   "version": "3.8.2"
  }
 },
 "nbformat": 4,
 "nbformat_minor": 4
}
