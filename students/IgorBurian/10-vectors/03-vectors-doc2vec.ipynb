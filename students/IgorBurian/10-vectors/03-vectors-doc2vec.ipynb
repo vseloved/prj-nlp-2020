{
 "cells": [
  {
   "cell_type": "markdown",
   "metadata": {},
   "source": [
    "# 3. doc2vec"
   ]
  },
  {
   "cell_type": "code",
   "execution_count": 15,
   "metadata": {},
   "outputs": [],
   "source": [
    "from utils import load_data, dump_data\n",
    "import pandas as pd\n",
    "from sklearn.metrics import classification_report\n",
    "\n",
    "VEC_SIZE = 300\n",
    "\n",
    "dataset = load_data('cleaned')"
   ]
  },
  {
   "cell_type": "code",
   "execution_count": 32,
   "metadata": {},
   "outputs": [],
   "source": [
    "from sklearn.model_selection import train_test_split\n",
    "\n",
    "X_train, X_test, y_train, y_test = train_test_split(dataset.data, dataset.target, test_size=0.33, random_state=42)"
   ]
  },
  {
   "cell_type": "code",
   "execution_count": 42,
   "metadata": {},
   "outputs": [],
   "source": [
    "from sklearn.preprocessing import LabelEncoder\n",
    "\n",
    "le = LabelEncoder()\n",
    "le.fit_transform(y_train)\n",
    "\n",
    "y_train_enc = le.transform(y_train)\n",
    "y_test_enc = le.transform(y_test)"
   ]
  },
  {
   "cell_type": "code",
   "execution_count": 43,
   "metadata": {},
   "outputs": [],
   "source": [
    "from gensim.models.doc2vec import TaggedDocument, Doc2Vec\n",
    "\n",
    "X_doc_train = [TaggedDocument(words=words, tags=[str(i)])\n",
    "               for i, words in enumerate(X_train)]\n",
    "\n",
    "X_doc_test = [TaggedDocument(words=words, tags=[str(i)])\n",
    "              for i, words in enumerate(X_test)]\n",
    "\n",
    "model = Doc2Vec(dm=1, vector_size=VEC_SIZE, min_count=5, window=10, workers=4, epochs=100)\n",
    "model.build_vocab(X_doc_train)\n",
    "model.train(X_doc_train, total_examples=model.corpus_count, epochs=model.epochs)"
   ]
  },
  {
   "cell_type": "code",
   "execution_count": 44,
   "metadata": {},
   "outputs": [],
   "source": [
    "import numpy as np\n",
    "\n",
    "X_train_vec = np.array([model.infer_vector(doc.words) for doc in X_doc_train])\n",
    "X_test_vec = np.array([model.infer_vector(doc.words) for doc in X_doc_test])"
   ]
  },
  {
   "cell_type": "code",
   "execution_count": 45,
   "metadata": {},
   "outputs": [],
   "source": [
    "from sklearn.neighbors import KNeighborsClassifier\n",
    "\n",
    "neigh = KNeighborsClassifier(n_neighbors=10, metric='cosine', n_jobs=-1)\n",
    "neigh.fit(X_train_vec, y_train_enc)\n",
    "\n",
    "y_pred = neigh.predict(X_test_vec)"
   ]
  },
  {
   "cell_type": "code",
   "execution_count": 46,
   "metadata": {},
   "outputs": [
    {
     "name": "stderr",
     "output_type": "stream",
     "text": [
      "/Users/h8si2w8/.pyenv/versions/3.8.2/lib/python3.8/site-packages/sklearn/metrics/_classification.py:1272: UndefinedMetricWarning: Precision and F-score are ill-defined and being set to 0.0 in labels with no predicted samples. Use `zero_division` parameter to control this behavior.\n",
      "  _warn_prf(average, modifier, msg_start, len(result))\n"
     ]
    },
    {
     "data": {
      "text/html": [
       "<div>\n",
       "<style scoped>\n",
       "    .dataframe tbody tr th:only-of-type {\n",
       "        vertical-align: middle;\n",
       "    }\n",
       "\n",
       "    .dataframe tbody tr th {\n",
       "        vertical-align: top;\n",
       "    }\n",
       "\n",
       "    .dataframe thead th {\n",
       "        text-align: right;\n",
       "    }\n",
       "</style>\n",
       "<table border=\"1\" class=\"dataframe\">\n",
       "  <thead>\n",
       "    <tr style=\"text-align: right;\">\n",
       "      <th></th>\n",
       "      <th>0</th>\n",
       "      <th>1</th>\n",
       "      <th>2</th>\n",
       "      <th>3</th>\n",
       "      <th>4</th>\n",
       "      <th>5</th>\n",
       "      <th>6</th>\n",
       "      <th>7</th>\n",
       "      <th>8</th>\n",
       "      <th>9</th>\n",
       "      <th>...</th>\n",
       "      <th>197</th>\n",
       "      <th>198</th>\n",
       "      <th>199</th>\n",
       "      <th>200</th>\n",
       "      <th>201</th>\n",
       "      <th>202</th>\n",
       "      <th>203</th>\n",
       "      <th>accuracy</th>\n",
       "      <th>macro avg</th>\n",
       "      <th>weighted avg</th>\n",
       "    </tr>\n",
       "  </thead>\n",
       "  <tbody>\n",
       "    <tr>\n",
       "      <th>precision</th>\n",
       "      <td>0.069892</td>\n",
       "      <td>0.0</td>\n",
       "      <td>0.156909</td>\n",
       "      <td>0.063218</td>\n",
       "      <td>0.190476</td>\n",
       "      <td>0.041667</td>\n",
       "      <td>0.09375</td>\n",
       "      <td>0.100000</td>\n",
       "      <td>0.250</td>\n",
       "      <td>0.154362</td>\n",
       "      <td>...</td>\n",
       "      <td>0.454545</td>\n",
       "      <td>0.0</td>\n",
       "      <td>0.562500</td>\n",
       "      <td>0.425532</td>\n",
       "      <td>0.300000</td>\n",
       "      <td>0.333333</td>\n",
       "      <td>0.0</td>\n",
       "      <td>0.270985</td>\n",
       "      <td>0.209256</td>\n",
       "      <td>0.264544</td>\n",
       "    </tr>\n",
       "    <tr>\n",
       "      <th>recall</th>\n",
       "      <td>0.109244</td>\n",
       "      <td>0.0</td>\n",
       "      <td>0.296460</td>\n",
       "      <td>0.139241</td>\n",
       "      <td>0.166667</td>\n",
       "      <td>0.090909</td>\n",
       "      <td>0.09375</td>\n",
       "      <td>0.055556</td>\n",
       "      <td>0.375</td>\n",
       "      <td>0.225490</td>\n",
       "      <td>...</td>\n",
       "      <td>0.172414</td>\n",
       "      <td>0.0</td>\n",
       "      <td>0.107143</td>\n",
       "      <td>0.090909</td>\n",
       "      <td>0.048387</td>\n",
       "      <td>0.142857</td>\n",
       "      <td>0.0</td>\n",
       "      <td>0.270985</td>\n",
       "      <td>0.116543</td>\n",
       "      <td>0.270985</td>\n",
       "    </tr>\n",
       "    <tr>\n",
       "      <th>f1-score</th>\n",
       "      <td>0.085246</td>\n",
       "      <td>0.0</td>\n",
       "      <td>0.205207</td>\n",
       "      <td>0.086957</td>\n",
       "      <td>0.177778</td>\n",
       "      <td>0.057143</td>\n",
       "      <td>0.09375</td>\n",
       "      <td>0.071429</td>\n",
       "      <td>0.300</td>\n",
       "      <td>0.183267</td>\n",
       "      <td>...</td>\n",
       "      <td>0.250000</td>\n",
       "      <td>0.0</td>\n",
       "      <td>0.180000</td>\n",
       "      <td>0.149813</td>\n",
       "      <td>0.083333</td>\n",
       "      <td>0.200000</td>\n",
       "      <td>0.0</td>\n",
       "      <td>0.270985</td>\n",
       "      <td>0.131122</td>\n",
       "      <td>0.236911</td>\n",
       "    </tr>\n",
       "    <tr>\n",
       "      <th>support</th>\n",
       "      <td>119.000000</td>\n",
       "      <td>14.0</td>\n",
       "      <td>226.000000</td>\n",
       "      <td>79.000000</td>\n",
       "      <td>24.000000</td>\n",
       "      <td>22.000000</td>\n",
       "      <td>32.00000</td>\n",
       "      <td>18.000000</td>\n",
       "      <td>32.000</td>\n",
       "      <td>204.000000</td>\n",
       "      <td>...</td>\n",
       "      <td>29.000000</td>\n",
       "      <td>22.0</td>\n",
       "      <td>84.000000</td>\n",
       "      <td>220.000000</td>\n",
       "      <td>62.000000</td>\n",
       "      <td>21.000000</td>\n",
       "      <td>22.0</td>\n",
       "      <td>0.270985</td>\n",
       "      <td>20824.000000</td>\n",
       "      <td>20824.000000</td>\n",
       "    </tr>\n",
       "  </tbody>\n",
       "</table>\n",
       "<p>4 rows × 207 columns</p>\n",
       "</div>"
      ],
      "text/plain": [
       "                    0     1           2          3          4          5  \\\n",
       "precision    0.069892   0.0    0.156909   0.063218   0.190476   0.041667   \n",
       "recall       0.109244   0.0    0.296460   0.139241   0.166667   0.090909   \n",
       "f1-score     0.085246   0.0    0.205207   0.086957   0.177778   0.057143   \n",
       "support    119.000000  14.0  226.000000  79.000000  24.000000  22.000000   \n",
       "\n",
       "                  6          7       8           9  ...        197   198  \\\n",
       "precision   0.09375   0.100000   0.250    0.154362  ...   0.454545   0.0   \n",
       "recall      0.09375   0.055556   0.375    0.225490  ...   0.172414   0.0   \n",
       "f1-score    0.09375   0.071429   0.300    0.183267  ...   0.250000   0.0   \n",
       "support    32.00000  18.000000  32.000  204.000000  ...  29.000000  22.0   \n",
       "\n",
       "                 199         200        201        202   203  accuracy  \\\n",
       "precision   0.562500    0.425532   0.300000   0.333333   0.0  0.270985   \n",
       "recall      0.107143    0.090909   0.048387   0.142857   0.0  0.270985   \n",
       "f1-score    0.180000    0.149813   0.083333   0.200000   0.0  0.270985   \n",
       "support    84.000000  220.000000  62.000000  21.000000  22.0  0.270985   \n",
       "\n",
       "              macro avg  weighted avg  \n",
       "precision      0.209256      0.264544  \n",
       "recall         0.116543      0.270985  \n",
       "f1-score       0.131122      0.236911  \n",
       "support    20824.000000  20824.000000  \n",
       "\n",
       "[4 rows x 207 columns]"
      ]
     },
     "execution_count": 46,
     "metadata": {},
     "output_type": "execute_result"
    }
   ],
   "source": [
    "pd.DataFrame(classification_report(y_test_enc, y_pred, output_dict=True))"
   ]
  },
  {
   "cell_type": "markdown",
   "metadata": {},
   "source": [
    "**Далі:** [Використання довільних алгоритмів класифікації](04-vectors-algo.ipynb)"
   ]
  },
  {
   "cell_type": "code",
   "execution_count": null,
   "metadata": {},
   "outputs": [],
   "source": []
  }
 ],
 "metadata": {
  "kernelspec": {
   "display_name": "Python 3",
   "language": "python",
   "name": "python3"
  },
  "language_info": {
   "codemirror_mode": {
    "name": "ipython",
    "version": 3
   },
   "file_extension": ".py",
   "mimetype": "text/x-python",
   "name": "python",
   "nbconvert_exporter": "python",
   "pygments_lexer": "ipython3",
   "version": "3.8.2"
  }
 },
 "nbformat": 4,
 "nbformat_minor": 4
}
