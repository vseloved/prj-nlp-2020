{
 "cells": [
  {
   "cell_type": "markdown",
   "metadata": {},
   "source": [
    "# 2. Передобробка даних"
   ]
  },
  {
   "cell_type": "code",
   "execution_count": 2,
   "metadata": {},
   "outputs": [],
   "source": [
    "import pycld2 as cld2\n",
    "import pandas as pd\n",
    "import numpy as np\n",
    "from tqdm import tqdm\n",
    "from tokenize_uk import tokenize_uk\n",
    "from utils import load_1551, load_stopwords, run_experiment, dump_data\n",
    "from vectors import vectorize\n",
    "import warnings\n",
    "import re\n",
    "\n",
    "warnings.filterwarnings('ignore')\n",
    "tqdm.pandas()"
   ]
  },
  {
   "cell_type": "code",
   "execution_count": 3,
   "metadata": {},
   "outputs": [],
   "source": [
    "from sklearn.neighbors import KNeighborsClassifier\n",
    "from sklearn.metrics import classification_report\n",
    "from sklearn.preprocessing import LabelEncoder \n",
    "from sklearn.model_selection import train_test_split\n",
    "\n",
    "def run_experiment_v2(name, x, y):\n",
    "    model = KNeighborsClassifier(n_neighbors=10, metric='cosine', n_jobs=-1)\n",
    "    return run_experiment(name, model, x, y)"
   ]
  },
  {
   "cell_type": "code",
   "execution_count": 5,
   "metadata": {},
   "outputs": [
    {
     "name": "stderr",
     "output_type": "stream",
     "text": [
      "100%|██████████| 127329/127329 [01:05<00:00, 1947.21it/s]\n"
     ]
    }
   ],
   "source": [
    "data = load_1551()"
   ]
  },
  {
   "cell_type": "markdown",
   "metadata": {},
   "source": [
    "## 2.1 Фільтрація мови"
   ]
  },
  {
   "cell_type": "code",
   "execution_count": 6,
   "metadata": {},
   "outputs": [
    {
     "name": "stderr",
     "output_type": "stream",
     "text": [
      "100%|██████████| 126789/126789 [00:17<00:00, 7158.64it/s]\n"
     ]
    }
   ],
   "source": [
    "def detect_lang(text):\n",
    "    try:\n",
    "        # BUG: https://github.com/mikemccand/chromium-compact-language-detector/issues/22\n",
    "        sanitized = ''.join(x for x in text if x.isprintable())\n",
    "        return cld2.detect(sanitized)[2][0][1]\n",
    "    except:\n",
    "        return 'error'\n",
    "    \n",
    "data['lang'] = data['text'].progress_apply(detect_lang)"
   ]
  },
  {
   "cell_type": "code",
   "execution_count": 7,
   "metadata": {},
   "outputs": [
    {
     "data": {
      "text/plain": [
       "uk    69407\n",
       "ru    52633\n",
       "un     4586\n",
       "sr      147\n",
       "uz        8\n",
       "en        4\n",
       "bg        3\n",
       "mk        1\n",
       "Name: lang, dtype: int64"
      ]
     },
     "execution_count": 7,
     "metadata": {},
     "output_type": "execute_result"
    }
   ],
   "source": [
    "data['lang'].value_counts()"
   ]
  },
  {
   "cell_type": "code",
   "execution_count": 8,
   "metadata": {},
   "outputs": [],
   "source": [
    "uk_data = data[data['lang'] == 'uk'].groupby('category').filter(lambda x: len(x) >= 50)"
   ]
  },
  {
   "cell_type": "code",
   "execution_count": 9,
   "metadata": {},
   "outputs": [
    {
     "name": "stdout",
     "output_type": "stream",
     "text": [
      "['В другому під’їзді будинку не працює ліфт'\n",
      " 'Прошу пофарбувати двері під’їзду 4 з зовнішньої сторони. Низ дверей ржавіє.'\n",
      " 'Доброго дня! В моєму будинку(Ольжича 11) станом на 19.10 досі немає опалення.\\r\\nТелефонували неодноразово в диспетчерську Шевченківського району, там кажуть, що наш будинок підключено, але по факту це не є так. Я опитала сусідів з сусідніх підїздів, у них опалення немає(тобто зрозуміло, що проблема не у нас, а у всіх).\\r\\nЯ телефонувала в кол-центр Київенерго, там кажуть, що до них не поступало жодної заявки, що по нашему будинку є якісь проблеми. \\r\\nБудь-ласка, допоможіть нам у вирішенні цієї проблеми, вдома реально дуже холодно. Я задовбалась одягати вологий одяг, купляти ліки пачками і спати під двома ковдрами.\\r\\nБуду вдячна за оперативне втручання.'\n",
      " 'Провести дератизацію в підвальному приміщенні.'\n",
      " 'Вимагаю демонтувати мегаборд(900м.кв.) за адресою Наддніпрянське шосе між залізничним мостом та мостом ”Патона” праворуч в напрямку Подолу. Відписки надсилати не треба. Якщо ви не курсі, я вам повідомлю: цей мегаборд є в наказі про демонтаж департаменту архітектури. Надішліть дату демонтажу.']\n"
     ]
    }
   ],
   "source": [
    "print(uk_data.text.sample(n=5).values)"
   ]
  },
  {
   "cell_type": "code",
   "execution_count": 38,
   "metadata": {},
   "outputs": [
    {
     "name": "stderr",
     "output_type": "stream",
     "text": [
      "100%|██████████| 63101/63101 [00:00<00:00, 116477.06it/s]\n"
     ]
    }
   ],
   "source": [
    "# clean urls\n",
    "uk_data['text'] = uk_data['text'].progress_apply(lambda x: re.sub(r'http\\S+', '', x))"
   ]
  },
  {
   "cell_type": "code",
   "execution_count": 39,
   "metadata": {},
   "outputs": [
    {
     "name": "stderr",
     "output_type": "stream",
     "text": [
      "100%|██████████| 63101/63101 [00:01<00:00, 47732.22it/s]\n"
     ]
    }
   ],
   "source": [
    "# clean html\n",
    "html_pattern = re.compile('<.*?>|&([a-z0-9]+|#[0-9]{1,6}|#x[0-9a-f]{1,6});')\n",
    "uk_data['text'] = uk_data['text'].progress_apply(lambda x: re.sub(html_pattern, '', x))"
   ]
  },
  {
   "cell_type": "code",
   "execution_count": 42,
   "metadata": {},
   "outputs": [],
   "source": [
    "from sklearn.preprocessing import LabelEncoder\n",
    "\n",
    "le = LabelEncoder()\n",
    "\n",
    "uk_data['encoded_category'] = le.fit_transform(uk_data['category'])"
   ]
  },
  {
   "cell_type": "code",
   "execution_count": 43,
   "metadata": {},
   "outputs": [
    {
     "name": "stderr",
     "output_type": "stream",
     "text": [
      "100%|██████████| 63101/63101 [00:22<00:00, 2781.94it/s]\n"
     ]
    }
   ],
   "source": [
    "uk_data['tokens'] = uk_data['text'].progress_apply(tokenize_uk.tokenize_words)"
   ]
  },
  {
   "cell_type": "code",
   "execution_count": 44,
   "metadata": {},
   "outputs": [],
   "source": [
    "tokens, categories = uk_data.tokens, uk_data.encoded_category"
   ]
  },
  {
   "cell_type": "code",
   "execution_count": 45,
   "metadata": {},
   "outputs": [
    {
     "name": "stderr",
     "output_type": "stream",
     "text": [
      "100%|██████████| 63101/63101 [02:54<00:00, 362.32it/s]\n"
     ]
    }
   ],
   "source": [
    "vectors = tokens.progress_apply(vectorize)"
   ]
  },
  {
   "cell_type": "code",
   "execution_count": 46,
   "metadata": {},
   "outputs": [
    {
     "data": {
      "text/html": [
       "<div>\n",
       "<style scoped>\n",
       "    .dataframe tbody tr th:only-of-type {\n",
       "        vertical-align: middle;\n",
       "    }\n",
       "\n",
       "    .dataframe tbody tr th {\n",
       "        vertical-align: top;\n",
       "    }\n",
       "\n",
       "    .dataframe thead th {\n",
       "        text-align: right;\n",
       "    }\n",
       "</style>\n",
       "<table border=\"1\" class=\"dataframe\">\n",
       "  <thead>\n",
       "    <tr style=\"text-align: right;\">\n",
       "      <th></th>\n",
       "      <th>0</th>\n",
       "      <th>1</th>\n",
       "      <th>2</th>\n",
       "      <th>3</th>\n",
       "      <th>4</th>\n",
       "      <th>5</th>\n",
       "      <th>6</th>\n",
       "      <th>7</th>\n",
       "      <th>8</th>\n",
       "      <th>9</th>\n",
       "      <th>...</th>\n",
       "      <th>197</th>\n",
       "      <th>198</th>\n",
       "      <th>199</th>\n",
       "      <th>200</th>\n",
       "      <th>201</th>\n",
       "      <th>202</th>\n",
       "      <th>203</th>\n",
       "      <th>accuracy</th>\n",
       "      <th>macro avg</th>\n",
       "      <th>weighted avg</th>\n",
       "    </tr>\n",
       "  </thead>\n",
       "  <tbody>\n",
       "    <tr>\n",
       "      <th>precision</th>\n",
       "      <td>0.305085</td>\n",
       "      <td>0.0</td>\n",
       "      <td>0.144796</td>\n",
       "      <td>0.029412</td>\n",
       "      <td>0.294118</td>\n",
       "      <td>0.200000</td>\n",
       "      <td>0.107143</td>\n",
       "      <td>0.214286</td>\n",
       "      <td>0.476190</td>\n",
       "      <td>0.255396</td>\n",
       "      <td>...</td>\n",
       "      <td>0.625000</td>\n",
       "      <td>0.285714</td>\n",
       "      <td>0.450000</td>\n",
       "      <td>0.304348</td>\n",
       "      <td>0.263158</td>\n",
       "      <td>0.125000</td>\n",
       "      <td>0.0</td>\n",
       "      <td>0.357136</td>\n",
       "      <td>0.253850</td>\n",
       "      <td>0.339130</td>\n",
       "    </tr>\n",
       "    <tr>\n",
       "      <th>recall</th>\n",
       "      <td>0.151261</td>\n",
       "      <td>0.0</td>\n",
       "      <td>0.424779</td>\n",
       "      <td>0.050633</td>\n",
       "      <td>0.416667</td>\n",
       "      <td>0.136364</td>\n",
       "      <td>0.093750</td>\n",
       "      <td>0.166667</td>\n",
       "      <td>0.625000</td>\n",
       "      <td>0.696078</td>\n",
       "      <td>...</td>\n",
       "      <td>0.172414</td>\n",
       "      <td>0.090909</td>\n",
       "      <td>0.107143</td>\n",
       "      <td>0.159091</td>\n",
       "      <td>0.080645</td>\n",
       "      <td>0.047619</td>\n",
       "      <td>0.0</td>\n",
       "      <td>0.357136</td>\n",
       "      <td>0.173767</td>\n",
       "      <td>0.357136</td>\n",
       "    </tr>\n",
       "    <tr>\n",
       "      <th>f1-score</th>\n",
       "      <td>0.202247</td>\n",
       "      <td>0.0</td>\n",
       "      <td>0.215973</td>\n",
       "      <td>0.037209</td>\n",
       "      <td>0.344828</td>\n",
       "      <td>0.162162</td>\n",
       "      <td>0.100000</td>\n",
       "      <td>0.187500</td>\n",
       "      <td>0.540541</td>\n",
       "      <td>0.373684</td>\n",
       "      <td>...</td>\n",
       "      <td>0.270270</td>\n",
       "      <td>0.137931</td>\n",
       "      <td>0.173077</td>\n",
       "      <td>0.208955</td>\n",
       "      <td>0.123457</td>\n",
       "      <td>0.068966</td>\n",
       "      <td>0.0</td>\n",
       "      <td>0.357136</td>\n",
       "      <td>0.186325</td>\n",
       "      <td>0.326044</td>\n",
       "    </tr>\n",
       "    <tr>\n",
       "      <th>support</th>\n",
       "      <td>119.000000</td>\n",
       "      <td>14.0</td>\n",
       "      <td>226.000000</td>\n",
       "      <td>79.000000</td>\n",
       "      <td>24.000000</td>\n",
       "      <td>22.000000</td>\n",
       "      <td>32.000000</td>\n",
       "      <td>18.000000</td>\n",
       "      <td>32.000000</td>\n",
       "      <td>204.000000</td>\n",
       "      <td>...</td>\n",
       "      <td>29.000000</td>\n",
       "      <td>22.000000</td>\n",
       "      <td>84.000000</td>\n",
       "      <td>220.000000</td>\n",
       "      <td>62.000000</td>\n",
       "      <td>21.000000</td>\n",
       "      <td>22.0</td>\n",
       "      <td>0.357136</td>\n",
       "      <td>20824.000000</td>\n",
       "      <td>20824.000000</td>\n",
       "    </tr>\n",
       "  </tbody>\n",
       "</table>\n",
       "<p>4 rows × 207 columns</p>\n",
       "</div>"
      ],
      "text/plain": [
       "                    0     1           2          3          4          5  \\\n",
       "precision    0.305085   0.0    0.144796   0.029412   0.294118   0.200000   \n",
       "recall       0.151261   0.0    0.424779   0.050633   0.416667   0.136364   \n",
       "f1-score     0.202247   0.0    0.215973   0.037209   0.344828   0.162162   \n",
       "support    119.000000  14.0  226.000000  79.000000  24.000000  22.000000   \n",
       "\n",
       "                   6          7          8           9  ...        197  \\\n",
       "precision   0.107143   0.214286   0.476190    0.255396  ...   0.625000   \n",
       "recall      0.093750   0.166667   0.625000    0.696078  ...   0.172414   \n",
       "f1-score    0.100000   0.187500   0.540541    0.373684  ...   0.270270   \n",
       "support    32.000000  18.000000  32.000000  204.000000  ...  29.000000   \n",
       "\n",
       "                 198        199         200        201        202   203  \\\n",
       "precision   0.285714   0.450000    0.304348   0.263158   0.125000   0.0   \n",
       "recall      0.090909   0.107143    0.159091   0.080645   0.047619   0.0   \n",
       "f1-score    0.137931   0.173077    0.208955   0.123457   0.068966   0.0   \n",
       "support    22.000000  84.000000  220.000000  62.000000  21.000000  22.0   \n",
       "\n",
       "           accuracy     macro avg  weighted avg  \n",
       "precision  0.357136      0.253850      0.339130  \n",
       "recall     0.357136      0.173767      0.357136  \n",
       "f1-score   0.357136      0.186325      0.326044  \n",
       "support    0.357136  20824.000000  20824.000000  \n",
       "\n",
       "[4 rows x 207 columns]"
      ]
     },
     "execution_count": 46,
     "metadata": {},
     "output_type": "execute_result"
    }
   ],
   "source": [
    "x = np.vstack(vectors)\n",
    "y = np.hstack(categories)\n",
    "run_experiment_v2('uk', x, y)"
   ]
  },
  {
   "cell_type": "markdown",
   "metadata": {},
   "source": [
    "## 2.2 Видалення стопслів"
   ]
  },
  {
   "cell_type": "code",
   "execution_count": 17,
   "metadata": {},
   "outputs": [
    {
     "name": "stderr",
     "output_type": "stream",
     "text": [
      "100%|██████████| 63101/63101 [00:12<00:00, 5219.66it/s]\n"
     ]
    }
   ],
   "source": [
    "STOPWORDS = load_stopwords()\n",
    "\n",
    "def remove_stopwords(tokens):\n",
    "    return [t for t in tokens if t not in STOPWORDS]\n",
    "\n",
    "no_stopwords_tokens = tokens.progress_apply(remove_stopwords)"
   ]
  },
  {
   "cell_type": "code",
   "execution_count": 18,
   "metadata": {},
   "outputs": [
    {
     "data": {
      "text/html": [
       "<div>\n",
       "<style scoped>\n",
       "    .dataframe tbody tr th:only-of-type {\n",
       "        vertical-align: middle;\n",
       "    }\n",
       "\n",
       "    .dataframe tbody tr th {\n",
       "        vertical-align: top;\n",
       "    }\n",
       "\n",
       "    .dataframe thead th {\n",
       "        text-align: right;\n",
       "    }\n",
       "</style>\n",
       "<table border=\"1\" class=\"dataframe\">\n",
       "  <thead>\n",
       "    <tr style=\"text-align: right;\">\n",
       "      <th></th>\n",
       "      <th>0</th>\n",
       "      <th>1</th>\n",
       "      <th>2</th>\n",
       "      <th>3</th>\n",
       "      <th>4</th>\n",
       "      <th>5</th>\n",
       "      <th>6</th>\n",
       "      <th>7</th>\n",
       "      <th>8</th>\n",
       "      <th>9</th>\n",
       "      <th>...</th>\n",
       "      <th>197</th>\n",
       "      <th>198</th>\n",
       "      <th>199</th>\n",
       "      <th>200</th>\n",
       "      <th>201</th>\n",
       "      <th>202</th>\n",
       "      <th>203</th>\n",
       "      <th>accuracy</th>\n",
       "      <th>macro avg</th>\n",
       "      <th>weighted avg</th>\n",
       "    </tr>\n",
       "  </thead>\n",
       "  <tbody>\n",
       "    <tr>\n",
       "      <th>precision</th>\n",
       "      <td>0.365854</td>\n",
       "      <td>0.0</td>\n",
       "      <td>0.157983</td>\n",
       "      <td>0.073684</td>\n",
       "      <td>0.277778</td>\n",
       "      <td>0.105263</td>\n",
       "      <td>0.103448</td>\n",
       "      <td>0.076923</td>\n",
       "      <td>0.512195</td>\n",
       "      <td>0.295011</td>\n",
       "      <td>...</td>\n",
       "      <td>0.625000</td>\n",
       "      <td>0.142857</td>\n",
       "      <td>0.357143</td>\n",
       "      <td>0.460784</td>\n",
       "      <td>0.153846</td>\n",
       "      <td>0.300000</td>\n",
       "      <td>0.0</td>\n",
       "      <td>0.373175</td>\n",
       "      <td>0.276645</td>\n",
       "      <td>0.354933</td>\n",
       "    </tr>\n",
       "    <tr>\n",
       "      <th>recall</th>\n",
       "      <td>0.252101</td>\n",
       "      <td>0.0</td>\n",
       "      <td>0.415929</td>\n",
       "      <td>0.088608</td>\n",
       "      <td>0.416667</td>\n",
       "      <td>0.090909</td>\n",
       "      <td>0.093750</td>\n",
       "      <td>0.055556</td>\n",
       "      <td>0.656250</td>\n",
       "      <td>0.666667</td>\n",
       "      <td>...</td>\n",
       "      <td>0.172414</td>\n",
       "      <td>0.045455</td>\n",
       "      <td>0.119048</td>\n",
       "      <td>0.213636</td>\n",
       "      <td>0.064516</td>\n",
       "      <td>0.142857</td>\n",
       "      <td>0.0</td>\n",
       "      <td>0.373175</td>\n",
       "      <td>0.180914</td>\n",
       "      <td>0.373175</td>\n",
       "    </tr>\n",
       "    <tr>\n",
       "      <th>f1-score</th>\n",
       "      <td>0.298507</td>\n",
       "      <td>0.0</td>\n",
       "      <td>0.228989</td>\n",
       "      <td>0.080460</td>\n",
       "      <td>0.333333</td>\n",
       "      <td>0.097561</td>\n",
       "      <td>0.098361</td>\n",
       "      <td>0.064516</td>\n",
       "      <td>0.575342</td>\n",
       "      <td>0.409023</td>\n",
       "      <td>...</td>\n",
       "      <td>0.270270</td>\n",
       "      <td>0.068966</td>\n",
       "      <td>0.178571</td>\n",
       "      <td>0.291925</td>\n",
       "      <td>0.090909</td>\n",
       "      <td>0.193548</td>\n",
       "      <td>0.0</td>\n",
       "      <td>0.373175</td>\n",
       "      <td>0.194965</td>\n",
       "      <td>0.340721</td>\n",
       "    </tr>\n",
       "    <tr>\n",
       "      <th>support</th>\n",
       "      <td>119.000000</td>\n",
       "      <td>14.0</td>\n",
       "      <td>226.000000</td>\n",
       "      <td>79.000000</td>\n",
       "      <td>24.000000</td>\n",
       "      <td>22.000000</td>\n",
       "      <td>32.000000</td>\n",
       "      <td>18.000000</td>\n",
       "      <td>32.000000</td>\n",
       "      <td>204.000000</td>\n",
       "      <td>...</td>\n",
       "      <td>29.000000</td>\n",
       "      <td>22.000000</td>\n",
       "      <td>84.000000</td>\n",
       "      <td>220.000000</td>\n",
       "      <td>62.000000</td>\n",
       "      <td>21.000000</td>\n",
       "      <td>22.0</td>\n",
       "      <td>0.373175</td>\n",
       "      <td>20824.000000</td>\n",
       "      <td>20824.000000</td>\n",
       "    </tr>\n",
       "  </tbody>\n",
       "</table>\n",
       "<p>4 rows × 207 columns</p>\n",
       "</div>"
      ],
      "text/plain": [
       "                    0     1           2          3          4          5  \\\n",
       "precision    0.365854   0.0    0.157983   0.073684   0.277778   0.105263   \n",
       "recall       0.252101   0.0    0.415929   0.088608   0.416667   0.090909   \n",
       "f1-score     0.298507   0.0    0.228989   0.080460   0.333333   0.097561   \n",
       "support    119.000000  14.0  226.000000  79.000000  24.000000  22.000000   \n",
       "\n",
       "                   6          7          8           9  ...        197  \\\n",
       "precision   0.103448   0.076923   0.512195    0.295011  ...   0.625000   \n",
       "recall      0.093750   0.055556   0.656250    0.666667  ...   0.172414   \n",
       "f1-score    0.098361   0.064516   0.575342    0.409023  ...   0.270270   \n",
       "support    32.000000  18.000000  32.000000  204.000000  ...  29.000000   \n",
       "\n",
       "                 198        199         200        201        202   203  \\\n",
       "precision   0.142857   0.357143    0.460784   0.153846   0.300000   0.0   \n",
       "recall      0.045455   0.119048    0.213636   0.064516   0.142857   0.0   \n",
       "f1-score    0.068966   0.178571    0.291925   0.090909   0.193548   0.0   \n",
       "support    22.000000  84.000000  220.000000  62.000000  21.000000  22.0   \n",
       "\n",
       "           accuracy     macro avg  weighted avg  \n",
       "precision  0.373175      0.276645      0.354933  \n",
       "recall     0.373175      0.180914      0.373175  \n",
       "f1-score   0.373175      0.194965      0.340721  \n",
       "support    0.373175  20824.000000  20824.000000  \n",
       "\n",
       "[4 rows x 207 columns]"
      ]
     },
     "execution_count": 18,
     "metadata": {},
     "output_type": "execute_result"
    }
   ],
   "source": [
    "x = np.vstack(no_stopwords_tokens.apply(vectorize))\n",
    "run_experiment_v2('uk+stopwords', x, y)"
   ]
  },
  {
   "cell_type": "markdown",
   "metadata": {},
   "source": [
    "## 2.3 Використання лем"
   ]
  },
  {
   "cell_type": "code",
   "execution_count": 19,
   "metadata": {},
   "outputs": [
    {
     "name": "stderr",
     "output_type": "stream",
     "text": [
      "100%|██████████| 63101/63101 [09:54<00:00, 106.11it/s]\n"
     ]
    }
   ],
   "source": [
    "import pymorphy2\n",
    "morph = pymorphy2.MorphAnalyzer(lang='uk')\n",
    "\n",
    "def lemmatize(tokens):\n",
    "    return [morph.parse(t)[0].normal_form for t in tokens]\n",
    "\n",
    "lemmatized_tokens = no_stopwords_tokens.progress_apply(lemmatize)"
   ]
  },
  {
   "cell_type": "code",
   "execution_count": 20,
   "metadata": {},
   "outputs": [
    {
     "data": {
      "text/html": [
       "<div>\n",
       "<style scoped>\n",
       "    .dataframe tbody tr th:only-of-type {\n",
       "        vertical-align: middle;\n",
       "    }\n",
       "\n",
       "    .dataframe tbody tr th {\n",
       "        vertical-align: top;\n",
       "    }\n",
       "\n",
       "    .dataframe thead th {\n",
       "        text-align: right;\n",
       "    }\n",
       "</style>\n",
       "<table border=\"1\" class=\"dataframe\">\n",
       "  <thead>\n",
       "    <tr style=\"text-align: right;\">\n",
       "      <th></th>\n",
       "      <th>0</th>\n",
       "      <th>1</th>\n",
       "      <th>2</th>\n",
       "      <th>3</th>\n",
       "      <th>4</th>\n",
       "      <th>5</th>\n",
       "      <th>6</th>\n",
       "      <th>7</th>\n",
       "      <th>8</th>\n",
       "      <th>9</th>\n",
       "      <th>...</th>\n",
       "      <th>197</th>\n",
       "      <th>198</th>\n",
       "      <th>199</th>\n",
       "      <th>200</th>\n",
       "      <th>201</th>\n",
       "      <th>202</th>\n",
       "      <th>203</th>\n",
       "      <th>accuracy</th>\n",
       "      <th>macro avg</th>\n",
       "      <th>weighted avg</th>\n",
       "    </tr>\n",
       "  </thead>\n",
       "  <tbody>\n",
       "    <tr>\n",
       "      <th>precision</th>\n",
       "      <td>0.333333</td>\n",
       "      <td>0.0</td>\n",
       "      <td>0.157969</td>\n",
       "      <td>0.034783</td>\n",
       "      <td>0.419355</td>\n",
       "      <td>0.187500</td>\n",
       "      <td>0.041667</td>\n",
       "      <td>0.222222</td>\n",
       "      <td>0.44898</td>\n",
       "      <td>0.284314</td>\n",
       "      <td>...</td>\n",
       "      <td>0.545455</td>\n",
       "      <td>0.600000</td>\n",
       "      <td>0.333333</td>\n",
       "      <td>0.358779</td>\n",
       "      <td>0.142857</td>\n",
       "      <td>0.250000</td>\n",
       "      <td>0.076923</td>\n",
       "      <td>0.373031</td>\n",
       "      <td>0.274984</td>\n",
       "      <td>0.354413</td>\n",
       "    </tr>\n",
       "    <tr>\n",
       "      <th>recall</th>\n",
       "      <td>0.126050</td>\n",
       "      <td>0.0</td>\n",
       "      <td>0.495575</td>\n",
       "      <td>0.050633</td>\n",
       "      <td>0.541667</td>\n",
       "      <td>0.136364</td>\n",
       "      <td>0.031250</td>\n",
       "      <td>0.111111</td>\n",
       "      <td>0.68750</td>\n",
       "      <td>0.710784</td>\n",
       "      <td>...</td>\n",
       "      <td>0.206897</td>\n",
       "      <td>0.136364</td>\n",
       "      <td>0.047619</td>\n",
       "      <td>0.213636</td>\n",
       "      <td>0.016129</td>\n",
       "      <td>0.047619</td>\n",
       "      <td>0.045455</td>\n",
       "      <td>0.373031</td>\n",
       "      <td>0.184948</td>\n",
       "      <td>0.373031</td>\n",
       "    </tr>\n",
       "    <tr>\n",
       "      <th>f1-score</th>\n",
       "      <td>0.182927</td>\n",
       "      <td>0.0</td>\n",
       "      <td>0.239572</td>\n",
       "      <td>0.041237</td>\n",
       "      <td>0.472727</td>\n",
       "      <td>0.157895</td>\n",
       "      <td>0.035714</td>\n",
       "      <td>0.148148</td>\n",
       "      <td>0.54321</td>\n",
       "      <td>0.406162</td>\n",
       "      <td>...</td>\n",
       "      <td>0.300000</td>\n",
       "      <td>0.222222</td>\n",
       "      <td>0.083333</td>\n",
       "      <td>0.267806</td>\n",
       "      <td>0.028986</td>\n",
       "      <td>0.080000</td>\n",
       "      <td>0.057143</td>\n",
       "      <td>0.373031</td>\n",
       "      <td>0.199507</td>\n",
       "      <td>0.342093</td>\n",
       "    </tr>\n",
       "    <tr>\n",
       "      <th>support</th>\n",
       "      <td>119.000000</td>\n",
       "      <td>14.0</td>\n",
       "      <td>226.000000</td>\n",
       "      <td>79.000000</td>\n",
       "      <td>24.000000</td>\n",
       "      <td>22.000000</td>\n",
       "      <td>32.000000</td>\n",
       "      <td>18.000000</td>\n",
       "      <td>32.00000</td>\n",
       "      <td>204.000000</td>\n",
       "      <td>...</td>\n",
       "      <td>29.000000</td>\n",
       "      <td>22.000000</td>\n",
       "      <td>84.000000</td>\n",
       "      <td>220.000000</td>\n",
       "      <td>62.000000</td>\n",
       "      <td>21.000000</td>\n",
       "      <td>22.000000</td>\n",
       "      <td>0.373031</td>\n",
       "      <td>20824.000000</td>\n",
       "      <td>20824.000000</td>\n",
       "    </tr>\n",
       "  </tbody>\n",
       "</table>\n",
       "<p>4 rows × 207 columns</p>\n",
       "</div>"
      ],
      "text/plain": [
       "                    0     1           2          3          4          5  \\\n",
       "precision    0.333333   0.0    0.157969   0.034783   0.419355   0.187500   \n",
       "recall       0.126050   0.0    0.495575   0.050633   0.541667   0.136364   \n",
       "f1-score     0.182927   0.0    0.239572   0.041237   0.472727   0.157895   \n",
       "support    119.000000  14.0  226.000000  79.000000  24.000000  22.000000   \n",
       "\n",
       "                   6          7         8           9  ...        197  \\\n",
       "precision   0.041667   0.222222   0.44898    0.284314  ...   0.545455   \n",
       "recall      0.031250   0.111111   0.68750    0.710784  ...   0.206897   \n",
       "f1-score    0.035714   0.148148   0.54321    0.406162  ...   0.300000   \n",
       "support    32.000000  18.000000  32.00000  204.000000  ...  29.000000   \n",
       "\n",
       "                 198        199         200        201        202        203  \\\n",
       "precision   0.600000   0.333333    0.358779   0.142857   0.250000   0.076923   \n",
       "recall      0.136364   0.047619    0.213636   0.016129   0.047619   0.045455   \n",
       "f1-score    0.222222   0.083333    0.267806   0.028986   0.080000   0.057143   \n",
       "support    22.000000  84.000000  220.000000  62.000000  21.000000  22.000000   \n",
       "\n",
       "           accuracy     macro avg  weighted avg  \n",
       "precision  0.373031      0.274984      0.354413  \n",
       "recall     0.373031      0.184948      0.373031  \n",
       "f1-score   0.373031      0.199507      0.342093  \n",
       "support    0.373031  20824.000000  20824.000000  \n",
       "\n",
       "[4 rows x 207 columns]"
      ]
     },
     "execution_count": 20,
     "metadata": {},
     "output_type": "execute_result"
    }
   ],
   "source": [
    "x = np.vstack(lemmatized_tokens.apply(vectorize))\n",
    "run_experiment_v2('uk+stopwords+lemma', x, y)"
   ]
  },
  {
   "cell_type": "code",
   "execution_count": 50,
   "metadata": {},
   "outputs": [],
   "source": [
    "output = pd.DataFrame({ 'data': lemmatized_tokens, 'target': uk_data['category'] })\n",
    "\n",
    "dump_data('cleaned', output)"
   ]
  },
  {
   "cell_type": "markdown",
   "metadata": {},
   "source": [
    "**Далі:** [використання doc2vec](03-vectors-doc2vec.ipynb)"
   ]
  },
  {
   "cell_type": "code",
   "execution_count": null,
   "metadata": {},
   "outputs": [],
   "source": []
  }
 ],
 "metadata": {
  "kernelspec": {
   "display_name": "Python 3",
   "language": "python",
   "name": "python3"
  },
  "language_info": {
   "codemirror_mode": {
    "name": "ipython",
    "version": 3
   },
   "file_extension": ".py",
   "mimetype": "text/x-python",
   "name": "python",
   "nbconvert_exporter": "python",
   "pygments_lexer": "ipython3",
   "version": "3.8.2"
  }
 },
 "nbformat": 4,
 "nbformat_minor": 4
}
