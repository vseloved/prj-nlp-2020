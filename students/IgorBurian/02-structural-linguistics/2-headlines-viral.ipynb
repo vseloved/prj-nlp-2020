{
 "cells": [
  {
   "cell_type": "markdown",
   "metadata": {},
   "source": [
    "### 2. Вірусні новини\n",
    "\n",
    "У статті [Automatic Extraction of News Values from Headline Text](http://www.aclweb.org/anthology/E17-4007) описано основні ознаки заголовків, які кидаються в очі і змушують читача таки прочитати новину:\n",
    "1. іменовані сутності (імена людей, назви компаній тощо)\n",
    "2. емоційне забарвлення\n",
    "3. вищий і найвищий ступені порівняння\n",
    "4. близькість до читача\n",
    "5. елемент несподіванки\n",
    "6. унікальність\n",
    "\n",
    "**Завдання:**\n",
    "1. Напишіть програму, яка аналізує заголовок за першими трьома ознаками (у спрощеній формі)\n",
    "   * Чи є в заголовку іменовані стуності?\n",
    "   * Чи є заголовок позитивно чи негативно забарвлений?\n",
    "   * Чи є в заголовку прикметники та прислівники вищого і найвищого ступенів порівняння?\n",
    "2. Проженіть вашу програму на [корпусі заголовків з The Examiner](data/examiner-headlines.txt). Для кожної з трьох ознак визначте відсоток заголовків у корпусі, які її мають.\n",
    "3. Збережіть програму та пораховану статистику в директорії з вашим іменем.\n",
    "\n",
    "Додаткова інформація:\n",
    "- Типи сутностей, які впливають на \"вірусність\" заголовка, виберіть самостійно.\n",
    "- Для визначення емоційного забарвлення, використайте [SentiWordNet](https://github.com/aesuli/sentiwordnet). Наприклад, можна перевірити, що середнє значення позитивності/негативності слова у заголовку перевищує 0.5. Для визначення середнього значення можна брати до п'яти перших значень слова з такою частиною мови. Будьте креативними та експериментуйте. Можна користуватися SentiWordNet з бібліотеки [NLTK](http://www.nltk.org/howto/sentiwordnet.html)."
   ]
  },
  {
   "cell_type": "code",
   "execution_count": 1,
   "metadata": {},
   "outputs": [],
   "source": [
    "import spacy\n",
    "import en_core_web_sm\n",
    "\n",
    "from nltk.corpus import sentiwordnet as swn\n",
    "\n",
    "nlp = spacy.load('en_core_web_sm')"
   ]
  },
  {
   "cell_type": "code",
   "execution_count": 2,
   "metadata": {},
   "outputs": [],
   "source": [
    "VENTS = ['PERSON', 'ORG', 'NORP', 'GPE', 'EVENT', 'MONEY', 'WORK_OF_ART']\n",
    "\n",
    "def has_viral_ents(doc):\n",
    "    return any(e.label_ in VENTS for e in doc.ents)\n",
    "\n",
    "assert has_viral_ents(nlp('Barack Obama was born in Hawaii.')) == True\n",
    "assert has_viral_ents(nlp('Very boring uknown fact without any name.')) == False"
   ]
  },
  {
   "cell_type": "code",
   "execution_count": 3,
   "metadata": {},
   "outputs": [],
   "source": [
    "WNET_POS = {'NOUN': 'n', 'VERB': 'v', 'ADJ' : 'a', 'ADV' : 'r'}\n",
    "\n",
    "def sentiment_score(t):\n",
    "    # IDEA: take top 5 similar words\n",
    "    ssets = list(swn.senti_synsets(t.lemma_, WNET_POS[t.pos_]))[:5]\n",
    "    if len(ssets) == 0: return 0\n",
    "    return sum(max(s.pos_score(), s.neg_score()) for s in ssets) / len(ssets)\n",
    "\n",
    "def has_sentiment(doc):\n",
    "    return any(sentiment_score(t) > 0.5 for t in doc if t.pos_ in WNET_POS) \n",
    "\n",
    "assert has_sentiment(nlp('The best film you will ever see.')) == True\n",
    "assert has_sentiment(nlp(\"Hofstadter's Law: It always takes longer than you expect, even when you take into account Hofstadter's Law.\")) == False"
   ]
  },
  {
   "cell_type": "code",
   "execution_count": 4,
   "metadata": {},
   "outputs": [],
   "source": [
    "STAGS = ['JJR', 'JJS', 'RBR', 'RBS']\n",
    "\n",
    "def is_suprelative(t):\n",
    "    return t.tag_ in STAGS\n",
    "\n",
    "def has_suprelative(doc):\n",
    "    return any(is_suprelative(t) for t in doc)\n",
    "\n",
    "assert has_suprelative(nlp(\"The best film you will ever see.\")) == True\n",
    "assert has_suprelative(nlp(\"Nothing special here.\")) == False"
   ]
  },
  {
   "cell_type": "code",
   "execution_count": 5,
   "metadata": {},
   "outputs": [
    {
     "name": "stdout",
     "output_type": "stream",
     "text": [
      "nent - 66.2%\n",
      "suprel - 4.6%\n",
      "sentim - 8.7%\n"
     ]
    }
   ],
   "source": [
    "exam_set = '../../../tasks/02-structural-linguistics/data/examiner-headlines.txt'\n",
    "\n",
    "from collections import defaultdict\n",
    "\n",
    "with open(exam_set) as headlines:\n",
    "    total = 0\n",
    "    result = defaultdict(int)\n",
    "    \n",
    "    for h in headlines:\n",
    "        total += 1\n",
    "        doc = nlp(h)\n",
    "        if has_viral_ents(doc): result['nent'] += 1\n",
    "        if has_sentiment(doc): result['sentim'] += 1\n",
    "        if has_suprelative(doc): result['suprel'] += 1\n",
    "            \n",
    "    for metric, count in result.items():\n",
    "        print('{} - {:.1%}'.format(metric, count / total))"
   ]
  },
  {
   "cell_type": "code",
   "execution_count": null,
   "metadata": {},
   "outputs": [],
   "source": []
  }
 ],
 "metadata": {
  "kernelspec": {
   "display_name": "Python 3",
   "language": "python",
   "name": "python3"
  },
  "language_info": {
   "codemirror_mode": {
    "name": "ipython",
    "version": 3
   },
   "file_extension": ".py",
   "mimetype": "text/x-python",
   "name": "python",
   "nbconvert_exporter": "python",
   "pygments_lexer": "ipython3",
   "version": "3.8.2"
  }
 },
 "nbformat": 4,
 "nbformat_minor": 4
}
