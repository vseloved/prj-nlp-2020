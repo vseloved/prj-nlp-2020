{
 "cells": [
  {
   "cell_type": "markdown",
   "metadata": {},
   "source": [
    "## Структурна лінгвістика\n",
    "\n",
    "#### 1. Перевірте роботу [SnowballStem](http://snowballstem.org/) для спільнокореневих слів. Напишіть ваші спостереження.\n",
    "\n",
    "1. truth, truthful, truthfulness, countertruth, untruthful, truthology\n",
    "2. flaw, flaws, flawed, flawless, flawlessness, flawlessly, \n",
    "3. лес, лесной, лесник, лесничий, лесничество, пролесье\n",
    "4. окно, окошко, подоконник, оконный, окнище"
   ]
  },
  {
   "cell_type": "code",
   "execution_count": 46,
   "metadata": {},
   "outputs": [
    {
     "name": "stdout",
     "output_type": "stream",
     "text": [
      "truth -> truth\n",
      "truthful -> truth\n",
      "truthfulness -> truth\n",
      "countertruth -> countertruth\n",
      "untruthful -> untruth\n",
      "truthology -> trutholog\n",
      "flaw -> flaw\n",
      "flaws -> flaw\n",
      "flawed -> flaw\n",
      "flawless -> flawless\n",
      "flawlessness -> flawless\n",
      "flawlessly -> flawless\n",
      "лес -> лес\n",
      "лесной -> лесн\n",
      "лесник -> лесник\n",
      "лесничий -> леснич\n",
      "лесничество -> лесничеств\n",
      "пролесье -> пролес\n",
      "окно -> окн\n",
      "окошко -> окошк\n",
      "подоконник -> подоконник\n",
      "оконный -> окон\n",
      "окнище -> окнищ\n"
     ]
    }
   ],
   "source": [
    "from nltk.stem import SnowballStemmer\n",
    "\n",
    "en = SnowballStemmer(\"english\")\n",
    "ru = SnowballStemmer(\"russian\")\n",
    "\n",
    "data = [\n",
    "    (en, [\"truth\", \"truthful\", \"truthfulness\", \"countertruth\", \"untruthful\", \"truthology\"]),\n",
    "    (en, [\"flaw\", \"flaws\", \"flawed\", \"flawless\", \"flawlessness\", \"flawlessly\"]),\n",
    "    (ru, [\"лес\", \"лесной\", \"лесник\", \"лесничий\", \"лесничество\", \"пролесье\"]),\n",
    "    (ru, [\"окно\", \"окошко\", \"подоконник\", \"оконный\", \"окнище\"])\n",
    "]\n",
    "\n",
    "for stm, words in data:\n",
    "    print(\"\\n\".join([' -> '.join(pair) for pair in\n",
    "                     zip(words, [stm.stem(word) for word in words])]))"
   ]
  },
  {
   "cell_type": "markdown",
   "metadata": {},
   "source": [
    "- Стеммер не завжди продукує коректні слова;\n",
    "- стеммер прибирає тільки cуфікси та закінчення;\n",
    "- здається, стеммер прибирає лише інфлекційні афікси (хоча бачу виянятки як от в `truthfulness`);\n",
    "- стеммер не працює 100% правильно, бо трапляєсться халепа як в `truthology - trutholog`;\n",
    "- загалом, російскі слова оброблені гірше за англійскі."
   ]
  },
  {
   "cell_type": "markdown",
   "metadata": {},
   "source": [
    "#### 2. Визначте частину мови виділеного слова і слово, яке є його батьком (за зразком):\n",
    "\n",
    "```\n",
    "{I} like turtles.: pronoun, like  \n",
    "I {like} turtles.: verb, ROOT  \n",
    "I like {turtles}.: noun, like\n",
    "```\n",
    "\n",
    "1. We can {but} hope that everything will be fine.: `conjunction, hope`\n",
    "2. It's sad {but} true.: `conjunction, sad`\n",
    "3. Jack brings nothing {but} trouble.: `conjunction, nothing`\n",
    "4. Let's do it this {way}!: `noun, it`\n",
    "5. This is {way} too much!: `noun, is`\n",
    "6. The prices are going {down}.: `adverb, going`\n",
    "7. Someone pushed him and he fell {down} the stairs.: `adverb, fell`\n",
    "8. I’ve been feeling rather {down} lately.: `adverb, feeling`\n",
    "9. It's not easy to {down} a cup of coffee in one gulp.: `verb, 's`\n",
    "10. Bring a {down} jacket and a pair of gloves, and you'll be fine.: `adjective, jacket`\n"
   ]
  },
  {
   "cell_type": "markdown",
   "metadata": {},
   "source": [
    "#### 3. Визначте частину мови виділеного слова і слово, яке є його батьком (за зразком):\n",
    "\n",
    "```\n",
    "{Я} люблю черепашок.: займенник, люблю  \n",
    "Я {люблю} черепашок.: дієслово, ROOT  \n",
    "Я люблю {черепашок}.: іменник, люблю  \n",
    "```\n",
    "\n",
    "1. Рада міністрів Європейського союзу затвердила угоду про спрощений порядок видачі {віз} для України.: `іменник, видачі`\n",
    "2. Батько Себастьяна {віз} на санях їх театральний гурт до Львова.: `дієслово, ROOT`\n",
    "3. А ще дивний елемент інтер’єру – {віз} із продукцією одного з херсонських виробників.: `іменник, елемент`\n",
    "4. У цю мить {повз} Євгена пролетів останній вагон товарняка.: `прийменник, пролетів`\n",
    "5. Кліпнув очима і побачив малого песика, який саме пробігав {повз} у бік села.: `прислівник, пробігав`\n",
    "6. Степанко перестав кричати, тільки ламкий стогін {повз} йому із грудей.: `дієслово, перестав`\n",
    "7. Ось присіла на {край} ліжка.: `іменник, на`\n",
    "8. Поставив ту кузню не {край} дороги, як було заведено, а на Красній горі, біля Прадуба.: `прийменник, кузню`\n",
    "9. Розповідаючи про передній {край} лінґвістики, фон Лібіх, як завжди, мислив широко і глобально.: `іменнік, про`\n",
    "10. Не {край} мені серце.: `дієслово, ROOT`"
   ]
  },
  {
   "cell_type": "markdown",
   "metadata": {},
   "source": [
    "#### 4. Виберіть одне речення зі списку та побудуйте для нього дерево залежностей:\n",
    "\n",
    "(Дерево можна намалювати в графічному редакторі або на папері і докріпити картинку до домашнього завдання. Назви частин мови та залежностей можна не писати. Головне - це структура.)\n",
    "\n",
    "1. Пригадую, уже згодом, коли я відбував свій термін у таборі № 36 у Кучино Пермської області, я отримав від Михасі листівку з жартівливим описом того, як Київ готується до святкування свого 1500-ліття.\n",
    "2. **6C приземляється на плече, перекочуючись, пролітає метрів п’ятдесят і витягується на снігу за кілька кроків від забризканої палаючими уламками посадкової смуги.**\n",
    "3. Дівчина стояла там, де й була, і намагалася привести до ладу скуйовджене волосся, вкрай розлючена тим, що це побачили водії, які чекали на переїзді."
   ]
  },
  {
   "cell_type": "markdown",
   "metadata": {},
   "source": [
    "![](misc/structure.PNG)"
   ]
  },
  {
   "cell_type": "markdown",
   "metadata": {},
   "source": [
    "#### 5. Виберіть одне cлово зі списку та побудуйте лексико-семантичні зв'язки до трьох різних значень цього слова. Фактично, потрібно побудувати WordNet-подібні вузли, тобто для кожного з трьох значень підібрати синоніми, антоніми, мероніми, голоніми, гіпоніми та гіпероніми, якщо такі є. Значення слів можна перевірити у [СУМі](http://sum.in.ua/) чи [Словниках України](http://lcorp.ulif.org.ua/dictua/).\n",
    "\n",
    "Слова на вибір: вік, стіна, добро, серце, центр, куля, міст, ланцюг, бік, дух."
   ]
  },
  {
   "cell_type": "markdown",
   "metadata": {},
   "source": [
    "#### Дух\n",
    "\n",
    "**Повітря**\n",
    "- Синоніми: атмосфера\n",
    "- Антоніми: вакуум\n",
    "- Мероніми: -\n",
    "- Голоніми: -\n",
    "- Гіпоніми: -\n",
    "- Гіпероніми: газ, суміш\n",
    "\n",
    "**Характер**\n",
    "- Синоніми: натура, природа, норов\n",
    "- Антоніми: безособовість\n",
    "- Мероніми: -\n",
    "- Голоніми: -\n",
    "- Гіпоніми: -\n",
    "- Гіпероніми: властивість\n",
    "\n",
    "**Привид**\n",
    "- Синоніми: примара, тінь\n",
    "- Антоніми: -\n",
    "- Мероніми: -\n",
    "- Голоніми: -\n",
    "- Гіпоніми: -\n",
    "- Гіпероніми: мара, видиво\n"
   ]
  },
  {
   "cell_type": "code",
   "execution_count": null,
   "metadata": {},
   "outputs": [],
   "source": []
  }
 ],
 "metadata": {
  "kernelspec": {
   "display_name": "Python 3",
   "language": "python",
   "name": "python3"
  },
  "language_info": {
   "codemirror_mode": {
    "name": "ipython",
    "version": 3
   },
   "file_extension": ".py",
   "mimetype": "text/x-python",
   "name": "python",
   "nbconvert_exporter": "python",
   "pygments_lexer": "ipython3",
   "version": "3.8.2"
  }
 },
 "nbformat": 4,
 "nbformat_minor": 4
}
