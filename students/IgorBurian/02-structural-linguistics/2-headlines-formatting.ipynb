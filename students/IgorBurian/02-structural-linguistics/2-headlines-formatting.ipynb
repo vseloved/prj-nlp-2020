{
 "cells": [
  {
   "cell_type": "markdown",
   "metadata": {},
   "source": [
    "### 1. Форматування\n",
    "\n",
    "[The Associated Press Stylebook](https://www.amazon.com/Associated-Press-Stylebook-2017-Briefing/dp/0465093043/) - це посібник зі стилю, яким часто послуговуються журналісти по всьому світу. Він рекомендує такі правила форматування заголовків:\n",
    "1. З великої літери потрібно писати слова довжиною 4 чи більше літер.\n",
    "2. З великої літери потрібно писати перше і останнє слово заголовку, незалежно від частини мови.\n",
    "3. З великої літери потрібно писати іменники, займенники, дієслова, прикметники, прислівники та підрядні сполучники.\n",
    "4. Якщо слово написане через дефіс, велику літеру потрібно додати для кожної частинки слова (наприклад, правильно \"Self-Reflection\", а не \"Self-reflection\").\n",
    "5. З маленької літери потрібно писати всі інші частини мови: артиклі/визначники, сурядні сполучники, прийменники, частки, вигуки.\n",
    "\n",
    "**Завдання:**\n",
    "1. напишіть програму, яка форматує заголовки за вказаними правилами\n",
    "2. перевірте якість роботи програми на [валідаційній вибірці](data/headlines-test-set.json)\n",
    "3. проженіть вашу програму на [корпусі заголовків з The Examiner](data/examiner-headlines.txt) і вирахуйте, скільки заголовків там відформатовано за правилами (скільки заголовків залишились незмінними після форматування)\n",
    "4. збережіть програму та числові результати у директорії з вашим іменем\n",
    "\n",
    "Якщо потрібно продебажити роботу програми, робіть це на [корпусі заголовків з The Examiner](data/examiner-headlines.txt), а не на валідаційній вибірці. Спробуйте досягти хоча б 90% якості на валідаційній вибірці. Якість рахуємо за повним збігом відформатованого заголовка.\n",
    "\n",
    "Підказка: ваша програма повинна правильно розрізняти прийменники та підрядні сполучники. Наприклад, `Do as you want` => `Do As You Want` (бо \"as\" тут є сполучником), but `How to use a Macbook as a table` => `How to Use a Macbook as a Table` (бо \"as\" тут є прийменником)."
   ]
  },
  {
   "cell_type": "code",
   "execution_count": 16,
   "metadata": {},
   "outputs": [],
   "source": [
    "import re\n",
    "import json\n",
    "import spacy\n",
    "import en_core_web_sm\n",
    "\n",
    "CCASE_PATTERN = re.compile(r'([A-Z]+[a-z0-9]*)+')\n",
    "\n",
    "CAP_CASES = ['NOUN', 'PROPN', 'PRON', 'VERB', 'ADJ', 'ADV'] # 'SCONJ'\n",
    "LOW_CASES = ['DET','ADP','CCONJ', 'INT', 'PART']\n",
    "\n",
    "nlp = spacy.load('en_core_web_sm')\n",
    "\n",
    "def is_first_word(t):\n",
    "    i = 0\n",
    "    w = t.doc[i]\n",
    "    \n",
    "    while not (w.is_alpha or w.is_upper or w.is_digit):\n",
    "        i += 1\n",
    "        w = t.doc[i]\n",
    "    return t.i == i\n",
    "\n",
    "def is_last_word(t):\n",
    "    i = len(t.doc) - 1\n",
    "    w = t.doc[i]\n",
    "    \n",
    "    while not (w.is_alpha or w.is_upper or w.is_digit):\n",
    "        i -= 1\n",
    "        w = t.doc[i]\n",
    "    return t.i == i\n",
    "\n",
    "def skip_capitalize(t):\n",
    "    return (t.pos_ in CAP_CASES and t.is_upper) or \\\n",
    "           (t.pos_ in CAP_CASES and CCASE_PATTERN.match(t.text)) or \\\n",
    "           (t.pos_ == 'NUM' and t.dep_ == 'compound') or \\\n",
    "           t.text[0] == \"'\"\n",
    "\n",
    "def need_capitalize(t): \n",
    "    return is_first_word(t) or \\\n",
    "           is_last_word(t) or \\\n",
    "           len(t.text) > 3 or \\\n",
    "           t.pos_ in CAP_CASES or \\\n",
    "           (t.pos_ == 'ADP' and t.dep_ == 'mark') or \\\n",
    "           (t.pos_ == 'DET' and (t.dep_ == 'poss' or t.dep_ == \"appos\")) or \\\n",
    "           (t.text == 'not') or \\\n",
    "           (t.pos_ == 'AUX') or \\\n",
    "           (t.pos_ == 'NUM') or \\\n",
    "           (t.pos_ == 'SCONJ' and t.dep_ == 'mark') or \\\n",
    "           ((t.i > 0) and (t.doc[t.i - 1].text == '-')) or \\\n",
    "           ((t.i > 0) and (t.doc[t.i - 1].text == \"'\"))\n",
    "\n",
    "def format_heading(str):\n",
    "    doc = nlp(str)\n",
    "    result = []\n",
    "    \n",
    "    # import code; code.interact(local=dict(globals(), **locals()))\n",
    "\n",
    "    for t in doc:\n",
    "        # print(t.text, t.pos_, t.dep_, t.is_title, t.is_alpha, need_capitalize(t), t.head, t.is_left_punct, t.left_edge, t.right_edge)\n",
    "    \n",
    "        if skip_capitalize(t):\n",
    "            result.append(t.text_with_ws)\n",
    "        elif need_capitalize(t):\n",
    "            result.append(t.text_with_ws.title())\n",
    "        elif t.pos_ in LOW_CASES:\n",
    "            result.append(t.text_with_ws.lower())\n",
    "        else:\n",
    "            result.append(t.text_with_ws)\n",
    "\n",
    "    # print(''.join(result))\n",
    "    return ''.join(result)"
   ]
  },
  {
   "cell_type": "code",
   "execution_count": 17,
   "metadata": {},
   "outputs": [],
   "source": [
    "assert format_heading(\"Don't stop me.\") == \"Don't Stop Me.\"\n",
    "assert format_heading(\"Do as you want\") == \"Do As You Want\"\n",
    "assert format_heading(\"How to use a Macbook as a table\") == \"How to Use a Macbook as a Table\"\n",
    "assert format_heading(\"Halep enters Rogers Cup final in straight sets win over Errani\") == \"Halep Enters Rogers Cup Final in Straight Sets Win Over Errani\"\n",
    "assert format_heading(\"SF Beer Week 2013: what's for dinner (part 2)\") == \"SF Beer Week 2013: What's for Dinner (Part 2)\"\n",
    "assert format_heading(\"San Jose's Evergreen College program is part of Latino graduation increase\") == \"San Jose's Evergreen College Program Is Part of Latino Graduation Increase\"\n",
    "assert format_heading(\"Border insecurity and illegal-migration renders 'gang of eight' deal DOA\") == \"Border Insecurity and Illegal-Migration Renders 'Gang of Eight' Deal DOA\"\n",
    "assert format_heading(\"Courtney J. Walker named SEC Freshman of the Week in women's basketball (Photos)\") == \"Courtney J. Walker Named SEC Freshman of the Week in Women's Basketball (Photos)\"\n",
    "assert format_heading(\"'Minecraft: Xbox 360 Edition' mash-up pack free trial and suggestions discussed\") == \"'Minecraft: Xbox 360 Edition' Mash-Up Pack Free Trial and Suggestions Discussed\"\n",
    "assert format_heading(\"Review for Sarah MacLean's, Eleven Scandals to Start to Win a Duke's Heart\") == \"Review for Sarah MacLean's, Eleven Scandals to Start to Win a Duke's Heart\"\n",
    "assert format_heading(\"First set photos from the 'If I Stay' movie adaptation revealed\") == \"First Set Photos From the 'If I Stay' Movie Adaptation Revealed\"\n",
    "assert format_heading(\"The phantoms of St. Mary's\") == \"The Phantoms of St. Mary's\"\n",
    "assert format_heading(\"Talladega turmoil could spell trouble for NASCAR's Chase field\") == \"Talladega Turmoil Could Spell Trouble for NASCAR's Chase Field\"\n",
    "assert format_heading(\"2011-2012 NHL team preview: Detroit Red Wings\") == \"2011-2012 NHL Team Preview: Detroit Red Wings\"\n",
    "assert format_heading(\"Google science fair to encourage STEM learning\") == \"Google Science Fair to Encourage STEM Learning\"\n",
    "assert format_heading(\"Joshua Ledet begs, Phillip Phillips is a zombie on 'American Idol' 2012 top 5\") == \"Joshua Ledet Begs, Phillip Phillips Is a Zombie on 'American Idol' 2012 Top 5\"\n",
    "assert format_heading(\"USWNT to host Mexico at Red Bulls Arena June 5\") == \"USWNT to Host Mexico at Red Bulls Arena June 5\"\n",
    "assert format_heading(\"MasterCard faces £19bn lawsuit over claims it ripped off shoppers\") == \"MasterCard Faces £19bn Lawsuit Over Claims It Ripped off Shoppers\"\n",
    "assert format_heading(\"Credit: Make sure a new year hangover is not on the cards\") == \"Credit: Make Sure a New Year Hangover Is Not on the Cards\""
   ]
  },
  {
   "cell_type": "code",
   "execution_count": 14,
   "metadata": {},
   "outputs": [
    {
     "name": "stdout",
     "output_type": "stream",
     "text": [
      "Total Headlines: 5000\n",
      "Changed Headlines: 4412 (88.24%)\n"
     ]
    }
   ],
   "source": [
    "exam_set = '../../../tasks/02-structural-linguistics/data/examiner-headlines.txt'\n",
    "\n",
    "with open(exam_set) as headlines:\n",
    "    total = 0\n",
    "    changed = 0\n",
    "    for h in headlines:\n",
    "        total += 1\n",
    "        if format_heading(h) != h:\n",
    "            changed += 1\n",
    "    print(\"Total Headlines: {}\".format(total))\n",
    "    print(\"Changed Headlines: {} ({:.2f}%)\".format(changed, (changed * 100) / total))"
   ]
  },
  {
   "cell_type": "code",
   "execution_count": 18,
   "metadata": {},
   "outputs": [
    {
     "data": {
      "text/plain": [
       "0.92"
      ]
     },
     "execution_count": 18,
     "metadata": {},
     "output_type": "execute_result"
    }
   ],
   "source": [
    "# Final Test\n",
    "\n",
    "test_set = '../../../tasks/02-structural-linguistics/data/headlines-test-set.json'\n",
    "\n",
    "with open(test_set) as f:\n",
    "    data = json.load(f)\n",
    "    counter = 0\n",
    "    match = 0\n",
    "\n",
    "    for test, result in data:\n",
    "        counter += 1\n",
    "        if format_heading(test) == result:\n",
    "            match += 1\n",
    "\n",
    "match / counter"
   ]
  },
  {
   "cell_type": "code",
   "execution_count": null,
   "metadata": {},
   "outputs": [],
   "source": []
  }
 ],
 "metadata": {
  "kernelspec": {
   "display_name": "Python 3",
   "language": "python",
   "name": "python3"
  },
  "language_info": {
   "codemirror_mode": {
    "name": "ipython",
    "version": 3
   },
   "file_extension": ".py",
   "mimetype": "text/x-python",
   "name": "python",
   "nbconvert_exporter": "python",
   "pygments_lexer": "ipython3",
   "version": "3.8.2"
  }
 },
 "nbformat": 4,
 "nbformat_minor": 4
}
