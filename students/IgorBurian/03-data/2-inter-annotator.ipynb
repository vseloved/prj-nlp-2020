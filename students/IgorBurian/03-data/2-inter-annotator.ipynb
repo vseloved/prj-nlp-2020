{
 "cells": [
  {
   "cell_type": "code",
   "execution_count": 157,
   "metadata": {},
   "outputs": [],
   "source": [
    "from itertools import combinations\n",
    "from collections import defaultdict, Counter, namedtuple\n",
    "\n",
    "Sentence = namedtuple('Sentence', 'text anns')\n",
    "Annotation = namedtuple('Annotation', 'span error_type correction ann_id')\n",
    "\n",
    "# TODO: figure out how to handle partial agreement\n",
    "def agree_by_correction(ann1, ann2):\n",
    "    return ann1.span == ann2.span and \\\n",
    "           ann1.correction == ann2.correction\n",
    "\n",
    "def span_agreements(anns):\n",
    "    result = []\n",
    "    \n",
    "    ids = list(set(map(lambda x: x.ann_id, anns)))\n",
    "    \n",
    "    for id1, id2 in combinations(ids, 2):\n",
    "        anns1 = list(filter(lambda x: x.ann_id == id1, anns))\n",
    "        anns2 = list(filter(lambda x: x.ann_id == id2, anns))\n",
    "        \n",
    "        agreements = [[ann1, ann2] for ann1 in anns1\n",
    "                                   for ann2 in anns2\n",
    "                                   if agree_by_correction(ann1, ann2)]\n",
    "        \n",
    "        score = (2 * len(agreements)) / (len(anns1) + len(anns2))\n",
    "        \n",
    "        result.append((tuple(sorted([id1, id2])), score))\n",
    "    \n",
    "    return result"
   ]
  },
  {
   "cell_type": "code",
   "execution_count": 153,
   "metadata": {},
   "outputs": [
    {
     "name": "stdout",
     "output_type": "stream",
     "text": [
      "[((0, 1), 0.5)]\n"
     ]
    }
   ],
   "source": [
    "# Case: 2 annotators, 0-1 has 2 anns, 0-1 agree by one of anns\n",
    "# S From a practitioner 's perspective these findings are important because if lay constructs of the family and kinship are a social construct they may not be in line with geneticists ' views of family relationships , or about which blood ( or non-blood ) relatives should be informed and by whom ; this is also likely to be dependent on the cultural and ethnic context .\n",
    "# A 5 5|||Mec|||,|||REQUIRED|||-NONE-|||0\n",
    "# A 22 22|||Mec|||,|||REQUIRED|||-NONE-|||0\n",
    "# A 10 10|||Mec|||,|||REQUIRED|||-NONE-|||1\n",
    "# A 22 22|||Mec|||,|||REQUIRED|||-NONE-|||1\n",
    "anns = [\n",
    "  Annotation(( 5,  5), 'Mec', ',', 0),\n",
    "  Annotation((22, 22), 'Mec', ',', 0),\n",
    "  Annotation((10, 10), 'Mec', ',', 1),\n",
    "  Annotation((22, 22), 'Mec', ',', 1),\n",
    "]\n",
    "result = span_agreements(anns)\n",
    "print(result)\n",
    "assert result == [((0, 1), 0.5)]"
   ]
  },
  {
   "cell_type": "code",
   "execution_count": 147,
   "metadata": {},
   "outputs": [],
   "source": [
    "def error_agreements(anns):\n",
    "    result = []\n",
    "    ids = list(set(map(lambda x: x.ann_id, anns)))\n",
    "    \n",
    "    for id1, id2 in combinations(ids, 2):\n",
    "        anns1 = list(filter(lambda x: x.ann_id == id1, anns))\n",
    "        anns2 = list(filter(lambda x: x.ann_id == id2, anns))\n",
    "\n",
    "        agreements = [[ann1, ann2] for ann1 in anns1\n",
    "                                   for ann2 in anns2\n",
    "                                   if ann1.span == ann2.span]\n",
    "                \n",
    "        for ann1, ann2 in agreements:\n",
    "            score = 1 if ann1.error_type == ann2.error_type else 0\n",
    "            result.append((ann1.error_type, score))\n",
    "            result.append((ann2.error_type, score))\n",
    "    \n",
    "    return result"
   ]
  },
  {
   "cell_type": "code",
   "execution_count": 148,
   "metadata": {},
   "outputs": [
    {
     "name": "stdout",
     "output_type": "stream",
     "text": [
      "[('Npos', 0), ('Mec', 0)]\n"
     ]
    }
   ],
   "source": [
    "# Case: 2 annotators, 0-1 has 1 ann, disagree by type\n",
    "# S Here I want to share Forest'view on this issue .\n",
    "# A 5 6|||Npos|||Forests'sview|||REQUIRED|||-NONE-|||0\n",
    "# A 5 6|||Mec|||Forest 's view|||REQUIRED|||-NONE-|||1\n",
    "anns = [\n",
    "  Annotation((5, 6), 'Npos', 'Forests\\'sview', 0),\n",
    "  Annotation((5, 6), 'Mec', 'Forest \\'s view', 1),\n",
    "]\n",
    "result = error_agreements(anns)\n",
    "print(result)\n",
    "assert result == [('Npos', 0), ('Mec', 0)]"
   ]
  },
  {
   "cell_type": "code",
   "execution_count": 149,
   "metadata": {},
   "outputs": [
    {
     "name": "stdout",
     "output_type": "stream",
     "text": [
      "[('Wci', 1), ('Wci', 1), ('Wci', 0), ('Wtone', 0), ('Wci', 0), ('Wtone', 0)]\n"
     ]
    }
   ],
   "source": [
    "# Case: 2 annotators, 0-1 has 2 anns, 1 agree by type\n",
    "# S Besides that , the risk of the known genetic is very serious that it can not be described .\n",
    "# A 9 9|||Wci|||disease|||REQUIRED|||-NONE-|||0\n",
    "# A 10 11|||Wci|||so|||REQUIRED|||-NONE-|||0\n",
    "# A 8 9|||Others|||disorder|||REQUIRED|||-NONE-|||1\n",
    "# A 10 11|||Wci|||so|||REQUIRED|||-NONE-|||1\n",
    "anns = [\n",
    "  Annotation((9, 9), 'Wci', 'disease', 0),\n",
    "  Annotation((10, 11), 'Wci', 'so', 0),\n",
    "  Annotation((8, 9), 'Others', 'disorder', 1),\n",
    "  Annotation((10, 11), 'Wci', 'so', 1),\n",
    "  Annotation((10, 11), 'Wtone', 'so', 2),\n",
    "]\n",
    "result = error_agreements(anns)\n",
    "print(result)\n",
    "assert result == [('Wci', 1), ('Wci', 1), ('Wci', 0), ('Wtone', 0), ('Wci', 0), ('Wtone', 0)]"
   ]
  },
  {
   "cell_type": "code",
   "execution_count": 159,
   "metadata": {},
   "outputs": [
    {
     "name": "stdout",
     "output_type": "stream",
     "text": [
      "General inter-annotator agreement:\n",
      "Avg agreement: 0.43\n",
      "(0, 1) 0.23 | 1128\n",
      "(0, 2) 0.35 | 349\n",
      "(1, 2) 0.40 | 349\n",
      "(0, 3) 0.42 | 59\n",
      "(0, 4) 0.59 | 6\n",
      "(1, 3) 0.49 | 59\n",
      "(1, 4) 0.48 | 6\n",
      "(2, 3) 0.47 | 59\n",
      "(2, 4) 0.44 | 6\n",
      "(3, 4) 0.47 | 6\n",
      "\n",
      "Inter-annotator agreement by error:\n",
      "Mec 0.85 | 694\n",
      "Prep 0.95 | 658\n",
      "ArtOrDet 0.92 | 894\n",
      "Vt 0.79 | 354\n",
      "Wci 0.81 | 846\n",
      "Wform 0.75 | 222\n",
      "Vform 0.71 | 270\n",
      "Vm 0.64 | 94\n",
      "Others 0.71 | 68\n",
      "Ssub 0.62 | 97\n",
      "Rloc- 0.61 | 270\n",
      "WOinc 0.75 | 48\n",
      "WOadv 0.89 | 18\n",
      "Npos 0.79 | 66\n",
      "Spar 0.46 | 26\n",
      "Nn 0.94 | 440\n",
      "SVA 0.88 | 326\n",
      "Trans 0.78 | 174\n",
      "Pref 0.65 | 203\n",
      "Srun 0.51 | 35\n",
      "Pform 0.60 | 90\n",
      "Um 0.55 | 44\n",
      "Sfrag 0.33 | 12\n",
      "Wtone 0.59 | 17\n",
      "V0 0.76 | 63\n",
      "Wa 0.50 | 4\n",
      "Smod 0.67 | 3\n"
     ]
    }
   ],
   "source": [
    "def process(data, agreement_fn):\n",
    "    scores = defaultdict(Counter)\n",
    "\n",
    "    for s in data:\n",
    "        output = agreement_fn(s.anns)\n",
    "        for key, score in output:\n",
    "            scores[key]['score'] += score\n",
    "            scores[key]['total'] += 1\n",
    "    \n",
    "    return scores\n",
    "\n",
    "def print_avg(scores):\n",
    "    avg = sum(map(lambda x: x['score'] / x['total'], scores.values())) / len(scores)\n",
    "    print('Avg agreement: {:.2f}'.format(avg))  \n",
    "\n",
    "def print_scores(scores):\n",
    "    for key, result in scores.items():\n",
    "        print('{} {:.2f} | {}'.format(key, result['score'] / result['total'], result['total']))\n",
    "    \n",
    "def make_ann(text):\n",
    "    span, error_type, correction, _, _, ann_id = text.split('|||')\n",
    "    span = tuple(map(int, span.split(' ')))\n",
    "    return Annotation(span, error_type, correction, int(ann_id))\n",
    "\n",
    "with open('official-2014.combined-withalt.m2') as lines:\n",
    "    data = []\n",
    "    \n",
    "    for l in lines:\n",
    "        l = l.strip()\n",
    "        \n",
    "        if l.startswith('S'):\n",
    "            s = Sentence(l[2:], [])\n",
    "            data.append(s)\n",
    "        elif l.startswith('A'):\n",
    "            s.anns.append(make_ann(l[2:]))\n",
    "    \n",
    "    print('General inter-annotator agreement:')\n",
    "    span_scores = process(data, span_agreements)\n",
    "    print_avg(span_scores)\n",
    "    print_scores(span_scores)\n",
    "    \n",
    "    print()\n",
    "    \n",
    "    print('Inter-annotator agreement by error:')\n",
    "    error_scores = process(data, error_agreements)\n",
    "    print_scores(error_scores)"
   ]
  },
  {
   "cell_type": "markdown",
   "metadata": {},
   "source": [
    "## Cпостереження і Висновки Щодо Якості Анотування в Корпусі та Рівня Згоди Анотувальників.\n",
    "- Чим більше аннотації зробили обидва аннотувальники, тим менший між ними рівень згоди,\n",
    "- анотувальники часто не погоджуються щодо точних проміжків, які містять помилку (порахувати),\n",
    "- анотувальники по різному розуміють що є помилкою та як її можна виправити,\n",
    "- помилки можуть бути пояснені декількома способами (додати прикладів; спробувати порахувати),\n",
    "- існують помилки, категоризація яких є неоднозначною (додати прикладів; спробувати порахувати),\n",
    "- є помилки, категоризація яких є неоднозначною (можливо визначити декілька классів),\n",
    "- рівень згоди між анотувальниками і потенційні проблеми при анотуванні викликають сумніви щодо якості анотування в корпусі."
   ]
  },
  {
   "cell_type": "code",
   "execution_count": null,
   "metadata": {},
   "outputs": [],
   "source": []
  }
 ],
 "metadata": {
  "kernelspec": {
   "display_name": "Python 3",
   "language": "python",
   "name": "python3"
  },
  "language_info": {
   "codemirror_mode": {
    "name": "ipython",
    "version": 3
   },
   "file_extension": ".py",
   "mimetype": "text/x-python",
   "name": "python",
   "nbconvert_exporter": "python",
   "pygments_lexer": "ipython3",
   "version": "3.8.2"
  }
 },
 "nbformat": 4,
 "nbformat_minor": 4
}
