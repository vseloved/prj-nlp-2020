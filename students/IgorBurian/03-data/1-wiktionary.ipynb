{
 "cells": [
  {
   "cell_type": "code",
   "execution_count": 1,
   "metadata": {},
   "outputs": [],
   "source": [
    "import re\n",
    "import xml.sax\n",
    "\n",
    "class ChineseHandler(xml.sax.ContentHandler):\n",
    "    def __init__(self, out = None):\n",
    "        self._out = out\n",
    "        self._current_elem = ''\n",
    "        self._word = None\n",
    "    \n",
    "    def startElement(self, name, attrs):\n",
    "        self._current_elem = name\n",
    "\n",
    "    def endElement(self, name):\n",
    "        self._current_elem = ''\n",
    "    \n",
    "    def characters(self, content):\n",
    "        if self._current_elem == 'title':\n",
    "            self._word = content\n",
    "        if self._current_elem == 'text':\n",
    "            if not re.match(r'[\\u4e00-\\u9FFF]', self._word):\n",
    "                return None\n",
    "            result = re.search(r'\\*(近義詞|近义词)：(.+)', content)\n",
    "            if result:\n",
    "                synonyms = self._parse_synonyms(result.group(2))\n",
    "                self._out.write('{}: {}\\n'.format(self._word, (', ').join(synonyms)))\n",
    "                \n",
    "    def _clean_token(self, t):\n",
    "        result = re.match(r'\\[\\[(.+)\\]\\](.*)', t)\n",
    "        if result:\n",
    "            return result.group(1) + result.group(2)\n",
    "        else:\n",
    "            return t\n",
    "\n",
    "    def _parse_synonyms(self, s):\n",
    "        result = [self._clean_token(t) for t in re.split(r'、|｜|，', s)]\n",
    "        # print(result)\n",
    "        return result"
   ]
  },
  {
   "cell_type": "code",
   "execution_count": 2,
   "metadata": {},
   "outputs": [],
   "source": [
    "hd = ChineseHandler()\n",
    "assert hd._parse_synonyms('[[生存]]｜[[活]]｜[[生命]]｜[[生計]]') == ['生存', '活', '生命', '生計']\n",
    "assert hd._parse_synonyms('[[天子]]、[[皇帝]]') == ['天子', '皇帝']\n",
    "assert hd._parse_synonyms('觀音，觀世音菩薩，觀音菩薩，慈航真人，觀音大士') == ['觀音', '觀世音菩薩', '觀音菩薩', '慈航真人', '觀音大士']\n",
    "assert hd._parse_synonyms(\"(單身漢）[[光杆]]｜[[光蛋]]｜[[單身漢]]｜[[光身漢]]｜[[寡佬]]（粵）\") == ['(單身漢）[[光杆]]', '光蛋', '單身漢', '光身漢', '寡佬（粵）']\n",
    "# {{zh-l|無畏}}、{{zh-l|英勇}}、{{zh-l|勇敢}}"
   ]
  },
  {
   "cell_type": "code",
   "execution_count": 3,
   "metadata": {},
   "outputs": [],
   "source": [
    "with open('zhwiktionary-20200301-pages-articles-multistream.xml') as inp:\n",
    "    with open('synonyms.txt', 'w') as out:\n",
    "        handler = ChineseHandler(out)\n",
    "        xml.sax.parse(inp, handler)"
   ]
  },
  {
   "cell_type": "code",
   "execution_count": 4,
   "metadata": {},
   "outputs": [
    {
     "name": "stdout",
     "output_type": "stream",
     "text": [
      "Top 10 by word length:\n",
      "百足之虫，至断不僵; 一人之下，万人之上; 擋人財路如殺人父母; 一兼洗褲二兼洗蛤仔; 臨陣磨槍不亮也光; 香港特別行政區; 这山望着那山高; 打斷手骨顛倒勇; 虎落平陽被犬欺; 屋漏偏逢連夜雨\n",
      "\n",
      "Top 10 by synonyms count:\n",
      "- 性交 76\n",
      "- 陰莖 42\n",
      "- 蝌蚪 19\n",
      "- 弁言 17\n",
      "- 妻子 15\n",
      "- 我 15\n",
      "- 月經 14\n",
      "- 揶揄 12\n",
      "- 犧牲 12\n",
      "- 伏祈 11\n"
     ]
    }
   ],
   "source": [
    "with open('synonyms.txt') as lines:\n",
    "    words = {}\n",
    "    for l in lines:\n",
    "        word, synonyms = l.split(': ')\n",
    "        words[word] = synonyms.split(', ')\n",
    "    \n",
    "    print('Top 10 by word length:')\n",
    "    print('; '.join(sorted(words.keys(), key=len, reverse=True)[:10]))\n",
    "    print()\n",
    "    print('Top 10 by synonyms count:')\n",
    "    for w, s in sorted(words.items(), key=lambda w: len(w[1]), reverse=True)[:10]:\n",
    "        print('-', w, len(s))"
   ]
  },
  {
   "cell_type": "markdown",
   "metadata": {},
   "source": [
    "**Про китайску мову:**\n",
    "- Існує спрощений та традиційний варіант китайської писемності\n",
    "- в китайскій існує 3 види синонімів:\n",
    "    - 等义词 | děngyìcí | тотожні слова\n",
    "    - 同义词 | tóngyìcí | слова близькі за значенням\n",
    "    - 近义词 | jìnyìcí | майже синонім\n",
    "- в юнікоді китайска письменість позначається словом Han\n",
    "\n",
    "**Спостереження:**\n",
    "- в дампі містилися інші мови: японська, корейська, декілька європейських мов, російська, арабська і т.д.\n",
    "- використовувалась як спрощена так і традіційна китайска\n",
    "- у багатьох слів немає синонімів\n",
    "- деяких слів не існує або вони написані не правильно\n",
    "- багато синонімів взагалі не підходять словами\n",
    "\n",
    "Звіряв отримані результати зі словником https://bkrs.info"
   ]
  },
  {
   "cell_type": "code",
   "execution_count": null,
   "metadata": {},
   "outputs": [],
   "source": []
  }
 ],
 "metadata": {
  "kernelspec": {
   "display_name": "Python 3",
   "language": "python",
   "name": "python3"
  },
  "language_info": {
   "codemirror_mode": {
    "name": "ipython",
    "version": 3
   },
   "file_extension": ".py",
   "mimetype": "text/x-python",
   "name": "python",
   "nbconvert_exporter": "python",
   "pygments_lexer": "ipython3",
   "version": "3.8.2"
  }
 },
 "nbformat": 4,
 "nbformat_minor": 4
}
