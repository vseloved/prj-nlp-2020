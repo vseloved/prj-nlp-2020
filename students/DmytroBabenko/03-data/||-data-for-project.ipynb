{
 "cells": [
  {
   "cell_type": "markdown",
   "metadata": {},
   "source": [
    "See the description of the data in the next reporsitory: https://github.com/DmytroBabenko/insights-from-user-reviews/tree/crawling-data/"
   ]
  },
  {
   "cell_type": "markdown",
   "metadata": {},
   "source": [
    "Look https://github.com/DmytroBabenko/insights-from-user-reviews/blob/crawling-data/crawler/dou-crawler.ipynb to see the detail solution of this task. "
   ]
  },
  {
   "cell_type": "markdown",
   "metadata": {},
   "source": [
    "Here, you can find the example of parsed data in csv file: https://github.com/DmytroBabenko/insights-from-user-reviews/blob/crawling-data/data/dou-company-reviews.csv"
   ]
  }
 ],
 "metadata": {
  "kernelspec": {
   "display_name": "Python 3",
   "language": "python",
   "name": "python3"
  },
  "language_info": {
   "codemirror_mode": {
    "name": "ipython",
    "version": 3
   },
   "file_extension": ".py",
   "mimetype": "text/x-python",
   "name": "python",
   "nbconvert_exporter": "python",
   "pygments_lexer": "ipython3",
   "version": "3.7.5"
  }
 },
 "nbformat": 4,
 "nbformat_minor": 4
}
