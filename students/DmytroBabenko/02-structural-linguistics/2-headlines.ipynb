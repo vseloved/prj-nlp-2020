{
 "cells": [
  {
   "cell_type": "code",
   "execution_count": 1,
   "metadata": {},
   "outputs": [],
   "source": [
    "import spacy\n",
    "import json\n",
    "from typing import List\n",
    "from spacy.tokenizer import Tokenizer"
   ]
  },
  {
   "cell_type": "code",
   "execution_count": 2,
   "metadata": {},
   "outputs": [],
   "source": [
    "def read_json(file: str):\n",
    "    with open(file) as f:\n",
    "        data = json.load(f)\n",
    "    \n",
    "    return data"
   ]
  },
  {
   "cell_type": "markdown",
   "metadata": {},
   "source": [
    "### 1. напишіть програму, яка форматує заголовки за вказаними правилами"
   ]
  },
  {
   "cell_type": "markdown",
   "metadata": {},
   "source": [
    "1) З великої літери потрібно писати слова довжиною 4 чи більше літер. <br/>\n",
    "2) З великої літери потрібно писати перше і останнє слово заголовку, незалежно від частини мови. <br/>\n",
    "3) З великої літери потрібно писати іменники, займенники, дієслова, прикметники, прислівники та підрядні сполучники. <br/>\n",
    "4) Якщо слово написане через дефіс, велику літеру потрібно додати для кожної частинки слова (наприклад, правильно \"Self-Reflection\", а не \"Self-reflection\"). <br/>\n",
    "5) З маленької літери потрібно писати всі інші частини мови: артиклі/визначники, сурядні сполучники, прийменники, частки, вигуки. <br/>"
   ]
  },
  {
   "cell_type": "code",
   "execution_count": 264,
   "metadata": {},
   "outputs": [],
   "source": [
    "class HeadlineFormatter:\n",
    "    \n",
    "    TITLE_POS_TAGS = ['NOUN', 'PRON', 'PROPN', 'VERB', 'ADJ', 'ADV', 'SCONJ', 'AUX']\n",
    "    LOWER_POS_TAGS = ['DET', 'CCONJ', 'PREP', 'PART', 'INTJ']\n",
    "    \n",
    "    def __init__(self):\n",
    "        nlp = spacy.load(\"en_core_web_sm\")\n",
    "#         self.__tokenizer = nlp.Defaults.create_tokenizer(nlp)\n",
    "        self.__tokenizer = spacy.load(\"en_core_web_sm\")\n",
    "\n",
    "    \n",
    "    def format(self, headline: str) -> str:\n",
    "        tokens = self.__tokenize(headline)\n",
    "        size = len(tokens)\n",
    "        \n",
    "        text_with_ws_list = [self.__title(tokens[0])]\n",
    "#         text_with_ws_list = []\n",
    "\n",
    "        \n",
    "#         for token in tokens:\n",
    "        prev_title = False\n",
    "        is_prev_punct = False\n",
    "    \n",
    "        for i in range(1, size - 1):\n",
    "            token = tokens[i]\n",
    "            text_with_ws = token.text_with_ws\n",
    "\n",
    "            if token.pos_ == 'PUNCT':\n",
    "                is_prev_punct = True\n",
    "                text_with_ws_list.append(text_with_ws)\n",
    "                continue\n",
    "        \n",
    "            \n",
    "            if self.__should_be_title(token):\n",
    "                text_with_ws = self.__title_token(token)\n",
    "                prev_title = True\n",
    "            else:\n",
    "                if prev_title and is_prev_punct:\n",
    "                    print('We are here')\n",
    "                    text_with_ws = self.__title_token(token)\n",
    "                    prev_title = True\n",
    "                else:\n",
    "                    prev_title = False\n",
    "                    \n",
    "                    if token.pos_ in self.LOWER_POS_TAGS:\n",
    "                        text_with_ws = text_with_ws.lower()\n",
    "                    \n",
    "\n",
    "            text_with_ws_list.append(text_with_ws)\n",
    "            is_prev_punct = False\n",
    "        \n",
    "        text_with_ws_list.append(self.__title(tokens[-1]))\n",
    "            \n",
    "        return self.__untokenize(text_with_ws_list)\n",
    "    \n",
    "    def __should_be_title(self, token):\n",
    "        if token.pos_ in self.TITLE_POS_TAGS:\n",
    "            return True\n",
    "        \n",
    "        if len(token.text) >= 4:\n",
    "            return True\n",
    "        \n",
    "        return False\n",
    "                \n",
    "    def __title_token(self, token)-> str:\n",
    "        return token.text_with_ws.title()\n",
    "    \n",
    "    def __title(self, token):\n",
    "        #TODO: consider \"-\n",
    "        return token.text_with_ws.title()\n",
    "    \n",
    "    \n",
    "    def __tokenize(self, text):\n",
    "        return self.__tokenizer(text)\n",
    "    \n",
    "    def __untokenize(self, text_with_ws_list):\n",
    "        return ''.join(text_with_ws for text_with_ws in text_with_ws_list)\n",
    "        "
   ]
  },
  {
   "cell_type": "code",
   "execution_count": 265,
   "metadata": {},
   "outputs": [],
   "source": [
    "headline_formatter = HeadlineFormatter()"
   ]
  },
  {
   "cell_type": "code",
   "execution_count": 266,
   "metadata": {},
   "outputs": [
    {
     "name": "stdout",
     "output_type": "stream",
     "text": [
      "We are here\n"
     ]
    },
    {
     "data": {
      "text/plain": [
       "\"Dicks Creek: Georgia's Go-To Trout Water\""
      ]
     },
     "execution_count": 266,
     "metadata": {},
     "output_type": "execute_result"
    }
   ],
   "source": [
    "headline_formatter.format(\"Dicks Creek: Georgia's Go-to Trout Water\")"
   ]
  },
  {
   "cell_type": "markdown",
   "metadata": {},
   "source": [
    "### 2. перевірте якість роботи програми на валідаційній вибірці"
   ]
  },
  {
   "cell_type": "code",
   "execution_count": 267,
   "metadata": {},
   "outputs": [],
   "source": [
    "def calculate_accuracy(expected_headlines: List[str], actual_headlines: List[str], headlines):\n",
    "    \n",
    "    assert len(expected_headlines) == len(actual_headlines)\n",
    "    tp = 0\n",
    "    \n",
    "    for i in range(0, len(expected_headlines)):\n",
    "        if expected_headlines[i] == actual_headlines[i]:\n",
    "            tp += 1\n",
    "        else:\n",
    "            print(\"#####################################################\")\n",
    "            print(headlines[i])\n",
    "            print(expected_headlines[i])\n",
    "            print(actual_headlines[i])\n",
    "            print(\"#####################################################\")\n",
    "    accuracy = tp / len(expected_headlines)\n",
    "    \n",
    "    return accuracy"
   ]
  },
  {
   "cell_type": "code",
   "execution_count": 268,
   "metadata": {},
   "outputs": [],
   "source": [
    "val_file = \"../../../tasks/02-structural-linguistics/data/headlines-test-set.json\""
   ]
  },
  {
   "cell_type": "code",
   "execution_count": 269,
   "metadata": {},
   "outputs": [],
   "source": [
    "val_data = read_json(val_file)"
   ]
  },
  {
   "cell_type": "code",
   "execution_count": 270,
   "metadata": {},
   "outputs": [],
   "source": [
    "expected_headlines = [item[1] for item in val_data]"
   ]
  },
  {
   "cell_type": "code",
   "execution_count": 271,
   "metadata": {},
   "outputs": [],
   "source": [
    "headlines = [item[0] for item in val_data]"
   ]
  },
  {
   "cell_type": "code",
   "execution_count": 272,
   "metadata": {},
   "outputs": [
    {
     "data": {
      "text/plain": [
       "'How to Design a College Curriculum to Help You in Life'"
      ]
     },
     "execution_count": 272,
     "metadata": {},
     "output_type": "execute_result"
    }
   ],
   "source": [
    "expected_headlines[0]"
   ]
  },
  {
   "cell_type": "code",
   "execution_count": 273,
   "metadata": {},
   "outputs": [
    {
     "data": {
      "text/plain": [
       "'How To Design A College Curriculum to Help You in Life'"
      ]
     },
     "execution_count": 273,
     "metadata": {},
     "output_type": "execute_result"
    }
   ],
   "source": [
    "headlines[0]"
   ]
  },
  {
   "cell_type": "code",
   "execution_count": 274,
   "metadata": {},
   "outputs": [],
   "source": [
    "headline_formatter = HeadlineFormatter()"
   ]
  },
  {
   "cell_type": "code",
   "execution_count": 275,
   "metadata": {},
   "outputs": [
    {
     "name": "stdout",
     "output_type": "stream",
     "text": [
      "We are here\n",
      "We are here\n",
      "We are here\n",
      "We are here\n",
      "We are here\n",
      "We are here\n",
      "We are here\n"
     ]
    }
   ],
   "source": [
    "formatted_headlines = [headline_formatter.format(headline) for headline in headlines]"
   ]
  },
  {
   "cell_type": "code",
   "execution_count": 276,
   "metadata": {},
   "outputs": [
    {
     "name": "stdout",
     "output_type": "stream",
     "text": [
      "#####################################################\n",
      "Teresa Giudice broke: 'RHONJ' star can't even put gas in her car\n",
      "Teresa Giudice Broke: 'RHONJ' Star Can't Even Put Gas in Her Car\n",
      "Teresa Giudice Broke: 'Rhonj' Star Can't Even Put Gas in her Car\n",
      "#####################################################\n",
      "#####################################################\n",
      "Class Warfare: As American as apple pie\n",
      "Class Warfare: As American as Apple Pie\n",
      "Class Warfare: As American As Apple Pie\n",
      "#####################################################\n",
      "#####################################################\n",
      "Pat Robertson's controversial remarks about Haiti not shared by most Nashville Christians\n",
      "Pat Robertson's Controversial Remarks About Haiti Not Shared by Most Nashville Christians\n",
      "Pat Robertson's Controversial Remarks About Haiti not Shared by Most Nashville Christians\n",
      "#####################################################\n",
      "#####################################################\n",
      "Sarah Geronimo and Gerald Anderson's long journey as couple\n",
      "Sarah Geronimo and Gerald Anderson's Long Journey as Couple\n",
      "Sarah Geronimo and Gerald Anderson's Long Journey As Couple\n",
      "#####################################################\n",
      "#####################################################\n",
      "Free small McDonald's McCafe beverage with coupon for Atlanta-area customers - check your mail!\n",
      "Free Small McDonald's McCafe Beverage With Coupon for Atlanta-Area Customers - Check Your Mail!\n",
      "Free Small Mcdonald's Mccafe Beverage With Coupon for Atlanta-Area Customers - Check Your Mail!\n",
      "#####################################################\n",
      "#####################################################\n",
      "'The Biggest Loser' 2012 video: face-off week brings the competition\n",
      "'The Biggest Loser' 2012 Video: Face-Off Week Brings the Competition\n",
      "'the Biggest Loser' 2012 Video: Face-Off Week Brings the Competition\n",
      "#####################################################\n",
      "#####################################################\n",
      "Brazilian & bikini waxing how to choose an sf bay area hair removal salon or spa\n",
      "Brazilian & Bikini Waxing How to Choose an SF Bay Area Hair Removal Salon or Spa\n",
      "Brazilian & Bikini Waxing How to Choose an Sf Bay Area Hair Removal Salon or Spa\n",
      "#####################################################\n",
      "#####################################################\n",
      "Black Friday PR: Who Won the PR Prize?\n",
      "Black Friday PR: Who Won the PR Prize?\n",
      "Black Friday Pr: Who Won the Pr Prize?\n",
      "#####################################################\n",
      "#####################################################\n",
      "iPhone 5 release date ahead as Nokia Windows 8 smartphones interest grows\n",
      "iPhone 5 Release Date Ahead As Nokia Windows 8 Smartphones Interest Grows\n",
      "Iphone 5 Release Date Ahead As Nokia Windows 8 Smartphones Interest Grows\n",
      "#####################################################\n",
      "#####################################################\n",
      "Funny Video: World's scariest IHOP commercial, from 1969 (with video)\n",
      "Funny Video: World's Scariest IHOP Commercial, From 1969 (With Video)\n",
      "Funny Video: World's Scariest Ihop Commercial, From 1969 (With Video)\n",
      "#####################################################\n",
      "#####################################################\n",
      "American Idol and Bakersfield Jazz Workshop - what's the connection?\n",
      "American Idol and Bakersfield Jazz Workshop - What's the Connection?\n",
      "American Idol and Bakersfield Jazz Workshop - What'S the Connection?\n",
      "#####################################################\n",
      "#####################################################\n",
      "Salvadorans Largest Hispanic Group on LI, Mexicans Largest in U.S.\n",
      "Salvadorans Largest Hispanic Group on LI, Mexicans Largest in U.S.\n",
      "Salvadorans Largest Hispanic Group on Li, Mexicans Largest in U.S.\n",
      "#####################################################\n",
      "#####################################################\n",
      "Fox's 'Gotham' to be highly anticipated with character origin stories\n",
      "Fox's 'Gotham' to Be Highly Anticipated With Character Origin Stories\n",
      "Fox's 'Gotham' To Be Highly Anticipated With Character Origin Stories\n",
      "#####################################################\n",
      "#####################################################\n",
      "How to be a transit all-star\n",
      "How to Be a Transit All-Star\n",
      "How to Be a Transit all-Star\n",
      "#####################################################\n",
      "#####################################################\n",
      "How it all plays out on Church Street\n",
      "How It All Plays out on Church Street\n",
      "How It all Plays out on Church Street\n",
      "#####################################################\n",
      "#####################################################\n",
      "'The Celebrity Apprentice 2012' spoilers: Who makes the final two?\n",
      "'The Celebrity Apprentice 2012' Spoilers: Who Makes the Final Two?\n",
      "'the Celebrity Apprentice 2012' Spoilers: Who Makes the Final two?\n",
      "#####################################################\n",
      "#####################################################\n",
      "Russia bans adoption, but thousands of children are waiting for homes in U.S.\n",
      "Russia Bans Adoption, but Thousands of Children Are Waiting for Homes in U.S.\n",
      "Russia Bans Adoption, But Thousands of Children Are Waiting for Homes in U.S.\n",
      "#####################################################\n",
      "#####################################################\n",
      "It's that time again - back to homeschool\n",
      "It's That Time Again - Back to Homeschool\n",
      "It'S That Time Again - Back to Homeschool\n",
      "#####################################################\n",
      "#####################################################\n",
      "Valentine's Day: It's never too late\n",
      "Valentine's Day: It's Never Too Late\n",
      "Valentine's Day: It'S Never Too Late\n",
      "#####################################################\n",
      "#####################################################\n",
      "Friday Fun: Project Runway's Kayne at SWS, Manuel dances for charity, Laura Bell Bundy sings at PLAY\n",
      "Friday Fun: Project Runway's Kayne at SWS, Manuel Dances for Charity, Laura Bell Bundy Sings at PLAY\n",
      "Friday Fun: Project Runway's Kayne at Sws, Manuel Dances for Charity, Laura Bell Bundy Sings at Play\n",
      "#####################################################\n",
      "#####################################################\n",
      "Facebook post helps police nab suspect who ripped off two Burbank salons\n",
      "Facebook Post Helps Police Nab Suspect Who Ripped off Two Burbank Salons\n",
      "Facebook Post Helps Police Nab Suspect Who Ripped off two Burbank Salons\n",
      "#####################################################\n",
      "#####################################################\n",
      "4th of July brings local Arizona residents to Rocky Point\n",
      "4th of July Brings Local Arizona Residents to Rocky Point\n",
      "4Th of July Brings Local Arizona Residents to Rocky Point\n",
      "#####################################################\n",
      "#####################################################\n",
      "National Physics Day show at UVa: Come learn how your world works!\n",
      "National Physics Day Show at UVa: Come Learn How Your World Works!\n",
      "National Physics Day Show at Uva: Come Learn How Your World Works!\n",
      "#####################################################\n",
      "#####################################################\n",
      "Millionaires aren't in the class rooms teaching-don't know more than teachers\n",
      "Millionaires Aren't in the Class Rooms Teaching-Don't Know More Than Teachers\n",
      "Millionaires Aren't in the Class Rooms Teaching-Don'T Know More Than Teachers\n",
      "#####################################################\n",
      "#####################################################\n",
      "Hank Williams and all his rowdy friends cry foul as they leave ESPN's MNF\n",
      "Hank Williams and all His Rowdy Friends Cry Foul As They Leave ESPN's MNF\n",
      "Hank Williams and all his Rowdy Friends Cry Foul As They Leave Espn's Mnf\n",
      "#####################################################\n",
      "#####################################################\n",
      "AX Armani Exchange launches its first-ever AX PopDown Shop in NYC!\n",
      "AX Armani Exchange Launches Its First-Ever AX PopDown Shop in NYC!\n",
      "Ax Armani Exchange Launches its First-Ever Ax Popdown Shop in Nyc!\n",
      "#####################################################\n",
      "#####################################################\n",
      "Houston! It's Bayou Fest Houston in April! Don't Miss it!\n",
      "Houston! It's Bayou Fest Houston in April! Don't Miss It!\n",
      "Houston! It'S Bayou Fest Houston in April! Don't Miss It!\n",
      "#####################################################\n",
      "#####################################################\n",
      "Lil Wayne is contemplating life as a married man\n",
      "Lil Wayne Is Contemplating Life as a Married Man\n",
      "Lil Wayne Is Contemplating Life As a Married Man\n",
      "#####################################################\n",
      "#####################################################\n",
      "How to Rock at Marketing (and Still Like Yourself in the Morning)\n",
      "How to Rock at Marketing (and Still Like Yourself in the Morning)\n",
      "How to Rock at Marketing (And Still Like Yourself in the Morning)\n",
      "#####################################################\n",
      "#####################################################\n",
      "Healing even if the illness does not go away\n",
      "Healing Even If the Illness Does Not Go Away\n",
      "Healing Even If the Illness Does not Go Away\n",
      "#####################################################\n",
      "#####################################################\n",
      "Let's talk about leashes\n",
      "Let's Talk About Leashes\n",
      "Let'S Talk About Leashes\n",
      "#####################################################\n",
      "#####################################################\n",
      "Indigo Kelleigh returns as Stumptown Comics Fest Director for 2011\n",
      "Indigo Kelleigh Returns as Stumptown Comics Fest Director for 2011\n",
      "Indigo Kelleigh Returns As Stumptown Comics Fest Director for 2011\n",
      "#####################################################\n",
      "#####################################################\n",
      "Photos of cats at MCACC East as of Thursday, April 21, 2011\n",
      "Photos of Cats at MCACC East as of Thursday, April 21, 2011\n",
      "Photos of Cats at Mcacc East As of Thursday, April 21, 2011\n",
      "#####################################################\n",
      "#####################################################\n",
      "'Jackass 3D' trailer explodes right in your face so don't try this at home (video)\n",
      "'Jackass 3D' Trailer Explodes Right in Your Face so Don't Try This at Home (Video)\n",
      "'Jackass 3D' Trailer Explodes Right in Your Face So Don't Try This at Home (Video)\n",
      "#####################################################\n",
      "#####################################################\n",
      "'The Millionaire Matchmaker' season finale: Patti Stanger aids NeNe Leakes' pals\n",
      "'The Millionaire Matchmaker' Season Finale: Patti Stanger Aids NeNe Leakes' Pals\n",
      "'the Millionaire Matchmaker' Season Finale: Patti Stanger Aids Nene Leakes' Pals\n",
      "#####################################################\n",
      "#####################################################\n",
      "Greg Abbott will become commander in chief as governor\n",
      "Greg Abbott Will Become Commander in Chief as Governor\n",
      "Greg Abbott Will Become Commander in Chief As Governor\n",
      "#####################################################\n",
      "#####################################################\n",
      "Something you may not know about CD's if your bank goes under\n",
      "Something You May Not Know About CD's If Your Bank Goes Under\n",
      "Something You May not Know About Cd's If Your Bank Goes Under\n",
      "#####################################################\n",
      "#####################################################\n",
      "'The Carrie Diaries' photos and preview: First look at new CW series\n",
      "'The Carrie Diaries' Photos and Preview: First Look at New CW Series\n",
      "'the Carrie Diaries' Photos and Preview: First Look at New Cw Series\n",
      "#####################################################\n",
      "#####################################################\n",
      "Glenn Beck: Obama can 'get away with murder because he's likable and he's black'\n",
      "Glenn Beck: Obama Can 'Get Away With Murder Because He's Likable and He's Black'\n",
      "Glenn Beck: Obama Can 'Get Away With Murder Because He'S Likable and He'S Black'\n",
      "#####################################################\n",
      "#####################################################\n",
      "'Psych' season premiere date revealed as 'Psych: The Musical' airing looms\n",
      "'Psych' Season Premiere Date Revealed as 'Psych: The Musical' Airing Looms\n",
      "'Psych' Season Premiere Date Revealed As 'Psych: The Musical' Airing Looms\n",
      "#####################################################\n",
      "#####################################################\n",
      "Aurora's annual Jack-O-Launch at PumpkinFest this Saturday\n",
      "Aurora's Annual Jack-O-Launch at PumpkinFest This Saturday\n",
      "Aurora's Annual Jack-O-Launch at Pumpkinfest This Saturday\n",
      "#####################################################\n",
      "#####################################################\n",
      "What's new at Lake Tahoe's Alpine Meadows ski resort this season\n",
      "What's New at Lake Tahoe's Alpine Meadows Ski Resort This Season\n",
      "What'S New at Lake Tahoe's Alpine Meadows Ski Resort This Season\n",
      "#####################################################\n",
      "#####################################################\n",
      "So what's the deal on genetically engineered salmon? (part 2)\n",
      "So What's the Deal on Genetically Engineered Salmon? (Part 2)\n",
      "So What'S the Deal on Genetically Engineered Salmon? (Part 2)\n",
      "#####################################################\n",
      "#####################################################\n",
      "'The Bachelorette' ep 1112 recap review\n",
      "'The Bachelorette' Ep 1112 Recap Review\n",
      "'the Bachelorette' Ep 1112 Recap Review\n",
      "#####################################################\n",
      "#####################################################\n",
      "'No sex for you,' nurse tells patient; union to the rescue\n",
      "'No Sex for You,' Nurse Tells Patient; Union to the Rescue\n",
      "'no Sex for You,' Nurse Tells Patient; Union to the Rescue\n",
      "#####################################################\n",
      "#####################################################\n",
      "Police warn public of Toronto man who failed to disclose HIV status\n",
      "Police Warn Public of Toronto Man Who Failed to Disclose HIV Status\n",
      "Police Warn Public of Toronto Man Who Failed to Disclose Hiv Status\n",
      "#####################################################\n",
      "#####################################################\n",
      "'In a Crowd': MJQ's lost gem recorded live in Monterey\n",
      "'In a Crowd': MJQ's Lost Gem Recorded Live in Monterey\n",
      "'In a Crowd': Mjq's Lost Gem Recorded Live in Monterey\n",
      "#####################################################\n",
      "#####################################################\n",
      "Black Ferguson men protect white business owner's store with AR-15s: Loyalty\n",
      "Black Ferguson Men Protect White Business Owner's Store With AR-15s: Loyalty\n",
      "Black Ferguson Men Protect White Business Owner's Store With Ar-15S: Loyalty\n",
      "#####################################################\n",
      "#####################################################\n",
      "'GTA Online' players banned, Rockstar begins banning 'GTA 5' modders and hackers\n",
      "'GTA Online' Players Banned, Rockstar Begins Banning 'GTA 5' Modders and Hackers\n",
      "'Gta Online' Players Banned, Rockstar Begins Banning 'Gta 5' Modders and Hackers\n",
      "#####################################################\n",
      "#####################################################\n",
      "She is not any more racist than anyone in this country\n",
      "She Is Not any More Racist Than Anyone in This Country\n",
      "She Is not any More Racist Than Anyone in This Country\n",
      "#####################################################\n"
     ]
    }
   ],
   "source": [
    "accuracy = calculate_accuracy(expected_headlines=expected_headlines, \n",
    "                              actual_headlines=formatted_headlines, \n",
    "                              headlines=headlines)"
   ]
  },
  {
   "cell_type": "markdown",
   "metadata": {},
   "source": [
    "#### Accuracy"
   ]
  },
  {
   "cell_type": "code",
   "execution_count": 277,
   "metadata": {},
   "outputs": [
    {
     "name": "stdout",
     "output_type": "stream",
     "text": [
      "Accuracy:  0.5\n"
     ]
    }
   ],
   "source": [
    "print(\"Accuracy: \", accuracy)"
   ]
  },
  {
   "cell_type": "code",
   "execution_count": null,
   "metadata": {},
   "outputs": [],
   "source": []
  },
  {
   "cell_type": "code",
   "execution_count": null,
   "metadata": {},
   "outputs": [],
   "source": []
  }
 ],
 "metadata": {
  "kernelspec": {
   "display_name": "Python 3",
   "language": "python",
   "name": "python3"
  },
  "language_info": {
   "codemirror_mode": {
    "name": "ipython",
    "version": 3
   },
   "file_extension": ".py",
   "mimetype": "text/x-python",
   "name": "python",
   "nbconvert_exporter": "python",
   "pygments_lexer": "ipython3",
   "version": "3.7.5"
  }
 },
 "nbformat": 4,
 "nbformat_minor": 4
}
