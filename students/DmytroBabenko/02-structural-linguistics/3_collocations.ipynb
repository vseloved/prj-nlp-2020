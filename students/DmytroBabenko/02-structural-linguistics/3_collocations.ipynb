{
 "cells": [
  {
   "cell_type": "markdown",
   "metadata": {
    "colab_type": "text",
    "id": "gv0h3AKhXZ4v"
   },
   "source": [
    "# Колокації"
   ]
  },
  {
   "cell_type": "code",
   "execution_count": 0,
   "metadata": {
    "colab": {},
    "colab_type": "code",
    "id": "-s_OOjoDXZ4y"
   },
   "outputs": [],
   "source": [
    "import warnings\n",
    "import stanfordnlp\n",
    "from typing import List, Dict"
   ]
  },
  {
   "cell_type": "code",
   "execution_count": 0,
   "metadata": {
    "colab": {},
    "colab_type": "code",
    "id": "k_KoSQ6fXZ41"
   },
   "outputs": [],
   "source": [
    "warnings.filterwarnings('ignore')"
   ]
  },
  {
   "cell_type": "code",
   "execution_count": 5,
   "metadata": {
    "colab": {
     "base_uri": "https://localhost:8080/",
     "height": 272
    },
    "colab_type": "code",
    "id": "vgy5Uz5RXZ44",
    "outputId": "4200e608-b330-49c0-9592-f2f97e640e81"
   },
   "outputs": [
    {
     "name": "stdout",
     "output_type": "stream",
     "text": [
      "Using the default treebank \"en_ewt\" for language \"en\".\n",
      "Would you like to download the models for: en_ewt now? (Y/n)\n",
      "Y\n",
      "\n",
      "Default download directory: /root/stanfordnlp_resources\n",
      "Hit enter to continue or type an alternate directory.\n",
      "\n",
      "\n",
      "Downloading models for: en_ewt\n",
      "Download location: /root/stanfordnlp_resources/en_ewt_models.zip\n"
     ]
    },
    {
     "name": "stderr",
     "output_type": "stream",
     "text": [
      "100%|██████████| 235M/235M [00:03<00:00, 64.2MB/s]\n"
     ]
    },
    {
     "name": "stdout",
     "output_type": "stream",
     "text": [
      "\n",
      "Download complete.  Models saved to: /root/stanfordnlp_resources/en_ewt_models.zip\n",
      "Extracting models file for: en_ewt\n",
      "Cleaning up...Done.\n"
     ]
    }
   ],
   "source": [
    "stanfordnlp.download('en')"
   ]
  },
  {
   "cell_type": "code",
   "execution_count": 0,
   "metadata": {
    "colab": {},
    "colab_type": "code",
    "id": "-argtBmEXZ47"
   },
   "outputs": [],
   "source": [
    "stanfordnlp.download('uk')"
   ]
  },
  {
   "cell_type": "markdown",
   "metadata": {
    "colab_type": "text",
    "id": "vt3Jmf0WXZ4-"
   },
   "source": [
    "### 1. Англійська мова"
   ]
  },
  {
   "cell_type": "markdown",
   "metadata": {
    "colab_type": "text",
    "id": "azujNfMgXZ4_"
   },
   "source": [
    "У цьому завданні вам потрібно дослідити сполучуваність дієслів одного синонімного ряду з прислівниками. Наприклад, ми частіше кажемо \"love somebody dearly\", \"honor somebody highly\", але \"admire somebody greatly\"."
   ]
  },
  {
   "cell_type": "markdown",
   "metadata": {
    "colab_type": "text",
    "id": "qa0qcJKiXZ5A"
   },
   "source": [
    "#### Завдання:"
   ]
  },
  {
   "cell_type": "markdown",
   "metadata": {
    "colab_type": "text",
    "id": "qHLb_gPoXZ5B"
   },
   "source": [
    "#### 1. продовжте синонімний ряд дієслів: \"say\", \"tell\", \"speak\", \"claim\", \"communicate\""
   ]
  },
  {
   "cell_type": "markdown",
   "metadata": {
    "colab_type": "text",
    "id": "2vLuDcrkXZ5C"
   },
   "source": [
    "\"say\", \"tell\", \"speak\", \"claim\", \"communicate\", \"express\", \"talk\", \"report\", \"notify\", \"argue\", \"report\""
   ]
  },
  {
   "cell_type": "code",
   "execution_count": 0,
   "metadata": {
    "colab": {},
    "colab_type": "code",
    "id": "rYqSB8QXXZ5D"
   },
   "outputs": [],
   "source": [
    "verbs = [\"say\", \"tell\", \"speak\", \"claim\", \"communicate\", \n",
    "         \"express\", \"talk\", \"report\", \"notify\", \"argue\", \"report\"]"
   ]
  },
  {
   "cell_type": "markdown",
   "metadata": {
    "colab_type": "text",
    "id": "7pGC1HSVXZ5F"
   },
   "source": [
    "#### 2. напишіть функцію, яка знаходить у реченні дієслово (за складеним раніше синонімним рядом) і витягає усі можливі прислівники на \"-ly\", якими це дієслово керує"
   ]
  },
  {
   "cell_type": "code",
   "execution_count": 7,
   "metadata": {
    "colab": {
     "base_uri": "https://localhost:8080/",
     "height": 445
    },
    "colab_type": "code",
    "id": "sMrwS_NnXZ5G",
    "outputId": "049ed8d9-e4a7-4b11-9210-291b498e198b"
   },
   "outputs": [
    {
     "name": "stdout",
     "output_type": "stream",
     "text": [
      "Use device: gpu\n",
      "---\n",
      "Loading: tokenize\n",
      "With settings: \n",
      "{'model_path': '/root/stanfordnlp_resources/en_ewt_models/en_ewt_tokenizer.pt', 'lang': 'en', 'shorthand': 'en_ewt', 'mode': 'predict'}\n",
      "---\n",
      "Loading: pos\n",
      "With settings: \n",
      "{'model_path': '/root/stanfordnlp_resources/en_ewt_models/en_ewt_tagger.pt', 'pretrain_path': '/root/stanfordnlp_resources/en_ewt_models/en_ewt.pretrain.pt', 'lang': 'en', 'shorthand': 'en_ewt', 'mode': 'predict'}\n",
      "---\n",
      "Loading: lemma\n",
      "With settings: \n",
      "{'model_path': '/root/stanfordnlp_resources/en_ewt_models/en_ewt_lemmatizer.pt', 'lang': 'en', 'shorthand': 'en_ewt', 'mode': 'predict'}\n",
      "Building an attentional Seq2Seq model...\n",
      "Using a Bi-LSTM encoder\n",
      "Using soft attention for LSTM.\n",
      "Finetune all embeddings.\n",
      "[Running seq2seq lemmatizer with edit classifier]\n",
      "---\n",
      "Loading: depparse\n",
      "With settings: \n",
      "{'model_path': '/root/stanfordnlp_resources/en_ewt_models/en_ewt_parser.pt', 'pretrain_path': '/root/stanfordnlp_resources/en_ewt_models/en_ewt.pretrain.pt', 'lang': 'en', 'shorthand': 'en_ewt', 'mode': 'predict'}\n",
      "Done loading processors!\n",
      "---\n"
     ]
    }
   ],
   "source": [
    "nlp = stanfordnlp.Pipeline()"
   ]
  },
  {
   "cell_type": "markdown",
   "metadata": {
    "colab_type": "text",
    "id": "XCgDgsf-XZ5J"
   },
   "source": [
    "##### Необхідна функція представленна нище"
   ]
  },
  {
   "cell_type": "code",
   "execution_count": 0,
   "metadata": {
    "colab": {},
    "colab_type": "code",
    "id": "SNcPGMSPXZ5K"
   },
   "outputs": [],
   "source": [
    "def find_verbs_with_associated_adverbs(nlp, text: str, verbs: List[str], \n",
    "                                       verb_adverb: Dict[str, Dict[str, int]] = None):\n",
    "    doc = nlp(text)\n",
    "    \n",
    "    if verb_adverb is None:\n",
    "        verb_adverb = dict()\n",
    "    \n",
    "    for sent in doc.sentences:\n",
    "        for token in sent.dependencies:\n",
    "            if token[0].lemma not in verbs:\n",
    "                continue\n",
    "\n",
    "            if token[2].upos !='ADV':\n",
    "                continue\n",
    "\n",
    "\n",
    "            verb = token[0].lemma\n",
    "            adverb = token[2].lemma\n",
    "            \n",
    "            if adverb[-2:] != 'ly':\n",
    "                continue\n",
    "\n",
    "            if verb not in verb_adverb:\n",
    "                verb_adverb[verb] = dict()\n",
    "\n",
    "            if adverb not in verb_adverb[verb]:\n",
    "                verb_adverb[verb][adverb] = 1\n",
    "            else:\n",
    "                verb_adverb[verb][adverb] += 1        \n",
    "    \n",
    "    return verb_adverb"
   ]
  },
  {
   "cell_type": "markdown",
   "metadata": {
    "colab_type": "text",
    "id": "vGfTr-loXZ5M"
   },
   "source": [
    "##### Приклад використання даної функції"
   ]
  },
  {
   "cell_type": "code",
   "execution_count": 0,
   "metadata": {
    "colab": {},
    "colab_type": "code",
    "id": "v0JYHcLVXZ5N"
   },
   "outputs": [],
   "source": [
    "sentence_example = \"I was curious how the Obama campaign was going to deal with this new development , since they had claimed loudly last week that al-Maliki had definitively moved away from McCain 's position and over to their own.\\n\""
   ]
  },
  {
   "cell_type": "code",
   "execution_count": 10,
   "metadata": {
    "colab": {
     "base_uri": "https://localhost:8080/",
     "height": 34
    },
    "colab_type": "code",
    "id": "YstLRCO5XZ5P",
    "outputId": "634a36aa-8c96-46aa-8ced-e5d6ea889d86"
   },
   "outputs": [
    {
     "data": {
      "text/plain": [
       "{'claim': {'loudly': 1}}"
      ]
     },
     "execution_count": 10,
     "metadata": {
      "tags": []
     },
     "output_type": "execute_result"
    }
   ],
   "source": [
    "find_verbs_with_associated_adverbs(nlp, text=sentence_example, verbs=verbs)"
   ]
  },
  {
   "cell_type": "markdown",
   "metadata": {
    "colab_type": "text",
    "id": "a7NxNXcWXZ5S"
   },
   "source": [
    "#### 3. напишіть програму, яка знайде усі можливі прислівники для ваших дієслів у корпусі блогів"
   ]
  },
  {
   "cell_type": "code",
   "execution_count": 14,
   "metadata": {
    "colab": {
     "base_uri": "https://localhost:8080/",
     "height": 122
    },
    "colab_type": "code",
    "id": "IchC1r5MYOuc",
    "outputId": "c87ade68-6c14-40e4-bb6d-50d4f758adfc"
   },
   "outputs": [
    {
     "name": "stdout",
     "output_type": "stream",
     "text": [
      "Go to this URL in a browser: https://accounts.google.com/o/oauth2/auth?client_id=947318989803-6bn6qk8qdgf4n4g3pfee6491hc0brc4i.apps.googleusercontent.com&redirect_uri=urn%3aietf%3awg%3aoauth%3a2.0%3aoob&response_type=code&scope=email%20https%3a%2f%2fwww.googleapis.com%2fauth%2fdocs.test%20https%3a%2f%2fwww.googleapis.com%2fauth%2fdrive%20https%3a%2f%2fwww.googleapis.com%2fauth%2fdrive.photos.readonly%20https%3a%2f%2fwww.googleapis.com%2fauth%2fpeopleapi.readonly\n",
      "\n",
      "Enter your authorization code:\n",
      "··········\n",
      "Mounted at /content/gdrive\n"
     ]
    }
   ],
   "source": [
    "from google.colab import drive\n",
    "drive.mount('/content/gdrive')"
   ]
  },
  {
   "cell_type": "code",
   "execution_count": 20,
   "metadata": {
    "colab": {
     "base_uri": "https://localhost:8080/",
     "height": 34
    },
    "colab_type": "code",
    "id": "fVYDMnBaY7xv",
    "outputId": "1f780154-b5c5-4e52-be62-2c576e4642f5"
   },
   "outputs": [
    {
     "name": "stdout",
     "output_type": "stream",
     "text": [
      "blog2008.txt\n"
     ]
    }
   ],
   "source": [
    "!ls 'gdrive/My Drive/NLP/Task-1/data'"
   ]
  },
  {
   "cell_type": "code",
   "execution_count": 0,
   "metadata": {
    "colab": {},
    "colab_type": "code",
    "id": "SPMkwhDqXZ5S"
   },
   "outputs": [],
   "source": [
    "corpus_file = \"gdrive/My Drive/NLP/Task-1/data/blog2008.txt\""
   ]
  },
  {
   "cell_type": "code",
   "execution_count": 0,
   "metadata": {
    "colab": {},
    "colab_type": "code",
    "id": "vlH6_L3_XZ5V"
   },
   "outputs": [],
   "source": [
    "def read_file(file: str):\n",
    "    lines = []\n",
    "    with open(file) as file_in:        \n",
    "        for line in file_in:\n",
    "            lines.append(line)\n",
    "            \n",
    "    return lines"
   ]
  },
  {
   "cell_type": "code",
   "execution_count": 0,
   "metadata": {
    "colab": {},
    "colab_type": "code",
    "id": "f-Vfjt_NXZ5X"
   },
   "outputs": [],
   "source": [
    "corpus = read_file(corpus_file)"
   ]
  },
  {
   "cell_type": "code",
   "execution_count": 0,
   "metadata": {
    "colab": {},
    "colab_type": "code",
    "id": "mKG9--okXZ5Z"
   },
   "outputs": [],
   "source": [
    "def find_all_adverb_with_associated_verbs(nlp, corpus: List[str], verbs: List[str]):\n",
    "    result = dict()\n",
    "    for text in corpus:\n",
    "        find_verbs_with_associated_adverbs(nlp, text=text, verbs=verbs, verb_adverb=result)\n",
    "    \n",
    "    return result\n",
    "        "
   ]
  },
  {
   "cell_type": "code",
   "execution_count": 24,
   "metadata": {
    "colab": {
     "base_uri": "https://localhost:8080/",
     "height": 51
    },
    "colab_type": "code",
    "id": "SNsEDprlXZ5c",
    "outputId": "dfbb644a-68de-4bc1-a268-3eb583c9d71c"
   },
   "outputs": [
    {
     "name": "stdout",
     "output_type": "stream",
     "text": [
      "CPU times: user 5.29 s, sys: 38.5 ms, total: 5.33 s\n",
      "Wall time: 5.33 s\n"
     ]
    }
   ],
   "source": [
    "%time verb_assoc_adverb = find_all_adverb_with_associated_verbs(nlp, corpus[:100], verbs)"
   ]
  },
  {
   "cell_type": "code",
   "execution_count": 26,
   "metadata": {
    "colab": {
     "base_uri": "https://localhost:8080/",
     "height": 34
    },
    "colab_type": "code",
    "id": "kbWUHp8nZSa3",
    "outputId": "710609a2-74fa-41dd-9671-b5b25c33b253"
   },
   "outputs": [
    {
     "data": {
      "text/plain": [
       "4.500800055555556"
      ]
     },
     "execution_count": 26,
     "metadata": {
      "tags": []
     },
     "output_type": "execute_result"
    }
   ],
   "source": [
    "(len(corpus) / 100) * 5.33 / 3600"
   ]
  },
  {
   "cell_type": "code",
   "execution_count": 27,
   "metadata": {
    "colab": {
     "base_uri": "https://localhost:8080/",
     "height": 34
    },
    "colab_type": "code",
    "id": "z9n84kmpXZ5e",
    "outputId": "f75073c7-b756-4849-ce12-c2c3ff0e6448"
   },
   "outputs": [
    {
     "data": {
      "text/plain": [
       "{'claim': {'initially': 1}}"
      ]
     },
     "execution_count": 27,
     "metadata": {
      "tags": []
     },
     "output_type": "execute_result"
    }
   ],
   "source": [
    "verb_assoc_adverb"
   ]
  },
  {
   "cell_type": "markdown",
   "metadata": {
    "colab_type": "text",
    "id": "FN8zlOKfXZ5h"
   },
   "source": [
    "#### 4. на виході програма повинна видати десять найчастотніших прислівників для кожного дієслова (разом із частотою). Приклад виводу:\n"
   ]
  },
  {
   "cell_type": "markdown",
   "metadata": {
    "colab_type": "text",
    "id": "RqncRGQeXZ5h"
   },
   "source": [
    "say: (loudly, 51), (silently, 45), (quietly, 10)<br/>\n",
    "tell: (quietly, 100), (loudly, 61), (seriously, 5)"
   ]
  },
  {
   "cell_type": "code",
   "execution_count": 0,
   "metadata": {
    "colab": {},
    "colab_type": "code",
    "id": "dXockBlGXZ5i"
   },
   "outputs": [],
   "source": [
    "def analyze_adverb_with_associated_verbs(nlp, corpus, verbs):\n",
    "    verb_assoc_adverb = find_all_adverb_with_associated_verbs(nlp, corpus, verbs)\n",
    "    \n",
    "    for verb in verb_assoc_adverb:\n",
    "        print(f\"{verb}:\", end=' ')\n",
    "        for adverb in verb_assoc_adverb[verb]:\n",
    "            count = verb_assoc_adverb[verb][adverb]\n",
    "            print(f\"({adverb}, {count}), \", end='')\n",
    "            \n",
    "        print('')"
   ]
  },
  {
   "cell_type": "markdown",
   "metadata": {
    "colab_type": "text",
    "id": "RX19pVODXZ5k"
   },
   "source": [
    "#### 5. збережіть програму та результати аналізу на корпусі (вивід) у директорії з вашим іменем\n"
   ]
  },
  {
   "cell_type": "code",
   "execution_count": 29,
   "metadata": {
    "colab": {
     "base_uri": "https://localhost:8080/",
     "height": 51
    },
    "colab_type": "code",
    "id": "zV-NnnPwXZ5l",
    "outputId": "e8b44f4e-df34-4a70-be58-be778118cd83"
   },
   "outputs": [
    {
     "name": "stdout",
     "output_type": "stream",
     "text": [
      "CPU times: user 521 ms, sys: 6.15 ms, total: 527 ms\n",
      "Wall time: 532 ms\n"
     ]
    }
   ],
   "source": [
    "%time analyze_adverb_with_associated_verbs(nlp, corpus[:10], verbs)"
   ]
  },
  {
   "cell_type": "markdown",
   "metadata": {},
   "source": [
    "Remark: The results below contains also adverbs without '-ly', becuase firstly this was forgotten to consider and was run without consideration "
   ]
  },
  {
   "cell_type": "code",
   "execution_count": 32,
   "metadata": {
    "colab": {
     "base_uri": "https://localhost:8080/",
     "height": 207
    },
    "colab_type": "code",
    "id": "XiZ28p6OXZ5r",
    "outputId": "6daaaaca-8026-4ac1-a2d5-6ba992721b98"
   },
   "outputs": [
    {
     "name": "stdout",
     "output_type": "stream",
     "text": [
      "claim: (initially, 3), (also, 61), (still, 11), (however, 14), (where, 9), (brazenly, 1), (far, 3), (so, 12), (surely, 2), (down, 5), (just, 10), (solemnly, 1), (previously, 8), (first, 10), (now, 64), (falsely, 78), (perhaps, 1), (oddly, 1), (already, 2), (meanwhile, 5), (apparently, 2), (never, 8), (when, 47), (abroad, 1), (then, 34), (only, 6), (ahead, 3), (fiercely, 1), (how, 10), (yet, 4), (again, 6), (alternatively, 1), (of, 3), (instead, 2), (even, 15), (constantly, 1), (loudly, 1), (annually, 1), (bizarrely, 2), (outright, 2), (earlier, 7), (actually, 3), (piously, 1), (ago, 8), (really, 2), (recently, 4), (preposterously, 1), (notably, 1), (widely, 1), (hardly, 1), (over, 4), (absurdly, 3), (ever, 2), (furthermore, 1), (clearly, 2), (why, 4), (probably, 1), (finally, 1), (namely, 1), (illegally, 1), (righteously, 1), (otherwise, 5), (indignantly, 2), (long, 2), (not, 4), (immediately, 2), (explicitly, 1), (tearfully, 1), (somehow, 1), (patronizingly, 1), (once, 6), (indeed, 1), (credibly, 3), (repeatedly, 8), (openly, 1), (thus, 2), (second, 1), (up, 1), (remotely, 1), (erroneously, 2), (longer, 1), (publicly, 3), (consistently, 3), (as, 3), (worldwide, 1), (all, 2), (right, 1), (realistically, 1), (always, 1), (both, 1), (out, 1), (later, 14), (much, 1), (truly, 1), (completely, 1), (originally, 2), (merely, 1), (neither, 1), (there, 2), (here, 3), (chronologically, 1), (incorrectly, 2), (evidently, 1), (inadvertently, 1), (afterwards, 1), (best, 1), (persuasively, 1), (predictably, 1), (likely, 1), (ostensibly, 1), (laughably, 3), (sanctimoniously, 1), (shamelessly, 1), (reportedly, 1), (ironically, 2), (cluelessly, 1), (angrily, 1), (jokingly, 1), (baselessly, 3), (pre-emptively, 1), (disingenuously, 2), (inaccurately, 2), (ludicrously, 2), (Ludicrously, 1), (audaciously, 1), (frequently, 2), (largely, 1), (bad, 1), (Rather, 1), (dismissively, 1), (vaguely, 2), (often, 3), (unbelievably, 1), (boldly, 1), (astonishingly, 1), (inexplicably, 1), (incessantly, 1), (similarly, 1), (further, 1), (disturbingly, 1), (emphatically, 1), (improperly, 1), (successfully, 1), (interestingly, 1), (tantalizingly, 1), (above, 1), (mindedly, 1), (formerly, 2), (sweetly, 1), (simultaneously, 1), \n",
      "say: (now, 238), (still, 24), (definitively, 7), (recently, 72), (just, 173), (again, 56), (so, 196), (here, 63), (yet, 16), (also, 320), (literally, 3), (really, 31), (exactly, 7), (indeed, 13), (even, 90), (back, 21), (when, 351), (away, 7), (where, 57), (quickly, 4), (meanwhile, 15), (however, 69), (therefore, 3), (ago, 87), (then, 123), (best, 2), (actually, 74), (presumably, 2), (later, 68), (instead, 30), (cynically, 1), (already, 25), (Rather, 15), (otherwise, 20), (long, 17), (apparently, 8), (ahead, 5), (somewhere, 2), (maybe, 10), (convincingly, 1), (earlier, 50), (triumphantly, 2), (ever, 34), (ultimately, 4), (interestingly, 5), (about, 2), (how, 31), (probably, 15), (there, 43), (unequivocally, 6), (once, 61), (often, 19), (least, 37), (eventually, 3), (previously, 22), (clearly, 23), (repeatedly, 55), (typically, 1), (always, 34), (famously, 19), (first, 34), (unfortunately, 8), (firmly, 1), (only, 44), (before, 58), (why, 55), (all, 29), (further, 4), (too, 14), (sometimes, 5), (currently, 2), (differently, 3), (aside, 4), (dismissively, 5), (not, 17), (late, 3), (directly, 8), (simply, 46), (over, 39), (above, 7), (of, 35), (actively, 1), (obviously, 6), (publicly, 35), (everywhere, 1), (finally, 18), (obvioiusly, 1), (flatly, 9), (responsibly, 1), (stupidly, 1), (originally, 5), (fast, 3), (explicitly, 40), (never, 72), (financially, 1), (especially, 3), (longer, 4), (wide, 1), (quite, 5), (perhaps, 6), (simultaneously, 3), (essentially, 12), (right, 5), (far, 17), (much, 19), (shortly, 2), (more, 6), (graciously, 2), (out, 10), (well, 8), (respectfully, 2), (low, 1), (specifically, 18), (indoors, 1), (consistently, 7), (nowhere, 1), (infamously, 1), (high, 2), (hence, 2), (nervously, 1), (allegedly, 7), (thus, 1), (warmly, 1), (Soon, 3), (faster, 1), (strongly, 1), (instantly, 1), (down, 3), (soon, 6), (sometime, 3), (mockingly, 3), (honestly, 12), (bluntly, 8), (nevertheless, 4), (rightfuly, 1), (persily, 1), (twice, 4), (secondly, 2), (else, 8), (overall, 6), (absurdly, 1), (Ahmadinajed, 1), (routinely, 2), (constantly, 5), (unlike, 2), (generally, 1), (almost, 2), (anywhere, 1), (certainly, 5), (falsely, 3), (anymore, 4), (whenever, 2), (suddenly, 3), (rightly, 3), (hard, 1), (reportedly, 10), (rather, 11), (furthermore, 7), (hopeful, 2), (confidently, 1), (similarly, 12), (anyway, 5), (together, 3), (quietly, 5), (correctly, 7), (usually, 2), (Easier, 1), (substantially, 1), (plainly, 3), (importantly, 1), (little, 4), (purportedly, 1), (besides, 5), (at, 6), (smugly, 1), (innocently, 1), (privately, 19), (definitely, 1), (derisively, 2), (as, 9), (basically, 32), (better, 1), (similiarly, 1), (both, 1), (snidely, 1), (defensively, 1), (fewer, 1), (afterwards, 1), (straightforwardly, 1), (particularly, 1), (though, 13), (very, 2), (properly, 1), (merely, 18), (genteelly, 1), (accidentally, 2), (either, 2), (sadly, 1), (forever, 3), (casually, 1), (moreover, 8), (elsewhere, 4), (throatedly, 1), (less, 3), (inevitably, 1), (off, 8), (blindly, 1), (kind, 1), (thoughtfully, 1), (euphemistically, 2), (seriously, 3), (coincidentally, 1), (animatedly, 1), (ruefully, 1), (sheepishly, 1), (half, 1), (necessarily, 3), (second, 6), (anytime, 1), (incorrectly, 1), (surprisingly, 3), (somehow, 1), (matter, 5), (anythingpublicly, 1), (in, 4), (pointedly, 1), (imo, 1), (loudly, 2), (below, 3), (third, 2), (enough, 9), (insofar, 1), (hardly, 1), (outright, 3), (charitably, 1), (completely, 1), (around, 2), (overwhelmingly, 1), (frequently, 2), (likely, 1), (initially, 6), (sort, 2), (absolutely, 6), (precisely, 2), (virtually, 1), (immediately, 4), (supposedly, 3), (north, 1), (Beforehand, 1), (notably, 2), (up, 9), (incidentally, 3), (neatly, 1), (rightfully, 1), (memorably, 1), (officially, 1), (next, 1), (fundamentally, 1), (surely, 2), (on, 5), (Afterwards, 1), (tactfully, 1), (technically, 2), (safely, 2), (unconsciously, 1), (openly, 5), (aloud, 1), (Elsewhere, 1), (along, 2), (rarely, 1), (regardless, 4), (alternately, 1), (acidly, 1), (easier, 1), (cryptically, 1), (evidently, 1), (forward, 1), (purely, 1), (inartful, 1), (early, 5), (ironically, 4), (easily, 5), (frankly, 2), (legitimately, 1), (worse, 1), (bad, 1), (normally, 3), (theoretically, 1), (unbelievably, 1), (hypothetically, 4), (possibly, 1), (lately, 2), (politically, 1), (reluctantly, 2), (truly, 1), (categorically, 2), (automatically, 1), (notoriously, 1), (conservatively, 2), (additionally, 3), (sarcastically, 1), (judiciously, 1), (roughly, 1), (candidly, 1), (curiously, 1), (notwithstanding, 1), (effectively, 2), (naturally, 1), (since, 1), (illegally, 1), (bitterly, 1), (erroneously, 1), (conversely, 1), (emphatically, 1), (approvingly, 1), (proudly, 1), (equally, 1), (haltingly, 1), (farewell, 1), (nonetheless, 2), (intially, 1), (most, 2), (neither, 1), (significantly, 1), (predictably, 1), (plausibly, 1), (super, 2), (â, 1), (prophetically, 1), (amazingly, 1), (abroad, 1), (inadvertently, 1), (flat, 2), (wrongly, 2), (dryly, 1), (continuously, 1), (curtly, 1), (contemporaneously, 2), (unabashedly, 1), (jokingly, 1), (boldly, 1), (sternly, 5), (severely, 1), (politely, 1), (strikingly, 2), (weekly, 1), (grimly, 1), (indignantly, 2), (near, 1), (independently, 1), (forcefully, 1), \n",
      "speak: (briefly, 9), (how, 12), (subsequently, 1), (when, 73), (ago, 8), (out, 83), (now, 27), (publicly, 15), (also, 19), (tactically, 1), (not, 11), (directly, 34), (anonymously, 5), (bluntly, 3), (privately, 3), (recently, 9), (exclusively, 1), (on, 1), (just, 16), (infrequently, 1), (up, 8), (shortly, 4), (so, 13), (anywhere, 1), (often, 7), (back, 3), (perhaps, 2), (even, 16), (only, 13), (however, 5), (fiercely, 12), (first, 8), (all, 8), (eloquently, 5), (too, 6), (alone, 1), (technically, 2), (probably, 3), (naturally, 1), (before, 5), (negatively, 2), (movingly, 1), (generally, 8), (here, 10), (previously, 6), (apparently, 2), (intensely, 1), (well, 19), (where, 24), (truthily, 1), (again, 5), (fluently, 1), (ever, 9), (highly, 3), (best, 1), (certainly, 3), (politically, 7), (willingly, 1), (inadvertently, 1), (earlier, 9), (never, 15), (twice, 3), (longer, 2), (together, 1), (emotionally, 1), (haltingly, 2), (simply, 2), (therefore, 1), (though, 1), (constitutionally, 1), (frequently, 4), (earnestly, 1), (away, 1), (long, 2), (despairingly, 1), (really, 4), (then, 4), (brusquely, 1), (economically, 1), (loudly, 7), (abusively, 1), (freely, 5), (cavalierly, 1), (authoratively, 1), (somewhere, 1), (constantly, 1), (there, 6), (comparatively, 3), (stylistically, 1), (accurately, 1), (derisively, 1), (harshly, 1), (gingerly, 1), (specifically, 4), (plainly, 3), (broadly, 5), (later, 6), (anyway, 3), (forcefully, 5), (barely, 1), (yet, 4), (occasionally, 1), (glowingly, 2), (once, 5), (rarely, 2), (meanwhile, 2), (strictly, 7), (clearly, 6), (always, 1), (traditionally, 1), (extensively, 1), (actually, 6), (figuratively, 5), (indeed, 4), (statistically, 2), (why, 5), (effectively, 2), (finally, 4), (enthusiastically, 1), (imprecisely, 2), (candidly, 3), (unsurprisingly, 1), (whenever, 3), (exactly, 2), (at, 3), (properly, 1), (Roughly, 1), (openly, 8), (strongly, 4), (of, 3), (objectively, 2), (disdainfully, 1), (competently, 1), (darkly, 1), (frankly, 4), (sorta, 1), (relentlessly, 1), (straight, 1), (especially, 1), (maybe, 3), (pretty, 1), (legally, 1), (usually, 2), (as, 2), (above, 1), (already, 3), (culturally, 1), (least, 1), (historically, 2), (quickly, 1), (hypothetically, 2), (inartfully, 2), (enough, 1), (semi-facetiously, 1), (extemporaneously, 3), (morally, 1), (correctly, 1), (badly, 1), (soon, 7), (softly, 2), (instead, 3), (hysterically, 1), (unfortunately, 1), (rationally, 1), (conspicuously, 1), (Afterwards, 1), (relatively, 1), (practically, 2), (philosophically, 1), (after, 1), (still, 1), (dismissively, 1), (normally, 1), (since, 1), (much, 1), (right, 2), (lately, 1), (personally, 2), (literally, 2), (immensely, 1), (competitively, 1), (ethically, 1), (very, 1), (slowly, 1), (passionately, 1), (more, 2), (truthfully, 2), (metaphorically, 2), (down, 1), (additionally, 1), (aggressively, 1), (consistently, 1), (repeatedly, 1), (presumably, 1), (regularly, 1), (nevertheless, 1), (favorably, 5), (kind, 1), (confidentially, 1), (afterward, 1), (essentially, 1), (far, 1), (reportedly, 1), (daily, 1), (officially, 1), (compassionately, 1), (understandably, 1), (ahead, 1), (both, 2), (truly, 1), (currently, 1), (furthermore, 1), \n",
      "tell: (meanwhile, 3), (so, 60), (long, 5), (where, 12), (continually, 1), (here, 15), (bad, 2), (furthermore, 3), (first, 12), (ago, 32), (how, 20), (there, 7), (often, 9), (when, 101), (over, 14), (before, 3), (earlier, 23), (flatly, 2), (back, 9), (well, 5), (abroad, 2), (most, 6), (just, 46), (later, 28), (privately, 11), (above, 1), (also, 59), (now, 50), (glibly, 1), (willingly, 1), (subsequently, 1), (ever, 14), (repeatedly, 7), (perhaps, 8), (even, 20), (never, 15), (actually, 8), (bluntly, 5), (Rather, 2), (probably, 7), (recently, 25), (maybe, 8), (apparently, 4), (why, 32), (exactly, 4), (habitually, 1), (possibly, 2), (really, 7), (as, 3), (especially, 4), (specifically, 8), (undoubtedly, 1), (finally, 8), (faithfully, 1), (unavailingly, 1), (originally, 1), (best, 2), (soon, 3), (extremely, 3), (not, 7), (much, 3), (all, 12), (however, 13), (reportedly, 15), (only, 9), (confidently, 4), (basically, 9), (evidently, 1), (afterward, 1), (again, 27), (then, 49), (shortly, 2), (thereafter, 1), (around, 1), (since, 1), (sadly, 1), (seldom, 1), (still, 3), (accidentally, 2), (almost, 1), (snidely, 1), (next, 5), (away, 1), (defensively, 1), (solemnly, 1), (too, 2), (consistently, 1), (despite, 1), (effectively, 3), (loudly, 1), (constantly, 4), (instead, 7), (regardless, 3), (once, 12), (besides, 1), (certainly, 5), (more, 4), (very, 7), (better, 1), (quite, 3), (coincidentally, 1), (usually, 2), (always, 12), (of, 6), (heatedly, 1), (casually, 1), (essentially, 3), (early, 1), (supposedly, 1), (honestly, 3), (famously, 2), (explicitly, 7), (out, 3), (anymore, 2), (Sadly, 1), (helpfully, 2), (down, 3), (easily, 1), (seriously, 2), (at, 2), (indirectly, 1), (on, 1), (particularly, 2), (sometimes, 2), (inside, 2), (falsely, 2), (quickly, 1), (slowly, 2), (likely, 3), (initially, 4), (yet, 6), (mindedly, 1), (grimly, 1), (innocently, 1), (relatedly, 1), (in, 1), (similarly, 4), (reliably, 3), (politely, 1), (together, 1), (personally, 6), (publicly, 2), (far, 1), (indeed, 12), (everywhere, 1), (allegedly, 3), (sure, 1), (elsewhere, 1), (Sort, 1), (already, 6), (second, 1), (sternly, 1), (readily, 1), (either, 1), (whereby, 1), (though, 4), (suddenly, 2), (twice, 3), (forever, 1), (along, 3), (mostly, 1), (ahead, 1), (definitively, 2), (doubtless, 1), (dismissively, 2), (across, 1), (plausibly, 1), (unequivocally, 1), (thus, 1), (blithely, 1), (condescendingly, 1), (enough, 2), (sarcastically, 1), (simply, 8), (Forward, 1), (sheepishly, 1), (that, 1), (categorically, 1), (fairly, 1), (curiously, 2), (eventually, 2), (gleefully, 1), (up, 1), (-so-subtly, 1), (Richer, 2), (officially, 1), (previously, 1), (frankly, 2), (ultimately, 2), (respectfully, 1), (directly, 1), (candidly, 1), (disingenuously, 1), (infamously, 1), (pretty, 1), (about, 2), (overall, 1), (clearly, 1), (necessarily, 1), (late, 1), (optimistically, 1), (expressly, 1), (lovingly, 1), (barely, 2), (apart, 2), (dramatically, 1), (alone, 1), (kindly, 1), \n",
      "report: (when, 31), (late, 3), (previously, 13), (recently, 31), (barely, 1), (better, 1), (first, 32), (rather, 2), (also, 61), (questionably, 1), (instead, 5), (breathlessly, 10), (never, 14), (surprisingly, 1), (even, 12), (now, 29), (usually, 1), (fairly, 2), (only, 8), (as, 1), (fully, 1), (yet, 4), (however, 19), (out, 3), (here, 23), (much, 2), (little, 1), (often, 2), (cheerily, 1), (why, 7), (long, 4), (completely, 2), (overwhelmingly, 1), (historically, 1), (always, 1), (together, 2), (publicly, 2), (extensively, 2), (early, 3), (promptly, 1), (widely, 17), (next, 2), (by, 1), (back, 18), (still, 1), (ago, 21), (earlier, 25), (evidently, 1), (grudgingly, 1), (there, 7), (already, 9), (abroad, 2), (professionally, 1), (so, 8), (clearly, 2), (just, 10), (handedly, 1), (meanwhile, 10), (honestly, 4), (on, 7), (not, 12), (exactly, 1), (constantly, 1), (falsely, 4), (aggressively, 2), (least, 1), (dutifully, 2), (accurately, 3), (then, 3), (how, 9), (enough, 1), (simply, 5), (properly, 1), (all, 5), (especially, 2), (above, 1), (individually, 1), (gleefully, 5), (merely, 1), (right, 1), (forthrightly, 1), (periodically, 1), (before, 6), (commonly, 1), (of, 1), (further, 2), (where, 4), (easily, 1), (straight, 2), (finally, 4), (factually, 1), (very, 1), (carefully, 1), (directly, 6), (obsessively, 1), (ironically, 2), (anywhere, 1), (duly, 2), (wide, 1), (otherwise, 1), (well, 2), (truthfully, 1), (routinely, 2), (uncritically, 1), (voluntarily, 1), (later, 8), (regularly, 1), (seriously, 1), (up, 1), (regardless, 1), (consistently, 1), (either, 2), (in, 2), (again, 4), (independently, 1), (essentially, 1), (though, 2), (correctly, 3), (reliably, 1), (down, 2), (indeed, 4), (sometimes, 2), (hardly, 1), (anymore, 2), (whenever, 1), (conspicuously, 1), (apparently, 2), (too, 2), (explicitly, 3), (objectively, 1), (incorrectly, 1), (unfortunately, 1), (actually, 2), (specifically, 1), (twice, 5), (interestingly, 1), (over, 2), (amazingly, 1), (perhaps, 2), (additionally, 1), (high, 1), (fraudulently, 1), (at, 1), (inaccurately, 1), (calmly, 1), (quietly, 1), (mistakenly, 2), (ever, 1), (legitimately, 1), (alone, 1), (repeatedly, 2), (more, 1), (somewhere, 1), (originally, 3), (nicely, 1), (vigorously, 1), (really, 3), (below, 6), (separately, 3), (quickly, 1), (Rather, 1), (nationwide, 1), (exclusively, 1), \n",
      "talk: (so, 9), (also, 23), (especially, 2), (when, 117), (consistently, 2), (prematurely, 1), (still, 20), (then, 13), (Straight, 2), (recently, 4), (off, 1), (all, 15), (forcefully, 1), (alone, 2), (actively, 1), (now, 47), (blithely, 1), (West, 1), (directly, 14), (ever, 7), (ago, 6), (about, 4), (rarely, 2), (really, 10), (never, 14), (already, 5), (not, 32), (why, 26), (frankly, 2), (sometimes, 1), (here, 38), (away, 2), (openly, 7), (only, 14), (instead, 10), (somehow, 2), (unconditionally, 2), (at, 5), (glowingly, 1), (notably, 1), (there, 9), (again, 20), (publicly, 6), (straight, 4), (where, 13), (mainly, 1), (how, 12), (more, 2), (earlier, 4), (whenever, 1), (personally, 5), (first, 11), (often, 4), (rather, 4), (just, 44), (perhaps, 3), (maybe, 6), (even, 16), (down, 9), (back, 6), (either, 3), (too, 8), (through, 1), (softly, 2), (clearly, 6), (out, 3), (firmly, 1), (most, 3), (of, 7), (always, 4), (honestly, 2), (west, 1), (course, 1), (soon, 4), (usually, 1), (quickly, 1), (truly, 1), (reasonably, 1), (thus, 1), (virtuously, 1), (least, 2), (very, 2), (over, 4), (badly, 1), (routinely, 1), (probably, 3), (express, 3), (explicitly, 1), (nationally, 1), (elsewhere, 1), (evidently, 1), (concretely, 1), (anyway, 3), (beautifully, 1), (before, 9), (immediatley, 1), (eventually, 1), (gamely, 1), (essentially, 1), (separately, 1), (meanwhile, 1), (later, 3), (much, 10), (as, 4), (actually, 7), (certainly, 2), (enough, 2), (almost, 1), (constantly, 5), (yet, 2), (simply, 2), (non-stop, 2), (repeatedly, 6), (daily, 2), (extensively, 2), (well, 1), (anonymously, 1), (otherwise, 2), (literally, 2), (right, 4), (increasingly, 1), (vaporously, 1), (however, 2), (anymore, 2), (gravely, 1), (early, 1), (specifically, 9), (broadly, 1), (brazenly, 1), (presumably, 2), (exactly, 2), (purely, 1), (obviously, 4), (substantively, 1), (afterwards, 1), (unanimously, 1), (endlessly, 3), (twice, 1), (voluntarily, 1), (ostensibly, 1), (hard, 3), (suddenly, 2), (incessantly, 1), (longer, 3), (mostly, 3), (Soon, 2), (afterward, 1), (furthermore, 1), (altogether, 1), (effectively, 1), (outwardly, 1), (long, 4), (occasionally, 1), (though, 3), (interestingly, 1), (approvingly, 1), (rightly, 1), (briefly, 1), (late, 1), (allegedly, 1), (matter, 1), (casually, 1), (in, 1), (once, 1), (unfortunately, 2), (particularly, 1), (cordially, 1), (next, 1), (stiffly, 1), (like, 1), (everywhere, 2), (finally, 2), (together, 1), (merely, 2), (regularly, 5), (periodically, 2), (super, 3), (further, 1), (exclusively, 1), (nicely, 1), (unilaterally, 1), (passionately, 1), (previously, 1), (apparently, 1), (namely, 1), (necessarily, 1), (on, 1), (both, 1), (sensibly, 1), (Rather, 1), (responsibly, 1), \n",
      "argue: (questionably, 1), (still, 8), (as, 2), (also, 18), (persuasively, 3), (never, 1), (back, 3), (over, 6), (ago, 7), (perhaps, 2), (here, 3), (however, 10), (clearly, 1), (specifically, 3), (of, 3), (long, 7), (now, 20), (so, 6), (earlier, 2), (rationally, 1), (mindlessly, 1), (vociferously, 2), (effectively, 2), (though, 2), (there, 3), (further, 1), (seriously, 4), (all, 6), (explicitly, 2), (probably, 1), (when, 14), (why, 2), (otherwise, 4), (soon, 1), (often, 4), (meanwhile, 4), (forcefully, 5), (passionately, 2), (simply, 1), (initially, 1), (falsely, 3), (even, 4), (strenuously, 2), (then, 9), (indeed, 3), (along, 1), (secondarily, 1), (loudly, 1), (forever, 2), (out, 1), (how, 5), (actually, 3), (far, 1), (temporarily, 1), (certainly, 1), (everywhere, 1), (ever, 2), (next, 1), (instead, 3), (repeatedly, 4), (essentially, 2), (longer, 1), (first, 2), (just, 5), (already, 1), (implicitly, 1), (entirely, 1), (basically, 4), (strongly, 2), (anyway, 2), (where, 2), (finally, 1), (about, 1), (ironically, 1), (scornfully, 1), (only, 3), (unfortunately, 1), (later, 4), (mildly, 1), (obliquely, 1), (especially, 1), (much, 1), (legalistically, 1), (necessarily, 1), (practically, 1), (least, 1), (simultaneously, 1), (maybe, 2), (quickly, 2), (cluelessly, 2), (vehemently, 1), (substantively, 1), (importantly, 1), (once, 1), (regardless, 1), (incredibly, 1), (recently, 4), (fruitlessly, 1), (similarly, 3), (previously, 3), (moreover, 1), (consistently, 2), (defensively, 1), (erroneously, 1), (more, 1), (credibly, 3), (somehow, 1), (ahead, 1), (remarkably, 1), (likely, 1), (rightly, 1), (constantly, 1), (plausibly, 1), (unequivocally, 1), (convincingly, 2), (Rather, 1), (too, 1), (really, 1), (separately, 1), (broadly, 1), (below, 1), (internally, 1), \n",
      "express: (now, 3), (where, 8), (verbally, 1), (also, 11), (therefore, 1), (actually, 3), (even, 4), (famously, 1), (why, 1), (always, 3), (instead, 5), (notoriously, 1), (recently, 1), (never, 8), (much, 1), (when, 7), (merely, 1), (as, 2), (ever, 5), (openly, 2), (privately, 3), (here, 2), (not, 1), (simply, 1), (well, 1), (personally, 1), (publicly, 2), (freely, 3), (later, 1), (delicately, 1), (indeed, 2), (reportedly, 1), (already, 3), (still, 1), (repeatedly, 6), (comprehensively, 1), (in, 1), (rather, 1), (directly, 1), (so, 1), (certainly, 1), (initially, 1), (starkly, 2), (though, 1), (actively, 1), (finally, 1), (exactly, 1), (then, 2), (only, 2), (politically, 1), (however, 1), (often, 1), (more, 1), (Afterwards, 1), (eagerly, 1), (further, 1), (frequently, 1), (long, 1), (obviously, 1), (just, 2), (possibly, 1), (clearly, 1), (all, 1), (best, 1), (hopefully, 1), (passionately, 1), \n",
      "communicate: (sure, 1), (freely, 1), (really, 1), (often, 1), (effectively, 3), (directly, 3), (non-verbally, 1), (apparently, 1), (kind, 1), (when, 2), (loudly, 1), (how, 5), (again, 1), (back, 1), (hopefully, 1), (daily, 1), (actually, 1), (still, 1), (regularly, 1), (also, 1), (quickly, 1), (already, 1), (even, 1), (profoundly, 1), (abroad, 1), (poorly, 1), (finally, 1), (privately, 1), \n",
      "notify: (here, 1), (then, 1), (already, 1), (ahead, 1), (even, 1), (now, 1), (properly, 1), (never, 1), (only, 1), (also, 1), (whenever, 1), \n"
     ]
    }
   ],
   "source": [
    "analyze_adverb_with_associated_verbs(nlp, corpus, verbs)"
   ]
  },
  {
   "cell_type": "markdown",
   "metadata": {
    "colab_type": "text",
    "id": "--x0E4qBXZ5t"
   },
   "source": [
    "### 2. Українська мова"
   ]
  },
  {
   "cell_type": "code",
   "execution_count": 0,
   "metadata": {
    "colab": {},
    "colab_type": "code",
    "id": "ih7a1EcAXZ5u",
    "outputId": "bb1561cc-8f0e-460d-9726-9799c2aaaac5"
   },
   "outputs": [
    {
     "name": "stdout",
     "output_type": "stream",
     "text": [
      "Use device: cpu\n",
      "---\n",
      "Loading: tokenize\n",
      "With settings: \n",
      "{'model_path': '/Users/dmytro.babenko/stanfordnlp_resources/uk_iu_models/uk_iu_tokenizer.pt', 'lang': 'uk', 'shorthand': 'uk_iu', 'mode': 'predict'}\n",
      "---\n",
      "Loading: pos\n",
      "With settings: \n",
      "{'model_path': '/Users/dmytro.babenko/stanfordnlp_resources/uk_iu_models/uk_iu_tagger.pt', 'pretrain_path': '/Users/dmytro.babenko/stanfordnlp_resources/uk_iu_models/uk_iu.pretrain.pt', 'lang': 'uk', 'shorthand': 'uk_iu', 'mode': 'predict'}\n",
      "---\n",
      "Loading: lemma\n",
      "With settings: \n",
      "{'model_path': '/Users/dmytro.babenko/stanfordnlp_resources/uk_iu_models/uk_iu_lemmatizer.pt', 'lang': 'uk', 'shorthand': 'uk_iu', 'mode': 'predict'}\n",
      "Building an attentional Seq2Seq model...\n",
      "Using a Bi-LSTM encoder\n",
      "Using soft attention for LSTM.\n",
      "Finetune all embeddings.\n",
      "[Running seq2seq lemmatizer with edit classifier]\n",
      "---\n",
      "Loading: depparse\n",
      "With settings: \n",
      "{'model_path': '/Users/dmytro.babenko/stanfordnlp_resources/uk_iu_models/uk_iu_parser.pt', 'pretrain_path': '/Users/dmytro.babenko/stanfordnlp_resources/uk_iu_models/uk_iu.pretrain.pt', 'lang': 'uk', 'shorthand': 'uk_iu', 'mode': 'predict'}\n",
      "Done loading processors!\n",
      "---\n"
     ]
    }
   ],
   "source": [
    "nlp_uk = stanfordnlp.Pipeline(lang=\"uk\")"
   ]
  },
  {
   "cell_type": "markdown",
   "metadata": {
    "colab_type": "text",
    "id": "RyDDAn1SXZ5w"
   },
   "source": [
    "#### 1. напишіть функцію, яка знаходить у реченні іменник, що позначає істоту, і витягає усі прикметники, якими цей іменник керує\n"
   ]
  },
  {
   "cell_type": "code",
   "execution_count": 0,
   "metadata": {
    "colab": {},
    "colab_type": "code",
    "id": "wM7WeupcXZ5w"
   },
   "outputs": [],
   "source": [
    "def is_token_anim(token):\n",
    "    if 'Animacy=Anim' in token.feats:\n",
    "        return True\n",
    "    return False"
   ]
  },
  {
   "cell_type": "code",
   "execution_count": 0,
   "metadata": {
    "colab": {},
    "colab_type": "code",
    "id": "4uTrCLfEXZ5y"
   },
   "outputs": [],
   "source": [
    "def find_noun_with_associated_adj(nlp, text: str, noun_adj_dict : Dict[str, Dict[str, int]] = None):\n",
    "    doc = nlp(text)\n",
    "    \n",
    "    if noun_adj_dict is None:\n",
    "        noun_adj_dict = dict()\n",
    "    \n",
    "    for sent in doc.sentences:\n",
    "        for token in sent.dependencies:   \n",
    "                        \n",
    "            if token[0].upos != 'ADJ' and token[0].upos != 'NOUN':\n",
    "                continue\n",
    "\n",
    "            if token[2].upos != 'ADJ' and token[2].upos != 'NOUN':\n",
    "                continue\n",
    "                \n",
    "            \n",
    "            if token[0].upos == 'ADJ' and token[2].upos != 'NOUN':\n",
    "                continue\n",
    "                \n",
    "            if token[0].upos == 'NOUN' and token[2].upos != 'ADJ':\n",
    "                continue\n",
    "                     \n",
    "            noun_token = token[0] if token[0].upos == 'NOUN' else token[2]\n",
    "            \n",
    "            #перевірка чи іменнки позначає істоту\n",
    "            if is_token_anim(noun_token) is False:\n",
    "                continue\n",
    "            \n",
    "            adj_token = token[0] if token[0].upos == 'ADJ' else token[2]\n",
    "            \n",
    "            noun = noun_token.text\n",
    "            adjective = adj_token.text\n",
    "            \n",
    "            if noun not in noun_adj_dict:\n",
    "                noun_adj_dict[noun] = { adjective : 1}\n",
    "            else:\n",
    "                if adjective not in noun_adj_dict[noun]:\n",
    "                    noun_adj_dict[noun][adjective] = 1\n",
    "                else:\n",
    "                    noun_adj_dict[noun][adjective] += 1\n",
    "                            \n",
    "    return noun_adj_dict        "
   ]
  },
  {
   "cell_type": "code",
   "execution_count": 0,
   "metadata": {
    "colab": {},
    "colab_type": "code",
    "id": "sxgWVFqDXZ50"
   },
   "outputs": [],
   "source": [
    "sentence_example = \"Чоловік був щирий та добре поводився зі своїм котом.\""
   ]
  },
  {
   "cell_type": "code",
   "execution_count": 0,
   "metadata": {
    "colab": {},
    "colab_type": "code",
    "id": "BDZ3_5awXZ53",
    "outputId": "9ff2cc2f-957d-4fe1-f7cc-363ebdc01515"
   },
   "outputs": [
    {
     "data": {
      "text/plain": [
       "{'Чоловік': {'щирий': 1}}"
      ]
     },
     "execution_count": 27,
     "metadata": {
      "tags": []
     },
     "output_type": "execute_result"
    }
   ],
   "source": [
    "find_noun_with_associated_adj(nlp_uk, sentence_example)"
   ]
  },
  {
   "cell_type": "markdown",
   "metadata": {
    "colab_type": "text",
    "id": "kybtG4DzXZ55"
   },
   "source": [
    "#### 2. напишіть програму, яка знайде усі можливі словосполучення прикметників та іменників-істот у романі \"Тигролови\""
   ]
  },
  {
   "cell_type": "code",
   "execution_count": 0,
   "metadata": {
    "colab": {},
    "colab_type": "code",
    "id": "AFonqoy0XZ56"
   },
   "outputs": [],
   "source": [
    "tyhrolovy_file = \"../../../tasks/02-structural-linguistics/data/tyhrolovy.txt\""
   ]
  },
  {
   "cell_type": "code",
   "execution_count": 0,
   "metadata": {
    "colab": {},
    "colab_type": "code",
    "id": "5t8w5KD3XZ59"
   },
   "outputs": [],
   "source": [
    "tyhrolovy_corpus = read_file(tyhrolovy_file)"
   ]
  },
  {
   "cell_type": "code",
   "execution_count": 0,
   "metadata": {
    "colab": {},
    "colab_type": "code",
    "id": "dZ1V37e2XZ5_"
   },
   "outputs": [],
   "source": [
    "def find_noun_with_associated_adj_for_corpus(nlp, corpus: List[str]):\n",
    "    result = dict()\n",
    "    for text in corpus:\n",
    "        if text is None or len(text) <= 1:\n",
    "            continue \n",
    "        find_noun_with_associated_adj(nlp, text, result)\n",
    "    return result"
   ]
  },
  {
   "cell_type": "code",
   "execution_count": 0,
   "metadata": {
    "colab": {},
    "colab_type": "code",
    "id": "Hpvl_ZGwXZ6B"
   },
   "outputs": [],
   "source": [
    "noun_adj_dict = find_noun_with_associated_adj_for_corpus(nlp_uk, tyhrolovy_corpus[:50])"
   ]
  },
  {
   "cell_type": "code",
   "execution_count": 0,
   "metadata": {
    "colab": {},
    "colab_type": "code",
    "id": "kY00XBsSXZ6D",
    "outputId": "14d10fb7-5b5f-4d91-ea36-d7f7fbae52f8"
   },
   "outputs": [
    {
     "data": {
      "text/plain": [
       "{'лось': {'сохатий': 1},\n",
       " 'дракон': {'легендарний': 1, 'реальний': 2, 'справжній': 1, 'найбільший': 1},\n",
       " 'драконів': {'найстрашніший': 1},\n",
       " 'голова': {'вогненноока': 1},\n",
       " 'циклоп': {'велетенський': 1, 'двоокий': 1},\n",
       " 'мертвяків': {'живих': 1},\n",
       " 'дракона': {'натоптане': 1}}"
      ]
     },
     "execution_count": 32,
     "metadata": {
      "tags": []
     },
     "output_type": "execute_result"
    }
   ],
   "source": [
    "noun_adj_dict"
   ]
  },
  {
   "cell_type": "markdown",
   "metadata": {
    "colab_type": "text",
    "id": "h5e3T5qJXZ6F"
   },
   "source": [
    "#### 3. на виході програма повинна видати усі знайдені словосполучення та їх частоти. Приклад виводу: <br/> \n",
    "84: старий сірко <br/> \n",
    "5: великий начальник <br/> "
   ]
  },
  {
   "cell_type": "code",
   "execution_count": 0,
   "metadata": {
    "colab": {},
    "colab_type": "code",
    "id": "UAxOgZncXZ6F"
   },
   "outputs": [],
   "source": [
    "def analyze_noun_with_associated_adjectives(nlp, corpus):\n",
    "    noun_adj_dict = find_noun_with_associated_adj_for_corpus(nlp, corpus)\n",
    "    for noun in noun_adj_dict:\n",
    "        for adjective in noun_adj_dict[noun]:\n",
    "            phrase = f\"{adjective} {noun}\"\n",
    "            count = noun_adj_dict[noun][adjective]\n",
    "\n",
    "            print(f\"{count}: {phrase}\")"
   ]
  },
  {
   "cell_type": "markdown",
   "metadata": {
    "colab_type": "text",
    "id": "0gPkqUaaXZ6H"
   },
   "source": [
    "#### 4. збережіть програму та результати виводу в директорії з вашим іменем"
   ]
  },
  {
   "cell_type": "code",
   "execution_count": 0,
   "metadata": {
    "colab": {},
    "colab_type": "code",
    "id": "2tV-1aWyXZ6I",
    "outputId": "b77b09c1-2cae-46ff-f652-afb2ab5cd58b"
   },
   "outputs": [
    {
     "name": "stdout",
     "output_type": "stream",
     "text": [
      "1: сохатий лось\n",
      "1: легендарний дракон\n",
      "2: реальний дракон\n",
      "1: справжній дракон\n",
      "1: найбільший дракон\n",
      "1: найстрашніший драконів\n",
      "1: вогненноока голова\n",
      "1: примружені голова\n",
      "1: непокрита голова\n",
      "1: оленяча голова\n",
      "1: мокра голова\n",
      "1: Другий голова\n",
      "1: велетенський циклоп\n",
      "1: двоокий циклоп\n",
      "1: живих мертвяків\n",
      "1: натоптане дракона\n",
      "1: великий начальник\n",
      "1: сердитий начальник\n",
      "1: розцяцькований начальник\n",
      "1: більший начальник\n",
      "1: Великий начальник\n",
      "1: дурний начальник\n",
      "2: рідний товаришу\n",
      "1: надзвичайне власника\n",
      "1: обірваних людей\n",
      "1: випадкових людей\n",
      "1: змарнованих людей\n",
      "1: списаних людей\n",
      "1: молодих людей\n",
      "1: різних людей\n",
      "1: простих людей\n",
      "1: змучених людей\n",
      "1: чудодійної людей\n",
      "1: силенну людей\n",
      "1: напівголих людей\n",
      "1: обірваних пращури\n",
      "1: худих скелети\n",
      "1: зігнані вівці\n",
      "1: оточені вівці\n",
      "1: божевільний маніяк\n",
      "1: безумний сміливцю\n",
      "1: гордого сокола\n",
      "1: безумного сміливця\n",
      "1: гордого нащадка\n",
      "1: першого каторжанина\n",
      "1: страшного злочинця\n",
      "1: державного злочинця\n",
      "1: русявий Юнак\n",
      "1: експансивними мешканцями\n",
      "1: заселені мешканцями\n",
      "1: колгоспні колективізатори\n",
      "1: радгоспні бюрократи\n",
      "1: індустріальні авантюрники\n",
      "1: потенціальні злодії\n",
      "1: імпотентні фарисеї\n",
      "1: літні панії\n",
      "1: відповідальні панії\n",
      "1: ексцентричні панії\n",
      "1: закохані котики\n",
      "1: Експансивні відкривателі\n",
      "1: зухвалі рекордсмени\n",
      "1: непереможного співець\n",
      "1: хоробрих шукачів\n",
      "1: екзальтованих шукачів\n",
      "1: смугаста кішечко\n",
      "1: четвертого коханця\n",
      "1: похідних коханців\n",
      "1: розгублений супруг\n",
      "1: сп'янілий шукач\n",
      "1: дурна кішка\n",
      "1: отака кішка\n",
      "1: тая кішка\n",
      "1: вража кішка\n",
      "1: велика кішка\n",
      "1: Велетенська кішка\n",
      "2: зв'язана кішка\n",
      "1: піймана кішка\n",
      "1: могутній талісман\n",
      "1: старих кавалерів\n",
      "1: прекраснооких панянок\n",
      "1: мальованих панянок\n",
      "1: одчайдушних шибайголів\n",
      "1: молодих шибайголів\n",
      "1: безжурних шибайголів\n",
      "1: старих кооператорів\n",
      "1: гемороїдальних кооператорів\n",
      "1: гімалайський ведмідь\n",
      "1: волохатий ведмідь\n",
      "1: Величезний ведмідь\n",
      "1: чорний ведмідь\n",
      "1: другий ведмідь\n",
      "1: мертвий ведмідь\n",
      "1: шляхетний олень\n",
      "2: молодий олень\n",
      "1: гордий олень\n",
      "1: плямистий олень\n",
      "1: сірий олень\n",
      "1: сніжний горал\n",
      "1: дикий горал\n",
      "1: тендітний єнот\n",
      "1: екзальтованих конкістадорів\n",
      "1: дерев'яні генієм\n",
      "1: Вокальному стилеві\n",
      "1: європейському стилеві\n",
      "1: давні омулі\n",
      "1: легендарні омулі\n",
      "1: смердючі омулі\n",
      "1: свіжі Омулі\n",
      "1: звичайні риби\n",
      "1: священні риби\n",
      "1: останній пасажир\n",
      "1: морські звірі\n",
      "1: морські діркою\n",
      "1: Здезорієнтовані пасажири\n",
      "1: екзотичних тубільців\n",
      "1: червоношкірих бурятів\n",
      "1: засмалених якутів\n",
      "2: бронзових якутів\n",
      "1: подібних якутів\n",
      "1: джеклондонівських індійців\n",
      "1: подібних індійців\n",
      "1: гостровухими псами\n",
      "1: перших каторжників\n",
      "1: найперших каторжників\n",
      "1: відомих каторжників\n",
      "1: перших засланців\n",
      "1: найперших засланців\n",
      "1: політичних засланців\n",
      "1: навіжений протопоп\n",
      "1: першим бунтар\n",
      "1: малоросійський гетьман\n",
      "1: національних героїв\n",
      "1: справжній професор\n",
      "1: гаряче професор\n",
      "1: веселий професор\n",
      "1: першого піонера\n",
      "1: химерним малоросійського\n",
      "1: каторжанського патріарха\n",
      "1: каторжанський патріарх\n",
      "1: розполохані голуби\n",
      "1: білі голуби\n",
      "1: бравий майор\n",
      "1: чорнобривий майор\n",
      "1: слідчий майор\n",
      "1: виголошену вождя\n",
      "1: кваліфіковані інженери\n",
      "1: засмалених гуляйпільців\n",
      "1: п'ятий кубанець\n",
      "1: Новоросійська кубанець\n",
      "1: Одеса- мама\n",
      "2: владивостоцький турок\n",
      "1: правовірні безвірники\n",
      "1: обірваний пас\n",
      "1: пристібаючії пас\n",
      "1: бравих гульвіси\n",
      "1: зоологічним націоналістом\n",
      "1: Оката змія\n",
      "1: гримуча змія\n",
      "1: великим начальником\n",
      "1: нетерплячих пасажирів\n",
      "1: листаті гіганти\n",
      "1: Маленький звірок\n",
      "2: смугастий звірок\n",
      "1: Смугастий звірок\n",
      "1: хвостатий звірок\n",
      "1: ученого дослідника\n",
      "1: дивного бога\n",
      "4: сонячні зайчики\n",
      "1: сміхотливі зайчики\n",
      "1: віддзеркалені зайчики\n",
      "1: надзвичайні зайчики\n",
      "1: Занепокоєний бурундук\n",
      "2: тую рись\n",
      "1: двонога істота\n",
      "1: страшний привид\n",
      "1: страшніший привид\n",
      "1: цькований звір\n",
      "1: схоже звір\n",
      "1: хитрий звір\n",
      "1: чуйний звір\n",
      "1: більший звір\n",
      "1: менший звір\n",
      "1: страхітного звіра\n",
      "1: дрібного звіра\n",
      "1: цінного звіра\n",
      "2: хутряного звіра\n",
      "1: хижого звіра\n",
      "1: живої істоти\n",
      "1: хижих звірка\n",
      "1: дебелого сука\n",
      "1: замашного сука\n",
      "1: двоногий розбійник\n",
      "1: Противний піт\n",
      "1: холодний піт\n",
      "1: білий Дідусь\n",
      "1: різна мошкара\n",
      "1: Змучений мандрівник\n",
      "1: позеленіло Боже\n",
      "1: гострий бритва\n",
      "1: молодий юнак\n",
      "1: тягуче голічерева\n",
      "1: Далекий чужинець\n",
      "1: тутешній бог\n",
      "2: волохатий бог\n",
      "1: лютий бог\n",
      "1: безжалісний бог\n",
      "2: Могутній бог\n",
      "1: дивний бог\n",
      "1: гірський бог\n",
      "1: нового ворога\n",
      "1: тая людина\n",
      "1: чесна людина\n",
      "1: путня людина\n",
      "1: турецький людина\n",
      "1: хитріш людина\n",
      "1: великого духа\n",
      "1: невідомого демона\n",
      "1: давні запорожці\n",
      "1: Сідлані коні\n",
      "1: нав'ючені коні\n",
      "1: сідлані коні\n",
      "1: Ковані коні\n",
      "1: бідолашні коні\n",
      "1: Гейби привиди\n",
      "1: нечутію сова\n",
      "1: рудий пес\n",
      "3: якутський пес\n",
      "1: добрий пес\n",
      "1: Здивований пес\n",
      "1: скажений пес\n",
      "1: поставлений пес\n",
      "1: розумний пес\n",
      "3: великий пес\n",
      "1: одинокий пес\n",
      "1: вірний пес\n",
      "1: вищав пес\n",
      "1: Вірний пес\n",
      "1: Одчайдушний пес\n",
      "1: рудий недовірок\n",
      "1: Чужа дівчина\n",
      "1: Київський дівчина\n",
      "1: -о дівчина\n",
      "2: Вража дівчина\n",
      "1: ставна дівчина\n",
      "1: розмальована дівчина\n",
      "1: Молода дівчина\n",
      "1: спритна дівчина\n",
      "1: замріяна дівчина\n",
      "1: Дивовижна дівчина\n",
      "1: весела дівчина\n",
      "1: Вимучена дівчина\n",
      "1: Химерна дівчина\n",
      "1: Бідолашна дівчина\n",
      "1: густобровий парубок\n",
      "1: припертого ведмедем\n",
      "1: стара матінка\n",
      "1: рідні люди\n",
      "1: близькі люди\n",
      "1: незвичайні люди\n",
      "1: Збайдужілі люди\n",
      "2: добрі люди\n",
      "1: Вимучені люди\n",
      "1: різні люди\n",
      "1: привітні люди\n",
      "1: готові Коні\n",
      "1: перевантажені Коні\n",
      "1: біла тая\n",
      "1: Мадонна тая\n",
      "1: вражі діти\n",
      "1: Хороші діти\n",
      "1: нові діти\n",
      "1: малі діти\n",
      "1: чудна риба\n",
      "1: Малий ласун\n",
      "1: напхані набійниці\n",
      "1: чорна сатана\n",
      "1: Важка сатана\n",
      "1: дурне маля\n",
      "1: радий маля\n",
      "1: весільні дружки\n",
      "1: здоровенних собак\n",
      "1: гостровухих собак\n",
      "1: подурілих собак\n",
      "1: звірових собак\n",
      "1: здичавілих собак\n",
      "1: скажених собак\n",
      "1: мисливські собаки\n",
      "1: звірові собаки\n",
      "1: зайві собаки\n",
      "1: уссурійські козаки\n",
      "1: козацький козаки\n",
      "1: козацькі осавули\n",
      "1: уссурійських козаків\n",
      "1: різних козаків\n",
      "1: старий мисливець\n",
      "1: справжній мисливець\n",
      "1: Перший мисливець\n",
      "1: Знаменитий мисливець\n",
      "1: Справжній мисливець\n",
      "1: нашорошений мисливець\n",
      "1: схоже людину\n",
      "1: мертвий хлопець\n",
      "1: низенький хлопець\n",
      "1: енергійний хлопець\n",
      "1: гостроносий хлопець\n",
      "1: Прекрасний хлопець\n",
      "1: Дебелий хлопець\n",
      "1: добрий хлопець\n",
      "1: звичайні фотографи\n",
      "1: давніш батько\n",
      "1: Високий батько\n",
      "1: хрещений батько\n",
      "1: задоволений батько\n",
      "1: насуплена батько\n",
      "1: стара батько\n",
      "1: незвичайні кішки\n",
      "1: домашні кішки\n",
      "1: нерухомої кішки\n",
      "1: виполохані кішки\n",
      "1: сувора гонориста\n",
      "1: дикий кінь\n",
      "1: сонячних комах\n",
      "1: вправний спортсмен\n",
      "1: недоторканна панна\n",
      "2: дика коза\n",
      "2: дикі кози\n",
      "1: дурної матері\n",
      "1: невидній матері\n",
      "1: середнє жінки\n",
      "1: полтавських жінок\n",
      "1: стара дурна\n",
      "1: Чужа чужина\n",
      "1: старший Він-бо\n",
      "1: старший парубійком\n",
      "1: різний крам\n",
      "1: нові переселенці\n",
      "1: вусатий дідуган\n",
      "1: старий дідуган\n",
      "1: дебелий дід\n",
      "3: дурний дід\n",
      "1: переднього коня\n",
      "1: Високий красень\n",
      "1: дебелий красень\n",
      "1: буйний чуб\n",
      "1: найбільшого генерала\n",
      "1: старим ветераном\n",
      "1: великому начальникові\n",
      "1: знаменитому мисливцеві\n",
      "2: вражої мами\n",
      "1: Хороший чоловік\n",
      "1: Золотий чоловік\n",
      "1: Бідолашний чоловік\n",
      "1: досвідчений вояк\n",
      "1: Бідна дитино\n",
      "1: побитий дівчиною\n",
      "1: гордою дівчиною\n",
      "1: веселою дівчиною\n",
      "1: балакучою дівчиною\n",
      "1: намальованих оленів\n",
      "1: Знающий стрілець\n",
      "1: різні коники\n",
      "1: стрілецькі коники\n",
      "1: потрібна пантівникам\n",
      "1: добрих коней\n",
      "2: нав'ючених коней\n",
      "1: сірий коней\n",
      "1: буланий коней\n",
      "1: буланий сірий\n",
      "1: вороний сірий\n",
      "1: здоровенні пси\n",
      "1: звірові пси\n",
      "1: гостровухі пси\n",
      "1: миршаві пси\n",
      "1: вили пси\n",
      "1: мрійноголоса пташка\n",
      "1: тутешній соловей\n",
      "1: страшні вовки\n",
      "1: рудий Нерпа\n",
      "1: страшний якут\n",
      "1: широкогрудий якут\n",
      "1: вивчені ватаг\n",
      "1: Буйна роса\n",
      "1: геніальний маляр\n",
      "1: валюшні дудаки\n",
      "1: гірські по-вашому\n",
      "1: цінні панти\n",
      "2: плямистого оленя\n",
      "1: єдиним другом\n",
      "1: вірним другом\n",
      "1: високі тварини\n",
      "1: граційні тварини\n",
      "1: химерні тварини\n",
      "1: живої тварини\n",
      "1: подібні комахи\n",
      "1: дика тварина\n",
      "1: рудувата тварина\n",
      "1: велика тварина\n",
      "2: горда тварина\n",
      "1: Зацькована тварина\n",
      "1: ударена тварина\n",
      "1: закривавлені різників\n",
      "1: змучених мандрівників\n",
      "1: бажаний мандрівників\n",
      "1: гостроязикої дівчини\n",
      "1: химерної дівчини\n",
      "1: лісової дівчини\n",
      "1: гарної дівчини\n",
      "1: спантеличеного Гриця\n",
      "4: цибатий зять\n",
      "1: мовчазний зять\n",
      "1: Цибатий зять\n",
      "3: старий Мороз\n",
      "2: Старий Мороз\n",
      "1: Старі друзі\n",
      "1: старі друзі\n",
      "1: добрі друзі\n",
      "1: старі приятелі\n",
      "1: щирі приятелі\n",
      "1: диких нетрищ\n",
      "1: Мадонна нетрищ\n",
      "1: божественних доправди\n",
      "1: великих Марійчиних\n",
      "1: круглими люстерками\n",
      "1: цибатого співбесідника\n",
      "1: здивованих воднораз\n",
      "1: Проста воднораз\n",
      "1: придумана воднораз\n",
      "1: мокрі Боклажки\n",
      "1: мокрий Чуб\n",
      "1: гостровухі вовчури\n",
      "1: Безжалісні стрільці\n",
      "1: веселі звіролови\n",
      "1: мускулясті диктатори\n",
      "1: горді завойовники\n",
      "1: рідний син\n",
      "1: сучий син\n",
      "1: вражий син\n",
      "1: виснажених арештантів\n",
      "1: чесних трударів\n",
      "1: полтавських трударів\n",
      "1: полтавських куркулів\n",
      "1: суджених куркулів\n",
      "1: державних злодіїв\n",
      "1: вчених ворогів\n",
      "1: вчених вчителів\n",
      "1: вчених селян\n",
      "1: вчених робітників\n",
      "1: бородатих дідів\n",
      "1: вчених дідів\n",
      "1: бородатих юнаків\n",
      "1: вчених юнаків\n",
      "1: діловиті Люди\n",
      "1: закинений нащадок\n",
      "1: невиспані бадьорі\n",
      "1: останнім гадючам\n",
      "1: клятий гнус\n",
      "1: маленькі комарів\n",
      "1: великі пани\n",
      "1: часті сину\n",
      "1: добру кішку\n",
      "1: забиту кішку\n",
      "1: Биту кішку\n",
      "1: задоволені Собаки\n",
      "1: непроханого сторожа\n",
      "1: справжня господа\n",
      "1: здоровенна звірюка\n",
      "1: нерухомою жертвою\n",
      "1: лиха личина\n",
      "1: нормальне дівоче\n",
      "1: строге дівоче\n",
      "1: ніжне дівоче\n",
      "1: Здоровий ірод\n",
      "1: прегарну тварину\n",
      "1: молодший самець\n",
      "1: старого діда\n",
      "1: Старий жрець\n",
      "1: збіса хитра\n",
      "1: забобонні Мисливці\n",
      "1: задоволена переможниця\n",
      "1: здоровенного тайменя\n",
      "1: меншого тайменя\n",
      "1: граційна мавка\n",
      "1: Гола мавка\n",
      "1: лісова мавка\n",
      "1: буйними нетрями\n",
      "1: розбитий Демон\n",
      "1: велетенських птиць\n",
      "1: невиданих птиць\n",
      "1: несподіваний гість\n",
      "1: добрий гість\n",
      "1: смішною тубільці\n",
      "1: Гостинний тубільці\n",
      "1: большой начальника\n",
      "1: великого начальника\n",
      "1: героїчного начальника\n",
      "1: придуркуватих начальників\n",
      "1: наївний чоловічок\n",
      "1: лісовий чоловічок\n",
      "2: гарна дочка\n",
      "1: вража дочка\n",
      "1: щаслива дочка\n",
      "1: тая красуня\n",
      "1: дивна красуня\n",
      "1: чиста красуня\n",
      "1: найпершу красуню\n",
      "1: мальована краля\n",
      "1: писана краля\n",
      "1: лихими ворогами\n",
      "1: лагідний тенор\n",
      "1: вродливу дівчину\n",
      "1: всесвітніх залицяльників\n",
      "1: смішний горностай\n",
      "1: бурий старець\n",
      "1: співучих пташок\n",
      "1: останнє хлопцям\n",
      "1: рудий дядько\n",
      "1: вусатий дядько\n",
      "1: турецький султан\n",
      "1: літня жінка\n",
      "1: привітна жінка\n",
      "1: вірна жінка\n",
      "1: другий амурець\n",
      "1: здоровенний амурець\n",
      "1: Старий дочкою\n",
      "1: хороша Дитино\n",
      "1: цікава качка\n",
      "1: японська качка\n",
      "1: дивна качка\n",
      "1: мрійнооких самиць\n",
      "1: вогненнозорі коханці\n",
      "1: граційні самиці\n",
      "1: шалений переможець\n",
      "1: страшна гадюка\n",
      "1: отруйна гадюка\n",
      "1: мокрий Кінь\n",
      "1: живісінькі хлопці\n",
      "1: скажений хлопці\n",
      "1: Підбадьорені хлопці\n",
      "1: далекий ізюбр\n",
      "1: Розпалений бик\n",
      "1: Другий бик\n",
      "1: стихійному мисливця\n",
      "1: інстинктові мисливця\n",
      "1: розпаленого лицаря\n",
      "1: рогатого лицаря\n",
      "1: розпаленого самця\n",
      "1: красені демони\n",
      "1: горді демони\n",
      "1: здобуваючії мисливці\n",
      "1: смілива дитина\n",
      "1: тріскотняву шелест\n",
      "1: підозрілий шелест\n",
      "1: здоровенний бугай\n",
      "1: вепрячий отаман\n",
      "1: вепрячий сікач\n",
      "1: сонну дитину\n",
      "1: журливий юний\n",
      "1: виряджений віршовник\n",
      "1: ясненька Зірка\n",
      "1: святії янголи\n",
      "1: Божий Ангол\n",
      "1: маленьких дітей\n",
      "1: Диявольський гайдамака\n",
      "1: темному невідомому\n",
      "1: пишних королевичі\n",
      "1: молодих королевичі\n",
      "1: вправним майстром\n",
      "1: вирізьблені майстром\n",
      "1: наснажені майстром\n",
      "1: російського імператора\n",
      "1: пишнобарвний півень\n",
      "1: Пишнопері півні\n",
      "1: збиті півні\n",
      "1: Сіркового мандзи\n",
      "1: знайомого мандзи\n",
      "1: празникове тетеруків\n",
      "1: бажаними гостями\n",
      "1: різдвяними витребеньками\n",
      "1: доброго Кім-Гі\n",
      "1: Смішний Кім-Гі\n",
      "1: різним відрядженцям\n",
      "1: відповідальним відрядженцям\n",
      "1: набитий людьми\n",
      "1: примусових ентузіастів\n",
      "1: слізний материн\n",
      "1: божевільною ластівочко\n",
      "1: вбраних представників\n",
      "1: великих осіб\n",
      "1: відповідальних осіб\n",
      "1: Скрипникові вчителі\n",
      "1: вимученої людини\n",
      "1: невиспаної мара\n",
      "1: П'ятдесятиступневий мороз\n",
      "1: військові службовці\n",
      "1: Рогаті олені\n",
      "1: миршаві олені\n",
      "1: екзотичні олені\n",
      "1: вбрані гольдячки\n",
      "1: низенькі гольдячки\n",
      "1: прекрасні дубельтівки\n",
      "1: ноиенькі дубельтівки\n",
      "1: набійницькі дубельтівки\n",
      "1: новітні аматори\n",
      "1: Пржевальські аматори\n",
      "1: творчий геній\n",
      "1: старші панни\n",
      "1: Чудні хабаровці\n",
      "1: знайомі хабаровці\n",
      "1: морозові чорт\n",
      "1: ентузіастка хетагуровка\n",
      "1: отаких приїжджих\n",
      "1: знайомі земляки\n",
      "1: здібний Мисливець\n",
      "1: Елегантні пані\n",
      "1: елегантніші дівчата\n",
      "1: опановані дівчата\n",
      "1: селянські дівчата\n",
      "1: старшого охотінспектора\n",
      "1: головного охотінспектора\n",
      "1: енергійного охотінспектора\n",
      "1: доброго приятеля\n",
      "1: славного хлопця\n",
      "1: катерининська дама\n",
      "1: примітивний хлопчина\n",
      "1: чуткий вовк\n",
      "1: старий вовк\n",
      "1: по-столичному по-культурному\n",
      "1: знаменитий охотник\n",
      "1: Чортові сини\n",
      "1: Чортові віслюки\n",
      "1: основних мешканців\n",
      "1: косоокий японець\n",
      "1: Дохлої Кішки\n",
      "1: запопадливий збігця\n",
      "1: великим панам\n",
      "1: новітній Муравйов\n",
      "1: Амурський Муравйов\n",
      "1: незнаного царя\n",
      "1: оспіваних царя\n",
      "1: уссурійських нетрів\n",
      "1: голоспинних бабів\n",
      "1: огненная льдом\n",
      "1: спантеличених клієнтів\n",
      "1: Смішні городяни\n",
      "1: пришелепкуваті городяни\n",
      "1: напівоголених дівчат\n",
      "1: напівголих дівчат\n",
      "1: химерних дівчат\n",
      "1: розмальованих дівчат\n",
      "1: Згальванізовані імпотенти\n",
      "1: личковані командири\n",
      "1: відповідальні надуті\n",
      "1: Горда королева\n",
      "1: прекрасна богиня\n",
      "1: чиста богиня\n",
      "1: розкуркулених батьків\n",
      "1: розкиданих батьків\n",
      "1: здивованим дівчатам\n",
      "1: безвідчитну тваринячу\n",
      "1: великого пана\n",
      "1: мальована панянка\n",
      "1: добрий жовтяк\n",
      "1: чиста дворянка\n",
      "1: чиста пава\n",
      "1: здорова кобилиця\n",
      "1: уповноважені начальники\n",
      "1: злий дух\n",
      "1: кінський дух\n",
      "1: тайгових хлопців\n",
      "1: молодих хлопців\n",
      "1: старий удегеєць\n",
      "1: повним господарем\n",
      "1: малий бурундучок\n",
      "1: напівміфічного племені\n",
      "1: наївного племені\n",
      "1: останні могикан\n",
      "1: старенький дідусик\n",
      "1: доброго лошака\n",
      "1: стара мати\n",
      "1: Рідна мати\n",
      "1: Бідна мати\n",
      "1: старий кондуктор\n",
      "1: межи становиками\n",
      "1: глибокими становиками\n",
      "1: пишного соболя\n",
      "1: Собачий лемент\n",
      "1: велетенську потвору\n",
      "1: розпатланий спітнілий\n",
      "1: великих хижаків\n",
      "1: Здоровенна самиця\n",
      "1: старого тигра\n",
      "1: уссурійського тигра\n",
      "1: убитого тигра\n",
      "2: живого тигра\n",
      "1: просунену коляку\n",
      "1: вчених професорів\n",
      "1: с громадянами\n",
      "1: Сизий становик\n",
      "1: бравий герой\n",
      "1: грізний суддя\n",
      "1: душ людців\n",
      "1: плюгавий злодюжка\n",
      "1: следователь таваріщ\n",
      "1: великий собака\n",
      "1: повну набійницю\n",
      "1: лапчаті Ізюбрині\n",
      "1: гнітюча мовчанка\n",
      "1: єдине Мовчанка\n",
      "1: гордою твариною\n",
      "1: нещасливий соколе\n",
      "1: щасливі тату\n",
      "1: щаслива брата\n",
      "1: сміливі диверсанти\n",
      "1: сміливі досвідчені\n",
      "1: Давні мешканці\n",
      "1: бердичівські патріоти\n",
      "1: пристібаючії любки\n",
      "1: Японські прикордонники\n",
      "1: поставлені прикордонники\n",
      "1: милий друже\n",
      "1: вірний друже\n",
      "1: чотириногий товариш\n",
      "1: відданий товариш\n",
      "1: ДОРОГІЄ ТОВАРІЩІ\n",
      "1: крупним злочинцем\n",
      "1: державним злочинцем\n",
      "1: славного чекіста\n",
      "1: страхітливого отамана\n",
      "1: гігантським псом\n",
      "1: Сіркової доньки\n",
      "1: головного винуватця\n",
      "1: великою бандою\n",
      "1: озброєною бандою\n",
      "1: старенької Матері\n",
      "1: Божої Матері\n",
      "1: вірної товаришки\n",
      "1: прип'ятий товаришки\n"
     ]
    }
   ],
   "source": [
    "analyze_noun_with_associated_adjectives(nlp_uk, tyhrolovy_corpus)"
   ]
  },
  {
   "cell_type": "code",
   "execution_count": 0,
   "metadata": {
    "colab": {},
    "colab_type": "code",
    "id": "Mt8-7f5gXZ6K"
   },
   "outputs": [],
   "source": []
  }
 ],
 "metadata": {
  "accelerator": "GPU",
  "colab": {
   "collapsed_sections": [
    "RyDDAn1SXZ5w",
    "kybtG4DzXZ55",
    "h5e3T5qJXZ6F"
   ],
   "name": "3-collocations.ipynb",
   "provenance": []
  },
  "kernelspec": {
   "display_name": "Python 3",
   "language": "python",
   "name": "python3"
  },
  "language_info": {
   "codemirror_mode": {
    "name": "ipython",
    "version": 3
   },
   "file_extension": ".py",
   "mimetype": "text/x-python",
   "name": "python",
   "nbconvert_exporter": "python",
   "pygments_lexer": "ipython3",
   "version": "3.6.8"
  }
 },
 "nbformat": 4,
 "nbformat_minor": 1
}
