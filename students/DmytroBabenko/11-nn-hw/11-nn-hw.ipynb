{
 "cells": [
  {
   "cell_type": "markdown",
   "metadata": {},
   "source": [
    "## I. Нейромережі"
   ]
  },
  {
   "cell_type": "markdown",
   "metadata": {},
   "source": [
    "У цьому завданні вам треба спробувати покращити з використанням нейромереж одну з двох ваших попередніх робіт:<br>\n",
    "\n",
    "1. Доробити парсер залежностей <br>\n",
    "2. Доробити класифікатор звернень до служби 1551\n"
   ]
  },
  {
   "cell_type": "markdown",
   "metadata": {},
   "source": [
    "Застосування LSTM нейромережі для класифікатора звернень до служби 1551 дивіться у файлі, де безпосередньо цей класифікатор реалізовувався (розділ - **HW: 11 - Deep Learning**). Посилдання на файл, прикріплено нижче."
   ]
  },
  {
   "cell_type": "markdown",
   "metadata": {},
   "source": [
    "https://github.com/DmytroBabenko/prj-nlp-2020/blob/10-vectors-hw/students/DmytroBabenko/10-vectors/10-vectors.ipynb"
   ]
  },
  {
   "cell_type": "markdown",
   "metadata": {},
   "source": [
    "## II. Курсовий проєкт"
   ]
  },
  {
   "cell_type": "markdown",
   "metadata": {},
   "source": [
    "В процесі, результати будуть наступним pull request. "
   ]
  },
  {
   "cell_type": "code",
   "execution_count": null,
   "metadata": {},
   "outputs": [],
   "source": []
  }
 ],
 "metadata": {
  "kernelspec": {
   "display_name": "Python 3",
   "language": "python",
   "name": "python3"
  },
  "language_info": {
   "codemirror_mode": {
    "name": "ipython",
    "version": 3
   },
   "file_extension": ".py",
   "mimetype": "text/x-python",
   "name": "python",
   "nbconvert_exporter": "python",
   "pygments_lexer": "ipython3",
   "version": "3.7.5"
  }
 },
 "nbformat": 4,
 "nbformat_minor": 4
}
