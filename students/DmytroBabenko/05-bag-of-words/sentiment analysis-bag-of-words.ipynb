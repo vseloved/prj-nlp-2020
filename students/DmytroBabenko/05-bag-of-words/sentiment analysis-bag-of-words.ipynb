{
 "cells": [
  {
   "cell_type": "code",
   "execution_count": 2,
   "metadata": {},
   "outputs": [],
   "source": [
    "import pandas as pd\n",
    "import numpy as np\n",
    "import os\n",
    "import tokenize_uk\n",
    "from typing import List\n",
    "import langdetect"
   ]
  },
  {
   "cell_type": "markdown",
   "metadata": {},
   "source": [
    "# Data"
   ]
  },
  {
   "cell_type": "markdown",
   "metadata": {},
   "source": [
    "In this task we selected computers and notebooks categories in rozetka.com. So we scribed the review comments data with mentined star for the next sites:"
   ]
  },
  {
   "cell_type": "markdown",
   "metadata": {},
   "source": [
    "+ https://hard.rozetka.com.ua/ua/computers/c80095/ \n",
    "+ https://hard.rozetka.com.ua/ua/computers/c80095/\n",
    "+ https://hard.rozetka.com.ua/"
   ]
  },
  {
   "cell_type": "code",
   "execution_count": 4,
   "metadata": {},
   "outputs": [],
   "source": [
    "data_dir = \"data\""
   ]
  },
  {
   "cell_type": "code",
   "execution_count": 5,
   "metadata": {},
   "outputs": [
    {
     "name": "stdout",
     "output_type": "stream",
     "text": [
      "comments_urls.txt  rozetka-hard-comments_all.csv\r\n",
      "hard_urls.txt\t   rozetka-notebooks-comments_all.csv\r\n",
      "pc_urls.txt\t   rozetka-pc-comments_all.csv\r\n"
     ]
    }
   ],
   "source": [
    "! ls data"
   ]
  },
  {
   "cell_type": "code",
   "execution_count": 102,
   "metadata": {},
   "outputs": [],
   "source": [
    "def read_csv_from_dir(directory):\n",
    "    frames = []\n",
    "    for filename in os.listdir(directory):\n",
    "        if filename.endswith(\".csv\"):\n",
    "            df = pd.read_csv(f\"{directory}/{filename}\")\n",
    "            frames.append(df)\n",
    "            \n",
    "    result = pd.concat(frames)\n",
    "    return result"
   ]
  },
  {
   "cell_type": "code",
   "execution_count": 122,
   "metadata": {},
   "outputs": [],
   "source": [
    "df = read_csv_from_dir(data_dir)"
   ]
  },
  {
   "cell_type": "code",
   "execution_count": 7,
   "metadata": {},
   "outputs": [],
   "source": [
    "df = pd.read_csv(\"data/rozetka-hard-comments_all.csv\")"
   ]
  },
  {
   "cell_type": "code",
   "execution_count": 8,
   "metadata": {},
   "outputs": [
    {
     "data": {
      "text/plain": [
       "14009"
      ]
     },
     "execution_count": 8,
     "metadata": {},
     "output_type": "execute_result"
    }
   ],
   "source": [
    "len(df)"
   ]
  },
  {
   "cell_type": "code",
   "execution_count": 9,
   "metadata": {},
   "outputs": [],
   "source": [
    "df = df.fillna(\"\")"
   ]
  },
  {
   "cell_type": "code",
   "execution_count": 11,
   "metadata": {},
   "outputs": [
    {
     "data": {
      "text/html": [
       "<div>\n",
       "<style scoped>\n",
       "    .dataframe tbody tr th:only-of-type {\n",
       "        vertical-align: middle;\n",
       "    }\n",
       "\n",
       "    .dataframe tbody tr th {\n",
       "        vertical-align: top;\n",
       "    }\n",
       "\n",
       "    .dataframe thead th {\n",
       "        text-align: right;\n",
       "    }\n",
       "</style>\n",
       "<table border=\"1\" class=\"dataframe\">\n",
       "  <thead>\n",
       "    <tr style=\"text-align: right;\">\n",
       "      <th></th>\n",
       "      <th>Unnamed: 0</th>\n",
       "      <th>title</th>\n",
       "      <th>pros</th>\n",
       "      <th>cons</th>\n",
       "      <th>rating</th>\n",
       "    </tr>\n",
       "  </thead>\n",
       "  <tbody>\n",
       "    <tr>\n",
       "      <th>0</th>\n",
       "      <td>0</td>\n",
       "      <td>Думаю на 2020 це ідеальний вибір. За ціну 1600...</td>\n",
       "      <td>Ціна - продуктивність</td>\n",
       "      <td>Боксовий кулер краще відразу замінити , в прос...</td>\n",
       "      <td>5</td>\n",
       "    </tr>\n",
       "    <tr>\n",
       "      <th>1</th>\n",
       "      <td>1</td>\n",
       "      <td>Очень доволен покупкой. А тем более учитывая ч...</td>\n",
       "      <td>В первую очередь это его цена. На данный момен...</td>\n",
       "      <td>Работает как часы. Недостатков не обнаружил. Е...</td>\n",
       "      <td>5</td>\n",
       "    </tr>\n",
       "    <tr>\n",
       "      <th>2</th>\n",
       "      <td>2</td>\n",
       "      <td>Конкретно эту версию YD1600BBAFBOX не так давн...</td>\n",
       "      <td>Цена - качество</td>\n",
       "      <td></td>\n",
       "      <td>5</td>\n",
       "    </tr>\n",
       "    <tr>\n",
       "      <th>3</th>\n",
       "      <td>3</td>\n",
       "      <td>после fx6300, 1600af ракета.</td>\n",
       "      <td></td>\n",
       "      <td></td>\n",
       "      <td>5</td>\n",
       "    </tr>\n",
       "    <tr>\n",
       "      <th>4</th>\n",
       "      <td>4</td>\n",
       "      <td>Норм проц, взял к нему в450, работает стабильн...</td>\n",
       "      <td>Охлаждение, производительность</td>\n",
       "      <td>За 80$ их просто нет</td>\n",
       "      <td>5</td>\n",
       "    </tr>\n",
       "  </tbody>\n",
       "</table>\n",
       "</div>"
      ],
      "text/plain": [
       "   Unnamed: 0                                              title  \\\n",
       "0           0  Думаю на 2020 це ідеальний вибір. За ціну 1600...   \n",
       "1           1  Очень доволен покупкой. А тем более учитывая ч...   \n",
       "2           2  Конкретно эту версию YD1600BBAFBOX не так давн...   \n",
       "3           3                       после fx6300, 1600af ракета.   \n",
       "4           4  Норм проц, взял к нему в450, работает стабильн...   \n",
       "\n",
       "                                                pros  \\\n",
       "0                              Ціна - продуктивність   \n",
       "1  В первую очередь это его цена. На данный момен...   \n",
       "2                                    Цена - качество   \n",
       "3                                                      \n",
       "4                     Охлаждение, производительность   \n",
       "\n",
       "                                                cons  rating  \n",
       "0  Боксовий кулер краще відразу замінити , в прос...       5  \n",
       "1  Работает как часы. Недостатков не обнаружил. Е...       5  \n",
       "2                                                          5  \n",
       "3                                                          5  \n",
       "4                               За 80$ их просто нет       5  "
      ]
     },
     "execution_count": 11,
     "metadata": {},
     "output_type": "execute_result"
    }
   ],
   "source": [
    "df.head()"
   ]
  },
  {
   "cell_type": "code",
   "execution_count": 12,
   "metadata": {},
   "outputs": [],
   "source": [
    "def is_suitable_text(text: str):\n",
    "    if len(text) == 0:\n",
    "        return True\n",
    "    try:\n",
    "        if langdetect.detect(text) == 'uk':\n",
    "            return True\n",
    "    except:\n",
    "        return False\n",
    "    return False"
   ]
  },
  {
   "cell_type": "code",
   "execution_count": 13,
   "metadata": {},
   "outputs": [],
   "source": [
    "def filter_non_ukrainian_language(df):\n",
    "    title_list = df['title'].values\n",
    "    pros_list = df['pros'].values\n",
    "    cons_list = df['cons'].values\n",
    "    rate_list = df['rating'].values\n",
    "    \n",
    "    result = {\n",
    "    'title': [],\n",
    "    'pros' : [],\n",
    "    'cons' : [],\n",
    "    'rating' : []\n",
    "}\n",
    "    \n",
    "    for i in range(0, len(title_list)):\n",
    "        title = title_list[i].strip()\n",
    "        pros = pros_list[i].strip()\n",
    "        cons = cons_list[i].strip()\n",
    "        \n",
    "        if len(title) == 0 and len(pros) == 0 and len(cons) == 0:\n",
    "            continue\n",
    "        \n",
    "        if is_suitable_text(title) is False:\n",
    "            continue\n",
    "        \n",
    "        \n",
    "       \n",
    "        if is_suitable_text(pros) is False:\n",
    "            continue\n",
    "\n",
    "        \n",
    "        if is_suitable_text(cons) is False:\n",
    "            continue\n",
    "\n",
    "        result['title'].append(title)\n",
    "        result['pros'].append(pros)\n",
    "        result['cons'].append(cons)\n",
    "        result['rating'].append(rate_list[i])\n",
    "        \n",
    "    return pd.DataFrame(result)"
   ]
  },
  {
   "cell_type": "code",
   "execution_count": 14,
   "metadata": {},
   "outputs": [],
   "source": [
    "def concatenate_title_pros_cons(df):\n",
    "    title_list = df['title'].values\n",
    "    pros_list = df['pros'].values\n",
    "    cons_list = df['cons'].values\n",
    "    y = df['rating'].values\n",
    "    \n",
    "    X = []\n",
    "    for i in range(0, len(title_list)):\n",
    "        text = f\"{title_list[i]} {pros_list[i]} {cons_list[i]}\"\n",
    "        X.append(text)\n",
    "        \n",
    "    return X, y"
   ]
  },
  {
   "cell_type": "code",
   "execution_count": 15,
   "metadata": {},
   "outputs": [],
   "source": [
    "def reduce_star_labels(y):\n",
    "    reduced_y = []\n",
    "    for yi in y:\n",
    "        if yi >= 4:\n",
    "            reduced_y.append('pos')\n",
    "        elif yi == 3:\n",
    "            reduced_y.append('neutral')\n",
    "        else:\n",
    "            reduced_y.append('neg')\n",
    "    return reduced_y"
   ]
  },
  {
   "cell_type": "code",
   "execution_count": 16,
   "metadata": {},
   "outputs": [],
   "source": [
    "uk_df = filter_non_ukrainian_language(df)"
   ]
  },
  {
   "cell_type": "code",
   "execution_count": 17,
   "metadata": {},
   "outputs": [
    {
     "data": {
      "text/html": [
       "<div>\n",
       "<style scoped>\n",
       "    .dataframe tbody tr th:only-of-type {\n",
       "        vertical-align: middle;\n",
       "    }\n",
       "\n",
       "    .dataframe tbody tr th {\n",
       "        vertical-align: top;\n",
       "    }\n",
       "\n",
       "    .dataframe thead th {\n",
       "        text-align: right;\n",
       "    }\n",
       "</style>\n",
       "<table border=\"1\" class=\"dataframe\">\n",
       "  <thead>\n",
       "    <tr style=\"text-align: right;\">\n",
       "      <th></th>\n",
       "      <th>title</th>\n",
       "      <th>pros</th>\n",
       "      <th>cons</th>\n",
       "      <th>rating</th>\n",
       "    </tr>\n",
       "  </thead>\n",
       "  <tbody>\n",
       "    <tr>\n",
       "      <th>0</th>\n",
       "      <td>Думаю на 2020 це ідеальний вибір. За ціну 1600...</td>\n",
       "      <td>Ціна - продуктивність</td>\n",
       "      <td>Боксовий кулер краще відразу замінити , в прос...</td>\n",
       "      <td>5</td>\n",
       "    </tr>\n",
       "    <tr>\n",
       "      <th>1</th>\n",
       "      <td>Найкращий процесор 2019 по відношенню ціна/про...</td>\n",
       "      <td>Ціна, 6 ядер.</td>\n",
       "      <td>Тільки для материнських плат 300 серії, необхі...</td>\n",
       "      <td>5</td>\n",
       "    </tr>\n",
       "    <tr>\n",
       "      <th>2</th>\n",
       "      <td>Придбав ССД на заміну основного жорсткого диск...</td>\n",
       "      <td>Ціна, висока шкидкість запису та зчитування, с...</td>\n",
       "      <td>Наразі нема</td>\n",
       "      <td>5</td>\n",
       "    </tr>\n",
       "    <tr>\n",
       "      <th>3</th>\n",
       "      <td>На матплаті Asus TUF B450-Plus Gaming + Ryzen ...</td>\n",
       "      <td>3200 МГц при 16 таймінгах</td>\n",
       "      <td></td>\n",
       "      <td>5</td>\n",
       "    </tr>\n",
       "    <tr>\n",
       "      <th>4</th>\n",
       "      <td>Питання до представника компанії. Чому не відп...</td>\n",
       "      <td></td>\n",
       "      <td></td>\n",
       "      <td>5</td>\n",
       "    </tr>\n",
       "    <tr>\n",
       "      <th>...</th>\n",
       "      <td>...</td>\n",
       "      <td>...</td>\n",
       "      <td>...</td>\n",
       "      <td>...</td>\n",
       "    </tr>\n",
       "    <tr>\n",
       "      <th>1426</th>\n",
       "      <td>Давно займаюсь музикою, мав і маю, також багат...</td>\n",
       "      <td>За таку ціну в цьому діапазоні, мабуть одні з ...</td>\n",
       "      <td>При максимальному звуці в простої є невеличкий...</td>\n",
       "      <td>5</td>\n",
       "    </tr>\n",
       "    <tr>\n",
       "      <th>1427</th>\n",
       "      <td>Вогонь! Поставив другим на передню панель на в...</td>\n",
       "      <td>Сильний повітряний потік, контроль оборотів, д...</td>\n",
       "      <td>На максималках шумний, але це швидше не недолі...</td>\n",
       "      <td>5</td>\n",
       "    </tr>\n",
       "    <tr>\n",
       "      <th>1428</th>\n",
       "      <td>Хороший вибір за не великі кошти. Працює на ура.</td>\n",
       "      <td>Якість та надійність.</td>\n",
       "      <td></td>\n",
       "      <td>5</td>\n",
       "    </tr>\n",
       "    <tr>\n",
       "      <th>1429</th>\n",
       "      <td></td>\n",
       "      <td>все супер і комфортно, та радує юесбі перехідн...</td>\n",
       "      <td></td>\n",
       "      <td>5</td>\n",
       "    </tr>\n",
       "    <tr>\n",
       "      <th>1430</th>\n",
       "      <td>Товар прийшов бракований(немає червоного кольо...</td>\n",
       "      <td></td>\n",
       "      <td></td>\n",
       "      <td>1</td>\n",
       "    </tr>\n",
       "  </tbody>\n",
       "</table>\n",
       "<p>1431 rows × 4 columns</p>\n",
       "</div>"
      ],
      "text/plain": [
       "                                                  title  \\\n",
       "0     Думаю на 2020 це ідеальний вибір. За ціну 1600...   \n",
       "1     Найкращий процесор 2019 по відношенню ціна/про...   \n",
       "2     Придбав ССД на заміну основного жорсткого диск...   \n",
       "3     На матплаті Asus TUF B450-Plus Gaming + Ryzen ...   \n",
       "4     Питання до представника компанії. Чому не відп...   \n",
       "...                                                 ...   \n",
       "1426  Давно займаюсь музикою, мав і маю, також багат...   \n",
       "1427  Вогонь! Поставив другим на передню панель на в...   \n",
       "1428   Хороший вибір за не великі кошти. Працює на ура.   \n",
       "1429                                                      \n",
       "1430  Товар прийшов бракований(немає червоного кольо...   \n",
       "\n",
       "                                                   pros  \\\n",
       "0                                 Ціна - продуктивність   \n",
       "1                                         Ціна, 6 ядер.   \n",
       "2     Ціна, висока шкидкість запису та зчитування, с...   \n",
       "3                             3200 МГц при 16 таймінгах   \n",
       "4                                                         \n",
       "...                                                 ...   \n",
       "1426  За таку ціну в цьому діапазоні, мабуть одні з ...   \n",
       "1427  Сильний повітряний потік, контроль оборотів, д...   \n",
       "1428                              Якість та надійність.   \n",
       "1429  все супер і комфортно, та радує юесбі перехідн...   \n",
       "1430                                                      \n",
       "\n",
       "                                                   cons  rating  \n",
       "0     Боксовий кулер краще відразу замінити , в прос...       5  \n",
       "1     Тільки для материнських плат 300 серії, необхі...       5  \n",
       "2                                           Наразі нема       5  \n",
       "3                                                             5  \n",
       "4                                                             5  \n",
       "...                                                 ...     ...  \n",
       "1426  При максимальному звуці в простої є невеличкий...       5  \n",
       "1427  На максималках шумний, але це швидше не недолі...       5  \n",
       "1428                                                          5  \n",
       "1429                                                          5  \n",
       "1430                                                          1  \n",
       "\n",
       "[1431 rows x 4 columns]"
      ]
     },
     "execution_count": 17,
     "metadata": {},
     "output_type": "execute_result"
    }
   ],
   "source": [
    "uk_df"
   ]
  },
  {
   "cell_type": "code",
   "execution_count": 141,
   "metadata": {},
   "outputs": [],
   "source": [
    "X_all, y_all = concatenate_title_pros_cons(uk_df)"
   ]
  },
  {
   "cell_type": "code",
   "execution_count": 142,
   "metadata": {},
   "outputs": [],
   "source": [
    "y_all = reduce_star_labels(y_all)"
   ]
  },
  {
   "cell_type": "code",
   "execution_count": 143,
   "metadata": {},
   "outputs": [],
   "source": [
    "classes = ['pos', 'neutral', 'neg']"
   ]
  },
  {
   "cell_type": "code",
   "execution_count": 145,
   "metadata": {},
   "outputs": [
    {
     "data": {
      "text/plain": [
       "['Думаю на 2020 це ідеальний вибір. За ціну 1600 отримуєте 2600 на 12 нм і новій архітектурі. Стоїть в Asus B450 tuf pro gaming. Ціна - продуктивність Боксовий кулер краще відразу замінити , в простої 40-45°',\n",
       " 'Найкращий процесор 2019 по відношенню ціна/продуктивність, ігри літають, в зборці з RX 580 8G 60+ фпс. Процесор завівся з разу 10. Ціна, 6 ядер. Тільки для материнських плат 300 серії, необхідно оновлення біос якщо ревізія мат. плати 1.0',\n",
       " 'Придбав ССД на заміну основного жорсткого диску. Перша перевага - повна тиша з корпусу. Також порадувала швидкість після завантаження накопичувача майже на 70% Зчитування 435 та Запис 516 МБ\\\\с.  Нижче прикріплюю тести: 1 - швидкість при підключенні по !!!САТА 2!!! 2 - швидкість при підключенні по САТА 3 3 - швидкість при підключенні по САТА 3 та заповненому ССД на 298 ГБ 4 - для порівняння мій інший ССД для ОС - Kingston HyperX Fury 120GB (2 роки 3 місяці в використанні)  Якщо комусь потрібно, то реальна доступна ємність 447 ГБ.  На даний момент дуже задоволений його роботою, очікував набагато гірші результати. Рекомендую до придбання. P.S. Хоч і не велика, але для мене важлива деталь - різьбу для кріплення до корпусу нарешті нарізали правильно, гвинт закручується дуже легко і чітко. Ціна, висока шкидкість запису та зчитування, стабільність швидкості при заповненні накопичувача. Наразі нема',\n",
       " 'На матплаті Asus TUF B450-Plus Gaming + Ryzen 2600 \"XMP профілі\" запрацювали лише в слотах 2 і 4. В слотах 1 і 3 при любих маніпуляціях вище 2400 не брала, но це скоріше особливість материнської плати. 3200 МГц при 16 таймінгах ',\n",
       " 'Питання до представника компанії. Чому не відповідає дійсності Bios на материнській платі. На офіційному сайті на сторінці даної плати, в опису зазначено, що стоїть UEFI Bios з ASUS UEFI Bios Utility EZ mode, описано всі переваги графічної оболонки, надстройки і т.д. а насправді звичайна оболонка без ASUS UEFI Bios Utility EZ mode. Встановлена версія Bios 1002. Може хто вкурсі?  ']"
      ]
     },
     "execution_count": 145,
     "metadata": {},
     "output_type": "execute_result"
    }
   ],
   "source": [
    "X_all[:5]"
   ]
  },
  {
   "cell_type": "code",
   "execution_count": 146,
   "metadata": {},
   "outputs": [],
   "source": [
    "sent_uk_df = pd.DataFrame({\n",
    "    'text': X_all,\n",
    "    'label': y_all\n",
    "})"
   ]
  },
  {
   "cell_type": "code",
   "execution_count": 147,
   "metadata": {},
   "outputs": [
    {
     "data": {
      "text/html": [
       "<div>\n",
       "<style scoped>\n",
       "    .dataframe tbody tr th:only-of-type {\n",
       "        vertical-align: middle;\n",
       "    }\n",
       "\n",
       "    .dataframe tbody tr th {\n",
       "        vertical-align: top;\n",
       "    }\n",
       "\n",
       "    .dataframe thead th {\n",
       "        text-align: right;\n",
       "    }\n",
       "</style>\n",
       "<table border=\"1\" class=\"dataframe\">\n",
       "  <thead>\n",
       "    <tr style=\"text-align: right;\">\n",
       "      <th></th>\n",
       "      <th>text</th>\n",
       "      <th>label</th>\n",
       "    </tr>\n",
       "  </thead>\n",
       "  <tbody>\n",
       "    <tr>\n",
       "      <th>0</th>\n",
       "      <td>Думаю на 2020 це ідеальний вибір. За ціну 1600...</td>\n",
       "      <td>pos</td>\n",
       "    </tr>\n",
       "    <tr>\n",
       "      <th>1</th>\n",
       "      <td>Найкращий процесор 2019 по відношенню ціна/про...</td>\n",
       "      <td>pos</td>\n",
       "    </tr>\n",
       "    <tr>\n",
       "      <th>2</th>\n",
       "      <td>Придбав ССД на заміну основного жорсткого диск...</td>\n",
       "      <td>pos</td>\n",
       "    </tr>\n",
       "    <tr>\n",
       "      <th>3</th>\n",
       "      <td>На матплаті Asus TUF B450-Plus Gaming + Ryzen ...</td>\n",
       "      <td>pos</td>\n",
       "    </tr>\n",
       "    <tr>\n",
       "      <th>4</th>\n",
       "      <td>Питання до представника компанії. Чому не відп...</td>\n",
       "      <td>pos</td>\n",
       "    </tr>\n",
       "  </tbody>\n",
       "</table>\n",
       "</div>"
      ],
      "text/plain": [
       "                                                text label\n",
       "0  Думаю на 2020 це ідеальний вибір. За ціну 1600...   pos\n",
       "1  Найкращий процесор 2019 по відношенню ціна/про...   pos\n",
       "2  Придбав ССД на заміну основного жорсткого диск...   pos\n",
       "3  На матплаті Asus TUF B450-Plus Gaming + Ryzen ...   pos\n",
       "4  Питання до представника компанії. Чому не відп...   pos"
      ]
     },
     "execution_count": 147,
     "metadata": {},
     "output_type": "execute_result"
    }
   ],
   "source": [
    "sent_uk_df.head()"
   ]
  },
  {
   "cell_type": "markdown",
   "metadata": {},
   "source": [
    "## Data analysis"
   ]
  },
  {
   "cell_type": "code",
   "execution_count": 148,
   "metadata": {},
   "outputs": [
    {
     "data": {
      "text/html": [
       "        <script type=\"text/javascript\">\n",
       "        window.PlotlyConfig = {MathJaxConfig: 'local'};\n",
       "        if (window.MathJax) {MathJax.Hub.Config({SVG: {font: \"STIX-Web\"}});}\n",
       "        if (typeof require !== 'undefined') {\n",
       "        require.undef(\"plotly\");\n",
       "        requirejs.config({\n",
       "            paths: {\n",
       "                'plotly': ['https://cdn.plot.ly/plotly-latest.min']\n",
       "            }\n",
       "        });\n",
       "        require(['plotly'], function(Plotly) {\n",
       "            window._Plotly = Plotly;\n",
       "        });\n",
       "        }\n",
       "        </script>\n",
       "        "
      ]
     },
     "metadata": {},
     "output_type": "display_data"
    }
   ],
   "source": [
    "from plotly.offline import iplot\n",
    "import cufflinks\n",
    "cufflinks.go_offline()\n",
    "cufflinks.set_config_file(world_readable=True, theme='pearl')"
   ]
  },
  {
   "cell_type": "code",
   "execution_count": 149,
   "metadata": {},
   "outputs": [
    {
     "data": {
      "application/vnd.plotly.v1+json": {
       "config": {
        "linkText": "Export to plot.ly",
        "plotlyServerURL": "https://plot.ly",
        "showLink": true
       },
       "data": [
        {
         "histfunc": "count",
         "histnorm": "",
         "marker": {
          "color": "rgba(255, 153, 51, 1.0)",
          "line": {
           "color": "#000000",
           "width": 1.3
          }
         },
         "name": "rating",
         "nbinsx": 5,
         "opacity": 0.8,
         "orientation": "v",
         "type": "histogram",
         "x": [
          5,
          5,
          5,
          5,
          5,
          5,
          5,
          5,
          5,
          5,
          5,
          5,
          5,
          5,
          5,
          5,
          5,
          3,
          5,
          5,
          5,
          4,
          3,
          5,
          5,
          4,
          4,
          5,
          5,
          5,
          5,
          5,
          5,
          5,
          5,
          5,
          5,
          5,
          5,
          3,
          5,
          5,
          5,
          5,
          5,
          5,
          5,
          5,
          5,
          5,
          5,
          5,
          5,
          5,
          5,
          5,
          5,
          5,
          5,
          5,
          5,
          5,
          5,
          5,
          5,
          5,
          5,
          5,
          5,
          5,
          5,
          5,
          5,
          5,
          4,
          4,
          5,
          5,
          5,
          5,
          5,
          1,
          4,
          4,
          5,
          5,
          5,
          5,
          4,
          5,
          5,
          5,
          5,
          4,
          5,
          5,
          5,
          5,
          5,
          5,
          5,
          5,
          5,
          5,
          5,
          5,
          5,
          5,
          5,
          5,
          5,
          5,
          5,
          5,
          5,
          5,
          5,
          5,
          5,
          5,
          5,
          4,
          4,
          5,
          5,
          5,
          5,
          5,
          5,
          4,
          4,
          5,
          5,
          5,
          5,
          5,
          5,
          5,
          5,
          5,
          5,
          5,
          5,
          5,
          5,
          5,
          5,
          5,
          5,
          5,
          5,
          4,
          4,
          4,
          5,
          4,
          5,
          5,
          5,
          5,
          5,
          5,
          5,
          4,
          5,
          5,
          1,
          1,
          5,
          5,
          5,
          5,
          5,
          5,
          5,
          5,
          5,
          5,
          5,
          5,
          5,
          5,
          5,
          5,
          5,
          5,
          5,
          4,
          5,
          5,
          5,
          3,
          5,
          5,
          5,
          5,
          5,
          5,
          2,
          5,
          5,
          1,
          5,
          5,
          4,
          5,
          5,
          5,
          5,
          5,
          5,
          5,
          5,
          5,
          5,
          5,
          5,
          5,
          5,
          5,
          5,
          5,
          5,
          5,
          4,
          5,
          5,
          5,
          5,
          5,
          5,
          5,
          5,
          5,
          5,
          5,
          5,
          5,
          5,
          5,
          5,
          5,
          5,
          5,
          5,
          5,
          5,
          5,
          5,
          5,
          5,
          5,
          5,
          5,
          5,
          5,
          5,
          5,
          5,
          5,
          5,
          5,
          4,
          5,
          5,
          5,
          5,
          5,
          5,
          5,
          5,
          5,
          5,
          5,
          5,
          5,
          5,
          5,
          5,
          5,
          5,
          5,
          5,
          4,
          4,
          5,
          1,
          5,
          5,
          5,
          5,
          5,
          5,
          5,
          5,
          5,
          5,
          5,
          5,
          5,
          5,
          5,
          5,
          5,
          5,
          5,
          5,
          5,
          5,
          5,
          3,
          1,
          5,
          5,
          5,
          4,
          5,
          5,
          5,
          5,
          5,
          5,
          5,
          5,
          5,
          5,
          5,
          5,
          4,
          4,
          5,
          5,
          5,
          5,
          4,
          3,
          2,
          5,
          5,
          5,
          5,
          5,
          5,
          5,
          5,
          5,
          5,
          5,
          5,
          5,
          3,
          5,
          5,
          5,
          5,
          4,
          5,
          4,
          5,
          5,
          5,
          5,
          5,
          5,
          5,
          5,
          5,
          5,
          5,
          5,
          5,
          5,
          5,
          5,
          5,
          4,
          5,
          5,
          3,
          5,
          5,
          5,
          5,
          5,
          5,
          5,
          5,
          5,
          5,
          5,
          5,
          5,
          5,
          5,
          5,
          5,
          5,
          5,
          5,
          5,
          5,
          5,
          5,
          5,
          5,
          5,
          5,
          5,
          4,
          5,
          4,
          5,
          5,
          5,
          5,
          5,
          5,
          5,
          5,
          5,
          5,
          5,
          5,
          5,
          5,
          5,
          5,
          5,
          5,
          2,
          5,
          5,
          5,
          5,
          5,
          5,
          5,
          5,
          5,
          5,
          5,
          5,
          5,
          5,
          5,
          5,
          5,
          5,
          5,
          5,
          5,
          5,
          5,
          5,
          5,
          5,
          5,
          3,
          5,
          5,
          5,
          5,
          5,
          5,
          4,
          4,
          5,
          5,
          5,
          5,
          5,
          5,
          5,
          5,
          5,
          5,
          5,
          5,
          5,
          5,
          4,
          4,
          5,
          5,
          5,
          4,
          5,
          5,
          5,
          5,
          5,
          5,
          5,
          5,
          4,
          1,
          5,
          5,
          5,
          5,
          5,
          5,
          5,
          5,
          5,
          5,
          5,
          5,
          5,
          5,
          5,
          5,
          5,
          3,
          5,
          5,
          5,
          5,
          5,
          5,
          5,
          5,
          5,
          5,
          5,
          5,
          2,
          5,
          4,
          5,
          5,
          1,
          5,
          5,
          5,
          5,
          5,
          5,
          5,
          5,
          5,
          5,
          5,
          4,
          5,
          5,
          5,
          3,
          5,
          5,
          5,
          5,
          5,
          5,
          5,
          5,
          5,
          5,
          5,
          5,
          5,
          5,
          5,
          5,
          5,
          5,
          4,
          5,
          5,
          5,
          5,
          5,
          5,
          5,
          5,
          5,
          5,
          5,
          5,
          5,
          5,
          5,
          5,
          5,
          5,
          5,
          5,
          5,
          5,
          5,
          5,
          5,
          5,
          5,
          5,
          5,
          5,
          4,
          5,
          5,
          5,
          5,
          4,
          5,
          4,
          1,
          5,
          5,
          5,
          5,
          5,
          5,
          5,
          5,
          5,
          5,
          5,
          4,
          5,
          5,
          5,
          5,
          5,
          5,
          4,
          5,
          5,
          5,
          5,
          5,
          5,
          5,
          5,
          4,
          5,
          5,
          5,
          5,
          5,
          5,
          5,
          5,
          5,
          5,
          5,
          5,
          5,
          2,
          4,
          5,
          5,
          5,
          5,
          5,
          5,
          5,
          5,
          5,
          4,
          2,
          5,
          5,
          5,
          5,
          5,
          5,
          5,
          5,
          5,
          5,
          1,
          5,
          5,
          5,
          5,
          5,
          2,
          5,
          5,
          5,
          5,
          5,
          4,
          5,
          5,
          5,
          5,
          5,
          5,
          5,
          5,
          4,
          5,
          4,
          4,
          5,
          3,
          1,
          5,
          5,
          5,
          5,
          5,
          3,
          5,
          5,
          5,
          5,
          5,
          5,
          5,
          5,
          2,
          5,
          5,
          5,
          5,
          5,
          5,
          5,
          5,
          5,
          5,
          5,
          5,
          5,
          5,
          5,
          5,
          5,
          5,
          5,
          5,
          5,
          5,
          5,
          5,
          5,
          5,
          5,
          5,
          5,
          5,
          5,
          5,
          5,
          4,
          4,
          4,
          5,
          5,
          5,
          5,
          5,
          5,
          5,
          5,
          5,
          4,
          5,
          5,
          5,
          5,
          5,
          5,
          5,
          5,
          5,
          5,
          5,
          5,
          5,
          3,
          5,
          5,
          5,
          5,
          5,
          5,
          5,
          5,
          5,
          5,
          5,
          5,
          5,
          5,
          5,
          4,
          4,
          4,
          4,
          3,
          3,
          1,
          5,
          5,
          5,
          5,
          5,
          5,
          5,
          5,
          5,
          5,
          5,
          5,
          4,
          5,
          5,
          5,
          5,
          5,
          5,
          5,
          5,
          5,
          5,
          5,
          5,
          5,
          5,
          5,
          5,
          5,
          5,
          5,
          5,
          5,
          3,
          5,
          5,
          5,
          1,
          5,
          5,
          5,
          5,
          4,
          5,
          5,
          5,
          5,
          5,
          5,
          5,
          3,
          4,
          3,
          5,
          4,
          4,
          3,
          5,
          5,
          5,
          5,
          5,
          5,
          5,
          2,
          5,
          2,
          5,
          4,
          5,
          4,
          3,
          5,
          5,
          5,
          5,
          5,
          5,
          5,
          5,
          4,
          5,
          5,
          5,
          5,
          5,
          5,
          5,
          5,
          5,
          5,
          5,
          5,
          5,
          5,
          5,
          5,
          4,
          5,
          5,
          5,
          4,
          5,
          5,
          1,
          5,
          5,
          5,
          4,
          5,
          5,
          5,
          5,
          5,
          5,
          5,
          5,
          5,
          5,
          5,
          5,
          3,
          5,
          5,
          3,
          5,
          5,
          5,
          5,
          5,
          5,
          5,
          5,
          5,
          5,
          3,
          5,
          5,
          5,
          5,
          5,
          4,
          1,
          5,
          5,
          5,
          5,
          5,
          5,
          5,
          5,
          5,
          5,
          4,
          4,
          4,
          3,
          5,
          5,
          5,
          5,
          5,
          5,
          4,
          5,
          4,
          5,
          5,
          5,
          5,
          5,
          5,
          5,
          5,
          4,
          5,
          5,
          5,
          5,
          4,
          5,
          5,
          5,
          4,
          3,
          5,
          5,
          5,
          5,
          4,
          4,
          5,
          5,
          5,
          5,
          5,
          5,
          5,
          4,
          5,
          5,
          5,
          5,
          3,
          4,
          3,
          3,
          5,
          4,
          5,
          5,
          4,
          5,
          5,
          5,
          5,
          4,
          5,
          5,
          5,
          5,
          4,
          5,
          5,
          5,
          3,
          5,
          1,
          5,
          5,
          5,
          5,
          5,
          5,
          5,
          5,
          5,
          5,
          5,
          5,
          5,
          4,
          5,
          5,
          5,
          5,
          5,
          5,
          5,
          5,
          5,
          5,
          5,
          5,
          5,
          5,
          5,
          5,
          5,
          5,
          5,
          5,
          5,
          1,
          5,
          5,
          5,
          4,
          5,
          5,
          5,
          5,
          5,
          4,
          5,
          1,
          5,
          5,
          5,
          5,
          5,
          5,
          1,
          5,
          5,
          5,
          5,
          5,
          3,
          3,
          5,
          4,
          5,
          5,
          5,
          5,
          4,
          5,
          4,
          1,
          5,
          5,
          5,
          5,
          5,
          5,
          5,
          4,
          5,
          5,
          5,
          5,
          5,
          5,
          5,
          5,
          3,
          5,
          5,
          5,
          5,
          5,
          5,
          5,
          5,
          5,
          5,
          5,
          5,
          5,
          4,
          5,
          4,
          1,
          5,
          5,
          5,
          5,
          5,
          5,
          2,
          5,
          5,
          5,
          5,
          5,
          3,
          5,
          2,
          5,
          5,
          5,
          5,
          5,
          5,
          5,
          5,
          5,
          5,
          5,
          5,
          5,
          5,
          5,
          5,
          4,
          5,
          5,
          5,
          5,
          5,
          5,
          4,
          5,
          1,
          5,
          5,
          5,
          4,
          4,
          4,
          5,
          5,
          4,
          4,
          1,
          5,
          5,
          5,
          4,
          5,
          5,
          5,
          4,
          2,
          5,
          5,
          1,
          5,
          4,
          4,
          5,
          4,
          5,
          5,
          5,
          5,
          3,
          5,
          4,
          5,
          5,
          5,
          5,
          4,
          5,
          5,
          5,
          5,
          5,
          5,
          5,
          5,
          5,
          5,
          5,
          5,
          5,
          5,
          5,
          4,
          5,
          5,
          5,
          5,
          5,
          5,
          5,
          5,
          5,
          5,
          5,
          5,
          5,
          5,
          5,
          5,
          4,
          5,
          4,
          5,
          5,
          5,
          5,
          5,
          5,
          5,
          5,
          5,
          5,
          5,
          5,
          5,
          3,
          4,
          4,
          4,
          5,
          3,
          5,
          5,
          5,
          5,
          5,
          5,
          5,
          5,
          5,
          5,
          4,
          5,
          5,
          5,
          5,
          5,
          5,
          3,
          5,
          2,
          4,
          5,
          4,
          3,
          5,
          5,
          5,
          5,
          5,
          5,
          5,
          5,
          5,
          5,
          5,
          5,
          4,
          4,
          5,
          5,
          5,
          5,
          5,
          5,
          5,
          5,
          4,
          4,
          5,
          5,
          5,
          4,
          5,
          5,
          5,
          5,
          5,
          5,
          4,
          5,
          5,
          4,
          1,
          5,
          5,
          5,
          5,
          3,
          1,
          1,
          5,
          4,
          5,
          5,
          5,
          5,
          5,
          5,
          5,
          5,
          5,
          5,
          5,
          5,
          5,
          5,
          5,
          5,
          5,
          5,
          5,
          5,
          3,
          5,
          5,
          4,
          5,
          5,
          5,
          5,
          5,
          5,
          5,
          4,
          4,
          5,
          5,
          5,
          5,
          5,
          5,
          5,
          5,
          5,
          5,
          5,
          5,
          2,
          4,
          5,
          5,
          4,
          5,
          5,
          5,
          5,
          5,
          5,
          5,
          5,
          5,
          5,
          5,
          5,
          5,
          5,
          3,
          2,
          5,
          1,
          5,
          5,
          5,
          5,
          5,
          4,
          5,
          5,
          5,
          5,
          5,
          5,
          5,
          5,
          5,
          5,
          1,
          5,
          5,
          5,
          5,
          5,
          5,
          5,
          5,
          1
         ]
        }
       ],
       "layout": {
        "barmode": "overlay",
        "legend": {
         "bgcolor": "#F5F6F9",
         "font": {
          "color": "#4D5663"
         }
        },
        "paper_bgcolor": "#F5F6F9",
        "plot_bgcolor": "#F5F6F9",
        "template": {
         "data": {
          "bar": [
           {
            "error_x": {
             "color": "#2a3f5f"
            },
            "error_y": {
             "color": "#2a3f5f"
            },
            "marker": {
             "line": {
              "color": "#E5ECF6",
              "width": 0.5
             }
            },
            "type": "bar"
           }
          ],
          "barpolar": [
           {
            "marker": {
             "line": {
              "color": "#E5ECF6",
              "width": 0.5
             }
            },
            "type": "barpolar"
           }
          ],
          "carpet": [
           {
            "aaxis": {
             "endlinecolor": "#2a3f5f",
             "gridcolor": "white",
             "linecolor": "white",
             "minorgridcolor": "white",
             "startlinecolor": "#2a3f5f"
            },
            "baxis": {
             "endlinecolor": "#2a3f5f",
             "gridcolor": "white",
             "linecolor": "white",
             "minorgridcolor": "white",
             "startlinecolor": "#2a3f5f"
            },
            "type": "carpet"
           }
          ],
          "choropleth": [
           {
            "colorbar": {
             "outlinewidth": 0,
             "ticks": ""
            },
            "type": "choropleth"
           }
          ],
          "contour": [
           {
            "colorbar": {
             "outlinewidth": 0,
             "ticks": ""
            },
            "colorscale": [
             [
              0,
              "#0d0887"
             ],
             [
              0.1111111111111111,
              "#46039f"
             ],
             [
              0.2222222222222222,
              "#7201a8"
             ],
             [
              0.3333333333333333,
              "#9c179e"
             ],
             [
              0.4444444444444444,
              "#bd3786"
             ],
             [
              0.5555555555555556,
              "#d8576b"
             ],
             [
              0.6666666666666666,
              "#ed7953"
             ],
             [
              0.7777777777777778,
              "#fb9f3a"
             ],
             [
              0.8888888888888888,
              "#fdca26"
             ],
             [
              1,
              "#f0f921"
             ]
            ],
            "type": "contour"
           }
          ],
          "contourcarpet": [
           {
            "colorbar": {
             "outlinewidth": 0,
             "ticks": ""
            },
            "type": "contourcarpet"
           }
          ],
          "heatmap": [
           {
            "colorbar": {
             "outlinewidth": 0,
             "ticks": ""
            },
            "colorscale": [
             [
              0,
              "#0d0887"
             ],
             [
              0.1111111111111111,
              "#46039f"
             ],
             [
              0.2222222222222222,
              "#7201a8"
             ],
             [
              0.3333333333333333,
              "#9c179e"
             ],
             [
              0.4444444444444444,
              "#bd3786"
             ],
             [
              0.5555555555555556,
              "#d8576b"
             ],
             [
              0.6666666666666666,
              "#ed7953"
             ],
             [
              0.7777777777777778,
              "#fb9f3a"
             ],
             [
              0.8888888888888888,
              "#fdca26"
             ],
             [
              1,
              "#f0f921"
             ]
            ],
            "type": "heatmap"
           }
          ],
          "heatmapgl": [
           {
            "colorbar": {
             "outlinewidth": 0,
             "ticks": ""
            },
            "colorscale": [
             [
              0,
              "#0d0887"
             ],
             [
              0.1111111111111111,
              "#46039f"
             ],
             [
              0.2222222222222222,
              "#7201a8"
             ],
             [
              0.3333333333333333,
              "#9c179e"
             ],
             [
              0.4444444444444444,
              "#bd3786"
             ],
             [
              0.5555555555555556,
              "#d8576b"
             ],
             [
              0.6666666666666666,
              "#ed7953"
             ],
             [
              0.7777777777777778,
              "#fb9f3a"
             ],
             [
              0.8888888888888888,
              "#fdca26"
             ],
             [
              1,
              "#f0f921"
             ]
            ],
            "type": "heatmapgl"
           }
          ],
          "histogram": [
           {
            "marker": {
             "colorbar": {
              "outlinewidth": 0,
              "ticks": ""
             }
            },
            "type": "histogram"
           }
          ],
          "histogram2d": [
           {
            "colorbar": {
             "outlinewidth": 0,
             "ticks": ""
            },
            "colorscale": [
             [
              0,
              "#0d0887"
             ],
             [
              0.1111111111111111,
              "#46039f"
             ],
             [
              0.2222222222222222,
              "#7201a8"
             ],
             [
              0.3333333333333333,
              "#9c179e"
             ],
             [
              0.4444444444444444,
              "#bd3786"
             ],
             [
              0.5555555555555556,
              "#d8576b"
             ],
             [
              0.6666666666666666,
              "#ed7953"
             ],
             [
              0.7777777777777778,
              "#fb9f3a"
             ],
             [
              0.8888888888888888,
              "#fdca26"
             ],
             [
              1,
              "#f0f921"
             ]
            ],
            "type": "histogram2d"
           }
          ],
          "histogram2dcontour": [
           {
            "colorbar": {
             "outlinewidth": 0,
             "ticks": ""
            },
            "colorscale": [
             [
              0,
              "#0d0887"
             ],
             [
              0.1111111111111111,
              "#46039f"
             ],
             [
              0.2222222222222222,
              "#7201a8"
             ],
             [
              0.3333333333333333,
              "#9c179e"
             ],
             [
              0.4444444444444444,
              "#bd3786"
             ],
             [
              0.5555555555555556,
              "#d8576b"
             ],
             [
              0.6666666666666666,
              "#ed7953"
             ],
             [
              0.7777777777777778,
              "#fb9f3a"
             ],
             [
              0.8888888888888888,
              "#fdca26"
             ],
             [
              1,
              "#f0f921"
             ]
            ],
            "type": "histogram2dcontour"
           }
          ],
          "mesh3d": [
           {
            "colorbar": {
             "outlinewidth": 0,
             "ticks": ""
            },
            "type": "mesh3d"
           }
          ],
          "parcoords": [
           {
            "line": {
             "colorbar": {
              "outlinewidth": 0,
              "ticks": ""
             }
            },
            "type": "parcoords"
           }
          ],
          "pie": [
           {
            "automargin": true,
            "type": "pie"
           }
          ],
          "scatter": [
           {
            "marker": {
             "colorbar": {
              "outlinewidth": 0,
              "ticks": ""
             }
            },
            "type": "scatter"
           }
          ],
          "scatter3d": [
           {
            "line": {
             "colorbar": {
              "outlinewidth": 0,
              "ticks": ""
             }
            },
            "marker": {
             "colorbar": {
              "outlinewidth": 0,
              "ticks": ""
             }
            },
            "type": "scatter3d"
           }
          ],
          "scattercarpet": [
           {
            "marker": {
             "colorbar": {
              "outlinewidth": 0,
              "ticks": ""
             }
            },
            "type": "scattercarpet"
           }
          ],
          "scattergeo": [
           {
            "marker": {
             "colorbar": {
              "outlinewidth": 0,
              "ticks": ""
             }
            },
            "type": "scattergeo"
           }
          ],
          "scattergl": [
           {
            "marker": {
             "colorbar": {
              "outlinewidth": 0,
              "ticks": ""
             }
            },
            "type": "scattergl"
           }
          ],
          "scattermapbox": [
           {
            "marker": {
             "colorbar": {
              "outlinewidth": 0,
              "ticks": ""
             }
            },
            "type": "scattermapbox"
           }
          ],
          "scatterpolar": [
           {
            "marker": {
             "colorbar": {
              "outlinewidth": 0,
              "ticks": ""
             }
            },
            "type": "scatterpolar"
           }
          ],
          "scatterpolargl": [
           {
            "marker": {
             "colorbar": {
              "outlinewidth": 0,
              "ticks": ""
             }
            },
            "type": "scatterpolargl"
           }
          ],
          "scatterternary": [
           {
            "marker": {
             "colorbar": {
              "outlinewidth": 0,
              "ticks": ""
             }
            },
            "type": "scatterternary"
           }
          ],
          "surface": [
           {
            "colorbar": {
             "outlinewidth": 0,
             "ticks": ""
            },
            "colorscale": [
             [
              0,
              "#0d0887"
             ],
             [
              0.1111111111111111,
              "#46039f"
             ],
             [
              0.2222222222222222,
              "#7201a8"
             ],
             [
              0.3333333333333333,
              "#9c179e"
             ],
             [
              0.4444444444444444,
              "#bd3786"
             ],
             [
              0.5555555555555556,
              "#d8576b"
             ],
             [
              0.6666666666666666,
              "#ed7953"
             ],
             [
              0.7777777777777778,
              "#fb9f3a"
             ],
             [
              0.8888888888888888,
              "#fdca26"
             ],
             [
              1,
              "#f0f921"
             ]
            ],
            "type": "surface"
           }
          ],
          "table": [
           {
            "cells": {
             "fill": {
              "color": "#EBF0F8"
             },
             "line": {
              "color": "white"
             }
            },
            "header": {
             "fill": {
              "color": "#C8D4E3"
             },
             "line": {
              "color": "white"
             }
            },
            "type": "table"
           }
          ]
         },
         "layout": {
          "annotationdefaults": {
           "arrowcolor": "#2a3f5f",
           "arrowhead": 0,
           "arrowwidth": 1
          },
          "coloraxis": {
           "colorbar": {
            "outlinewidth": 0,
            "ticks": ""
           }
          },
          "colorscale": {
           "diverging": [
            [
             0,
             "#8e0152"
            ],
            [
             0.1,
             "#c51b7d"
            ],
            [
             0.2,
             "#de77ae"
            ],
            [
             0.3,
             "#f1b6da"
            ],
            [
             0.4,
             "#fde0ef"
            ],
            [
             0.5,
             "#f7f7f7"
            ],
            [
             0.6,
             "#e6f5d0"
            ],
            [
             0.7,
             "#b8e186"
            ],
            [
             0.8,
             "#7fbc41"
            ],
            [
             0.9,
             "#4d9221"
            ],
            [
             1,
             "#276419"
            ]
           ],
           "sequential": [
            [
             0,
             "#0d0887"
            ],
            [
             0.1111111111111111,
             "#46039f"
            ],
            [
             0.2222222222222222,
             "#7201a8"
            ],
            [
             0.3333333333333333,
             "#9c179e"
            ],
            [
             0.4444444444444444,
             "#bd3786"
            ],
            [
             0.5555555555555556,
             "#d8576b"
            ],
            [
             0.6666666666666666,
             "#ed7953"
            ],
            [
             0.7777777777777778,
             "#fb9f3a"
            ],
            [
             0.8888888888888888,
             "#fdca26"
            ],
            [
             1,
             "#f0f921"
            ]
           ],
           "sequentialminus": [
            [
             0,
             "#0d0887"
            ],
            [
             0.1111111111111111,
             "#46039f"
            ],
            [
             0.2222222222222222,
             "#7201a8"
            ],
            [
             0.3333333333333333,
             "#9c179e"
            ],
            [
             0.4444444444444444,
             "#bd3786"
            ],
            [
             0.5555555555555556,
             "#d8576b"
            ],
            [
             0.6666666666666666,
             "#ed7953"
            ],
            [
             0.7777777777777778,
             "#fb9f3a"
            ],
            [
             0.8888888888888888,
             "#fdca26"
            ],
            [
             1,
             "#f0f921"
            ]
           ]
          },
          "colorway": [
           "#636efa",
           "#EF553B",
           "#00cc96",
           "#ab63fa",
           "#FFA15A",
           "#19d3f3",
           "#FF6692",
           "#B6E880",
           "#FF97FF",
           "#FECB52"
          ],
          "font": {
           "color": "#2a3f5f"
          },
          "geo": {
           "bgcolor": "white",
           "lakecolor": "white",
           "landcolor": "#E5ECF6",
           "showlakes": true,
           "showland": true,
           "subunitcolor": "white"
          },
          "hoverlabel": {
           "align": "left"
          },
          "hovermode": "closest",
          "mapbox": {
           "style": "light"
          },
          "paper_bgcolor": "white",
          "plot_bgcolor": "#E5ECF6",
          "polar": {
           "angularaxis": {
            "gridcolor": "white",
            "linecolor": "white",
            "ticks": ""
           },
           "bgcolor": "#E5ECF6",
           "radialaxis": {
            "gridcolor": "white",
            "linecolor": "white",
            "ticks": ""
           }
          },
          "scene": {
           "xaxis": {
            "backgroundcolor": "#E5ECF6",
            "gridcolor": "white",
            "gridwidth": 2,
            "linecolor": "white",
            "showbackground": true,
            "ticks": "",
            "zerolinecolor": "white"
           },
           "yaxis": {
            "backgroundcolor": "#E5ECF6",
            "gridcolor": "white",
            "gridwidth": 2,
            "linecolor": "white",
            "showbackground": true,
            "ticks": "",
            "zerolinecolor": "white"
           },
           "zaxis": {
            "backgroundcolor": "#E5ECF6",
            "gridcolor": "white",
            "gridwidth": 2,
            "linecolor": "white",
            "showbackground": true,
            "ticks": "",
            "zerolinecolor": "white"
           }
          },
          "shapedefaults": {
           "line": {
            "color": "#2a3f5f"
           }
          },
          "ternary": {
           "aaxis": {
            "gridcolor": "white",
            "linecolor": "white",
            "ticks": ""
           },
           "baxis": {
            "gridcolor": "white",
            "linecolor": "white",
            "ticks": ""
           },
           "bgcolor": "#E5ECF6",
           "caxis": {
            "gridcolor": "white",
            "linecolor": "white",
            "ticks": ""
           }
          },
          "title": {
           "x": 0.05
          },
          "xaxis": {
           "automargin": true,
           "gridcolor": "white",
           "linecolor": "white",
           "ticks": "",
           "title": {
            "standoff": 15
           },
           "zerolinecolor": "white",
           "zerolinewidth": 2
          },
          "yaxis": {
           "automargin": true,
           "gridcolor": "white",
           "linecolor": "white",
           "ticks": "",
           "title": {
            "standoff": 15
           },
           "zerolinecolor": "white",
           "zerolinewidth": 2
          }
         }
        },
        "title": {
         "font": {
          "color": "#4D5663"
         },
         "text": "Review rating dictribution"
        },
        "xaxis": {
         "gridcolor": "#E1E5ED",
         "linecolor": "black",
         "showgrid": true,
         "tickfont": {
          "color": "#4D5663"
         },
         "title": {
          "font": {
           "color": "#4D5663"
          },
          "text": "rating"
         },
         "zerolinecolor": "#E1E5ED"
        },
        "yaxis": {
         "gridcolor": "#E1E5ED",
         "linecolor": "black",
         "showgrid": true,
         "tickfont": {
          "color": "#4D5663"
         },
         "title": {
          "font": {
           "color": "#4D5663"
          },
          "text": "count"
         },
         "zerolinecolor": "#E1E5ED"
        }
       }
      },
      "text/html": [
       "<div>\n",
       "        \n",
       "        \n",
       "            <div id=\"fc9dc0aa-2dd8-49c6-9624-db1f0ec10c62\" class=\"plotly-graph-div\" style=\"height:525px; width:100%;\"></div>\n",
       "            <script type=\"text/javascript\">\n",
       "                require([\"plotly\"], function(Plotly) {\n",
       "                    window.PLOTLYENV=window.PLOTLYENV || {};\n",
       "                    window.PLOTLYENV.BASE_URL='https://plot.ly';\n",
       "                    \n",
       "                if (document.getElementById(\"fc9dc0aa-2dd8-49c6-9624-db1f0ec10c62\")) {\n",
       "                    Plotly.newPlot(\n",
       "                        'fc9dc0aa-2dd8-49c6-9624-db1f0ec10c62',\n",
       "                        [{\"histfunc\": \"count\", \"histnorm\": \"\", \"marker\": {\"color\": \"rgba(255, 153, 51, 1.0)\", \"line\": {\"color\": \"#000000\", \"width\": 1.3}}, \"name\": \"rating\", \"nbinsx\": 5, \"opacity\": 0.8, \"orientation\": \"v\", \"type\": \"histogram\", \"x\": [5, 5, 5, 5, 5, 5, 5, 5, 5, 5, 5, 5, 5, 5, 5, 5, 5, 3, 5, 5, 5, 4, 3, 5, 5, 4, 4, 5, 5, 5, 5, 5, 5, 5, 5, 5, 5, 5, 5, 3, 5, 5, 5, 5, 5, 5, 5, 5, 5, 5, 5, 5, 5, 5, 5, 5, 5, 5, 5, 5, 5, 5, 5, 5, 5, 5, 5, 5, 5, 5, 5, 5, 5, 5, 4, 4, 5, 5, 5, 5, 5, 1, 4, 4, 5, 5, 5, 5, 4, 5, 5, 5, 5, 4, 5, 5, 5, 5, 5, 5, 5, 5, 5, 5, 5, 5, 5, 5, 5, 5, 5, 5, 5, 5, 5, 5, 5, 5, 5, 5, 5, 4, 4, 5, 5, 5, 5, 5, 5, 4, 4, 5, 5, 5, 5, 5, 5, 5, 5, 5, 5, 5, 5, 5, 5, 5, 5, 5, 5, 5, 5, 4, 4, 4, 5, 4, 5, 5, 5, 5, 5, 5, 5, 4, 5, 5, 1, 1, 5, 5, 5, 5, 5, 5, 5, 5, 5, 5, 5, 5, 5, 5, 5, 5, 5, 5, 5, 4, 5, 5, 5, 3, 5, 5, 5, 5, 5, 5, 2, 5, 5, 1, 5, 5, 4, 5, 5, 5, 5, 5, 5, 5, 5, 5, 5, 5, 5, 5, 5, 5, 5, 5, 5, 5, 4, 5, 5, 5, 5, 5, 5, 5, 5, 5, 5, 5, 5, 5, 5, 5, 5, 5, 5, 5, 5, 5, 5, 5, 5, 5, 5, 5, 5, 5, 5, 5, 5, 5, 5, 5, 5, 5, 4, 5, 5, 5, 5, 5, 5, 5, 5, 5, 5, 5, 5, 5, 5, 5, 5, 5, 5, 5, 5, 4, 4, 5, 1, 5, 5, 5, 5, 5, 5, 5, 5, 5, 5, 5, 5, 5, 5, 5, 5, 5, 5, 5, 5, 5, 5, 5, 3, 1, 5, 5, 5, 4, 5, 5, 5, 5, 5, 5, 5, 5, 5, 5, 5, 5, 4, 4, 5, 5, 5, 5, 4, 3, 2, 5, 5, 5, 5, 5, 5, 5, 5, 5, 5, 5, 5, 5, 3, 5, 5, 5, 5, 4, 5, 4, 5, 5, 5, 5, 5, 5, 5, 5, 5, 5, 5, 5, 5, 5, 5, 5, 5, 4, 5, 5, 3, 5, 5, 5, 5, 5, 5, 5, 5, 5, 5, 5, 5, 5, 5, 5, 5, 5, 5, 5, 5, 5, 5, 5, 5, 5, 5, 5, 5, 5, 4, 5, 4, 5, 5, 5, 5, 5, 5, 5, 5, 5, 5, 5, 5, 5, 5, 5, 5, 5, 5, 2, 5, 5, 5, 5, 5, 5, 5, 5, 5, 5, 5, 5, 5, 5, 5, 5, 5, 5, 5, 5, 5, 5, 5, 5, 5, 5, 5, 3, 5, 5, 5, 5, 5, 5, 4, 4, 5, 5, 5, 5, 5, 5, 5, 5, 5, 5, 5, 5, 5, 5, 4, 4, 5, 5, 5, 4, 5, 5, 5, 5, 5, 5, 5, 5, 4, 1, 5, 5, 5, 5, 5, 5, 5, 5, 5, 5, 5, 5, 5, 5, 5, 5, 5, 3, 5, 5, 5, 5, 5, 5, 5, 5, 5, 5, 5, 5, 2, 5, 4, 5, 5, 1, 5, 5, 5, 5, 5, 5, 5, 5, 5, 5, 5, 4, 5, 5, 5, 3, 5, 5, 5, 5, 5, 5, 5, 5, 5, 5, 5, 5, 5, 5, 5, 5, 5, 5, 4, 5, 5, 5, 5, 5, 5, 5, 5, 5, 5, 5, 5, 5, 5, 5, 5, 5, 5, 5, 5, 5, 5, 5, 5, 5, 5, 5, 5, 5, 5, 4, 5, 5, 5, 5, 4, 5, 4, 1, 5, 5, 5, 5, 5, 5, 5, 5, 5, 5, 5, 4, 5, 5, 5, 5, 5, 5, 4, 5, 5, 5, 5, 5, 5, 5, 5, 4, 5, 5, 5, 5, 5, 5, 5, 5, 5, 5, 5, 5, 5, 2, 4, 5, 5, 5, 5, 5, 5, 5, 5, 5, 4, 2, 5, 5, 5, 5, 5, 5, 5, 5, 5, 5, 1, 5, 5, 5, 5, 5, 2, 5, 5, 5, 5, 5, 4, 5, 5, 5, 5, 5, 5, 5, 5, 4, 5, 4, 4, 5, 3, 1, 5, 5, 5, 5, 5, 3, 5, 5, 5, 5, 5, 5, 5, 5, 2, 5, 5, 5, 5, 5, 5, 5, 5, 5, 5, 5, 5, 5, 5, 5, 5, 5, 5, 5, 5, 5, 5, 5, 5, 5, 5, 5, 5, 5, 5, 5, 5, 5, 4, 4, 4, 5, 5, 5, 5, 5, 5, 5, 5, 5, 4, 5, 5, 5, 5, 5, 5, 5, 5, 5, 5, 5, 5, 5, 3, 5, 5, 5, 5, 5, 5, 5, 5, 5, 5, 5, 5, 5, 5, 5, 4, 4, 4, 4, 3, 3, 1, 5, 5, 5, 5, 5, 5, 5, 5, 5, 5, 5, 5, 4, 5, 5, 5, 5, 5, 5, 5, 5, 5, 5, 5, 5, 5, 5, 5, 5, 5, 5, 5, 5, 5, 3, 5, 5, 5, 1, 5, 5, 5, 5, 4, 5, 5, 5, 5, 5, 5, 5, 3, 4, 3, 5, 4, 4, 3, 5, 5, 5, 5, 5, 5, 5, 2, 5, 2, 5, 4, 5, 4, 3, 5, 5, 5, 5, 5, 5, 5, 5, 4, 5, 5, 5, 5, 5, 5, 5, 5, 5, 5, 5, 5, 5, 5, 5, 5, 4, 5, 5, 5, 4, 5, 5, 1, 5, 5, 5, 4, 5, 5, 5, 5, 5, 5, 5, 5, 5, 5, 5, 5, 3, 5, 5, 3, 5, 5, 5, 5, 5, 5, 5, 5, 5, 5, 3, 5, 5, 5, 5, 5, 4, 1, 5, 5, 5, 5, 5, 5, 5, 5, 5, 5, 4, 4, 4, 3, 5, 5, 5, 5, 5, 5, 4, 5, 4, 5, 5, 5, 5, 5, 5, 5, 5, 4, 5, 5, 5, 5, 4, 5, 5, 5, 4, 3, 5, 5, 5, 5, 4, 4, 5, 5, 5, 5, 5, 5, 5, 4, 5, 5, 5, 5, 3, 4, 3, 3, 5, 4, 5, 5, 4, 5, 5, 5, 5, 4, 5, 5, 5, 5, 4, 5, 5, 5, 3, 5, 1, 5, 5, 5, 5, 5, 5, 5, 5, 5, 5, 5, 5, 5, 4, 5, 5, 5, 5, 5, 5, 5, 5, 5, 5, 5, 5, 5, 5, 5, 5, 5, 5, 5, 5, 5, 1, 5, 5, 5, 4, 5, 5, 5, 5, 5, 4, 5, 1, 5, 5, 5, 5, 5, 5, 1, 5, 5, 5, 5, 5, 3, 3, 5, 4, 5, 5, 5, 5, 4, 5, 4, 1, 5, 5, 5, 5, 5, 5, 5, 4, 5, 5, 5, 5, 5, 5, 5, 5, 3, 5, 5, 5, 5, 5, 5, 5, 5, 5, 5, 5, 5, 5, 4, 5, 4, 1, 5, 5, 5, 5, 5, 5, 2, 5, 5, 5, 5, 5, 3, 5, 2, 5, 5, 5, 5, 5, 5, 5, 5, 5, 5, 5, 5, 5, 5, 5, 5, 4, 5, 5, 5, 5, 5, 5, 4, 5, 1, 5, 5, 5, 4, 4, 4, 5, 5, 4, 4, 1, 5, 5, 5, 4, 5, 5, 5, 4, 2, 5, 5, 1, 5, 4, 4, 5, 4, 5, 5, 5, 5, 3, 5, 4, 5, 5, 5, 5, 4, 5, 5, 5, 5, 5, 5, 5, 5, 5, 5, 5, 5, 5, 5, 5, 4, 5, 5, 5, 5, 5, 5, 5, 5, 5, 5, 5, 5, 5, 5, 5, 5, 4, 5, 4, 5, 5, 5, 5, 5, 5, 5, 5, 5, 5, 5, 5, 5, 3, 4, 4, 4, 5, 3, 5, 5, 5, 5, 5, 5, 5, 5, 5, 5, 4, 5, 5, 5, 5, 5, 5, 3, 5, 2, 4, 5, 4, 3, 5, 5, 5, 5, 5, 5, 5, 5, 5, 5, 5, 5, 4, 4, 5, 5, 5, 5, 5, 5, 5, 5, 4, 4, 5, 5, 5, 4, 5, 5, 5, 5, 5, 5, 4, 5, 5, 4, 1, 5, 5, 5, 5, 3, 1, 1, 5, 4, 5, 5, 5, 5, 5, 5, 5, 5, 5, 5, 5, 5, 5, 5, 5, 5, 5, 5, 5, 5, 3, 5, 5, 4, 5, 5, 5, 5, 5, 5, 5, 4, 4, 5, 5, 5, 5, 5, 5, 5, 5, 5, 5, 5, 5, 2, 4, 5, 5, 4, 5, 5, 5, 5, 5, 5, 5, 5, 5, 5, 5, 5, 5, 5, 3, 2, 5, 1, 5, 5, 5, 5, 5, 4, 5, 5, 5, 5, 5, 5, 5, 5, 5, 5, 1, 5, 5, 5, 5, 5, 5, 5, 5, 1]}],\n",
       "                        {\"barmode\": \"overlay\", \"legend\": {\"bgcolor\": \"#F5F6F9\", \"font\": {\"color\": \"#4D5663\"}}, \"paper_bgcolor\": \"#F5F6F9\", \"plot_bgcolor\": \"#F5F6F9\", \"template\": {\"data\": {\"bar\": [{\"error_x\": {\"color\": \"#2a3f5f\"}, \"error_y\": {\"color\": \"#2a3f5f\"}, \"marker\": {\"line\": {\"color\": \"#E5ECF6\", \"width\": 0.5}}, \"type\": \"bar\"}], \"barpolar\": [{\"marker\": {\"line\": {\"color\": \"#E5ECF6\", \"width\": 0.5}}, \"type\": \"barpolar\"}], \"carpet\": [{\"aaxis\": {\"endlinecolor\": \"#2a3f5f\", \"gridcolor\": \"white\", \"linecolor\": \"white\", \"minorgridcolor\": \"white\", \"startlinecolor\": \"#2a3f5f\"}, \"baxis\": {\"endlinecolor\": \"#2a3f5f\", \"gridcolor\": \"white\", \"linecolor\": \"white\", \"minorgridcolor\": \"white\", \"startlinecolor\": \"#2a3f5f\"}, \"type\": \"carpet\"}], \"choropleth\": [{\"colorbar\": {\"outlinewidth\": 0, \"ticks\": \"\"}, \"type\": \"choropleth\"}], \"contour\": [{\"colorbar\": {\"outlinewidth\": 0, \"ticks\": \"\"}, \"colorscale\": [[0.0, \"#0d0887\"], [0.1111111111111111, \"#46039f\"], [0.2222222222222222, \"#7201a8\"], [0.3333333333333333, \"#9c179e\"], [0.4444444444444444, \"#bd3786\"], [0.5555555555555556, \"#d8576b\"], [0.6666666666666666, \"#ed7953\"], [0.7777777777777778, \"#fb9f3a\"], [0.8888888888888888, \"#fdca26\"], [1.0, \"#f0f921\"]], \"type\": \"contour\"}], \"contourcarpet\": [{\"colorbar\": {\"outlinewidth\": 0, \"ticks\": \"\"}, \"type\": \"contourcarpet\"}], \"heatmap\": [{\"colorbar\": {\"outlinewidth\": 0, \"ticks\": \"\"}, \"colorscale\": [[0.0, \"#0d0887\"], [0.1111111111111111, \"#46039f\"], [0.2222222222222222, \"#7201a8\"], [0.3333333333333333, \"#9c179e\"], [0.4444444444444444, \"#bd3786\"], [0.5555555555555556, \"#d8576b\"], [0.6666666666666666, \"#ed7953\"], [0.7777777777777778, \"#fb9f3a\"], [0.8888888888888888, \"#fdca26\"], [1.0, \"#f0f921\"]], \"type\": \"heatmap\"}], \"heatmapgl\": [{\"colorbar\": {\"outlinewidth\": 0, \"ticks\": \"\"}, \"colorscale\": [[0.0, \"#0d0887\"], [0.1111111111111111, \"#46039f\"], [0.2222222222222222, \"#7201a8\"], [0.3333333333333333, \"#9c179e\"], [0.4444444444444444, \"#bd3786\"], [0.5555555555555556, \"#d8576b\"], [0.6666666666666666, \"#ed7953\"], [0.7777777777777778, \"#fb9f3a\"], [0.8888888888888888, \"#fdca26\"], [1.0, \"#f0f921\"]], \"type\": \"heatmapgl\"}], \"histogram\": [{\"marker\": {\"colorbar\": {\"outlinewidth\": 0, \"ticks\": \"\"}}, \"type\": \"histogram\"}], \"histogram2d\": [{\"colorbar\": {\"outlinewidth\": 0, \"ticks\": \"\"}, \"colorscale\": [[0.0, \"#0d0887\"], [0.1111111111111111, \"#46039f\"], [0.2222222222222222, \"#7201a8\"], [0.3333333333333333, \"#9c179e\"], [0.4444444444444444, \"#bd3786\"], [0.5555555555555556, \"#d8576b\"], [0.6666666666666666, \"#ed7953\"], [0.7777777777777778, \"#fb9f3a\"], [0.8888888888888888, \"#fdca26\"], [1.0, \"#f0f921\"]], \"type\": \"histogram2d\"}], \"histogram2dcontour\": [{\"colorbar\": {\"outlinewidth\": 0, \"ticks\": \"\"}, \"colorscale\": [[0.0, \"#0d0887\"], [0.1111111111111111, \"#46039f\"], [0.2222222222222222, \"#7201a8\"], [0.3333333333333333, \"#9c179e\"], [0.4444444444444444, \"#bd3786\"], [0.5555555555555556, \"#d8576b\"], [0.6666666666666666, \"#ed7953\"], [0.7777777777777778, \"#fb9f3a\"], [0.8888888888888888, \"#fdca26\"], [1.0, \"#f0f921\"]], \"type\": \"histogram2dcontour\"}], \"mesh3d\": [{\"colorbar\": {\"outlinewidth\": 0, \"ticks\": \"\"}, \"type\": \"mesh3d\"}], \"parcoords\": [{\"line\": {\"colorbar\": {\"outlinewidth\": 0, \"ticks\": \"\"}}, \"type\": \"parcoords\"}], \"pie\": [{\"automargin\": true, \"type\": \"pie\"}], \"scatter\": [{\"marker\": {\"colorbar\": {\"outlinewidth\": 0, \"ticks\": \"\"}}, \"type\": \"scatter\"}], \"scatter3d\": [{\"line\": {\"colorbar\": {\"outlinewidth\": 0, \"ticks\": \"\"}}, \"marker\": {\"colorbar\": {\"outlinewidth\": 0, \"ticks\": \"\"}}, \"type\": \"scatter3d\"}], \"scattercarpet\": [{\"marker\": {\"colorbar\": {\"outlinewidth\": 0, \"ticks\": \"\"}}, \"type\": \"scattercarpet\"}], \"scattergeo\": [{\"marker\": {\"colorbar\": {\"outlinewidth\": 0, \"ticks\": \"\"}}, \"type\": \"scattergeo\"}], \"scattergl\": [{\"marker\": {\"colorbar\": {\"outlinewidth\": 0, \"ticks\": \"\"}}, \"type\": \"scattergl\"}], \"scattermapbox\": [{\"marker\": {\"colorbar\": {\"outlinewidth\": 0, \"ticks\": \"\"}}, \"type\": \"scattermapbox\"}], \"scatterpolar\": [{\"marker\": {\"colorbar\": {\"outlinewidth\": 0, \"ticks\": \"\"}}, \"type\": \"scatterpolar\"}], \"scatterpolargl\": [{\"marker\": {\"colorbar\": {\"outlinewidth\": 0, \"ticks\": \"\"}}, \"type\": \"scatterpolargl\"}], \"scatterternary\": [{\"marker\": {\"colorbar\": {\"outlinewidth\": 0, \"ticks\": \"\"}}, \"type\": \"scatterternary\"}], \"surface\": [{\"colorbar\": {\"outlinewidth\": 0, \"ticks\": \"\"}, \"colorscale\": [[0.0, \"#0d0887\"], [0.1111111111111111, \"#46039f\"], [0.2222222222222222, \"#7201a8\"], [0.3333333333333333, \"#9c179e\"], [0.4444444444444444, \"#bd3786\"], [0.5555555555555556, \"#d8576b\"], [0.6666666666666666, \"#ed7953\"], [0.7777777777777778, \"#fb9f3a\"], [0.8888888888888888, \"#fdca26\"], [1.0, \"#f0f921\"]], \"type\": \"surface\"}], \"table\": [{\"cells\": {\"fill\": {\"color\": \"#EBF0F8\"}, \"line\": {\"color\": \"white\"}}, \"header\": {\"fill\": {\"color\": \"#C8D4E3\"}, \"line\": {\"color\": \"white\"}}, \"type\": \"table\"}]}, \"layout\": {\"annotationdefaults\": {\"arrowcolor\": \"#2a3f5f\", \"arrowhead\": 0, \"arrowwidth\": 1}, \"coloraxis\": {\"colorbar\": {\"outlinewidth\": 0, \"ticks\": \"\"}}, \"colorscale\": {\"diverging\": [[0, \"#8e0152\"], [0.1, \"#c51b7d\"], [0.2, \"#de77ae\"], [0.3, \"#f1b6da\"], [0.4, \"#fde0ef\"], [0.5, \"#f7f7f7\"], [0.6, \"#e6f5d0\"], [0.7, \"#b8e186\"], [0.8, \"#7fbc41\"], [0.9, \"#4d9221\"], [1, \"#276419\"]], \"sequential\": [[0.0, \"#0d0887\"], [0.1111111111111111, \"#46039f\"], [0.2222222222222222, \"#7201a8\"], [0.3333333333333333, \"#9c179e\"], [0.4444444444444444, \"#bd3786\"], [0.5555555555555556, \"#d8576b\"], [0.6666666666666666, \"#ed7953\"], [0.7777777777777778, \"#fb9f3a\"], [0.8888888888888888, \"#fdca26\"], [1.0, \"#f0f921\"]], \"sequentialminus\": [[0.0, \"#0d0887\"], [0.1111111111111111, \"#46039f\"], [0.2222222222222222, \"#7201a8\"], [0.3333333333333333, \"#9c179e\"], [0.4444444444444444, \"#bd3786\"], [0.5555555555555556, \"#d8576b\"], [0.6666666666666666, \"#ed7953\"], [0.7777777777777778, \"#fb9f3a\"], [0.8888888888888888, \"#fdca26\"], [1.0, \"#f0f921\"]]}, \"colorway\": [\"#636efa\", \"#EF553B\", \"#00cc96\", \"#ab63fa\", \"#FFA15A\", \"#19d3f3\", \"#FF6692\", \"#B6E880\", \"#FF97FF\", \"#FECB52\"], \"font\": {\"color\": \"#2a3f5f\"}, \"geo\": {\"bgcolor\": \"white\", \"lakecolor\": \"white\", \"landcolor\": \"#E5ECF6\", \"showlakes\": true, \"showland\": true, \"subunitcolor\": \"white\"}, \"hoverlabel\": {\"align\": \"left\"}, \"hovermode\": \"closest\", \"mapbox\": {\"style\": \"light\"}, \"paper_bgcolor\": \"white\", \"plot_bgcolor\": \"#E5ECF6\", \"polar\": {\"angularaxis\": {\"gridcolor\": \"white\", \"linecolor\": \"white\", \"ticks\": \"\"}, \"bgcolor\": \"#E5ECF6\", \"radialaxis\": {\"gridcolor\": \"white\", \"linecolor\": \"white\", \"ticks\": \"\"}}, \"scene\": {\"xaxis\": {\"backgroundcolor\": \"#E5ECF6\", \"gridcolor\": \"white\", \"gridwidth\": 2, \"linecolor\": \"white\", \"showbackground\": true, \"ticks\": \"\", \"zerolinecolor\": \"white\"}, \"yaxis\": {\"backgroundcolor\": \"#E5ECF6\", \"gridcolor\": \"white\", \"gridwidth\": 2, \"linecolor\": \"white\", \"showbackground\": true, \"ticks\": \"\", \"zerolinecolor\": \"white\"}, \"zaxis\": {\"backgroundcolor\": \"#E5ECF6\", \"gridcolor\": \"white\", \"gridwidth\": 2, \"linecolor\": \"white\", \"showbackground\": true, \"ticks\": \"\", \"zerolinecolor\": \"white\"}}, \"shapedefaults\": {\"line\": {\"color\": \"#2a3f5f\"}}, \"ternary\": {\"aaxis\": {\"gridcolor\": \"white\", \"linecolor\": \"white\", \"ticks\": \"\"}, \"baxis\": {\"gridcolor\": \"white\", \"linecolor\": \"white\", \"ticks\": \"\"}, \"bgcolor\": \"#E5ECF6\", \"caxis\": {\"gridcolor\": \"white\", \"linecolor\": \"white\", \"ticks\": \"\"}}, \"title\": {\"x\": 0.05}, \"xaxis\": {\"automargin\": true, \"gridcolor\": \"white\", \"linecolor\": \"white\", \"ticks\": \"\", \"title\": {\"standoff\": 15}, \"zerolinecolor\": \"white\", \"zerolinewidth\": 2}, \"yaxis\": {\"automargin\": true, \"gridcolor\": \"white\", \"linecolor\": \"white\", \"ticks\": \"\", \"title\": {\"standoff\": 15}, \"zerolinecolor\": \"white\", \"zerolinewidth\": 2}}}, \"title\": {\"font\": {\"color\": \"#4D5663\"}, \"text\": \"Review rating dictribution\"}, \"xaxis\": {\"gridcolor\": \"#E1E5ED\", \"linecolor\": \"black\", \"showgrid\": true, \"tickfont\": {\"color\": \"#4D5663\"}, \"title\": {\"font\": {\"color\": \"#4D5663\"}, \"text\": \"rating\"}, \"zerolinecolor\": \"#E1E5ED\"}, \"yaxis\": {\"gridcolor\": \"#E1E5ED\", \"linecolor\": \"black\", \"showgrid\": true, \"tickfont\": {\"color\": \"#4D5663\"}, \"title\": {\"font\": {\"color\": \"#4D5663\"}, \"text\": \"count\"}, \"zerolinecolor\": \"#E1E5ED\"}},\n",
       "                        {\"showLink\": true, \"linkText\": \"Export to plot.ly\", \"plotlyServerURL\": \"https://plot.ly\", \"responsive\": true}\n",
       "                    ).then(function(){\n",
       "                            \n",
       "var gd = document.getElementById('fc9dc0aa-2dd8-49c6-9624-db1f0ec10c62');\n",
       "var x = new MutationObserver(function (mutations, observer) {{\n",
       "        var display = window.getComputedStyle(gd).display;\n",
       "        if (!display || display === 'none') {{\n",
       "            console.log([gd, 'removed!']);\n",
       "            Plotly.purge(gd);\n",
       "            observer.disconnect();\n",
       "        }}\n",
       "}});\n",
       "\n",
       "// Listen for the removal of the full notebook cells\n",
       "var notebookContainer = gd.closest('#notebook-container');\n",
       "if (notebookContainer) {{\n",
       "    x.observe(notebookContainer, {childList: true});\n",
       "}}\n",
       "\n",
       "// Listen for the clearing of the current output cell\n",
       "var outputEl = gd.closest('.output');\n",
       "if (outputEl) {{\n",
       "    x.observe(outputEl, {childList: true});\n",
       "}}\n",
       "\n",
       "                        })\n",
       "                };\n",
       "                });\n",
       "            </script>\n",
       "        </div>"
      ]
     },
     "metadata": {},
     "output_type": "display_data"
    }
   ],
   "source": [
    "uk_df['rating'].iplot(\n",
    "    kind='hist',\n",
    "    bins=5,\n",
    "    xTitle='rating',\n",
    "    linecolor='black',\n",
    "    yTitle='count',\n",
    "    title='Review rating dictribution')"
   ]
  },
  {
   "cell_type": "code",
   "execution_count": 157,
   "metadata": {},
   "outputs": [
    {
     "data": {
      "application/vnd.plotly.v1+json": {
       "config": {
        "linkText": "Export to plot.ly",
        "plotlyServerURL": "https://plot.ly",
        "showLink": true
       },
       "data": [
        {
         "histfunc": "count",
         "histnorm": "",
         "marker": {
          "color": "rgba(255, 153, 51, 1.0)",
          "line": {
           "color": "#000000",
           "width": 1.3
          }
         },
         "name": "label",
         "nbinsx": 3,
         "opacity": 0.8,
         "orientation": "v",
         "type": "histogram",
         "x": [
          "pos",
          "pos",
          "pos",
          "pos",
          "pos",
          "pos",
          "pos",
          "pos",
          "pos",
          "pos",
          "pos",
          "pos",
          "pos",
          "pos",
          "pos",
          "pos",
          "pos",
          "neutral",
          "pos",
          "pos",
          "pos",
          "pos",
          "neutral",
          "pos",
          "pos",
          "pos",
          "pos",
          "pos",
          "pos",
          "pos",
          "pos",
          "pos",
          "pos",
          "pos",
          "pos",
          "pos",
          "pos",
          "pos",
          "pos",
          "neutral",
          "pos",
          "pos",
          "pos",
          "pos",
          "pos",
          "pos",
          "pos",
          "pos",
          "pos",
          "pos",
          "pos",
          "pos",
          "pos",
          "pos",
          "pos",
          "pos",
          "pos",
          "pos",
          "pos",
          "pos",
          "pos",
          "pos",
          "pos",
          "pos",
          "pos",
          "pos",
          "pos",
          "pos",
          "pos",
          "pos",
          "pos",
          "pos",
          "pos",
          "pos",
          "pos",
          "pos",
          "pos",
          "pos",
          "pos",
          "pos",
          "pos",
          "neg",
          "pos",
          "pos",
          "pos",
          "pos",
          "pos",
          "pos",
          "pos",
          "pos",
          "pos",
          "pos",
          "pos",
          "pos",
          "pos",
          "pos",
          "pos",
          "pos",
          "pos",
          "pos",
          "pos",
          "pos",
          "pos",
          "pos",
          "pos",
          "pos",
          "pos",
          "pos",
          "pos",
          "pos",
          "pos",
          "pos",
          "pos",
          "pos",
          "pos",
          "pos",
          "pos",
          "pos",
          "pos",
          "pos",
          "pos",
          "pos",
          "pos",
          "pos",
          "pos",
          "pos",
          "pos",
          "pos",
          "pos",
          "pos",
          "pos",
          "pos",
          "pos",
          "pos",
          "pos",
          "pos",
          "pos",
          "pos",
          "pos",
          "pos",
          "pos",
          "pos",
          "pos",
          "pos",
          "pos",
          "pos",
          "pos",
          "pos",
          "pos",
          "pos",
          "pos",
          "pos",
          "pos",
          "pos",
          "pos",
          "pos",
          "pos",
          "pos",
          "pos",
          "pos",
          "pos",
          "pos",
          "pos",
          "pos",
          "pos",
          "pos",
          "neg",
          "neg",
          "pos",
          "pos",
          "pos",
          "pos",
          "pos",
          "pos",
          "pos",
          "pos",
          "pos",
          "pos",
          "pos",
          "pos",
          "pos",
          "pos",
          "pos",
          "pos",
          "pos",
          "pos",
          "pos",
          "pos",
          "pos",
          "pos",
          "pos",
          "neutral",
          "pos",
          "pos",
          "pos",
          "pos",
          "pos",
          "pos",
          "neg",
          "pos",
          "pos",
          "neg",
          "pos",
          "pos",
          "pos",
          "pos",
          "pos",
          "pos",
          "pos",
          "pos",
          "pos",
          "pos",
          "pos",
          "pos",
          "pos",
          "pos",
          "pos",
          "pos",
          "pos",
          "pos",
          "pos",
          "pos",
          "pos",
          "pos",
          "pos",
          "pos",
          "pos",
          "pos",
          "pos",
          "pos",
          "pos",
          "pos",
          "pos",
          "pos",
          "pos",
          "pos",
          "pos",
          "pos",
          "pos",
          "pos",
          "pos",
          "pos",
          "pos",
          "pos",
          "pos",
          "pos",
          "pos",
          "pos",
          "pos",
          "pos",
          "pos",
          "pos",
          "pos",
          "pos",
          "pos",
          "pos",
          "pos",
          "pos",
          "pos",
          "pos",
          "pos",
          "pos",
          "pos",
          "pos",
          "pos",
          "pos",
          "pos",
          "pos",
          "pos",
          "pos",
          "pos",
          "pos",
          "pos",
          "pos",
          "pos",
          "pos",
          "pos",
          "pos",
          "pos",
          "pos",
          "pos",
          "pos",
          "pos",
          "pos",
          "pos",
          "pos",
          "neg",
          "pos",
          "pos",
          "pos",
          "pos",
          "pos",
          "pos",
          "pos",
          "pos",
          "pos",
          "pos",
          "pos",
          "pos",
          "pos",
          "pos",
          "pos",
          "pos",
          "pos",
          "pos",
          "pos",
          "pos",
          "pos",
          "pos",
          "pos",
          "neutral",
          "neg",
          "pos",
          "pos",
          "pos",
          "pos",
          "pos",
          "pos",
          "pos",
          "pos",
          "pos",
          "pos",
          "pos",
          "pos",
          "pos",
          "pos",
          "pos",
          "pos",
          "pos",
          "pos",
          "pos",
          "pos",
          "pos",
          "pos",
          "pos",
          "neutral",
          "neg",
          "pos",
          "pos",
          "pos",
          "pos",
          "pos",
          "pos",
          "pos",
          "pos",
          "pos",
          "pos",
          "pos",
          "pos",
          "pos",
          "neutral",
          "pos",
          "pos",
          "pos",
          "pos",
          "pos",
          "pos",
          "pos",
          "pos",
          "pos",
          "pos",
          "pos",
          "pos",
          "pos",
          "pos",
          "pos",
          "pos",
          "pos",
          "pos",
          "pos",
          "pos",
          "pos",
          "pos",
          "pos",
          "pos",
          "pos",
          "pos",
          "pos",
          "neutral",
          "pos",
          "pos",
          "pos",
          "pos",
          "pos",
          "pos",
          "pos",
          "pos",
          "pos",
          "pos",
          "pos",
          "pos",
          "pos",
          "pos",
          "pos",
          "pos",
          "pos",
          "pos",
          "pos",
          "pos",
          "pos",
          "pos",
          "pos",
          "pos",
          "pos",
          "pos",
          "pos",
          "pos",
          "pos",
          "pos",
          "pos",
          "pos",
          "pos",
          "pos",
          "pos",
          "pos",
          "pos",
          "pos",
          "pos",
          "pos",
          "pos",
          "pos",
          "pos",
          "pos",
          "pos",
          "pos",
          "pos",
          "pos",
          "pos",
          "pos",
          "neg",
          "pos",
          "pos",
          "pos",
          "pos",
          "pos",
          "pos",
          "pos",
          "pos",
          "pos",
          "pos",
          "pos",
          "pos",
          "pos",
          "pos",
          "pos",
          "pos",
          "pos",
          "pos",
          "pos",
          "pos",
          "pos",
          "pos",
          "pos",
          "pos",
          "pos",
          "pos",
          "pos",
          "neutral",
          "pos",
          "pos",
          "pos",
          "pos",
          "pos",
          "pos",
          "pos",
          "pos",
          "pos",
          "pos",
          "pos",
          "pos",
          "pos",
          "pos",
          "pos",
          "pos",
          "pos",
          "pos",
          "pos",
          "pos",
          "pos",
          "pos",
          "pos",
          "pos",
          "pos",
          "pos",
          "pos",
          "pos",
          "pos",
          "pos",
          "pos",
          "pos",
          "pos",
          "pos",
          "pos",
          "pos",
          "pos",
          "neg",
          "pos",
          "pos",
          "pos",
          "pos",
          "pos",
          "pos",
          "pos",
          "pos",
          "pos",
          "pos",
          "pos",
          "pos",
          "pos",
          "pos",
          "pos",
          "pos",
          "pos",
          "neutral",
          "pos",
          "pos",
          "pos",
          "pos",
          "pos",
          "pos",
          "pos",
          "pos",
          "pos",
          "pos",
          "pos",
          "pos",
          "neg",
          "pos",
          "pos",
          "pos",
          "pos",
          "neg",
          "pos",
          "pos",
          "pos",
          "pos",
          "pos",
          "pos",
          "pos",
          "pos",
          "pos",
          "pos",
          "pos",
          "pos",
          "pos",
          "pos",
          "pos",
          "neutral",
          "pos",
          "pos",
          "pos",
          "pos",
          "pos",
          "pos",
          "pos",
          "pos",
          "pos",
          "pos",
          "pos",
          "pos",
          "pos",
          "pos",
          "pos",
          "pos",
          "pos",
          "pos",
          "pos",
          "pos",
          "pos",
          "pos",
          "pos",
          "pos",
          "pos",
          "pos",
          "pos",
          "pos",
          "pos",
          "pos",
          "pos",
          "pos",
          "pos",
          "pos",
          "pos",
          "pos",
          "pos",
          "pos",
          "pos",
          "pos",
          "pos",
          "pos",
          "pos",
          "pos",
          "pos",
          "pos",
          "pos",
          "pos",
          "pos",
          "pos",
          "pos",
          "pos",
          "pos",
          "pos",
          "pos",
          "pos",
          "pos",
          "neg",
          "pos",
          "pos",
          "pos",
          "pos",
          "pos",
          "pos",
          "pos",
          "pos",
          "pos",
          "pos",
          "pos",
          "pos",
          "pos",
          "pos",
          "pos",
          "pos",
          "pos",
          "pos",
          "pos",
          "pos",
          "pos",
          "pos",
          "pos",
          "pos",
          "pos",
          "pos",
          "pos",
          "pos",
          "pos",
          "pos",
          "pos",
          "pos",
          "pos",
          "pos",
          "pos",
          "pos",
          "pos",
          "pos",
          "pos",
          "pos",
          "pos",
          "neg",
          "pos",
          "pos",
          "pos",
          "pos",
          "pos",
          "pos",
          "pos",
          "pos",
          "pos",
          "pos",
          "pos",
          "neg",
          "pos",
          "pos",
          "pos",
          "pos",
          "pos",
          "pos",
          "pos",
          "pos",
          "pos",
          "pos",
          "neg",
          "pos",
          "pos",
          "pos",
          "pos",
          "pos",
          "neg",
          "pos",
          "pos",
          "pos",
          "pos",
          "pos",
          "pos",
          "pos",
          "pos",
          "pos",
          "pos",
          "pos",
          "pos",
          "pos",
          "pos",
          "pos",
          "pos",
          "pos",
          "pos",
          "pos",
          "neutral",
          "neg",
          "pos",
          "pos",
          "pos",
          "pos",
          "pos",
          "neutral",
          "pos",
          "pos",
          "pos",
          "pos",
          "pos",
          "pos",
          "pos",
          "pos",
          "neg",
          "pos",
          "pos",
          "pos",
          "pos",
          "pos",
          "pos",
          "pos",
          "pos",
          "pos",
          "pos",
          "pos",
          "pos",
          "pos",
          "pos",
          "pos",
          "pos",
          "pos",
          "pos",
          "pos",
          "pos",
          "pos",
          "pos",
          "pos",
          "pos",
          "pos",
          "pos",
          "pos",
          "pos",
          "pos",
          "pos",
          "pos",
          "pos",
          "pos",
          "pos",
          "pos",
          "pos",
          "pos",
          "pos",
          "pos",
          "pos",
          "pos",
          "pos",
          "pos",
          "pos",
          "pos",
          "pos",
          "pos",
          "pos",
          "pos",
          "pos",
          "pos",
          "pos",
          "pos",
          "pos",
          "pos",
          "pos",
          "pos",
          "pos",
          "pos",
          "neutral",
          "pos",
          "pos",
          "pos",
          "pos",
          "pos",
          "pos",
          "pos",
          "pos",
          "pos",
          "pos",
          "pos",
          "pos",
          "pos",
          "pos",
          "pos",
          "pos",
          "pos",
          "pos",
          "pos",
          "neutral",
          "neutral",
          "neg",
          "pos",
          "pos",
          "pos",
          "pos",
          "pos",
          "pos",
          "pos",
          "pos",
          "pos",
          "pos",
          "pos",
          "pos",
          "pos",
          "pos",
          "pos",
          "pos",
          "pos",
          "pos",
          "pos",
          "pos",
          "pos",
          "pos",
          "pos",
          "pos",
          "pos",
          "pos",
          "pos",
          "pos",
          "pos",
          "pos",
          "pos",
          "pos",
          "pos",
          "pos",
          "neutral",
          "pos",
          "pos",
          "pos",
          "neg",
          "pos",
          "pos",
          "pos",
          "pos",
          "pos",
          "pos",
          "pos",
          "pos",
          "pos",
          "pos",
          "pos",
          "pos",
          "neutral",
          "pos",
          "neutral",
          "pos",
          "pos",
          "pos",
          "neutral",
          "pos",
          "pos",
          "pos",
          "pos",
          "pos",
          "pos",
          "pos",
          "neg",
          "pos",
          "neg",
          "pos",
          "pos",
          "pos",
          "pos",
          "neutral",
          "pos",
          "pos",
          "pos",
          "pos",
          "pos",
          "pos",
          "pos",
          "pos",
          "pos",
          "pos",
          "pos",
          "pos",
          "pos",
          "pos",
          "pos",
          "pos",
          "pos",
          "pos",
          "pos",
          "pos",
          "pos",
          "pos",
          "pos",
          "pos",
          "pos",
          "pos",
          "pos",
          "pos",
          "pos",
          "pos",
          "pos",
          "pos",
          "neg",
          "pos",
          "pos",
          "pos",
          "pos",
          "pos",
          "pos",
          "pos",
          "pos",
          "pos",
          "pos",
          "pos",
          "pos",
          "pos",
          "pos",
          "pos",
          "pos",
          "neutral",
          "pos",
          "pos",
          "neutral",
          "pos",
          "pos",
          "pos",
          "pos",
          "pos",
          "pos",
          "pos",
          "pos",
          "pos",
          "pos",
          "neutral",
          "pos",
          "pos",
          "pos",
          "pos",
          "pos",
          "pos",
          "neg",
          "pos",
          "pos",
          "pos",
          "pos",
          "pos",
          "pos",
          "pos",
          "pos",
          "pos",
          "pos",
          "pos",
          "pos",
          "pos",
          "neutral",
          "pos",
          "pos",
          "pos",
          "pos",
          "pos",
          "pos",
          "pos",
          "pos",
          "pos",
          "pos",
          "pos",
          "pos",
          "pos",
          "pos",
          "pos",
          "pos",
          "pos",
          "pos",
          "pos",
          "pos",
          "pos",
          "pos",
          "pos",
          "pos",
          "pos",
          "pos",
          "pos",
          "neutral",
          "pos",
          "pos",
          "pos",
          "pos",
          "pos",
          "pos",
          "pos",
          "pos",
          "pos",
          "pos",
          "pos",
          "pos",
          "pos",
          "pos",
          "pos",
          "pos",
          "pos",
          "pos",
          "neutral",
          "pos",
          "neutral",
          "neutral",
          "pos",
          "pos",
          "pos",
          "pos",
          "pos",
          "pos",
          "pos",
          "pos",
          "pos",
          "pos",
          "pos",
          "pos",
          "pos",
          "pos",
          "pos",
          "pos",
          "pos",
          "pos",
          "neutral",
          "pos",
          "neg",
          "pos",
          "pos",
          "pos",
          "pos",
          "pos",
          "pos",
          "pos",
          "pos",
          "pos",
          "pos",
          "pos",
          "pos",
          "pos",
          "pos",
          "pos",
          "pos",
          "pos",
          "pos",
          "pos",
          "pos",
          "pos",
          "pos",
          "pos",
          "pos",
          "pos",
          "pos",
          "pos",
          "pos",
          "pos",
          "pos",
          "pos",
          "pos",
          "pos",
          "pos",
          "pos",
          "neg",
          "pos",
          "pos",
          "pos",
          "pos",
          "pos",
          "pos",
          "pos",
          "pos",
          "pos",
          "pos",
          "pos",
          "neg",
          "pos",
          "pos",
          "pos",
          "pos",
          "pos",
          "pos",
          "neg",
          "pos",
          "pos",
          "pos",
          "pos",
          "pos",
          "neutral",
          "neutral",
          "pos",
          "pos",
          "pos",
          "pos",
          "pos",
          "pos",
          "pos",
          "pos",
          "pos",
          "neg",
          "pos",
          "pos",
          "pos",
          "pos",
          "pos",
          "pos",
          "pos",
          "pos",
          "pos",
          "pos",
          "pos",
          "pos",
          "pos",
          "pos",
          "pos",
          "pos",
          "neutral",
          "pos",
          "pos",
          "pos",
          "pos",
          "pos",
          "pos",
          "pos",
          "pos",
          "pos",
          "pos",
          "pos",
          "pos",
          "pos",
          "pos",
          "pos",
          "pos",
          "neg",
          "pos",
          "pos",
          "pos",
          "pos",
          "pos",
          "pos",
          "neg",
          "pos",
          "pos",
          "pos",
          "pos",
          "pos",
          "neutral",
          "pos",
          "neg",
          "pos",
          "pos",
          "pos",
          "pos",
          "pos",
          "pos",
          "pos",
          "pos",
          "pos",
          "pos",
          "pos",
          "pos",
          "pos",
          "pos",
          "pos",
          "pos",
          "pos",
          "pos",
          "pos",
          "pos",
          "pos",
          "pos",
          "pos",
          "pos",
          "pos",
          "neg",
          "pos",
          "pos",
          "pos",
          "pos",
          "pos",
          "pos",
          "pos",
          "pos",
          "pos",
          "pos",
          "neg",
          "pos",
          "pos",
          "pos",
          "pos",
          "pos",
          "pos",
          "pos",
          "pos",
          "neg",
          "pos",
          "pos",
          "neg",
          "pos",
          "pos",
          "pos",
          "pos",
          "pos",
          "pos",
          "pos",
          "pos",
          "pos",
          "neutral",
          "pos",
          "pos",
          "pos",
          "pos",
          "pos",
          "pos",
          "pos",
          "pos",
          "pos",
          "pos",
          "pos",
          "pos",
          "pos",
          "pos",
          "pos",
          "pos",
          "pos",
          "pos",
          "pos",
          "pos",
          "pos",
          "pos",
          "pos",
          "pos",
          "pos",
          "pos",
          "pos",
          "pos",
          "pos",
          "pos",
          "pos",
          "pos",
          "pos",
          "pos",
          "pos",
          "pos",
          "pos",
          "pos",
          "pos",
          "pos",
          "pos",
          "pos",
          "pos",
          "pos",
          "pos",
          "pos",
          "pos",
          "pos",
          "pos",
          "pos",
          "pos",
          "pos",
          "pos",
          "pos",
          "pos",
          "neutral",
          "pos",
          "pos",
          "pos",
          "pos",
          "neutral",
          "pos",
          "pos",
          "pos",
          "pos",
          "pos",
          "pos",
          "pos",
          "pos",
          "pos",
          "pos",
          "pos",
          "pos",
          "pos",
          "pos",
          "pos",
          "pos",
          "pos",
          "neutral",
          "pos",
          "neg",
          "pos",
          "pos",
          "pos",
          "neutral",
          "pos",
          "pos",
          "pos",
          "pos",
          "pos",
          "pos",
          "pos",
          "pos",
          "pos",
          "pos",
          "pos",
          "pos",
          "pos",
          "pos",
          "pos",
          "pos",
          "pos",
          "pos",
          "pos",
          "pos",
          "pos",
          "pos",
          "pos",
          "pos",
          "pos",
          "pos",
          "pos",
          "pos",
          "pos",
          "pos",
          "pos",
          "pos",
          "pos",
          "pos",
          "pos",
          "pos",
          "pos",
          "pos",
          "neg",
          "pos",
          "pos",
          "pos",
          "pos",
          "neutral",
          "neg",
          "neg",
          "pos",
          "pos",
          "pos",
          "pos",
          "pos",
          "pos",
          "pos",
          "pos",
          "pos",
          "pos",
          "pos",
          "pos",
          "pos",
          "pos",
          "pos",
          "pos",
          "pos",
          "pos",
          "pos",
          "pos",
          "pos",
          "pos",
          "neutral",
          "pos",
          "pos",
          "pos",
          "pos",
          "pos",
          "pos",
          "pos",
          "pos",
          "pos",
          "pos",
          "pos",
          "pos",
          "pos",
          "pos",
          "pos",
          "pos",
          "pos",
          "pos",
          "pos",
          "pos",
          "pos",
          "pos",
          "pos",
          "pos",
          "neg",
          "pos",
          "pos",
          "pos",
          "pos",
          "pos",
          "pos",
          "pos",
          "pos",
          "pos",
          "pos",
          "pos",
          "pos",
          "pos",
          "pos",
          "pos",
          "pos",
          "pos",
          "pos",
          "neutral",
          "neg",
          "pos",
          "neg",
          "pos",
          "pos",
          "pos",
          "pos",
          "pos",
          "pos",
          "pos",
          "pos",
          "pos",
          "pos",
          "pos",
          "pos",
          "pos",
          "pos",
          "pos",
          "pos",
          "neg",
          "pos",
          "pos",
          "pos",
          "pos",
          "pos",
          "pos",
          "pos",
          "pos",
          "neg"
         ]
        }
       ],
       "layout": {
        "barmode": "overlay",
        "legend": {
         "bgcolor": "#F5F6F9",
         "font": {
          "color": "#4D5663"
         }
        },
        "paper_bgcolor": "#F5F6F9",
        "plot_bgcolor": "#F5F6F9",
        "template": {
         "data": {
          "bar": [
           {
            "error_x": {
             "color": "#2a3f5f"
            },
            "error_y": {
             "color": "#2a3f5f"
            },
            "marker": {
             "line": {
              "color": "#E5ECF6",
              "width": 0.5
             }
            },
            "type": "bar"
           }
          ],
          "barpolar": [
           {
            "marker": {
             "line": {
              "color": "#E5ECF6",
              "width": 0.5
             }
            },
            "type": "barpolar"
           }
          ],
          "carpet": [
           {
            "aaxis": {
             "endlinecolor": "#2a3f5f",
             "gridcolor": "white",
             "linecolor": "white",
             "minorgridcolor": "white",
             "startlinecolor": "#2a3f5f"
            },
            "baxis": {
             "endlinecolor": "#2a3f5f",
             "gridcolor": "white",
             "linecolor": "white",
             "minorgridcolor": "white",
             "startlinecolor": "#2a3f5f"
            },
            "type": "carpet"
           }
          ],
          "choropleth": [
           {
            "colorbar": {
             "outlinewidth": 0,
             "ticks": ""
            },
            "type": "choropleth"
           }
          ],
          "contour": [
           {
            "colorbar": {
             "outlinewidth": 0,
             "ticks": ""
            },
            "colorscale": [
             [
              0,
              "#0d0887"
             ],
             [
              0.1111111111111111,
              "#46039f"
             ],
             [
              0.2222222222222222,
              "#7201a8"
             ],
             [
              0.3333333333333333,
              "#9c179e"
             ],
             [
              0.4444444444444444,
              "#bd3786"
             ],
             [
              0.5555555555555556,
              "#d8576b"
             ],
             [
              0.6666666666666666,
              "#ed7953"
             ],
             [
              0.7777777777777778,
              "#fb9f3a"
             ],
             [
              0.8888888888888888,
              "#fdca26"
             ],
             [
              1,
              "#f0f921"
             ]
            ],
            "type": "contour"
           }
          ],
          "contourcarpet": [
           {
            "colorbar": {
             "outlinewidth": 0,
             "ticks": ""
            },
            "type": "contourcarpet"
           }
          ],
          "heatmap": [
           {
            "colorbar": {
             "outlinewidth": 0,
             "ticks": ""
            },
            "colorscale": [
             [
              0,
              "#0d0887"
             ],
             [
              0.1111111111111111,
              "#46039f"
             ],
             [
              0.2222222222222222,
              "#7201a8"
             ],
             [
              0.3333333333333333,
              "#9c179e"
             ],
             [
              0.4444444444444444,
              "#bd3786"
             ],
             [
              0.5555555555555556,
              "#d8576b"
             ],
             [
              0.6666666666666666,
              "#ed7953"
             ],
             [
              0.7777777777777778,
              "#fb9f3a"
             ],
             [
              0.8888888888888888,
              "#fdca26"
             ],
             [
              1,
              "#f0f921"
             ]
            ],
            "type": "heatmap"
           }
          ],
          "heatmapgl": [
           {
            "colorbar": {
             "outlinewidth": 0,
             "ticks": ""
            },
            "colorscale": [
             [
              0,
              "#0d0887"
             ],
             [
              0.1111111111111111,
              "#46039f"
             ],
             [
              0.2222222222222222,
              "#7201a8"
             ],
             [
              0.3333333333333333,
              "#9c179e"
             ],
             [
              0.4444444444444444,
              "#bd3786"
             ],
             [
              0.5555555555555556,
              "#d8576b"
             ],
             [
              0.6666666666666666,
              "#ed7953"
             ],
             [
              0.7777777777777778,
              "#fb9f3a"
             ],
             [
              0.8888888888888888,
              "#fdca26"
             ],
             [
              1,
              "#f0f921"
             ]
            ],
            "type": "heatmapgl"
           }
          ],
          "histogram": [
           {
            "marker": {
             "colorbar": {
              "outlinewidth": 0,
              "ticks": ""
             }
            },
            "type": "histogram"
           }
          ],
          "histogram2d": [
           {
            "colorbar": {
             "outlinewidth": 0,
             "ticks": ""
            },
            "colorscale": [
             [
              0,
              "#0d0887"
             ],
             [
              0.1111111111111111,
              "#46039f"
             ],
             [
              0.2222222222222222,
              "#7201a8"
             ],
             [
              0.3333333333333333,
              "#9c179e"
             ],
             [
              0.4444444444444444,
              "#bd3786"
             ],
             [
              0.5555555555555556,
              "#d8576b"
             ],
             [
              0.6666666666666666,
              "#ed7953"
             ],
             [
              0.7777777777777778,
              "#fb9f3a"
             ],
             [
              0.8888888888888888,
              "#fdca26"
             ],
             [
              1,
              "#f0f921"
             ]
            ],
            "type": "histogram2d"
           }
          ],
          "histogram2dcontour": [
           {
            "colorbar": {
             "outlinewidth": 0,
             "ticks": ""
            },
            "colorscale": [
             [
              0,
              "#0d0887"
             ],
             [
              0.1111111111111111,
              "#46039f"
             ],
             [
              0.2222222222222222,
              "#7201a8"
             ],
             [
              0.3333333333333333,
              "#9c179e"
             ],
             [
              0.4444444444444444,
              "#bd3786"
             ],
             [
              0.5555555555555556,
              "#d8576b"
             ],
             [
              0.6666666666666666,
              "#ed7953"
             ],
             [
              0.7777777777777778,
              "#fb9f3a"
             ],
             [
              0.8888888888888888,
              "#fdca26"
             ],
             [
              1,
              "#f0f921"
             ]
            ],
            "type": "histogram2dcontour"
           }
          ],
          "mesh3d": [
           {
            "colorbar": {
             "outlinewidth": 0,
             "ticks": ""
            },
            "type": "mesh3d"
           }
          ],
          "parcoords": [
           {
            "line": {
             "colorbar": {
              "outlinewidth": 0,
              "ticks": ""
             }
            },
            "type": "parcoords"
           }
          ],
          "pie": [
           {
            "automargin": true,
            "type": "pie"
           }
          ],
          "scatter": [
           {
            "marker": {
             "colorbar": {
              "outlinewidth": 0,
              "ticks": ""
             }
            },
            "type": "scatter"
           }
          ],
          "scatter3d": [
           {
            "line": {
             "colorbar": {
              "outlinewidth": 0,
              "ticks": ""
             }
            },
            "marker": {
             "colorbar": {
              "outlinewidth": 0,
              "ticks": ""
             }
            },
            "type": "scatter3d"
           }
          ],
          "scattercarpet": [
           {
            "marker": {
             "colorbar": {
              "outlinewidth": 0,
              "ticks": ""
             }
            },
            "type": "scattercarpet"
           }
          ],
          "scattergeo": [
           {
            "marker": {
             "colorbar": {
              "outlinewidth": 0,
              "ticks": ""
             }
            },
            "type": "scattergeo"
           }
          ],
          "scattergl": [
           {
            "marker": {
             "colorbar": {
              "outlinewidth": 0,
              "ticks": ""
             }
            },
            "type": "scattergl"
           }
          ],
          "scattermapbox": [
           {
            "marker": {
             "colorbar": {
              "outlinewidth": 0,
              "ticks": ""
             }
            },
            "type": "scattermapbox"
           }
          ],
          "scatterpolar": [
           {
            "marker": {
             "colorbar": {
              "outlinewidth": 0,
              "ticks": ""
             }
            },
            "type": "scatterpolar"
           }
          ],
          "scatterpolargl": [
           {
            "marker": {
             "colorbar": {
              "outlinewidth": 0,
              "ticks": ""
             }
            },
            "type": "scatterpolargl"
           }
          ],
          "scatterternary": [
           {
            "marker": {
             "colorbar": {
              "outlinewidth": 0,
              "ticks": ""
             }
            },
            "type": "scatterternary"
           }
          ],
          "surface": [
           {
            "colorbar": {
             "outlinewidth": 0,
             "ticks": ""
            },
            "colorscale": [
             [
              0,
              "#0d0887"
             ],
             [
              0.1111111111111111,
              "#46039f"
             ],
             [
              0.2222222222222222,
              "#7201a8"
             ],
             [
              0.3333333333333333,
              "#9c179e"
             ],
             [
              0.4444444444444444,
              "#bd3786"
             ],
             [
              0.5555555555555556,
              "#d8576b"
             ],
             [
              0.6666666666666666,
              "#ed7953"
             ],
             [
              0.7777777777777778,
              "#fb9f3a"
             ],
             [
              0.8888888888888888,
              "#fdca26"
             ],
             [
              1,
              "#f0f921"
             ]
            ],
            "type": "surface"
           }
          ],
          "table": [
           {
            "cells": {
             "fill": {
              "color": "#EBF0F8"
             },
             "line": {
              "color": "white"
             }
            },
            "header": {
             "fill": {
              "color": "#C8D4E3"
             },
             "line": {
              "color": "white"
             }
            },
            "type": "table"
           }
          ]
         },
         "layout": {
          "annotationdefaults": {
           "arrowcolor": "#2a3f5f",
           "arrowhead": 0,
           "arrowwidth": 1
          },
          "coloraxis": {
           "colorbar": {
            "outlinewidth": 0,
            "ticks": ""
           }
          },
          "colorscale": {
           "diverging": [
            [
             0,
             "#8e0152"
            ],
            [
             0.1,
             "#c51b7d"
            ],
            [
             0.2,
             "#de77ae"
            ],
            [
             0.3,
             "#f1b6da"
            ],
            [
             0.4,
             "#fde0ef"
            ],
            [
             0.5,
             "#f7f7f7"
            ],
            [
             0.6,
             "#e6f5d0"
            ],
            [
             0.7,
             "#b8e186"
            ],
            [
             0.8,
             "#7fbc41"
            ],
            [
             0.9,
             "#4d9221"
            ],
            [
             1,
             "#276419"
            ]
           ],
           "sequential": [
            [
             0,
             "#0d0887"
            ],
            [
             0.1111111111111111,
             "#46039f"
            ],
            [
             0.2222222222222222,
             "#7201a8"
            ],
            [
             0.3333333333333333,
             "#9c179e"
            ],
            [
             0.4444444444444444,
             "#bd3786"
            ],
            [
             0.5555555555555556,
             "#d8576b"
            ],
            [
             0.6666666666666666,
             "#ed7953"
            ],
            [
             0.7777777777777778,
             "#fb9f3a"
            ],
            [
             0.8888888888888888,
             "#fdca26"
            ],
            [
             1,
             "#f0f921"
            ]
           ],
           "sequentialminus": [
            [
             0,
             "#0d0887"
            ],
            [
             0.1111111111111111,
             "#46039f"
            ],
            [
             0.2222222222222222,
             "#7201a8"
            ],
            [
             0.3333333333333333,
             "#9c179e"
            ],
            [
             0.4444444444444444,
             "#bd3786"
            ],
            [
             0.5555555555555556,
             "#d8576b"
            ],
            [
             0.6666666666666666,
             "#ed7953"
            ],
            [
             0.7777777777777778,
             "#fb9f3a"
            ],
            [
             0.8888888888888888,
             "#fdca26"
            ],
            [
             1,
             "#f0f921"
            ]
           ]
          },
          "colorway": [
           "#636efa",
           "#EF553B",
           "#00cc96",
           "#ab63fa",
           "#FFA15A",
           "#19d3f3",
           "#FF6692",
           "#B6E880",
           "#FF97FF",
           "#FECB52"
          ],
          "font": {
           "color": "#2a3f5f"
          },
          "geo": {
           "bgcolor": "white",
           "lakecolor": "white",
           "landcolor": "#E5ECF6",
           "showlakes": true,
           "showland": true,
           "subunitcolor": "white"
          },
          "hoverlabel": {
           "align": "left"
          },
          "hovermode": "closest",
          "mapbox": {
           "style": "light"
          },
          "paper_bgcolor": "white",
          "plot_bgcolor": "#E5ECF6",
          "polar": {
           "angularaxis": {
            "gridcolor": "white",
            "linecolor": "white",
            "ticks": ""
           },
           "bgcolor": "#E5ECF6",
           "radialaxis": {
            "gridcolor": "white",
            "linecolor": "white",
            "ticks": ""
           }
          },
          "scene": {
           "xaxis": {
            "backgroundcolor": "#E5ECF6",
            "gridcolor": "white",
            "gridwidth": 2,
            "linecolor": "white",
            "showbackground": true,
            "ticks": "",
            "zerolinecolor": "white"
           },
           "yaxis": {
            "backgroundcolor": "#E5ECF6",
            "gridcolor": "white",
            "gridwidth": 2,
            "linecolor": "white",
            "showbackground": true,
            "ticks": "",
            "zerolinecolor": "white"
           },
           "zaxis": {
            "backgroundcolor": "#E5ECF6",
            "gridcolor": "white",
            "gridwidth": 2,
            "linecolor": "white",
            "showbackground": true,
            "ticks": "",
            "zerolinecolor": "white"
           }
          },
          "shapedefaults": {
           "line": {
            "color": "#2a3f5f"
           }
          },
          "ternary": {
           "aaxis": {
            "gridcolor": "white",
            "linecolor": "white",
            "ticks": ""
           },
           "baxis": {
            "gridcolor": "white",
            "linecolor": "white",
            "ticks": ""
           },
           "bgcolor": "#E5ECF6",
           "caxis": {
            "gridcolor": "white",
            "linecolor": "white",
            "ticks": ""
           }
          },
          "title": {
           "x": 0.05
          },
          "xaxis": {
           "automargin": true,
           "gridcolor": "white",
           "linecolor": "white",
           "ticks": "",
           "title": {
            "standoff": 15
           },
           "zerolinecolor": "white",
           "zerolinewidth": 2
          },
          "yaxis": {
           "automargin": true,
           "gridcolor": "white",
           "linecolor": "white",
           "ticks": "",
           "title": {
            "standoff": 15
           },
           "zerolinecolor": "white",
           "zerolinewidth": 2
          }
         }
        },
        "title": {
         "font": {
          "color": "#4D5663"
         },
         "text": "Sentiment label distribution"
        },
        "xaxis": {
         "gridcolor": "#E1E5ED",
         "linecolor": "black",
         "showgrid": true,
         "tickfont": {
          "color": "#4D5663"
         },
         "title": {
          "font": {
           "color": "#4D5663"
          },
          "text": "rating"
         },
         "zerolinecolor": "#E1E5ED"
        },
        "yaxis": {
         "gridcolor": "#E1E5ED",
         "linecolor": "black",
         "showgrid": true,
         "tickfont": {
          "color": "#4D5663"
         },
         "title": {
          "font": {
           "color": "#4D5663"
          },
          "text": "count"
         },
         "zerolinecolor": "#E1E5ED"
        }
       }
      },
      "text/html": [
       "<div>\n",
       "        \n",
       "        \n",
       "            <div id=\"d8dc1a40-d52a-4cac-aebf-b6898a974878\" class=\"plotly-graph-div\" style=\"height:525px; width:100%;\"></div>\n",
       "            <script type=\"text/javascript\">\n",
       "                require([\"plotly\"], function(Plotly) {\n",
       "                    window.PLOTLYENV=window.PLOTLYENV || {};\n",
       "                    window.PLOTLYENV.BASE_URL='https://plot.ly';\n",
       "                    \n",
       "                if (document.getElementById(\"d8dc1a40-d52a-4cac-aebf-b6898a974878\")) {\n",
       "                    Plotly.newPlot(\n",
       "                        'd8dc1a40-d52a-4cac-aebf-b6898a974878',\n",
       "                        [{\"histfunc\": \"count\", \"histnorm\": \"\", \"marker\": {\"color\": \"rgba(255, 153, 51, 1.0)\", \"line\": {\"color\": \"#000000\", \"width\": 1.3}}, \"name\": \"label\", \"nbinsx\": 3, \"opacity\": 0.8, \"orientation\": \"v\", \"type\": \"histogram\", \"x\": [\"pos\", \"pos\", \"pos\", \"pos\", \"pos\", \"pos\", \"pos\", \"pos\", \"pos\", \"pos\", \"pos\", \"pos\", \"pos\", \"pos\", \"pos\", \"pos\", \"pos\", \"neutral\", \"pos\", \"pos\", \"pos\", \"pos\", \"neutral\", \"pos\", \"pos\", \"pos\", \"pos\", \"pos\", \"pos\", \"pos\", \"pos\", \"pos\", \"pos\", \"pos\", \"pos\", \"pos\", \"pos\", \"pos\", \"pos\", \"neutral\", \"pos\", \"pos\", \"pos\", \"pos\", \"pos\", \"pos\", \"pos\", \"pos\", \"pos\", \"pos\", \"pos\", \"pos\", \"pos\", \"pos\", \"pos\", \"pos\", \"pos\", \"pos\", \"pos\", \"pos\", \"pos\", \"pos\", \"pos\", \"pos\", \"pos\", \"pos\", \"pos\", \"pos\", \"pos\", \"pos\", \"pos\", \"pos\", \"pos\", \"pos\", \"pos\", \"pos\", \"pos\", \"pos\", \"pos\", \"pos\", \"pos\", \"neg\", \"pos\", \"pos\", \"pos\", \"pos\", \"pos\", \"pos\", \"pos\", \"pos\", \"pos\", \"pos\", \"pos\", \"pos\", \"pos\", \"pos\", \"pos\", \"pos\", \"pos\", \"pos\", \"pos\", \"pos\", \"pos\", \"pos\", \"pos\", \"pos\", \"pos\", \"pos\", \"pos\", \"pos\", \"pos\", \"pos\", \"pos\", \"pos\", \"pos\", \"pos\", \"pos\", \"pos\", \"pos\", \"pos\", \"pos\", \"pos\", \"pos\", \"pos\", \"pos\", \"pos\", \"pos\", \"pos\", \"pos\", \"pos\", \"pos\", \"pos\", \"pos\", \"pos\", \"pos\", \"pos\", \"pos\", \"pos\", \"pos\", \"pos\", \"pos\", \"pos\", \"pos\", \"pos\", \"pos\", \"pos\", \"pos\", \"pos\", \"pos\", \"pos\", \"pos\", \"pos\", \"pos\", \"pos\", \"pos\", \"pos\", \"pos\", \"pos\", \"pos\", \"pos\", \"pos\", \"pos\", \"pos\", \"pos\", \"pos\", \"pos\", \"neg\", \"neg\", \"pos\", \"pos\", \"pos\", \"pos\", \"pos\", \"pos\", \"pos\", \"pos\", \"pos\", \"pos\", \"pos\", \"pos\", \"pos\", \"pos\", \"pos\", \"pos\", \"pos\", \"pos\", \"pos\", \"pos\", \"pos\", \"pos\", \"pos\", \"neutral\", \"pos\", \"pos\", \"pos\", \"pos\", \"pos\", \"pos\", \"neg\", \"pos\", \"pos\", \"neg\", \"pos\", \"pos\", \"pos\", \"pos\", \"pos\", \"pos\", \"pos\", \"pos\", \"pos\", \"pos\", \"pos\", \"pos\", \"pos\", \"pos\", \"pos\", \"pos\", \"pos\", \"pos\", \"pos\", \"pos\", \"pos\", \"pos\", \"pos\", \"pos\", \"pos\", \"pos\", \"pos\", \"pos\", \"pos\", \"pos\", \"pos\", \"pos\", \"pos\", \"pos\", \"pos\", \"pos\", \"pos\", \"pos\", \"pos\", \"pos\", \"pos\", \"pos\", \"pos\", \"pos\", \"pos\", \"pos\", \"pos\", \"pos\", \"pos\", \"pos\", \"pos\", \"pos\", \"pos\", \"pos\", \"pos\", \"pos\", \"pos\", \"pos\", \"pos\", \"pos\", \"pos\", \"pos\", \"pos\", \"pos\", \"pos\", \"pos\", \"pos\", \"pos\", \"pos\", \"pos\", \"pos\", \"pos\", \"pos\", \"pos\", \"pos\", \"pos\", \"pos\", \"pos\", \"pos\", \"pos\", \"pos\", \"pos\", \"pos\", \"pos\", \"neg\", \"pos\", \"pos\", \"pos\", \"pos\", \"pos\", \"pos\", \"pos\", \"pos\", \"pos\", \"pos\", \"pos\", \"pos\", \"pos\", \"pos\", \"pos\", \"pos\", \"pos\", \"pos\", \"pos\", \"pos\", \"pos\", \"pos\", \"pos\", \"neutral\", \"neg\", \"pos\", \"pos\", \"pos\", \"pos\", \"pos\", \"pos\", \"pos\", \"pos\", \"pos\", \"pos\", \"pos\", \"pos\", \"pos\", \"pos\", \"pos\", \"pos\", \"pos\", \"pos\", \"pos\", \"pos\", \"pos\", \"pos\", \"pos\", \"neutral\", \"neg\", \"pos\", \"pos\", \"pos\", \"pos\", \"pos\", \"pos\", \"pos\", \"pos\", \"pos\", \"pos\", \"pos\", \"pos\", \"pos\", \"neutral\", \"pos\", \"pos\", \"pos\", \"pos\", \"pos\", \"pos\", \"pos\", \"pos\", \"pos\", \"pos\", \"pos\", \"pos\", \"pos\", \"pos\", \"pos\", \"pos\", \"pos\", \"pos\", \"pos\", \"pos\", \"pos\", \"pos\", \"pos\", \"pos\", \"pos\", \"pos\", \"pos\", \"neutral\", \"pos\", \"pos\", \"pos\", \"pos\", \"pos\", \"pos\", \"pos\", \"pos\", \"pos\", \"pos\", \"pos\", \"pos\", \"pos\", \"pos\", \"pos\", \"pos\", \"pos\", \"pos\", \"pos\", \"pos\", \"pos\", \"pos\", \"pos\", \"pos\", \"pos\", \"pos\", \"pos\", \"pos\", \"pos\", \"pos\", \"pos\", \"pos\", \"pos\", \"pos\", \"pos\", \"pos\", \"pos\", \"pos\", \"pos\", \"pos\", \"pos\", \"pos\", \"pos\", \"pos\", \"pos\", \"pos\", \"pos\", \"pos\", \"pos\", \"pos\", \"neg\", \"pos\", \"pos\", \"pos\", \"pos\", \"pos\", \"pos\", \"pos\", \"pos\", \"pos\", \"pos\", \"pos\", \"pos\", \"pos\", \"pos\", \"pos\", \"pos\", \"pos\", \"pos\", \"pos\", \"pos\", \"pos\", \"pos\", \"pos\", \"pos\", \"pos\", \"pos\", \"pos\", \"neutral\", \"pos\", \"pos\", \"pos\", \"pos\", \"pos\", \"pos\", \"pos\", \"pos\", \"pos\", \"pos\", \"pos\", \"pos\", \"pos\", \"pos\", \"pos\", \"pos\", \"pos\", \"pos\", \"pos\", \"pos\", \"pos\", \"pos\", \"pos\", \"pos\", \"pos\", \"pos\", \"pos\", \"pos\", \"pos\", \"pos\", \"pos\", \"pos\", \"pos\", \"pos\", \"pos\", \"pos\", \"pos\", \"neg\", \"pos\", \"pos\", \"pos\", \"pos\", \"pos\", \"pos\", \"pos\", \"pos\", \"pos\", \"pos\", \"pos\", \"pos\", \"pos\", \"pos\", \"pos\", \"pos\", \"pos\", \"neutral\", \"pos\", \"pos\", \"pos\", \"pos\", \"pos\", \"pos\", \"pos\", \"pos\", \"pos\", \"pos\", \"pos\", \"pos\", \"neg\", \"pos\", \"pos\", \"pos\", \"pos\", \"neg\", \"pos\", \"pos\", \"pos\", \"pos\", \"pos\", \"pos\", \"pos\", \"pos\", \"pos\", \"pos\", \"pos\", \"pos\", \"pos\", \"pos\", \"pos\", \"neutral\", \"pos\", \"pos\", \"pos\", \"pos\", \"pos\", \"pos\", \"pos\", \"pos\", \"pos\", \"pos\", \"pos\", \"pos\", \"pos\", \"pos\", \"pos\", \"pos\", \"pos\", \"pos\", \"pos\", \"pos\", \"pos\", \"pos\", \"pos\", \"pos\", \"pos\", \"pos\", \"pos\", \"pos\", \"pos\", \"pos\", \"pos\", \"pos\", \"pos\", \"pos\", \"pos\", \"pos\", \"pos\", \"pos\", \"pos\", \"pos\", \"pos\", \"pos\", \"pos\", \"pos\", \"pos\", \"pos\", \"pos\", \"pos\", \"pos\", \"pos\", \"pos\", \"pos\", \"pos\", \"pos\", \"pos\", \"pos\", \"pos\", \"neg\", \"pos\", \"pos\", \"pos\", \"pos\", \"pos\", \"pos\", \"pos\", \"pos\", \"pos\", \"pos\", \"pos\", \"pos\", \"pos\", \"pos\", \"pos\", \"pos\", \"pos\", \"pos\", \"pos\", \"pos\", \"pos\", \"pos\", \"pos\", \"pos\", \"pos\", \"pos\", \"pos\", \"pos\", \"pos\", \"pos\", \"pos\", \"pos\", \"pos\", \"pos\", \"pos\", \"pos\", \"pos\", \"pos\", \"pos\", \"pos\", \"pos\", \"neg\", \"pos\", \"pos\", \"pos\", \"pos\", \"pos\", \"pos\", \"pos\", \"pos\", \"pos\", \"pos\", \"pos\", \"neg\", \"pos\", \"pos\", \"pos\", \"pos\", \"pos\", \"pos\", \"pos\", \"pos\", \"pos\", \"pos\", \"neg\", \"pos\", \"pos\", \"pos\", \"pos\", \"pos\", \"neg\", \"pos\", \"pos\", \"pos\", \"pos\", \"pos\", \"pos\", \"pos\", \"pos\", \"pos\", \"pos\", \"pos\", \"pos\", \"pos\", \"pos\", \"pos\", \"pos\", \"pos\", \"pos\", \"pos\", \"neutral\", \"neg\", \"pos\", \"pos\", \"pos\", \"pos\", \"pos\", \"neutral\", \"pos\", \"pos\", \"pos\", \"pos\", \"pos\", \"pos\", \"pos\", \"pos\", \"neg\", \"pos\", \"pos\", \"pos\", \"pos\", \"pos\", \"pos\", \"pos\", \"pos\", \"pos\", \"pos\", \"pos\", \"pos\", \"pos\", \"pos\", \"pos\", \"pos\", \"pos\", \"pos\", \"pos\", \"pos\", \"pos\", \"pos\", \"pos\", \"pos\", \"pos\", \"pos\", \"pos\", \"pos\", \"pos\", \"pos\", \"pos\", \"pos\", \"pos\", \"pos\", \"pos\", \"pos\", \"pos\", \"pos\", \"pos\", \"pos\", \"pos\", \"pos\", \"pos\", \"pos\", \"pos\", \"pos\", \"pos\", \"pos\", \"pos\", \"pos\", \"pos\", \"pos\", \"pos\", \"pos\", \"pos\", \"pos\", \"pos\", \"pos\", \"pos\", \"neutral\", \"pos\", \"pos\", \"pos\", \"pos\", \"pos\", \"pos\", \"pos\", \"pos\", \"pos\", \"pos\", \"pos\", \"pos\", \"pos\", \"pos\", \"pos\", \"pos\", \"pos\", \"pos\", \"pos\", \"neutral\", \"neutral\", \"neg\", \"pos\", \"pos\", \"pos\", \"pos\", \"pos\", \"pos\", \"pos\", \"pos\", \"pos\", \"pos\", \"pos\", \"pos\", \"pos\", \"pos\", \"pos\", \"pos\", \"pos\", \"pos\", \"pos\", \"pos\", \"pos\", \"pos\", \"pos\", \"pos\", \"pos\", \"pos\", \"pos\", \"pos\", \"pos\", \"pos\", \"pos\", \"pos\", \"pos\", \"pos\", \"neutral\", \"pos\", \"pos\", \"pos\", \"neg\", \"pos\", \"pos\", \"pos\", \"pos\", \"pos\", \"pos\", \"pos\", \"pos\", \"pos\", \"pos\", \"pos\", \"pos\", \"neutral\", \"pos\", \"neutral\", \"pos\", \"pos\", \"pos\", \"neutral\", \"pos\", \"pos\", \"pos\", \"pos\", \"pos\", \"pos\", \"pos\", \"neg\", \"pos\", \"neg\", \"pos\", \"pos\", \"pos\", \"pos\", \"neutral\", \"pos\", \"pos\", \"pos\", \"pos\", \"pos\", \"pos\", \"pos\", \"pos\", \"pos\", \"pos\", \"pos\", \"pos\", \"pos\", \"pos\", \"pos\", \"pos\", \"pos\", \"pos\", \"pos\", \"pos\", \"pos\", \"pos\", \"pos\", \"pos\", \"pos\", \"pos\", \"pos\", \"pos\", \"pos\", \"pos\", \"pos\", \"pos\", \"neg\", \"pos\", \"pos\", \"pos\", \"pos\", \"pos\", \"pos\", \"pos\", \"pos\", \"pos\", \"pos\", \"pos\", \"pos\", \"pos\", \"pos\", \"pos\", \"pos\", \"neutral\", \"pos\", \"pos\", \"neutral\", \"pos\", \"pos\", \"pos\", \"pos\", \"pos\", \"pos\", \"pos\", \"pos\", \"pos\", \"pos\", \"neutral\", \"pos\", \"pos\", \"pos\", \"pos\", \"pos\", \"pos\", \"neg\", \"pos\", \"pos\", \"pos\", \"pos\", \"pos\", \"pos\", \"pos\", \"pos\", \"pos\", \"pos\", \"pos\", \"pos\", \"pos\", \"neutral\", \"pos\", \"pos\", \"pos\", \"pos\", \"pos\", \"pos\", \"pos\", \"pos\", \"pos\", \"pos\", \"pos\", \"pos\", \"pos\", \"pos\", \"pos\", \"pos\", \"pos\", \"pos\", \"pos\", \"pos\", \"pos\", \"pos\", \"pos\", \"pos\", \"pos\", \"pos\", \"pos\", \"neutral\", \"pos\", \"pos\", \"pos\", \"pos\", \"pos\", \"pos\", \"pos\", \"pos\", \"pos\", \"pos\", \"pos\", \"pos\", \"pos\", \"pos\", \"pos\", \"pos\", \"pos\", \"pos\", \"neutral\", \"pos\", \"neutral\", \"neutral\", \"pos\", \"pos\", \"pos\", \"pos\", \"pos\", \"pos\", \"pos\", \"pos\", \"pos\", \"pos\", \"pos\", \"pos\", \"pos\", \"pos\", \"pos\", \"pos\", \"pos\", \"pos\", \"neutral\", \"pos\", \"neg\", \"pos\", \"pos\", \"pos\", \"pos\", \"pos\", \"pos\", \"pos\", \"pos\", \"pos\", \"pos\", \"pos\", \"pos\", \"pos\", \"pos\", \"pos\", \"pos\", \"pos\", \"pos\", \"pos\", \"pos\", \"pos\", \"pos\", \"pos\", \"pos\", \"pos\", \"pos\", \"pos\", \"pos\", \"pos\", \"pos\", \"pos\", \"pos\", \"pos\", \"pos\", \"pos\", \"neg\", \"pos\", \"pos\", \"pos\", \"pos\", \"pos\", \"pos\", \"pos\", \"pos\", \"pos\", \"pos\", \"pos\", \"neg\", \"pos\", \"pos\", \"pos\", \"pos\", \"pos\", \"pos\", \"neg\", \"pos\", \"pos\", \"pos\", \"pos\", \"pos\", \"neutral\", \"neutral\", \"pos\", \"pos\", \"pos\", \"pos\", \"pos\", \"pos\", \"pos\", \"pos\", \"pos\", \"neg\", \"pos\", \"pos\", \"pos\", \"pos\", \"pos\", \"pos\", \"pos\", \"pos\", \"pos\", \"pos\", \"pos\", \"pos\", \"pos\", \"pos\", \"pos\", \"pos\", \"neutral\", \"pos\", \"pos\", \"pos\", \"pos\", \"pos\", \"pos\", \"pos\", \"pos\", \"pos\", \"pos\", \"pos\", \"pos\", \"pos\", \"pos\", \"pos\", \"pos\", \"neg\", \"pos\", \"pos\", \"pos\", \"pos\", \"pos\", \"pos\", \"neg\", \"pos\", \"pos\", \"pos\", \"pos\", \"pos\", \"neutral\", \"pos\", \"neg\", \"pos\", \"pos\", \"pos\", \"pos\", \"pos\", \"pos\", \"pos\", \"pos\", \"pos\", \"pos\", \"pos\", \"pos\", \"pos\", \"pos\", \"pos\", \"pos\", \"pos\", \"pos\", \"pos\", \"pos\", \"pos\", \"pos\", \"pos\", \"pos\", \"pos\", \"neg\", \"pos\", \"pos\", \"pos\", \"pos\", \"pos\", \"pos\", \"pos\", \"pos\", \"pos\", \"pos\", \"neg\", \"pos\", \"pos\", \"pos\", \"pos\", \"pos\", \"pos\", \"pos\", \"pos\", \"neg\", \"pos\", \"pos\", \"neg\", \"pos\", \"pos\", \"pos\", \"pos\", \"pos\", \"pos\", \"pos\", \"pos\", \"pos\", \"neutral\", \"pos\", \"pos\", \"pos\", \"pos\", \"pos\", \"pos\", \"pos\", \"pos\", \"pos\", \"pos\", \"pos\", \"pos\", \"pos\", \"pos\", \"pos\", \"pos\", \"pos\", \"pos\", \"pos\", \"pos\", \"pos\", \"pos\", \"pos\", \"pos\", \"pos\", \"pos\", \"pos\", \"pos\", \"pos\", \"pos\", \"pos\", \"pos\", \"pos\", \"pos\", \"pos\", \"pos\", \"pos\", \"pos\", \"pos\", \"pos\", \"pos\", \"pos\", \"pos\", \"pos\", \"pos\", \"pos\", \"pos\", \"pos\", \"pos\", \"pos\", \"pos\", \"pos\", \"pos\", \"pos\", \"pos\", \"neutral\", \"pos\", \"pos\", \"pos\", \"pos\", \"neutral\", \"pos\", \"pos\", \"pos\", \"pos\", \"pos\", \"pos\", \"pos\", \"pos\", \"pos\", \"pos\", \"pos\", \"pos\", \"pos\", \"pos\", \"pos\", \"pos\", \"pos\", \"neutral\", \"pos\", \"neg\", \"pos\", \"pos\", \"pos\", \"neutral\", \"pos\", \"pos\", \"pos\", \"pos\", \"pos\", \"pos\", \"pos\", \"pos\", \"pos\", \"pos\", \"pos\", \"pos\", \"pos\", \"pos\", \"pos\", \"pos\", \"pos\", \"pos\", \"pos\", \"pos\", \"pos\", \"pos\", \"pos\", \"pos\", \"pos\", \"pos\", \"pos\", \"pos\", \"pos\", \"pos\", \"pos\", \"pos\", \"pos\", \"pos\", \"pos\", \"pos\", \"pos\", \"pos\", \"neg\", \"pos\", \"pos\", \"pos\", \"pos\", \"neutral\", \"neg\", \"neg\", \"pos\", \"pos\", \"pos\", \"pos\", \"pos\", \"pos\", \"pos\", \"pos\", \"pos\", \"pos\", \"pos\", \"pos\", \"pos\", \"pos\", \"pos\", \"pos\", \"pos\", \"pos\", \"pos\", \"pos\", \"pos\", \"pos\", \"neutral\", \"pos\", \"pos\", \"pos\", \"pos\", \"pos\", \"pos\", \"pos\", \"pos\", \"pos\", \"pos\", \"pos\", \"pos\", \"pos\", \"pos\", \"pos\", \"pos\", \"pos\", \"pos\", \"pos\", \"pos\", \"pos\", \"pos\", \"pos\", \"pos\", \"neg\", \"pos\", \"pos\", \"pos\", \"pos\", \"pos\", \"pos\", \"pos\", \"pos\", \"pos\", \"pos\", \"pos\", \"pos\", \"pos\", \"pos\", \"pos\", \"pos\", \"pos\", \"pos\", \"neutral\", \"neg\", \"pos\", \"neg\", \"pos\", \"pos\", \"pos\", \"pos\", \"pos\", \"pos\", \"pos\", \"pos\", \"pos\", \"pos\", \"pos\", \"pos\", \"pos\", \"pos\", \"pos\", \"pos\", \"neg\", \"pos\", \"pos\", \"pos\", \"pos\", \"pos\", \"pos\", \"pos\", \"pos\", \"neg\"]}],\n",
       "                        {\"barmode\": \"overlay\", \"legend\": {\"bgcolor\": \"#F5F6F9\", \"font\": {\"color\": \"#4D5663\"}}, \"paper_bgcolor\": \"#F5F6F9\", \"plot_bgcolor\": \"#F5F6F9\", \"template\": {\"data\": {\"bar\": [{\"error_x\": {\"color\": \"#2a3f5f\"}, \"error_y\": {\"color\": \"#2a3f5f\"}, \"marker\": {\"line\": {\"color\": \"#E5ECF6\", \"width\": 0.5}}, \"type\": \"bar\"}], \"barpolar\": [{\"marker\": {\"line\": {\"color\": \"#E5ECF6\", \"width\": 0.5}}, \"type\": \"barpolar\"}], \"carpet\": [{\"aaxis\": {\"endlinecolor\": \"#2a3f5f\", \"gridcolor\": \"white\", \"linecolor\": \"white\", \"minorgridcolor\": \"white\", \"startlinecolor\": \"#2a3f5f\"}, \"baxis\": {\"endlinecolor\": \"#2a3f5f\", \"gridcolor\": \"white\", \"linecolor\": \"white\", \"minorgridcolor\": \"white\", \"startlinecolor\": \"#2a3f5f\"}, \"type\": \"carpet\"}], \"choropleth\": [{\"colorbar\": {\"outlinewidth\": 0, \"ticks\": \"\"}, \"type\": \"choropleth\"}], \"contour\": [{\"colorbar\": {\"outlinewidth\": 0, \"ticks\": \"\"}, \"colorscale\": [[0.0, \"#0d0887\"], [0.1111111111111111, \"#46039f\"], [0.2222222222222222, \"#7201a8\"], [0.3333333333333333, \"#9c179e\"], [0.4444444444444444, \"#bd3786\"], [0.5555555555555556, \"#d8576b\"], [0.6666666666666666, \"#ed7953\"], [0.7777777777777778, \"#fb9f3a\"], [0.8888888888888888, \"#fdca26\"], [1.0, \"#f0f921\"]], \"type\": \"contour\"}], \"contourcarpet\": [{\"colorbar\": {\"outlinewidth\": 0, \"ticks\": \"\"}, \"type\": \"contourcarpet\"}], \"heatmap\": [{\"colorbar\": {\"outlinewidth\": 0, \"ticks\": \"\"}, \"colorscale\": [[0.0, \"#0d0887\"], [0.1111111111111111, \"#46039f\"], [0.2222222222222222, \"#7201a8\"], [0.3333333333333333, \"#9c179e\"], [0.4444444444444444, \"#bd3786\"], [0.5555555555555556, \"#d8576b\"], [0.6666666666666666, \"#ed7953\"], [0.7777777777777778, \"#fb9f3a\"], [0.8888888888888888, \"#fdca26\"], [1.0, \"#f0f921\"]], \"type\": \"heatmap\"}], \"heatmapgl\": [{\"colorbar\": {\"outlinewidth\": 0, \"ticks\": \"\"}, \"colorscale\": [[0.0, \"#0d0887\"], [0.1111111111111111, \"#46039f\"], [0.2222222222222222, \"#7201a8\"], [0.3333333333333333, \"#9c179e\"], [0.4444444444444444, \"#bd3786\"], [0.5555555555555556, \"#d8576b\"], [0.6666666666666666, \"#ed7953\"], [0.7777777777777778, \"#fb9f3a\"], [0.8888888888888888, \"#fdca26\"], [1.0, \"#f0f921\"]], \"type\": \"heatmapgl\"}], \"histogram\": [{\"marker\": {\"colorbar\": {\"outlinewidth\": 0, \"ticks\": \"\"}}, \"type\": \"histogram\"}], \"histogram2d\": [{\"colorbar\": {\"outlinewidth\": 0, \"ticks\": \"\"}, \"colorscale\": [[0.0, \"#0d0887\"], [0.1111111111111111, \"#46039f\"], [0.2222222222222222, \"#7201a8\"], [0.3333333333333333, \"#9c179e\"], [0.4444444444444444, \"#bd3786\"], [0.5555555555555556, \"#d8576b\"], [0.6666666666666666, \"#ed7953\"], [0.7777777777777778, \"#fb9f3a\"], [0.8888888888888888, \"#fdca26\"], [1.0, \"#f0f921\"]], \"type\": \"histogram2d\"}], \"histogram2dcontour\": [{\"colorbar\": {\"outlinewidth\": 0, \"ticks\": \"\"}, \"colorscale\": [[0.0, \"#0d0887\"], [0.1111111111111111, \"#46039f\"], [0.2222222222222222, \"#7201a8\"], [0.3333333333333333, \"#9c179e\"], [0.4444444444444444, \"#bd3786\"], [0.5555555555555556, \"#d8576b\"], [0.6666666666666666, \"#ed7953\"], [0.7777777777777778, \"#fb9f3a\"], [0.8888888888888888, \"#fdca26\"], [1.0, \"#f0f921\"]], \"type\": \"histogram2dcontour\"}], \"mesh3d\": [{\"colorbar\": {\"outlinewidth\": 0, \"ticks\": \"\"}, \"type\": \"mesh3d\"}], \"parcoords\": [{\"line\": {\"colorbar\": {\"outlinewidth\": 0, \"ticks\": \"\"}}, \"type\": \"parcoords\"}], \"pie\": [{\"automargin\": true, \"type\": \"pie\"}], \"scatter\": [{\"marker\": {\"colorbar\": {\"outlinewidth\": 0, \"ticks\": \"\"}}, \"type\": \"scatter\"}], \"scatter3d\": [{\"line\": {\"colorbar\": {\"outlinewidth\": 0, \"ticks\": \"\"}}, \"marker\": {\"colorbar\": {\"outlinewidth\": 0, \"ticks\": \"\"}}, \"type\": \"scatter3d\"}], \"scattercarpet\": [{\"marker\": {\"colorbar\": {\"outlinewidth\": 0, \"ticks\": \"\"}}, \"type\": \"scattercarpet\"}], \"scattergeo\": [{\"marker\": {\"colorbar\": {\"outlinewidth\": 0, \"ticks\": \"\"}}, \"type\": \"scattergeo\"}], \"scattergl\": [{\"marker\": {\"colorbar\": {\"outlinewidth\": 0, \"ticks\": \"\"}}, \"type\": \"scattergl\"}], \"scattermapbox\": [{\"marker\": {\"colorbar\": {\"outlinewidth\": 0, \"ticks\": \"\"}}, \"type\": \"scattermapbox\"}], \"scatterpolar\": [{\"marker\": {\"colorbar\": {\"outlinewidth\": 0, \"ticks\": \"\"}}, \"type\": \"scatterpolar\"}], \"scatterpolargl\": [{\"marker\": {\"colorbar\": {\"outlinewidth\": 0, \"ticks\": \"\"}}, \"type\": \"scatterpolargl\"}], \"scatterternary\": [{\"marker\": {\"colorbar\": {\"outlinewidth\": 0, \"ticks\": \"\"}}, \"type\": \"scatterternary\"}], \"surface\": [{\"colorbar\": {\"outlinewidth\": 0, \"ticks\": \"\"}, \"colorscale\": [[0.0, \"#0d0887\"], [0.1111111111111111, \"#46039f\"], [0.2222222222222222, \"#7201a8\"], [0.3333333333333333, \"#9c179e\"], [0.4444444444444444, \"#bd3786\"], [0.5555555555555556, \"#d8576b\"], [0.6666666666666666, \"#ed7953\"], [0.7777777777777778, \"#fb9f3a\"], [0.8888888888888888, \"#fdca26\"], [1.0, \"#f0f921\"]], \"type\": \"surface\"}], \"table\": [{\"cells\": {\"fill\": {\"color\": \"#EBF0F8\"}, \"line\": {\"color\": \"white\"}}, \"header\": {\"fill\": {\"color\": \"#C8D4E3\"}, \"line\": {\"color\": \"white\"}}, \"type\": \"table\"}]}, \"layout\": {\"annotationdefaults\": {\"arrowcolor\": \"#2a3f5f\", \"arrowhead\": 0, \"arrowwidth\": 1}, \"coloraxis\": {\"colorbar\": {\"outlinewidth\": 0, \"ticks\": \"\"}}, \"colorscale\": {\"diverging\": [[0, \"#8e0152\"], [0.1, \"#c51b7d\"], [0.2, \"#de77ae\"], [0.3, \"#f1b6da\"], [0.4, \"#fde0ef\"], [0.5, \"#f7f7f7\"], [0.6, \"#e6f5d0\"], [0.7, \"#b8e186\"], [0.8, \"#7fbc41\"], [0.9, \"#4d9221\"], [1, \"#276419\"]], \"sequential\": [[0.0, \"#0d0887\"], [0.1111111111111111, \"#46039f\"], [0.2222222222222222, \"#7201a8\"], [0.3333333333333333, \"#9c179e\"], [0.4444444444444444, \"#bd3786\"], [0.5555555555555556, \"#d8576b\"], [0.6666666666666666, \"#ed7953\"], [0.7777777777777778, \"#fb9f3a\"], [0.8888888888888888, \"#fdca26\"], [1.0, \"#f0f921\"]], \"sequentialminus\": [[0.0, \"#0d0887\"], [0.1111111111111111, \"#46039f\"], [0.2222222222222222, \"#7201a8\"], [0.3333333333333333, \"#9c179e\"], [0.4444444444444444, \"#bd3786\"], [0.5555555555555556, \"#d8576b\"], [0.6666666666666666, \"#ed7953\"], [0.7777777777777778, \"#fb9f3a\"], [0.8888888888888888, \"#fdca26\"], [1.0, \"#f0f921\"]]}, \"colorway\": [\"#636efa\", \"#EF553B\", \"#00cc96\", \"#ab63fa\", \"#FFA15A\", \"#19d3f3\", \"#FF6692\", \"#B6E880\", \"#FF97FF\", \"#FECB52\"], \"font\": {\"color\": \"#2a3f5f\"}, \"geo\": {\"bgcolor\": \"white\", \"lakecolor\": \"white\", \"landcolor\": \"#E5ECF6\", \"showlakes\": true, \"showland\": true, \"subunitcolor\": \"white\"}, \"hoverlabel\": {\"align\": \"left\"}, \"hovermode\": \"closest\", \"mapbox\": {\"style\": \"light\"}, \"paper_bgcolor\": \"white\", \"plot_bgcolor\": \"#E5ECF6\", \"polar\": {\"angularaxis\": {\"gridcolor\": \"white\", \"linecolor\": \"white\", \"ticks\": \"\"}, \"bgcolor\": \"#E5ECF6\", \"radialaxis\": {\"gridcolor\": \"white\", \"linecolor\": \"white\", \"ticks\": \"\"}}, \"scene\": {\"xaxis\": {\"backgroundcolor\": \"#E5ECF6\", \"gridcolor\": \"white\", \"gridwidth\": 2, \"linecolor\": \"white\", \"showbackground\": true, \"ticks\": \"\", \"zerolinecolor\": \"white\"}, \"yaxis\": {\"backgroundcolor\": \"#E5ECF6\", \"gridcolor\": \"white\", \"gridwidth\": 2, \"linecolor\": \"white\", \"showbackground\": true, \"ticks\": \"\", \"zerolinecolor\": \"white\"}, \"zaxis\": {\"backgroundcolor\": \"#E5ECF6\", \"gridcolor\": \"white\", \"gridwidth\": 2, \"linecolor\": \"white\", \"showbackground\": true, \"ticks\": \"\", \"zerolinecolor\": \"white\"}}, \"shapedefaults\": {\"line\": {\"color\": \"#2a3f5f\"}}, \"ternary\": {\"aaxis\": {\"gridcolor\": \"white\", \"linecolor\": \"white\", \"ticks\": \"\"}, \"baxis\": {\"gridcolor\": \"white\", \"linecolor\": \"white\", \"ticks\": \"\"}, \"bgcolor\": \"#E5ECF6\", \"caxis\": {\"gridcolor\": \"white\", \"linecolor\": \"white\", \"ticks\": \"\"}}, \"title\": {\"x\": 0.05}, \"xaxis\": {\"automargin\": true, \"gridcolor\": \"white\", \"linecolor\": \"white\", \"ticks\": \"\", \"title\": {\"standoff\": 15}, \"zerolinecolor\": \"white\", \"zerolinewidth\": 2}, \"yaxis\": {\"automargin\": true, \"gridcolor\": \"white\", \"linecolor\": \"white\", \"ticks\": \"\", \"title\": {\"standoff\": 15}, \"zerolinecolor\": \"white\", \"zerolinewidth\": 2}}}, \"title\": {\"font\": {\"color\": \"#4D5663\"}, \"text\": \"Sentiment label distribution\"}, \"xaxis\": {\"gridcolor\": \"#E1E5ED\", \"linecolor\": \"black\", \"showgrid\": true, \"tickfont\": {\"color\": \"#4D5663\"}, \"title\": {\"font\": {\"color\": \"#4D5663\"}, \"text\": \"rating\"}, \"zerolinecolor\": \"#E1E5ED\"}, \"yaxis\": {\"gridcolor\": \"#E1E5ED\", \"linecolor\": \"black\", \"showgrid\": true, \"tickfont\": {\"color\": \"#4D5663\"}, \"title\": {\"font\": {\"color\": \"#4D5663\"}, \"text\": \"count\"}, \"zerolinecolor\": \"#E1E5ED\"}},\n",
       "                        {\"showLink\": true, \"linkText\": \"Export to plot.ly\", \"plotlyServerURL\": \"https://plot.ly\", \"responsive\": true}\n",
       "                    ).then(function(){\n",
       "                            \n",
       "var gd = document.getElementById('d8dc1a40-d52a-4cac-aebf-b6898a974878');\n",
       "var x = new MutationObserver(function (mutations, observer) {{\n",
       "        var display = window.getComputedStyle(gd).display;\n",
       "        if (!display || display === 'none') {{\n",
       "            console.log([gd, 'removed!']);\n",
       "            Plotly.purge(gd);\n",
       "            observer.disconnect();\n",
       "        }}\n",
       "}});\n",
       "\n",
       "// Listen for the removal of the full notebook cells\n",
       "var notebookContainer = gd.closest('#notebook-container');\n",
       "if (notebookContainer) {{\n",
       "    x.observe(notebookContainer, {childList: true});\n",
       "}}\n",
       "\n",
       "// Listen for the clearing of the current output cell\n",
       "var outputEl = gd.closest('.output');\n",
       "if (outputEl) {{\n",
       "    x.observe(outputEl, {childList: true});\n",
       "}}\n",
       "\n",
       "                        })\n",
       "                };\n",
       "                });\n",
       "            </script>\n",
       "        </div>"
      ]
     },
     "metadata": {},
     "output_type": "display_data"
    }
   ],
   "source": [
    "sent_uk_df['label'].iplot(\n",
    "    kind='hist',\n",
    "    bins=3,\n",
    "    xTitle='rating',\n",
    "    linecolor='black',\n",
    "    yTitle='count',\n",
    "    title='Sentiment label distribution')"
   ]
  },
  {
   "cell_type": "markdown",
   "metadata": {},
   "source": [
    "As we can see from the diagrams above, the users mostly mentioned positive reviews than negative. <br/>\n",
    "To avoid overfiting, while training model, we will select approximatelly the same ratio for each labels (it means if neutral contains 42 and negative contains 46 we will select 46 of positive reviews). "
   ]
  },
  {
   "cell_type": "code",
   "execution_count": null,
   "metadata": {},
   "outputs": [],
   "source": []
  },
  {
   "cell_type": "code",
   "execution_count": null,
   "metadata": {},
   "outputs": [],
   "source": []
  },
  {
   "cell_type": "code",
   "execution_count": null,
   "metadata": {},
   "outputs": [],
   "source": []
  },
  {
   "cell_type": "code",
   "execution_count": null,
   "metadata": {},
   "outputs": [],
   "source": []
  },
  {
   "cell_type": "code",
   "execution_count": null,
   "metadata": {},
   "outputs": [],
   "source": []
  },
  {
   "cell_type": "markdown",
   "metadata": {},
   "source": [
    "## Clear data"
   ]
  },
  {
   "cell_type": "code",
   "execution_count": null,
   "metadata": {},
   "outputs": [],
   "source": []
  },
  {
   "cell_type": "code",
   "execution_count": null,
   "metadata": {},
   "outputs": [],
   "source": []
  },
  {
   "cell_type": "markdown",
   "metadata": {},
   "source": [
    "## Split data"
   ]
  },
  {
   "cell_type": "code",
   "execution_count": 160,
   "metadata": {},
   "outputs": [],
   "source": [
    "import random\n",
    "from sklearn.model_selection import train_test_split"
   ]
  },
  {
   "cell_type": "code",
   "execution_count": 151,
   "metadata": {},
   "outputs": [],
   "source": [
    "def split_for_avoiding_overfitting(X, y, epsilon_percent = 0.2):\n",
    "    X_y = list(zip(X, y))\n",
    "    label_Xy_dict = dict()\n",
    "    for i in range(0, len(X_y)):\n",
    "        label = X_y[i][1]\n",
    "        \n",
    "        if label not in label_Xy_dict:\n",
    "            label_Xy_dict[label] = [X_y[i]]\n",
    "        else:\n",
    "            label_Xy_dict[label].append(X_y[i])\n",
    "            \n",
    "    labels = list(label_Xy_dict.keys())\n",
    "    labels.sort(key = lambda label: len(label_Xy_dict[label]))\n",
    "    \n",
    "    prev_len = None\n",
    "    for label in labels:\n",
    "        cur_len = len(label_Xy_dict[label])\n",
    "        if prev_len is None:\n",
    "            prev_len = cur_len\n",
    "            continue\n",
    "        \n",
    "        if 1 - prev_len / cur_len <= epsilon_percent:\n",
    "            continue\n",
    "        \n",
    "        label_Xy_dict[label] = random.sample(label_Xy_dict[label], int((1 + epsilon_percent) * prev_len))\n",
    "        \n",
    "    \n",
    "    new_X_y = []\n",
    "    for label in label_Xy_dict:\n",
    "        new_X_y += label_Xy_dict[label]\n",
    "        \n",
    "    random.shuffle(new_X_y)\n",
    "    \n",
    "    res = list(zip(*new_X_y)) \n",
    "    X_new = list(res[0])\n",
    "    y_new = list(res[1])\n",
    "    \n",
    "    return X_new, y_new\n",
    "    "
   ]
  },
  {
   "cell_type": "code",
   "execution_count": 152,
   "metadata": {},
   "outputs": [],
   "source": [
    "X, y = split_for_avoiding_overfitting(X_all, y_all)"
   ]
  },
  {
   "cell_type": "code",
   "execution_count": 156,
   "metadata": {},
   "outputs": [],
   "source": [
    "new_sent_uk_df = pd.DataFrame({\n",
    "    'text': X,\n",
    "    'label': y\n",
    "})"
   ]
  },
  {
   "cell_type": "code",
   "execution_count": 158,
   "metadata": {},
   "outputs": [
    {
     "data": {
      "application/vnd.plotly.v1+json": {
       "config": {
        "linkText": "Export to plot.ly",
        "plotlyServerURL": "https://plot.ly",
        "showLink": true
       },
       "data": [
        {
         "histfunc": "count",
         "histnorm": "",
         "marker": {
          "color": "rgba(255, 153, 51, 1.0)",
          "line": {
           "color": "#000000",
           "width": 1.3
          }
         },
         "name": "label",
         "nbinsx": 3,
         "opacity": 0.8,
         "orientation": "v",
         "type": "histogram",
         "x": [
          "neutral",
          "pos",
          "neg",
          "pos",
          "neg",
          "neg",
          "pos",
          "neg",
          "pos",
          "pos",
          "neg",
          "pos",
          "neg",
          "pos",
          "neg",
          "neg",
          "pos",
          "neutral",
          "neg",
          "pos",
          "neutral",
          "neutral",
          "pos",
          "neutral",
          "pos",
          "neg",
          "neg",
          "pos",
          "pos",
          "pos",
          "pos",
          "pos",
          "pos",
          "neutral",
          "neutral",
          "neg",
          "pos",
          "pos",
          "neg",
          "neg",
          "neg",
          "pos",
          "neg",
          "neg",
          "neg",
          "pos",
          "neg",
          "pos",
          "neutral",
          "neutral",
          "neutral",
          "neutral",
          "pos",
          "neutral",
          "neutral",
          "pos",
          "neutral",
          "neg",
          "neutral",
          "neg",
          "neutral",
          "neutral",
          "pos",
          "neg",
          "pos",
          "pos",
          "pos",
          "pos",
          "neutral",
          "pos",
          "neutral",
          "neutral",
          "pos",
          "neutral",
          "neutral",
          "neutral",
          "pos",
          "pos",
          "neutral",
          "pos",
          "pos",
          "neutral",
          "pos",
          "neutral",
          "neg",
          "neg",
          "pos",
          "pos",
          "pos",
          "neutral",
          "neutral",
          "neg",
          "pos",
          "neg",
          "neg",
          "neutral",
          "neg",
          "neutral",
          "neg",
          "neg",
          "neutral",
          "neg",
          "pos",
          "neg",
          "neutral",
          "neutral",
          "neg",
          "neg",
          "pos",
          "neg",
          "neg",
          "neutral",
          "pos",
          "pos",
          "neg",
          "neutral",
          "pos",
          "neutral",
          "neutral",
          "neutral",
          "pos",
          "pos",
          "neutral",
          "neg",
          "neg",
          "neg",
          "neg",
          "neutral",
          "neg",
          "neg",
          "neg",
          "pos",
          "neutral",
          "pos",
          "neg",
          "pos",
          "neutral",
          "neg"
         ]
        }
       ],
       "layout": {
        "barmode": "overlay",
        "legend": {
         "bgcolor": "#F5F6F9",
         "font": {
          "color": "#4D5663"
         }
        },
        "paper_bgcolor": "#F5F6F9",
        "plot_bgcolor": "#F5F6F9",
        "template": {
         "data": {
          "bar": [
           {
            "error_x": {
             "color": "#2a3f5f"
            },
            "error_y": {
             "color": "#2a3f5f"
            },
            "marker": {
             "line": {
              "color": "#E5ECF6",
              "width": 0.5
             }
            },
            "type": "bar"
           }
          ],
          "barpolar": [
           {
            "marker": {
             "line": {
              "color": "#E5ECF6",
              "width": 0.5
             }
            },
            "type": "barpolar"
           }
          ],
          "carpet": [
           {
            "aaxis": {
             "endlinecolor": "#2a3f5f",
             "gridcolor": "white",
             "linecolor": "white",
             "minorgridcolor": "white",
             "startlinecolor": "#2a3f5f"
            },
            "baxis": {
             "endlinecolor": "#2a3f5f",
             "gridcolor": "white",
             "linecolor": "white",
             "minorgridcolor": "white",
             "startlinecolor": "#2a3f5f"
            },
            "type": "carpet"
           }
          ],
          "choropleth": [
           {
            "colorbar": {
             "outlinewidth": 0,
             "ticks": ""
            },
            "type": "choropleth"
           }
          ],
          "contour": [
           {
            "colorbar": {
             "outlinewidth": 0,
             "ticks": ""
            },
            "colorscale": [
             [
              0,
              "#0d0887"
             ],
             [
              0.1111111111111111,
              "#46039f"
             ],
             [
              0.2222222222222222,
              "#7201a8"
             ],
             [
              0.3333333333333333,
              "#9c179e"
             ],
             [
              0.4444444444444444,
              "#bd3786"
             ],
             [
              0.5555555555555556,
              "#d8576b"
             ],
             [
              0.6666666666666666,
              "#ed7953"
             ],
             [
              0.7777777777777778,
              "#fb9f3a"
             ],
             [
              0.8888888888888888,
              "#fdca26"
             ],
             [
              1,
              "#f0f921"
             ]
            ],
            "type": "contour"
           }
          ],
          "contourcarpet": [
           {
            "colorbar": {
             "outlinewidth": 0,
             "ticks": ""
            },
            "type": "contourcarpet"
           }
          ],
          "heatmap": [
           {
            "colorbar": {
             "outlinewidth": 0,
             "ticks": ""
            },
            "colorscale": [
             [
              0,
              "#0d0887"
             ],
             [
              0.1111111111111111,
              "#46039f"
             ],
             [
              0.2222222222222222,
              "#7201a8"
             ],
             [
              0.3333333333333333,
              "#9c179e"
             ],
             [
              0.4444444444444444,
              "#bd3786"
             ],
             [
              0.5555555555555556,
              "#d8576b"
             ],
             [
              0.6666666666666666,
              "#ed7953"
             ],
             [
              0.7777777777777778,
              "#fb9f3a"
             ],
             [
              0.8888888888888888,
              "#fdca26"
             ],
             [
              1,
              "#f0f921"
             ]
            ],
            "type": "heatmap"
           }
          ],
          "heatmapgl": [
           {
            "colorbar": {
             "outlinewidth": 0,
             "ticks": ""
            },
            "colorscale": [
             [
              0,
              "#0d0887"
             ],
             [
              0.1111111111111111,
              "#46039f"
             ],
             [
              0.2222222222222222,
              "#7201a8"
             ],
             [
              0.3333333333333333,
              "#9c179e"
             ],
             [
              0.4444444444444444,
              "#bd3786"
             ],
             [
              0.5555555555555556,
              "#d8576b"
             ],
             [
              0.6666666666666666,
              "#ed7953"
             ],
             [
              0.7777777777777778,
              "#fb9f3a"
             ],
             [
              0.8888888888888888,
              "#fdca26"
             ],
             [
              1,
              "#f0f921"
             ]
            ],
            "type": "heatmapgl"
           }
          ],
          "histogram": [
           {
            "marker": {
             "colorbar": {
              "outlinewidth": 0,
              "ticks": ""
             }
            },
            "type": "histogram"
           }
          ],
          "histogram2d": [
           {
            "colorbar": {
             "outlinewidth": 0,
             "ticks": ""
            },
            "colorscale": [
             [
              0,
              "#0d0887"
             ],
             [
              0.1111111111111111,
              "#46039f"
             ],
             [
              0.2222222222222222,
              "#7201a8"
             ],
             [
              0.3333333333333333,
              "#9c179e"
             ],
             [
              0.4444444444444444,
              "#bd3786"
             ],
             [
              0.5555555555555556,
              "#d8576b"
             ],
             [
              0.6666666666666666,
              "#ed7953"
             ],
             [
              0.7777777777777778,
              "#fb9f3a"
             ],
             [
              0.8888888888888888,
              "#fdca26"
             ],
             [
              1,
              "#f0f921"
             ]
            ],
            "type": "histogram2d"
           }
          ],
          "histogram2dcontour": [
           {
            "colorbar": {
             "outlinewidth": 0,
             "ticks": ""
            },
            "colorscale": [
             [
              0,
              "#0d0887"
             ],
             [
              0.1111111111111111,
              "#46039f"
             ],
             [
              0.2222222222222222,
              "#7201a8"
             ],
             [
              0.3333333333333333,
              "#9c179e"
             ],
             [
              0.4444444444444444,
              "#bd3786"
             ],
             [
              0.5555555555555556,
              "#d8576b"
             ],
             [
              0.6666666666666666,
              "#ed7953"
             ],
             [
              0.7777777777777778,
              "#fb9f3a"
             ],
             [
              0.8888888888888888,
              "#fdca26"
             ],
             [
              1,
              "#f0f921"
             ]
            ],
            "type": "histogram2dcontour"
           }
          ],
          "mesh3d": [
           {
            "colorbar": {
             "outlinewidth": 0,
             "ticks": ""
            },
            "type": "mesh3d"
           }
          ],
          "parcoords": [
           {
            "line": {
             "colorbar": {
              "outlinewidth": 0,
              "ticks": ""
             }
            },
            "type": "parcoords"
           }
          ],
          "pie": [
           {
            "automargin": true,
            "type": "pie"
           }
          ],
          "scatter": [
           {
            "marker": {
             "colorbar": {
              "outlinewidth": 0,
              "ticks": ""
             }
            },
            "type": "scatter"
           }
          ],
          "scatter3d": [
           {
            "line": {
             "colorbar": {
              "outlinewidth": 0,
              "ticks": ""
             }
            },
            "marker": {
             "colorbar": {
              "outlinewidth": 0,
              "ticks": ""
             }
            },
            "type": "scatter3d"
           }
          ],
          "scattercarpet": [
           {
            "marker": {
             "colorbar": {
              "outlinewidth": 0,
              "ticks": ""
             }
            },
            "type": "scattercarpet"
           }
          ],
          "scattergeo": [
           {
            "marker": {
             "colorbar": {
              "outlinewidth": 0,
              "ticks": ""
             }
            },
            "type": "scattergeo"
           }
          ],
          "scattergl": [
           {
            "marker": {
             "colorbar": {
              "outlinewidth": 0,
              "ticks": ""
             }
            },
            "type": "scattergl"
           }
          ],
          "scattermapbox": [
           {
            "marker": {
             "colorbar": {
              "outlinewidth": 0,
              "ticks": ""
             }
            },
            "type": "scattermapbox"
           }
          ],
          "scatterpolar": [
           {
            "marker": {
             "colorbar": {
              "outlinewidth": 0,
              "ticks": ""
             }
            },
            "type": "scatterpolar"
           }
          ],
          "scatterpolargl": [
           {
            "marker": {
             "colorbar": {
              "outlinewidth": 0,
              "ticks": ""
             }
            },
            "type": "scatterpolargl"
           }
          ],
          "scatterternary": [
           {
            "marker": {
             "colorbar": {
              "outlinewidth": 0,
              "ticks": ""
             }
            },
            "type": "scatterternary"
           }
          ],
          "surface": [
           {
            "colorbar": {
             "outlinewidth": 0,
             "ticks": ""
            },
            "colorscale": [
             [
              0,
              "#0d0887"
             ],
             [
              0.1111111111111111,
              "#46039f"
             ],
             [
              0.2222222222222222,
              "#7201a8"
             ],
             [
              0.3333333333333333,
              "#9c179e"
             ],
             [
              0.4444444444444444,
              "#bd3786"
             ],
             [
              0.5555555555555556,
              "#d8576b"
             ],
             [
              0.6666666666666666,
              "#ed7953"
             ],
             [
              0.7777777777777778,
              "#fb9f3a"
             ],
             [
              0.8888888888888888,
              "#fdca26"
             ],
             [
              1,
              "#f0f921"
             ]
            ],
            "type": "surface"
           }
          ],
          "table": [
           {
            "cells": {
             "fill": {
              "color": "#EBF0F8"
             },
             "line": {
              "color": "white"
             }
            },
            "header": {
             "fill": {
              "color": "#C8D4E3"
             },
             "line": {
              "color": "white"
             }
            },
            "type": "table"
           }
          ]
         },
         "layout": {
          "annotationdefaults": {
           "arrowcolor": "#2a3f5f",
           "arrowhead": 0,
           "arrowwidth": 1
          },
          "coloraxis": {
           "colorbar": {
            "outlinewidth": 0,
            "ticks": ""
           }
          },
          "colorscale": {
           "diverging": [
            [
             0,
             "#8e0152"
            ],
            [
             0.1,
             "#c51b7d"
            ],
            [
             0.2,
             "#de77ae"
            ],
            [
             0.3,
             "#f1b6da"
            ],
            [
             0.4,
             "#fde0ef"
            ],
            [
             0.5,
             "#f7f7f7"
            ],
            [
             0.6,
             "#e6f5d0"
            ],
            [
             0.7,
             "#b8e186"
            ],
            [
             0.8,
             "#7fbc41"
            ],
            [
             0.9,
             "#4d9221"
            ],
            [
             1,
             "#276419"
            ]
           ],
           "sequential": [
            [
             0,
             "#0d0887"
            ],
            [
             0.1111111111111111,
             "#46039f"
            ],
            [
             0.2222222222222222,
             "#7201a8"
            ],
            [
             0.3333333333333333,
             "#9c179e"
            ],
            [
             0.4444444444444444,
             "#bd3786"
            ],
            [
             0.5555555555555556,
             "#d8576b"
            ],
            [
             0.6666666666666666,
             "#ed7953"
            ],
            [
             0.7777777777777778,
             "#fb9f3a"
            ],
            [
             0.8888888888888888,
             "#fdca26"
            ],
            [
             1,
             "#f0f921"
            ]
           ],
           "sequentialminus": [
            [
             0,
             "#0d0887"
            ],
            [
             0.1111111111111111,
             "#46039f"
            ],
            [
             0.2222222222222222,
             "#7201a8"
            ],
            [
             0.3333333333333333,
             "#9c179e"
            ],
            [
             0.4444444444444444,
             "#bd3786"
            ],
            [
             0.5555555555555556,
             "#d8576b"
            ],
            [
             0.6666666666666666,
             "#ed7953"
            ],
            [
             0.7777777777777778,
             "#fb9f3a"
            ],
            [
             0.8888888888888888,
             "#fdca26"
            ],
            [
             1,
             "#f0f921"
            ]
           ]
          },
          "colorway": [
           "#636efa",
           "#EF553B",
           "#00cc96",
           "#ab63fa",
           "#FFA15A",
           "#19d3f3",
           "#FF6692",
           "#B6E880",
           "#FF97FF",
           "#FECB52"
          ],
          "font": {
           "color": "#2a3f5f"
          },
          "geo": {
           "bgcolor": "white",
           "lakecolor": "white",
           "landcolor": "#E5ECF6",
           "showlakes": true,
           "showland": true,
           "subunitcolor": "white"
          },
          "hoverlabel": {
           "align": "left"
          },
          "hovermode": "closest",
          "mapbox": {
           "style": "light"
          },
          "paper_bgcolor": "white",
          "plot_bgcolor": "#E5ECF6",
          "polar": {
           "angularaxis": {
            "gridcolor": "white",
            "linecolor": "white",
            "ticks": ""
           },
           "bgcolor": "#E5ECF6",
           "radialaxis": {
            "gridcolor": "white",
            "linecolor": "white",
            "ticks": ""
           }
          },
          "scene": {
           "xaxis": {
            "backgroundcolor": "#E5ECF6",
            "gridcolor": "white",
            "gridwidth": 2,
            "linecolor": "white",
            "showbackground": true,
            "ticks": "",
            "zerolinecolor": "white"
           },
           "yaxis": {
            "backgroundcolor": "#E5ECF6",
            "gridcolor": "white",
            "gridwidth": 2,
            "linecolor": "white",
            "showbackground": true,
            "ticks": "",
            "zerolinecolor": "white"
           },
           "zaxis": {
            "backgroundcolor": "#E5ECF6",
            "gridcolor": "white",
            "gridwidth": 2,
            "linecolor": "white",
            "showbackground": true,
            "ticks": "",
            "zerolinecolor": "white"
           }
          },
          "shapedefaults": {
           "line": {
            "color": "#2a3f5f"
           }
          },
          "ternary": {
           "aaxis": {
            "gridcolor": "white",
            "linecolor": "white",
            "ticks": ""
           },
           "baxis": {
            "gridcolor": "white",
            "linecolor": "white",
            "ticks": ""
           },
           "bgcolor": "#E5ECF6",
           "caxis": {
            "gridcolor": "white",
            "linecolor": "white",
            "ticks": ""
           }
          },
          "title": {
           "x": 0.05
          },
          "xaxis": {
           "automargin": true,
           "gridcolor": "white",
           "linecolor": "white",
           "ticks": "",
           "title": {
            "standoff": 15
           },
           "zerolinecolor": "white",
           "zerolinewidth": 2
          },
          "yaxis": {
           "automargin": true,
           "gridcolor": "white",
           "linecolor": "white",
           "ticks": "",
           "title": {
            "standoff": 15
           },
           "zerolinecolor": "white",
           "zerolinewidth": 2
          }
         }
        },
        "title": {
         "font": {
          "color": "#4D5663"
         },
         "text": "Sentiment label distribution"
        },
        "xaxis": {
         "gridcolor": "#E1E5ED",
         "linecolor": "black",
         "showgrid": true,
         "tickfont": {
          "color": "#4D5663"
         },
         "title": {
          "font": {
           "color": "#4D5663"
          },
          "text": "rating"
         },
         "zerolinecolor": "#E1E5ED"
        },
        "yaxis": {
         "gridcolor": "#E1E5ED",
         "linecolor": "black",
         "showgrid": true,
         "tickfont": {
          "color": "#4D5663"
         },
         "title": {
          "font": {
           "color": "#4D5663"
          },
          "text": "count"
         },
         "zerolinecolor": "#E1E5ED"
        }
       }
      },
      "text/html": [
       "<div>\n",
       "        \n",
       "        \n",
       "            <div id=\"ca49ab2b-96f2-4788-a787-d1f1769549e0\" class=\"plotly-graph-div\" style=\"height:525px; width:100%;\"></div>\n",
       "            <script type=\"text/javascript\">\n",
       "                require([\"plotly\"], function(Plotly) {\n",
       "                    window.PLOTLYENV=window.PLOTLYENV || {};\n",
       "                    window.PLOTLYENV.BASE_URL='https://plot.ly';\n",
       "                    \n",
       "                if (document.getElementById(\"ca49ab2b-96f2-4788-a787-d1f1769549e0\")) {\n",
       "                    Plotly.newPlot(\n",
       "                        'ca49ab2b-96f2-4788-a787-d1f1769549e0',\n",
       "                        [{\"histfunc\": \"count\", \"histnorm\": \"\", \"marker\": {\"color\": \"rgba(255, 153, 51, 1.0)\", \"line\": {\"color\": \"#000000\", \"width\": 1.3}}, \"name\": \"label\", \"nbinsx\": 3, \"opacity\": 0.8, \"orientation\": \"v\", \"type\": \"histogram\", \"x\": [\"neutral\", \"pos\", \"neg\", \"pos\", \"neg\", \"neg\", \"pos\", \"neg\", \"pos\", \"pos\", \"neg\", \"pos\", \"neg\", \"pos\", \"neg\", \"neg\", \"pos\", \"neutral\", \"neg\", \"pos\", \"neutral\", \"neutral\", \"pos\", \"neutral\", \"pos\", \"neg\", \"neg\", \"pos\", \"pos\", \"pos\", \"pos\", \"pos\", \"pos\", \"neutral\", \"neutral\", \"neg\", \"pos\", \"pos\", \"neg\", \"neg\", \"neg\", \"pos\", \"neg\", \"neg\", \"neg\", \"pos\", \"neg\", \"pos\", \"neutral\", \"neutral\", \"neutral\", \"neutral\", \"pos\", \"neutral\", \"neutral\", \"pos\", \"neutral\", \"neg\", \"neutral\", \"neg\", \"neutral\", \"neutral\", \"pos\", \"neg\", \"pos\", \"pos\", \"pos\", \"pos\", \"neutral\", \"pos\", \"neutral\", \"neutral\", \"pos\", \"neutral\", \"neutral\", \"neutral\", \"pos\", \"pos\", \"neutral\", \"pos\", \"pos\", \"neutral\", \"pos\", \"neutral\", \"neg\", \"neg\", \"pos\", \"pos\", \"pos\", \"neutral\", \"neutral\", \"neg\", \"pos\", \"neg\", \"neg\", \"neutral\", \"neg\", \"neutral\", \"neg\", \"neg\", \"neutral\", \"neg\", \"pos\", \"neg\", \"neutral\", \"neutral\", \"neg\", \"neg\", \"pos\", \"neg\", \"neg\", \"neutral\", \"pos\", \"pos\", \"neg\", \"neutral\", \"pos\", \"neutral\", \"neutral\", \"neutral\", \"pos\", \"pos\", \"neutral\", \"neg\", \"neg\", \"neg\", \"neg\", \"neutral\", \"neg\", \"neg\", \"neg\", \"pos\", \"neutral\", \"pos\", \"neg\", \"pos\", \"neutral\", \"neg\"]}],\n",
       "                        {\"barmode\": \"overlay\", \"legend\": {\"bgcolor\": \"#F5F6F9\", \"font\": {\"color\": \"#4D5663\"}}, \"paper_bgcolor\": \"#F5F6F9\", \"plot_bgcolor\": \"#F5F6F9\", \"template\": {\"data\": {\"bar\": [{\"error_x\": {\"color\": \"#2a3f5f\"}, \"error_y\": {\"color\": \"#2a3f5f\"}, \"marker\": {\"line\": {\"color\": \"#E5ECF6\", \"width\": 0.5}}, \"type\": \"bar\"}], \"barpolar\": [{\"marker\": {\"line\": {\"color\": \"#E5ECF6\", \"width\": 0.5}}, \"type\": \"barpolar\"}], \"carpet\": [{\"aaxis\": {\"endlinecolor\": \"#2a3f5f\", \"gridcolor\": \"white\", \"linecolor\": \"white\", \"minorgridcolor\": \"white\", \"startlinecolor\": \"#2a3f5f\"}, \"baxis\": {\"endlinecolor\": \"#2a3f5f\", \"gridcolor\": \"white\", \"linecolor\": \"white\", \"minorgridcolor\": \"white\", \"startlinecolor\": \"#2a3f5f\"}, \"type\": \"carpet\"}], \"choropleth\": [{\"colorbar\": {\"outlinewidth\": 0, \"ticks\": \"\"}, \"type\": \"choropleth\"}], \"contour\": [{\"colorbar\": {\"outlinewidth\": 0, \"ticks\": \"\"}, \"colorscale\": [[0.0, \"#0d0887\"], [0.1111111111111111, \"#46039f\"], [0.2222222222222222, \"#7201a8\"], [0.3333333333333333, \"#9c179e\"], [0.4444444444444444, \"#bd3786\"], [0.5555555555555556, \"#d8576b\"], [0.6666666666666666, \"#ed7953\"], [0.7777777777777778, \"#fb9f3a\"], [0.8888888888888888, \"#fdca26\"], [1.0, \"#f0f921\"]], \"type\": \"contour\"}], \"contourcarpet\": [{\"colorbar\": {\"outlinewidth\": 0, \"ticks\": \"\"}, \"type\": \"contourcarpet\"}], \"heatmap\": [{\"colorbar\": {\"outlinewidth\": 0, \"ticks\": \"\"}, \"colorscale\": [[0.0, \"#0d0887\"], [0.1111111111111111, \"#46039f\"], [0.2222222222222222, \"#7201a8\"], [0.3333333333333333, \"#9c179e\"], [0.4444444444444444, \"#bd3786\"], [0.5555555555555556, \"#d8576b\"], [0.6666666666666666, \"#ed7953\"], [0.7777777777777778, \"#fb9f3a\"], [0.8888888888888888, \"#fdca26\"], [1.0, \"#f0f921\"]], \"type\": \"heatmap\"}], \"heatmapgl\": [{\"colorbar\": {\"outlinewidth\": 0, \"ticks\": \"\"}, \"colorscale\": [[0.0, \"#0d0887\"], [0.1111111111111111, \"#46039f\"], [0.2222222222222222, \"#7201a8\"], [0.3333333333333333, \"#9c179e\"], [0.4444444444444444, \"#bd3786\"], [0.5555555555555556, \"#d8576b\"], [0.6666666666666666, \"#ed7953\"], [0.7777777777777778, \"#fb9f3a\"], [0.8888888888888888, \"#fdca26\"], [1.0, \"#f0f921\"]], \"type\": \"heatmapgl\"}], \"histogram\": [{\"marker\": {\"colorbar\": {\"outlinewidth\": 0, \"ticks\": \"\"}}, \"type\": \"histogram\"}], \"histogram2d\": [{\"colorbar\": {\"outlinewidth\": 0, \"ticks\": \"\"}, \"colorscale\": [[0.0, \"#0d0887\"], [0.1111111111111111, \"#46039f\"], [0.2222222222222222, \"#7201a8\"], [0.3333333333333333, \"#9c179e\"], [0.4444444444444444, \"#bd3786\"], [0.5555555555555556, \"#d8576b\"], [0.6666666666666666, \"#ed7953\"], [0.7777777777777778, \"#fb9f3a\"], [0.8888888888888888, \"#fdca26\"], [1.0, \"#f0f921\"]], \"type\": \"histogram2d\"}], \"histogram2dcontour\": [{\"colorbar\": {\"outlinewidth\": 0, \"ticks\": \"\"}, \"colorscale\": [[0.0, \"#0d0887\"], [0.1111111111111111, \"#46039f\"], [0.2222222222222222, \"#7201a8\"], [0.3333333333333333, \"#9c179e\"], [0.4444444444444444, \"#bd3786\"], [0.5555555555555556, \"#d8576b\"], [0.6666666666666666, \"#ed7953\"], [0.7777777777777778, \"#fb9f3a\"], [0.8888888888888888, \"#fdca26\"], [1.0, \"#f0f921\"]], \"type\": \"histogram2dcontour\"}], \"mesh3d\": [{\"colorbar\": {\"outlinewidth\": 0, \"ticks\": \"\"}, \"type\": \"mesh3d\"}], \"parcoords\": [{\"line\": {\"colorbar\": {\"outlinewidth\": 0, \"ticks\": \"\"}}, \"type\": \"parcoords\"}], \"pie\": [{\"automargin\": true, \"type\": \"pie\"}], \"scatter\": [{\"marker\": {\"colorbar\": {\"outlinewidth\": 0, \"ticks\": \"\"}}, \"type\": \"scatter\"}], \"scatter3d\": [{\"line\": {\"colorbar\": {\"outlinewidth\": 0, \"ticks\": \"\"}}, \"marker\": {\"colorbar\": {\"outlinewidth\": 0, \"ticks\": \"\"}}, \"type\": \"scatter3d\"}], \"scattercarpet\": [{\"marker\": {\"colorbar\": {\"outlinewidth\": 0, \"ticks\": \"\"}}, \"type\": \"scattercarpet\"}], \"scattergeo\": [{\"marker\": {\"colorbar\": {\"outlinewidth\": 0, \"ticks\": \"\"}}, \"type\": \"scattergeo\"}], \"scattergl\": [{\"marker\": {\"colorbar\": {\"outlinewidth\": 0, \"ticks\": \"\"}}, \"type\": \"scattergl\"}], \"scattermapbox\": [{\"marker\": {\"colorbar\": {\"outlinewidth\": 0, \"ticks\": \"\"}}, \"type\": \"scattermapbox\"}], \"scatterpolar\": [{\"marker\": {\"colorbar\": {\"outlinewidth\": 0, \"ticks\": \"\"}}, \"type\": \"scatterpolar\"}], \"scatterpolargl\": [{\"marker\": {\"colorbar\": {\"outlinewidth\": 0, \"ticks\": \"\"}}, \"type\": \"scatterpolargl\"}], \"scatterternary\": [{\"marker\": {\"colorbar\": {\"outlinewidth\": 0, \"ticks\": \"\"}}, \"type\": \"scatterternary\"}], \"surface\": [{\"colorbar\": {\"outlinewidth\": 0, \"ticks\": \"\"}, \"colorscale\": [[0.0, \"#0d0887\"], [0.1111111111111111, \"#46039f\"], [0.2222222222222222, \"#7201a8\"], [0.3333333333333333, \"#9c179e\"], [0.4444444444444444, \"#bd3786\"], [0.5555555555555556, \"#d8576b\"], [0.6666666666666666, \"#ed7953\"], [0.7777777777777778, \"#fb9f3a\"], [0.8888888888888888, \"#fdca26\"], [1.0, \"#f0f921\"]], \"type\": \"surface\"}], \"table\": [{\"cells\": {\"fill\": {\"color\": \"#EBF0F8\"}, \"line\": {\"color\": \"white\"}}, \"header\": {\"fill\": {\"color\": \"#C8D4E3\"}, \"line\": {\"color\": \"white\"}}, \"type\": \"table\"}]}, \"layout\": {\"annotationdefaults\": {\"arrowcolor\": \"#2a3f5f\", \"arrowhead\": 0, \"arrowwidth\": 1}, \"coloraxis\": {\"colorbar\": {\"outlinewidth\": 0, \"ticks\": \"\"}}, \"colorscale\": {\"diverging\": [[0, \"#8e0152\"], [0.1, \"#c51b7d\"], [0.2, \"#de77ae\"], [0.3, \"#f1b6da\"], [0.4, \"#fde0ef\"], [0.5, \"#f7f7f7\"], [0.6, \"#e6f5d0\"], [0.7, \"#b8e186\"], [0.8, \"#7fbc41\"], [0.9, \"#4d9221\"], [1, \"#276419\"]], \"sequential\": [[0.0, \"#0d0887\"], [0.1111111111111111, \"#46039f\"], [0.2222222222222222, \"#7201a8\"], [0.3333333333333333, \"#9c179e\"], [0.4444444444444444, \"#bd3786\"], [0.5555555555555556, \"#d8576b\"], [0.6666666666666666, \"#ed7953\"], [0.7777777777777778, \"#fb9f3a\"], [0.8888888888888888, \"#fdca26\"], [1.0, \"#f0f921\"]], \"sequentialminus\": [[0.0, \"#0d0887\"], [0.1111111111111111, \"#46039f\"], [0.2222222222222222, \"#7201a8\"], [0.3333333333333333, \"#9c179e\"], [0.4444444444444444, \"#bd3786\"], [0.5555555555555556, \"#d8576b\"], [0.6666666666666666, \"#ed7953\"], [0.7777777777777778, \"#fb9f3a\"], [0.8888888888888888, \"#fdca26\"], [1.0, \"#f0f921\"]]}, \"colorway\": [\"#636efa\", \"#EF553B\", \"#00cc96\", \"#ab63fa\", \"#FFA15A\", \"#19d3f3\", \"#FF6692\", \"#B6E880\", \"#FF97FF\", \"#FECB52\"], \"font\": {\"color\": \"#2a3f5f\"}, \"geo\": {\"bgcolor\": \"white\", \"lakecolor\": \"white\", \"landcolor\": \"#E5ECF6\", \"showlakes\": true, \"showland\": true, \"subunitcolor\": \"white\"}, \"hoverlabel\": {\"align\": \"left\"}, \"hovermode\": \"closest\", \"mapbox\": {\"style\": \"light\"}, \"paper_bgcolor\": \"white\", \"plot_bgcolor\": \"#E5ECF6\", \"polar\": {\"angularaxis\": {\"gridcolor\": \"white\", \"linecolor\": \"white\", \"ticks\": \"\"}, \"bgcolor\": \"#E5ECF6\", \"radialaxis\": {\"gridcolor\": \"white\", \"linecolor\": \"white\", \"ticks\": \"\"}}, \"scene\": {\"xaxis\": {\"backgroundcolor\": \"#E5ECF6\", \"gridcolor\": \"white\", \"gridwidth\": 2, \"linecolor\": \"white\", \"showbackground\": true, \"ticks\": \"\", \"zerolinecolor\": \"white\"}, \"yaxis\": {\"backgroundcolor\": \"#E5ECF6\", \"gridcolor\": \"white\", \"gridwidth\": 2, \"linecolor\": \"white\", \"showbackground\": true, \"ticks\": \"\", \"zerolinecolor\": \"white\"}, \"zaxis\": {\"backgroundcolor\": \"#E5ECF6\", \"gridcolor\": \"white\", \"gridwidth\": 2, \"linecolor\": \"white\", \"showbackground\": true, \"ticks\": \"\", \"zerolinecolor\": \"white\"}}, \"shapedefaults\": {\"line\": {\"color\": \"#2a3f5f\"}}, \"ternary\": {\"aaxis\": {\"gridcolor\": \"white\", \"linecolor\": \"white\", \"ticks\": \"\"}, \"baxis\": {\"gridcolor\": \"white\", \"linecolor\": \"white\", \"ticks\": \"\"}, \"bgcolor\": \"#E5ECF6\", \"caxis\": {\"gridcolor\": \"white\", \"linecolor\": \"white\", \"ticks\": \"\"}}, \"title\": {\"x\": 0.05}, \"xaxis\": {\"automargin\": true, \"gridcolor\": \"white\", \"linecolor\": \"white\", \"ticks\": \"\", \"title\": {\"standoff\": 15}, \"zerolinecolor\": \"white\", \"zerolinewidth\": 2}, \"yaxis\": {\"automargin\": true, \"gridcolor\": \"white\", \"linecolor\": \"white\", \"ticks\": \"\", \"title\": {\"standoff\": 15}, \"zerolinecolor\": \"white\", \"zerolinewidth\": 2}}}, \"title\": {\"font\": {\"color\": \"#4D5663\"}, \"text\": \"Sentiment label distribution\"}, \"xaxis\": {\"gridcolor\": \"#E1E5ED\", \"linecolor\": \"black\", \"showgrid\": true, \"tickfont\": {\"color\": \"#4D5663\"}, \"title\": {\"font\": {\"color\": \"#4D5663\"}, \"text\": \"rating\"}, \"zerolinecolor\": \"#E1E5ED\"}, \"yaxis\": {\"gridcolor\": \"#E1E5ED\", \"linecolor\": \"black\", \"showgrid\": true, \"tickfont\": {\"color\": \"#4D5663\"}, \"title\": {\"font\": {\"color\": \"#4D5663\"}, \"text\": \"count\"}, \"zerolinecolor\": \"#E1E5ED\"}},\n",
       "                        {\"showLink\": true, \"linkText\": \"Export to plot.ly\", \"plotlyServerURL\": \"https://plot.ly\", \"responsive\": true}\n",
       "                    ).then(function(){\n",
       "                            \n",
       "var gd = document.getElementById('ca49ab2b-96f2-4788-a787-d1f1769549e0');\n",
       "var x = new MutationObserver(function (mutations, observer) {{\n",
       "        var display = window.getComputedStyle(gd).display;\n",
       "        if (!display || display === 'none') {{\n",
       "            console.log([gd, 'removed!']);\n",
       "            Plotly.purge(gd);\n",
       "            observer.disconnect();\n",
       "        }}\n",
       "}});\n",
       "\n",
       "// Listen for the removal of the full notebook cells\n",
       "var notebookContainer = gd.closest('#notebook-container');\n",
       "if (notebookContainer) {{\n",
       "    x.observe(notebookContainer, {childList: true});\n",
       "}}\n",
       "\n",
       "// Listen for the clearing of the current output cell\n",
       "var outputEl = gd.closest('.output');\n",
       "if (outputEl) {{\n",
       "    x.observe(outputEl, {childList: true});\n",
       "}}\n",
       "\n",
       "                        })\n",
       "                };\n",
       "                });\n",
       "            </script>\n",
       "        </div>"
      ]
     },
     "metadata": {},
     "output_type": "display_data"
    }
   ],
   "source": [
    "new_sent_uk_df['label'].iplot(\n",
    "    kind='hist',\n",
    "    bins=3,\n",
    "    xTitle='rating',\n",
    "    linecolor='black',\n",
    "    yTitle='count',\n",
    "    title='Sentiment label distribution')"
   ]
  },
  {
   "cell_type": "markdown",
   "metadata": {},
   "source": [
    "As we can see from the diagram above, it has approximately uniform distribution to avoid overfitiing for one specific label (e.g. pos)"
   ]
  },
  {
   "cell_type": "code",
   "execution_count": 161,
   "metadata": {},
   "outputs": [],
   "source": [
    " X_train, X_test, y_train, y_test = train_test_split(X, y, test_size=0.2, random_state=42)"
   ]
  },
  {
   "cell_type": "markdown",
   "metadata": {},
   "source": [
    "# Bag of words"
   ]
  },
  {
   "cell_type": "code",
   "execution_count": 87,
   "metadata": {},
   "outputs": [],
   "source": [
    "import tokenize_uk\n",
    "from sklearn.feature_extraction.text import CountVectorizer"
   ]
  },
  {
   "cell_type": "code",
   "execution_count": 116,
   "metadata": {},
   "outputs": [],
   "source": [
    "class BagOfWordsFeatureExtractor:\n",
    "    NUM_FEATURES = 5000\n",
    "    \n",
    "    def __init__(self, corpus: List[str], stop_words: List[str] = None):\n",
    "        self.corpus: list[str] = corpus\n",
    "        self.vectorizer = CountVectorizer(analyzer = \"word\", \n",
    "                                          tokenizer = tokenize_uk.tokenize_words, \n",
    "                                          preprocessor = None, \n",
    "                                          stop_words = stop_words, \n",
    "                                          max_features = None) \n",
    "        self.train_data_features = self.vectorizer.fit_transform(self.corpus)\n",
    "        \n",
    "    \n",
    "    def transform(self, text_list: List[str]):\n",
    "        return self.vectorizer.transform(text_list).toarray()"
   ]
  },
  {
   "cell_type": "code",
   "execution_count": 120,
   "metadata": {},
   "outputs": [],
   "source": [
    "bow_feature_extractor = BagOfWordsFeatureExtractor(X)"
   ]
  },
  {
   "cell_type": "code",
   "execution_count": 170,
   "metadata": {},
   "outputs": [
    {
     "data": {
      "text/plain": [
       "array([[0, 0, 0, ..., 0, 0, 0]])"
      ]
     },
     "execution_count": 170,
     "metadata": {},
     "output_type": "execute_result"
    }
   ],
   "source": [
    "bow_feature_extractor.transform([\"Думаю на 2020 це ідеальний вибір.\"])"
   ]
  },
  {
   "cell_type": "code",
   "execution_count": 122,
   "metadata": {},
   "outputs": [
    {
     "data": {
      "text/plain": [
       "7"
      ]
     },
     "execution_count": 122,
     "metadata": {},
     "output_type": "execute_result"
    }
   ],
   "source": [
    "bow_feature_extractor.transform([\"Думаю на 2020 це ідеальний вибір.\"])[0].sum()"
   ]
  },
  {
   "cell_type": "code",
   "execution_count": null,
   "metadata": {},
   "outputs": [],
   "source": []
  },
  {
   "cell_type": "code",
   "execution_count": 182,
   "metadata": {},
   "outputs": [],
   "source": [
    "x_train_features = bow_feature_extractor.transform(X_train)\n",
    "x_test_features = bow_feature_extractor.transform(X_test)"
   ]
  },
  {
   "cell_type": "markdown",
   "metadata": {},
   "source": [
    "# Naive Bayes Classifier"
   ]
  },
  {
   "cell_type": "markdown",
   "metadata": {},
   "source": [
    "#### Gaussian Naive Bayes"
   ]
  },
  {
   "cell_type": "code",
   "execution_count": 179,
   "metadata": {},
   "outputs": [],
   "source": [
    "from sklearn.naive_bayes import GaussianNB\n",
    "from sklearn.metrics import classification_report"
   ]
  },
  {
   "cell_type": "code",
   "execution_count": 167,
   "metadata": {},
   "outputs": [],
   "source": [
    "gnb = GaussianNB()"
   ]
  },
  {
   "cell_type": "code",
   "execution_count": 174,
   "metadata": {},
   "outputs": [
    {
     "data": {
      "text/plain": [
       "GaussianNB(priors=None, var_smoothing=1e-09)"
      ]
     },
     "execution_count": 174,
     "metadata": {},
     "output_type": "execute_result"
    }
   ],
   "source": [
    "gnb.fit(x_train_features, y_train)"
   ]
  },
  {
   "cell_type": "code",
   "execution_count": 177,
   "metadata": {},
   "outputs": [],
   "source": [
    "y_pred = gnb.predict(x_test_features)"
   ]
  },
  {
   "cell_type": "code",
   "execution_count": 180,
   "metadata": {},
   "outputs": [
    {
     "name": "stdout",
     "output_type": "stream",
     "text": [
      "              precision    recall  f1-score   support\n",
      "\n",
      "         neg       0.38      0.43      0.40         7\n",
      "     neutral       0.38      0.33      0.35         9\n",
      "         pos       0.75      0.75      0.75        12\n",
      "\n",
      "    accuracy                           0.54        28\n",
      "   macro avg       0.50      0.50      0.50        28\n",
      "weighted avg       0.54      0.54      0.53        28\n",
      "\n"
     ]
    }
   ],
   "source": [
    "print(classification_report(y_test, y_pred))"
   ]
  },
  {
   "cell_type": "markdown",
   "metadata": {},
   "source": [
    "#### Multinomial Naive Bayes"
   ]
  },
  {
   "cell_type": "code",
   "execution_count": 181,
   "metadata": {},
   "outputs": [],
   "source": [
    "from sklearn.naive_bayes import MultinomialNB"
   ]
  },
  {
   "cell_type": "code",
   "execution_count": 184,
   "metadata": {},
   "outputs": [],
   "source": [
    "multinomial_nb = MultinomialNB().fit(x_train_features, y_train)"
   ]
  },
  {
   "cell_type": "code",
   "execution_count": 185,
   "metadata": {},
   "outputs": [],
   "source": [
    "y_pred = multinomial_nb.predict(x_test_features)"
   ]
  },
  {
   "cell_type": "code",
   "execution_count": 186,
   "metadata": {},
   "outputs": [
    {
     "name": "stdout",
     "output_type": "stream",
     "text": [
      "              precision    recall  f1-score   support\n",
      "\n",
      "         neg       0.30      0.86      0.44         7\n",
      "     neutral       0.00      0.00      0.00         9\n",
      "         pos       0.62      0.42      0.50        12\n",
      "\n",
      "    accuracy                           0.39        28\n",
      "   macro avg       0.31      0.42      0.31        28\n",
      "weighted avg       0.34      0.39      0.33        28\n",
      "\n"
     ]
    },
    {
     "name": "stderr",
     "output_type": "stream",
     "text": [
      "/home/dbabenko/.local/lib/python3.7/site-packages/sklearn/metrics/classification.py:1437: UndefinedMetricWarning:\n",
      "\n",
      "Precision and F-score are ill-defined and being set to 0.0 in labels with no predicted samples.\n",
      "\n"
     ]
    }
   ],
   "source": [
    "print(classification_report(y_test, y_pred))"
   ]
  },
  {
   "cell_type": "code",
   "execution_count": null,
   "metadata": {},
   "outputs": [],
   "source": []
  }
 ],
 "metadata": {
  "kernelspec": {
   "display_name": "Python 3",
   "language": "python",
   "name": "python3"
  },
  "language_info": {
   "codemirror_mode": {
    "name": "ipython",
    "version": 3
   },
   "file_extension": ".py",
   "mimetype": "text/x-python",
   "name": "python",
   "nbconvert_exporter": "python",
   "pygments_lexer": "ipython3",
   "version": "3.7.5"
  }
 },
 "nbformat": 4,
 "nbformat_minor": 2
}
